{
 "cells": [
  {
   "cell_type": "markdown",
   "metadata": {},
   "source": [
    "# Import the dataset"
   ]
  },
  {
   "cell_type": "code",
   "execution_count": 6,
   "metadata": {},
   "outputs": [],
   "source": [
    "import pandas as pd\n",
    "import numpy as np\n",
    "\n",
    "df = pd.read_csv('Customer.csv')"
   ]
  },
  {
   "cell_type": "code",
   "execution_count": 7,
   "metadata": {},
   "outputs": [],
   "source": [
    "df.drop(columns=['domain', 'street1', 'street2', 'zip', 'hq_phone', 'linkedin_url', 'naics_code', 'sic_code'], inplace=True)"
   ]
  },
  {
   "cell_type": "code",
   "execution_count": 8,
   "metadata": {},
   "outputs": [
    {
     "data": {
      "text/html": [
       "<div>\n",
       "<style scoped>\n",
       "    .dataframe tbody tr th:only-of-type {\n",
       "        vertical-align: middle;\n",
       "    }\n",
       "\n",
       "    .dataframe tbody tr th {\n",
       "        vertical-align: top;\n",
       "    }\n",
       "\n",
       "    .dataframe thead th {\n",
       "        text-align: right;\n",
       "    }\n",
       "</style>\n",
       "<table border=\"1\" class=\"dataframe\">\n",
       "  <thead>\n",
       "    <tr style=\"text-align: right;\">\n",
       "      <th></th>\n",
       "      <th>name</th>\n",
       "      <th>city</th>\n",
       "      <th>state</th>\n",
       "      <th>country</th>\n",
       "      <th>company_revenue</th>\n",
       "      <th>company_employee_count</th>\n",
       "      <th>sector</th>\n",
       "      <th>industry</th>\n",
       "      <th>keywords</th>\n",
       "    </tr>\n",
       "  </thead>\n",
       "  <tbody>\n",
       "    <tr>\n",
       "      <th>0</th>\n",
       "      <td>AmerisourceBergen</td>\n",
       "      <td>Chesterbrook</td>\n",
       "      <td>PA</td>\n",
       "      <td>USA</td>\n",
       "      <td>1.675000e+11</td>\n",
       "      <td>12301</td>\n",
       "      <td>Health Care and Social Assistance</td>\n",
       "      <td>Hospitals and Emergency Rooms</td>\n",
       "      <td>NaN</td>\n",
       "    </tr>\n",
       "    <tr>\n",
       "      <th>1</th>\n",
       "      <td>Ascension Health Alliance</td>\n",
       "      <td>Saint Louis</td>\n",
       "      <td>MO</td>\n",
       "      <td>USA</td>\n",
       "      <td>1.982700e+10</td>\n",
       "      <td>52642</td>\n",
       "      <td>Health Care and Social Assistance</td>\n",
       "      <td>Hospitals and Emergency Rooms</td>\n",
       "      <td>technology, healthcare, medical, hospital, hom...</td>\n",
       "    </tr>\n",
       "    <tr>\n",
       "      <th>2</th>\n",
       "      <td>Banner Health</td>\n",
       "      <td>Phoenix</td>\n",
       "      <td>AZ</td>\n",
       "      <td>USA</td>\n",
       "      <td>6.822400e+09</td>\n",
       "      <td>20143</td>\n",
       "      <td>Health Care and Social Assistance</td>\n",
       "      <td>Hospitals and Emergency Rooms</td>\n",
       "      <td>hospital care, hospice care, home care, heart ...</td>\n",
       "    </tr>\n",
       "    <tr>\n",
       "      <th>3</th>\n",
       "      <td>Blue Cross and Blue Shield of Illinois, Montan...</td>\n",
       "      <td>Chicago</td>\n",
       "      <td>IL</td>\n",
       "      <td>USA</td>\n",
       "      <td>1.148890e+10</td>\n",
       "      <td>12771</td>\n",
       "      <td>Health Care and Social Assistance</td>\n",
       "      <td>Hospitals and Emergency Rooms</td>\n",
       "      <td>wellness, insurance, health care</td>\n",
       "    </tr>\n",
       "    <tr>\n",
       "      <th>4</th>\n",
       "      <td>Brigham and Women's Hospital</td>\n",
       "      <td>Boston</td>\n",
       "      <td>MA</td>\n",
       "      <td>USA</td>\n",
       "      <td>7.055400e+09</td>\n",
       "      <td>1200</td>\n",
       "      <td>Health Care and Social Assistance</td>\n",
       "      <td>Hospitals and Emergency Rooms</td>\n",
       "      <td>NaN</td>\n",
       "    </tr>\n",
       "  </tbody>\n",
       "</table>\n",
       "</div>"
      ],
      "text/plain": [
       "                                                name          city state  \\\n",
       "0                                  AmerisourceBergen  Chesterbrook    PA   \n",
       "1                          Ascension Health Alliance   Saint Louis    MO   \n",
       "2                                      Banner Health       Phoenix    AZ   \n",
       "3  Blue Cross and Blue Shield of Illinois, Montan...       Chicago    IL   \n",
       "4                       Brigham and Women's Hospital        Boston    MA   \n",
       "\n",
       "  country  company_revenue  company_employee_count  \\\n",
       "0     USA     1.675000e+11                   12301   \n",
       "1     USA     1.982700e+10                   52642   \n",
       "2     USA     6.822400e+09                   20143   \n",
       "3     USA     1.148890e+10                   12771   \n",
       "4     USA     7.055400e+09                    1200   \n",
       "\n",
       "                              sector                       industry  \\\n",
       "0  Health Care and Social Assistance  Hospitals and Emergency Rooms   \n",
       "1  Health Care and Social Assistance  Hospitals and Emergency Rooms   \n",
       "2  Health Care and Social Assistance  Hospitals and Emergency Rooms   \n",
       "3  Health Care and Social Assistance  Hospitals and Emergency Rooms   \n",
       "4  Health Care and Social Assistance  Hospitals and Emergency Rooms   \n",
       "\n",
       "                                            keywords  \n",
       "0                                                NaN  \n",
       "1  technology, healthcare, medical, hospital, hom...  \n",
       "2  hospital care, hospice care, home care, heart ...  \n",
       "3                   wellness, insurance, health care  \n",
       "4                                                NaN  "
      ]
     },
     "execution_count": 8,
     "metadata": {},
     "output_type": "execute_result"
    }
   ],
   "source": [
    "df.head()"
   ]
  },
  {
   "cell_type": "code",
   "execution_count": 9,
   "metadata": {},
   "outputs": [
    {
     "ename": "AttributeError",
     "evalue": "'DataFrame' object has no attribute 'healthcare'",
     "output_type": "error",
     "traceback": [
      "\u001b[1;31m---------------------------------------------------------------------------\u001b[0m",
      "\u001b[1;31mAttributeError\u001b[0m                            Traceback (most recent call last)",
      "\u001b[1;32m<ipython-input-9-44e3984bd832>\u001b[0m in \u001b[0;36m<module>\u001b[1;34m\u001b[0m\n\u001b[0;32m     14\u001b[0m \u001b[1;31m#     for keyword in keyword_array:\u001b[0m\u001b[1;33m\u001b[0m\u001b[1;33m\u001b[0m\u001b[1;33m\u001b[0m\u001b[0m\n\u001b[0;32m     15\u001b[0m \u001b[1;31m#         df[df.keywords.notnull()].loc[:, keyword] = 1\u001b[0m\u001b[1;33m\u001b[0m\u001b[1;33m\u001b[0m\u001b[1;33m\u001b[0m\u001b[0m\n\u001b[1;32m---> 16\u001b[1;33m \u001b[0mprint\u001b[0m\u001b[1;33m(\u001b[0m\u001b[0mdf\u001b[0m\u001b[1;33m.\u001b[0m\u001b[0mhealthcare\u001b[0m\u001b[1;33m)\u001b[0m\u001b[1;33m\u001b[0m\u001b[1;33m\u001b[0m\u001b[0m\n\u001b[0m",
      "\u001b[1;32mC:\\ProgramData\\Anaconda3\\lib\\site-packages\\pandas\\core\\generic.py\u001b[0m in \u001b[0;36m__getattr__\u001b[1;34m(self, name)\u001b[0m\n\u001b[0;32m   5128\u001b[0m             \u001b[1;32mif\u001b[0m \u001b[0mself\u001b[0m\u001b[1;33m.\u001b[0m\u001b[0m_info_axis\u001b[0m\u001b[1;33m.\u001b[0m\u001b[0m_can_hold_identifiers_and_holds_name\u001b[0m\u001b[1;33m(\u001b[0m\u001b[0mname\u001b[0m\u001b[1;33m)\u001b[0m\u001b[1;33m:\u001b[0m\u001b[1;33m\u001b[0m\u001b[1;33m\u001b[0m\u001b[0m\n\u001b[0;32m   5129\u001b[0m                 \u001b[1;32mreturn\u001b[0m \u001b[0mself\u001b[0m\u001b[1;33m[\u001b[0m\u001b[0mname\u001b[0m\u001b[1;33m]\u001b[0m\u001b[1;33m\u001b[0m\u001b[1;33m\u001b[0m\u001b[0m\n\u001b[1;32m-> 5130\u001b[1;33m             \u001b[1;32mreturn\u001b[0m \u001b[0mobject\u001b[0m\u001b[1;33m.\u001b[0m\u001b[0m__getattribute__\u001b[0m\u001b[1;33m(\u001b[0m\u001b[0mself\u001b[0m\u001b[1;33m,\u001b[0m \u001b[0mname\u001b[0m\u001b[1;33m)\u001b[0m\u001b[1;33m\u001b[0m\u001b[1;33m\u001b[0m\u001b[0m\n\u001b[0m\u001b[0;32m   5131\u001b[0m \u001b[1;33m\u001b[0m\u001b[0m\n\u001b[0;32m   5132\u001b[0m     \u001b[1;32mdef\u001b[0m \u001b[0m__setattr__\u001b[0m\u001b[1;33m(\u001b[0m\u001b[0mself\u001b[0m\u001b[1;33m,\u001b[0m \u001b[0mname\u001b[0m\u001b[1;33m:\u001b[0m \u001b[0mstr\u001b[0m\u001b[1;33m,\u001b[0m \u001b[0mvalue\u001b[0m\u001b[1;33m)\u001b[0m \u001b[1;33m->\u001b[0m \u001b[1;32mNone\u001b[0m\u001b[1;33m:\u001b[0m\u001b[1;33m\u001b[0m\u001b[1;33m\u001b[0m\u001b[0m\n",
      "\u001b[1;31mAttributeError\u001b[0m: 'DataFrame' object has no attribute 'healthcare'"
     ]
    }
   ],
   "source": [
    "keyword_dict = df.keywords[df.keywords.notnull()].to_dict()\n",
    "unique_keywords = {}\n",
    "i = 1\n",
    "for line in keyword_dict.values():\n",
    "    keyword_array = line.split(',')\n",
    "    for keyword in keyword_array:\n",
    "        if keyword not in unique_keywords:\n",
    "            unique_keywords[keyword] = i\n",
    "            i += 1\n",
    "# for keyword in unique_keywords:\n",
    "#     df[keyword] = 0\n",
    "# for line in keyword_dict.values():\n",
    "#     keyword_array = line.split(',')\n",
    "#     for keyword in keyword_array:\n",
    "#         df[df.keywords.notnull()].loc[:, keyword] = 1\n"
   ]
  },
  {
   "cell_type": "code",
   "execution_count": null,
   "metadata": {},
   "outputs": [],
   "source": [
    "df.head()"
   ]
  },
  {
   "cell_type": "code",
   "execution_count": null,
   "metadata": {},
   "outputs": [],
   "source": [
    "import nltk\n",
    "from nltk.tokenize import word_tokenize\n",
    "\n",
    "for row in df.iterrows():\n",
    "    print(row['keywords'])"
   ]
  }
 ],
 "metadata": {
  "kernelspec": {
   "display_name": "Python 3",
   "language": "python",
   "name": "python3"
  },
  "language_info": {
   "codemirror_mode": {
    "name": "ipython",
    "version": 3
   },
   "file_extension": ".py",
   "mimetype": "text/x-python",
   "name": "python",
   "nbconvert_exporter": "python",
   "pygments_lexer": "ipython3",
   "version": "3.7.7"
  }
 },
 "nbformat": 4,
 "nbformat_minor": 4
}
