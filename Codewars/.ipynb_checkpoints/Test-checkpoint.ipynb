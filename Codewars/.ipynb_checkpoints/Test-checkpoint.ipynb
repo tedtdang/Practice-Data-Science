{
 "cells": [
  {
   "cell_type": "raw",
   "id": "7979f4f1-7b31-4efd-b472-2044efae1e39",
   "metadata": {},
   "source": [
    "%reload_ext lab_black"
   ]
  },
  {
   "cell_type": "code",
   "execution_count": 31,
   "id": "6f269c47-9eac-4642-8381-e59c1f76a741",
   "metadata": {
    "tags": []
   },
   "outputs": [],
   "source": [
    "# https://www.codewars.com/kata/5b2c2c95b6989da552000120/train/python\n",
    "\n",
    "\n",
    "def to_shift(cur_row, cur_col, moves):\n",
    "    ud = cur_row + 1 if cur_row < 3 else 5 - cur_row\n",
    "    lr = cur_col if cur_col < 5 else 8 - cur_row\n",
    "    print(f\"Move to SHIFT up /down: {ud} moves\")\n",
    "    print(f\"Move to SHIFT l /r: {lr} moves\")\n",
    "    moves += ud + lr + 1\n",
    "    cur_row = 5\n",
    "    cur_col = 0\n",
    "    print(f\"Moves: {moves}\")\n",
    "    return cur_row, cur_col, moves\n",
    "\n",
    "\n",
    "def to_space(cur_row, cur_col, moves):\n",
    "    ud = cur_row + 1 if cur_row < 3 else 5 - cur_row\n",
    "    lr = abs(cur_col - 1) if abs(cur_col - 1) < 5 else 8 - (abs(cur_col - 1))\n",
    "    moves += ud + lr + 1\n",
    "    print(f\"Move to SPACE up /down: {abs(min(5 - cur_row, cur_row - 1))} moves\")\n",
    "    print(f\"Move to SPACE l /r: {min(abs(1 - cur_col), abs(cur_row - 5))} moves\")\n",
    "    cur_row = 5\n",
    "    cur_col = 1\n",
    "    print(f\"Moves: {moves}\")\n",
    "    return cur_row, cur_col, moves\n",
    "\n",
    "\n",
    "def to_char(cur_row, cur_col, moves, char, table, upper):\n",
    "    print(f\"Char: {char}\")\n",
    "    if not upper:\n",
    "        if char.isupper():\n",
    "            cur_row, cur_col, moves = to_shift(cur_row, cur_col, moves)\n",
    "            upper = True\n",
    "            char = char.lower()\n",
    "        for i, v in enumerate(table):\n",
    "            if char in v:\n",
    "                print(f'i: {i}, cur_row: {cur_row}')\n",
    "                ud = abs(i - cur_row) if abs(i - cur_row) <= 3 else abs(6 - abs(i - cur_row))\n",
    "                lr = abs(v.index(char) - cur_col) if abs(v.index(char) - cur_col) < 5 else abs(v.index(char) - 8 + cur_col)\n",
    "                print(f'ud: {ud}, lr: {lr}')\n",
    "                moves += ud + lr + 1\n",
    "                cur_row = i\n",
    "                cur_col = v.index(char)\n",
    "                break\n",
    "    else:\n",
    "        if char.islower():\n",
    "            cur_row, cur_col, moves = to_shift(cur_row, cur_col, moves)\n",
    "            upper = False\n",
    "        else:\n",
    "            char = char.lower()\n",
    "        for i, v in enumerate(table):\n",
    "            if char in v:\n",
    "                print(f'i: {i}, cur_row: {cur_row}')\n",
    "                ud = abs(i - cur_row) if abs(i - cur_row) <= 3 else abs(6 - abs(i - cur_row))\n",
    "                lr = abs(v.index(char) - cur_col) if abs(v.index(char) - cur_col) < 5 else abs(v.index(char) - 8 + cur_col)\n",
    "                print(f'ud: {ud}, lr: {lr}')\n",
    "                moves += ud + lr + 1\n",
    "                cur_row = i\n",
    "                cur_col = v.index(char)\n",
    "                break\n",
    "    print(f\"Moves: {moves}\")\n",
    "    return cur_row, cur_col, moves, upper\n",
    "\n",
    "\n",
    "def tv_remote(word):\n",
    "    print(word)\n",
    "    cur_row = cur_col = moves = 0\n",
    "    table = [\"abcde123\", \"fghij456\", \"klmno789\", \"pqrst.@0\", \"uvwxyz_/\"]\n",
    "    upper = False\n",
    "    for char in word:\n",
    "        if char.isspace():\n",
    "            cur_row, cur_col, moves = to_space(cur_row, cur_col, moves)\n",
    "        else:\n",
    "            cur_row, cur_col, moves, upper = to_char(\n",
    "                cur_row, cur_col, moves, char, table, upper\n",
    "            )\n",
    "        print()\n",
    "    return moves"
   ]
  },
  {
   "cell_type": "code",
   "execution_count": 32,
   "id": "d497740e-98c0-47f4-af75-8e261abd8e5e",
   "metadata": {},
   "outputs": [
    {
     "name": "stdout",
     "output_type": "stream",
     "text": [
      "rtJZ4tz \n",
      "Char: r\n",
      "i: 3, cur_row: 0\n",
      "ud: 3, lr: 2\n",
      "Moves: 6\n",
      "\n",
      "Char: t\n",
      "i: 3, cur_row: 3\n",
      "ud: 0, lr: 2\n",
      "Moves: 9\n",
      "\n",
      "Char: J\n",
      "Move to SHIFT up /down: 2 moves\n",
      "Move to SHIFT l /r: 4 moves\n",
      "Moves: 16\n",
      "i: 1, cur_row: 5\n",
      "ud: 2, lr: 4\n",
      "Moves: 23\n",
      "\n",
      "Char: Z\n",
      "i: 4, cur_row: 1\n",
      "ud: 3, lr: 1\n",
      "Moves: 28\n",
      "\n",
      "Char: 4\n",
      "i: 1, cur_row: 4\n",
      "ud: 3, lr: 0\n",
      "Moves: 32\n",
      "\n",
      "Char: t\n",
      "Move to SHIFT up /down: 2 moves\n",
      "Move to SHIFT l /r: 7 moves\n",
      "Moves: 42\n",
      "i: 3, cur_row: 5\n",
      "ud: 2, lr: 4\n",
      "Moves: 49\n",
      "\n",
      "Char: z\n",
      "i: 4, cur_row: 3\n",
      "ud: 1, lr: 1\n",
      "Moves: 52\n",
      "\n",
      "Move to SPACE up /down: 1 moves\n",
      "Move to SPACE l /r: 1 moves\n",
      "Moves: 58\n",
      "\n"
     ]
    },
    {
     "data": {
      "text/plain": [
       "58"
      ]
     },
     "execution_count": 32,
     "metadata": {},
     "output_type": "execute_result"
    }
   ],
   "source": [
    "tv_remote(\"rtJZ4tz \") # Should be 54"
   ]
  },
  {
   "cell_type": "code",
   "execution_count": null,
   "id": "4788a9de-ae53-4b2a-8a55-ec915c8ad80d",
   "metadata": {},
   "outputs": [],
   "source": []
  }
 ],
 "metadata": {
  "kernelspec": {
   "display_name": "Python 3 (ipykernel)",
   "language": "python",
   "name": "python3"
  },
  "language_info": {
   "codemirror_mode": {
    "name": "ipython",
    "version": 3
   },
   "file_extension": ".py",
   "mimetype": "text/x-python",
   "name": "python",
   "nbconvert_exporter": "python",
   "pygments_lexer": "ipython3",
   "version": "3.9.6"
  }
 },
 "nbformat": 4,
 "nbformat_minor": 5
}
