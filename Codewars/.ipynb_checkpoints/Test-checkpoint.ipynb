{
 "cells": [
  {
   "cell_type": "code",
   "execution_count": 1,
   "id": "4119c639-2810-4e2b-bba4-dcb9de581370",
   "metadata": {},
   "outputs": [],
   "source": [
    "%reload_ext lab_black"
   ]
  },
  {
   "cell_type": "code",
   "execution_count": 4,
   "id": "d78bcbb5-777c-42d7-9693-ff7ac50bfe42",
   "metadata": {},
   "outputs": [
    {
     "name": "stdout",
     "output_type": "stream",
     "text": [
      "Char: D\n",
      "upper: False\n",
      "In to_shift: moves = 6\n",
      "In not upper and char is upper: 6, 5, 0\n",
      "Inside not upper and char.isupper: Char: d\n",
      "Moves in to_char 15\n",
      "Char: O\n",
      "upper: True\n",
      "Char: E\n",
      "upper: True\n",
      "Char: S\n",
      "upper: True\n",
      "15\n"
     ]
    }
   ],
   "source": [
    "# https://www.codewars.com/kata/5b277e94b6989dd1d9000009/train/python\n",
    "\n",
    "\n",
    "def to_shift(cur_row, cur_col, moves):\n",
    "    moves += 5 - cur_row\n",
    "    moves += cur_col\n",
    "    moves += 1\n",
    "    cur_row = 5\n",
    "    cur_col = 0\n",
    "    print(f\"In to_shift: moves = {moves}\")\n",
    "    return cur_row, cur_col, moves\n",
    "\n",
    "\n",
    "def to_space(cur_row, cur_col, moves):\n",
    "    moves += 5 - cur_row\n",
    "    moves += abs(1 - cur_col)\n",
    "    moves += 1\n",
    "    cur_row = 5\n",
    "    cur_col = 1\n",
    "    print(f\"In to_space: moves = {moves}\")\n",
    "    return cur_row, cur_col, moves\n",
    "\n",
    "\n",
    "def to_char(cur_row, cur_col, moves, char, table, upper):\n",
    "    print(f\"Char: {char}\")\n",
    "    print(f\"upper: {upper}\")\n",
    "    if not upper:\n",
    "        if char.isupper():\n",
    "            cur_row, cur_col, moves = to_shift(cur_row, cur_col, moves)\n",
    "            print(f\"In not upper and char is upper: {moves}, {cur_row}, {cur_col}\")\n",
    "            upper = True\n",
    "            char = char.lower()\n",
    "        for i, v in enumerate(table):\n",
    "            if char in v:\n",
    "                moves += abs(i - cur_row)\n",
    "                moves += abs(v.index(char) - cur_col)\n",
    "                moves += 1\n",
    "                print(f\"Moves in to_char {moves}\")\n",
    "                cur_row = i\n",
    "                cur_col = v.index(char)\n",
    "                break\n",
    "    else:\n",
    "        if char.islower():\n",
    "            cur_row, cur_col, moves = to_shift(cur_row, cur_col, moves)\n",
    "            print(f\"In upper and char is lower: {moves}, {cur_row}, {cur_col}\")\n",
    "            upper = False\n",
    "        for i, v in enumerate(table):\n",
    "            if char in v:\n",
    "                moves += abs(i - cur_row)\n",
    "                moves += abs(v.index(char) - cur_col)\n",
    "                moves += 1\n",
    "                print(f\"Moves in to_char {moves}\")\n",
    "                cur_row = i\n",
    "                cur_col = v.index(char)\n",
    "                break\n",
    "    return cur_row, cur_col, moves, upper\n",
    "\n",
    "\n",
    "def tv_remote(word):\n",
    "    cur_row = cur_col = moves = 0\n",
    "    table = [\"abcde123\", \"fghij456\", \"klmno789\", \"pqrst.@0\", \"uvwxyz_/\"]\n",
    "    upper = False\n",
    "    for char in word:\n",
    "        if char.isspace():\n",
    "            cur_row, cur_col, moves = to_space(cur_row, cur_col, moves)\n",
    "        else:\n",
    "            cur_row, cur_col, moves, upper = to_char(\n",
    "                cur_row, cur_col, moves, char, table, upper\n",
    "            )\n",
    "    return moves\n",
    "\n",
    "\n",
    "print(tv_remote(\"DOES\"))"
   ]
  },
  {
   "cell_type": "code",
   "execution_count": null,
   "id": "00f3015e-cb6a-4ffd-9500-f35f8e72ac5e",
   "metadata": {},
   "outputs": [],
   "source": []
  }
 ],
 "metadata": {
  "kernelspec": {
   "display_name": "Python 3 (ipykernel)",
   "language": "python",
   "name": "python3"
  },
  "language_info": {
   "codemirror_mode": {
    "name": "ipython",
    "version": 3
   },
   "file_extension": ".py",
   "mimetype": "text/x-python",
   "name": "python",
   "nbconvert_exporter": "python",
   "pygments_lexer": "ipython3",
   "version": "3.9.6"
  }
 },
 "nbformat": 4,
 "nbformat_minor": 5
}
