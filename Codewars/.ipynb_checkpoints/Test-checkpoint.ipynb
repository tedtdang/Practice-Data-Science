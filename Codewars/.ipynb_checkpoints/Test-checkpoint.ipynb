{
 "cells": [
  {
   "cell_type": "code",
   "execution_count": 1,
   "id": "d249f406-7ded-455a-b951-6388aebcb94d",
   "metadata": {},
   "outputs": [],
   "source": [
    "%load_ext lab_black"
   ]
  },
  {
   "cell_type": "code",
   "execution_count": 59,
   "id": "26f0906b-04b6-44bd-853f-19f347e208a0",
   "metadata": {},
   "outputs": [],
   "source": [
    "def balanced_num(number):\n",
    "    n = str(number)\n",
    "    half = (len(n) - 1) // 2\n",
    "    if len(n) < 3 or sum(map(int, n[:half])) == sum(map(int, n[-half:])):\n",
    "        return 'Balanced'\n",
    "    return 'Not Balanced'"
   ]
  },
  {
   "cell_type": "code",
   "execution_count": 60,
   "id": "c1a750d8-e6b1-4459-88a4-1d3d7771bda7",
   "metadata": {},
   "outputs": [
    {
     "data": {
      "text/plain": [
       "'Balanced'"
      ]
     },
     "execution_count": 60,
     "metadata": {},
     "output_type": "execute_result"
    }
   ],
   "source": [
    "balanced_num(56239814)"
   ]
  },
  {
   "cell_type": "code",
   "execution_count": null,
   "id": "f79ea5ce-edeb-45e6-8e05-bf285583a587",
   "metadata": {},
   "outputs": [],
   "source": []
  }
 ],
 "metadata": {
  "kernelspec": {
   "display_name": "Python 3",
   "language": "python",
   "name": "python3"
  },
  "language_info": {
   "codemirror_mode": {
    "name": "ipython",
    "version": 3
   },
   "file_extension": ".py",
   "mimetype": "text/x-python",
   "name": "python",
   "nbconvert_exporter": "python",
   "pygments_lexer": "ipython3",
   "version": "3.8.10"
  }
 },
 "nbformat": 4,
 "nbformat_minor": 5
}
