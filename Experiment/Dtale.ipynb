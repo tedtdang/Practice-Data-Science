{
 "cells": [
  {
   "cell_type": "code",
   "execution_count": 2,
   "id": "0d2ba025-9e94-4069-ad59-429f2652f5e4",
   "metadata": {
    "tags": [],
    "ExecuteTime": {
     "end_time": "2023-06-09T15:18:20.310075500Z",
     "start_time": "2023-06-09T15:18:17.684466500Z"
    }
   },
   "outputs": [],
   "source": [
    "import dtale\n",
    "import polars as pl\n",
    "from pycaret.datasets import get_data\n",
    "\n",
    "\n",
    "df = pl.read_csv('Soccer players.csv').to_pandas()\n",
    "vis_df = dtale.show(df)\n",
    "vis_df.open_browser()"
   ]
  }
 ],
 "metadata": {
  "kernelspec": {
   "name": "python3",
   "language": "python",
   "display_name": "Python 3 (ipykernel)"
  },
  "language_info": {
   "codemirror_mode": {
    "name": "ipython",
    "version": 3
   },
   "file_extension": ".py",
   "mimetype": "text/x-python",
   "name": "python",
   "nbconvert_exporter": "python",
   "pygments_lexer": "ipython3",
   "version": "3.10.11"
  }
 },
 "nbformat": 4,
 "nbformat_minor": 5
}
