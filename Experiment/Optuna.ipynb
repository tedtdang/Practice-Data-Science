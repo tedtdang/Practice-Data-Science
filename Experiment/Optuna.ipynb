{
 "cells": [
  {
   "cell_type": "code",
   "execution_count": 1,
   "outputs": [],
   "source": [
    "import pandas as pd\n",
    "\n",
    "# X_train = pd.read_pickle('wine_X_train.pkl')\n",
    "# X_test = pd.read_pickle('wine_X_test.pkl')\n",
    "# y_train = pd.read_pickle('wine_y_train.pkl')\n",
    "# y_test = pd.read_pickle('wine_y_test.pkl')\n",
    "X = pd.read_pickle('wine_X.pkl')\n",
    "y = pd.read_pickle('wine_y.pkl')"
   ],
   "metadata": {
    "collapsed": false,
    "ExecuteTime": {
     "end_time": "2023-06-12T17:15:13.201958300Z",
     "start_time": "2023-06-12T17:15:12.696643Z"
    }
   }
  },
  {
   "cell_type": "code",
   "execution_count": 2,
   "outputs": [],
   "source": [
    "from sklearn.preprocessing import LabelEncoder\n",
    "le = LabelEncoder()\n",
    "y = le.fit_transform(y)"
   ],
   "metadata": {
    "collapsed": false,
    "ExecuteTime": {
     "end_time": "2023-06-12T17:15:13.856121800Z",
     "start_time": "2023-06-12T17:15:13.203957900Z"
    }
   }
  },
  {
   "attachments": {},
   "cell_type": "markdown",
   "metadata": {},
   "source": [
    "### Searched model with Optuna and cross validation"
   ]
  },
  {
   "cell_type": "code",
   "execution_count": 3,
   "outputs": [
    {
     "name": "stderr",
     "output_type": "stream",
     "text": [
      "\u001B[32m[I 2023-06-12 12:15:14,337]\u001B[0m A new study created in memory with name: no-name-ed2090ba-2d94-475e-9f87-687768ff1c9d\u001B[0m\n",
      "C:\\Users\\My Computer\\AppData\\Local\\Temp\\ipykernel_18364\\842082380.py:14: FutureWarning: suggest_loguniform has been deprecated in v3.0.0. This feature will be removed in v6.0.0. See https://github.com/optuna/optuna/releases/tag/v3.0.0. Use :func:`~optuna.trial.Trial.suggest_float` instead.\n",
      "  'learning_rate': trial.suggest_loguniform('learning_rate', 0.001, 0.1),\n",
      "C:\\Users\\My Computer\\AppData\\Local\\Temp\\ipykernel_18364\\842082380.py:15: FutureWarning: suggest_uniform has been deprecated in v3.0.0. This feature will be removed in v6.0.0. See https://github.com/optuna/optuna/releases/tag/v3.0.0. Use :func:`~optuna.trial.Trial.suggest_float` instead.\n",
      "  'subsample': trial.suggest_uniform('subsample', 0.5, 1),\n",
      "C:\\Users\\My Computer\\AppData\\Local\\Temp\\ipykernel_18364\\842082380.py:16: FutureWarning: suggest_uniform has been deprecated in v3.0.0. This feature will be removed in v6.0.0. See https://github.com/optuna/optuna/releases/tag/v3.0.0. Use :func:`~optuna.trial.Trial.suggest_float` instead.\n",
      "  'colsample_bytree': trial.suggest_uniform('colsample_bytree', 0.5, 1),\n",
      "C:\\Users\\My Computer\\AppData\\Local\\Temp\\ipykernel_18364\\842082380.py:17: FutureWarning: suggest_loguniform has been deprecated in v3.0.0. This feature will be removed in v6.0.0. See https://github.com/optuna/optuna/releases/tag/v3.0.0. Use :func:`~optuna.trial.Trial.suggest_float` instead.\n",
      "  'reg_alpha': trial.suggest_loguniform('reg_alpha', 1e-8, 1.0),\n",
      "C:\\Users\\My Computer\\AppData\\Local\\Temp\\ipykernel_18364\\842082380.py:18: FutureWarning: suggest_loguniform has been deprecated in v3.0.0. This feature will be removed in v6.0.0. See https://github.com/optuna/optuna/releases/tag/v3.0.0. Use :func:`~optuna.trial.Trial.suggest_float` instead.\n",
      "  'reg_lambda': trial.suggest_loguniform('reg_lambda', 1e-8, 1.0),\n",
      "C:\\Users\\My Computer\\AppData\\Local\\Temp\\ipykernel_18364\\842082380.py:20: FutureWarning: suggest_loguniform has been deprecated in v3.0.0. This feature will be removed in v6.0.0. See https://github.com/optuna/optuna/releases/tag/v3.0.0. Use :func:`~optuna.trial.Trial.suggest_float` instead.\n",
      "  'gamma': trial.suggest_loguniform('gamma', 1e-8, 1.0),\n",
      "\u001B[32m[I 2023-06-12 12:15:18,039]\u001B[0m Trial 0 finished with value: 0.5666027847309136 and parameters: {'n_estimators': 117, 'max_depth': 4, 'learning_rate': 0.07001376232215462, 'subsample': 0.96701076534418, 'colsample_bytree': 0.6044429663668593, 'reg_alpha': 2.6416119362463814e-05, 'reg_lambda': 0.0002579278486191841, 'min_child_weight': 155, 'gamma': 1.4978831428259934e-06}. Best is trial 0 with value: 0.5666027847309136.\u001B[0m\n",
      "C:\\Users\\My Computer\\AppData\\Local\\Temp\\ipykernel_18364\\842082380.py:14: FutureWarning: suggest_loguniform has been deprecated in v3.0.0. This feature will be removed in v6.0.0. See https://github.com/optuna/optuna/releases/tag/v3.0.0. Use :func:`~optuna.trial.Trial.suggest_float` instead.\n",
      "  'learning_rate': trial.suggest_loguniform('learning_rate', 0.001, 0.1),\n",
      "C:\\Users\\My Computer\\AppData\\Local\\Temp\\ipykernel_18364\\842082380.py:15: FutureWarning: suggest_uniform has been deprecated in v3.0.0. This feature will be removed in v6.0.0. See https://github.com/optuna/optuna/releases/tag/v3.0.0. Use :func:`~optuna.trial.Trial.suggest_float` instead.\n",
      "  'subsample': trial.suggest_uniform('subsample', 0.5, 1),\n",
      "C:\\Users\\My Computer\\AppData\\Local\\Temp\\ipykernel_18364\\842082380.py:16: FutureWarning: suggest_uniform has been deprecated in v3.0.0. This feature will be removed in v6.0.0. See https://github.com/optuna/optuna/releases/tag/v3.0.0. Use :func:`~optuna.trial.Trial.suggest_float` instead.\n",
      "  'colsample_bytree': trial.suggest_uniform('colsample_bytree', 0.5, 1),\n",
      "C:\\Users\\My Computer\\AppData\\Local\\Temp\\ipykernel_18364\\842082380.py:17: FutureWarning: suggest_loguniform has been deprecated in v3.0.0. This feature will be removed in v6.0.0. See https://github.com/optuna/optuna/releases/tag/v3.0.0. Use :func:`~optuna.trial.Trial.suggest_float` instead.\n",
      "  'reg_alpha': trial.suggest_loguniform('reg_alpha', 1e-8, 1.0),\n",
      "C:\\Users\\My Computer\\AppData\\Local\\Temp\\ipykernel_18364\\842082380.py:18: FutureWarning: suggest_loguniform has been deprecated in v3.0.0. This feature will be removed in v6.0.0. See https://github.com/optuna/optuna/releases/tag/v3.0.0. Use :func:`~optuna.trial.Trial.suggest_float` instead.\n",
      "  'reg_lambda': trial.suggest_loguniform('reg_lambda', 1e-8, 1.0),\n",
      "C:\\Users\\My Computer\\AppData\\Local\\Temp\\ipykernel_18364\\842082380.py:20: FutureWarning: suggest_loguniform has been deprecated in v3.0.0. This feature will be removed in v6.0.0. See https://github.com/optuna/optuna/releases/tag/v3.0.0. Use :func:`~optuna.trial.Trial.suggest_float` instead.\n",
      "  'gamma': trial.suggest_loguniform('gamma', 1e-8, 1.0),\n",
      "\u001B[32m[I 2023-06-12 12:15:19,531]\u001B[0m Trial 1 finished with value: 0.4258909574468085 and parameters: {'n_estimators': 456, 'max_depth': 7, 'learning_rate': 0.0021621947378432527, 'subsample': 0.6329786443702463, 'colsample_bytree': 0.8191689614740021, 'reg_alpha': 0.004718560703157664, 'reg_lambda': 1.711503365169053e-06, 'min_child_weight': 108, 'gamma': 8.856721779956428e-08}. Best is trial 0 with value: 0.5666027847309136.\u001B[0m\n",
      "C:\\Users\\My Computer\\AppData\\Local\\Temp\\ipykernel_18364\\842082380.py:14: FutureWarning: suggest_loguniform has been deprecated in v3.0.0. This feature will be removed in v6.0.0. See https://github.com/optuna/optuna/releases/tag/v3.0.0. Use :func:`~optuna.trial.Trial.suggest_float` instead.\n",
      "  'learning_rate': trial.suggest_loguniform('learning_rate', 0.001, 0.1),\n",
      "C:\\Users\\My Computer\\AppData\\Local\\Temp\\ipykernel_18364\\842082380.py:15: FutureWarning: suggest_uniform has been deprecated in v3.0.0. This feature will be removed in v6.0.0. See https://github.com/optuna/optuna/releases/tag/v3.0.0. Use :func:`~optuna.trial.Trial.suggest_float` instead.\n",
      "  'subsample': trial.suggest_uniform('subsample', 0.5, 1),\n",
      "C:\\Users\\My Computer\\AppData\\Local\\Temp\\ipykernel_18364\\842082380.py:16: FutureWarning: suggest_uniform has been deprecated in v3.0.0. This feature will be removed in v6.0.0. See https://github.com/optuna/optuna/releases/tag/v3.0.0. Use :func:`~optuna.trial.Trial.suggest_float` instead.\n",
      "  'colsample_bytree': trial.suggest_uniform('colsample_bytree', 0.5, 1),\n",
      "C:\\Users\\My Computer\\AppData\\Local\\Temp\\ipykernel_18364\\842082380.py:17: FutureWarning: suggest_loguniform has been deprecated in v3.0.0. This feature will be removed in v6.0.0. See https://github.com/optuna/optuna/releases/tag/v3.0.0. Use :func:`~optuna.trial.Trial.suggest_float` instead.\n",
      "  'reg_alpha': trial.suggest_loguniform('reg_alpha', 1e-8, 1.0),\n",
      "C:\\Users\\My Computer\\AppData\\Local\\Temp\\ipykernel_18364\\842082380.py:18: FutureWarning: suggest_loguniform has been deprecated in v3.0.0. This feature will be removed in v6.0.0. See https://github.com/optuna/optuna/releases/tag/v3.0.0. Use :func:`~optuna.trial.Trial.suggest_float` instead.\n",
      "  'reg_lambda': trial.suggest_loguniform('reg_lambda', 1e-8, 1.0),\n",
      "C:\\Users\\My Computer\\AppData\\Local\\Temp\\ipykernel_18364\\842082380.py:20: FutureWarning: suggest_loguniform has been deprecated in v3.0.0. This feature will be removed in v6.0.0. See https://github.com/optuna/optuna/releases/tag/v3.0.0. Use :func:`~optuna.trial.Trial.suggest_float` instead.\n",
      "  'gamma': trial.suggest_loguniform('gamma', 1e-8, 1.0),\n",
      "\u001B[32m[I 2023-06-12 12:15:20,989]\u001B[0m Trial 2 finished with value: 0.006253911138923655 and parameters: {'n_estimators': 463, 'max_depth': 3, 'learning_rate': 0.024121499718765867, 'subsample': 0.9199811739918224, 'colsample_bytree': 0.8467556031967647, 'reg_alpha': 0.04828165059036552, 'reg_lambda': 0.00890320740239073, 'min_child_weight': 275, 'gamma': 2.9352887529481765e-05}. Best is trial 0 with value: 0.5666027847309136.\u001B[0m\n",
      "C:\\Users\\My Computer\\AppData\\Local\\Temp\\ipykernel_18364\\842082380.py:14: FutureWarning: suggest_loguniform has been deprecated in v3.0.0. This feature will be removed in v6.0.0. See https://github.com/optuna/optuna/releases/tag/v3.0.0. Use :func:`~optuna.trial.Trial.suggest_float` instead.\n",
      "  'learning_rate': trial.suggest_loguniform('learning_rate', 0.001, 0.1),\n",
      "C:\\Users\\My Computer\\AppData\\Local\\Temp\\ipykernel_18364\\842082380.py:15: FutureWarning: suggest_uniform has been deprecated in v3.0.0. This feature will be removed in v6.0.0. See https://github.com/optuna/optuna/releases/tag/v3.0.0. Use :func:`~optuna.trial.Trial.suggest_float` instead.\n",
      "  'subsample': trial.suggest_uniform('subsample', 0.5, 1),\n",
      "C:\\Users\\My Computer\\AppData\\Local\\Temp\\ipykernel_18364\\842082380.py:16: FutureWarning: suggest_uniform has been deprecated in v3.0.0. This feature will be removed in v6.0.0. See https://github.com/optuna/optuna/releases/tag/v3.0.0. Use :func:`~optuna.trial.Trial.suggest_float` instead.\n",
      "  'colsample_bytree': trial.suggest_uniform('colsample_bytree', 0.5, 1),\n",
      "C:\\Users\\My Computer\\AppData\\Local\\Temp\\ipykernel_18364\\842082380.py:17: FutureWarning: suggest_loguniform has been deprecated in v3.0.0. This feature will be removed in v6.0.0. See https://github.com/optuna/optuna/releases/tag/v3.0.0. Use :func:`~optuna.trial.Trial.suggest_float` instead.\n",
      "  'reg_alpha': trial.suggest_loguniform('reg_alpha', 1e-8, 1.0),\n",
      "C:\\Users\\My Computer\\AppData\\Local\\Temp\\ipykernel_18364\\842082380.py:18: FutureWarning: suggest_loguniform has been deprecated in v3.0.0. This feature will be removed in v6.0.0. See https://github.com/optuna/optuna/releases/tag/v3.0.0. Use :func:`~optuna.trial.Trial.suggest_float` instead.\n",
      "  'reg_lambda': trial.suggest_loguniform('reg_lambda', 1e-8, 1.0),\n",
      "C:\\Users\\My Computer\\AppData\\Local\\Temp\\ipykernel_18364\\842082380.py:20: FutureWarning: suggest_loguniform has been deprecated in v3.0.0. This feature will be removed in v6.0.0. See https://github.com/optuna/optuna/releases/tag/v3.0.0. Use :func:`~optuna.trial.Trial.suggest_float` instead.\n",
      "  'gamma': trial.suggest_loguniform('gamma', 1e-8, 1.0),\n",
      "\u001B[32m[I 2023-06-12 12:15:24,089]\u001B[0m Trial 3 finished with value: 0.5853629536921151 and parameters: {'n_estimators': 478, 'max_depth': 8, 'learning_rate': 0.001037255605763748, 'subsample': 0.899097034608521, 'colsample_bytree': 0.6411428032507294, 'reg_alpha': 2.3907474666825727e-07, 'reg_lambda': 1.49817087524653e-07, 'min_child_weight': 32, 'gamma': 7.680331213467244e-05}. Best is trial 3 with value: 0.5853629536921151.\u001B[0m\n",
      "C:\\Users\\My Computer\\AppData\\Local\\Temp\\ipykernel_18364\\842082380.py:14: FutureWarning: suggest_loguniform has been deprecated in v3.0.0. This feature will be removed in v6.0.0. See https://github.com/optuna/optuna/releases/tag/v3.0.0. Use :func:`~optuna.trial.Trial.suggest_float` instead.\n",
      "  'learning_rate': trial.suggest_loguniform('learning_rate', 0.001, 0.1),\n",
      "C:\\Users\\My Computer\\AppData\\Local\\Temp\\ipykernel_18364\\842082380.py:15: FutureWarning: suggest_uniform has been deprecated in v3.0.0. This feature will be removed in v6.0.0. See https://github.com/optuna/optuna/releases/tag/v3.0.0. Use :func:`~optuna.trial.Trial.suggest_float` instead.\n",
      "  'subsample': trial.suggest_uniform('subsample', 0.5, 1),\n",
      "C:\\Users\\My Computer\\AppData\\Local\\Temp\\ipykernel_18364\\842082380.py:16: FutureWarning: suggest_uniform has been deprecated in v3.0.0. This feature will be removed in v6.0.0. See https://github.com/optuna/optuna/releases/tag/v3.0.0. Use :func:`~optuna.trial.Trial.suggest_float` instead.\n",
      "  'colsample_bytree': trial.suggest_uniform('colsample_bytree', 0.5, 1),\n",
      "C:\\Users\\My Computer\\AppData\\Local\\Temp\\ipykernel_18364\\842082380.py:17: FutureWarning: suggest_loguniform has been deprecated in v3.0.0. This feature will be removed in v6.0.0. See https://github.com/optuna/optuna/releases/tag/v3.0.0. Use :func:`~optuna.trial.Trial.suggest_float` instead.\n",
      "  'reg_alpha': trial.suggest_loguniform('reg_alpha', 1e-8, 1.0),\n",
      "C:\\Users\\My Computer\\AppData\\Local\\Temp\\ipykernel_18364\\842082380.py:18: FutureWarning: suggest_loguniform has been deprecated in v3.0.0. This feature will be removed in v6.0.0. See https://github.com/optuna/optuna/releases/tag/v3.0.0. Use :func:`~optuna.trial.Trial.suggest_float` instead.\n",
      "  'reg_lambda': trial.suggest_loguniform('reg_lambda', 1e-8, 1.0),\n",
      "C:\\Users\\My Computer\\AppData\\Local\\Temp\\ipykernel_18364\\842082380.py:20: FutureWarning: suggest_loguniform has been deprecated in v3.0.0. This feature will be removed in v6.0.0. See https://github.com/optuna/optuna/releases/tag/v3.0.0. Use :func:`~optuna.trial.Trial.suggest_float` instead.\n",
      "  'gamma': trial.suggest_loguniform('gamma', 1e-8, 1.0),\n",
      "\u001B[32m[I 2023-06-12 12:15:25,508]\u001B[0m Trial 4 finished with value: 0.006253911138923655 and parameters: {'n_estimators': 323, 'max_depth': 7, 'learning_rate': 0.0023140908500578236, 'subsample': 0.6339398001996832, 'colsample_bytree': 0.9449548810074008, 'reg_alpha': 0.0020988084948625, 'reg_lambda': 2.547366318623063e-05, 'min_child_weight': 259, 'gamma': 8.775774834025019e-08}. Best is trial 3 with value: 0.5853629536921151.\u001B[0m\n",
      "C:\\Users\\My Computer\\AppData\\Local\\Temp\\ipykernel_18364\\842082380.py:14: FutureWarning: suggest_loguniform has been deprecated in v3.0.0. This feature will be removed in v6.0.0. See https://github.com/optuna/optuna/releases/tag/v3.0.0. Use :func:`~optuna.trial.Trial.suggest_float` instead.\n",
      "  'learning_rate': trial.suggest_loguniform('learning_rate', 0.001, 0.1),\n",
      "C:\\Users\\My Computer\\AppData\\Local\\Temp\\ipykernel_18364\\842082380.py:15: FutureWarning: suggest_uniform has been deprecated in v3.0.0. This feature will be removed in v6.0.0. See https://github.com/optuna/optuna/releases/tag/v3.0.0. Use :func:`~optuna.trial.Trial.suggest_float` instead.\n",
      "  'subsample': trial.suggest_uniform('subsample', 0.5, 1),\n",
      "C:\\Users\\My Computer\\AppData\\Local\\Temp\\ipykernel_18364\\842082380.py:16: FutureWarning: suggest_uniform has been deprecated in v3.0.0. This feature will be removed in v6.0.0. See https://github.com/optuna/optuna/releases/tag/v3.0.0. Use :func:`~optuna.trial.Trial.suggest_float` instead.\n",
      "  'colsample_bytree': trial.suggest_uniform('colsample_bytree', 0.5, 1),\n",
      "C:\\Users\\My Computer\\AppData\\Local\\Temp\\ipykernel_18364\\842082380.py:17: FutureWarning: suggest_loguniform has been deprecated in v3.0.0. This feature will be removed in v6.0.0. See https://github.com/optuna/optuna/releases/tag/v3.0.0. Use :func:`~optuna.trial.Trial.suggest_float` instead.\n",
      "  'reg_alpha': trial.suggest_loguniform('reg_alpha', 1e-8, 1.0),\n",
      "C:\\Users\\My Computer\\AppData\\Local\\Temp\\ipykernel_18364\\842082380.py:18: FutureWarning: suggest_loguniform has been deprecated in v3.0.0. This feature will be removed in v6.0.0. See https://github.com/optuna/optuna/releases/tag/v3.0.0. Use :func:`~optuna.trial.Trial.suggest_float` instead.\n",
      "  'reg_lambda': trial.suggest_loguniform('reg_lambda', 1e-8, 1.0),\n",
      "C:\\Users\\My Computer\\AppData\\Local\\Temp\\ipykernel_18364\\842082380.py:20: FutureWarning: suggest_loguniform has been deprecated in v3.0.0. This feature will be removed in v6.0.0. See https://github.com/optuna/optuna/releases/tag/v3.0.0. Use :func:`~optuna.trial.Trial.suggest_float` instead.\n",
      "  'gamma': trial.suggest_loguniform('gamma', 1e-8, 1.0),\n",
      "\u001B[32m[I 2023-06-12 12:15:26,990]\u001B[0m Trial 5 finished with value: 0.006253911138923655 and parameters: {'n_estimators': 466, 'max_depth': 10, 'learning_rate': 0.001662344887473621, 'subsample': 0.7060698357553576, 'colsample_bytree': 0.7026216419817279, 'reg_alpha': 2.129672041846711e-07, 'reg_lambda': 4.5659177767653234e-07, 'min_child_weight': 264, 'gamma': 0.4050522866464373}. Best is trial 3 with value: 0.5853629536921151.\u001B[0m\n",
      "C:\\Users\\My Computer\\AppData\\Local\\Temp\\ipykernel_18364\\842082380.py:14: FutureWarning: suggest_loguniform has been deprecated in v3.0.0. This feature will be removed in v6.0.0. See https://github.com/optuna/optuna/releases/tag/v3.0.0. Use :func:`~optuna.trial.Trial.suggest_float` instead.\n",
      "  'learning_rate': trial.suggest_loguniform('learning_rate', 0.001, 0.1),\n",
      "C:\\Users\\My Computer\\AppData\\Local\\Temp\\ipykernel_18364\\842082380.py:15: FutureWarning: suggest_uniform has been deprecated in v3.0.0. This feature will be removed in v6.0.0. See https://github.com/optuna/optuna/releases/tag/v3.0.0. Use :func:`~optuna.trial.Trial.suggest_float` instead.\n",
      "  'subsample': trial.suggest_uniform('subsample', 0.5, 1),\n",
      "C:\\Users\\My Computer\\AppData\\Local\\Temp\\ipykernel_18364\\842082380.py:16: FutureWarning: suggest_uniform has been deprecated in v3.0.0. This feature will be removed in v6.0.0. See https://github.com/optuna/optuna/releases/tag/v3.0.0. Use :func:`~optuna.trial.Trial.suggest_float` instead.\n",
      "  'colsample_bytree': trial.suggest_uniform('colsample_bytree', 0.5, 1),\n",
      "C:\\Users\\My Computer\\AppData\\Local\\Temp\\ipykernel_18364\\842082380.py:17: FutureWarning: suggest_loguniform has been deprecated in v3.0.0. This feature will be removed in v6.0.0. See https://github.com/optuna/optuna/releases/tag/v3.0.0. Use :func:`~optuna.trial.Trial.suggest_float` instead.\n",
      "  'reg_alpha': trial.suggest_loguniform('reg_alpha', 1e-8, 1.0),\n",
      "C:\\Users\\My Computer\\AppData\\Local\\Temp\\ipykernel_18364\\842082380.py:18: FutureWarning: suggest_loguniform has been deprecated in v3.0.0. This feature will be removed in v6.0.0. See https://github.com/optuna/optuna/releases/tag/v3.0.0. Use :func:`~optuna.trial.Trial.suggest_float` instead.\n",
      "  'reg_lambda': trial.suggest_loguniform('reg_lambda', 1e-8, 1.0),\n",
      "C:\\Users\\My Computer\\AppData\\Local\\Temp\\ipykernel_18364\\842082380.py:20: FutureWarning: suggest_loguniform has been deprecated in v3.0.0. This feature will be removed in v6.0.0. See https://github.com/optuna/optuna/releases/tag/v3.0.0. Use :func:`~optuna.trial.Trial.suggest_float` instead.\n",
      "  'gamma': trial.suggest_loguniform('gamma', 1e-8, 1.0),\n",
      "\u001B[32m[I 2023-06-12 12:15:28,417]\u001B[0m Trial 6 finished with value: 0.6397809762202753 and parameters: {'n_estimators': 65, 'max_depth': 9, 'learning_rate': 0.012942731714029907, 'subsample': 0.7670863090474973, 'colsample_bytree': 0.7203656316491017, 'reg_alpha': 2.336994780196003e-05, 'reg_lambda': 1.4976254182722443e-08, 'min_child_weight': 2, 'gamma': 0.07383365854216414}. Best is trial 6 with value: 0.6397809762202753.\u001B[0m\n",
      "C:\\Users\\My Computer\\AppData\\Local\\Temp\\ipykernel_18364\\842082380.py:14: FutureWarning: suggest_loguniform has been deprecated in v3.0.0. This feature will be removed in v6.0.0. See https://github.com/optuna/optuna/releases/tag/v3.0.0. Use :func:`~optuna.trial.Trial.suggest_float` instead.\n",
      "  'learning_rate': trial.suggest_loguniform('learning_rate', 0.001, 0.1),\n",
      "C:\\Users\\My Computer\\AppData\\Local\\Temp\\ipykernel_18364\\842082380.py:15: FutureWarning: suggest_uniform has been deprecated in v3.0.0. This feature will be removed in v6.0.0. See https://github.com/optuna/optuna/releases/tag/v3.0.0. Use :func:`~optuna.trial.Trial.suggest_float` instead.\n",
      "  'subsample': trial.suggest_uniform('subsample', 0.5, 1),\n",
      "C:\\Users\\My Computer\\AppData\\Local\\Temp\\ipykernel_18364\\842082380.py:16: FutureWarning: suggest_uniform has been deprecated in v3.0.0. This feature will be removed in v6.0.0. See https://github.com/optuna/optuna/releases/tag/v3.0.0. Use :func:`~optuna.trial.Trial.suggest_float` instead.\n",
      "  'colsample_bytree': trial.suggest_uniform('colsample_bytree', 0.5, 1),\n",
      "C:\\Users\\My Computer\\AppData\\Local\\Temp\\ipykernel_18364\\842082380.py:17: FutureWarning: suggest_loguniform has been deprecated in v3.0.0. This feature will be removed in v6.0.0. See https://github.com/optuna/optuna/releases/tag/v3.0.0. Use :func:`~optuna.trial.Trial.suggest_float` instead.\n",
      "  'reg_alpha': trial.suggest_loguniform('reg_alpha', 1e-8, 1.0),\n",
      "C:\\Users\\My Computer\\AppData\\Local\\Temp\\ipykernel_18364\\842082380.py:18: FutureWarning: suggest_loguniform has been deprecated in v3.0.0. This feature will be removed in v6.0.0. See https://github.com/optuna/optuna/releases/tag/v3.0.0. Use :func:`~optuna.trial.Trial.suggest_float` instead.\n",
      "  'reg_lambda': trial.suggest_loguniform('reg_lambda', 1e-8, 1.0),\n",
      "C:\\Users\\My Computer\\AppData\\Local\\Temp\\ipykernel_18364\\842082380.py:20: FutureWarning: suggest_loguniform has been deprecated in v3.0.0. This feature will be removed in v6.0.0. See https://github.com/optuna/optuna/releases/tag/v3.0.0. Use :func:`~optuna.trial.Trial.suggest_float` instead.\n",
      "  'gamma': trial.suggest_loguniform('gamma', 1e-8, 1.0),\n",
      "\u001B[32m[I 2023-06-12 12:15:29,679]\u001B[0m Trial 7 finished with value: 0.006253911138923655 and parameters: {'n_estimators': 168, 'max_depth': 4, 'learning_rate': 0.045033730494718156, 'subsample': 0.8255737957095571, 'colsample_bytree': 0.7507670282079185, 'reg_alpha': 6.507498883125168e-07, 'reg_lambda': 0.0012236314603658773, 'min_child_weight': 225, 'gamma': 0.6544260528070697}. Best is trial 6 with value: 0.6397809762202753.\u001B[0m\n",
      "C:\\Users\\My Computer\\AppData\\Local\\Temp\\ipykernel_18364\\842082380.py:14: FutureWarning: suggest_loguniform has been deprecated in v3.0.0. This feature will be removed in v6.0.0. See https://github.com/optuna/optuna/releases/tag/v3.0.0. Use :func:`~optuna.trial.Trial.suggest_float` instead.\n",
      "  'learning_rate': trial.suggest_loguniform('learning_rate', 0.001, 0.1),\n",
      "C:\\Users\\My Computer\\AppData\\Local\\Temp\\ipykernel_18364\\842082380.py:15: FutureWarning: suggest_uniform has been deprecated in v3.0.0. This feature will be removed in v6.0.0. See https://github.com/optuna/optuna/releases/tag/v3.0.0. Use :func:`~optuna.trial.Trial.suggest_float` instead.\n",
      "  'subsample': trial.suggest_uniform('subsample', 0.5, 1),\n",
      "C:\\Users\\My Computer\\AppData\\Local\\Temp\\ipykernel_18364\\842082380.py:16: FutureWarning: suggest_uniform has been deprecated in v3.0.0. This feature will be removed in v6.0.0. See https://github.com/optuna/optuna/releases/tag/v3.0.0. Use :func:`~optuna.trial.Trial.suggest_float` instead.\n",
      "  'colsample_bytree': trial.suggest_uniform('colsample_bytree', 0.5, 1),\n",
      "C:\\Users\\My Computer\\AppData\\Local\\Temp\\ipykernel_18364\\842082380.py:17: FutureWarning: suggest_loguniform has been deprecated in v3.0.0. This feature will be removed in v6.0.0. See https://github.com/optuna/optuna/releases/tag/v3.0.0. Use :func:`~optuna.trial.Trial.suggest_float` instead.\n",
      "  'reg_alpha': trial.suggest_loguniform('reg_alpha', 1e-8, 1.0),\n",
      "C:\\Users\\My Computer\\AppData\\Local\\Temp\\ipykernel_18364\\842082380.py:18: FutureWarning: suggest_loguniform has been deprecated in v3.0.0. This feature will be removed in v6.0.0. See https://github.com/optuna/optuna/releases/tag/v3.0.0. Use :func:`~optuna.trial.Trial.suggest_float` instead.\n",
      "  'reg_lambda': trial.suggest_loguniform('reg_lambda', 1e-8, 1.0),\n",
      "C:\\Users\\My Computer\\AppData\\Local\\Temp\\ipykernel_18364\\842082380.py:20: FutureWarning: suggest_loguniform has been deprecated in v3.0.0. This feature will be removed in v6.0.0. See https://github.com/optuna/optuna/releases/tag/v3.0.0. Use :func:`~optuna.trial.Trial.suggest_float` instead.\n",
      "  'gamma': trial.suggest_loguniform('gamma', 1e-8, 1.0),\n",
      "\u001B[32m[I 2023-06-12 12:15:29,934]\u001B[0m Trial 8 finished with value: 0.006253911138923655 and parameters: {'n_estimators': 306, 'max_depth': 6, 'learning_rate': 0.001425623821984655, 'subsample': 0.7546055842446295, 'colsample_bytree': 0.5378584284799957, 'reg_alpha': 3.721885037736665e-07, 'reg_lambda': 0.060704126847824606, 'min_child_weight': 268, 'gamma': 8.828215326379885e-07}. Best is trial 6 with value: 0.6397809762202753.\u001B[0m\n",
      "C:\\Users\\My Computer\\AppData\\Local\\Temp\\ipykernel_18364\\842082380.py:14: FutureWarning: suggest_loguniform has been deprecated in v3.0.0. This feature will be removed in v6.0.0. See https://github.com/optuna/optuna/releases/tag/v3.0.0. Use :func:`~optuna.trial.Trial.suggest_float` instead.\n",
      "  'learning_rate': trial.suggest_loguniform('learning_rate', 0.001, 0.1),\n",
      "C:\\Users\\My Computer\\AppData\\Local\\Temp\\ipykernel_18364\\842082380.py:15: FutureWarning: suggest_uniform has been deprecated in v3.0.0. This feature will be removed in v6.0.0. See https://github.com/optuna/optuna/releases/tag/v3.0.0. Use :func:`~optuna.trial.Trial.suggest_float` instead.\n",
      "  'subsample': trial.suggest_uniform('subsample', 0.5, 1),\n",
      "C:\\Users\\My Computer\\AppData\\Local\\Temp\\ipykernel_18364\\842082380.py:16: FutureWarning: suggest_uniform has been deprecated in v3.0.0. This feature will be removed in v6.0.0. See https://github.com/optuna/optuna/releases/tag/v3.0.0. Use :func:`~optuna.trial.Trial.suggest_float` instead.\n",
      "  'colsample_bytree': trial.suggest_uniform('colsample_bytree', 0.5, 1),\n",
      "C:\\Users\\My Computer\\AppData\\Local\\Temp\\ipykernel_18364\\842082380.py:17: FutureWarning: suggest_loguniform has been deprecated in v3.0.0. This feature will be removed in v6.0.0. See https://github.com/optuna/optuna/releases/tag/v3.0.0. Use :func:`~optuna.trial.Trial.suggest_float` instead.\n",
      "  'reg_alpha': trial.suggest_loguniform('reg_alpha', 1e-8, 1.0),\n",
      "C:\\Users\\My Computer\\AppData\\Local\\Temp\\ipykernel_18364\\842082380.py:18: FutureWarning: suggest_loguniform has been deprecated in v3.0.0. This feature will be removed in v6.0.0. See https://github.com/optuna/optuna/releases/tag/v3.0.0. Use :func:`~optuna.trial.Trial.suggest_float` instead.\n",
      "  'reg_lambda': trial.suggest_loguniform('reg_lambda', 1e-8, 1.0),\n",
      "C:\\Users\\My Computer\\AppData\\Local\\Temp\\ipykernel_18364\\842082380.py:20: FutureWarning: suggest_loguniform has been deprecated in v3.0.0. This feature will be removed in v6.0.0. See https://github.com/optuna/optuna/releases/tag/v3.0.0. Use :func:`~optuna.trial.Trial.suggest_float` instead.\n",
      "  'gamma': trial.suggest_loguniform('gamma', 1e-8, 1.0),\n",
      "\u001B[32m[I 2023-06-12 12:15:30,309]\u001B[0m Trial 9 finished with value: 0.4258909574468085 and parameters: {'n_estimators': 376, 'max_depth': 9, 'learning_rate': 0.05023823314037237, 'subsample': 0.6246417500315007, 'colsample_bytree': 0.9393717792193634, 'reg_alpha': 4.3857879276574473e-05, 'reg_lambda': 0.0010216573189244728, 'min_child_weight': 131, 'gamma': 4.274914457907759e-07}. Best is trial 6 with value: 0.6397809762202753.\u001B[0m\n"
     ]
    },
    {
     "name": "stdout",
     "output_type": "stream",
     "text": [
      "Best score: 0.6397809762202753\n",
      "Best parameters: {'n_estimators': 65, 'max_depth': 9, 'learning_rate': 0.012942731714029907, 'subsample': 0.7670863090474973, 'colsample_bytree': 0.7203656316491017, 'reg_alpha': 2.336994780196003e-05, 'reg_lambda': 1.4976254182722443e-08, 'min_child_weight': 2, 'gamma': 0.07383365854216414}\n"
     ]
    }
   ],
   "source": [
    "import numpy as np\n",
    "import optuna\n",
    "from xgboost import XGBClassifier\n",
    "from sklearn.model_selection import StratifiedKFold, cross_val_score\n",
    "\n",
    "np.random.seed(11)\n",
    "# Define the objective function for Optuna\n",
    "# Define the objective function for Optuna\n",
    "def objective(trial):\n",
    "    # Define the hyperparameters to be optimized\n",
    "    params = {\n",
    "        'n_estimators': trial.suggest_int('n_estimators', 50, 500),\n",
    "        'max_depth': trial.suggest_int('max_depth', 3, 10),\n",
    "        'learning_rate': trial.suggest_loguniform('learning_rate', 0.001, 0.1),\n",
    "        'subsample': trial.suggest_uniform('subsample', 0.5, 1),\n",
    "        'colsample_bytree': trial.suggest_uniform('colsample_bytree', 0.5, 1),\n",
    "        'reg_alpha': trial.suggest_loguniform('reg_alpha', 1e-8, 1.0),\n",
    "        'reg_lambda': trial.suggest_loguniform('reg_lambda', 1e-8, 1.0),\n",
    "        'min_child_weight': trial.suggest_int('min_child_weight', 1, 300),\n",
    "        'gamma': trial.suggest_loguniform('gamma', 1e-8, 1.0),\n",
    "    }\n",
    "\n",
    "    # Train the model with the given hyperparameters using cross-validation\n",
    "    model = XGBClassifier(**params)\n",
    "    cv = StratifiedKFold(n_splits=2, shuffle=True)\n",
    "    scores = cross_val_score(model, X, y, cv=cv, n_jobs=-1)\n",
    "\n",
    "    # Calculate the mean validation accuracy and return it as the objective value\n",
    "    score = np.mean(scores)\n",
    "    return score\n",
    "\n",
    "# Run the optimization using Optuna\n",
    "study = optuna.create_study(direction='maximize')\n",
    "study.optimize(objective, n_trials=10)\n",
    "\n",
    "# Print the results\n",
    "print('Best score:', study.best_value)\n",
    "print('Best parameters:', study.best_params)"
   ],
   "metadata": {
    "collapsed": false,
    "ExecuteTime": {
     "end_time": "2023-06-12T17:15:30.318506500Z",
     "start_time": "2023-06-12T17:15:13.856121800Z"
    }
   }
  },
  {
   "attachments": {},
   "cell_type": "markdown",
   "metadata": {
    "collapsed": false
   },
   "source": [
    "### Performance report and analysis"
   ]
  },
  {
   "cell_type": "code",
   "execution_count": 4,
   "outputs": [],
   "source": [
    "# from sklearn.metrics import classification_report\n",
    "# import joblib\n",
    "#\n",
    "# # Save the model\n",
    "# # joblib.dump(best_estimator, \"best_model.joblib\")\n",
    "# # Load the model\n",
    "# loaded_model = joblib.load(\"best_model.joblib\")\n",
    "#\n",
    "# # Use the loaded model for predictions\n",
    "# y_pred = pd.Series(le.inverse_transform(loaded_model.predict(X_test), index=y_test.index)\n",
    "# # Generate confusion matrix\n",
    "# report = classification_report(y_test, y_pred)\n",
    "# print(report)"
   ],
   "metadata": {
    "collapsed": false,
    "ExecuteTime": {
     "end_time": "2023-06-12T17:15:30.332515400Z",
     "start_time": "2023-06-12T17:15:30.318506500Z"
    }
   }
  }
 ],
 "metadata": {
  "kernelspec": {
   "display_name": "Python 3",
   "language": "python",
   "name": "python3"
  },
  "language_info": {
   "codemirror_mode": {
    "name": "ipython",
    "version": 3
   },
   "file_extension": ".py",
   "mimetype": "text/x-python",
   "name": "python",
   "nbconvert_exporter": "python",
   "pygments_lexer": "ipython3",
   "version": "3.10.11"
  }
 },
 "nbformat": 4,
 "nbformat_minor": 0
}
