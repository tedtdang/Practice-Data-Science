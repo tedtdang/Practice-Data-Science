{
 "cells": [
  {
   "attachments": {},
   "cell_type": "markdown",
   "metadata": {
    "collapsed": false
   },
   "source": [
    "## Code"
   ]
  },
  {
   "cell_type": "code",
   "execution_count": 1,
   "metadata": {
    "collapsed": true,
    "ExecuteTime": {
     "end_time": "2023-06-12T17:11:28.347264200Z",
     "start_time": "2023-06-12T17:11:27.712278800Z"
    }
   },
   "outputs": [
    {
     "data": {
      "text/plain": "shape: (5, 12)\n┌────────────┬────────────┬─────────────┬──────────┬───┬──────┬───────────┬─────────┬─────────┐\n│ fixed      ┆ volatile   ┆ citric acid ┆ residual ┆ … ┆ pH   ┆ sulphates ┆ alcohol ┆ quality │\n│ acidity    ┆ acidity    ┆ ---         ┆ sugar    ┆   ┆ ---  ┆ ---       ┆ ---     ┆ ---     │\n│ ---        ┆ ---        ┆ f64         ┆ ---      ┆   ┆ f64  ┆ f64       ┆ f64     ┆ i64     │\n│ f64        ┆ f64        ┆             ┆ f64      ┆   ┆      ┆           ┆         ┆         │\n╞════════════╪════════════╪═════════════╪══════════╪═══╪══════╪═══════════╪═════════╪═════════╡\n│ 7.4        ┆ 0.7        ┆ 0.0         ┆ 1.9      ┆ … ┆ 3.51 ┆ 0.56      ┆ 9.4     ┆ 5       │\n│ 7.8        ┆ 0.88       ┆ 0.0         ┆ 2.6      ┆ … ┆ 3.2  ┆ 0.68      ┆ 9.8     ┆ 5       │\n│ 7.8        ┆ 0.76       ┆ 0.04        ┆ 2.3      ┆ … ┆ 3.26 ┆ 0.65      ┆ 9.8     ┆ 5       │\n│ 11.2       ┆ 0.28       ┆ 0.56        ┆ 1.9      ┆ … ┆ 3.16 ┆ 0.58      ┆ 9.8     ┆ 6       │\n│ 7.4        ┆ 0.7        ┆ 0.0         ┆ 1.9      ┆ … ┆ 3.51 ┆ 0.56      ┆ 9.4     ┆ 5       │\n└────────────┴────────────┴─────────────┴──────────┴───┴──────┴───────────┴─────────┴─────────┘",
      "text/html": "<div><style>\n.dataframe > thead > tr > th,\n.dataframe > tbody > tr > td {\n  text-align: right;\n}\n</style>\n<small>shape: (5, 12)</small><table border=\"1\" class=\"dataframe\"><thead><tr><th>fixed acidity</th><th>volatile acidity</th><th>citric acid</th><th>residual sugar</th><th>chlorides</th><th>free sulfur dioxide</th><th>total sulfur dioxide</th><th>density</th><th>pH</th><th>sulphates</th><th>alcohol</th><th>quality</th></tr><tr><td>f64</td><td>f64</td><td>f64</td><td>f64</td><td>f64</td><td>f64</td><td>f64</td><td>f64</td><td>f64</td><td>f64</td><td>f64</td><td>i64</td></tr></thead><tbody><tr><td>7.4</td><td>0.7</td><td>0.0</td><td>1.9</td><td>0.076</td><td>11.0</td><td>34.0</td><td>0.9978</td><td>3.51</td><td>0.56</td><td>9.4</td><td>5</td></tr><tr><td>7.8</td><td>0.88</td><td>0.0</td><td>2.6</td><td>0.098</td><td>25.0</td><td>67.0</td><td>0.9968</td><td>3.2</td><td>0.68</td><td>9.8</td><td>5</td></tr><tr><td>7.8</td><td>0.76</td><td>0.04</td><td>2.3</td><td>0.092</td><td>15.0</td><td>54.0</td><td>0.997</td><td>3.26</td><td>0.65</td><td>9.8</td><td>5</td></tr><tr><td>11.2</td><td>0.28</td><td>0.56</td><td>1.9</td><td>0.075</td><td>17.0</td><td>60.0</td><td>0.998</td><td>3.16</td><td>0.58</td><td>9.8</td><td>6</td></tr><tr><td>7.4</td><td>0.7</td><td>0.0</td><td>1.9</td><td>0.076</td><td>11.0</td><td>34.0</td><td>0.9978</td><td>3.51</td><td>0.56</td><td>9.4</td><td>5</td></tr></tbody></table></div>"
     },
     "execution_count": 1,
     "metadata": {},
     "output_type": "execute_result"
    }
   ],
   "source": [
    "import numpy as np\n",
    "import pandas as pd\n",
    "import polars as pl\n",
    "\n",
    "np.random.seed(11)\n",
    "# Have a look at the dataset\n",
    "df = pl.read_csv('winequality-red.csv', null_values=[\"?\", \"NaN\"])\n",
    "df.head()"
   ]
  },
  {
   "cell_type": "code",
   "execution_count": 2,
   "metadata": {
    "ExecuteTime": {
     "end_time": "2023-06-12T17:11:28.363654500Z",
     "start_time": "2023-06-12T17:11:28.350492200Z"
    }
   },
   "outputs": [
    {
     "name": "stdout",
     "output_type": "stream",
     "text": [
      "       fixed acidity - 0\n",
      "    volatile acidity - 0\n",
      "         citric acid - 0\n",
      "      residual sugar - 0\n",
      "           chlorides - 0\n",
      " free sulfur dioxide - 0\n",
      "total sulfur dioxide - 0\n",
      "             density - 0\n",
      "                  pH - 0\n",
      "           sulphates - 0\n",
      "             alcohol - 0\n",
      "             quality - 0\n"
     ]
    }
   ],
   "source": [
    "# Missing values in each columns\n",
    "max_length = max(len(i) for i in df.columns)\n",
    "for col in df.get_columns():\n",
    "    print(f\"{col.name:>{max_length}} - {col.is_null().sum()}\")"
   ]
  },
  {
   "attachments": {},
   "cell_type": "markdown",
   "metadata": {},
   "source": [
    "### Split data"
   ]
  },
  {
   "cell_type": "code",
   "execution_count": 3,
   "metadata": {
    "ExecuteTime": {
     "end_time": "2023-06-12T17:11:29.139336100Z",
     "start_time": "2023-06-12T17:11:28.363654500Z"
    }
   },
   "outputs": [
    {
     "name": "stdout",
     "output_type": "stream",
     "text": [
      "(1599, 12)\n"
     ]
    }
   ],
   "source": [
    "from sklearn.model_selection import train_test_split\n",
    "\n",
    "target_column = \"quality\"\n",
    "df = df.drop_nulls(subset=target_column)\n",
    "# Get an idea about train_test_split ratio\n",
    "print(df.shape)\n",
    "X = df.drop(target_column).to_pandas()\n",
    "y = df[target_column].to_pandas()\n",
    "X_train, X_test, y_train, y_test = train_test_split(X, y, test_size=0.2)"
   ]
  },
  {
   "attachments": {},
   "cell_type": "markdown",
   "metadata": {},
   "source": [
    "### Pipeline processor"
   ]
  },
  {
   "cell_type": "code",
   "execution_count": 4,
   "metadata": {
    "collapsed": false,
    "ExecuteTime": {
     "end_time": "2023-06-12T17:11:29.339204100Z",
     "start_time": "2023-06-12T17:11:29.145340500Z"
    }
   },
   "outputs": [],
   "source": [
    "from sklearn import set_config\n",
    "from sklearn.compose import ColumnTransformer\n",
    "from sklearn.decomposition import PCA, TruncatedSVD\n",
    "from sklearn.impute import KNNImputer\n",
    "from sklearn.pipeline import Pipeline, FeatureUnion\n",
    "from sklearn.preprocessing import (\n",
    "    StandardScaler\n",
    ")\n",
    "from category_encoders.cat_boost import CatBoostEncoder\n",
    "\n",
    "# def combine_dimensions(x):\n",
    "#     x[\"dimensions\"] = x[\"length\"] * x[\"width\"] * x[\"height\"]\n",
    "#     x = x.drop([\"length\", \"width\", \"height\"])\n",
    "#\n",
    "#\n",
    "# feature_engineering = Pipeline(\n",
    "#     steps=[\n",
    "#         (\"combine_dimensions\", FunctionTransformer(combine_dimensions)),\n",
    "#     ]\n",
    "# )\n",
    "\n",
    "set_config(display=\"diagram\")\n",
    "\n",
    "union = FeatureUnion(\n",
    "    transformer_list=[\n",
    "        (\"pca\", PCA(n_components=1)),\n",
    "        (\"svd\", TruncatedSVD(n_components=2)),\n",
    "    ]\n",
    ")\n",
    "\n",
    "# Get numeric and categorical columns\n",
    "num_cols = X.select_dtypes(include=\"number\").columns\n",
    "cat_cols = list(set(X.columns) - set(num_cols))\n",
    "num_pipe = Pipeline(\n",
    "    [\n",
    "        (\"Impute\", KNNImputer()),\n",
    "        (\"Scale\", StandardScaler()),\n",
    "        # ('reduce_dimensionality', union)\n",
    "    ]\n",
    ")\n",
    "cat_pipe = Pipeline(\n",
    "    [\n",
    "        ('encode', CatBoostEncoder(cols=cat_cols)),\n",
    "        (\"Impute\", KNNImputer()),\n",
    "    ]\n",
    ")\n",
    "\n",
    "# Define the pipeline with ColumnTransformer\n",
    "preprocessor = ColumnTransformer(\n",
    "    transformers=[\n",
    "        (\"categorical\", cat_pipe, cat_cols),\n",
    "        (\"numeric\", num_pipe, num_cols),\n",
    "    ],\n",
    "    remainder=\"passthrough\",\n",
    "    verbose_feature_names_out=True,\n",
    ")\n",
    "\n",
    "processor = Pipeline(\n",
    "    [\n",
    "        (\"preprocessing\", preprocessor),\n",
    "        # (\"feature_engineering\", feature_engineering),\n",
    "    ]\n",
    ")"
   ]
  },
  {
   "cell_type": "code",
   "execution_count": 5,
   "metadata": {
    "ExecuteTime": {
     "end_time": "2023-06-12T17:11:29.401217800Z",
     "start_time": "2023-06-12T17:11:29.341205400Z"
    }
   },
   "outputs": [
    {
     "data": {
      "text/plain": "Pipeline(steps=[('preprocessing',\n                 ColumnTransformer(remainder='passthrough',\n                                   transformers=[('categorical',\n                                                  Pipeline(steps=[('encode',\n                                                                   CatBoostEncoder(cols=[])),\n                                                                  ('Impute',\n                                                                   KNNImputer())]),\n                                                  []),\n                                                 ('numeric',\n                                                  Pipeline(steps=[('Impute',\n                                                                   KNNImputer()),\n                                                                  ('Scale',\n                                                                   StandardScaler())]),\n                                                  Index(['fixed acidity', 'volatile acidity', 'citric acid', 'residual sugar',\n       'chlorides', 'free sulfur dioxide', 'total sulfur dioxide', 'density',\n       'pH', 'sulphates', 'alcohol'],\n      dtype='object'))]))])",
      "text/html": "<style>#sk-container-id-1 {color: black;background-color: white;}#sk-container-id-1 pre{padding: 0;}#sk-container-id-1 div.sk-toggleable {background-color: white;}#sk-container-id-1 label.sk-toggleable__label {cursor: pointer;display: block;width: 100%;margin-bottom: 0;padding: 0.3em;box-sizing: border-box;text-align: center;}#sk-container-id-1 label.sk-toggleable__label-arrow:before {content: \"▸\";float: left;margin-right: 0.25em;color: #696969;}#sk-container-id-1 label.sk-toggleable__label-arrow:hover:before {color: black;}#sk-container-id-1 div.sk-estimator:hover label.sk-toggleable__label-arrow:before {color: black;}#sk-container-id-1 div.sk-toggleable__content {max-height: 0;max-width: 0;overflow: hidden;text-align: left;background-color: #f0f8ff;}#sk-container-id-1 div.sk-toggleable__content pre {margin: 0.2em;color: black;border-radius: 0.25em;background-color: #f0f8ff;}#sk-container-id-1 input.sk-toggleable__control:checked~div.sk-toggleable__content {max-height: 200px;max-width: 100%;overflow: auto;}#sk-container-id-1 input.sk-toggleable__control:checked~label.sk-toggleable__label-arrow:before {content: \"▾\";}#sk-container-id-1 div.sk-estimator input.sk-toggleable__control:checked~label.sk-toggleable__label {background-color: #d4ebff;}#sk-container-id-1 div.sk-label input.sk-toggleable__control:checked~label.sk-toggleable__label {background-color: #d4ebff;}#sk-container-id-1 input.sk-hidden--visually {border: 0;clip: rect(1px 1px 1px 1px);clip: rect(1px, 1px, 1px, 1px);height: 1px;margin: -1px;overflow: hidden;padding: 0;position: absolute;width: 1px;}#sk-container-id-1 div.sk-estimator {font-family: monospace;background-color: #f0f8ff;border: 1px dotted black;border-radius: 0.25em;box-sizing: border-box;margin-bottom: 0.5em;}#sk-container-id-1 div.sk-estimator:hover {background-color: #d4ebff;}#sk-container-id-1 div.sk-parallel-item::after {content: \"\";width: 100%;border-bottom: 1px solid gray;flex-grow: 1;}#sk-container-id-1 div.sk-label:hover label.sk-toggleable__label {background-color: #d4ebff;}#sk-container-id-1 div.sk-serial::before {content: \"\";position: absolute;border-left: 1px solid gray;box-sizing: border-box;top: 0;bottom: 0;left: 50%;z-index: 0;}#sk-container-id-1 div.sk-serial {display: flex;flex-direction: column;align-items: center;background-color: white;padding-right: 0.2em;padding-left: 0.2em;position: relative;}#sk-container-id-1 div.sk-item {position: relative;z-index: 1;}#sk-container-id-1 div.sk-parallel {display: flex;align-items: stretch;justify-content: center;background-color: white;position: relative;}#sk-container-id-1 div.sk-item::before, #sk-container-id-1 div.sk-parallel-item::before {content: \"\";position: absolute;border-left: 1px solid gray;box-sizing: border-box;top: 0;bottom: 0;left: 50%;z-index: -1;}#sk-container-id-1 div.sk-parallel-item {display: flex;flex-direction: column;z-index: 1;position: relative;background-color: white;}#sk-container-id-1 div.sk-parallel-item:first-child::after {align-self: flex-end;width: 50%;}#sk-container-id-1 div.sk-parallel-item:last-child::after {align-self: flex-start;width: 50%;}#sk-container-id-1 div.sk-parallel-item:only-child::after {width: 0;}#sk-container-id-1 div.sk-dashed-wrapped {border: 1px dashed gray;margin: 0 0.4em 0.5em 0.4em;box-sizing: border-box;padding-bottom: 0.4em;background-color: white;}#sk-container-id-1 div.sk-label label {font-family: monospace;font-weight: bold;display: inline-block;line-height: 1.2em;}#sk-container-id-1 div.sk-label-container {text-align: center;}#sk-container-id-1 div.sk-container {/* jupyter's `normalize.less` sets `[hidden] { display: none; }` but bootstrap.min.css set `[hidden] { display: none !important; }` so we also need the `!important` here to be able to override the default hidden behavior on the sphinx rendered scikit-learn.org. See: https://github.com/scikit-learn/scikit-learn/issues/21755 */display: inline-block !important;position: relative;}#sk-container-id-1 div.sk-text-repr-fallback {display: none;}</style><div id=\"sk-container-id-1\" class=\"sk-top-container\"><div class=\"sk-text-repr-fallback\"><pre>Pipeline(steps=[(&#x27;preprocessing&#x27;,\n                 ColumnTransformer(remainder=&#x27;passthrough&#x27;,\n                                   transformers=[(&#x27;categorical&#x27;,\n                                                  Pipeline(steps=[(&#x27;encode&#x27;,\n                                                                   CatBoostEncoder(cols=[])),\n                                                                  (&#x27;Impute&#x27;,\n                                                                   KNNImputer())]),\n                                                  []),\n                                                 (&#x27;numeric&#x27;,\n                                                  Pipeline(steps=[(&#x27;Impute&#x27;,\n                                                                   KNNImputer()),\n                                                                  (&#x27;Scale&#x27;,\n                                                                   StandardScaler())]),\n                                                  Index([&#x27;fixed acidity&#x27;, &#x27;volatile acidity&#x27;, &#x27;citric acid&#x27;, &#x27;residual sugar&#x27;,\n       &#x27;chlorides&#x27;, &#x27;free sulfur dioxide&#x27;, &#x27;total sulfur dioxide&#x27;, &#x27;density&#x27;,\n       &#x27;pH&#x27;, &#x27;sulphates&#x27;, &#x27;alcohol&#x27;],\n      dtype=&#x27;object&#x27;))]))])</pre><b>In a Jupyter environment, please rerun this cell to show the HTML representation or trust the notebook. <br />On GitHub, the HTML representation is unable to render, please try loading this page with nbviewer.org.</b></div><div class=\"sk-container\" hidden><div class=\"sk-item sk-dashed-wrapped\"><div class=\"sk-label-container\"><div class=\"sk-label sk-toggleable\"><input class=\"sk-toggleable__control sk-hidden--visually\" id=\"sk-estimator-id-1\" type=\"checkbox\" ><label for=\"sk-estimator-id-1\" class=\"sk-toggleable__label sk-toggleable__label-arrow\">Pipeline</label><div class=\"sk-toggleable__content\"><pre>Pipeline(steps=[(&#x27;preprocessing&#x27;,\n                 ColumnTransformer(remainder=&#x27;passthrough&#x27;,\n                                   transformers=[(&#x27;categorical&#x27;,\n                                                  Pipeline(steps=[(&#x27;encode&#x27;,\n                                                                   CatBoostEncoder(cols=[])),\n                                                                  (&#x27;Impute&#x27;,\n                                                                   KNNImputer())]),\n                                                  []),\n                                                 (&#x27;numeric&#x27;,\n                                                  Pipeline(steps=[(&#x27;Impute&#x27;,\n                                                                   KNNImputer()),\n                                                                  (&#x27;Scale&#x27;,\n                                                                   StandardScaler())]),\n                                                  Index([&#x27;fixed acidity&#x27;, &#x27;volatile acidity&#x27;, &#x27;citric acid&#x27;, &#x27;residual sugar&#x27;,\n       &#x27;chlorides&#x27;, &#x27;free sulfur dioxide&#x27;, &#x27;total sulfur dioxide&#x27;, &#x27;density&#x27;,\n       &#x27;pH&#x27;, &#x27;sulphates&#x27;, &#x27;alcohol&#x27;],\n      dtype=&#x27;object&#x27;))]))])</pre></div></div></div><div class=\"sk-serial\"><div class=\"sk-item sk-dashed-wrapped\"><div class=\"sk-label-container\"><div class=\"sk-label sk-toggleable\"><input class=\"sk-toggleable__control sk-hidden--visually\" id=\"sk-estimator-id-2\" type=\"checkbox\" ><label for=\"sk-estimator-id-2\" class=\"sk-toggleable__label sk-toggleable__label-arrow\">preprocessing: ColumnTransformer</label><div class=\"sk-toggleable__content\"><pre>ColumnTransformer(remainder=&#x27;passthrough&#x27;,\n                  transformers=[(&#x27;categorical&#x27;,\n                                 Pipeline(steps=[(&#x27;encode&#x27;,\n                                                  CatBoostEncoder(cols=[])),\n                                                 (&#x27;Impute&#x27;, KNNImputer())]),\n                                 []),\n                                (&#x27;numeric&#x27;,\n                                 Pipeline(steps=[(&#x27;Impute&#x27;, KNNImputer()),\n                                                 (&#x27;Scale&#x27;, StandardScaler())]),\n                                 Index([&#x27;fixed acidity&#x27;, &#x27;volatile acidity&#x27;, &#x27;citric acid&#x27;, &#x27;residual sugar&#x27;,\n       &#x27;chlorides&#x27;, &#x27;free sulfur dioxide&#x27;, &#x27;total sulfur dioxide&#x27;, &#x27;density&#x27;,\n       &#x27;pH&#x27;, &#x27;sulphates&#x27;, &#x27;alcohol&#x27;],\n      dtype=&#x27;object&#x27;))])</pre></div></div></div><div class=\"sk-parallel\"><div class=\"sk-parallel-item\"><div class=\"sk-item\"><div class=\"sk-label-container\"><div class=\"sk-label sk-toggleable\"><input class=\"sk-toggleable__control sk-hidden--visually\" id=\"sk-estimator-id-3\" type=\"checkbox\" ><label for=\"sk-estimator-id-3\" class=\"sk-toggleable__label sk-toggleable__label-arrow\">categorical</label><div class=\"sk-toggleable__content\"><pre>[]</pre></div></div></div><div class=\"sk-serial\"><div class=\"sk-item\"><div class=\"sk-serial\"><div class=\"sk-item\"><div class=\"sk-estimator sk-toggleable\"><input class=\"sk-toggleable__control sk-hidden--visually\" id=\"sk-estimator-id-4\" type=\"checkbox\" ><label for=\"sk-estimator-id-4\" class=\"sk-toggleable__label sk-toggleable__label-arrow\">CatBoostEncoder</label><div class=\"sk-toggleable__content\"><pre>CatBoostEncoder(cols=[])</pre></div></div></div><div class=\"sk-item\"><div class=\"sk-estimator sk-toggleable\"><input class=\"sk-toggleable__control sk-hidden--visually\" id=\"sk-estimator-id-5\" type=\"checkbox\" ><label for=\"sk-estimator-id-5\" class=\"sk-toggleable__label sk-toggleable__label-arrow\">KNNImputer</label><div class=\"sk-toggleable__content\"><pre>KNNImputer()</pre></div></div></div></div></div></div></div></div><div class=\"sk-parallel-item\"><div class=\"sk-item\"><div class=\"sk-label-container\"><div class=\"sk-label sk-toggleable\"><input class=\"sk-toggleable__control sk-hidden--visually\" id=\"sk-estimator-id-6\" type=\"checkbox\" ><label for=\"sk-estimator-id-6\" class=\"sk-toggleable__label sk-toggleable__label-arrow\">numeric</label><div class=\"sk-toggleable__content\"><pre>Index([&#x27;fixed acidity&#x27;, &#x27;volatile acidity&#x27;, &#x27;citric acid&#x27;, &#x27;residual sugar&#x27;,\n       &#x27;chlorides&#x27;, &#x27;free sulfur dioxide&#x27;, &#x27;total sulfur dioxide&#x27;, &#x27;density&#x27;,\n       &#x27;pH&#x27;, &#x27;sulphates&#x27;, &#x27;alcohol&#x27;],\n      dtype=&#x27;object&#x27;)</pre></div></div></div><div class=\"sk-serial\"><div class=\"sk-item\"><div class=\"sk-serial\"><div class=\"sk-item\"><div class=\"sk-estimator sk-toggleable\"><input class=\"sk-toggleable__control sk-hidden--visually\" id=\"sk-estimator-id-7\" type=\"checkbox\" ><label for=\"sk-estimator-id-7\" class=\"sk-toggleable__label sk-toggleable__label-arrow\">KNNImputer</label><div class=\"sk-toggleable__content\"><pre>KNNImputer()</pre></div></div></div><div class=\"sk-item\"><div class=\"sk-estimator sk-toggleable\"><input class=\"sk-toggleable__control sk-hidden--visually\" id=\"sk-estimator-id-8\" type=\"checkbox\" ><label for=\"sk-estimator-id-8\" class=\"sk-toggleable__label sk-toggleable__label-arrow\">StandardScaler</label><div class=\"sk-toggleable__content\"><pre>StandardScaler()</pre></div></div></div></div></div></div></div></div><div class=\"sk-parallel-item\"><div class=\"sk-item\"><div class=\"sk-label-container\"><div class=\"sk-label sk-toggleable\"><input class=\"sk-toggleable__control sk-hidden--visually\" id=\"sk-estimator-id-9\" type=\"checkbox\" ><label for=\"sk-estimator-id-9\" class=\"sk-toggleable__label sk-toggleable__label-arrow\">remainder</label><div class=\"sk-toggleable__content\"><pre></pre></div></div></div><div class=\"sk-serial\"><div class=\"sk-item\"><div class=\"sk-estimator sk-toggleable\"><input class=\"sk-toggleable__control sk-hidden--visually\" id=\"sk-estimator-id-10\" type=\"checkbox\" ><label for=\"sk-estimator-id-10\" class=\"sk-toggleable__label sk-toggleable__label-arrow\">passthrough</label><div class=\"sk-toggleable__content\"><pre>passthrough</pre></div></div></div></div></div></div></div></div></div></div></div></div>"
     },
     "execution_count": 5,
     "metadata": {},
     "output_type": "execute_result"
    }
   ],
   "source": [
    "processor"
   ]
  },
  {
   "cell_type": "code",
   "execution_count": 6,
   "metadata": {
    "ExecuteTime": {
     "end_time": "2023-06-12T17:11:29.422222400Z",
     "start_time": "2023-06-12T17:11:29.401217800Z"
    }
   },
   "outputs": [],
   "source": [
    "processor.fit(X_train)\n",
    "X_train_transformed = pd.DataFrame(processor.transform(X_train), columns = X_train.columns)\n",
    "X_test_transformed = pd.DataFrame(processor.transform(X_test), columns = X_test.columns)"
   ]
  },
  {
   "cell_type": "code",
   "execution_count": 7,
   "outputs": [],
   "source": [
    "# Export to pickle files\n",
    "pd.concat([X_train_transformed, X_test_transformed]).to_pickle('wine_X.pkl')\n",
    "pd.concat([y_train, y_test]).to_pickle('wine_y.pkl')\n",
    "X_train_transformed.to_pickle('wine_X_train.pkl')\n",
    "X_test_transformed.to_pickle('wine_X_test.pkl')\n",
    "y_train.to_pickle('wine_y_train.pkl')\n",
    "y_test.to_pickle('wine_y_test.pkl')"
   ],
   "metadata": {
    "collapsed": false,
    "ExecuteTime": {
     "end_time": "2023-06-12T17:11:29.450229300Z",
     "start_time": "2023-06-12T17:11:29.417222900Z"
    }
   }
  }
 ],
 "metadata": {
  "kernelspec": {
   "display_name": "Python 3",
   "language": "python",
   "name": "python3"
  },
  "language_info": {
   "codemirror_mode": {
    "name": "ipython",
    "version": 3
   },
   "file_extension": ".py",
   "mimetype": "text/x-python",
   "name": "python",
   "nbconvert_exporter": "python",
   "pygments_lexer": "ipython3",
   "version": "3.10.11"
  }
 },
 "nbformat": 4,
 "nbformat_minor": 0
}
