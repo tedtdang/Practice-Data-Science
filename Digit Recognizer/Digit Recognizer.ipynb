{
 "cells": [
  {
   "cell_type": "markdown",
   "metadata": {},
   "source": [
    "### The data sets are from Kaggle competition: https://www.kaggle.com/c/digit-recognizer/data?select=test.csv"
   ]
  },
  {
   "cell_type": "code",
   "execution_count": 1,
   "metadata": {},
   "outputs": [],
   "source": [
    "import pandas as pd\n",
    "import numpy as np\n",
    "\n",
    "train = np.asarray(pd.read_csv('train.csv'))\n",
    "test = np.asarray(pd.read_csv('test.csv'))"
   ]
  },
  {
   "cell_type": "code",
   "execution_count": 2,
   "metadata": {},
   "outputs": [],
   "source": [
    "# Convert X to 28 x 28 and y to a vector\n",
    "X_train = train[:, 1:].reshape(-1, 28, 28)\n",
    "y_train = train[:,0].reshape(-1,)\n",
    "X_test = test.reshape(-1, 28, 28)"
   ]
  },
  {
   "cell_type": "code",
   "execution_count": 3,
   "metadata": {},
   "outputs": [
    {
     "data": {
      "text/plain": [
       "<matplotlib.image.AxesImage at 0x1f9fbbc9fc8>"
      ]
     },
     "execution_count": 3,
     "metadata": {},
     "output_type": "execute_result"
    },
    {
     "data": {
      "text/plain": [
       "<Figure size 432x288 with 0 Axes>"
      ]
     },
     "metadata": {},
     "output_type": "display_data"
    },
    {
     "data": {
      "image/png": "[encoded data removed]",
      "text/plain": [
       "<Figure size 288x288 with 1 Axes>"
      ]
     },
     "metadata": {
      "needs_background": "light"
     },
     "output_type": "display_data"
    }
   ],
   "source": [
    "# Show an image example\n",
    "import matplotlib.pyplot as plt\n",
    "%matplotlib inline\n",
    "plt.gray()\n",
    "plt.matshow(X_train[0])"
   ]
  },
  {
   "cell_type": "code",
   "execution_count": 4,
   "metadata": {},
   "outputs": [],
   "source": [
    "# Split the data sets\n",
    "from sklearn.model_selection import train_test_split\n",
    "X_train, X_val, y_train, y_val = train_test_split(X_train, y_train, stratify=y_train, test_size=0.03)"
   ]
  },
  {
   "cell_type": "code",
   "execution_count": 5,
   "metadata": {},
   "outputs": [],
   "source": [
    "# One-hot encode y_train and y_test\n",
    "from tensorflow.keras.utils import to_categorical\n",
    "\n",
    "y_train = to_categorical(y_train, 10).astype(int)\n",
    "y_val = to_categorical(y_val, 10).astype(int)"
   ]
  },
  {
   "cell_type": "code",
   "execution_count": 6,
   "metadata": {},
   "outputs": [],
   "source": [
    "import tensorflow as tf\n",
    "from tensorflow import keras\n",
    "from tensorflow.keras.models import Sequential\n",
    "from tensorflow.keras.layers import Dense, Flatten, BatchNormalization, Dropout\n",
    "from keras.layers import LeakyReLU\n",
    "from tensorflow.keras.optimizers import Adam\n",
    "\n",
    "input_shape = (X_train.shape[1], )\n",
    "# Create the keras tuner model.\n",
    "def build_model(learning_rate = 0.01, activation = tf.nn.leaky_relu):\n",
    "    model = Sequential()\n",
    "    model.add(Dense(16, activation=tf.nn.leaky_relu))\n",
    "    model.add(BatchNormalization())\n",
    "    model.add(Dense(32, activation=tf.nn.leaky_relu))\n",
    "    model.add(Dense(64, activation=tf.nn.leaky_relu))\n",
    "    model.add(Flatten())\n",
    "    model.add(Dense(10, activation='softmax'))\n",
    "    opt = Adam(learning_rate=learning_rate)\n",
    "    model.compile(optimizer=opt, loss='categorical_crossentropy', metrics=['accuracy'])\n",
    "    return model"
   ]
  },
  {
   "cell_type": "code",
   "execution_count": null,
   "metadata": {},
   "outputs": [
    {
     "name": "stdout",
     "output_type": "stream",
     "text": [
      "Epoch 1/4000\n",
      "1274/1274 [==============================] - 5s 3ms/step - loss: 0.3773 - accuracy: 0.8846 - val_loss: 0.2722 - val_accuracy: 0.9159\n",
      "Epoch 2/4000\n",
      "1274/1274 [==============================] - 3s 2ms/step - loss: 0.1887 - accuracy: 0.9439 - val_loss: 0.2443 - val_accuracy: 0.9365\n",
      "Epoch 3/4000\n",
      "1274/1274 [==============================] - 3s 2ms/step - loss: 0.1803 - accuracy: 0.9482 - val_loss: 0.2095 - val_accuracy: 0.9476\n",
      "Epoch 4/4000\n",
      "1274/1274 [==============================] - 3s 2ms/step - loss: 0.1810 - accuracy: 0.9468 - val_loss: 0.1818 - val_accuracy: 0.9516\n",
      "Epoch 5/4000\n",
      "1274/1274 [==============================] - 3s 2ms/step - loss: 0.1721 - accuracy: 0.9496 - val_loss: 0.1871 - val_accuracy: 0.9540\n",
      "Epoch 6/4000\n",
      "1274/1274 [==============================] - 3s 2ms/step - loss: 0.1651 - accuracy: 0.9521 - val_loss: 0.1937 - val_accuracy: 0.9468\n",
      "Epoch 7/4000\n",
      "1274/1274 [==============================] - 3s 2ms/step - loss: 0.1624 - accuracy: 0.9512 - val_loss: 0.2184 - val_accuracy: 0.9476\n",
      "Epoch 8/4000\n",
      "1274/1274 [==============================] - 3s 2ms/step - loss: 0.1682 - accuracy: 0.9501 - val_loss: 0.1938 - val_accuracy: 0.9556\n",
      "Epoch 9/4000\n",
      "1274/1274 [==============================] - 3s 2ms/step - loss: 0.1671 - accuracy: 0.9515 - val_loss: 0.2039 - val_accuracy: 0.9452\n",
      "Epoch 10/4000\n",
      "1274/1274 [==============================] - 3s 2ms/step - loss: 0.1626 - accuracy: 0.9526 - val_loss: 0.2022 - val_accuracy: 0.9484\n",
      "Epoch 11/4000\n",
      "1274/1274 [==============================] - 3s 2ms/step - loss: 0.1511 - accuracy: 0.9570 - val_loss: 0.2479 - val_accuracy: 0.9333\n",
      "Epoch 12/4000\n",
      "1274/1274 [==============================] - 3s 2ms/step - loss: 0.1524 - accuracy: 0.9548 - val_loss: 0.2507 - val_accuracy: 0.9341\n",
      "Epoch 13/4000\n",
      "1274/1274 [==============================] - 3s 2ms/step - loss: 0.1532 - accuracy: 0.9557 - val_loss: 0.2321 - val_accuracy: 0.9429\n",
      "Epoch 14/4000\n",
      "1274/1274 [==============================] - 3s 2ms/step - loss: 0.1479 - accuracy: 0.9561 - val_loss: 0.2438 - val_accuracy: 0.9484\n",
      "Epoch 15/4000\n",
      "1274/1274 [==============================] - 3s 2ms/step - loss: 0.1532 - accuracy: 0.9554 - val_loss: 0.1992 - val_accuracy: 0.9484\n",
      "Epoch 16/4000\n",
      "1274/1274 [==============================] - 3s 2ms/step - loss: 0.1489 - accuracy: 0.9549 - val_loss: 0.2562 - val_accuracy: 0.9444\n",
      "Epoch 17/4000\n",
      "1274/1274 [==============================] - 3s 2ms/step - loss: 0.1426 - accuracy: 0.9571 - val_loss: 0.2537 - val_accuracy: 0.9349\n",
      "Epoch 18/4000\n",
      "1274/1274 [==============================] - 3s 2ms/step - loss: 0.1782 - accuracy: 0.9508 - val_loss: 0.1905 - val_accuracy: 0.9492\n",
      "Epoch 19/4000\n",
      "1274/1274 [==============================] - 3s 2ms/step - loss: 0.1481 - accuracy: 0.9574 - val_loss: 0.2122 - val_accuracy: 0.9476\n",
      "Epoch 20/4000\n",
      "1274/1274 [==============================] - 3s 2ms/step - loss: 0.1544 - accuracy: 0.9562 - val_loss: 0.2628 - val_accuracy: 0.9349\n",
      "Epoch 21/4000\n",
      "1274/1274 [==============================] - 3s 2ms/step - loss: 0.1664 - accuracy: 0.9517 - val_loss: 0.2810 - val_accuracy: 0.9246\n",
      "Epoch 22/4000\n",
      "1274/1274 [==============================] - 3s 2ms/step - loss: 0.1544 - accuracy: 0.9565 - val_loss: 0.2817 - val_accuracy: 0.9349\n",
      "Epoch 23/4000\n",
      "1274/1274 [==============================] - 3s 2ms/step - loss: 0.1685 - accuracy: 0.9544 - val_loss: 0.1885 - val_accuracy: 0.9492\n",
      "Epoch 24/4000\n",
      "1274/1274 [==============================] - 3s 2ms/step - loss: 0.1445 - accuracy: 0.9574 - val_loss: 0.2201 - val_accuracy: 0.9460\n",
      "Epoch 25/4000\n",
      "1274/1274 [==============================] - 3s 2ms/step - loss: 0.1453 - accuracy: 0.9576 - val_loss: 0.1976 - val_accuracy: 0.9460\n",
      "Epoch 26/4000\n",
      "1274/1274 [==============================] - 3s 2ms/step - loss: 0.1449 - accuracy: 0.9586 - val_loss: 0.2427 - val_accuracy: 0.9437\n",
      "Epoch 27/4000\n",
      "1274/1274 [==============================] - 3s 2ms/step - loss: 0.1596 - accuracy: 0.9562 - val_loss: 0.2751 - val_accuracy: 0.9373\n",
      "Epoch 28/4000\n",
      "1274/1274 [==============================] - 3s 2ms/step - loss: 0.1467 - accuracy: 0.9574 - val_loss: 0.2610 - val_accuracy: 0.9397\n",
      "Epoch 29/4000\n",
      "1274/1274 [==============================] - 3s 2ms/step - loss: 0.1481 - accuracy: 0.9583 - val_loss: 0.2852 - val_accuracy: 0.9413\n",
      "Epoch 30/4000\n",
      "1274/1274 [==============================] - 3s 2ms/step - loss: 0.1480 - accuracy: 0.9583 - val_loss: 0.2192 - val_accuracy: 0.9492\n",
      "Epoch 31/4000\n",
      "1274/1274 [==============================] - 3s 2ms/step - loss: 0.1478 - accuracy: 0.9588 - val_loss: 0.2273 - val_accuracy: 0.9524\n",
      "Epoch 32/4000\n",
      "1274/1274 [==============================] - 3s 2ms/step - loss: 0.1374 - accuracy: 0.9596 - val_loss: 0.2304 - val_accuracy: 0.9421\n",
      "Epoch 33/4000\n",
      "1274/1274 [==============================] - 3s 2ms/step - loss: 0.1410 - accuracy: 0.9596 - val_loss: 0.2353 - val_accuracy: 0.9476\n",
      "Epoch 34/4000\n",
      "1274/1274 [==============================] - 3s 2ms/step - loss: 0.1434 - accuracy: 0.9595 - val_loss: 0.2615 - val_accuracy: 0.9341\n",
      "Epoch 35/4000\n",
      "1274/1274 [==============================] - 3s 2ms/step - loss: 0.1684 - accuracy: 0.9533 - val_loss: 0.2323 - val_accuracy: 0.9500\n",
      "Epoch 36/4000\n",
      "1274/1274 [==============================] - 3s 2ms/step - loss: 0.1450 - accuracy: 0.9582 - val_loss: 0.2143 - val_accuracy: 0.9563\n",
      "Epoch 37/4000\n",
      "1274/1274 [==============================] - 3s 2ms/step - loss: 0.1375 - accuracy: 0.9609 - val_loss: 0.2064 - val_accuracy: 0.9563\n",
      "Epoch 38/4000\n",
      "1274/1274 [==============================] - 3s 2ms/step - loss: 0.1404 - accuracy: 0.9581 - val_loss: 0.2300 - val_accuracy: 0.9468\n",
      "Epoch 39/4000\n",
      "1274/1274 [==============================] - 3s 2ms/step - loss: 0.1564 - accuracy: 0.9557 - val_loss: 0.2333 - val_accuracy: 0.9444\n",
      "Epoch 40/4000\n",
      "1274/1274 [==============================] - 3s 2ms/step - loss: 0.1384 - accuracy: 0.9612 - val_loss: 0.2240 - val_accuracy: 0.9429\n",
      "Epoch 41/4000\n",
      "1274/1274 [==============================] - 3s 2ms/step - loss: 0.1390 - accuracy: 0.9605 - val_loss: 0.2221 - val_accuracy: 0.9595\n",
      "Epoch 42/4000\n",
      "1274/1274 [==============================] - 3s 2ms/step - loss: 0.1522 - accuracy: 0.9579 - val_loss: 0.2017 - val_accuracy: 0.9516\n",
      "Epoch 43/4000\n",
      "1274/1274 [==============================] - 3s 2ms/step - loss: 0.1457 - accuracy: 0.9593 - val_loss: 0.2810 - val_accuracy: 0.9373\n",
      "Epoch 44/4000\n",
      "1274/1274 [==============================] - 3s 2ms/step - loss: 0.1685 - accuracy: 0.9549 - val_loss: 0.2646 - val_accuracy: 0.9413\n",
      "Epoch 45/4000\n",
      "1274/1274 [==============================] - 3s 2ms/step - loss: 0.1411 - accuracy: 0.9588 - val_loss: 0.2772 - val_accuracy: 0.9381\n",
      "Epoch 46/4000\n",
      "1274/1274 [==============================] - 3s 2ms/step - loss: 0.1465 - accuracy: 0.9593 - val_loss: 0.2552 - val_accuracy: 0.9468\n",
      "Epoch 47/4000\n",
      "1274/1274 [==============================] - 3s 2ms/step - loss: 0.1381 - accuracy: 0.9607 - val_loss: 0.2258 - val_accuracy: 0.9484\n",
      "Epoch 48/4000\n",
      "1274/1274 [==============================] - 3s 2ms/step - loss: 0.1397 - accuracy: 0.9595 - val_loss: 0.2492 - val_accuracy: 0.9437\n",
      "Epoch 49/4000\n",
      "1274/1274 [==============================] - 3s 2ms/step - loss: 0.1432 - accuracy: 0.9599 - val_loss: 0.2093 - val_accuracy: 0.9508\n",
      "Epoch 50/4000\n",
      "1274/1274 [==============================] - 3s 2ms/step - loss: 0.1462 - accuracy: 0.9587 - val_loss: 0.2607 - val_accuracy: 0.9508\n",
      "Epoch 51/4000\n",
      "1274/1274 [==============================] - 3s 2ms/step - loss: 0.1523 - accuracy: 0.9587 - val_loss: 0.3936 - val_accuracy: 0.9135\n",
      "Epoch 52/4000\n",
      "1274/1274 [==============================] - 3s 2ms/step - loss: 0.1546 - accuracy: 0.9590 - val_loss: 0.2553 - val_accuracy: 0.9413\n",
      "Epoch 53/4000\n",
      "1274/1274 [==============================] - 3s 3ms/step - loss: 0.1379 - accuracy: 0.9605 - val_loss: 0.3146 - val_accuracy: 0.9421\n",
      "Epoch 54/4000\n",
      "1274/1274 [==============================] - 3s 2ms/step - loss: 0.1386 - accuracy: 0.9614 - val_loss: 0.2894 - val_accuracy: 0.9460\n",
      "Epoch 55/4000\n",
      "1274/1274 [==============================] - 3s 3ms/step - loss: 0.1412 - accuracy: 0.9609 - val_loss: 0.2252 - val_accuracy: 0.9500\n",
      "Epoch 56/4000\n",
      "1274/1274 [==============================] - 3s 2ms/step - loss: 0.1396 - accuracy: 0.9601 - val_loss: 0.3188 - val_accuracy: 0.9317\n",
      "Epoch 57/4000\n",
      "1274/1274 [==============================] - 3s 2ms/step - loss: 0.1512 - accuracy: 0.9582 - val_loss: 0.3372 - val_accuracy: 0.9302\n",
      "Epoch 58/4000\n",
      "1274/1274 [==============================] - 3s 2ms/step - loss: 0.1804 - accuracy: 0.9530 - val_loss: 0.2568 - val_accuracy: 0.9444\n",
      "Epoch 59/4000\n",
      "1274/1274 [==============================] - 3s 3ms/step - loss: 0.1417 - accuracy: 0.9613 - val_loss: 0.2365 - val_accuracy: 0.9524\n",
      "Epoch 60/4000\n",
      "1274/1274 [==============================] - 3s 3ms/step - loss: 0.1349 - accuracy: 0.9635 - val_loss: 0.2616 - val_accuracy: 0.9556\n",
      "Epoch 61/4000\n",
      "1274/1274 [==============================] - 3s 2ms/step - loss: 0.1764 - accuracy: 0.9542 - val_loss: 0.2882 - val_accuracy: 0.9302\n",
      "Epoch 62/4000\n",
      "1274/1274 [==============================] - 3s 2ms/step - loss: 0.1341 - accuracy: 0.9620 - val_loss: 0.2834 - val_accuracy: 0.9429\n",
      "Epoch 63/4000\n",
      "1274/1274 [==============================] - 3s 2ms/step - loss: 0.1461 - accuracy: 0.9604 - val_loss: 0.3103 - val_accuracy: 0.9381\n",
      "Epoch 64/4000\n",
      "1274/1274 [==============================] - 3s 2ms/step - loss: 0.1456 - accuracy: 0.9599 - val_loss: 0.2711 - val_accuracy: 0.9381\n",
      "Epoch 65/4000\n",
      "1274/1274 [==============================] - 3s 2ms/step - loss: 0.1438 - accuracy: 0.9597 - val_loss: 0.2748 - val_accuracy: 0.9421\n",
      "Epoch 66/4000\n",
      "1274/1274 [==============================] - 3s 3ms/step - loss: 0.1320 - accuracy: 0.9636 - val_loss: 0.2564 - val_accuracy: 0.9381\n",
      "Epoch 67/4000\n",
      "1274/1274 [==============================] - 3s 2ms/step - loss: 0.1468 - accuracy: 0.9583 - val_loss: 0.3214 - val_accuracy: 0.9437\n",
      "Epoch 68/4000\n",
      "1274/1274 [==============================] - 3s 2ms/step - loss: 0.1899 - accuracy: 0.9522 - val_loss: 0.2847 - val_accuracy: 0.9365\n",
      "Epoch 69/4000\n",
      "1274/1274 [==============================] - 3s 2ms/step - loss: 0.1382 - accuracy: 0.9590 - val_loss: 0.3295 - val_accuracy: 0.9365\n",
      "Epoch 70/4000\n",
      "1274/1274 [==============================] - 3s 2ms/step - loss: 0.1443 - accuracy: 0.9587 - val_loss: 0.2938 - val_accuracy: 0.9460\n",
      "Epoch 71/4000\n",
      "1274/1274 [==============================] - 3s 2ms/step - loss: 0.1528 - accuracy: 0.9567 - val_loss: 0.2334 - val_accuracy: 0.9508\n",
      "Epoch 72/4000\n",
      "1274/1274 [==============================] - 3s 2ms/step - loss: 0.1329 - accuracy: 0.9629 - val_loss: 0.2737 - val_accuracy: 0.9508\n",
      "Epoch 73/4000\n",
      "1274/1274 [==============================] - 3s 2ms/step - loss: 0.1496 - accuracy: 0.9582 - val_loss: 0.2605 - val_accuracy: 0.9365\n",
      "Epoch 74/4000\n",
      "1274/1274 [==============================] - 3s 2ms/step - loss: 0.1511 - accuracy: 0.9584 - val_loss: 0.2523 - val_accuracy: 0.9452\n",
      "Epoch 75/4000\n",
      " 357/1274 [=======>......................] - ETA: 2s - loss: 0.1840 - accuracy: 0.9532"
     ]
    }
   ],
   "source": [
    "from keras.callbacks import EarlyStopping, ModelCheckpoint\n",
    "from keras.models import load_model\n",
    "# simple early stopping\n",
    "es = EarlyStopping(monitor='val_accuracy', verbose=1, patience=50)\n",
    "mc = ModelCheckpoint('best_model.h5', monitor='val_accuracy',verbose=0, save_best_only=True)\n",
    "model = build_model()\n",
    "# fit model\n",
    "history = model.fit(X_train, y_train, validation_data=(X_val, y_val), epochs=4000, verbose=1, callbacks=[es, mc])\n",
    "# load the saved model\n",
    "saved_model = load_model('best_model.h5', custom_objects={'leaky_relu': tf.nn.leaky_relu})\n",
    "# evaluate the model\n",
    "_, train_acc = saved_model.evaluate(X_train, y_train, verbose=0)\n",
    "_, test_acc = saved_model.evaluate(X_val, y_val, verbose=0)\n",
    "print('Train: %.3f, Test: %.3f' % (train_acc, test_acc))"
   ]
  },
  {
   "cell_type": "code",
   "execution_count": null,
   "metadata": {},
   "outputs": [],
   "source": [
    "# Predict target vector\n",
    "y_pred = saved_model.predict(X_test)\n",
    "# Return the column of max probabilities\n",
    "y_pred = np.argmax(y_pred, axis=1)\n",
    "y_pred = pd.DataFrame(y_pred, columns=['Label'])\n",
    "y_pred.index += 1\n",
    "y_pred.index.name='ImageId'\n",
    "y_pred.to_csv('prediction.csv', index=True)"
   ]
  },
  {
   "cell_type": "code",
   "execution_count": null,
   "metadata": {},
   "outputs": [],
   "source": [
    "# import os\n",
    "# os.system(\"shutdown /s\")"
   ]
  }
 ],
 "metadata": {
  "kernelspec": {
   "display_name": "Python [conda env:gputest] *",
   "language": "python",
   "name": "conda-env-gputest-py"
  },
  "language_info": {
   "codemirror_mode": {
    "name": "ipython",
    "version": 3
   },
   "file_extension": ".py",
   "mimetype": "text/x-python",
   "name": "python",
   "nbconvert_exporter": "python",
   "pygments_lexer": "ipython3",
   "version": "3.7.9"
  }
 },
 "nbformat": 4,
 "nbformat_minor": 4
}
