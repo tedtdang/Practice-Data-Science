{
 "cells": [
  {
   "cell_type": "markdown",
   "id": "scheduled-hostel",
   "metadata": {
    "execution": {
     "iopub.execute_input": "2021-04-26T21:52:19.261034Z",
     "iopub.status.busy": "2021-04-26T21:52:19.261034Z",
     "iopub.status.idle": "2021-04-26T21:52:19.268039Z",
     "shell.execute_reply": "2021-04-26T21:52:19.267037Z",
     "shell.execute_reply.started": "2021-04-26T21:52:19.261034Z"
    }
   },
   "source": [
    "### https://machinelearningmastery.com/probability-for-machine-learning-7-day-mini-course/"
   ]
  },
  {
   "cell_type": "code",
   "execution_count": 9,
   "id": "cosmetic-synthetic",
   "metadata": {
    "execution": {
     "iopub.execute_input": "2021-04-26T21:52:00.455043Z",
     "iopub.status.busy": "2021-04-26T21:52:00.455043Z",
     "iopub.status.idle": "2021-04-26T21:52:00.616860Z",
     "shell.execute_reply": "2021-04-26T21:52:00.616860Z",
     "shell.execute_reply.started": "2021-04-26T21:52:00.455043Z"
    }
   },
   "outputs": [
    {
     "data": {
      "text/plain": [
       "(array([  5.,  22.,  76., 160., 265., 259., 150.,  48.,  14.,   1.]),\n",
       " array([33.51439936, 36.91460917, 40.31481899, 43.71502881, 47.11523862,\n",
       "        50.51544844, 53.91565825, 57.31586807, 60.71607789, 64.1162877 ,\n",
       "        67.51649752]),\n",
       " <BarContainer object of 10 artists>)"
      ]
     },
     "execution_count": 9,
     "metadata": {},
     "output_type": "execute_result"
    },
    {
     "data": {
      "image/png": "[encoded data removed]",
      "text/plain": [
       "<Figure size 864x576 with 1 Axes>"
      ]
     },
     "metadata": {
      "needs_background": "light"
     },
     "output_type": "display_data"
    }
   ],
   "source": [
    "from numpy.random import normal\n",
    "import matplotlib.pyplot as plt\n",
    "%matplotlib inline\n",
    "\n",
    "# Create a normal distribution\n",
    "mu, n, sigma = 50, 1000, 5\n",
    "samples = normal(mu, sigma, n)\n",
    "\n",
    "# Plot the distribution\n",
    "plt.figure(figsize=(12, 8))\n",
    "plt.hist(samples)"
   ]
  },
  {
   "cell_type": "code",
   "execution_count": 27,
   "id": "hungarian-ground",
   "metadata": {
    "execution": {
     "iopub.execute_input": "2021-04-26T21:54:15.281375Z",
     "iopub.status.busy": "2021-04-26T21:54:15.281375Z",
     "iopub.status.idle": "2021-04-26T21:54:15.293388Z",
     "shell.execute_reply": "2021-04-26T21:54:15.293388Z",
     "shell.execute_reply.started": "2021-04-26T21:54:15.281375Z"
    }
   },
   "outputs": [
    {
     "name": "stdout",
     "output_type": "stream",
     "text": [
      "Predicted Probabilities:  [[1.00000000e+00 5.52387327e-30]]\n",
      "Predicted Class:  [0]\n",
      "Truth: y=0\n"
     ]
    }
   ],
   "source": [
    "# example of gaussian naive bayes\n",
    "from sklearn.datasets import make_blobs\n",
    "from sklearn.naive_bayes import GaussianNB\n",
    "# generate 2d classification dataset\n",
    "X, y = make_blobs(n_samples=100, centers=2, n_features=2, random_state=1)\n",
    "# define the model\n",
    "model = GaussianNB()\n",
    "# fit the model\n",
    "model.fit(X, y)\n",
    "# select a single sample\n",
    "Xsample, ysample = [X[0]], y[0]\n",
    "# make a probabilistic prediction\n",
    "yhat_prob = model.predict_proba(Xsample)\n",
    "print('Predicted Probabilities: ', yhat_prob)\n",
    "# make a classification prediction\n",
    "yhat_class = model.predict(Xsample)\n",
    "print('Predicted Class: ', yhat_class)\n",
    "print('Truth: y=%d' % ysample)"
   ]
  },
  {
   "cell_type": "code",
   "execution_count": null,
   "id": "scheduled-plate",
   "metadata": {},
   "outputs": [],
   "source": []
  }
 ],
 "metadata": {
  "kernelspec": {
   "display_name": "Python [conda env:gputest] *",
   "language": "python",
   "name": "conda-env-gputest-py"
  },
  "language_info": {
   "codemirror_mode": {
    "name": "ipython",
    "version": 3
   },
   "file_extension": ".py",
   "mimetype": "text/x-python",
   "name": "python",
   "nbconvert_exporter": "python",
   "pygments_lexer": "ipython3",
   "version": "3.7.9"
  }
 },
 "nbformat": 4,
 "nbformat_minor": 5
}
