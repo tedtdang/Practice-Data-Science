{
 "cells": [
  {
   "cell_type": "markdown",
   "id": "differential-vehicle",
   "metadata": {
    "execution": {
     "iopub.execute_input": "2021-04-26T21:52:19.261034Z",
     "iopub.status.busy": "2021-04-26T21:52:19.261034Z",
     "iopub.status.idle": "2021-04-26T21:52:19.268039Z",
     "shell.execute_reply": "2021-04-26T21:52:19.267037Z",
     "shell.execute_reply.started": "2021-04-26T21:52:19.261034Z"
    }
   },
   "source": [
    "### https://machinelearningmastery.com/probability-for-machine-learning-7-day-mini-course/"
   ]
  },
  {
   "cell_type": "code",
   "execution_count": 1,
   "id": "electoral-reading",
   "metadata": {
    "execution": {
     "iopub.execute_input": "2021-04-26T21:57:42.720802Z",
     "iopub.status.busy": "2021-04-26T21:57:42.720802Z",
     "iopub.status.idle": "2021-04-26T21:57:43.274197Z",
     "shell.execute_reply": "2021-04-26T21:57:43.273196Z",
     "shell.execute_reply.started": "2021-04-26T21:57:42.720802Z"
    }
   },
   "outputs": [
    {
     "data": {
      "text/plain": [
       "(array([ 10.,  42.,  92., 195., 228., 220., 137.,  55.,  16.,   5.]),\n",
       " array([35.68123443, 38.7788096 , 41.87638477, 44.97395994, 48.07153511,\n",
       "        51.16911028, 54.26668545, 57.36426062, 60.46183579, 63.55941096,\n",
       "        66.65698614]),\n",
       " <BarContainer object of 10 artists>)"
      ]
     },
     "execution_count": 1,
     "metadata": {},
     "output_type": "execute_result"
    },
    {
     "data": {
      "image/png": "[encoded data removed]",
      "text/plain": [
       "<Figure size 864x576 with 1 Axes>"
      ]
     },
     "metadata": {
      "needs_background": "light"
     },
     "output_type": "display_data"
    }
   ],
   "source": [
    "from numpy.random import normal\n",
    "import numpy as np\n",
    "import matplotlib.pyplot as plt\n",
    "%matplotlib inline\n",
    "\n",
    "# Create a normal distribution\n",
    "mu, n, sigma = 50, 1000, 5\n",
    "samples = normal(mu, sigma, n)\n",
    "\n",
    "# Plot the distribution\n",
    "plt.figure(figsize=(12, 8))\n",
    "plt.hist(samples)"
   ]
  },
  {
   "cell_type": "code",
   "execution_count": 11,
   "id": "acceptable-category",
   "metadata": {
    "execution": {
     "iopub.execute_input": "2021-04-26T22:01:25.102044Z",
     "iopub.status.busy": "2021-04-26T22:01:25.102044Z",
     "iopub.status.idle": "2021-04-26T22:01:25.117056Z",
     "shell.execute_reply": "2021-04-26T22:01:25.117056Z",
     "shell.execute_reply.started": "2021-04-26T22:01:25.102044Z"
    }
   },
   "outputs": [
    {
     "name": "stdout",
     "output_type": "stream",
     "text": [
      "Predicted Probabilities:  [[1.00000000e+00 3.97240252e-69 4.24573461e-32]]\n",
      "Predicted Class:  [0]\n",
      "Truth: y=0\n"
     ]
    }
   ],
   "source": [
    "# example of gaussian naive bayes\n",
    "from sklearn.datasets import make_blobs\n",
    "from sklearn.naive_bayes import GaussianNB\n",
    "from sklearn.model_selection import cross_val_score, StratifiedKFold\n",
    "\n",
    "# generate 2d classification dataset\n",
    "X, y = make_blobs(n_samples=100, centers=3, n_features=5, random_state=1)\n",
    "# define the model\n",
    "model = GaussianNB()\n",
    "# fit the model\n",
    "model.fit(X, y)\n",
    "# select a single sample\n",
    "Xsample, ysample = [X[0]], y[0]\n",
    "# make a probabilistic prediction\n",
    "yhat_prob = model.predict_proba(Xsample)\n",
    "print('Predicted Probabilities: ', yhat_prob)\n",
    "# make a classification prediction\n",
    "yhat_class = model.predict(Xsample)\n",
    "print('Predicted Class: ', yhat_class)\n",
    "print('Truth: y=%d' % ysample)"
   ]
  },
  {
   "cell_type": "code",
   "execution_count": null,
   "id": "catholic-specialist",
   "metadata": {},
   "outputs": [],
   "source": []
  }
 ],
 "metadata": {
  "kernelspec": {
   "display_name": "Python [conda env:gputest] *",
   "language": "python",
   "name": "conda-env-gputest-py"
  },
  "language_info": {
   "codemirror_mode": {
    "name": "ipython",
    "version": 3
   },
   "file_extension": ".py",
   "mimetype": "text/x-python",
   "name": "python",
   "nbconvert_exporter": "python",
   "pygments_lexer": "ipython3",
   "version": "3.7.9"
  }
 },
 "nbformat": 4,
 "nbformat_minor": 5
}
