{
 "cells": [
  {
   "cell_type": "markdown",
   "id": "awful-david",
   "metadata": {},
   "source": [
    "### This is from a Kaggle competition: https://www.kaggle.com/c/nlp-getting-started/submit"
   ]
  },
  {
   "cell_type": "code",
   "execution_count": 1,
   "id": "collective-internet",
   "metadata": {},
   "outputs": [],
   "source": [
    "import pandas as pd\n",
    "\n",
    "df_train = pd.read_csv('train.csv')\n",
    "df_test = pd.read_csv('test.csv')"
   ]
  },
  {
   "cell_type": "code",
   "execution_count": 2,
   "id": "technical-exhibit",
   "metadata": {},
   "outputs": [],
   "source": [
    "df_train = df_train"
   ]
  },
  {
   "cell_type": "code",
   "execution_count": 3,
   "id": "running-wrapping",
   "metadata": {},
   "outputs": [
    {
     "data": {
      "text/html": [
       "<div>\n",
       "<style scoped>\n",
       "    .dataframe tbody tr th:only-of-type {\n",
       "        vertical-align: middle;\n",
       "    }\n",
       "\n",
       "    .dataframe tbody tr th {\n",
       "        vertical-align: top;\n",
       "    }\n",
       "\n",
       "    .dataframe thead th {\n",
       "        text-align: right;\n",
       "    }\n",
       "</style>\n",
       "<table border=\"1\" class=\"dataframe\">\n",
       "  <thead>\n",
       "    <tr style=\"text-align: right;\">\n",
       "      <th></th>\n",
       "      <th>id</th>\n",
       "      <th>keyword</th>\n",
       "      <th>location</th>\n",
       "      <th>text</th>\n",
       "      <th>target</th>\n",
       "    </tr>\n",
       "  </thead>\n",
       "  <tbody>\n",
       "    <tr>\n",
       "      <th>0</th>\n",
       "      <td>1</td>\n",
       "      <td>NaN</td>\n",
       "      <td>NaN</td>\n",
       "      <td>Our Deeds are the Reason of this #earthquake M...</td>\n",
       "      <td>1</td>\n",
       "    </tr>\n",
       "    <tr>\n",
       "      <th>1</th>\n",
       "      <td>4</td>\n",
       "      <td>NaN</td>\n",
       "      <td>NaN</td>\n",
       "      <td>Forest fire near La Ronge Sask. Canada</td>\n",
       "      <td>1</td>\n",
       "    </tr>\n",
       "    <tr>\n",
       "      <th>2</th>\n",
       "      <td>5</td>\n",
       "      <td>NaN</td>\n",
       "      <td>NaN</td>\n",
       "      <td>All residents asked to 'shelter in place' are ...</td>\n",
       "      <td>1</td>\n",
       "    </tr>\n",
       "    <tr>\n",
       "      <th>3</th>\n",
       "      <td>6</td>\n",
       "      <td>NaN</td>\n",
       "      <td>NaN</td>\n",
       "      <td>13,000 people receive #wildfires evacuation or...</td>\n",
       "      <td>1</td>\n",
       "    </tr>\n",
       "    <tr>\n",
       "      <th>4</th>\n",
       "      <td>7</td>\n",
       "      <td>NaN</td>\n",
       "      <td>NaN</td>\n",
       "      <td>Just got sent this photo from Ruby #Alaska as ...</td>\n",
       "      <td>1</td>\n",
       "    </tr>\n",
       "  </tbody>\n",
       "</table>\n",
       "</div>"
      ],
      "text/plain": [
       "   id keyword location                                               text  \\\n",
       "0   1     NaN      NaN  Our Deeds are the Reason of this #earthquake M...   \n",
       "1   4     NaN      NaN             Forest fire near La Ronge Sask. Canada   \n",
       "2   5     NaN      NaN  All residents asked to 'shelter in place' are ...   \n",
       "3   6     NaN      NaN  13,000 people receive #wildfires evacuation or...   \n",
       "4   7     NaN      NaN  Just got sent this photo from Ruby #Alaska as ...   \n",
       "\n",
       "   target  \n",
       "0       1  \n",
       "1       1  \n",
       "2       1  \n",
       "3       1  \n",
       "4       1  "
      ]
     },
     "execution_count": 3,
     "metadata": {},
     "output_type": "execute_result"
    }
   ],
   "source": [
    "df_train.head()"
   ]
  },
  {
   "cell_type": "code",
   "execution_count": 4,
   "id": "assisted-consumer",
   "metadata": {},
   "outputs": [
    {
     "data": {
      "text/html": [
       "<style  type=\"text/css\" >\n",
       "</style><table id=\"T_913f52cc_7172_11eb_b5b6_9848271e970b\" ><thead>    <tr>        <th class=\"blank level0\" ></th>        <th class=\"col_heading level0 col0\" >missing</th>        <th class=\"col_heading level0 col1\" >total</th>        <th class=\"col_heading level0 col2\" >percent</th>    </tr></thead><tbody>\n",
       "                <tr>\n",
       "                        <th id=\"T_913f52cc_7172_11eb_b5b6_9848271e970blevel0_row0\" class=\"row_heading level0 row0\" >location</th>\n",
       "                        <td id=\"T_913f52cc_7172_11eb_b5b6_9848271e970brow0_col0\" class=\"data row0 col0\" >2,533</td>\n",
       "                        <td id=\"T_913f52cc_7172_11eb_b5b6_9848271e970brow0_col1\" class=\"data row0 col1\" >7,613</td>\n",
       "                        <td id=\"T_913f52cc_7172_11eb_b5b6_9848271e970brow0_col2\" class=\"data row0 col2\" >33.27%</td>\n",
       "            </tr>\n",
       "            <tr>\n",
       "                        <th id=\"T_913f52cc_7172_11eb_b5b6_9848271e970blevel0_row1\" class=\"row_heading level0 row1\" >keyword</th>\n",
       "                        <td id=\"T_913f52cc_7172_11eb_b5b6_9848271e970brow1_col0\" class=\"data row1 col0\" >61</td>\n",
       "                        <td id=\"T_913f52cc_7172_11eb_b5b6_9848271e970brow1_col1\" class=\"data row1 col1\" >7,613</td>\n",
       "                        <td id=\"T_913f52cc_7172_11eb_b5b6_9848271e970brow1_col2\" class=\"data row1 col2\" >0.80%</td>\n",
       "            </tr>\n",
       "            <tr>\n",
       "                        <th id=\"T_913f52cc_7172_11eb_b5b6_9848271e970blevel0_row2\" class=\"row_heading level0 row2\" >id</th>\n",
       "                        <td id=\"T_913f52cc_7172_11eb_b5b6_9848271e970brow2_col0\" class=\"data row2 col0\" >0</td>\n",
       "                        <td id=\"T_913f52cc_7172_11eb_b5b6_9848271e970brow2_col1\" class=\"data row2 col1\" >7,613</td>\n",
       "                        <td id=\"T_913f52cc_7172_11eb_b5b6_9848271e970brow2_col2\" class=\"data row2 col2\" >0.00%</td>\n",
       "            </tr>\n",
       "            <tr>\n",
       "                        <th id=\"T_913f52cc_7172_11eb_b5b6_9848271e970blevel0_row3\" class=\"row_heading level0 row3\" >text</th>\n",
       "                        <td id=\"T_913f52cc_7172_11eb_b5b6_9848271e970brow3_col0\" class=\"data row3 col0\" >0</td>\n",
       "                        <td id=\"T_913f52cc_7172_11eb_b5b6_9848271e970brow3_col1\" class=\"data row3 col1\" >7,613</td>\n",
       "                        <td id=\"T_913f52cc_7172_11eb_b5b6_9848271e970brow3_col2\" class=\"data row3 col2\" >0.00%</td>\n",
       "            </tr>\n",
       "            <tr>\n",
       "                        <th id=\"T_913f52cc_7172_11eb_b5b6_9848271e970blevel0_row4\" class=\"row_heading level0 row4\" >target</th>\n",
       "                        <td id=\"T_913f52cc_7172_11eb_b5b6_9848271e970brow4_col0\" class=\"data row4 col0\" >0</td>\n",
       "                        <td id=\"T_913f52cc_7172_11eb_b5b6_9848271e970brow4_col1\" class=\"data row4 col1\" >7,613</td>\n",
       "                        <td id=\"T_913f52cc_7172_11eb_b5b6_9848271e970brow4_col2\" class=\"data row4 col2\" >0.00%</td>\n",
       "            </tr>\n",
       "    </tbody></table>"
      ],
      "text/plain": [
       "<pandas.io.formats.style.Styler at 0x250f337fc08>"
      ]
     },
     "execution_count": 4,
     "metadata": {},
     "output_type": "execute_result"
    }
   ],
   "source": [
    "import sidetable\n",
    "df_train.stb.missing(style=True)"
   ]
  },
  {
   "cell_type": "code",
   "execution_count": 5,
   "id": "important-pasta",
   "metadata": {},
   "outputs": [],
   "source": [
    "from keras.preprocessing.text import Tokenizer\n",
    "from keras.preprocessing import sequence\n",
    "import numpy as np\n",
    "def get_pad_sq(df):\n",
    "    text = np.array(df.text)\n",
    "    tokenizer = Tokenizer(num_words=len(df.text.unique()))\n",
    "    tokenizer.fit_on_texts(text)\n",
    "    sequences = tokenizer.texts_to_sequences(text)\n",
    "    df = sequence.pad_sequences(sequences, maxlen=150)\n",
    "    return df"
   ]
  },
  {
   "cell_type": "code",
   "execution_count": 6,
   "id": "extensive-citizen",
   "metadata": {},
   "outputs": [],
   "source": [
    "X_train = get_pad_sq(df_train)\n",
    "test = get_pad_sq(df_test)\n",
    "y_train = np.array(df_train.target)"
   ]
  },
  {
   "cell_type": "code",
   "execution_count": 7,
   "id": "tribal-french",
   "metadata": {
    "scrolled": true
   },
   "outputs": [],
   "source": [
    "'''\n",
    "Credit source: \n",
    "    https://www.tensorflow.org/tutorials/keras/keras_tuner\n",
    "    https://medium.com/@mrunal68/text-sentiments-classification-with-cnn-and-lstm-f92652bc29fd\n",
    "    https://blog.tensorflow.org/2020/01/hyperparameter-tuning-with-keras-tuner.html\n",
    "'''\n",
    "\n",
    "from keras.models import Sequential\n",
    "from keras.layers.embeddings import Embedding\n",
    "from keras.layers import Dense, MaxPooling1D, LSTM, Dropout\n",
    "from keras.optimizers import Adam\n",
    "from keras.callbacks import EarlyStopping\n",
    "\n",
    "def build_model(hp):\n",
    "    # create the model\n",
    "    embedding_vector_length = 32\n",
    "    vocab_size = 10000\n",
    "    hp_units = hp.Int('units', min_value=32, max_value=512, step=32)\n",
    "    hp_learning_rate = hp.Choice('learning_rate', values=[1e-2, 1e-3, 1e-4])\n",
    "    model = Sequential()\n",
    "    model.add(Embedding(vocab_size, embedding_vector_length, input_length=150))\n",
    "    model.add(MaxPooling1D())\n",
    "    model.add(LSTM(64, return_sequences = False))\n",
    "    model.add(Dense(units=hp_units, activation=\"relu\"))\n",
    "    model.add(Dropout(0.25))\n",
    "    model.add(Dense(1, activation='sigmoid'))\n",
    "    model.compile(optimizer=Adam(learning_rate=hp_learning_rate),\n",
    "                loss='binary_crossentropy',\n",
    "                metrics=['accuracy'])\n",
    "    return model"
   ]
  },
  {
   "cell_type": "code",
   "execution_count": 8,
   "id": "visible-chest",
   "metadata": {
    "scrolled": true
   },
   "outputs": [],
   "source": [
    "import kerastuner as kt\n",
    "\n",
    "tuner = kt.Hyperband(build_model,\n",
    "                     objective='val_accuracy',\n",
    "                     max_epochs=16,\n",
    "                     overwrite=True)"
   ]
  },
  {
   "cell_type": "code",
   "execution_count": 9,
   "id": "certified-happiness",
   "metadata": {},
   "outputs": [],
   "source": [
    "# checkpoint = ModelCheckpoint('best_model.h5', monitor='val_accuracy',verbose=0, save_best_only=True)\n",
    "es = EarlyStopping(monitor='val_accuracy', verbose=0, patience=10)\n",
    "callbacks_list = [es]"
   ]
  },
  {
   "cell_type": "code",
   "execution_count": 10,
   "id": "canadian-student",
   "metadata": {
    "scrolled": true
   },
   "outputs": [
    {
     "name": "stdout",
     "output_type": "stream",
     "text": [
      "Trial 30 Complete [00h 01m 48s]\n",
      "val_accuracy: 0.7847769260406494\n",
      "\n",
      "Best val_accuracy So Far: 0.8136482834815979\n",
      "Total elapsed time: 00h 21m 34s\n",
      "INFO:tensorflow:Oracle triggered exit\n"
     ]
    }
   ],
   "source": [
    "tuner.search(X_train, y_train, epochs=64, batch_size=32, validation_split=0.1, callbacks=callbacks_list)"
   ]
  },
  {
   "cell_type": "code",
   "execution_count": 11,
   "id": "consecutive-australian",
   "metadata": {},
   "outputs": [],
   "source": [
    "# Get the optimal hyperparameters\n",
    "best_hps = tuner.get_best_hyperparameters(num_trials=1)[0]"
   ]
  },
  {
   "cell_type": "code",
   "execution_count": 12,
   "id": "dramatic-declaration",
   "metadata": {
    "scrolled": true
   },
   "outputs": [
    {
     "name": "stdout",
     "output_type": "stream",
     "text": [
      "Epoch 1/64\n",
      "215/215 [==============================] - 10s 34ms/step - loss: 0.5702 - accuracy: 0.7136 - val_loss: 0.4415 - val_accuracy: 0.8018\n",
      "Epoch 2/64\n",
      "215/215 [==============================] - 7s 31ms/step - loss: 0.2823 - accuracy: 0.8941 - val_loss: 0.4950 - val_accuracy: 0.7822\n",
      "Epoch 3/64\n",
      "215/215 [==============================] - 7s 30ms/step - loss: 0.1599 - accuracy: 0.9442 - val_loss: 0.8128 - val_accuracy: 0.7467\n",
      "Epoch 4/64\n",
      "215/215 [==============================] - 7s 30ms/step - loss: 0.0864 - accuracy: 0.9666 - val_loss: 1.1600 - val_accuracy: 0.7310\n",
      "Epoch 5/64\n",
      "215/215 [==============================] - 6s 30ms/step - loss: 0.0785 - accuracy: 0.9712 - val_loss: 0.9152 - val_accuracy: 0.7231\n",
      "Epoch 6/64\n",
      "215/215 [==============================] - 7s 30ms/step - loss: 0.0562 - accuracy: 0.9733 - val_loss: 1.3604 - val_accuracy: 0.7310\n",
      "Epoch 7/64\n",
      "215/215 [==============================] - 7s 30ms/step - loss: 0.0512 - accuracy: 0.9776 - val_loss: 1.5303 - val_accuracy: 0.7467\n",
      "Epoch 8/64\n",
      "215/215 [==============================] - 7s 31ms/step - loss: 0.0391 - accuracy: 0.9802 - val_loss: 1.5842 - val_accuracy: 0.7454\n",
      "Epoch 9/64\n",
      "215/215 [==============================] - 7s 31ms/step - loss: 0.0380 - accuracy: 0.9800 - val_loss: 1.4541 - val_accuracy: 0.7231\n",
      "Epoch 10/64\n",
      "215/215 [==============================] - 7s 30ms/step - loss: 0.0457 - accuracy: 0.9792 - val_loss: 1.9667 - val_accuracy: 0.7441\n",
      "Epoch 11/64\n",
      "215/215 [==============================] - 6s 30ms/step - loss: 0.0366 - accuracy: 0.9800 - val_loss: 2.1268 - val_accuracy: 0.7546\n",
      "Epoch 12/64\n",
      "215/215 [==============================] - 7s 31ms/step - loss: 0.0448 - accuracy: 0.9809 - val_loss: 1.7538 - val_accuracy: 0.7402\n",
      "Epoch 13/64\n",
      "215/215 [==============================] - 6s 30ms/step - loss: 0.0357 - accuracy: 0.9799 - val_loss: 2.2065 - val_accuracy: 0.7598\n",
      "Epoch 14/64\n",
      "215/215 [==============================] - 7s 30ms/step - loss: 0.0320 - accuracy: 0.9840 - val_loss: 1.9049 - val_accuracy: 0.7546\n",
      "Epoch 15/64\n",
      "215/215 [==============================] - 7s 31ms/step - loss: 0.0305 - accuracy: 0.9831 - val_loss: 1.7461 - val_accuracy: 0.7638\n",
      "Epoch 16/64\n",
      "215/215 [==============================] - 6s 28ms/step - loss: 0.0279 - accuracy: 0.9860 - val_loss: 2.2576 - val_accuracy: 0.7467\n",
      "Epoch 17/64\n",
      "215/215 [==============================] - 6s 28ms/step - loss: 0.0270 - accuracy: 0.9861 - val_loss: 1.7740 - val_accuracy: 0.7559\n",
      "Epoch 18/64\n",
      "215/215 [==============================] - 6s 28ms/step - loss: 0.0311 - accuracy: 0.9834 - val_loss: 2.0064 - val_accuracy: 0.7428\n",
      "Epoch 19/64\n",
      "215/215 [==============================] - 6s 29ms/step - loss: 0.0495 - accuracy: 0.9803 - val_loss: 1.1851 - val_accuracy: 0.7454\n",
      "Epoch 20/64\n",
      "215/215 [==============================] - 6s 28ms/step - loss: 0.0567 - accuracy: 0.9767 - val_loss: 1.4863 - val_accuracy: 0.7572\n",
      "Epoch 21/64\n",
      "215/215 [==============================] - 6s 28ms/step - loss: 0.0514 - accuracy: 0.9782 - val_loss: 1.7842 - val_accuracy: 0.7428\n",
      "Epoch 22/64\n",
      "215/215 [==============================] - 6s 28ms/step - loss: 0.0361 - accuracy: 0.9828 - val_loss: 1.7205 - val_accuracy: 0.7441\n",
      "Epoch 23/64\n",
      "215/215 [==============================] - 6s 28ms/step - loss: 0.0312 - accuracy: 0.9850 - val_loss: 1.9087 - val_accuracy: 0.7585\n",
      "Epoch 24/64\n",
      "215/215 [==============================] - 6s 28ms/step - loss: 0.0346 - accuracy: 0.9825 - val_loss: 2.0617 - val_accuracy: 0.7349\n",
      "Epoch 25/64\n",
      "215/215 [==============================] - 6s 28ms/step - loss: 0.0342 - accuracy: 0.9822 - val_loss: 2.3641 - val_accuracy: 0.7362\n",
      "Epoch 26/64\n",
      "215/215 [==============================] - 7s 30ms/step - loss: 0.0296 - accuracy: 0.9854 - val_loss: 2.1687 - val_accuracy: 0.7362\n",
      "Epoch 27/64\n",
      "215/215 [==============================] - 6s 30ms/step - loss: 0.0383 - accuracy: 0.9814 - val_loss: 2.3807 - val_accuracy: 0.7310\n",
      "Epoch 28/64\n",
      "215/215 [==============================] - 7s 31ms/step - loss: 0.0318 - accuracy: 0.9853 - val_loss: 1.7999 - val_accuracy: 0.7323\n",
      "Epoch 29/64\n",
      "215/215 [==============================] - 7s 31ms/step - loss: 0.0300 - accuracy: 0.9851 - val_loss: 2.7614 - val_accuracy: 0.7297\n",
      "Epoch 30/64\n",
      "215/215 [==============================] - 6s 30ms/step - loss: 0.0288 - accuracy: 0.9854 - val_loss: 3.1983 - val_accuracy: 0.7192\n",
      "Epoch 31/64\n",
      "215/215 [==============================] - 7s 30ms/step - loss: 0.0286 - accuracy: 0.9846 - val_loss: 2.4612 - val_accuracy: 0.7336\n",
      "Epoch 32/64\n",
      "215/215 [==============================] - 7s 30ms/step - loss: 0.0290 - accuracy: 0.9832 - val_loss: 3.0112 - val_accuracy: 0.7297\n",
      "Epoch 33/64\n",
      "215/215 [==============================] - 7s 31ms/step - loss: 0.0280 - accuracy: 0.9837 - val_loss: 3.2769 - val_accuracy: 0.7323\n",
      "Epoch 34/64\n",
      "215/215 [==============================] - 7s 31ms/step - loss: 0.0279 - accuracy: 0.9838 - val_loss: 2.8925 - val_accuracy: 0.7388\n",
      "Epoch 35/64\n",
      "215/215 [==============================] - 7s 31ms/step - loss: 0.0324 - accuracy: 0.9837 - val_loss: 3.1907 - val_accuracy: 0.7441\n",
      "Epoch 36/64\n",
      "215/215 [==============================] - 7s 31ms/step - loss: 0.0268 - accuracy: 0.9860 - val_loss: 2.6127 - val_accuracy: 0.7310\n",
      "Epoch 37/64\n",
      "215/215 [==============================] - 7s 31ms/step - loss: 0.0288 - accuracy: 0.9844 - val_loss: 3.9367 - val_accuracy: 0.7152\n",
      "Epoch 38/64\n",
      "215/215 [==============================] - 7s 32ms/step - loss: 0.0342 - accuracy: 0.9809 - val_loss: 2.9283 - val_accuracy: 0.7362\n",
      "Epoch 39/64\n",
      "215/215 [==============================] - 7s 31ms/step - loss: 0.0382 - accuracy: 0.9817 - val_loss: 2.6063 - val_accuracy: 0.7165\n",
      "Epoch 40/64\n",
      "215/215 [==============================] - 7s 30ms/step - loss: 0.0476 - accuracy: 0.9807 - val_loss: 1.9993 - val_accuracy: 0.7218\n",
      "Epoch 41/64\n",
      "215/215 [==============================] - 7s 30ms/step - loss: 0.0360 - accuracy: 0.9837 - val_loss: 2.5563 - val_accuracy: 0.7270\n",
      "Epoch 42/64\n",
      "215/215 [==============================] - 7s 31ms/step - loss: 0.0333 - accuracy: 0.9837 - val_loss: 1.9716 - val_accuracy: 0.7270\n",
      "Epoch 43/64\n",
      "215/215 [==============================] - 7s 30ms/step - loss: 0.0284 - accuracy: 0.9830 - val_loss: 2.5998 - val_accuracy: 0.7270\n",
      "Epoch 44/64\n",
      "215/215 [==============================] - 7s 30ms/step - loss: 0.0310 - accuracy: 0.9801 - val_loss: 2.5183 - val_accuracy: 0.7257\n",
      "Epoch 45/64\n",
      "215/215 [==============================] - 7s 31ms/step - loss: 0.0308 - accuracy: 0.9834 - val_loss: 2.7857 - val_accuracy: 0.7297\n",
      "Epoch 46/64\n",
      "215/215 [==============================] - 7s 31ms/step - loss: 0.0246 - accuracy: 0.9872 - val_loss: 2.2559 - val_accuracy: 0.7375\n",
      "Epoch 47/64\n",
      "215/215 [==============================] - 7s 31ms/step - loss: 0.0287 - accuracy: 0.9829 - val_loss: 2.8379 - val_accuracy: 0.7349\n",
      "Epoch 48/64\n",
      "215/215 [==============================] - 7s 34ms/step - loss: 0.0242 - accuracy: 0.9876 - val_loss: 2.3740 - val_accuracy: 0.7323\n",
      "Epoch 49/64\n",
      "215/215 [==============================] - 7s 32ms/step - loss: 0.0256 - accuracy: 0.9864 - val_loss: 2.8201 - val_accuracy: 0.7244\n",
      "Epoch 50/64\n",
      "215/215 [==============================] - 7s 34ms/step - loss: 0.0275 - accuracy: 0.9837 - val_loss: 2.7104 - val_accuracy: 0.7388\n",
      "Epoch 51/64\n",
      "215/215 [==============================] - 6s 29ms/step - loss: 0.0251 - accuracy: 0.9853 - val_loss: 2.6380 - val_accuracy: 0.7362\n",
      "Epoch 52/64\n",
      "215/215 [==============================] - 6s 28ms/step - loss: 0.0267 - accuracy: 0.9835 - val_loss: 2.5778 - val_accuracy: 0.7323\n",
      "Epoch 53/64\n",
      "215/215 [==============================] - 7s 32ms/step - loss: 0.0258 - accuracy: 0.9864 - val_loss: 2.9831 - val_accuracy: 0.7297\n",
      "Epoch 54/64\n",
      "215/215 [==============================] - 6s 29ms/step - loss: 0.0270 - accuracy: 0.9850 - val_loss: 2.6115 - val_accuracy: 0.7362\n",
      "Epoch 55/64\n",
      "215/215 [==============================] - 6s 29ms/step - loss: 0.0262 - accuracy: 0.9853 - val_loss: 2.7033 - val_accuracy: 0.7349\n",
      "Epoch 56/64\n",
      "215/215 [==============================] - 6s 28ms/step - loss: 0.0246 - accuracy: 0.9871 - val_loss: 3.1132 - val_accuracy: 0.7310\n",
      "Epoch 57/64\n",
      "215/215 [==============================] - 6s 30ms/step - loss: 0.0280 - accuracy: 0.9852 - val_loss: 2.8400 - val_accuracy: 0.7126\n",
      "Epoch 58/64\n",
      "215/215 [==============================] - 6s 29ms/step - loss: 0.0282 - accuracy: 0.9825 - val_loss: 2.3763 - val_accuracy: 0.7388\n",
      "Epoch 59/64\n",
      "215/215 [==============================] - 6s 28ms/step - loss: 0.0271 - accuracy: 0.9860 - val_loss: 3.1175 - val_accuracy: 0.7362\n",
      "Epoch 60/64\n",
      "215/215 [==============================] - 6s 28ms/step - loss: 0.0309 - accuracy: 0.9830 - val_loss: 2.2992 - val_accuracy: 0.7402\n",
      "Epoch 61/64\n",
      "215/215 [==============================] - 6s 28ms/step - loss: 0.0602 - accuracy: 0.9777 - val_loss: 1.3987 - val_accuracy: 0.7480\n",
      "Epoch 62/64\n",
      "215/215 [==============================] - 6s 28ms/step - loss: 0.0645 - accuracy: 0.9739 - val_loss: 1.6833 - val_accuracy: 0.7467\n",
      "Epoch 63/64\n",
      "215/215 [==============================] - 6s 29ms/step - loss: 0.0372 - accuracy: 0.9798 - val_loss: 2.0428 - val_accuracy: 0.7467\n",
      "Epoch 64/64\n",
      "215/215 [==============================] - 6s 29ms/step - loss: 0.0280 - accuracy: 0.9867 - val_loss: 2.4526 - val_accuracy: 0.7428\n"
     ]
    }
   ],
   "source": [
    "# Build the model with the optimal hyperparameters and train it on the data for 64 epochs\n",
    "model = tuner.hypermodel.build(best_hps)\n",
    "history = model.fit(X_train, y_train, epochs=64, batch_size=32, validation_split=0.1)\n",
    "\n",
    "val_acc_per_epoch = history.history['val_accuracy']\n",
    "best_epoch = val_acc_per_epoch.index(max(val_acc_per_epoch)) + 1"
   ]
  },
  {
   "cell_type": "code",
   "execution_count": 13,
   "id": "supreme-majority",
   "metadata": {},
   "outputs": [
    {
     "name": "stdout",
     "output_type": "stream",
     "text": [
      "238/238 [==============================] - 10s 32ms/step - loss: 0.5622 - accuracy: 0.70991s - loss: 0.5731 -  - ETA: 0s - loss:\n"
     ]
    }
   ],
   "source": [
    "from keras.models import save_model\n",
    "hypermodel = tuner.hypermodel.build(best_hps)\n",
    "\n",
    "# Retrain the model\n",
    "hypermodel.fit(X_train, y_train, epochs=best_epoch)\n",
    "hypermodel.save('best_model.h5')"
   ]
  },
  {
   "cell_type": "code",
   "execution_count": 14,
   "id": "northern-playing",
   "metadata": {},
   "outputs": [
    {
     "name": "stdout",
     "output_type": "stream",
     "text": [
      "238/238 [==============================] - 3s 8ms/step - loss: 0.3257 - accuracy: 0.8693\n",
      "[test loss, test accuracy]: [0.3256552219390869, 0.86930251121521]\n"
     ]
    }
   ],
   "source": [
    "eval_result = hypermodel.evaluate(X_train, y_train)\n",
    "print(\"[test loss, test accuracy]:\", eval_result)"
   ]
  },
  {
   "cell_type": "code",
   "execution_count": 15,
   "id": "generous-balloon",
   "metadata": {},
   "outputs": [],
   "source": [
    "# Load the model and predict\n",
    "from keras.models import load_model\n",
    "hypermodel = load_model('best_model.h5')\n",
    "y_pred = hypermodel.predict(test)"
   ]
  },
  {
   "cell_type": "code",
   "execution_count": 16,
   "id": "subjective-banks",
   "metadata": {},
   "outputs": [],
   "source": [
    "y_pred = pd.DataFrame([1 if x >= 0.5 else 0 for x in y_pred], columns=['target'], index=df_test.id)"
   ]
  },
  {
   "cell_type": "code",
   "execution_count": 17,
   "id": "standing-camel",
   "metadata": {},
   "outputs": [],
   "source": [
    "# saving the dataframe \n",
    "y_pred.to_csv('Predictions.csv') "
   ]
  },
  {
   "cell_type": "code",
   "execution_count": 18,
   "id": "concerned-authentication",
   "metadata": {},
   "outputs": [],
   "source": [
    "import winsound\n",
    "duration = 2000  # milliseconds\n",
    "freq = 3000  # Hz\n",
    "winsound.Beep(freq, duration)"
   ]
  }
 ],
 "metadata": {
  "kernelspec": {
   "display_name": "Python [conda env:gputest] *",
   "language": "python",
   "name": "conda-env-gputest-py"
  },
  "language_info": {
   "codemirror_mode": {
    "name": "ipython",
    "version": 3
   },
   "file_extension": ".py",
   "mimetype": "text/x-python",
   "name": "python",
   "nbconvert_exporter": "python",
   "pygments_lexer": "ipython3",
   "version": "3.7.9"
  }
 },
 "nbformat": 4,
 "nbformat_minor": 5
}
