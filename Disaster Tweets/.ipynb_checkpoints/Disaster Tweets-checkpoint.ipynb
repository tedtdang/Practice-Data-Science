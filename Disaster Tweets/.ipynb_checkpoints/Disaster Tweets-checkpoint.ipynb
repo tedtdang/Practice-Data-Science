{
 "cells": [
  {
   "cell_type": "markdown",
   "id": "caring-parts",
   "metadata": {},
   "source": [
    "### This is from a Kaggle competition: https://www.kaggle.com/c/nlp-getting-started/submit"
   ]
  },
  {
   "cell_type": "code",
   "execution_count": 1,
   "id": "union-leeds",
   "metadata": {},
   "outputs": [],
   "source": [
    "import pandas as pd\n",
    "\n",
    "df_train = pd.read_csv('train.csv')\n",
    "df_test = pd.read_csv('test.csv')"
   ]
  },
  {
   "cell_type": "code",
   "execution_count": 2,
   "id": "altered-connecticut",
   "metadata": {},
   "outputs": [],
   "source": [
    "df_train = df_train"
   ]
  },
  {
   "cell_type": "code",
   "execution_count": 3,
   "id": "individual-hunger",
   "metadata": {},
   "outputs": [
    {
     "data": {
      "text/html": [
       "<div>\n",
       "<style scoped>\n",
       "    .dataframe tbody tr th:only-of-type {\n",
       "        vertical-align: middle;\n",
       "    }\n",
       "\n",
       "    .dataframe tbody tr th {\n",
       "        vertical-align: top;\n",
       "    }\n",
       "\n",
       "    .dataframe thead th {\n",
       "        text-align: right;\n",
       "    }\n",
       "</style>\n",
       "<table border=\"1\" class=\"dataframe\">\n",
       "  <thead>\n",
       "    <tr style=\"text-align: right;\">\n",
       "      <th></th>\n",
       "      <th>id</th>\n",
       "      <th>keyword</th>\n",
       "      <th>location</th>\n",
       "      <th>text</th>\n",
       "      <th>target</th>\n",
       "    </tr>\n",
       "  </thead>\n",
       "  <tbody>\n",
       "    <tr>\n",
       "      <th>0</th>\n",
       "      <td>1</td>\n",
       "      <td>NaN</td>\n",
       "      <td>NaN</td>\n",
       "      <td>Our Deeds are the Reason of this #earthquake M...</td>\n",
       "      <td>1</td>\n",
       "    </tr>\n",
       "    <tr>\n",
       "      <th>1</th>\n",
       "      <td>4</td>\n",
       "      <td>NaN</td>\n",
       "      <td>NaN</td>\n",
       "      <td>Forest fire near La Ronge Sask. Canada</td>\n",
       "      <td>1</td>\n",
       "    </tr>\n",
       "    <tr>\n",
       "      <th>2</th>\n",
       "      <td>5</td>\n",
       "      <td>NaN</td>\n",
       "      <td>NaN</td>\n",
       "      <td>All residents asked to 'shelter in place' are ...</td>\n",
       "      <td>1</td>\n",
       "    </tr>\n",
       "    <tr>\n",
       "      <th>3</th>\n",
       "      <td>6</td>\n",
       "      <td>NaN</td>\n",
       "      <td>NaN</td>\n",
       "      <td>13,000 people receive #wildfires evacuation or...</td>\n",
       "      <td>1</td>\n",
       "    </tr>\n",
       "    <tr>\n",
       "      <th>4</th>\n",
       "      <td>7</td>\n",
       "      <td>NaN</td>\n",
       "      <td>NaN</td>\n",
       "      <td>Just got sent this photo from Ruby #Alaska as ...</td>\n",
       "      <td>1</td>\n",
       "    </tr>\n",
       "  </tbody>\n",
       "</table>\n",
       "</div>"
      ],
      "text/plain": [
       "   id keyword location                                               text  \\\n",
       "0   1     NaN      NaN  Our Deeds are the Reason of this #earthquake M...   \n",
       "1   4     NaN      NaN             Forest fire near La Ronge Sask. Canada   \n",
       "2   5     NaN      NaN  All residents asked to 'shelter in place' are ...   \n",
       "3   6     NaN      NaN  13,000 people receive #wildfires evacuation or...   \n",
       "4   7     NaN      NaN  Just got sent this photo from Ruby #Alaska as ...   \n",
       "\n",
       "   target  \n",
       "0       1  \n",
       "1       1  \n",
       "2       1  \n",
       "3       1  \n",
       "4       1  "
      ]
     },
     "execution_count": 3,
     "metadata": {},
     "output_type": "execute_result"
    }
   ],
   "source": [
    "df_train.head()"
   ]
  },
  {
   "cell_type": "code",
   "execution_count": 4,
   "id": "latin-experience",
   "metadata": {},
   "outputs": [
    {
     "data": {
      "text/html": [
       "<style  type=\"text/css\" >\n",
       "</style><table id=\"T_b1c80_\" ><thead>    <tr>        <th class=\"blank level0\" ></th>        <th class=\"col_heading level0 col0\" >missing</th>        <th class=\"col_heading level0 col1\" >total</th>        <th class=\"col_heading level0 col2\" >percent</th>    </tr></thead><tbody>\n",
       "                <tr>\n",
       "                        <th id=\"T_b1c80_level0_row0\" class=\"row_heading level0 row0\" >location</th>\n",
       "                        <td id=\"T_b1c80_row0_col0\" class=\"data row0 col0\" >2,533</td>\n",
       "                        <td id=\"T_b1c80_row0_col1\" class=\"data row0 col1\" >7,613</td>\n",
       "                        <td id=\"T_b1c80_row0_col2\" class=\"data row0 col2\" >33.27%</td>\n",
       "            </tr>\n",
       "            <tr>\n",
       "                        <th id=\"T_b1c80_level0_row1\" class=\"row_heading level0 row1\" >keyword</th>\n",
       "                        <td id=\"T_b1c80_row1_col0\" class=\"data row1 col0\" >61</td>\n",
       "                        <td id=\"T_b1c80_row1_col1\" class=\"data row1 col1\" >7,613</td>\n",
       "                        <td id=\"T_b1c80_row1_col2\" class=\"data row1 col2\" >0.80%</td>\n",
       "            </tr>\n",
       "            <tr>\n",
       "                        <th id=\"T_b1c80_level0_row2\" class=\"row_heading level0 row2\" >id</th>\n",
       "                        <td id=\"T_b1c80_row2_col0\" class=\"data row2 col0\" >0</td>\n",
       "                        <td id=\"T_b1c80_row2_col1\" class=\"data row2 col1\" >7,613</td>\n",
       "                        <td id=\"T_b1c80_row2_col2\" class=\"data row2 col2\" >0.00%</td>\n",
       "            </tr>\n",
       "            <tr>\n",
       "                        <th id=\"T_b1c80_level0_row3\" class=\"row_heading level0 row3\" >text</th>\n",
       "                        <td id=\"T_b1c80_row3_col0\" class=\"data row3 col0\" >0</td>\n",
       "                        <td id=\"T_b1c80_row3_col1\" class=\"data row3 col1\" >7,613</td>\n",
       "                        <td id=\"T_b1c80_row3_col2\" class=\"data row3 col2\" >0.00%</td>\n",
       "            </tr>\n",
       "            <tr>\n",
       "                        <th id=\"T_b1c80_level0_row4\" class=\"row_heading level0 row4\" >target</th>\n",
       "                        <td id=\"T_b1c80_row4_col0\" class=\"data row4 col0\" >0</td>\n",
       "                        <td id=\"T_b1c80_row4_col1\" class=\"data row4 col1\" >7,613</td>\n",
       "                        <td id=\"T_b1c80_row4_col2\" class=\"data row4 col2\" >0.00%</td>\n",
       "            </tr>\n",
       "    </tbody></table>"
      ],
      "text/plain": [
       "<pandas.io.formats.style.Styler at 0x1ec489a0948>"
      ]
     },
     "execution_count": 4,
     "metadata": {},
     "output_type": "execute_result"
    }
   ],
   "source": [
    "import sidetable\n",
    "df_train.stb.missing(style=True)"
   ]
  },
  {
   "cell_type": "code",
   "execution_count": 5,
   "id": "excessive-wealth",
   "metadata": {},
   "outputs": [],
   "source": [
    "from keras.preprocessing.text import Tokenizer\n",
    "from keras.preprocessing import sequence\n",
    "import numpy as np\n",
    "def get_pad_sq(df):\n",
    "    text = np.array(df.text)\n",
    "    tokenizer = Tokenizer(num_words=len(df.text.unique()))\n",
    "    tokenizer.fit_on_texts(text)\n",
    "    sequences = tokenizer.texts_to_sequences(text)\n",
    "    df = sequence.pad_sequences(sequences, maxlen=150)\n",
    "    return df"
   ]
  },
  {
   "cell_type": "code",
   "execution_count": 6,
   "id": "damaged-subject",
   "metadata": {},
   "outputs": [],
   "source": [
    "X_train = get_pad_sq(df_train)\n",
    "test = get_pad_sq(df_test)\n",
    "y_train = np.array(df_train.target)"
   ]
  },
  {
   "cell_type": "code",
   "execution_count": 8,
   "id": "sudden-algeria",
   "metadata": {
    "scrolled": true
   },
   "outputs": [],
   "source": [
    "'''\n",
    "Credit source: \n",
    "    https://www.tensorflow.org/tutorials/keras/keras_tuner\n",
    "    https://medium.com/@mrunal68/text-sentiments-classification-with-cnn-and-lstm-f92652bc29fd\n",
    "    https://blog.tensorflow.org/2020/01/hyperparameter-tuning-with-keras-tuner.html\n",
    "'''\n",
    "\n",
    "from keras.models import Sequential\n",
    "from keras.layers.embeddings import Embedding\n",
    "from keras.layers import Dense, MaxPooling1D, LSTM, Dropout\n",
    "from keras.optimizers import Adam\n",
    "from keras.callbacks import EarlyStopping\n",
    "\n",
    "def build_model(hp):\n",
    "    # create the model\n",
    "    embedding_vector_length = 32\n",
    "    vocab_size = 10000\n",
    "    hp_units = hp.Int('units', min_value=32, max_value=512, step=32)\n",
    "    hp_learning_rate = hp.Choice('learning_rate', values=[1e-2, 1e-3, 1e-4])\n",
    "    model = Sequential()\n",
    "    model.add(Embedding(vocab_size, embedding_vector_length, input_length=150))\n",
    "    model.add(MaxPooling1D())\n",
    "    model.add(LSTM(64, return_sequences = False))\n",
    "    model.add(Dense(units=hp_units, activation=\"relu\"))\n",
    "    model.add(Dropout(0.25))\n",
    "    model.add(Dense(1, activation='sigmoid'))\n",
    "    model.compile(optimizer=Adam(learning_rate=hp_learning_rate),\n",
    "                loss='binary_crossentropy',\n",
    "                metrics=['accuracy'])\n",
    "    return model"
   ]
  },
  {
   "cell_type": "code",
   "execution_count": 9,
   "id": "polished-sector",
   "metadata": {
    "scrolled": true
   },
   "outputs": [],
   "source": [
    "import kerastuner as kt\n",
    "\n",
    "tuner = kt.Hyperband(build_model,\n",
    "                     objective='val_accuracy',\n",
    "                     max_epochs=16,\n",
    "                     overwrite=True)"
   ]
  },
  {
   "cell_type": "code",
   "execution_count": 10,
   "id": "adopted-earthquake",
   "metadata": {},
   "outputs": [],
   "source": [
    "# checkpoint = ModelCheckpoint('best_model.h5', monitor='val_accuracy',verbose=0, save_best_only=True)\n",
    "es = EarlyStopping(monitor='val_accuracy', verbose=0, patience=10)\n",
    "callbacks_list = [es]"
   ]
  },
  {
   "cell_type": "code",
   "execution_count": 11,
   "id": "relevant-marathon",
   "metadata": {
    "scrolled": true
   },
   "outputs": [
    {
     "name": "stdout",
     "output_type": "stream",
     "text": [
      "Trial 30 Complete [00h 00m 39s]\n",
      "val_accuracy: 0.9007092118263245\n",
      "\n",
      "Best val_accuracy So Far: 1.0\n",
      "Total elapsed time: 00h 08m 03s\n",
      "INFO:tensorflow:Oracle triggered exit\n"
     ]
    }
   ],
   "source": [
    "tuner.search(X_train, y_train, epochs=64, batch_size=32, validation_split=0.1, callbacks=callbacks_list)"
   ]
  },
  {
   "cell_type": "code",
   "execution_count": 12,
   "id": "funded-phone",
   "metadata": {},
   "outputs": [],
   "source": [
    "# Get the optimal hyperparameters\n",
    "best_hps = tuner.get_best_hyperparameters(num_trials=1)[0]"
   ]
  },
  {
   "cell_type": "code",
   "execution_count": 13,
   "id": "willing-tracy",
   "metadata": {
    "scrolled": true
   },
   "outputs": [
    {
     "name": "stdout",
     "output_type": "stream",
     "text": [
      "Epoch 1/64\n",
      "80/80 [==============================] - 5s 33ms/step - loss: 0.6910 - accuracy: 0.5505 - val_loss: 0.6595 - val_accuracy: 0.9965\n",
      "Epoch 2/64\n",
      "80/80 [==============================] - 2s 26ms/step - loss: 0.6766 - accuracy: 0.6526 - val_loss: 0.5810 - val_accuracy: 0.9539\n",
      "Epoch 3/64\n",
      "80/80 [==============================] - 2s 26ms/step - loss: 0.6156 - accuracy: 0.7080 - val_loss: 0.4660 - val_accuracy: 0.8156\n",
      "Epoch 4/64\n",
      "80/80 [==============================] - 2s 26ms/step - loss: 0.5158 - accuracy: 0.7604 - val_loss: 0.5147 - val_accuracy: 0.7305\n",
      "Epoch 5/64\n",
      "80/80 [==============================] - 2s 26ms/step - loss: 0.4671 - accuracy: 0.7775 - val_loss: 0.4810 - val_accuracy: 0.7589\n",
      "Epoch 6/64\n",
      "80/80 [==============================] - 2s 26ms/step - loss: 0.3975 - accuracy: 0.8129 - val_loss: 0.4315 - val_accuracy: 0.7908\n",
      "Epoch 7/64\n",
      "80/80 [==============================] - 2s 27ms/step - loss: 0.3226 - accuracy: 0.8682 - val_loss: 0.5100 - val_accuracy: 0.7376\n",
      "Epoch 8/64\n",
      "80/80 [==============================] - 2s 26ms/step - loss: 0.2640 - accuracy: 0.8977 - val_loss: 0.2602 - val_accuracy: 0.8759\n",
      "Epoch 9/64\n",
      "80/80 [==============================] - 2s 26ms/step - loss: 0.2224 - accuracy: 0.9047 - val_loss: 0.3032 - val_accuracy: 0.8546\n",
      "Epoch 10/64\n",
      "80/80 [==============================] - 2s 27ms/step - loss: 0.1592 - accuracy: 0.9486 - val_loss: 0.2838 - val_accuracy: 0.8582\n",
      "Epoch 11/64\n",
      "80/80 [==============================] - 2s 26ms/step - loss: 0.1324 - accuracy: 0.9467 - val_loss: 0.3062 - val_accuracy: 0.8652\n",
      "Epoch 12/64\n",
      "80/80 [==============================] - 2s 26ms/step - loss: 0.1052 - accuracy: 0.9588 - val_loss: 0.3395 - val_accuracy: 0.8404\n",
      "Epoch 13/64\n",
      "80/80 [==============================] - 2s 26ms/step - loss: 0.0813 - accuracy: 0.9729 - val_loss: 0.3127 - val_accuracy: 0.8723\n",
      "Epoch 14/64\n",
      "80/80 [==============================] - 2s 26ms/step - loss: 0.0641 - accuracy: 0.9806 - val_loss: 0.2961 - val_accuracy: 0.8794\n",
      "Epoch 15/64\n",
      "80/80 [==============================] - 2s 27ms/step - loss: 0.0541 - accuracy: 0.9841 - val_loss: 0.4694 - val_accuracy: 0.8191\n",
      "Epoch 16/64\n",
      "80/80 [==============================] - 2s 26ms/step - loss: 0.0475 - accuracy: 0.9840 - val_loss: 0.4734 - val_accuracy: 0.8262\n",
      "Epoch 17/64\n",
      "80/80 [==============================] - 2s 27ms/step - loss: 0.0326 - accuracy: 0.9919 - val_loss: 0.3835 - val_accuracy: 0.8617\n",
      "Epoch 18/64\n",
      "80/80 [==============================] - 2s 27ms/step - loss: 0.0218 - accuracy: 0.9956 - val_loss: 0.3572 - val_accuracy: 0.8794\n",
      "Epoch 19/64\n",
      "80/80 [==============================] - 2s 27ms/step - loss: 0.0279 - accuracy: 0.9937 - val_loss: 0.4886 - val_accuracy: 0.8404\n",
      "Epoch 20/64\n",
      "80/80 [==============================] - 2s 26ms/step - loss: 0.0200 - accuracy: 0.9947 - val_loss: 0.4353 - val_accuracy: 0.8582\n",
      "Epoch 21/64\n",
      "80/80 [==============================] - 2s 26ms/step - loss: 0.0200 - accuracy: 0.9974 - val_loss: 0.5456 - val_accuracy: 0.8298\n",
      "Epoch 22/64\n",
      "80/80 [==============================] - 2s 26ms/step - loss: 0.0129 - accuracy: 0.9956 - val_loss: 0.5797 - val_accuracy: 0.8262\n",
      "Epoch 23/64\n",
      "80/80 [==============================] - 2s 26ms/step - loss: 0.0116 - accuracy: 0.9967 - val_loss: 0.4630 - val_accuracy: 0.8617\n",
      "Epoch 24/64\n",
      "80/80 [==============================] - 2s 26ms/step - loss: 0.0111 - accuracy: 0.9986 - val_loss: 0.6994 - val_accuracy: 0.7979\n",
      "Epoch 25/64\n",
      "80/80 [==============================] - 2s 26ms/step - loss: 0.0078 - accuracy: 0.9985 - val_loss: 0.7304 - val_accuracy: 0.7943\n",
      "Epoch 26/64\n",
      "80/80 [==============================] - 2s 26ms/step - loss: 0.0095 - accuracy: 0.9982 - val_loss: 0.5670 - val_accuracy: 0.8546\n",
      "Epoch 27/64\n",
      "80/80 [==============================] - 2s 26ms/step - loss: 0.0062 - accuracy: 0.9991 - val_loss: 0.7018 - val_accuracy: 0.8085\n",
      "Epoch 28/64\n",
      "80/80 [==============================] - 2s 26ms/step - loss: 0.0071 - accuracy: 0.9983 - val_loss: 0.7362 - val_accuracy: 0.8050\n",
      "Epoch 29/64\n",
      "80/80 [==============================] - 2s 27ms/step - loss: 0.0064 - accuracy: 0.9988 - val_loss: 0.8420 - val_accuracy: 0.7766\n",
      "Epoch 30/64\n",
      "80/80 [==============================] - 2s 26ms/step - loss: 0.0048 - accuracy: 0.9993 - val_loss: 0.6145 - val_accuracy: 0.8440\n",
      "Epoch 31/64\n",
      "80/80 [==============================] - 2s 27ms/step - loss: 0.0055 - accuracy: 0.9988 - val_loss: 0.6928 - val_accuracy: 0.8121\n",
      "Epoch 32/64\n",
      "80/80 [==============================] - 2s 26ms/step - loss: 0.0042 - accuracy: 0.9999 - val_loss: 0.6579 - val_accuracy: 0.8333\n",
      "Epoch 33/64\n",
      "80/80 [==============================] - 2s 26ms/step - loss: 0.0037 - accuracy: 0.9998 - val_loss: 0.8069 - val_accuracy: 0.7872\n",
      "Epoch 34/64\n",
      "80/80 [==============================] - 2s 26ms/step - loss: 0.0041 - accuracy: 0.9995 - val_loss: 0.7667 - val_accuracy: 0.8085\n",
      "Epoch 35/64\n",
      "80/80 [==============================] - 2s 27ms/step - loss: 0.0029 - accuracy: 0.9998 - val_loss: 0.8317 - val_accuracy: 0.7801\n",
      "Epoch 36/64\n",
      "80/80 [==============================] - 2s 26ms/step - loss: 0.0032 - accuracy: 0.9994 - val_loss: 0.6596 - val_accuracy: 0.8369\n",
      "Epoch 37/64\n",
      "80/80 [==============================] - 2s 26ms/step - loss: 0.0031 - accuracy: 0.9998 - val_loss: 0.6686 - val_accuracy: 0.8333\n",
      "Epoch 38/64\n",
      "80/80 [==============================] - 2s 27ms/step - loss: 0.0022 - accuracy: 1.0000 - val_loss: 0.6409 - val_accuracy: 0.8475\n",
      "Epoch 39/64\n",
      "80/80 [==============================] - 2s 27ms/step - loss: 0.0033 - accuracy: 0.9993 - val_loss: 0.7485 - val_accuracy: 0.8262\n",
      "Epoch 40/64\n",
      "80/80 [==============================] - 2s 26ms/step - loss: 0.0016 - accuracy: 0.9999 - val_loss: 0.8049 - val_accuracy: 0.8156\n",
      "Epoch 41/64\n",
      "80/80 [==============================] - 2s 27ms/step - loss: 0.0028 - accuracy: 0.9999 - val_loss: 0.8689 - val_accuracy: 0.8014\n",
      "Epoch 42/64\n",
      "80/80 [==============================] - 2s 26ms/step - loss: 0.0017 - accuracy: 1.0000 - val_loss: 0.5931 - val_accuracy: 0.8652\n",
      "Epoch 43/64\n",
      "80/80 [==============================] - 2s 27ms/step - loss: 0.0019 - accuracy: 0.9998 - val_loss: 1.2853 - val_accuracy: 0.7340\n",
      "Epoch 44/64\n",
      "80/80 [==============================] - 2s 27ms/step - loss: 0.0021 - accuracy: 0.9996 - val_loss: 0.8759 - val_accuracy: 0.7908\n",
      "Epoch 45/64\n",
      "80/80 [==============================] - 2s 27ms/step - loss: 0.0021 - accuracy: 0.9993 - val_loss: 1.2339 - val_accuracy: 0.7482\n",
      "Epoch 46/64\n",
      "80/80 [==============================] - 2s 28ms/step - loss: 0.0015 - accuracy: 0.9998 - val_loss: 1.0034 - val_accuracy: 0.7872\n",
      "Epoch 47/64\n",
      "80/80 [==============================] - 2s 27ms/step - loss: 0.0012 - accuracy: 0.9995 - val_loss: 0.8783 - val_accuracy: 0.8050\n",
      "Epoch 48/64\n",
      "80/80 [==============================] - 2s 27ms/step - loss: 0.0016 - accuracy: 0.9998 - val_loss: 0.9730 - val_accuracy: 0.7979\n",
      "Epoch 49/64\n",
      "80/80 [==============================] - 2s 27ms/step - loss: 0.0014 - accuracy: 0.9997 - val_loss: 0.8715 - val_accuracy: 0.8191\n",
      "Epoch 50/64\n",
      "80/80 [==============================] - 2s 27ms/step - loss: 8.8641e-04 - accuracy: 0.9997 - val_loss: 0.9991 - val_accuracy: 0.7908\n",
      "Epoch 51/64\n",
      "80/80 [==============================] - 2s 27ms/step - loss: 8.0261e-04 - accuracy: 1.0000 - val_loss: 1.2310 - val_accuracy: 0.7624\n",
      "Epoch 52/64\n",
      "80/80 [==============================] - 2s 27ms/step - loss: 8.4389e-04 - accuracy: 0.9999 - val_loss: 1.3671 - val_accuracy: 0.7411\n",
      "Epoch 53/64\n",
      "80/80 [==============================] - 2s 27ms/step - loss: 8.0815e-04 - accuracy: 1.0000 - val_loss: 1.0188 - val_accuracy: 0.7801\n",
      "Epoch 54/64\n",
      "80/80 [==============================] - 2s 27ms/step - loss: 0.0013 - accuracy: 1.0000 - val_loss: 0.9748 - val_accuracy: 0.8156\n",
      "Epoch 55/64\n",
      "80/80 [==============================] - 2s 27ms/step - loss: 6.5821e-04 - accuracy: 0.9998 - val_loss: 1.1952 - val_accuracy: 0.7447\n",
      "Epoch 56/64\n",
      "80/80 [==============================] - 2s 27ms/step - loss: 0.0011 - accuracy: 1.0000 - val_loss: 1.3353 - val_accuracy: 0.7624\n",
      "Epoch 57/64\n",
      "80/80 [==============================] - 2s 27ms/step - loss: 0.0012 - accuracy: 1.0000 - val_loss: 1.0328 - val_accuracy: 0.7908\n",
      "Epoch 58/64\n",
      "80/80 [==============================] - 2s 27ms/step - loss: 7.1751e-04 - accuracy: 1.0000 - val_loss: 1.3920 - val_accuracy: 0.7447\n",
      "Epoch 59/64\n",
      "80/80 [==============================] - 2s 27ms/step - loss: 8.4989e-04 - accuracy: 1.0000 - val_loss: 0.9514 - val_accuracy: 0.8121\n",
      "Epoch 60/64\n",
      "80/80 [==============================] - 2s 27ms/step - loss: 5.3991e-04 - accuracy: 1.0000 - val_loss: 1.3322 - val_accuracy: 0.7624\n",
      "Epoch 61/64\n",
      "80/80 [==============================] - 2s 27ms/step - loss: 4.1427e-04 - accuracy: 1.0000 - val_loss: 0.8282 - val_accuracy: 0.8404\n",
      "Epoch 62/64\n",
      "80/80 [==============================] - 2s 28ms/step - loss: 5.2340e-04 - accuracy: 1.0000 - val_loss: 1.0659 - val_accuracy: 0.8014\n",
      "Epoch 63/64\n",
      "80/80 [==============================] - 2s 27ms/step - loss: 4.4715e-04 - accuracy: 1.0000 - val_loss: 1.1514 - val_accuracy: 0.7872\n",
      "Epoch 64/64\n",
      "80/80 [==============================] - 2s 27ms/step - loss: 5.9876e-04 - accuracy: 1.0000 - val_loss: 1.2916 - val_accuracy: 0.7766\n"
     ]
    }
   ],
   "source": [
    "# Build the model with the optimal hyperparameters and train it on the data for 64 epochs\n",
    "model = tuner.hypermodel.build(best_hps)\n",
    "history = model.fit(X_train, y_train, epochs=64, batch_size=32, validation_split=0.1)\n",
    "\n",
    "val_acc_per_epoch = history.history['val_accuracy']\n",
    "best_epoch = val_acc_per_epoch.index(max(val_acc_per_epoch)) + 1"
   ]
  },
  {
   "cell_type": "code",
   "execution_count": 14,
   "id": "veterinary-daughter",
   "metadata": {},
   "outputs": [
    {
     "name": "stdout",
     "output_type": "stream",
     "text": [
      "89/89 [==============================] - 4s 26ms/step - loss: 0.6886 - accuracy: 0.5839\n"
     ]
    }
   ],
   "source": [
    "from keras.models import save_model\n",
    "hypermodel = tuner.hypermodel.build(best_hps)\n",
    "\n",
    "# Retrain the model\n",
    "hypermodel.fit(X_train, y_train, epochs=best_epoch)\n",
    "hypermodel.save('best_model.h5')"
   ]
  },
  {
   "cell_type": "code",
   "execution_count": 15,
   "id": "capable-property",
   "metadata": {},
   "outputs": [
    {
     "name": "stdout",
     "output_type": "stream",
     "text": [
      "89/89 [==============================] - 1s 7ms/step - loss: 0.6715 - accuracy: 0.5995\n",
      "[test loss, test accuracy]: [0.671535074710846, 0.5995033979415894]\n"
     ]
    }
   ],
   "source": [
    "eval_result = hypermodel.evaluate(X_train, y_train)\n",
    "print(\"[test loss, test accuracy]:\", eval_result)"
   ]
  },
  {
   "cell_type": "code",
   "execution_count": 16,
   "id": "invalid-rocket",
   "metadata": {},
   "outputs": [],
   "source": [
    "# Load the model and predict\n",
    "from keras.models import load_model\n",
    "hypermodel = load_model('best_model.h5')\n",
    "y_pred = hypermodel.predict(test)"
   ]
  },
  {
   "cell_type": "code",
   "execution_count": 17,
   "id": "commercial-milton",
   "metadata": {},
   "outputs": [],
   "source": [
    "y_pred = pd.DataFrame([1 if x >= 0.5 else 0 for x in y_pred], columns=['target'], index=df_test.id)"
   ]
  },
  {
   "cell_type": "code",
   "execution_count": 18,
   "id": "connected-giant",
   "metadata": {},
   "outputs": [],
   "source": [
    "# saving the dataframe \n",
    "y_pred.to_csv('Predictions.csv') "
   ]
  },
  {
   "cell_type": "code",
   "execution_count": 19,
   "id": "asian-taiwan",
   "metadata": {},
   "outputs": [],
   "source": [
    "import winsound\n",
    "duration = 2000  # milliseconds\n",
    "freq = 3000  # Hz\n",
    "winsound.Beep(freq, duration)"
   ]
  }
 ],
 "metadata": {
  "kernelspec": {
   "display_name": "Python 3.7 (GPU)",
   "language": "python",
   "name": "gputest"
  },
  "language_info": {
   "codemirror_mode": {
    "name": "ipython",
    "version": 3
   },
   "file_extension": ".py",
   "mimetype": "text/x-python",
   "name": "python",
   "nbconvert_exporter": "python",
   "pygments_lexer": "ipython3",
   "version": "3.7.9"
  }
 },
 "nbformat": 4,
 "nbformat_minor": 5
}
