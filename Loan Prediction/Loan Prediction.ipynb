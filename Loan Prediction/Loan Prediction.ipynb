{
 "cells": [
  {
   "cell_type": "code",
   "execution_count": 8,
   "metadata": {},
   "outputs": [],
   "source": [
    "# Import pandas library and the data set\n",
    "import pandas as pd\n",
    "import sidetable\n",
    "import numpy as np\n",
    "from DataScience import *\n",
    "df = pd.read_csv('train_ctrUa4K.csv', index_col='Loan_ID')\n",
    "X_test = pd.read_csv('test_lAUu6dG.csv', index_col='Loan_ID')"
   ]
  },
  {
   "cell_type": "code",
   "execution_count": 9,
   "metadata": {},
   "outputs": [
    {
     "data": {
      "text/html": [
       "<div>\n",
       "<style scoped>\n",
       "    .dataframe tbody tr th:only-of-type {\n",
       "        vertical-align: middle;\n",
       "    }\n",
       "\n",
       "    .dataframe tbody tr th {\n",
       "        vertical-align: top;\n",
       "    }\n",
       "\n",
       "    .dataframe thead th {\n",
       "        text-align: right;\n",
       "    }\n",
       "</style>\n",
       "<table border=\"1\" class=\"dataframe\">\n",
       "  <thead>\n",
       "    <tr style=\"text-align: right;\">\n",
       "      <th></th>\n",
       "      <th>Gender</th>\n",
       "      <th>Married</th>\n",
       "      <th>Dependents</th>\n",
       "      <th>Education</th>\n",
       "      <th>Self_Employed</th>\n",
       "      <th>ApplicantIncome</th>\n",
       "      <th>CoapplicantIncome</th>\n",
       "      <th>LoanAmount</th>\n",
       "      <th>Loan_Amount_Term</th>\n",
       "      <th>Credit_History</th>\n",
       "      <th>Property_Area</th>\n",
       "      <th>Loan_Status</th>\n",
       "    </tr>\n",
       "    <tr>\n",
       "      <th>Loan_ID</th>\n",
       "      <th></th>\n",
       "      <th></th>\n",
       "      <th></th>\n",
       "      <th></th>\n",
       "      <th></th>\n",
       "      <th></th>\n",
       "      <th></th>\n",
       "      <th></th>\n",
       "      <th></th>\n",
       "      <th></th>\n",
       "      <th></th>\n",
       "      <th></th>\n",
       "    </tr>\n",
       "  </thead>\n",
       "  <tbody>\n",
       "    <tr>\n",
       "      <th>LP001002</th>\n",
       "      <td>Male</td>\n",
       "      <td>No</td>\n",
       "      <td>0</td>\n",
       "      <td>Graduate</td>\n",
       "      <td>No</td>\n",
       "      <td>5849</td>\n",
       "      <td>0.0</td>\n",
       "      <td>NaN</td>\n",
       "      <td>360.0</td>\n",
       "      <td>1.0</td>\n",
       "      <td>Urban</td>\n",
       "      <td>Y</td>\n",
       "    </tr>\n",
       "    <tr>\n",
       "      <th>LP001003</th>\n",
       "      <td>Male</td>\n",
       "      <td>Yes</td>\n",
       "      <td>1</td>\n",
       "      <td>Graduate</td>\n",
       "      <td>No</td>\n",
       "      <td>4583</td>\n",
       "      <td>1508.0</td>\n",
       "      <td>128.0</td>\n",
       "      <td>360.0</td>\n",
       "      <td>1.0</td>\n",
       "      <td>Rural</td>\n",
       "      <td>N</td>\n",
       "    </tr>\n",
       "    <tr>\n",
       "      <th>LP001005</th>\n",
       "      <td>Male</td>\n",
       "      <td>Yes</td>\n",
       "      <td>0</td>\n",
       "      <td>Graduate</td>\n",
       "      <td>Yes</td>\n",
       "      <td>3000</td>\n",
       "      <td>0.0</td>\n",
       "      <td>66.0</td>\n",
       "      <td>360.0</td>\n",
       "      <td>1.0</td>\n",
       "      <td>Urban</td>\n",
       "      <td>Y</td>\n",
       "    </tr>\n",
       "    <tr>\n",
       "      <th>LP001006</th>\n",
       "      <td>Male</td>\n",
       "      <td>Yes</td>\n",
       "      <td>0</td>\n",
       "      <td>Not Graduate</td>\n",
       "      <td>No</td>\n",
       "      <td>2583</td>\n",
       "      <td>2358.0</td>\n",
       "      <td>120.0</td>\n",
       "      <td>360.0</td>\n",
       "      <td>1.0</td>\n",
       "      <td>Urban</td>\n",
       "      <td>Y</td>\n",
       "    </tr>\n",
       "    <tr>\n",
       "      <th>LP001008</th>\n",
       "      <td>Male</td>\n",
       "      <td>No</td>\n",
       "      <td>0</td>\n",
       "      <td>Graduate</td>\n",
       "      <td>No</td>\n",
       "      <td>6000</td>\n",
       "      <td>0.0</td>\n",
       "      <td>141.0</td>\n",
       "      <td>360.0</td>\n",
       "      <td>1.0</td>\n",
       "      <td>Urban</td>\n",
       "      <td>Y</td>\n",
       "    </tr>\n",
       "  </tbody>\n",
       "</table>\n",
       "</div>"
      ],
      "text/plain": [
       "         Gender Married Dependents     Education Self_Employed  \\\n",
       "Loan_ID                                                          \n",
       "LP001002   Male      No          0      Graduate            No   \n",
       "LP001003   Male     Yes          1      Graduate            No   \n",
       "LP001005   Male     Yes          0      Graduate           Yes   \n",
       "LP001006   Male     Yes          0  Not Graduate            No   \n",
       "LP001008   Male      No          0      Graduate            No   \n",
       "\n",
       "          ApplicantIncome  CoapplicantIncome  LoanAmount  Loan_Amount_Term  \\\n",
       "Loan_ID                                                                      \n",
       "LP001002             5849                0.0         NaN             360.0   \n",
       "LP001003             4583             1508.0       128.0             360.0   \n",
       "LP001005             3000                0.0        66.0             360.0   \n",
       "LP001006             2583             2358.0       120.0             360.0   \n",
       "LP001008             6000                0.0       141.0             360.0   \n",
       "\n",
       "          Credit_History Property_Area Loan_Status  \n",
       "Loan_ID                                             \n",
       "LP001002             1.0         Urban           Y  \n",
       "LP001003             1.0         Rural           N  \n",
       "LP001005             1.0         Urban           Y  \n",
       "LP001006             1.0         Urban           Y  \n",
       "LP001008             1.0         Urban           Y  "
      ]
     },
     "execution_count": 9,
     "metadata": {},
     "output_type": "execute_result"
    }
   ],
   "source": [
    "# Have a look at the first five rows\n",
    "df.head()"
   ]
  },
  {
   "cell_type": "code",
   "execution_count": 10,
   "metadata": {},
   "outputs": [
    {
     "data": {
      "text/plain": [
       "Index(['Gender', 'Married', 'Dependents', 'Education', 'Self_Employed',\n",
       "       'ApplicantIncome', 'CoapplicantIncome', 'LoanAmount',\n",
       "       'Loan_Amount_Term', 'Credit_History', 'Property_Area', 'Loan_Status'],\n",
       "      dtype='object')"
      ]
     },
     "execution_count": 10,
     "metadata": {},
     "output_type": "execute_result"
    }
   ],
   "source": [
    "df.columns"
   ]
  },
  {
   "cell_type": "code",
   "execution_count": 11,
   "metadata": {},
   "outputs": [
    {
     "data": {
      "text/html": [
       "<style  type=\"text/css\" >\n",
       "</style><table id=\"T_61d20aae_fd12_11ea_8952_9848271e970b\" ><thead>    <tr>        <th class=\"blank level0\" ></th>        <th class=\"col_heading level0 col0\" >missing</th>        <th class=\"col_heading level0 col1\" >total</th>        <th class=\"col_heading level0 col2\" >percent</th>    </tr></thead><tbody>\n",
       "                <tr>\n",
       "                        <th id=\"T_61d20aae_fd12_11ea_8952_9848271e970blevel0_row0\" class=\"row_heading level0 row0\" >Credit_History</th>\n",
       "                        <td id=\"T_61d20aae_fd12_11ea_8952_9848271e970brow0_col0\" class=\"data row0 col0\" >50</td>\n",
       "                        <td id=\"T_61d20aae_fd12_11ea_8952_9848271e970brow0_col1\" class=\"data row0 col1\" >614</td>\n",
       "                        <td id=\"T_61d20aae_fd12_11ea_8952_9848271e970brow0_col2\" class=\"data row0 col2\" >8.14%</td>\n",
       "            </tr>\n",
       "            <tr>\n",
       "                        <th id=\"T_61d20aae_fd12_11ea_8952_9848271e970blevel0_row1\" class=\"row_heading level0 row1\" >Self_Employed</th>\n",
       "                        <td id=\"T_61d20aae_fd12_11ea_8952_9848271e970brow1_col0\" class=\"data row1 col0\" >32</td>\n",
       "                        <td id=\"T_61d20aae_fd12_11ea_8952_9848271e970brow1_col1\" class=\"data row1 col1\" >614</td>\n",
       "                        <td id=\"T_61d20aae_fd12_11ea_8952_9848271e970brow1_col2\" class=\"data row1 col2\" >5.21%</td>\n",
       "            </tr>\n",
       "            <tr>\n",
       "                        <th id=\"T_61d20aae_fd12_11ea_8952_9848271e970blevel0_row2\" class=\"row_heading level0 row2\" >LoanAmount</th>\n",
       "                        <td id=\"T_61d20aae_fd12_11ea_8952_9848271e970brow2_col0\" class=\"data row2 col0\" >22</td>\n",
       "                        <td id=\"T_61d20aae_fd12_11ea_8952_9848271e970brow2_col1\" class=\"data row2 col1\" >614</td>\n",
       "                        <td id=\"T_61d20aae_fd12_11ea_8952_9848271e970brow2_col2\" class=\"data row2 col2\" >3.58%</td>\n",
       "            </tr>\n",
       "            <tr>\n",
       "                        <th id=\"T_61d20aae_fd12_11ea_8952_9848271e970blevel0_row3\" class=\"row_heading level0 row3\" >Dependents</th>\n",
       "                        <td id=\"T_61d20aae_fd12_11ea_8952_9848271e970brow3_col0\" class=\"data row3 col0\" >15</td>\n",
       "                        <td id=\"T_61d20aae_fd12_11ea_8952_9848271e970brow3_col1\" class=\"data row3 col1\" >614</td>\n",
       "                        <td id=\"T_61d20aae_fd12_11ea_8952_9848271e970brow3_col2\" class=\"data row3 col2\" >2.44%</td>\n",
       "            </tr>\n",
       "            <tr>\n",
       "                        <th id=\"T_61d20aae_fd12_11ea_8952_9848271e970blevel0_row4\" class=\"row_heading level0 row4\" >Loan_Amount_Term</th>\n",
       "                        <td id=\"T_61d20aae_fd12_11ea_8952_9848271e970brow4_col0\" class=\"data row4 col0\" >14</td>\n",
       "                        <td id=\"T_61d20aae_fd12_11ea_8952_9848271e970brow4_col1\" class=\"data row4 col1\" >614</td>\n",
       "                        <td id=\"T_61d20aae_fd12_11ea_8952_9848271e970brow4_col2\" class=\"data row4 col2\" >2.28%</td>\n",
       "            </tr>\n",
       "            <tr>\n",
       "                        <th id=\"T_61d20aae_fd12_11ea_8952_9848271e970blevel0_row5\" class=\"row_heading level0 row5\" >Gender</th>\n",
       "                        <td id=\"T_61d20aae_fd12_11ea_8952_9848271e970brow5_col0\" class=\"data row5 col0\" >13</td>\n",
       "                        <td id=\"T_61d20aae_fd12_11ea_8952_9848271e970brow5_col1\" class=\"data row5 col1\" >614</td>\n",
       "                        <td id=\"T_61d20aae_fd12_11ea_8952_9848271e970brow5_col2\" class=\"data row5 col2\" >2.12%</td>\n",
       "            </tr>\n",
       "            <tr>\n",
       "                        <th id=\"T_61d20aae_fd12_11ea_8952_9848271e970blevel0_row6\" class=\"row_heading level0 row6\" >Married</th>\n",
       "                        <td id=\"T_61d20aae_fd12_11ea_8952_9848271e970brow6_col0\" class=\"data row6 col0\" >3</td>\n",
       "                        <td id=\"T_61d20aae_fd12_11ea_8952_9848271e970brow6_col1\" class=\"data row6 col1\" >614</td>\n",
       "                        <td id=\"T_61d20aae_fd12_11ea_8952_9848271e970brow6_col2\" class=\"data row6 col2\" >0.49%</td>\n",
       "            </tr>\n",
       "            <tr>\n",
       "                        <th id=\"T_61d20aae_fd12_11ea_8952_9848271e970blevel0_row7\" class=\"row_heading level0 row7\" >Education</th>\n",
       "                        <td id=\"T_61d20aae_fd12_11ea_8952_9848271e970brow7_col0\" class=\"data row7 col0\" >0</td>\n",
       "                        <td id=\"T_61d20aae_fd12_11ea_8952_9848271e970brow7_col1\" class=\"data row7 col1\" >614</td>\n",
       "                        <td id=\"T_61d20aae_fd12_11ea_8952_9848271e970brow7_col2\" class=\"data row7 col2\" >0.00%</td>\n",
       "            </tr>\n",
       "            <tr>\n",
       "                        <th id=\"T_61d20aae_fd12_11ea_8952_9848271e970blevel0_row8\" class=\"row_heading level0 row8\" >ApplicantIncome</th>\n",
       "                        <td id=\"T_61d20aae_fd12_11ea_8952_9848271e970brow8_col0\" class=\"data row8 col0\" >0</td>\n",
       "                        <td id=\"T_61d20aae_fd12_11ea_8952_9848271e970brow8_col1\" class=\"data row8 col1\" >614</td>\n",
       "                        <td id=\"T_61d20aae_fd12_11ea_8952_9848271e970brow8_col2\" class=\"data row8 col2\" >0.00%</td>\n",
       "            </tr>\n",
       "            <tr>\n",
       "                        <th id=\"T_61d20aae_fd12_11ea_8952_9848271e970blevel0_row9\" class=\"row_heading level0 row9\" >CoapplicantIncome</th>\n",
       "                        <td id=\"T_61d20aae_fd12_11ea_8952_9848271e970brow9_col0\" class=\"data row9 col0\" >0</td>\n",
       "                        <td id=\"T_61d20aae_fd12_11ea_8952_9848271e970brow9_col1\" class=\"data row9 col1\" >614</td>\n",
       "                        <td id=\"T_61d20aae_fd12_11ea_8952_9848271e970brow9_col2\" class=\"data row9 col2\" >0.00%</td>\n",
       "            </tr>\n",
       "            <tr>\n",
       "                        <th id=\"T_61d20aae_fd12_11ea_8952_9848271e970blevel0_row10\" class=\"row_heading level0 row10\" >Property_Area</th>\n",
       "                        <td id=\"T_61d20aae_fd12_11ea_8952_9848271e970brow10_col0\" class=\"data row10 col0\" >0</td>\n",
       "                        <td id=\"T_61d20aae_fd12_11ea_8952_9848271e970brow10_col1\" class=\"data row10 col1\" >614</td>\n",
       "                        <td id=\"T_61d20aae_fd12_11ea_8952_9848271e970brow10_col2\" class=\"data row10 col2\" >0.00%</td>\n",
       "            </tr>\n",
       "            <tr>\n",
       "                        <th id=\"T_61d20aae_fd12_11ea_8952_9848271e970blevel0_row11\" class=\"row_heading level0 row11\" >Loan_Status</th>\n",
       "                        <td id=\"T_61d20aae_fd12_11ea_8952_9848271e970brow11_col0\" class=\"data row11 col0\" >0</td>\n",
       "                        <td id=\"T_61d20aae_fd12_11ea_8952_9848271e970brow11_col1\" class=\"data row11 col1\" >614</td>\n",
       "                        <td id=\"T_61d20aae_fd12_11ea_8952_9848271e970brow11_col2\" class=\"data row11 col2\" >0.00%</td>\n",
       "            </tr>\n",
       "    </tbody></table>"
      ],
      "text/plain": [
       "<pandas.io.formats.style.Styler at 0x21bfe3b3788>"
      ]
     },
     "execution_count": 11,
     "metadata": {},
     "output_type": "execute_result"
    }
   ],
   "source": [
    "# Have a look at the number of missing values in each column\n",
    "df.stb.missing(style=True)"
   ]
  },
  {
   "cell_type": "code",
   "execution_count": 31,
   "metadata": {},
   "outputs": [
    {
     "name": "stdout",
     "output_type": "stream",
     "text": [
      "[ 1.  0. nan]\n",
      "['No' 'Yes' nan]\n",
      "[ nan 128.  66. 120. 141. 267.  95. 158. 168. 349.  70. 109. 200. 114.\n",
      "  17. 125. 100.  76. 133. 115. 104. 315. 116. 112. 151. 191. 122. 110.\n",
      "  35. 201.  74. 106. 320. 144. 184.  80.  47.  75. 134.  96.  88.  44.\n",
      " 286.  97. 135. 180.  99. 165. 258. 126. 312. 136. 172.  81. 187. 113.\n",
      " 176. 130. 111. 167. 265.  50. 210. 175. 131. 188.  25. 137. 160. 225.\n",
      " 216.  94. 139. 152. 118. 185. 154.  85. 259. 194.  93. 370. 182. 650.\n",
      " 102. 290.  84. 242. 129.  30. 244. 600. 255.  98. 275. 121.  63. 700.\n",
      "  87. 101. 495.  67.  73. 260. 108.  58.  48. 164. 170.  83.  90. 166.\n",
      " 124.  55.  59. 127. 214. 240.  72.  60. 138.  42. 280. 140. 155. 123.\n",
      " 279. 192. 304. 330. 150. 207. 436.  78.  54.  89. 143. 105. 132. 480.\n",
      "  56. 159. 300. 376. 117.  71. 490. 173.  46. 228. 308. 236. 570. 380.\n",
      " 296. 156. 103.  45.  65.  53. 360.  62. 218. 178. 239. 405. 148. 190.\n",
      " 149. 153. 162. 230.  86. 234. 246. 500. 186. 119. 107. 209. 208. 243.\n",
      "  40. 250. 311. 400. 161. 196. 324. 157. 145. 181.  26. 211.   9. 205.\n",
      "  36.  61. 146. 292. 142. 350. 496. 253.]\n",
      "['Male' 'Female' nan]\n",
      "['No' 'Yes' nan]\n"
     ]
    }
   ],
   "source": [
    "for i in ['Credit_History', 'Self_Employed', 'LoanAmount', 'Gender', 'Married']:\n",
    "    print(df[i].unique())"
   ]
  },
  {
   "cell_type": "code",
   "execution_count": 12,
   "metadata": {},
   "outputs": [],
   "source": [
    "# Retrieve num_cols and cat_cols\n",
    "y_train = df.Loan_Status.copy()\n",
    "X_train = df.drop(columns='Loan_Status').copy()\n",
    "num_cols = X_train._get_numeric_data().columns\n",
    "cat_cols = list(set(X_train.columns) - set(num_cols))"
   ]
  },
  {
   "cell_type": "code",
   "execution_count": null,
   "metadata": {},
   "outputs": [],
   "source": []
  },
  {
   "cell_type": "code",
   "execution_count": null,
   "metadata": {},
   "outputs": [],
   "source": [
    "# # Retrieve X and y\n",
    "# X_train = df.drop(['Loan_Status'], axis=1).copy()\n",
    "# y_train = df['Loan_Status'].copy()"
   ]
  },
  {
   "cell_type": "code",
   "execution_count": null,
   "metadata": {},
   "outputs": [],
   "source": [
    "# X_train = process_sets(X_train)\n",
    "# X_test = process_sets(X_test)\n",
    "# best_grid, predictions = rfr_classifier(X_train, y_train, X_test)"
   ]
  },
  {
   "cell_type": "code",
   "execution_count": null,
   "metadata": {},
   "outputs": [],
   "source": [
    "# index = X_test.index\n",
    "# predictions = pd.DataFrame(predictions, columns=['Loan_Status'], index=index)"
   ]
  },
  {
   "cell_type": "code",
   "execution_count": null,
   "metadata": {},
   "outputs": [],
   "source": [
    "# # saving the DataFrame as a CSV file \n",
    "# csv_data = predictions.to_csv('Predictions.csv', index = True) "
   ]
  },
  {
   "cell_type": "code",
   "execution_count": null,
   "metadata": {},
   "outputs": [],
   "source": [
    "pip install category_encoders"
   ]
  },
  {
   "cell_type": "code",
   "execution_count": null,
   "metadata": {},
   "outputs": [],
   "source": []
  }
 ],
 "metadata": {
  "kernelspec": {
   "display_name": "Python 3",
   "language": "python",
   "name": "python3"
  },
  "language_info": {
   "codemirror_mode": {
    "name": "ipython",
    "version": 3
   },
   "file_extension": ".py",
   "mimetype": "text/x-python",
   "name": "python",
   "nbconvert_exporter": "python",
   "pygments_lexer": "ipython3",
   "version": "3.7.9"
  }
 },
 "nbformat": 4,
 "nbformat_minor": 4
}
