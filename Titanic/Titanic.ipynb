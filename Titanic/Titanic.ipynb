{
 "cells": [
  {
   "cell_type": "markdown",
   "metadata": {},
   "source": [
    "### Data sets were acquired from https://www.kaggle.com/c/titanic"
   ]
  },
  {
   "cell_type": "code",
   "execution_count": 1,
   "metadata": {},
   "outputs": [],
   "source": [
    "# Import libraries and the data set\n",
    "import pandas as pd\n",
    "import numpy as np\n",
    "import sidetable\n",
    "import seaborn as sb\n",
    "import matplotlib.pyplot as plt\n",
    "%matplotlib inline\n",
    "\n",
    "df = pd.read_csv('train.csv', index_col=['PassengerId'])\n",
    "X_test = pd.read_csv('test.csv', index_col=['PassengerId'])"
   ]
  },
  {
   "cell_type": "code",
   "execution_count": 2,
   "metadata": {},
   "outputs": [
    {
     "data": {
      "text/html": [
       "<div>\n",
       "<style scoped>\n",
       "    .dataframe tbody tr th:only-of-type {\n",
       "        vertical-align: middle;\n",
       "    }\n",
       "\n",
       "    .dataframe tbody tr th {\n",
       "        vertical-align: top;\n",
       "    }\n",
       "\n",
       "    .dataframe thead th {\n",
       "        text-align: right;\n",
       "    }\n",
       "</style>\n",
       "<table border=\"1\" class=\"dataframe\">\n",
       "  <thead>\n",
       "    <tr style=\"text-align: right;\">\n",
       "      <th></th>\n",
       "      <th>Survived</th>\n",
       "      <th>Pclass</th>\n",
       "      <th>Name</th>\n",
       "      <th>Sex</th>\n",
       "      <th>Age</th>\n",
       "      <th>SibSp</th>\n",
       "      <th>Parch</th>\n",
       "      <th>Ticket</th>\n",
       "      <th>Fare</th>\n",
       "      <th>Cabin</th>\n",
       "      <th>Embarked</th>\n",
       "    </tr>\n",
       "    <tr>\n",
       "      <th>PassengerId</th>\n",
       "      <th></th>\n",
       "      <th></th>\n",
       "      <th></th>\n",
       "      <th></th>\n",
       "      <th></th>\n",
       "      <th></th>\n",
       "      <th></th>\n",
       "      <th></th>\n",
       "      <th></th>\n",
       "      <th></th>\n",
       "      <th></th>\n",
       "    </tr>\n",
       "  </thead>\n",
       "  <tbody>\n",
       "    <tr>\n",
       "      <th>1</th>\n",
       "      <td>0</td>\n",
       "      <td>3</td>\n",
       "      <td>Braund, Mr. Owen Harris</td>\n",
       "      <td>male</td>\n",
       "      <td>22.0</td>\n",
       "      <td>1</td>\n",
       "      <td>0</td>\n",
       "      <td>A/5 21171</td>\n",
       "      <td>7.2500</td>\n",
       "      <td>NaN</td>\n",
       "      <td>S</td>\n",
       "    </tr>\n",
       "    <tr>\n",
       "      <th>2</th>\n",
       "      <td>1</td>\n",
       "      <td>1</td>\n",
       "      <td>Cumings, Mrs. John Bradley (Florence Briggs Th...</td>\n",
       "      <td>female</td>\n",
       "      <td>38.0</td>\n",
       "      <td>1</td>\n",
       "      <td>0</td>\n",
       "      <td>PC 17599</td>\n",
       "      <td>71.2833</td>\n",
       "      <td>C85</td>\n",
       "      <td>C</td>\n",
       "    </tr>\n",
       "    <tr>\n",
       "      <th>3</th>\n",
       "      <td>1</td>\n",
       "      <td>3</td>\n",
       "      <td>Heikkinen, Miss. Laina</td>\n",
       "      <td>female</td>\n",
       "      <td>26.0</td>\n",
       "      <td>0</td>\n",
       "      <td>0</td>\n",
       "      <td>STON/O2. 3101282</td>\n",
       "      <td>7.9250</td>\n",
       "      <td>NaN</td>\n",
       "      <td>S</td>\n",
       "    </tr>\n",
       "    <tr>\n",
       "      <th>4</th>\n",
       "      <td>1</td>\n",
       "      <td>1</td>\n",
       "      <td>Futrelle, Mrs. Jacques Heath (Lily May Peel)</td>\n",
       "      <td>female</td>\n",
       "      <td>35.0</td>\n",
       "      <td>1</td>\n",
       "      <td>0</td>\n",
       "      <td>113803</td>\n",
       "      <td>53.1000</td>\n",
       "      <td>C123</td>\n",
       "      <td>S</td>\n",
       "    </tr>\n",
       "    <tr>\n",
       "      <th>5</th>\n",
       "      <td>0</td>\n",
       "      <td>3</td>\n",
       "      <td>Allen, Mr. William Henry</td>\n",
       "      <td>male</td>\n",
       "      <td>35.0</td>\n",
       "      <td>0</td>\n",
       "      <td>0</td>\n",
       "      <td>373450</td>\n",
       "      <td>8.0500</td>\n",
       "      <td>NaN</td>\n",
       "      <td>S</td>\n",
       "    </tr>\n",
       "  </tbody>\n",
       "</table>\n",
       "</div>"
      ],
      "text/plain": [
       "             Survived  Pclass  \\\n",
       "PassengerId                     \n",
       "1                   0       3   \n",
       "2                   1       1   \n",
       "3                   1       3   \n",
       "4                   1       1   \n",
       "5                   0       3   \n",
       "\n",
       "                                                          Name     Sex   Age  \\\n",
       "PassengerId                                                                    \n",
       "1                                      Braund, Mr. Owen Harris    male  22.0   \n",
       "2            Cumings, Mrs. John Bradley (Florence Briggs Th...  female  38.0   \n",
       "3                                       Heikkinen, Miss. Laina  female  26.0   \n",
       "4                 Futrelle, Mrs. Jacques Heath (Lily May Peel)  female  35.0   \n",
       "5                                     Allen, Mr. William Henry    male  35.0   \n",
       "\n",
       "             SibSp  Parch            Ticket     Fare Cabin Embarked  \n",
       "PassengerId                                                          \n",
       "1                1      0         A/5 21171   7.2500   NaN        S  \n",
       "2                1      0          PC 17599  71.2833   C85        C  \n",
       "3                0      0  STON/O2. 3101282   7.9250   NaN        S  \n",
       "4                1      0            113803  53.1000  C123        S  \n",
       "5                0      0            373450   8.0500   NaN        S  "
      ]
     },
     "execution_count": 2,
     "metadata": {},
     "output_type": "execute_result"
    }
   ],
   "source": [
    "# Have a look at the first five rows\n",
    "df.head()"
   ]
  },
  {
   "cell_type": "markdown",
   "metadata": {},
   "source": [
    "Column __Name__ and __Ticket__ has nothing to do with predicting __Survived__, it will be dropped"
   ]
  },
  {
   "cell_type": "code",
   "execution_count": 3,
   "metadata": {},
   "outputs": [],
   "source": [
    "# Column 'Name' and 'Ticket' have nothing to do with predicting 'Survived', they will be dropped\n",
    "df.drop(columns=['Name'], inplace=True)\n",
    "X_test.drop(columns=['Name'], inplace=True)"
   ]
  },
  {
   "cell_type": "code",
   "execution_count": 4,
   "metadata": {},
   "outputs": [
    {
     "data": {
      "text/html": [
       "<style  type=\"text/css\" >\n",
       "</style><table id=\"T_61a1f_\" ><thead>    <tr>        <th class=\"blank level0\" ></th>        <th class=\"col_heading level0 col0\" >missing</th>        <th class=\"col_heading level0 col1\" >total</th>        <th class=\"col_heading level0 col2\" >percent</th>    </tr></thead><tbody>\n",
       "                <tr>\n",
       "                        <th id=\"T_61a1f_level0_row0\" class=\"row_heading level0 row0\" >Cabin</th>\n",
       "                        <td id=\"T_61a1f_row0_col0\" class=\"data row0 col0\" >687</td>\n",
       "                        <td id=\"T_61a1f_row0_col1\" class=\"data row0 col1\" >891</td>\n",
       "                        <td id=\"T_61a1f_row0_col2\" class=\"data row0 col2\" >77.10%</td>\n",
       "            </tr>\n",
       "            <tr>\n",
       "                        <th id=\"T_61a1f_level0_row1\" class=\"row_heading level0 row1\" >Age</th>\n",
       "                        <td id=\"T_61a1f_row1_col0\" class=\"data row1 col0\" >177</td>\n",
       "                        <td id=\"T_61a1f_row1_col1\" class=\"data row1 col1\" >891</td>\n",
       "                        <td id=\"T_61a1f_row1_col2\" class=\"data row1 col2\" >19.87%</td>\n",
       "            </tr>\n",
       "            <tr>\n",
       "                        <th id=\"T_61a1f_level0_row2\" class=\"row_heading level0 row2\" >Embarked</th>\n",
       "                        <td id=\"T_61a1f_row2_col0\" class=\"data row2 col0\" >2</td>\n",
       "                        <td id=\"T_61a1f_row2_col1\" class=\"data row2 col1\" >891</td>\n",
       "                        <td id=\"T_61a1f_row2_col2\" class=\"data row2 col2\" >0.22%</td>\n",
       "            </tr>\n",
       "            <tr>\n",
       "                        <th id=\"T_61a1f_level0_row3\" class=\"row_heading level0 row3\" >Survived</th>\n",
       "                        <td id=\"T_61a1f_row3_col0\" class=\"data row3 col0\" >0</td>\n",
       "                        <td id=\"T_61a1f_row3_col1\" class=\"data row3 col1\" >891</td>\n",
       "                        <td id=\"T_61a1f_row3_col2\" class=\"data row3 col2\" >0.00%</td>\n",
       "            </tr>\n",
       "            <tr>\n",
       "                        <th id=\"T_61a1f_level0_row4\" class=\"row_heading level0 row4\" >Pclass</th>\n",
       "                        <td id=\"T_61a1f_row4_col0\" class=\"data row4 col0\" >0</td>\n",
       "                        <td id=\"T_61a1f_row4_col1\" class=\"data row4 col1\" >891</td>\n",
       "                        <td id=\"T_61a1f_row4_col2\" class=\"data row4 col2\" >0.00%</td>\n",
       "            </tr>\n",
       "            <tr>\n",
       "                        <th id=\"T_61a1f_level0_row5\" class=\"row_heading level0 row5\" >Sex</th>\n",
       "                        <td id=\"T_61a1f_row5_col0\" class=\"data row5 col0\" >0</td>\n",
       "                        <td id=\"T_61a1f_row5_col1\" class=\"data row5 col1\" >891</td>\n",
       "                        <td id=\"T_61a1f_row5_col2\" class=\"data row5 col2\" >0.00%</td>\n",
       "            </tr>\n",
       "            <tr>\n",
       "                        <th id=\"T_61a1f_level0_row6\" class=\"row_heading level0 row6\" >SibSp</th>\n",
       "                        <td id=\"T_61a1f_row6_col0\" class=\"data row6 col0\" >0</td>\n",
       "                        <td id=\"T_61a1f_row6_col1\" class=\"data row6 col1\" >891</td>\n",
       "                        <td id=\"T_61a1f_row6_col2\" class=\"data row6 col2\" >0.00%</td>\n",
       "            </tr>\n",
       "            <tr>\n",
       "                        <th id=\"T_61a1f_level0_row7\" class=\"row_heading level0 row7\" >Parch</th>\n",
       "                        <td id=\"T_61a1f_row7_col0\" class=\"data row7 col0\" >0</td>\n",
       "                        <td id=\"T_61a1f_row7_col1\" class=\"data row7 col1\" >891</td>\n",
       "                        <td id=\"T_61a1f_row7_col2\" class=\"data row7 col2\" >0.00%</td>\n",
       "            </tr>\n",
       "            <tr>\n",
       "                        <th id=\"T_61a1f_level0_row8\" class=\"row_heading level0 row8\" >Ticket</th>\n",
       "                        <td id=\"T_61a1f_row8_col0\" class=\"data row8 col0\" >0</td>\n",
       "                        <td id=\"T_61a1f_row8_col1\" class=\"data row8 col1\" >891</td>\n",
       "                        <td id=\"T_61a1f_row8_col2\" class=\"data row8 col2\" >0.00%</td>\n",
       "            </tr>\n",
       "            <tr>\n",
       "                        <th id=\"T_61a1f_level0_row9\" class=\"row_heading level0 row9\" >Fare</th>\n",
       "                        <td id=\"T_61a1f_row9_col0\" class=\"data row9 col0\" >0</td>\n",
       "                        <td id=\"T_61a1f_row9_col1\" class=\"data row9 col1\" >891</td>\n",
       "                        <td id=\"T_61a1f_row9_col2\" class=\"data row9 col2\" >0.00%</td>\n",
       "            </tr>\n",
       "    </tbody></table>"
      ],
      "text/plain": [
       "<pandas.io.formats.style.Styler at 0x1fa29d26a48>"
      ]
     },
     "execution_count": 4,
     "metadata": {},
     "output_type": "execute_result"
    }
   ],
   "source": [
    "# See the missing data in columns\n",
    "df.stb.missing(style=True)"
   ]
  },
  {
   "cell_type": "markdown",
   "metadata": {},
   "source": [
    "As column __Cabin__ has 77% missing values, the column will be dropped.\n",
    "<br>Column __Age__ can be imputed.\n",
    "<br>As column __Embarked__ has 2 missing rows, the rows will be dropped."
   ]
  },
  {
   "cell_type": "code",
   "execution_count": 5,
   "metadata": {},
   "outputs": [],
   "source": [
    "# As Pclass includes fare, I will drop 'Fare'\n",
    "df.drop(columns=['Ticket', 'Cabin'], inplace=True, axis=1)"
   ]
  },
  {
   "cell_type": "code",
   "execution_count": 6,
   "metadata": {},
   "outputs": [
    {
     "data": {
      "text/html": [
       "<style  type=\"text/css\" >\n",
       "</style><table id=\"T_c1eee_\" ><thead>    <tr>        <th class=\"blank level0\" ></th>        <th class=\"col_heading level0 col0\" >missing</th>        <th class=\"col_heading level0 col1\" >total</th>        <th class=\"col_heading level0 col2\" >percent</th>    </tr></thead><tbody>\n",
       "                <tr>\n",
       "                        <th id=\"T_c1eee_level0_row0\" class=\"row_heading level0 row0\" >Cabin</th>\n",
       "                        <td id=\"T_c1eee_row0_col0\" class=\"data row0 col0\" >327</td>\n",
       "                        <td id=\"T_c1eee_row0_col1\" class=\"data row0 col1\" >418</td>\n",
       "                        <td id=\"T_c1eee_row0_col2\" class=\"data row0 col2\" >78.23%</td>\n",
       "            </tr>\n",
       "            <tr>\n",
       "                        <th id=\"T_c1eee_level0_row1\" class=\"row_heading level0 row1\" >Age</th>\n",
       "                        <td id=\"T_c1eee_row1_col0\" class=\"data row1 col0\" >86</td>\n",
       "                        <td id=\"T_c1eee_row1_col1\" class=\"data row1 col1\" >418</td>\n",
       "                        <td id=\"T_c1eee_row1_col2\" class=\"data row1 col2\" >20.57%</td>\n",
       "            </tr>\n",
       "            <tr>\n",
       "                        <th id=\"T_c1eee_level0_row2\" class=\"row_heading level0 row2\" >Fare</th>\n",
       "                        <td id=\"T_c1eee_row2_col0\" class=\"data row2 col0\" >1</td>\n",
       "                        <td id=\"T_c1eee_row2_col1\" class=\"data row2 col1\" >418</td>\n",
       "                        <td id=\"T_c1eee_row2_col2\" class=\"data row2 col2\" >0.24%</td>\n",
       "            </tr>\n",
       "            <tr>\n",
       "                        <th id=\"T_c1eee_level0_row3\" class=\"row_heading level0 row3\" >Pclass</th>\n",
       "                        <td id=\"T_c1eee_row3_col0\" class=\"data row3 col0\" >0</td>\n",
       "                        <td id=\"T_c1eee_row3_col1\" class=\"data row3 col1\" >418</td>\n",
       "                        <td id=\"T_c1eee_row3_col2\" class=\"data row3 col2\" >0.00%</td>\n",
       "            </tr>\n",
       "            <tr>\n",
       "                        <th id=\"T_c1eee_level0_row4\" class=\"row_heading level0 row4\" >Sex</th>\n",
       "                        <td id=\"T_c1eee_row4_col0\" class=\"data row4 col0\" >0</td>\n",
       "                        <td id=\"T_c1eee_row4_col1\" class=\"data row4 col1\" >418</td>\n",
       "                        <td id=\"T_c1eee_row4_col2\" class=\"data row4 col2\" >0.00%</td>\n",
       "            </tr>\n",
       "            <tr>\n",
       "                        <th id=\"T_c1eee_level0_row5\" class=\"row_heading level0 row5\" >SibSp</th>\n",
       "                        <td id=\"T_c1eee_row5_col0\" class=\"data row5 col0\" >0</td>\n",
       "                        <td id=\"T_c1eee_row5_col1\" class=\"data row5 col1\" >418</td>\n",
       "                        <td id=\"T_c1eee_row5_col2\" class=\"data row5 col2\" >0.00%</td>\n",
       "            </tr>\n",
       "            <tr>\n",
       "                        <th id=\"T_c1eee_level0_row6\" class=\"row_heading level0 row6\" >Parch</th>\n",
       "                        <td id=\"T_c1eee_row6_col0\" class=\"data row6 col0\" >0</td>\n",
       "                        <td id=\"T_c1eee_row6_col1\" class=\"data row6 col1\" >418</td>\n",
       "                        <td id=\"T_c1eee_row6_col2\" class=\"data row6 col2\" >0.00%</td>\n",
       "            </tr>\n",
       "            <tr>\n",
       "                        <th id=\"T_c1eee_level0_row7\" class=\"row_heading level0 row7\" >Ticket</th>\n",
       "                        <td id=\"T_c1eee_row7_col0\" class=\"data row7 col0\" >0</td>\n",
       "                        <td id=\"T_c1eee_row7_col1\" class=\"data row7 col1\" >418</td>\n",
       "                        <td id=\"T_c1eee_row7_col2\" class=\"data row7 col2\" >0.00%</td>\n",
       "            </tr>\n",
       "            <tr>\n",
       "                        <th id=\"T_c1eee_level0_row8\" class=\"row_heading level0 row8\" >Embarked</th>\n",
       "                        <td id=\"T_c1eee_row8_col0\" class=\"data row8 col0\" >0</td>\n",
       "                        <td id=\"T_c1eee_row8_col1\" class=\"data row8 col1\" >418</td>\n",
       "                        <td id=\"T_c1eee_row8_col2\" class=\"data row8 col2\" >0.00%</td>\n",
       "            </tr>\n",
       "    </tbody></table>"
      ],
      "text/plain": [
       "<pandas.io.formats.style.Styler at 0x1fa3b120708>"
      ]
     },
     "execution_count": 6,
     "metadata": {},
     "output_type": "execute_result"
    }
   ],
   "source": [
    "X_test.stb.missing(style=True)"
   ]
  },
  {
   "cell_type": "markdown",
   "metadata": {},
   "source": [
    "As column __Cabin__ has 77% missing values, the column will be dropped.\n",
    "<br>Column __Age__ can be imputed.\n",
    "<br>As column __Fare__ has 2 missing rows, the rows will be dropped."
   ]
  },
  {
   "cell_type": "code",
   "execution_count": 7,
   "metadata": {},
   "outputs": [],
   "source": [
    "# As column Cabin is missing a lot, and column Ticket has a lot of unique values, which is hard to encode, I will drop them\n",
    "X_test.drop(columns=['Ticket', 'Cabin'], axis=1, inplace=True)"
   ]
  },
  {
   "cell_type": "code",
   "execution_count": 8,
   "metadata": {},
   "outputs": [
    {
     "data": {
      "text/html": [
       "<style  type=\"text/css\" >\n",
       "</style><table id=\"T_ada09_\" ><thead>    <tr>        <th class=\"blank level0\" ></th>        <th class=\"col_heading level0 col0\" >missing</th>        <th class=\"col_heading level0 col1\" >total</th>        <th class=\"col_heading level0 col2\" >percent</th>    </tr></thead><tbody>\n",
       "                <tr>\n",
       "                        <th id=\"T_ada09_level0_row0\" class=\"row_heading level0 row0\" >Age</th>\n",
       "                        <td id=\"T_ada09_row0_col0\" class=\"data row0 col0\" >177</td>\n",
       "                        <td id=\"T_ada09_row0_col1\" class=\"data row0 col1\" >891</td>\n",
       "                        <td id=\"T_ada09_row0_col2\" class=\"data row0 col2\" >19.87%</td>\n",
       "            </tr>\n",
       "            <tr>\n",
       "                        <th id=\"T_ada09_level0_row1\" class=\"row_heading level0 row1\" >Embarked</th>\n",
       "                        <td id=\"T_ada09_row1_col0\" class=\"data row1 col0\" >2</td>\n",
       "                        <td id=\"T_ada09_row1_col1\" class=\"data row1 col1\" >891</td>\n",
       "                        <td id=\"T_ada09_row1_col2\" class=\"data row1 col2\" >0.22%</td>\n",
       "            </tr>\n",
       "            <tr>\n",
       "                        <th id=\"T_ada09_level0_row2\" class=\"row_heading level0 row2\" >Survived</th>\n",
       "                        <td id=\"T_ada09_row2_col0\" class=\"data row2 col0\" >0</td>\n",
       "                        <td id=\"T_ada09_row2_col1\" class=\"data row2 col1\" >891</td>\n",
       "                        <td id=\"T_ada09_row2_col2\" class=\"data row2 col2\" >0.00%</td>\n",
       "            </tr>\n",
       "            <tr>\n",
       "                        <th id=\"T_ada09_level0_row3\" class=\"row_heading level0 row3\" >Pclass</th>\n",
       "                        <td id=\"T_ada09_row3_col0\" class=\"data row3 col0\" >0</td>\n",
       "                        <td id=\"T_ada09_row3_col1\" class=\"data row3 col1\" >891</td>\n",
       "                        <td id=\"T_ada09_row3_col2\" class=\"data row3 col2\" >0.00%</td>\n",
       "            </tr>\n",
       "            <tr>\n",
       "                        <th id=\"T_ada09_level0_row4\" class=\"row_heading level0 row4\" >Sex</th>\n",
       "                        <td id=\"T_ada09_row4_col0\" class=\"data row4 col0\" >0</td>\n",
       "                        <td id=\"T_ada09_row4_col1\" class=\"data row4 col1\" >891</td>\n",
       "                        <td id=\"T_ada09_row4_col2\" class=\"data row4 col2\" >0.00%</td>\n",
       "            </tr>\n",
       "            <tr>\n",
       "                        <th id=\"T_ada09_level0_row5\" class=\"row_heading level0 row5\" >SibSp</th>\n",
       "                        <td id=\"T_ada09_row5_col0\" class=\"data row5 col0\" >0</td>\n",
       "                        <td id=\"T_ada09_row5_col1\" class=\"data row5 col1\" >891</td>\n",
       "                        <td id=\"T_ada09_row5_col2\" class=\"data row5 col2\" >0.00%</td>\n",
       "            </tr>\n",
       "            <tr>\n",
       "                        <th id=\"T_ada09_level0_row6\" class=\"row_heading level0 row6\" >Parch</th>\n",
       "                        <td id=\"T_ada09_row6_col0\" class=\"data row6 col0\" >0</td>\n",
       "                        <td id=\"T_ada09_row6_col1\" class=\"data row6 col1\" >891</td>\n",
       "                        <td id=\"T_ada09_row6_col2\" class=\"data row6 col2\" >0.00%</td>\n",
       "            </tr>\n",
       "            <tr>\n",
       "                        <th id=\"T_ada09_level0_row7\" class=\"row_heading level0 row7\" >Fare</th>\n",
       "                        <td id=\"T_ada09_row7_col0\" class=\"data row7 col0\" >0</td>\n",
       "                        <td id=\"T_ada09_row7_col1\" class=\"data row7 col1\" >891</td>\n",
       "                        <td id=\"T_ada09_row7_col2\" class=\"data row7 col2\" >0.00%</td>\n",
       "            </tr>\n",
       "    </tbody></table>"
      ],
      "text/plain": [
       "<pandas.io.formats.style.Styler at 0x1fa3ac9cac8>"
      ]
     },
     "execution_count": 8,
     "metadata": {},
     "output_type": "execute_result"
    }
   ],
   "source": [
    "# Recheck the missing data in columns\n",
    "df.stb.missing(style=True)"
   ]
  },
  {
   "cell_type": "code",
   "execution_count": 9,
   "metadata": {},
   "outputs": [
    {
     "data": {
      "text/html": [
       "<style  type=\"text/css\" >\n",
       "</style><table id=\"T_5e7f1_\" ><thead>    <tr>        <th class=\"blank level0\" ></th>        <th class=\"col_heading level0 col0\" >missing</th>        <th class=\"col_heading level0 col1\" >total</th>        <th class=\"col_heading level0 col2\" >percent</th>    </tr></thead><tbody>\n",
       "                <tr>\n",
       "                        <th id=\"T_5e7f1_level0_row0\" class=\"row_heading level0 row0\" >Age</th>\n",
       "                        <td id=\"T_5e7f1_row0_col0\" class=\"data row0 col0\" >86</td>\n",
       "                        <td id=\"T_5e7f1_row0_col1\" class=\"data row0 col1\" >418</td>\n",
       "                        <td id=\"T_5e7f1_row0_col2\" class=\"data row0 col2\" >20.57%</td>\n",
       "            </tr>\n",
       "            <tr>\n",
       "                        <th id=\"T_5e7f1_level0_row1\" class=\"row_heading level0 row1\" >Fare</th>\n",
       "                        <td id=\"T_5e7f1_row1_col0\" class=\"data row1 col0\" >1</td>\n",
       "                        <td id=\"T_5e7f1_row1_col1\" class=\"data row1 col1\" >418</td>\n",
       "                        <td id=\"T_5e7f1_row1_col2\" class=\"data row1 col2\" >0.24%</td>\n",
       "            </tr>\n",
       "            <tr>\n",
       "                        <th id=\"T_5e7f1_level0_row2\" class=\"row_heading level0 row2\" >Pclass</th>\n",
       "                        <td id=\"T_5e7f1_row2_col0\" class=\"data row2 col0\" >0</td>\n",
       "                        <td id=\"T_5e7f1_row2_col1\" class=\"data row2 col1\" >418</td>\n",
       "                        <td id=\"T_5e7f1_row2_col2\" class=\"data row2 col2\" >0.00%</td>\n",
       "            </tr>\n",
       "            <tr>\n",
       "                        <th id=\"T_5e7f1_level0_row3\" class=\"row_heading level0 row3\" >Sex</th>\n",
       "                        <td id=\"T_5e7f1_row3_col0\" class=\"data row3 col0\" >0</td>\n",
       "                        <td id=\"T_5e7f1_row3_col1\" class=\"data row3 col1\" >418</td>\n",
       "                        <td id=\"T_5e7f1_row3_col2\" class=\"data row3 col2\" >0.00%</td>\n",
       "            </tr>\n",
       "            <tr>\n",
       "                        <th id=\"T_5e7f1_level0_row4\" class=\"row_heading level0 row4\" >SibSp</th>\n",
       "                        <td id=\"T_5e7f1_row4_col0\" class=\"data row4 col0\" >0</td>\n",
       "                        <td id=\"T_5e7f1_row4_col1\" class=\"data row4 col1\" >418</td>\n",
       "                        <td id=\"T_5e7f1_row4_col2\" class=\"data row4 col2\" >0.00%</td>\n",
       "            </tr>\n",
       "            <tr>\n",
       "                        <th id=\"T_5e7f1_level0_row5\" class=\"row_heading level0 row5\" >Parch</th>\n",
       "                        <td id=\"T_5e7f1_row5_col0\" class=\"data row5 col0\" >0</td>\n",
       "                        <td id=\"T_5e7f1_row5_col1\" class=\"data row5 col1\" >418</td>\n",
       "                        <td id=\"T_5e7f1_row5_col2\" class=\"data row5 col2\" >0.00%</td>\n",
       "            </tr>\n",
       "            <tr>\n",
       "                        <th id=\"T_5e7f1_level0_row6\" class=\"row_heading level0 row6\" >Embarked</th>\n",
       "                        <td id=\"T_5e7f1_row6_col0\" class=\"data row6 col0\" >0</td>\n",
       "                        <td id=\"T_5e7f1_row6_col1\" class=\"data row6 col1\" >418</td>\n",
       "                        <td id=\"T_5e7f1_row6_col2\" class=\"data row6 col2\" >0.00%</td>\n",
       "            </tr>\n",
       "    </tbody></table>"
      ],
      "text/plain": [
       "<pandas.io.formats.style.Styler at 0x1fa3ac912c8>"
      ]
     },
     "execution_count": 9,
     "metadata": {},
     "output_type": "execute_result"
    }
   ],
   "source": [
    "X_test.stb.missing(style=True)"
   ]
  },
  {
   "cell_type": "code",
   "execution_count": 10,
   "metadata": {},
   "outputs": [],
   "source": [
    "# Get X_train and y_train\n",
    "y_train = df.Survived.copy()\n",
    "X_train = df.drop(columns='Survived').copy()"
   ]
  },
  {
   "cell_type": "code",
   "execution_count": 11,
   "metadata": {},
   "outputs": [],
   "source": [
    "# Retrive num_cols and cat_cols\n",
    "num_cols = list(X_train._get_numeric_data().columns)\n",
    "cat_cols = list(set(X_train.columns) - set(num_cols))"
   ]
  },
  {
   "cell_type": "code",
   "execution_count": 12,
   "metadata": {},
   "outputs": [],
   "source": [
    "# Encode cat_cols\n",
    "X_train = pd.get_dummies(data=X_train, columns=cat_cols, drop_first=True)\n",
    "X_test = pd.get_dummies(data=X_test, columns=cat_cols, drop_first=True)"
   ]
  },
  {
   "cell_type": "code",
   "execution_count": 13,
   "metadata": {},
   "outputs": [],
   "source": [
    "# Impute numeric data\n",
    "from sklearn.experimental import enable_iterative_imputer\n",
    "from sklearn.impute import IterativeImputer\n",
    "num_imputer = IterativeImputer()\n",
    "num_imputer.fit(X_train[num_cols])\n",
    "X_train[num_cols] = num_imputer.transform(X_train[num_cols])\n",
    "X_test[num_cols] = num_imputer.transform(X_test[num_cols])"
   ]
  },
  {
   "cell_type": "code",
   "execution_count": 14,
   "metadata": {},
   "outputs": [],
   "source": [
    "def scale(X, num_cols):\n",
    "    from sklearn.preprocessing import StandardScaler\n",
    "    scaler = StandardScaler()\n",
    "    X_scaled = scaler.fit_transform(X[num_cols])\n",
    "    X_scaled = pd.DataFrame(data=X_scaled, columns=num_cols, index=X.index)\n",
    "    return X_scaled"
   ]
  },
  {
   "cell_type": "code",
   "execution_count": 15,
   "metadata": {},
   "outputs": [],
   "source": [
    "# Scaling data\n",
    "X_scaled = scale(X_train, num_cols)\n",
    "X_test_scaled = scale(X_test, num_cols)"
   ]
  },
  {
   "cell_type": "code",
   "execution_count": 16,
   "metadata": {},
   "outputs": [],
   "source": [
    "# Update cat_cols\n",
    "cat_cols = set(X_train.columns) - set(num_cols)"
   ]
  },
  {
   "cell_type": "code",
   "execution_count": 17,
   "metadata": {},
   "outputs": [],
   "source": [
    "X_train = pd.concat([X_scaled, X_train[cat_cols]], axis=1)"
   ]
  },
  {
   "cell_type": "code",
   "execution_count": 18,
   "metadata": {},
   "outputs": [],
   "source": [
    "from sklearn.model_selection import train_test_split\n",
    "X_train, X_val, y_train, y_val = train_test_split(X_train, y_train, test_size=split_size, stratify=y_train)"
   ]
  },
  {
   "cell_type": "code",
   "execution_count": 19,
   "metadata": {},
   "outputs": [],
   "source": [
    "import tensorflow as tf\n",
    "from tensorflow import keras\n",
    "from tensorflow.keras.models import Sequential\n",
    "from tensorflow.keras.callbacks import EarlyStopping\n",
    "from tensorflow.keras.layers import Activation, Dense, Flatten, BatchNormalization, Dropout\n",
    "from tensorflow.keras.optimizers import Adam\n",
    "\n",
    "# Create the keras tuner model.\n",
    "def build_model(hp):\n",
    "    hp_drop_out = hp.Float('dropout', 0, 0.5, step=0.1)\n",
    "    hp_learning_rate = hp.Choice('learning_rate', values=[1e-2, 1e-3, 1e-4])\n",
    "    model = Sequential()\n",
    "    for i in range(hp.Int('num_layers', 2, 20)):\n",
    "        model.add(Dense(units=hp.Int('units_' + str(i), min_value=32, max_value=512, step=32), activation='relu'))\n",
    "#         model.add(BatchNormalization())\n",
    "        model.add(Dropout(hp_drop_out))\n",
    "#     model.add(Flatten())\n",
    "    model.add(Dense(1, activation='sigmoid'))\n",
    "    opt = Adam(learning_rate=hp.Choice('learning_rate', values=[1e-2, 1e-3, 1e-4]))\n",
    "    model.compile(optimizer=Adam(learning_rate=hp_learning_rate),\n",
    "                loss='binary_crossentropy',\n",
    "                metrics=['accuracy'])\n",
    "    return model"
   ]
  },
  {
   "cell_type": "code",
   "execution_count": 20,
   "metadata": {
    "scrolled": true
   },
   "outputs": [
    {
     "name": "stdout",
     "output_type": "stream",
     "text": [
      "INFO:tensorflow:Reloading Oracle from existing project .\\untitled_project\\oracle.json\n",
      "INFO:tensorflow:Reloading Tuner from .\\untitled_project\\tuner0.json\n"
     ]
    }
   ],
   "source": [
    "'''\n",
    "Credit source: \n",
    "    https://www.tensorflow.org/tutorials/keras/keras_tuner\n",
    "    https://github.com/keras-team/keras-tuner/blob/master/examples/cifar10.py\n",
    "'''\n",
    "import kerastuner as kt\n",
    "\n",
    "tuner = kt.Hyperband(build_model,\n",
    "                     objective='val_accuracy', \n",
    "                     max_epochs=16,\n",
    "                     overwrite=False)"
   ]
  },
  {
   "cell_type": "code",
   "execution_count": 21,
   "metadata": {},
   "outputs": [],
   "source": [
    "es = EarlyStopping(monitor='val_accuracy', verbose=0, patience=10, min_delta=1e-3)\n",
    "callbacks_list = [es]"
   ]
  },
  {
   "cell_type": "code",
   "execution_count": 22,
   "metadata": {
    "scrolled": true
   },
   "outputs": [
    {
     "name": "stdout",
     "output_type": "stream",
     "text": [
      "INFO:tensorflow:Oracle triggered exit\n"
     ]
    }
   ],
   "source": [
    "tuner.search(X_train, y_train, epochs=64, batch_size=32, validation_data=(X_val, y_val), callbacks=callbacks_list)"
   ]
  },
  {
   "cell_type": "code",
   "execution_count": 23,
   "metadata": {
    "scrolled": true
   },
   "outputs": [
    {
     "name": "stdout",
     "output_type": "stream",
     "text": [
      "Epoch 1/64\n",
      "20/20 [==============================] - 2s 43ms/step - loss: 0.6779 - accuracy: 0.5674 - val_loss: 0.5501 - val_accuracy: 0.6157\n",
      "Epoch 2/64\n",
      "20/20 [==============================] - 0s 15ms/step - loss: 0.5818 - accuracy: 0.6144 - val_loss: 0.4958 - val_accuracy: 0.8284\n",
      "Epoch 3/64\n",
      "20/20 [==============================] - 0s 15ms/step - loss: 0.5788 - accuracy: 0.7680 - val_loss: 0.4384 - val_accuracy: 0.8507\n",
      "Epoch 4/64\n",
      "20/20 [==============================] - 0s 15ms/step - loss: 0.4846 - accuracy: 0.8236 - val_loss: 0.4715 - val_accuracy: 0.8358\n",
      "Epoch 5/64\n",
      "20/20 [==============================] - 0s 14ms/step - loss: 0.4781 - accuracy: 0.8201 - val_loss: 0.4402 - val_accuracy: 0.8246\n",
      "Epoch 6/64\n",
      "20/20 [==============================] - 0s 15ms/step - loss: 0.4379 - accuracy: 0.8118 - val_loss: 0.3971 - val_accuracy: 0.8396\n",
      "Epoch 7/64\n",
      "20/20 [==============================] - 0s 15ms/step - loss: 0.4543 - accuracy: 0.8165 - val_loss: 0.3890 - val_accuracy: 0.8433\n",
      "Epoch 8/64\n",
      "20/20 [==============================] - 0s 16ms/step - loss: 0.4194 - accuracy: 0.8455 - val_loss: 0.4177 - val_accuracy: 0.8433\n",
      "Epoch 9/64\n",
      "20/20 [==============================] - 0s 15ms/step - loss: 0.4368 - accuracy: 0.8121 - val_loss: 0.4710 - val_accuracy: 0.8470\n",
      "Epoch 10/64\n",
      "20/20 [==============================] - 0s 15ms/step - loss: 0.4064 - accuracy: 0.8334 - val_loss: 0.4596 - val_accuracy: 0.8545\n",
      "Epoch 11/64\n",
      "20/20 [==============================] - 0s 16ms/step - loss: 0.3800 - accuracy: 0.8576 - val_loss: 0.4761 - val_accuracy: 0.8433\n",
      "Epoch 12/64\n",
      "20/20 [==============================] - 0s 15ms/step - loss: 0.4461 - accuracy: 0.8259 - val_loss: 0.4588 - val_accuracy: 0.8470\n",
      "Epoch 13/64\n",
      "20/20 [==============================] - 0s 14ms/step - loss: 0.4535 - accuracy: 0.7941 - val_loss: 0.5578 - val_accuracy: 0.8321\n",
      "Epoch 14/64\n",
      "20/20 [==============================] - 0s 15ms/step - loss: 0.4199 - accuracy: 0.8333 - val_loss: 0.3914 - val_accuracy: 0.8396\n",
      "Epoch 15/64\n",
      "20/20 [==============================] - 0s 15ms/step - loss: 0.3815 - accuracy: 0.8655 - val_loss: 0.4538 - val_accuracy: 0.8433\n",
      "Epoch 16/64\n",
      "20/20 [==============================] - 0s 15ms/step - loss: 0.4282 - accuracy: 0.8404 - val_loss: 0.4690 - val_accuracy: 0.8396\n",
      "Epoch 17/64\n",
      "20/20 [==============================] - 0s 15ms/step - loss: 0.4055 - accuracy: 0.8317 - val_loss: 0.4625 - val_accuracy: 0.8396\n",
      "Epoch 18/64\n",
      "20/20 [==============================] - 0s 16ms/step - loss: 0.4677 - accuracy: 0.8029 - val_loss: 0.5693 - val_accuracy: 0.7948\n",
      "Epoch 19/64\n",
      "20/20 [==============================] - 0s 14ms/step - loss: 0.4025 - accuracy: 0.8228 - val_loss: 0.6988 - val_accuracy: 0.8470\n",
      "Epoch 20/64\n",
      "20/20 [==============================] - 0s 15ms/step - loss: 0.3848 - accuracy: 0.8455 - val_loss: 0.4747 - val_accuracy: 0.8433\n",
      "Epoch 21/64\n",
      "20/20 [==============================] - 0s 15ms/step - loss: 0.3845 - accuracy: 0.8715 - val_loss: 0.8202 - val_accuracy: 0.8321\n",
      "Epoch 22/64\n",
      "20/20 [==============================] - 0s 15ms/step - loss: 0.4424 - accuracy: 0.8209 - val_loss: 0.5675 - val_accuracy: 0.8284\n",
      "Epoch 23/64\n",
      "20/20 [==============================] - 0s 15ms/step - loss: 0.3628 - accuracy: 0.8647 - val_loss: 0.4224 - val_accuracy: 0.8433\n",
      "Epoch 24/64\n",
      "20/20 [==============================] - 0s 15ms/step - loss: 0.3703 - accuracy: 0.8526 - val_loss: 0.6329 - val_accuracy: 0.8358\n",
      "Epoch 25/64\n",
      "20/20 [==============================] - 0s 15ms/step - loss: 0.3604 - accuracy: 0.8545 - val_loss: 0.5269 - val_accuracy: 0.7985\n",
      "Epoch 26/64\n",
      "20/20 [==============================] - 0s 15ms/step - loss: 0.4455 - accuracy: 0.8149 - val_loss: 0.4970 - val_accuracy: 0.8396\n",
      "Epoch 27/64\n",
      "20/20 [==============================] - 0s 18ms/step - loss: 0.3903 - accuracy: 0.8524 - val_loss: 0.9361 - val_accuracy: 0.8507\n",
      "Epoch 28/64\n",
      "20/20 [==============================] - 0s 15ms/step - loss: 0.3835 - accuracy: 0.8434 - val_loss: 0.7221 - val_accuracy: 0.8358\n",
      "Epoch 29/64\n",
      "20/20 [==============================] - 0s 15ms/step - loss: 0.3962 - accuracy: 0.8377 - val_loss: 0.7416 - val_accuracy: 0.8321\n",
      "Epoch 30/64\n",
      "20/20 [==============================] - 0s 16ms/step - loss: 0.3977 - accuracy: 0.8273 - val_loss: 0.6094 - val_accuracy: 0.7948\n",
      "Epoch 31/64\n",
      "20/20 [==============================] - 0s 15ms/step - loss: 0.4090 - accuracy: 0.7927 - val_loss: 0.4900 - val_accuracy: 0.8358\n",
      "Epoch 32/64\n",
      "20/20 [==============================] - 0s 15ms/step - loss: 0.4400 - accuracy: 0.8150 - val_loss: 0.6295 - val_accuracy: 0.8321\n",
      "Epoch 33/64\n",
      "20/20 [==============================] - 0s 14ms/step - loss: 0.4142 - accuracy: 0.8408 - val_loss: 0.9374 - val_accuracy: 0.8284\n",
      "Epoch 34/64\n",
      "20/20 [==============================] - 0s 16ms/step - loss: 0.3700 - accuracy: 0.8373 - val_loss: 0.6525 - val_accuracy: 0.8284\n",
      "Epoch 35/64\n",
      "20/20 [==============================] - 0s 15ms/step - loss: 0.3498 - accuracy: 0.8584 - val_loss: 1.0127 - val_accuracy: 0.8470\n",
      "Epoch 36/64\n",
      "20/20 [==============================] - 0s 15ms/step - loss: 0.3600 - accuracy: 0.8563 - val_loss: 0.8216 - val_accuracy: 0.8470\n",
      "Epoch 37/64\n",
      "20/20 [==============================] - 0s 15ms/step - loss: 0.3610 - accuracy: 0.8445 - val_loss: 1.3798 - val_accuracy: 0.8396\n",
      "Epoch 38/64\n",
      "20/20 [==============================] - 0s 15ms/step - loss: 0.3420 - accuracy: 0.8585 - val_loss: 0.7783 - val_accuracy: 0.8321\n",
      "Epoch 39/64\n",
      "20/20 [==============================] - 0s 15ms/step - loss: 0.3366 - accuracy: 0.8738 - val_loss: 0.9050 - val_accuracy: 0.8470\n",
      "Epoch 40/64\n",
      "20/20 [==============================] - 0s 15ms/step - loss: 0.3397 - accuracy: 0.8699 - val_loss: 0.9642 - val_accuracy: 0.8582\n",
      "Epoch 41/64\n",
      "20/20 [==============================] - 0s 15ms/step - loss: 0.3614 - accuracy: 0.8519 - val_loss: 1.2074 - val_accuracy: 0.8507\n",
      "Epoch 42/64\n",
      "20/20 [==============================] - 0s 15ms/step - loss: 0.3626 - accuracy: 0.8587 - val_loss: 0.9693 - val_accuracy: 0.8470\n",
      "Epoch 43/64\n",
      "20/20 [==============================] - 0s 15ms/step - loss: 0.3479 - accuracy: 0.8473 - val_loss: 1.0787 - val_accuracy: 0.8470\n",
      "Epoch 44/64\n",
      "20/20 [==============================] - 0s 15ms/step - loss: 0.3618 - accuracy: 0.8514 - val_loss: 0.8964 - val_accuracy: 0.8321\n",
      "Epoch 45/64\n",
      "20/20 [==============================] - 0s 15ms/step - loss: 0.3695 - accuracy: 0.8509 - val_loss: 1.2012 - val_accuracy: 0.8209\n",
      "Epoch 46/64\n",
      "20/20 [==============================] - 0s 15ms/step - loss: 0.3797 - accuracy: 0.8381 - val_loss: 0.8113 - val_accuracy: 0.8284\n",
      "Epoch 47/64\n",
      "20/20 [==============================] - 0s 16ms/step - loss: 0.3669 - accuracy: 0.8426 - val_loss: 0.5611 - val_accuracy: 0.8172\n",
      "Epoch 48/64\n",
      "20/20 [==============================] - 0s 15ms/step - loss: 0.3386 - accuracy: 0.8822 - val_loss: 0.8895 - val_accuracy: 0.8396\n",
      "Epoch 49/64\n",
      "20/20 [==============================] - 0s 17ms/step - loss: 0.3420 - accuracy: 0.8710 - val_loss: 0.7270 - val_accuracy: 0.8358\n",
      "Epoch 50/64\n",
      "20/20 [==============================] - 0s 16ms/step - loss: 0.3350 - accuracy: 0.8637 - val_loss: 0.7644 - val_accuracy: 0.8246\n",
      "Epoch 51/64\n",
      "20/20 [==============================] - 0s 15ms/step - loss: 0.3483 - accuracy: 0.8501 - val_loss: 1.0638 - val_accuracy: 0.8209\n",
      "Epoch 52/64\n",
      "20/20 [==============================] - 0s 15ms/step - loss: 0.3419 - accuracy: 0.8504 - val_loss: 1.2722 - val_accuracy: 0.8284\n",
      "Epoch 53/64\n",
      "20/20 [==============================] - 0s 15ms/step - loss: 0.3104 - accuracy: 0.8742 - val_loss: 0.9410 - val_accuracy: 0.8209\n",
      "Epoch 54/64\n",
      "20/20 [==============================] - 0s 15ms/step - loss: 0.3623 - accuracy: 0.8602 - val_loss: 1.0827 - val_accuracy: 0.8209\n",
      "Epoch 55/64\n",
      "20/20 [==============================] - 0s 15ms/step - loss: 0.3764 - accuracy: 0.8322 - val_loss: 0.9497 - val_accuracy: 0.8321\n",
      "Epoch 56/64\n",
      "20/20 [==============================] - 0s 15ms/step - loss: 0.3211 - accuracy: 0.8654 - val_loss: 1.1827 - val_accuracy: 0.8470\n",
      "Epoch 57/64\n",
      "20/20 [==============================] - 0s 15ms/step - loss: 0.3246 - accuracy: 0.8810 - val_loss: 1.0767 - val_accuracy: 0.8172\n",
      "Epoch 58/64\n",
      "20/20 [==============================] - 0s 17ms/step - loss: 0.3301 - accuracy: 0.8460 - val_loss: 1.2150 - val_accuracy: 0.8358\n",
      "Epoch 59/64\n",
      "20/20 [==============================] - 0s 15ms/step - loss: 0.3571 - accuracy: 0.8583 - val_loss: 1.6297 - val_accuracy: 0.8246\n",
      "Epoch 60/64\n",
      "20/20 [==============================] - 0s 15ms/step - loss: 0.3521 - accuracy: 0.8620 - val_loss: 1.4279 - val_accuracy: 0.8284\n",
      "Epoch 61/64\n",
      "20/20 [==============================] - 0s 16ms/step - loss: 0.3124 - accuracy: 0.8756 - val_loss: 1.5468 - val_accuracy: 0.8246\n",
      "Epoch 62/64\n",
      "20/20 [==============================] - 0s 15ms/step - loss: 0.3632 - accuracy: 0.8359 - val_loss: 2.0908 - val_accuracy: 0.8284\n",
      "Epoch 63/64\n",
      "20/20 [==============================] - 0s 15ms/step - loss: 0.2875 - accuracy: 0.8928 - val_loss: 0.8734 - val_accuracy: 0.8209\n",
      "Epoch 64/64\n",
      "20/20 [==============================] - 0s 16ms/step - loss: 0.3397 - accuracy: 0.8738 - val_loss: 1.7106 - val_accuracy: 0.8209\n"
     ]
    }
   ],
   "source": [
    "# Get the optimal hyperparameters\n",
    "best_hps=tuner.get_best_hyperparameters(num_trials=1)[0]\n",
    "model = tuner.hypermodel.build(best_hps)\n",
    "history = model.fit(X_train, y_train, epochs=64, validation_data=(X_val, y_val))"
   ]
  },
  {
   "cell_type": "code",
   "execution_count": 24,
   "metadata": {},
   "outputs": [
    {
     "name": "stdout",
     "output_type": "stream",
     "text": [
      "Best epoch: 40\n"
     ]
    }
   ],
   "source": [
    "val_acc_per_epoch = history.history['val_accuracy']\n",
    "best_epoch = val_acc_per_epoch.index(max(val_acc_per_epoch)) + 1\n",
    "print('Best epoch: %d' % (best_epoch,))"
   ]
  },
  {
   "cell_type": "code",
   "execution_count": 25,
   "metadata": {
    "scrolled": true
   },
   "outputs": [
    {
     "name": "stdout",
     "output_type": "stream",
     "text": [
      "Epoch 1/40\n",
      "20/20 [==============================] - 2s 12ms/step - loss: 0.6677 - accuracy: 0.6068\n",
      "Epoch 2/40\n",
      "20/20 [==============================] - 0s 12ms/step - loss: 0.5707 - accuracy: 0.6879\n",
      "Epoch 3/40\n",
      "20/20 [==============================] - 0s 12ms/step - loss: 0.5058 - accuracy: 0.8231\n",
      "Epoch 4/40\n",
      "20/20 [==============================] - 0s 12ms/step - loss: 0.5082 - accuracy: 0.7938\n",
      "Epoch 5/40\n",
      "20/20 [==============================] - 0s 12ms/step - loss: 0.5034 - accuracy: 0.8197\n",
      "Epoch 6/40\n",
      "20/20 [==============================] - 0s 11ms/step - loss: 0.4563 - accuracy: 0.8082\n",
      "Epoch 7/40\n",
      "20/20 [==============================] - 0s 11ms/step - loss: 0.4494 - accuracy: 0.8217\n",
      "Epoch 8/40\n",
      "20/20 [==============================] - 0s 12ms/step - loss: 0.4015 - accuracy: 0.8340\n",
      "Epoch 9/40\n",
      "20/20 [==============================] - 0s 12ms/step - loss: 0.4132 - accuracy: 0.8282\n",
      "Epoch 10/40\n",
      "20/20 [==============================] - 0s 12ms/step - loss: 0.4416 - accuracy: 0.8198\n",
      "Epoch 11/40\n",
      "20/20 [==============================] - 0s 12ms/step - loss: 0.4255 - accuracy: 0.8322\n",
      "Epoch 12/40\n",
      "20/20 [==============================] - 0s 12ms/step - loss: 0.3969 - accuracy: 0.8243\n",
      "Epoch 13/40\n",
      "20/20 [==============================] - 0s 12ms/step - loss: 0.3929 - accuracy: 0.8680\n",
      "Epoch 14/40\n",
      "20/20 [==============================] - 0s 12ms/step - loss: 0.4204 - accuracy: 0.8306\n",
      "Epoch 15/40\n",
      "20/20 [==============================] - 0s 12ms/step - loss: 0.3774 - accuracy: 0.8504\n",
      "Epoch 16/40\n",
      "20/20 [==============================] - 0s 12ms/step - loss: 0.3791 - accuracy: 0.8527\n",
      "Epoch 17/40\n",
      "20/20 [==============================] - 0s 12ms/step - loss: 0.4101 - accuracy: 0.8285\n",
      "Epoch 18/40\n",
      "20/20 [==============================] - 0s 12ms/step - loss: 0.3470 - accuracy: 0.8532\n",
      "Epoch 19/40\n",
      "20/20 [==============================] - 0s 12ms/step - loss: 0.4120 - accuracy: 0.8138\n",
      "Epoch 20/40\n",
      "20/20 [==============================] - 0s 12ms/step - loss: 0.3710 - accuracy: 0.8514\n",
      "Epoch 21/40\n",
      "20/20 [==============================] - 0s 12ms/step - loss: 0.3590 - accuracy: 0.8537\n",
      "Epoch 22/40\n",
      "20/20 [==============================] - 0s 12ms/step - loss: 0.4076 - accuracy: 0.8419\n",
      "Epoch 23/40\n",
      "20/20 [==============================] - 0s 12ms/step - loss: 0.4530 - accuracy: 0.8411\n",
      "Epoch 24/40\n",
      "20/20 [==============================] - 0s 12ms/step - loss: 0.4038 - accuracy: 0.8437\n",
      "Epoch 25/40\n",
      "20/20 [==============================] - 0s 13ms/step - loss: 0.3903 - accuracy: 0.8589\n",
      "Epoch 26/40\n",
      "20/20 [==============================] - 0s 12ms/step - loss: 0.4334 - accuracy: 0.8359\n",
      "Epoch 27/40\n",
      "20/20 [==============================] - 0s 11ms/step - loss: 0.4171 - accuracy: 0.8350\n",
      "Epoch 28/40\n",
      "20/20 [==============================] - 0s 11ms/step - loss: 0.4279 - accuracy: 0.8241\n",
      "Epoch 29/40\n",
      "20/20 [==============================] - 0s 12ms/step - loss: 0.4323 - accuracy: 0.8224\n",
      "Epoch 30/40\n",
      "20/20 [==============================] - 0s 12ms/step - loss: 0.3966 - accuracy: 0.8589\n",
      "Epoch 31/40\n",
      "20/20 [==============================] - 0s 12ms/step - loss: 0.3783 - accuracy: 0.8625\n",
      "Epoch 32/40\n",
      "20/20 [==============================] - 0s 12ms/step - loss: 0.3887 - accuracy: 0.8509\n",
      "Epoch 33/40\n",
      "20/20 [==============================] - 0s 13ms/step - loss: 0.3832 - accuracy: 0.8521\n",
      "Epoch 34/40\n",
      "20/20 [==============================] - 0s 12ms/step - loss: 0.3691 - accuracy: 0.8429\n",
      "Epoch 35/40\n",
      "20/20 [==============================] - 0s 12ms/step - loss: 0.3414 - accuracy: 0.8625\n",
      "Epoch 36/40\n",
      "20/20 [==============================] - 0s 12ms/step - loss: 0.3453 - accuracy: 0.8674\n",
      "Epoch 37/40\n",
      "20/20 [==============================] - 0s 12ms/step - loss: 0.3690 - accuracy: 0.8563\n",
      "Epoch 38/40\n",
      "20/20 [==============================] - 0s 12ms/step - loss: 0.3680 - accuracy: 0.8427\n",
      "Epoch 39/40\n",
      "20/20 [==============================] - 0s 12ms/step - loss: 0.3723 - accuracy: 0.8564\n",
      "Epoch 40/40\n",
      "20/20 [==============================] - 0s 12ms/step - loss: 0.3670 - accuracy: 0.8622\n"
     ]
    },
    {
     "data": {
      "text/plain": [
       "<tensorflow.python.keras.callbacks.History at 0x1fa4d477408>"
      ]
     },
     "execution_count": 25,
     "metadata": {},
     "output_type": "execute_result"
    }
   ],
   "source": [
    "# Re-instantiate the hypermodel and train it with the optimal number of epochs from above.\n",
    "hypermodel = tuner.hypermodel.build(best_hps)\n",
    "# Retrain the model\n",
    "hypermodel.fit(X_train, y_train, epochs=best_epoch)"
   ]
  },
  {
   "cell_type": "code",
   "execution_count": 26,
   "metadata": {},
   "outputs": [
    {
     "name": "stdout",
     "output_type": "stream",
     "text": [
      "9/9 [==============================] - 0s 3ms/step - loss: 0.7708 - accuracy: 0.8470\n",
      "[test loss, test accuracy]: [0.7707520127296448, 0.8470149040222168]\n"
     ]
    }
   ],
   "source": [
    "eval_result = hypermodel.evaluate(X_val, y_val)\n",
    "print(\"[test loss, test accuracy]:\", eval_result)"
   ]
  },
  {
   "cell_type": "code",
   "execution_count": 27,
   "metadata": {
    "scrolled": true
   },
   "outputs": [
    {
     "name": "stdout",
     "output_type": "stream",
     "text": [
      "Epoch 1/40\n",
      "20/20 [==============================] - 0s 11ms/step - loss: 0.3496 - accuracy: 0.8620\n",
      "Epoch 2/40\n",
      "20/20 [==============================] - 0s 11ms/step - loss: 0.3687 - accuracy: 0.8587\n",
      "Epoch 3/40\n",
      "20/20 [==============================] - 0s 12ms/step - loss: 0.3491 - accuracy: 0.8587\n",
      "Epoch 4/40\n",
      "20/20 [==============================] - 0s 13ms/step - loss: 0.3540 - accuracy: 0.8636\n",
      "Epoch 5/40\n",
      "20/20 [==============================] - 0s 11ms/step - loss: 0.3478 - accuracy: 0.8555\n",
      "Epoch 6/40\n",
      "20/20 [==============================] - 0s 13ms/step - loss: 0.3874 - accuracy: 0.8411\n",
      "Epoch 7/40\n",
      "20/20 [==============================] - 0s 12ms/step - loss: 0.3450 - accuracy: 0.8571\n",
      "Epoch 8/40\n",
      "20/20 [==============================] - 0s 12ms/step - loss: 0.3482 - accuracy: 0.8507\n",
      "Epoch 9/40\n",
      "20/20 [==============================] - 0s 13ms/step - loss: 0.3618 - accuracy: 0.8668\n",
      "Epoch 10/40\n",
      "20/20 [==============================] - 0s 12ms/step - loss: 0.3390 - accuracy: 0.8587\n",
      "Epoch 11/40\n",
      "20/20 [==============================] - 0s 11ms/step - loss: 0.3570 - accuracy: 0.8571\n",
      "Epoch 12/40\n",
      "20/20 [==============================] - 0s 12ms/step - loss: 0.3679 - accuracy: 0.8427\n",
      "Epoch 13/40\n",
      "20/20 [==============================] - 0s 12ms/step - loss: 0.3476 - accuracy: 0.8587\n",
      "Epoch 14/40\n",
      "20/20 [==============================] - 0s 11ms/step - loss: 0.3493 - accuracy: 0.8604\n",
      "Epoch 15/40\n",
      "20/20 [==============================] - 0s 12ms/step - loss: 0.3519 - accuracy: 0.8604\n",
      "Epoch 16/40\n",
      "20/20 [==============================] - 0s 12ms/step - loss: 0.3647 - accuracy: 0.8539\n",
      "Epoch 17/40\n",
      "20/20 [==============================] - 0s 12ms/step - loss: 0.3710 - accuracy: 0.8427\n",
      "Epoch 18/40\n",
      "20/20 [==============================] - 0s 12ms/step - loss: 0.4444 - accuracy: 0.8331\n",
      "Epoch 19/40\n",
      "20/20 [==============================] - 0s 12ms/step - loss: 0.4066 - accuracy: 0.8443\n",
      "Epoch 20/40\n",
      "20/20 [==============================] - 0s 12ms/step - loss: 0.4047 - accuracy: 0.8347\n",
      "Epoch 21/40\n",
      "20/20 [==============================] - 0s 12ms/step - loss: 0.3767 - accuracy: 0.8427\n",
      "Epoch 22/40\n",
      "20/20 [==============================] - 0s 12ms/step - loss: 0.3480 - accuracy: 0.8571\n",
      "Epoch 23/40\n",
      "20/20 [==============================] - 0s 12ms/step - loss: 0.3617 - accuracy: 0.8427\n",
      "Epoch 24/40\n",
      "20/20 [==============================] - 0s 12ms/step - loss: 0.3655 - accuracy: 0.8523\n",
      "Epoch 25/40\n",
      "20/20 [==============================] - 0s 12ms/step - loss: 0.3865 - accuracy: 0.8234\n",
      "Epoch 26/40\n",
      "20/20 [==============================] - 0s 12ms/step - loss: 0.3716 - accuracy: 0.8652\n",
      "Epoch 27/40\n",
      "20/20 [==============================] - 0s 12ms/step - loss: 0.3652 - accuracy: 0.8523\n",
      "Epoch 28/40\n",
      "20/20 [==============================] - 0s 12ms/step - loss: 0.3501 - accuracy: 0.8555\n",
      "Epoch 29/40\n",
      "20/20 [==============================] - 0s 12ms/step - loss: 0.3401 - accuracy: 0.8668\n",
      "Epoch 30/40\n",
      "20/20 [==============================] - 0s 12ms/step - loss: 0.3439 - accuracy: 0.8587\n",
      "Epoch 31/40\n",
      "20/20 [==============================] - 0s 12ms/step - loss: 0.3423 - accuracy: 0.8475\n",
      "Epoch 32/40\n",
      "20/20 [==============================] - 0s 12ms/step - loss: 0.3400 - accuracy: 0.8555\n",
      "Epoch 33/40\n",
      "20/20 [==============================] - 0s 12ms/step - loss: 0.3375 - accuracy: 0.8571\n",
      "Epoch 34/40\n",
      "20/20 [==============================] - 0s 11ms/step - loss: 0.3406 - accuracy: 0.8587\n",
      "Epoch 35/40\n",
      "20/20 [==============================] - 0s 12ms/step - loss: 0.4195 - accuracy: 0.8331\n",
      "Epoch 36/40\n",
      "20/20 [==============================] - 0s 12ms/step - loss: 0.4705 - accuracy: 0.8138\n",
      "Epoch 37/40\n",
      "20/20 [==============================] - 0s 12ms/step - loss: 0.4084 - accuracy: 0.8331\n",
      "Epoch 38/40\n",
      "20/20 [==============================] - 0s 12ms/step - loss: 0.3660 - accuracy: 0.8604\n",
      "Epoch 39/40\n",
      "20/20 [==============================] - 0s 12ms/step - loss: 0.3487 - accuracy: 0.8620\n",
      "Epoch 40/40\n",
      "20/20 [==============================] - 0s 12ms/step - loss: 0.3425 - accuracy: 0.8620\n"
     ]
    },
    {
     "data": {
      "text/plain": [
       "<tensorflow.python.keras.callbacks.History at 0x1fa53e691c8>"
      ]
     },
     "execution_count": 27,
     "metadata": {},
     "output_type": "execute_result"
    }
   ],
   "source": [
    "# Retrain the model\n",
    "hypermodel.fit(X_train, y_train, epochs=best_epoch)"
   ]
  },
  {
   "cell_type": "code",
   "execution_count": 28,
   "metadata": {},
   "outputs": [],
   "source": [
    "# from keras.models import save_model\n",
    "# hypermodel.save('best_model.h5')"
   ]
  },
  {
   "cell_type": "code",
   "execution_count": 29,
   "metadata": {},
   "outputs": [],
   "source": [
    "# Load the model and predict\n",
    "# from keras.models import load_model\n",
    "# hypermodel = load_model('best_model.h5')\n",
    "y_pred = hypermodel.predict(X_test)\n",
    "y_pred = y_pred.astype(int)"
   ]
  },
  {
   "cell_type": "code",
   "execution_count": 30,
   "metadata": {},
   "outputs": [],
   "source": [
    "y_pred = pd.DataFrame(y_pred, columns=['Survived'], index=X_test.index)\n",
    "# saving the dataframe \n",
    "y_pred.to_csv('Predictions.csv') "
   ]
  },
  {
   "cell_type": "code",
   "execution_count": 31,
   "metadata": {},
   "outputs": [],
   "source": [
    "import winsound\n",
    "duration = 100  # milliseconds\n",
    "freq = 3000  # Hz\n",
    "winsound.Beep(freq, duration)"
   ]
  }
 ],
 "metadata": {
  "kernelspec": {
   "display_name": "Python 3",
   "language": "python",
   "name": "python3"
  },
  "language_info": {
   "codemirror_mode": {
    "name": "ipython",
    "version": 3
   },
   "file_extension": ".py",
   "mimetype": "text/x-python",
   "name": "python",
   "nbconvert_exporter": "python",
   "pygments_lexer": "ipython3",
   "version": "3.7.9"
  }
 },
 "nbformat": 4,
 "nbformat_minor": 4
}
