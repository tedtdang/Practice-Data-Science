{
 "cells": [
  {
   "cell_type": "markdown",
   "metadata": {},
   "source": [
    "### Data sets were acquired from https://www.kaggle.com/c/titanic"
   ]
  },
  {
   "cell_type": "code",
   "execution_count": null,
   "metadata": {},
   "outputs": [],
   "source": [
    "import pandas as pd\n",
    "import numpy as np\n",
    "import seaborn as sb\n",
    "import matplotlib.pyplot as plt\n",
    "%matplotlib inline\n",
    "\n",
    "df_train = pd.read_csv('train.csv', index_col=['PassengerId'])\n",
    "df_test = pd.read_csv('test.csv', index_col=['PassengerId'])"
   ]
  },
  {
   "cell_type": "code",
   "execution_count": null,
   "metadata": {},
   "outputs": [],
   "source": [
    "# Have a look at the first five rows\n",
    "df_train.head()"
   ]
  },
  {
   "cell_type": "code",
   "execution_count": null,
   "metadata": {},
   "outputs": [],
   "source": [
    "# Show missing value ratios of features\n",
    "df_train.isna().sum() / len(df_train)"
   ]
  },
  {
   "cell_type": "code",
   "execution_count": null,
   "metadata": {},
   "outputs": [],
   "source": [
    "def drop_irrelevant(df):\n",
    "    return df.drop(columns=['Name', 'Ticket', 'Cabin'])\n",
    "df_train = drop_irrelevant(df_train)\n",
    "X_test = drop_irrelevant(df_test)"
   ]
  },
  {
   "cell_type": "code",
   "execution_count": null,
   "metadata": {},
   "outputs": [],
   "source": [
    "# Get X_train and y_train\n",
    "y = df_train.Survived.copy()\n",
    "X = df_train.drop(columns='Survived').copy()"
   ]
  },
  {
   "cell_type": "code",
   "execution_count": null,
   "metadata": {},
   "outputs": [],
   "source": [
    "# Retrive num_cols and cat_cols\n",
    "num_cols = list(X._get_numeric_data().columns)\n",
    "cat_cols = list(set(X.columns) - set(num_cols))"
   ]
  },
  {
   "cell_type": "code",
   "execution_count": null,
   "metadata": {},
   "outputs": [],
   "source": [
    "# Show missing value ratios of features\n",
    "df_train.isna().sum() / len(df_train)"
   ]
  },
  {
   "cell_type": "code",
   "execution_count": null,
   "metadata": {},
   "outputs": [],
   "source": [
    "from sklearn.preprocessing import OneHotEncoder, StandardScaler\n",
    "from sklearn.experimental import enable_iterative_imputer\n",
    "from sklearn.impute import IterativeImputer, SimpleImputer\n",
    "from sklearn.pipeline import make_pipeline\n",
    "from sklearn.compose import make_column_transformer, make_column_selector\n",
    "\n",
    "cat_pipe = make_pipeline(\n",
    "            (SimpleImputer(strategy='most_frequent')),\n",
    "            (OneHotEncoder(drop='first', handle_unknown='error'))\n",
    "            )\n",
    "num_pipe = make_pipeline(\n",
    "            (IterativeImputer()),\n",
    "            (StandardScaler())\n",
    "            )            \n",
    "preprocess_pipeline = make_column_transformer(\n",
    "            (cat_pipe, cat_cols),\n",
    "            (num_pipe, num_cols)\n",
    "            )"
   ]
  },
  {
   "cell_type": "code",
   "execution_count": null,
   "metadata": {},
   "outputs": [],
   "source": [
    "preprocessor =  preprocess_pipeline.fit(X)\n",
    "X = preprocessor.transform(X)\n",
    "X_test = preprocessor.transform(X_test)"
   ]
  },
  {
   "cell_type": "code",
   "execution_count": null,
   "metadata": {},
   "outputs": [],
   "source": [
    "ax = sb.boxplot(data=df_train, orient=\"h\", palette=\"Set2\")"
   ]
  },
  {
   "cell_type": "code",
   "execution_count": null,
   "metadata": {},
   "outputs": [],
   "source": [
    "from sklearn.ensemble import RandomForestClassifier\n",
    "from boruta import BorutaPy\n",
    "\n",
    "# define random forest classifier, with utilising all cores and\n",
    "# sampling in proportion to y labels\n",
    "rf = RandomForestClassifier(n_jobs=-1, class_weight='balanced', max_depth=5)\n",
    "\n",
    "# define Boruta feature selection method\n",
    "feat_selector = BorutaPy(rf, n_estimators='auto', verbose=0, random_state=1)\n",
    "\n",
    "# find all relevant features - 5 features should be selected\n",
    "feat_selector.fit(X, y)\n",
    "\n",
    "# check selected features - first 5 features are selected\n",
    "print(f'first 5 features are selected: {df_train.columns[feat_selector.support_]}')\n",
    "\n",
    "# check ranking of features\n",
    "print(f'check ranking of features {feat_selector.ranking_}')\n",
    "\n",
    "# call transform() on X to filter it down to selected features\n",
    "X = feat_selector.transform(X)\n",
    "X_test = feat_selector.transform(X_test)"
   ]
  },
  {
   "cell_type": "code",
   "execution_count": null,
   "metadata": {},
   "outputs": [],
   "source": [
    "from sklearn.model_selection import train_test_split\n",
    "X_train, X_val, y_train, y_val = train_test_split(X, y, test_size=0.15, stratify=y)"
   ]
  },
  {
   "cell_type": "code",
   "execution_count": null,
   "metadata": {},
   "outputs": [],
   "source": [
    "from tune_sklearn import TuneSearchCV\n",
    "from xgboost import XGBClassifier\n",
    "from sklearn.model_selection import StratifiedKFold\n",
    "\n",
    "parameters = {'colsample_bytree': [1.0], 'gamma': [0.5], 'learning_rate': [0.2], 'max_depth': [5], \n",
    " 'min_child_weight': [10], 'n_estimators': [700], 'objective': ['reg:linear'], 'reg_alpha': [1.3], \n",
    " 'reg_lambda': [1.2], 'silent': [1], 'subsample': [0.9]}\n",
    "\n",
    "optuna_tune_search = TuneSearchCV(XGBClassifier(X_train, 5000, nfold=StratifiedKFold(10), early_stopping_rounds=50, verbose_eval=1),\n",
    "    param_distributions=parameters,\n",
    "    n_trials=5,\n",
    "    early_stopping=True,\n",
    "    max_iters=10,\n",
    "    search_optimization=\"optuna\"\n",
    ")\n",
    "\n",
    "optuna_tune_search.fit(X, y)"
   ]
  },
  {
   "cell_type": "code",
   "execution_count": null,
   "metadata": {},
   "outputs": [],
   "source": [
    "y_pred = optuna_tune_search.predict(X_test)\n",
    "y_pred = y_pred.astype(int)\n",
    "y_pred = pd.DataFrame(y_pred, columns=['Survived'], index=df_test.index)\n",
    "# saving the dataframe \n",
    "y_pred.to_csv('Predictions.csv') "
   ]
  },
  {
   "cell_type": "raw",
   "metadata": {},
   "source": [
    "'''\n",
    "Credit source: \n",
    "    https://www.tensorflow.org/tutorials/keras/keras_tuner\n",
    "    https://github.com/keras-team/keras-tuner/blob/master/examples/cifar10.py\n",
    "'''\n",
    "\n",
    "import tensorflow as tf\n",
    "from tensorflow import keras\n",
    "from tensorflow.keras.models import Sequential\n",
    "from tensorflow.keras.callbacks import EarlyStopping\n",
    "from tensorflow.keras.layers import Activation, Dense, Flatten, BatchNormalization, Dropout\n",
    "from tensorflow.keras.optimizers import Adam\n",
    "\n",
    "# Create the keras tuner model.\n",
    "def build_model(hp):\n",
    "    hp_drop_out = hp.Float('dropout', 0, 0.5, step=0.1)\n",
    "    hp_learning_rate = hp.Choice('learning_rate', values=[1e-2, 1e-3, 1e-4])\n",
    "    model = Sequential()\n",
    "    for i in range(hp.Int('num_layers', 2, 20)):\n",
    "        model.add(Dense(units=hp.Int('units_' + str(i), min_value=32, max_value=512, step=32), activation='relu'))\n",
    "#         model.add(BatchNormalization())\n",
    "        model.add(Dropout(hp_drop_out))\n",
    "#     model.add(Flatten())\n",
    "    model.add(Dense(1, activation='sigmoid'))\n",
    "    opt = Adam(learning_rate=hp.Choice('learning_rate', values=[1e-2, 1e-3, 1e-4]))\n",
    "    model.compile(optimizer=Adam(learning_rate=hp_learning_rate),\n",
    "                loss='binary_crossentropy',\n",
    "                metrics=['accuracy'])\n",
    "    return model\n",
    "\n",
    "import kerastuner as kt\n",
    "\n",
    "tuner = kt.Hyperband(build_model,\n",
    "                     objective='val_accuracy', \n",
    "                     max_epochs=16,\n",
    "                     overwrite=False)"
   ]
  },
  {
   "cell_type": "raw",
   "metadata": {},
   "source": [
    "es = EarlyStopping(monitor='val_accuracy', verbose=0, patience=10, min_delta=1e-3)\n",
    "tuner.search(X_train, y_train, epochs=64, batch_size=32, validation_data=(X_val, y_val), callbacks=[es])"
   ]
  },
  {
   "cell_type": "raw",
   "metadata": {},
   "source": [
    "# Get the optimal hyperparameters\n",
    "best_hps=tuner.get_best_hyperparameters(num_trials=1)[0]\n",
    "model = tuner.hypermodel.build(best_hps)\n",
    "history = model.fit(X_train, y_train, epochs=64, validation_data=(X_val, y_val))"
   ]
  },
  {
   "cell_type": "raw",
   "metadata": {},
   "source": [
    "val_acc_per_epoch = history.history['val_accuracy']\n",
    "best_epoch = val_acc_per_epoch.index(max(val_acc_per_epoch)) + 1\n",
    "print('Best epoch: %d' % (best_epoch,))"
   ]
  },
  {
   "cell_type": "raw",
   "metadata": {},
   "source": [
    "# Re-instantiate the hypermodel and train it with the optimal number of epochs from above.\n",
    "hypermodel = tuner.hypermodel.build(best_hps)\n",
    "# Retrain the model\n",
    "hypermodel.fit(X_train, y_train, epochs=best_epoch)"
   ]
  },
  {
   "cell_type": "raw",
   "metadata": {},
   "source": [
    "eval_result = hypermodel.evaluate(X_val, y_val)\n",
    "print(\"[test loss, test accuracy]:\", eval_result)"
   ]
  },
  {
   "cell_type": "raw",
   "metadata": {},
   "source": [
    "# Retrain the model\n",
    "hypermodel.fit(X, y, epochs=best_epoch)"
   ]
  },
  {
   "cell_type": "raw",
   "metadata": {},
   "source": [
    "# from keras.models import save_model\n",
    "# hypermodel.save('best_model.h5')"
   ]
  },
  {
   "cell_type": "raw",
   "metadata": {},
   "source": [
    "# Load the model and predict\n",
    "# from keras.models import load_model\n",
    "# hypermodel = load_model('best_model.h5')\n",
    "y_pred = hypermodel.predict(X_test)\n",
    "y_pred = y_pred.astype(int)"
   ]
  },
  {
   "cell_type": "raw",
   "metadata": {},
   "source": [
    "y_pred = pd.DataFrame(y_pred, columns=['Survived'], index=df_test.index)\n",
    "# saving the dataframe \n",
    "y_pred.to_csv('Predictions.csv') "
   ]
  },
  {
   "cell_type": "raw",
   "metadata": {},
   "source": [
    "import winsound\n",
    "duration = 100  # milliseconds\n",
    "freq = 3000  # Hz\n",
    "winsound.Beep(freq, duration)"
   ]
  }
 ],
 "metadata": {
  "kernelspec": {
   "display_name": "Python 3",
   "language": "python",
   "name": "python3"
  },
  "language_info": {
   "codemirror_mode": {
    "name": "ipython",
    "version": 3
   },
   "file_extension": ".py",
   "mimetype": "text/x-python",
   "name": "python",
   "nbconvert_exporter": "python",
   "pygments_lexer": "ipython3",
   "version": "3.7.9"
  }
 },
 "nbformat": 4,
 "nbformat_minor": 4
}
