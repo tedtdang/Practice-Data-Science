{
 "cells": [
  {
   "cell_type": "markdown",
   "id": "junior-sample",
   "metadata": {},
   "source": [
    "### Data sets were acquired from https://www.kaggle.com/c/titanic"
   ]
  },
  {
   "cell_type": "code",
   "execution_count": 1,
   "id": "conservative-renewal",
   "metadata": {
    "execution": {
     "iopub.execute_input": "2021-04-30T06:26:27.534480Z",
     "iopub.status.busy": "2021-04-30T06:26:27.533479Z",
     "iopub.status.idle": "2021-04-30T06:26:27.548492Z",
     "shell.execute_reply": "2021-04-30T06:26:27.548492Z",
     "shell.execute_reply.started": "2021-04-30T06:26:27.534480Z"
    }
   },
   "outputs": [],
   "source": [
    "import warnings\n",
    "warnings.filterwarnings('ignore')"
   ]
  },
  {
   "cell_type": "markdown",
   "id": "chemical-creek",
   "metadata": {},
   "source": [
    "##### Import datasets"
   ]
  },
  {
   "cell_type": "code",
   "execution_count": 2,
   "id": "fixed-partnership",
   "metadata": {
    "execution": {
     "iopub.execute_input": "2021-04-30T06:26:27.550494Z",
     "iopub.status.busy": "2021-04-30T06:26:27.550494Z",
     "iopub.status.idle": "2021-04-30T06:26:28.986751Z",
     "shell.execute_reply": "2021-04-30T06:26:28.986751Z",
     "shell.execute_reply.started": "2021-04-30T06:26:27.550494Z"
    }
   },
   "outputs": [],
   "source": [
    "import pandas as pd\n",
    "import numpy as np\n",
    "import matplotlib.pyplot as plt\n",
    "import seaborn as sns\n",
    "sns.set_style('darkgrid')\n",
    "%matplotlib inline\n",
    "\n",
    "df_train = pd.read_csv('train.csv', index_col=['PassengerId'])\n",
    "X_test = pd.read_csv('test.csv', index_col=['PassengerId'])\n",
    "X_train = df_train.drop(columns=['Survived']).copy()\n",
    "y_train = df_train['Survived'].copy()\n",
    "train_test = pd.concat([X_train, X_test])\n",
    "test_index = X_test.index"
   ]
  },
  {
   "cell_type": "code",
   "execution_count": 3,
   "id": "amino-leisure",
   "metadata": {
    "execution": {
     "iopub.execute_input": "2021-04-30T06:26:28.988755Z",
     "iopub.status.busy": "2021-04-30T06:26:28.988755Z",
     "iopub.status.idle": "2021-04-30T06:26:29.005969Z",
     "shell.execute_reply": "2021-04-30T06:26:29.004809Z",
     "shell.execute_reply.started": "2021-04-30T06:26:28.988755Z"
    }
   },
   "outputs": [],
   "source": [
    "train_test = train_test.rename(columns=str.lower)"
   ]
  },
  {
   "cell_type": "code",
   "execution_count": 4,
   "id": "composite-registrar",
   "metadata": {
    "execution": {
     "iopub.execute_input": "2021-04-30T06:26:29.006968Z",
     "iopub.status.busy": "2021-04-30T06:26:29.006968Z",
     "iopub.status.idle": "2021-04-30T06:26:29.035995Z",
     "shell.execute_reply": "2021-04-30T06:26:29.035197Z",
     "shell.execute_reply.started": "2021-04-30T06:26:29.006968Z"
    }
   },
   "outputs": [
    {
     "data": {
      "text/html": [
       "<div>\n",
       "<style scoped>\n",
       "    .dataframe tbody tr th:only-of-type {\n",
       "        vertical-align: middle;\n",
       "    }\n",
       "\n",
       "    .dataframe tbody tr th {\n",
       "        vertical-align: top;\n",
       "    }\n",
       "\n",
       "    .dataframe thead th {\n",
       "        text-align: right;\n",
       "    }\n",
       "</style>\n",
       "<table border=\"1\" class=\"dataframe\">\n",
       "  <thead>\n",
       "    <tr style=\"text-align: right;\">\n",
       "      <th></th>\n",
       "      <th>pclass</th>\n",
       "      <th>name</th>\n",
       "      <th>sex</th>\n",
       "      <th>age</th>\n",
       "      <th>sibsp</th>\n",
       "      <th>parch</th>\n",
       "      <th>ticket</th>\n",
       "      <th>fare</th>\n",
       "      <th>cabin</th>\n",
       "      <th>embarked</th>\n",
       "    </tr>\n",
       "    <tr>\n",
       "      <th>PassengerId</th>\n",
       "      <th></th>\n",
       "      <th></th>\n",
       "      <th></th>\n",
       "      <th></th>\n",
       "      <th></th>\n",
       "      <th></th>\n",
       "      <th></th>\n",
       "      <th></th>\n",
       "      <th></th>\n",
       "      <th></th>\n",
       "    </tr>\n",
       "  </thead>\n",
       "  <tbody>\n",
       "    <tr>\n",
       "      <th>1</th>\n",
       "      <td>3</td>\n",
       "      <td>Braund, Mr. Owen Harris</td>\n",
       "      <td>male</td>\n",
       "      <td>22.0</td>\n",
       "      <td>1</td>\n",
       "      <td>0</td>\n",
       "      <td>A/5 21171</td>\n",
       "      <td>7.2500</td>\n",
       "      <td>NaN</td>\n",
       "      <td>S</td>\n",
       "    </tr>\n",
       "    <tr>\n",
       "      <th>2</th>\n",
       "      <td>1</td>\n",
       "      <td>Cumings, Mrs. John Bradley (Florence Briggs Th...</td>\n",
       "      <td>female</td>\n",
       "      <td>38.0</td>\n",
       "      <td>1</td>\n",
       "      <td>0</td>\n",
       "      <td>PC 17599</td>\n",
       "      <td>71.2833</td>\n",
       "      <td>C85</td>\n",
       "      <td>C</td>\n",
       "    </tr>\n",
       "    <tr>\n",
       "      <th>3</th>\n",
       "      <td>3</td>\n",
       "      <td>Heikkinen, Miss. Laina</td>\n",
       "      <td>female</td>\n",
       "      <td>26.0</td>\n",
       "      <td>0</td>\n",
       "      <td>0</td>\n",
       "      <td>STON/O2. 3101282</td>\n",
       "      <td>7.9250</td>\n",
       "      <td>NaN</td>\n",
       "      <td>S</td>\n",
       "    </tr>\n",
       "    <tr>\n",
       "      <th>4</th>\n",
       "      <td>1</td>\n",
       "      <td>Futrelle, Mrs. Jacques Heath (Lily May Peel)</td>\n",
       "      <td>female</td>\n",
       "      <td>35.0</td>\n",
       "      <td>1</td>\n",
       "      <td>0</td>\n",
       "      <td>113803</td>\n",
       "      <td>53.1000</td>\n",
       "      <td>C123</td>\n",
       "      <td>S</td>\n",
       "    </tr>\n",
       "    <tr>\n",
       "      <th>5</th>\n",
       "      <td>3</td>\n",
       "      <td>Allen, Mr. William Henry</td>\n",
       "      <td>male</td>\n",
       "      <td>35.0</td>\n",
       "      <td>0</td>\n",
       "      <td>0</td>\n",
       "      <td>373450</td>\n",
       "      <td>8.0500</td>\n",
       "      <td>NaN</td>\n",
       "      <td>S</td>\n",
       "    </tr>\n",
       "  </tbody>\n",
       "</table>\n",
       "</div>"
      ],
      "text/plain": [
       "             pclass                                               name  \\\n",
       "PassengerId                                                              \n",
       "1                 3                            Braund, Mr. Owen Harris   \n",
       "2                 1  Cumings, Mrs. John Bradley (Florence Briggs Th...   \n",
       "3                 3                             Heikkinen, Miss. Laina   \n",
       "4                 1       Futrelle, Mrs. Jacques Heath (Lily May Peel)   \n",
       "5                 3                           Allen, Mr. William Henry   \n",
       "\n",
       "                sex   age  sibsp  parch            ticket     fare cabin  \\\n",
       "PassengerId                                                                \n",
       "1              male  22.0      1      0         A/5 21171   7.2500   NaN   \n",
       "2            female  38.0      1      0          PC 17599  71.2833   C85   \n",
       "3            female  26.0      0      0  STON/O2. 3101282   7.9250   NaN   \n",
       "4            female  35.0      1      0            113803  53.1000  C123   \n",
       "5              male  35.0      0      0            373450   8.0500   NaN   \n",
       "\n",
       "            embarked  \n",
       "PassengerId           \n",
       "1                  S  \n",
       "2                  C  \n",
       "3                  S  \n",
       "4                  S  \n",
       "5                  S  "
      ]
     },
     "execution_count": 4,
     "metadata": {},
     "output_type": "execute_result"
    }
   ],
   "source": [
    "train_test.head()"
   ]
  },
  {
   "cell_type": "markdown",
   "id": "structured-population",
   "metadata": {
    "tags": []
   },
   "source": [
    "### Exploratory Data Analysis"
   ]
  },
  {
   "cell_type": "raw",
   "id": "forward-electronics",
   "metadata": {
    "execution": {
     "iopub.execute_input": "2021-04-30T05:00:37.291404Z",
     "iopub.status.busy": "2021-04-30T05:00:37.291404Z"
    },
    "tags": []
   },
   "source": [
    "# Create a proflie report on the data\n",
    "from pandas_profiling import ProfileReport\n",
    "\n",
    "profile = ProfileReport(train_test, title='Pandas Profiling Report', explorative=True)\n",
    "profile.to_widgets() # Save widgets to cell\n",
    "profile.to_file(\"Titanic report.html\") # Save report in html extension"
   ]
  },
  {
   "cell_type": "code",
   "execution_count": 5,
   "id": "diagnostic-stamp",
   "metadata": {
    "execution": {
     "iopub.execute_input": "2021-04-30T06:26:29.036996Z",
     "iopub.status.busy": "2021-04-30T06:26:29.036996Z",
     "iopub.status.idle": "2021-04-30T06:26:29.054040Z",
     "shell.execute_reply": "2021-04-30T06:26:29.054040Z",
     "shell.execute_reply.started": "2021-04-30T06:26:29.036996Z"
    }
   },
   "outputs": [],
   "source": [
    "train_test['title'] = train_test['name'].str.extract(r'([a-zA-Z]+)\\.')"
   ]
  },
  {
   "cell_type": "code",
   "execution_count": 6,
   "id": "lovely-chocolate",
   "metadata": {
    "execution": {
     "iopub.execute_input": "2021-04-30T06:26:29.054040Z",
     "iopub.status.busy": "2021-04-30T06:26:29.054040Z",
     "iopub.status.idle": "2021-04-30T06:26:29.086765Z",
     "shell.execute_reply": "2021-04-30T06:26:29.085764Z",
     "shell.execute_reply.started": "2021-04-30T06:26:29.054040Z"
    }
   },
   "outputs": [
    {
     "data": {
      "text/html": [
       "<div>\n",
       "<style scoped>\n",
       "    .dataframe tbody tr th:only-of-type {\n",
       "        vertical-align: middle;\n",
       "    }\n",
       "\n",
       "    .dataframe tbody tr th {\n",
       "        vertical-align: top;\n",
       "    }\n",
       "\n",
       "    .dataframe thead th {\n",
       "        text-align: right;\n",
       "    }\n",
       "</style>\n",
       "<table border=\"1\" class=\"dataframe\">\n",
       "  <thead>\n",
       "    <tr style=\"text-align: right;\">\n",
       "      <th>sex</th>\n",
       "      <th>female</th>\n",
       "      <th>male</th>\n",
       "    </tr>\n",
       "    <tr>\n",
       "      <th>title</th>\n",
       "      <th></th>\n",
       "      <th></th>\n",
       "    </tr>\n",
       "  </thead>\n",
       "  <tbody>\n",
       "    <tr>\n",
       "      <th>Capt</th>\n",
       "      <td>0</td>\n",
       "      <td>1</td>\n",
       "    </tr>\n",
       "    <tr>\n",
       "      <th>Col</th>\n",
       "      <td>0</td>\n",
       "      <td>4</td>\n",
       "    </tr>\n",
       "    <tr>\n",
       "      <th>Countess</th>\n",
       "      <td>1</td>\n",
       "      <td>0</td>\n",
       "    </tr>\n",
       "    <tr>\n",
       "      <th>Don</th>\n",
       "      <td>0</td>\n",
       "      <td>1</td>\n",
       "    </tr>\n",
       "    <tr>\n",
       "      <th>Dona</th>\n",
       "      <td>1</td>\n",
       "      <td>0</td>\n",
       "    </tr>\n",
       "    <tr>\n",
       "      <th>Dr</th>\n",
       "      <td>1</td>\n",
       "      <td>7</td>\n",
       "    </tr>\n",
       "    <tr>\n",
       "      <th>Jonkheer</th>\n",
       "      <td>0</td>\n",
       "      <td>1</td>\n",
       "    </tr>\n",
       "    <tr>\n",
       "      <th>Lady</th>\n",
       "      <td>1</td>\n",
       "      <td>0</td>\n",
       "    </tr>\n",
       "    <tr>\n",
       "      <th>Major</th>\n",
       "      <td>0</td>\n",
       "      <td>2</td>\n",
       "    </tr>\n",
       "    <tr>\n",
       "      <th>Master</th>\n",
       "      <td>0</td>\n",
       "      <td>61</td>\n",
       "    </tr>\n",
       "    <tr>\n",
       "      <th>Miss</th>\n",
       "      <td>260</td>\n",
       "      <td>0</td>\n",
       "    </tr>\n",
       "    <tr>\n",
       "      <th>Mlle</th>\n",
       "      <td>2</td>\n",
       "      <td>0</td>\n",
       "    </tr>\n",
       "    <tr>\n",
       "      <th>Mme</th>\n",
       "      <td>1</td>\n",
       "      <td>0</td>\n",
       "    </tr>\n",
       "    <tr>\n",
       "      <th>Mr</th>\n",
       "      <td>0</td>\n",
       "      <td>757</td>\n",
       "    </tr>\n",
       "    <tr>\n",
       "      <th>Mrs</th>\n",
       "      <td>197</td>\n",
       "      <td>0</td>\n",
       "    </tr>\n",
       "    <tr>\n",
       "      <th>Ms</th>\n",
       "      <td>2</td>\n",
       "      <td>0</td>\n",
       "    </tr>\n",
       "    <tr>\n",
       "      <th>Rev</th>\n",
       "      <td>0</td>\n",
       "      <td>8</td>\n",
       "    </tr>\n",
       "    <tr>\n",
       "      <th>Sir</th>\n",
       "      <td>0</td>\n",
       "      <td>1</td>\n",
       "    </tr>\n",
       "  </tbody>\n",
       "</table>\n",
       "</div>"
      ],
      "text/plain": [
       "sex       female  male\n",
       "title                 \n",
       "Capt           0     1\n",
       "Col            0     4\n",
       "Countess       1     0\n",
       "Don            0     1\n",
       "Dona           1     0\n",
       "Dr             1     7\n",
       "Jonkheer       0     1\n",
       "Lady           1     0\n",
       "Major          0     2\n",
       "Master         0    61\n",
       "Miss         260     0\n",
       "Mlle           2     0\n",
       "Mme            1     0\n",
       "Mr             0   757\n",
       "Mrs          197     0\n",
       "Ms             2     0\n",
       "Rev            0     8\n",
       "Sir            0     1"
      ]
     },
     "execution_count": 6,
     "metadata": {},
     "output_type": "execute_result"
    }
   ],
   "source": [
    "pd.crosstab(train_test['title'], train_test['sex']).sort_values(by='title')"
   ]
  },
  {
   "cell_type": "code",
   "execution_count": 7,
   "id": "british-cuisine",
   "metadata": {
    "execution": {
     "iopub.execute_input": "2021-04-30T06:26:29.087766Z",
     "iopub.status.busy": "2021-04-30T06:26:29.087766Z",
     "iopub.status.idle": "2021-04-30T06:26:29.102779Z",
     "shell.execute_reply": "2021-04-30T06:26:29.101779Z",
     "shell.execute_reply.started": "2021-04-30T06:26:29.087766Z"
    }
   },
   "outputs": [],
   "source": [
    "# Convert underrepresented titles to 'Other'\n",
    "train_test.title = train_test.title.replace(['Lady', 'Countess','Capt', 'Col', \\\n",
    " \t'Don', 'Dr', 'Major', 'Rev', 'Sir', 'Jonkheer', 'Dona'], 'Other')\n",
    "train_test.title = train_test.title.replace('Mlle', 'Miss')\n",
    "train_test.title = train_test.title.replace('Ms', 'Miss')\n",
    "train_test.title = train_test.title.replace('Mme', 'Mrs')"
   ]
  },
  {
   "cell_type": "code",
   "execution_count": 8,
   "id": "basic-halloween",
   "metadata": {
    "execution": {
     "iopub.execute_input": "2021-04-30T06:26:29.107785Z",
     "iopub.status.busy": "2021-04-30T06:26:29.106783Z",
     "iopub.status.idle": "2021-04-30T06:26:29.117793Z",
     "shell.execute_reply": "2021-04-30T06:26:29.117793Z",
     "shell.execute_reply.started": "2021-04-30T06:26:29.107785Z"
    }
   },
   "outputs": [],
   "source": [
    "train_test['relatives'] = train_test['sibsp'] + train_test['parch']"
   ]
  },
  {
   "cell_type": "code",
   "execution_count": 9,
   "id": "fourth-creativity",
   "metadata": {
    "execution": {
     "iopub.execute_input": "2021-04-30T06:26:29.119794Z",
     "iopub.status.busy": "2021-04-30T06:26:29.119794Z",
     "iopub.status.idle": "2021-04-30T06:26:29.149821Z",
     "shell.execute_reply": "2021-04-30T06:26:29.149821Z",
     "shell.execute_reply.started": "2021-04-30T06:26:29.119794Z"
    }
   },
   "outputs": [
    {
     "data": {
      "text/html": [
       "<div>\n",
       "<style scoped>\n",
       "    .dataframe tbody tr th:only-of-type {\n",
       "        vertical-align: middle;\n",
       "    }\n",
       "\n",
       "    .dataframe tbody tr th {\n",
       "        vertical-align: top;\n",
       "    }\n",
       "\n",
       "    .dataframe thead th {\n",
       "        text-align: right;\n",
       "    }\n",
       "</style>\n",
       "<table border=\"1\" class=\"dataframe\">\n",
       "  <thead>\n",
       "    <tr style=\"text-align: right;\">\n",
       "      <th></th>\n",
       "      <th>pclass</th>\n",
       "      <th>name</th>\n",
       "      <th>sex</th>\n",
       "      <th>age</th>\n",
       "      <th>sibsp</th>\n",
       "      <th>parch</th>\n",
       "      <th>ticket</th>\n",
       "      <th>fare</th>\n",
       "      <th>cabin</th>\n",
       "      <th>embarked</th>\n",
       "      <th>title</th>\n",
       "      <th>relatives</th>\n",
       "    </tr>\n",
       "    <tr>\n",
       "      <th>PassengerId</th>\n",
       "      <th></th>\n",
       "      <th></th>\n",
       "      <th></th>\n",
       "      <th></th>\n",
       "      <th></th>\n",
       "      <th></th>\n",
       "      <th></th>\n",
       "      <th></th>\n",
       "      <th></th>\n",
       "      <th></th>\n",
       "      <th></th>\n",
       "      <th></th>\n",
       "    </tr>\n",
       "  </thead>\n",
       "  <tbody>\n",
       "    <tr>\n",
       "      <th>1</th>\n",
       "      <td>3</td>\n",
       "      <td>Braund, Mr. Owen Harris</td>\n",
       "      <td>male</td>\n",
       "      <td>22.0</td>\n",
       "      <td>1</td>\n",
       "      <td>0</td>\n",
       "      <td>A/5 21171</td>\n",
       "      <td>7.2500</td>\n",
       "      <td>NaN</td>\n",
       "      <td>S</td>\n",
       "      <td>Mr</td>\n",
       "      <td>1</td>\n",
       "    </tr>\n",
       "    <tr>\n",
       "      <th>2</th>\n",
       "      <td>1</td>\n",
       "      <td>Cumings, Mrs. John Bradley (Florence Briggs Th...</td>\n",
       "      <td>female</td>\n",
       "      <td>38.0</td>\n",
       "      <td>1</td>\n",
       "      <td>0</td>\n",
       "      <td>PC 17599</td>\n",
       "      <td>71.2833</td>\n",
       "      <td>C85</td>\n",
       "      <td>C</td>\n",
       "      <td>Mrs</td>\n",
       "      <td>1</td>\n",
       "    </tr>\n",
       "    <tr>\n",
       "      <th>3</th>\n",
       "      <td>3</td>\n",
       "      <td>Heikkinen, Miss. Laina</td>\n",
       "      <td>female</td>\n",
       "      <td>26.0</td>\n",
       "      <td>0</td>\n",
       "      <td>0</td>\n",
       "      <td>STON/O2. 3101282</td>\n",
       "      <td>7.9250</td>\n",
       "      <td>NaN</td>\n",
       "      <td>S</td>\n",
       "      <td>Miss</td>\n",
       "      <td>0</td>\n",
       "    </tr>\n",
       "    <tr>\n",
       "      <th>4</th>\n",
       "      <td>1</td>\n",
       "      <td>Futrelle, Mrs. Jacques Heath (Lily May Peel)</td>\n",
       "      <td>female</td>\n",
       "      <td>35.0</td>\n",
       "      <td>1</td>\n",
       "      <td>0</td>\n",
       "      <td>113803</td>\n",
       "      <td>53.1000</td>\n",
       "      <td>C123</td>\n",
       "      <td>S</td>\n",
       "      <td>Mrs</td>\n",
       "      <td>1</td>\n",
       "    </tr>\n",
       "    <tr>\n",
       "      <th>5</th>\n",
       "      <td>3</td>\n",
       "      <td>Allen, Mr. William Henry</td>\n",
       "      <td>male</td>\n",
       "      <td>35.0</td>\n",
       "      <td>0</td>\n",
       "      <td>0</td>\n",
       "      <td>373450</td>\n",
       "      <td>8.0500</td>\n",
       "      <td>NaN</td>\n",
       "      <td>S</td>\n",
       "      <td>Mr</td>\n",
       "      <td>0</td>\n",
       "    </tr>\n",
       "  </tbody>\n",
       "</table>\n",
       "</div>"
      ],
      "text/plain": [
       "             pclass                                               name  \\\n",
       "PassengerId                                                              \n",
       "1                 3                            Braund, Mr. Owen Harris   \n",
       "2                 1  Cumings, Mrs. John Bradley (Florence Briggs Th...   \n",
       "3                 3                             Heikkinen, Miss. Laina   \n",
       "4                 1       Futrelle, Mrs. Jacques Heath (Lily May Peel)   \n",
       "5                 3                           Allen, Mr. William Henry   \n",
       "\n",
       "                sex   age  sibsp  parch            ticket     fare cabin  \\\n",
       "PassengerId                                                                \n",
       "1              male  22.0      1      0         A/5 21171   7.2500   NaN   \n",
       "2            female  38.0      1      0          PC 17599  71.2833   C85   \n",
       "3            female  26.0      0      0  STON/O2. 3101282   7.9250   NaN   \n",
       "4            female  35.0      1      0            113803  53.1000  C123   \n",
       "5              male  35.0      0      0            373450   8.0500   NaN   \n",
       "\n",
       "            embarked title  relatives  \n",
       "PassengerId                            \n",
       "1                  S    Mr          1  \n",
       "2                  C   Mrs          1  \n",
       "3                  S  Miss          0  \n",
       "4                  S   Mrs          1  \n",
       "5                  S    Mr          0  "
      ]
     },
     "execution_count": 9,
     "metadata": {},
     "output_type": "execute_result"
    }
   ],
   "source": [
    "train_test.head()"
   ]
  },
  {
   "cell_type": "code",
   "execution_count": 10,
   "id": "western-perception",
   "metadata": {
    "execution": {
     "iopub.execute_input": "2021-04-30T06:26:29.151824Z",
     "iopub.status.busy": "2021-04-30T06:26:29.150824Z",
     "iopub.status.idle": "2021-04-30T06:26:29.167837Z",
     "shell.execute_reply": "2021-04-30T06:26:29.165837Z",
     "shell.execute_reply.started": "2021-04-30T06:26:29.151824Z"
    }
   },
   "outputs": [],
   "source": [
    "# Impute age\n",
    "mean_age = train_test['age'].mean()\n",
    "std_age = train_test['age'].std()\n",
    "random_age_filled = np.random.uniform(mean_age - std_age, mean_age + std_age, size=train_test['age'].isnull().sum())\n",
    "train_test.loc[train_test['age'].isna(), 'age'] = random_age_filled"
   ]
  },
  {
   "cell_type": "markdown",
   "id": "uniform-explorer",
   "metadata": {
    "execution": {
     "iopub.execute_input": "2021-04-30T04:50:46.605366Z",
     "iopub.status.busy": "2021-04-30T04:50:46.605366Z",
     "iopub.status.idle": "2021-04-30T04:50:46.623383Z",
     "shell.execute_reply": "2021-04-30T04:50:46.623383Z",
     "shell.execute_reply.started": "2021-04-30T04:50:46.605366Z"
    }
   },
   "source": [
    "#### Cleaning data"
   ]
  },
  {
   "cell_type": "code",
   "execution_count": 11,
   "id": "swiss-individual",
   "metadata": {
    "execution": {
     "iopub.execute_input": "2021-04-30T06:26:29.169840Z",
     "iopub.status.busy": "2021-04-30T06:26:29.168840Z",
     "iopub.status.idle": "2021-04-30T06:26:29.182343Z",
     "shell.execute_reply": "2021-04-30T06:26:29.182343Z",
     "shell.execute_reply.started": "2021-04-30T06:26:29.168840Z"
    }
   },
   "outputs": [],
   "source": [
    "def remove_name(df):\n",
    "    return df.drop(columns=['name', 'sibsp', 'parch', 'ticket', 'cabin'])\n",
    "\n",
    "def imp(df):\n",
    "    df.fillna(inplace=True, value={'fare': df['fare'].median(), 'embarked': df['embarked'].mode()}) \n",
    "    return df\n",
    "\n",
    "def encode_cat(df):\n",
    "    cat_cols = df.select_dtypes(exclude='number')\n",
    "    cat_cols = list(cat_cols.columns)\n",
    "    df = pd.get_dummies(df, drop_first=True, columns=cat_cols)\n",
    "    return df\n",
    "\n",
    "def drop_dup(df):\n",
    "    return df.drop_duplicates() "
   ]
  },
  {
   "cell_type": "code",
   "execution_count": 12,
   "id": "moved-mentor",
   "metadata": {
    "execution": {
     "iopub.execute_input": "2021-04-30T06:26:29.182343Z",
     "iopub.status.busy": "2021-04-30T06:26:29.182343Z",
     "iopub.status.idle": "2021-04-30T06:26:29.214759Z",
     "shell.execute_reply": "2021-04-30T06:26:29.213758Z",
     "shell.execute_reply.started": "2021-04-30T06:26:29.182343Z"
    }
   },
   "outputs": [],
   "source": [
    "train_test = train_test.pipe(remove_name).pipe(imp).pipe(encode_cat)"
   ]
  },
  {
   "cell_type": "code",
   "execution_count": 13,
   "id": "cloudy-living",
   "metadata": {
    "execution": {
     "iopub.execute_input": "2021-04-30T06:26:29.217762Z",
     "iopub.status.busy": "2021-04-30T06:26:29.216762Z",
     "iopub.status.idle": "2021-04-30T06:26:29.229773Z",
     "shell.execute_reply": "2021-04-30T06:26:29.229773Z",
     "shell.execute_reply.started": "2021-04-30T06:26:29.217762Z"
    }
   },
   "outputs": [],
   "source": [
    "X_test = pd.DataFrame(train_test, index=test_index)\n",
    "X_train = pd.DataFrame(train_test, index=list(set(train_test.index) - set(test_index)))"
   ]
  },
  {
   "cell_type": "code",
   "execution_count": 14,
   "id": "turned-technician",
   "metadata": {
    "execution": {
     "iopub.execute_input": "2021-04-30T06:26:29.231775Z",
     "iopub.status.busy": "2021-04-30T06:26:29.231775Z",
     "iopub.status.idle": "2021-04-30T06:26:29.812248Z",
     "shell.execute_reply": "2021-04-30T06:26:29.812248Z",
     "shell.execute_reply.started": "2021-04-30T06:26:29.231775Z"
    }
   },
   "outputs": [],
   "source": [
    "from sklearn.model_selection import train_test_split\n",
    "\n",
    "X_train, X_val, y_train, y_val = train_test_split(X_train, y_train, random_state=1, stratify=y_train)"
   ]
  },
  {
   "cell_type": "code",
   "execution_count": 15,
   "id": "sophisticated-process",
   "metadata": {
    "execution": {
     "iopub.execute_input": "2021-04-30T06:26:29.813247Z",
     "iopub.status.busy": "2021-04-30T06:26:29.813247Z",
     "iopub.status.idle": "2021-04-30T06:26:29.945106Z",
     "shell.execute_reply": "2021-04-30T06:26:29.945106Z",
     "shell.execute_reply.started": "2021-04-30T06:26:29.813247Z"
    }
   },
   "outputs": [
    {
     "ename": "ModuleNotFoundError",
     "evalue": "No module named 'lazypredict'",
     "output_type": "error",
     "traceback": [
      "\u001b[1;31m---------------------------------------------------------------------------\u001b[0m",
      "\u001b[1;31mModuleNotFoundError\u001b[0m                       Traceback (most recent call last)",
      "\u001b[1;32m<ipython-input-15-2ed6f893c87b>\u001b[0m in \u001b[0;36m<module>\u001b[1;34m\u001b[0m\n\u001b[1;32m----> 1\u001b[1;33m \u001b[1;32mimport\u001b[0m \u001b[0mlazypredict\u001b[0m\u001b[1;33m\u001b[0m\u001b[1;33m\u001b[0m\u001b[0m\n\u001b[0m\u001b[0;32m      2\u001b[0m \u001b[1;32mfrom\u001b[0m \u001b[0mlazypredict\u001b[0m\u001b[1;33m.\u001b[0m\u001b[0mSupervised\u001b[0m \u001b[1;32mimport\u001b[0m \u001b[0mLazyClassifier\u001b[0m\u001b[1;33m\u001b[0m\u001b[1;33m\u001b[0m\u001b[0m\n\u001b[0;32m      3\u001b[0m \u001b[0mclf\u001b[0m \u001b[1;33m=\u001b[0m \u001b[0mLazyClassifier\u001b[0m\u001b[1;33m(\u001b[0m\u001b[0mverbose\u001b[0m\u001b[1;33m=\u001b[0m\u001b[1;36m0\u001b[0m\u001b[1;33m,\u001b[0m\u001b[0mignore_warnings\u001b[0m\u001b[1;33m=\u001b[0m\u001b[1;32mTrue\u001b[0m\u001b[1;33m)\u001b[0m\u001b[1;33m\u001b[0m\u001b[1;33m\u001b[0m\u001b[0m\n\u001b[0;32m      4\u001b[0m \u001b[0mmodels\u001b[0m\u001b[1;33m,\u001b[0m \u001b[0mpredictions\u001b[0m \u001b[1;33m=\u001b[0m \u001b[0mclf\u001b[0m\u001b[1;33m.\u001b[0m\u001b[0mfit\u001b[0m\u001b[1;33m(\u001b[0m\u001b[0mX_train\u001b[0m\u001b[1;33m,\u001b[0m \u001b[0mX_val\u001b[0m\u001b[1;33m,\u001b[0m \u001b[0my_train\u001b[0m\u001b[1;33m,\u001b[0m \u001b[0my_val\u001b[0m\u001b[1;33m)\u001b[0m\u001b[1;33m\u001b[0m\u001b[1;33m\u001b[0m\u001b[0m\n\u001b[0;32m      5\u001b[0m \u001b[0mmodels\u001b[0m\u001b[1;33m\u001b[0m\u001b[1;33m\u001b[0m\u001b[0m\n",
      "\u001b[1;31mModuleNotFoundError\u001b[0m: No module named 'lazypredict'"
     ]
    }
   ],
   "source": [
    "import lazypredict\n",
    "from lazypredict.Supervised import LazyClassifier\n",
    "clf = LazyClassifier(verbose=0,ignore_warnings=True)\n",
    "models, predictions = clf.fit(X_train, X_val, y_train, y_val)\n",
    "models"
   ]
  },
  {
   "cell_type": "raw",
   "id": "hearing-stuart",
   "metadata": {
    "execution": {
     "iopub.execute_input": "2021-04-28T02:39:00.364126Z",
     "iopub.status.busy": "2021-04-28T02:39:00.363125Z",
     "iopub.status.idle": "2021-04-28T02:39:04.206616Z",
     "shell.execute_reply": "2021-04-28T02:39:04.206616Z",
     "shell.execute_reply.started": "2021-04-28T02:39:00.364126Z"
    }
   },
   "source": [
    "from sklearn.model_selection import cross_val_score, StratifiedKFold\n",
    "from sklearn.ensemble import RandomForestClassifier\n",
    "from sklearn.svm import SVC\n",
    "from xgboost import XGBClassifier\n",
    "\n",
    "def model_score(model, X, y):\n",
    "    result = cross_val_score(model, X, y, scoring='f1', cv=StratifiedKFold(10))\n",
    "    print(f'Model {type(model).__name__}     average = {np.mean(result)}     std = {np.std(result)}')\n",
    "    \n",
    "model_score(RandomForestClassifier(), X_train, y_train)\n",
    "model_score(SVC(), X_train, y_train)\n",
    "model_score(XGBClassifier(), X_train, y_train)"
   ]
  },
  {
   "cell_type": "raw",
   "id": "proof-parker",
   "metadata": {
    "execution": {
     "iopub.execute_input": "2021-04-28T02:39:04.208619Z",
     "iopub.status.busy": "2021-04-28T02:39:04.208619Z",
     "iopub.status.idle": "2021-04-28T02:39:04.222631Z",
     "shell.execute_reply": "2021-04-28T02:39:04.222631Z",
     "shell.execute_reply.started": "2021-04-28T02:39:04.208619Z"
    }
   },
   "source": [
    "from sklearn.model_selection import train_test_split\n",
    "X_train, X_val, y_train, y_val = train_test_split(X_train, y_train, test_size=0.2, stratify=y_train, random_state=1)"
   ]
  },
  {
   "cell_type": "raw",
   "id": "normal-setting",
   "metadata": {
    "execution": {
     "iopub.execute_input": "2021-04-28T02:39:04.224635Z",
     "iopub.status.busy": "2021-04-28T02:39:04.223632Z",
     "iopub.status.idle": "2021-04-28T02:39:05.335457Z",
     "shell.execute_reply": "2021-04-28T02:39:05.335457Z",
     "shell.execute_reply.started": "2021-04-28T02:39:04.224635Z"
    }
   },
   "source": [
    "from tune_sklearn import TuneSearchCV\n",
    "import optuna\n",
    "\n",
    "def objective(trial):\n",
    "    \n",
    "    param = {\n",
    "        'max_depth': trial.suggest_int('max_depth', 10,50),\n",
    "        'learning_rate': trial.suggest_categorical('learning_rate', [0.1,0.01,0.001]),\n",
    "        'min_child_weight': trial.suggest_categorical('min_child_weight', [1e-5, 1e-3, 1e-2, 1e-1, 1, 1e1, 1e2, 1e3, 1e4]),\n",
    "        'subsample': trial.suggest_loguniform('subsample', 0.2, 0.8), \n",
    "        'colsample_bytree': trial.suggest_loguniform('colsample_bytree', 0.4, 0.6),\n",
    "        'reg_alpha': trial.suggest_categorical('reg_alpha', [0, 1e-1, 1, 2, 5, 7, 10, 50, 100]),\n",
    "        'reg_lambda': trial.suggest_categorical('reg_lambda', [0, 1e-1, 1, 5, 10, 20, 50, 100])\n",
    "        }\n",
    "    model = XGBClassifier(**param)\n",
    "    model.fit(X_train, y_train, eval_set=[(X_val, y_val)],early_stopping_rounds=100,verbose=False)\n",
    "    preds = model.predict(X_val)\n",
    "    return cross_val_score(model, X_train, y_train, scoring='f1', n_jobs=-1, cv=StratifiedKFold(10)).mean()"
   ]
  },
  {
   "cell_type": "raw",
   "id": "undefined-signature",
   "metadata": {
    "execution": {
     "iopub.execute_input": "2021-04-28T02:39:05.336460Z",
     "iopub.status.busy": "2021-04-28T02:39:05.336460Z",
     "iopub.status.idle": "2021-04-28T02:40:47.301256Z",
     "shell.execute_reply": "2021-04-28T02:40:47.301256Z",
     "shell.execute_reply.started": "2021-04-28T02:39:05.336460Z"
    }
   },
   "source": [
    "study = optuna.create_study(direction='maximize')\n",
    "study.optimize(objective, n_trials=200)\n",
    "trial = study.best_trial\n",
    "print('Accuracy: {}'.format(trial.value))\n",
    "print(\"Best hyperparameters: {}\".format(trial.params))"
   ]
  },
  {
   "cell_type": "raw",
   "id": "forty-magnitude",
   "metadata": {
    "execution": {
     "iopub.execute_input": "2021-04-28T02:43:53.371786Z",
     "iopub.status.busy": "2021-04-28T02:43:53.371786Z",
     "iopub.status.idle": "2021-04-28T02:43:56.461930Z",
     "shell.execute_reply": "2021-04-28T02:43:56.460938Z",
     "shell.execute_reply.started": "2021-04-28T02:43:53.371786Z"
    }
   },
   "source": [
    "from yellowbrick.model_selection import learning_curve\n",
    "\n",
    "# Build model with the best params\n",
    "best = XGBClassifier(**study.best_params )"
   ]
  },
  {
   "cell_type": "raw",
   "id": "smoking-thing",
   "metadata": {
    "execution": {
     "iopub.status.busy": "2021-04-28T02:40:50.834832Z",
     "iopub.status.idle": "2021-04-28T02:40:50.834832Z",
     "shell.execute_reply": "2021-04-28T02:40:50.834832Z"
    }
   },
   "source": [
    "best.fit(X_train, y_train)\n",
    "y_pred = best.predict(X_test)\n",
    "y_pred = y_pred.astype(int)\n",
    "y_pred = pd.DataFrame(y_pred, columns=['Survived'], index=X_test.index)\n",
    "# saving the dataframe \n",
    "y_pred.to_csv('Predictions.csv') "
   ]
  }
 ],
 "metadata": {
  "kernelspec": {
   "display_name": "Python [conda env:gputest] *",
   "language": "python",
   "name": "conda-env-gputest-py"
  },
  "language_info": {
   "codemirror_mode": {
    "name": "ipython",
    "version": 3
   },
   "file_extension": ".py",
   "mimetype": "text/x-python",
   "name": "python",
   "nbconvert_exporter": "python",
   "pygments_lexer": "ipython3",
   "version": "3.7.9"
  }
 },
 "nbformat": 4,
 "nbformat_minor": 5
}
