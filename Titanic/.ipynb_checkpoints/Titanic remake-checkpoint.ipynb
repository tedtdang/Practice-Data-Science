{
 "cells": [
  {
   "cell_type": "code",
   "execution_count": 1,
   "metadata": {},
   "outputs": [],
   "source": [
    "# Import libraries and the data set\n",
    "import pandas as pd\n",
    "import numpy as np\n",
    "import sidetable\n",
    "import seaborn as sb\n",
    "import matplotlib.pyplot as plt\n",
    "%matplotlib inline\n",
    "import DataScience\n",
    "\n",
    "df = pd.read_csv('train.csv', index_col=['PassengerId'])\n",
    "X_test = pd.read_csv('test.csv', index_col=['PassengerId'])"
   ]
  },
  {
   "cell_type": "code",
   "execution_count": 2,
   "metadata": {
    "jupyter": {
     "source_hidden": true
    }
   },
   "outputs": [
    {
     "data": {
      "text/html": [
       "<div>\n",
       "<style scoped>\n",
       "    .dataframe tbody tr th:only-of-type {\n",
       "        vertical-align: middle;\n",
       "    }\n",
       "\n",
       "    .dataframe tbody tr th {\n",
       "        vertical-align: top;\n",
       "    }\n",
       "\n",
       "    .dataframe thead th {\n",
       "        text-align: right;\n",
       "    }\n",
       "</style>\n",
       "<table border=\"1\" class=\"dataframe\">\n",
       "  <thead>\n",
       "    <tr style=\"text-align: right;\">\n",
       "      <th></th>\n",
       "      <th>Survived</th>\n",
       "      <th>Pclass</th>\n",
       "      <th>Name</th>\n",
       "      <th>Sex</th>\n",
       "      <th>Age</th>\n",
       "      <th>SibSp</th>\n",
       "      <th>Parch</th>\n",
       "      <th>Ticket</th>\n",
       "      <th>Fare</th>\n",
       "      <th>Cabin</th>\n",
       "      <th>Embarked</th>\n",
       "    </tr>\n",
       "    <tr>\n",
       "      <th>PassengerId</th>\n",
       "      <th></th>\n",
       "      <th></th>\n",
       "      <th></th>\n",
       "      <th></th>\n",
       "      <th></th>\n",
       "      <th></th>\n",
       "      <th></th>\n",
       "      <th></th>\n",
       "      <th></th>\n",
       "      <th></th>\n",
       "      <th></th>\n",
       "    </tr>\n",
       "  </thead>\n",
       "  <tbody>\n",
       "    <tr>\n",
       "      <th>1</th>\n",
       "      <td>0</td>\n",
       "      <td>3</td>\n",
       "      <td>Braund, Mr. Owen Harris</td>\n",
       "      <td>male</td>\n",
       "      <td>22.0</td>\n",
       "      <td>1</td>\n",
       "      <td>0</td>\n",
       "      <td>A/5 21171</td>\n",
       "      <td>7.2500</td>\n",
       "      <td>NaN</td>\n",
       "      <td>S</td>\n",
       "    </tr>\n",
       "    <tr>\n",
       "      <th>2</th>\n",
       "      <td>1</td>\n",
       "      <td>1</td>\n",
       "      <td>Cumings, Mrs. John Bradley (Florence Briggs Th...</td>\n",
       "      <td>female</td>\n",
       "      <td>38.0</td>\n",
       "      <td>1</td>\n",
       "      <td>0</td>\n",
       "      <td>PC 17599</td>\n",
       "      <td>71.2833</td>\n",
       "      <td>C85</td>\n",
       "      <td>C</td>\n",
       "    </tr>\n",
       "    <tr>\n",
       "      <th>3</th>\n",
       "      <td>1</td>\n",
       "      <td>3</td>\n",
       "      <td>Heikkinen, Miss. Laina</td>\n",
       "      <td>female</td>\n",
       "      <td>26.0</td>\n",
       "      <td>0</td>\n",
       "      <td>0</td>\n",
       "      <td>STON/O2. 3101282</td>\n",
       "      <td>7.9250</td>\n",
       "      <td>NaN</td>\n",
       "      <td>S</td>\n",
       "    </tr>\n",
       "    <tr>\n",
       "      <th>4</th>\n",
       "      <td>1</td>\n",
       "      <td>1</td>\n",
       "      <td>Futrelle, Mrs. Jacques Heath (Lily May Peel)</td>\n",
       "      <td>female</td>\n",
       "      <td>35.0</td>\n",
       "      <td>1</td>\n",
       "      <td>0</td>\n",
       "      <td>113803</td>\n",
       "      <td>53.1000</td>\n",
       "      <td>C123</td>\n",
       "      <td>S</td>\n",
       "    </tr>\n",
       "    <tr>\n",
       "      <th>5</th>\n",
       "      <td>0</td>\n",
       "      <td>3</td>\n",
       "      <td>Allen, Mr. William Henry</td>\n",
       "      <td>male</td>\n",
       "      <td>35.0</td>\n",
       "      <td>0</td>\n",
       "      <td>0</td>\n",
       "      <td>373450</td>\n",
       "      <td>8.0500</td>\n",
       "      <td>NaN</td>\n",
       "      <td>S</td>\n",
       "    </tr>\n",
       "  </tbody>\n",
       "</table>\n",
       "</div>"
      ],
      "text/plain": [
       "             Survived  Pclass  \\\n",
       "PassengerId                     \n",
       "1                   0       3   \n",
       "2                   1       1   \n",
       "3                   1       3   \n",
       "4                   1       1   \n",
       "5                   0       3   \n",
       "\n",
       "                                                          Name     Sex   Age  \\\n",
       "PassengerId                                                                    \n",
       "1                                      Braund, Mr. Owen Harris    male  22.0   \n",
       "2            Cumings, Mrs. John Bradley (Florence Briggs Th...  female  38.0   \n",
       "3                                       Heikkinen, Miss. Laina  female  26.0   \n",
       "4                 Futrelle, Mrs. Jacques Heath (Lily May Peel)  female  35.0   \n",
       "5                                     Allen, Mr. William Henry    male  35.0   \n",
       "\n",
       "             SibSp  Parch            Ticket     Fare Cabin Embarked  \n",
       "PassengerId                                                          \n",
       "1                1      0         A/5 21171   7.2500   NaN        S  \n",
       "2                1      0          PC 17599  71.2833   C85        C  \n",
       "3                0      0  STON/O2. 3101282   7.9250   NaN        S  \n",
       "4                1      0            113803  53.1000  C123        S  \n",
       "5                0      0            373450   8.0500   NaN        S  "
      ]
     },
     "execution_count": 2,
     "metadata": {},
     "output_type": "execute_result"
    }
   ],
   "source": [
    "# Have a look at the first five rows\n",
    "df.head()"
   ]
  },
  {
   "cell_type": "markdown",
   "metadata": {},
   "source": [
    "Column __Name__ and __Ticket__ has nothing to do with predicting __Survived__, it will be dropped"
   ]
  },
  {
   "cell_type": "code",
   "execution_count": 3,
   "metadata": {},
   "outputs": [],
   "source": [
    "df.drop(columns=['Name', 'Ticket'], inplace=True)\n",
    "X_test.drop(columns=['Name', 'Ticket'], inplace=True)"
   ]
  },
  {
   "cell_type": "code",
   "execution_count": 4,
   "metadata": {},
   "outputs": [
    {
     "data": {
      "text/html": [
       "<style  type=\"text/css\" >\n",
       "</style><table id=\"T_72f09974_071c_11eb_8022_309c239d653b\" ><thead>    <tr>        <th class=\"blank level0\" ></th>        <th class=\"col_heading level0 col0\" >missing</th>        <th class=\"col_heading level0 col1\" >total</th>        <th class=\"col_heading level0 col2\" >percent</th>    </tr></thead><tbody>\n",
       "                <tr>\n",
       "                        <th id=\"T_72f09974_071c_11eb_8022_309c239d653blevel0_row0\" class=\"row_heading level0 row0\" >Cabin</th>\n",
       "                        <td id=\"T_72f09974_071c_11eb_8022_309c239d653brow0_col0\" class=\"data row0 col0\" >687</td>\n",
       "                        <td id=\"T_72f09974_071c_11eb_8022_309c239d653brow0_col1\" class=\"data row0 col1\" >891</td>\n",
       "                        <td id=\"T_72f09974_071c_11eb_8022_309c239d653brow0_col2\" class=\"data row0 col2\" >77.10%</td>\n",
       "            </tr>\n",
       "            <tr>\n",
       "                        <th id=\"T_72f09974_071c_11eb_8022_309c239d653blevel0_row1\" class=\"row_heading level0 row1\" >Age</th>\n",
       "                        <td id=\"T_72f09974_071c_11eb_8022_309c239d653brow1_col0\" class=\"data row1 col0\" >177</td>\n",
       "                        <td id=\"T_72f09974_071c_11eb_8022_309c239d653brow1_col1\" class=\"data row1 col1\" >891</td>\n",
       "                        <td id=\"T_72f09974_071c_11eb_8022_309c239d653brow1_col2\" class=\"data row1 col2\" >19.87%</td>\n",
       "            </tr>\n",
       "            <tr>\n",
       "                        <th id=\"T_72f09974_071c_11eb_8022_309c239d653blevel0_row2\" class=\"row_heading level0 row2\" >Embarked</th>\n",
       "                        <td id=\"T_72f09974_071c_11eb_8022_309c239d653brow2_col0\" class=\"data row2 col0\" >2</td>\n",
       "                        <td id=\"T_72f09974_071c_11eb_8022_309c239d653brow2_col1\" class=\"data row2 col1\" >891</td>\n",
       "                        <td id=\"T_72f09974_071c_11eb_8022_309c239d653brow2_col2\" class=\"data row2 col2\" >0.22%</td>\n",
       "            </tr>\n",
       "            <tr>\n",
       "                        <th id=\"T_72f09974_071c_11eb_8022_309c239d653blevel0_row3\" class=\"row_heading level0 row3\" >Survived</th>\n",
       "                        <td id=\"T_72f09974_071c_11eb_8022_309c239d653brow3_col0\" class=\"data row3 col0\" >0</td>\n",
       "                        <td id=\"T_72f09974_071c_11eb_8022_309c239d653brow3_col1\" class=\"data row3 col1\" >891</td>\n",
       "                        <td id=\"T_72f09974_071c_11eb_8022_309c239d653brow3_col2\" class=\"data row3 col2\" >0.00%</td>\n",
       "            </tr>\n",
       "            <tr>\n",
       "                        <th id=\"T_72f09974_071c_11eb_8022_309c239d653blevel0_row4\" class=\"row_heading level0 row4\" >Pclass</th>\n",
       "                        <td id=\"T_72f09974_071c_11eb_8022_309c239d653brow4_col0\" class=\"data row4 col0\" >0</td>\n",
       "                        <td id=\"T_72f09974_071c_11eb_8022_309c239d653brow4_col1\" class=\"data row4 col1\" >891</td>\n",
       "                        <td id=\"T_72f09974_071c_11eb_8022_309c239d653brow4_col2\" class=\"data row4 col2\" >0.00%</td>\n",
       "            </tr>\n",
       "            <tr>\n",
       "                        <th id=\"T_72f09974_071c_11eb_8022_309c239d653blevel0_row5\" class=\"row_heading level0 row5\" >Sex</th>\n",
       "                        <td id=\"T_72f09974_071c_11eb_8022_309c239d653brow5_col0\" class=\"data row5 col0\" >0</td>\n",
       "                        <td id=\"T_72f09974_071c_11eb_8022_309c239d653brow5_col1\" class=\"data row5 col1\" >891</td>\n",
       "                        <td id=\"T_72f09974_071c_11eb_8022_309c239d653brow5_col2\" class=\"data row5 col2\" >0.00%</td>\n",
       "            </tr>\n",
       "            <tr>\n",
       "                        <th id=\"T_72f09974_071c_11eb_8022_309c239d653blevel0_row6\" class=\"row_heading level0 row6\" >SibSp</th>\n",
       "                        <td id=\"T_72f09974_071c_11eb_8022_309c239d653brow6_col0\" class=\"data row6 col0\" >0</td>\n",
       "                        <td id=\"T_72f09974_071c_11eb_8022_309c239d653brow6_col1\" class=\"data row6 col1\" >891</td>\n",
       "                        <td id=\"T_72f09974_071c_11eb_8022_309c239d653brow6_col2\" class=\"data row6 col2\" >0.00%</td>\n",
       "            </tr>\n",
       "            <tr>\n",
       "                        <th id=\"T_72f09974_071c_11eb_8022_309c239d653blevel0_row7\" class=\"row_heading level0 row7\" >Parch</th>\n",
       "                        <td id=\"T_72f09974_071c_11eb_8022_309c239d653brow7_col0\" class=\"data row7 col0\" >0</td>\n",
       "                        <td id=\"T_72f09974_071c_11eb_8022_309c239d653brow7_col1\" class=\"data row7 col1\" >891</td>\n",
       "                        <td id=\"T_72f09974_071c_11eb_8022_309c239d653brow7_col2\" class=\"data row7 col2\" >0.00%</td>\n",
       "            </tr>\n",
       "            <tr>\n",
       "                        <th id=\"T_72f09974_071c_11eb_8022_309c239d653blevel0_row8\" class=\"row_heading level0 row8\" >Fare</th>\n",
       "                        <td id=\"T_72f09974_071c_11eb_8022_309c239d653brow8_col0\" class=\"data row8 col0\" >0</td>\n",
       "                        <td id=\"T_72f09974_071c_11eb_8022_309c239d653brow8_col1\" class=\"data row8 col1\" >891</td>\n",
       "                        <td id=\"T_72f09974_071c_11eb_8022_309c239d653brow8_col2\" class=\"data row8 col2\" >0.00%</td>\n",
       "            </tr>\n",
       "    </tbody></table>"
      ],
      "text/plain": [
       "<pandas.io.formats.style.Styler at 0x2f57a5a2908>"
      ]
     },
     "execution_count": 4,
     "metadata": {},
     "output_type": "execute_result"
    }
   ],
   "source": [
    "# See the missing data in columns\n",
    "df.stb.missing(style=True)"
   ]
  },
  {
   "cell_type": "markdown",
   "metadata": {},
   "source": [
    "As column __Cabin__ has 77% missing values, the column will be dropped.\n",
    "<br>Column __Age__ can be imputed.\n",
    "<br>As column __Embarked__ has 2 missing rows, the rows will be dropped."
   ]
  },
  {
   "cell_type": "code",
   "execution_count": 5,
   "metadata": {},
   "outputs": [],
   "source": [
    "df.drop(columns='Cabin', inplace=True, axis=1)\n",
    "df.dropna(subset=['Embarked'], axis=0, inplace=True)"
   ]
  },
  {
   "cell_type": "code",
   "execution_count": 6,
   "metadata": {},
   "outputs": [
    {
     "data": {
      "text/html": [
       "<style  type=\"text/css\" >\n",
       "</style><table id=\"T_72f87442_071c_11eb_87b8_309c239d653b\" ><thead>    <tr>        <th class=\"blank level0\" ></th>        <th class=\"col_heading level0 col0\" >missing</th>        <th class=\"col_heading level0 col1\" >total</th>        <th class=\"col_heading level0 col2\" >percent</th>    </tr></thead><tbody>\n",
       "                <tr>\n",
       "                        <th id=\"T_72f87442_071c_11eb_87b8_309c239d653blevel0_row0\" class=\"row_heading level0 row0\" >Cabin</th>\n",
       "                        <td id=\"T_72f87442_071c_11eb_87b8_309c239d653brow0_col0\" class=\"data row0 col0\" >327</td>\n",
       "                        <td id=\"T_72f87442_071c_11eb_87b8_309c239d653brow0_col1\" class=\"data row0 col1\" >418</td>\n",
       "                        <td id=\"T_72f87442_071c_11eb_87b8_309c239d653brow0_col2\" class=\"data row0 col2\" >78.23%</td>\n",
       "            </tr>\n",
       "            <tr>\n",
       "                        <th id=\"T_72f87442_071c_11eb_87b8_309c239d653blevel0_row1\" class=\"row_heading level0 row1\" >Age</th>\n",
       "                        <td id=\"T_72f87442_071c_11eb_87b8_309c239d653brow1_col0\" class=\"data row1 col0\" >86</td>\n",
       "                        <td id=\"T_72f87442_071c_11eb_87b8_309c239d653brow1_col1\" class=\"data row1 col1\" >418</td>\n",
       "                        <td id=\"T_72f87442_071c_11eb_87b8_309c239d653brow1_col2\" class=\"data row1 col2\" >20.57%</td>\n",
       "            </tr>\n",
       "            <tr>\n",
       "                        <th id=\"T_72f87442_071c_11eb_87b8_309c239d653blevel0_row2\" class=\"row_heading level0 row2\" >Fare</th>\n",
       "                        <td id=\"T_72f87442_071c_11eb_87b8_309c239d653brow2_col0\" class=\"data row2 col0\" >1</td>\n",
       "                        <td id=\"T_72f87442_071c_11eb_87b8_309c239d653brow2_col1\" class=\"data row2 col1\" >418</td>\n",
       "                        <td id=\"T_72f87442_071c_11eb_87b8_309c239d653brow2_col2\" class=\"data row2 col2\" >0.24%</td>\n",
       "            </tr>\n",
       "            <tr>\n",
       "                        <th id=\"T_72f87442_071c_11eb_87b8_309c239d653blevel0_row3\" class=\"row_heading level0 row3\" >Pclass</th>\n",
       "                        <td id=\"T_72f87442_071c_11eb_87b8_309c239d653brow3_col0\" class=\"data row3 col0\" >0</td>\n",
       "                        <td id=\"T_72f87442_071c_11eb_87b8_309c239d653brow3_col1\" class=\"data row3 col1\" >418</td>\n",
       "                        <td id=\"T_72f87442_071c_11eb_87b8_309c239d653brow3_col2\" class=\"data row3 col2\" >0.00%</td>\n",
       "            </tr>\n",
       "            <tr>\n",
       "                        <th id=\"T_72f87442_071c_11eb_87b8_309c239d653blevel0_row4\" class=\"row_heading level0 row4\" >Sex</th>\n",
       "                        <td id=\"T_72f87442_071c_11eb_87b8_309c239d653brow4_col0\" class=\"data row4 col0\" >0</td>\n",
       "                        <td id=\"T_72f87442_071c_11eb_87b8_309c239d653brow4_col1\" class=\"data row4 col1\" >418</td>\n",
       "                        <td id=\"T_72f87442_071c_11eb_87b8_309c239d653brow4_col2\" class=\"data row4 col2\" >0.00%</td>\n",
       "            </tr>\n",
       "            <tr>\n",
       "                        <th id=\"T_72f87442_071c_11eb_87b8_309c239d653blevel0_row5\" class=\"row_heading level0 row5\" >SibSp</th>\n",
       "                        <td id=\"T_72f87442_071c_11eb_87b8_309c239d653brow5_col0\" class=\"data row5 col0\" >0</td>\n",
       "                        <td id=\"T_72f87442_071c_11eb_87b8_309c239d653brow5_col1\" class=\"data row5 col1\" >418</td>\n",
       "                        <td id=\"T_72f87442_071c_11eb_87b8_309c239d653brow5_col2\" class=\"data row5 col2\" >0.00%</td>\n",
       "            </tr>\n",
       "            <tr>\n",
       "                        <th id=\"T_72f87442_071c_11eb_87b8_309c239d653blevel0_row6\" class=\"row_heading level0 row6\" >Parch</th>\n",
       "                        <td id=\"T_72f87442_071c_11eb_87b8_309c239d653brow6_col0\" class=\"data row6 col0\" >0</td>\n",
       "                        <td id=\"T_72f87442_071c_11eb_87b8_309c239d653brow6_col1\" class=\"data row6 col1\" >418</td>\n",
       "                        <td id=\"T_72f87442_071c_11eb_87b8_309c239d653brow6_col2\" class=\"data row6 col2\" >0.00%</td>\n",
       "            </tr>\n",
       "            <tr>\n",
       "                        <th id=\"T_72f87442_071c_11eb_87b8_309c239d653blevel0_row7\" class=\"row_heading level0 row7\" >Embarked</th>\n",
       "                        <td id=\"T_72f87442_071c_11eb_87b8_309c239d653brow7_col0\" class=\"data row7 col0\" >0</td>\n",
       "                        <td id=\"T_72f87442_071c_11eb_87b8_309c239d653brow7_col1\" class=\"data row7 col1\" >418</td>\n",
       "                        <td id=\"T_72f87442_071c_11eb_87b8_309c239d653brow7_col2\" class=\"data row7 col2\" >0.00%</td>\n",
       "            </tr>\n",
       "    </tbody></table>"
      ],
      "text/plain": [
       "<pandas.io.formats.style.Styler at 0x2f57c67e388>"
      ]
     },
     "execution_count": 6,
     "metadata": {},
     "output_type": "execute_result"
    }
   ],
   "source": [
    "X_test.stb.missing(style=True)"
   ]
  },
  {
   "cell_type": "markdown",
   "metadata": {},
   "source": [
    "As column __Cabin__ has 77% missing values, the column will be dropped.\n",
    "<br>Column __Age__ can be imputed.\n",
    "<br>As column __Fare__ has 2 missing rows, the rows will be dropped."
   ]
  },
  {
   "cell_type": "code",
   "execution_count": 7,
   "metadata": {},
   "outputs": [],
   "source": [
    "# As there are only two missing rows of column Embarked, I will drop the rows\n",
    "X_test.drop(columns='Cabin', axis=1, inplace=True)\n",
    "# X_test.dropna(subset=['Fare'], axis=0, inplace=True)"
   ]
  },
  {
   "cell_type": "code",
   "execution_count": 8,
   "metadata": {},
   "outputs": [
    {
     "data": {
      "text/html": [
       "<style  type=\"text/css\" >\n",
       "</style><table id=\"T_72fdf3c2_071c_11eb_8171_309c239d653b\" ><thead>    <tr>        <th class=\"blank level0\" ></th>        <th class=\"col_heading level0 col0\" >missing</th>        <th class=\"col_heading level0 col1\" >total</th>        <th class=\"col_heading level0 col2\" >percent</th>    </tr></thead><tbody>\n",
       "                <tr>\n",
       "                        <th id=\"T_72fdf3c2_071c_11eb_8171_309c239d653blevel0_row0\" class=\"row_heading level0 row0\" >Age</th>\n",
       "                        <td id=\"T_72fdf3c2_071c_11eb_8171_309c239d653brow0_col0\" class=\"data row0 col0\" >177</td>\n",
       "                        <td id=\"T_72fdf3c2_071c_11eb_8171_309c239d653brow0_col1\" class=\"data row0 col1\" >889</td>\n",
       "                        <td id=\"T_72fdf3c2_071c_11eb_8171_309c239d653brow0_col2\" class=\"data row0 col2\" >19.91%</td>\n",
       "            </tr>\n",
       "            <tr>\n",
       "                        <th id=\"T_72fdf3c2_071c_11eb_8171_309c239d653blevel0_row1\" class=\"row_heading level0 row1\" >Survived</th>\n",
       "                        <td id=\"T_72fdf3c2_071c_11eb_8171_309c239d653brow1_col0\" class=\"data row1 col0\" >0</td>\n",
       "                        <td id=\"T_72fdf3c2_071c_11eb_8171_309c239d653brow1_col1\" class=\"data row1 col1\" >889</td>\n",
       "                        <td id=\"T_72fdf3c2_071c_11eb_8171_309c239d653brow1_col2\" class=\"data row1 col2\" >0.00%</td>\n",
       "            </tr>\n",
       "            <tr>\n",
       "                        <th id=\"T_72fdf3c2_071c_11eb_8171_309c239d653blevel0_row2\" class=\"row_heading level0 row2\" >Pclass</th>\n",
       "                        <td id=\"T_72fdf3c2_071c_11eb_8171_309c239d653brow2_col0\" class=\"data row2 col0\" >0</td>\n",
       "                        <td id=\"T_72fdf3c2_071c_11eb_8171_309c239d653brow2_col1\" class=\"data row2 col1\" >889</td>\n",
       "                        <td id=\"T_72fdf3c2_071c_11eb_8171_309c239d653brow2_col2\" class=\"data row2 col2\" >0.00%</td>\n",
       "            </tr>\n",
       "            <tr>\n",
       "                        <th id=\"T_72fdf3c2_071c_11eb_8171_309c239d653blevel0_row3\" class=\"row_heading level0 row3\" >Sex</th>\n",
       "                        <td id=\"T_72fdf3c2_071c_11eb_8171_309c239d653brow3_col0\" class=\"data row3 col0\" >0</td>\n",
       "                        <td id=\"T_72fdf3c2_071c_11eb_8171_309c239d653brow3_col1\" class=\"data row3 col1\" >889</td>\n",
       "                        <td id=\"T_72fdf3c2_071c_11eb_8171_309c239d653brow3_col2\" class=\"data row3 col2\" >0.00%</td>\n",
       "            </tr>\n",
       "            <tr>\n",
       "                        <th id=\"T_72fdf3c2_071c_11eb_8171_309c239d653blevel0_row4\" class=\"row_heading level0 row4\" >SibSp</th>\n",
       "                        <td id=\"T_72fdf3c2_071c_11eb_8171_309c239d653brow4_col0\" class=\"data row4 col0\" >0</td>\n",
       "                        <td id=\"T_72fdf3c2_071c_11eb_8171_309c239d653brow4_col1\" class=\"data row4 col1\" >889</td>\n",
       "                        <td id=\"T_72fdf3c2_071c_11eb_8171_309c239d653brow4_col2\" class=\"data row4 col2\" >0.00%</td>\n",
       "            </tr>\n",
       "            <tr>\n",
       "                        <th id=\"T_72fdf3c2_071c_11eb_8171_309c239d653blevel0_row5\" class=\"row_heading level0 row5\" >Parch</th>\n",
       "                        <td id=\"T_72fdf3c2_071c_11eb_8171_309c239d653brow5_col0\" class=\"data row5 col0\" >0</td>\n",
       "                        <td id=\"T_72fdf3c2_071c_11eb_8171_309c239d653brow5_col1\" class=\"data row5 col1\" >889</td>\n",
       "                        <td id=\"T_72fdf3c2_071c_11eb_8171_309c239d653brow5_col2\" class=\"data row5 col2\" >0.00%</td>\n",
       "            </tr>\n",
       "            <tr>\n",
       "                        <th id=\"T_72fdf3c2_071c_11eb_8171_309c239d653blevel0_row6\" class=\"row_heading level0 row6\" >Fare</th>\n",
       "                        <td id=\"T_72fdf3c2_071c_11eb_8171_309c239d653brow6_col0\" class=\"data row6 col0\" >0</td>\n",
       "                        <td id=\"T_72fdf3c2_071c_11eb_8171_309c239d653brow6_col1\" class=\"data row6 col1\" >889</td>\n",
       "                        <td id=\"T_72fdf3c2_071c_11eb_8171_309c239d653brow6_col2\" class=\"data row6 col2\" >0.00%</td>\n",
       "            </tr>\n",
       "            <tr>\n",
       "                        <th id=\"T_72fdf3c2_071c_11eb_8171_309c239d653blevel0_row7\" class=\"row_heading level0 row7\" >Embarked</th>\n",
       "                        <td id=\"T_72fdf3c2_071c_11eb_8171_309c239d653brow7_col0\" class=\"data row7 col0\" >0</td>\n",
       "                        <td id=\"T_72fdf3c2_071c_11eb_8171_309c239d653brow7_col1\" class=\"data row7 col1\" >889</td>\n",
       "                        <td id=\"T_72fdf3c2_071c_11eb_8171_309c239d653brow7_col2\" class=\"data row7 col2\" >0.00%</td>\n",
       "            </tr>\n",
       "    </tbody></table>"
      ],
      "text/plain": [
       "<pandas.io.formats.style.Styler at 0x2f57c671fc8>"
      ]
     },
     "execution_count": 8,
     "metadata": {},
     "output_type": "execute_result"
    }
   ],
   "source": [
    "# Recheck the missing data in columns\n",
    "df.stb.missing(style=True)"
   ]
  },
  {
   "cell_type": "code",
   "execution_count": 9,
   "metadata": {},
   "outputs": [
    {
     "data": {
      "text/html": [
       "<style  type=\"text/css\" >\n",
       "</style><table id=\"T_7303c188_071c_11eb_9412_309c239d653b\" ><thead>    <tr>        <th class=\"blank level0\" ></th>        <th class=\"col_heading level0 col0\" >missing</th>        <th class=\"col_heading level0 col1\" >total</th>        <th class=\"col_heading level0 col2\" >percent</th>    </tr></thead><tbody>\n",
       "                <tr>\n",
       "                        <th id=\"T_7303c188_071c_11eb_9412_309c239d653blevel0_row0\" class=\"row_heading level0 row0\" >Age</th>\n",
       "                        <td id=\"T_7303c188_071c_11eb_9412_309c239d653brow0_col0\" class=\"data row0 col0\" >86</td>\n",
       "                        <td id=\"T_7303c188_071c_11eb_9412_309c239d653brow0_col1\" class=\"data row0 col1\" >418</td>\n",
       "                        <td id=\"T_7303c188_071c_11eb_9412_309c239d653brow0_col2\" class=\"data row0 col2\" >20.57%</td>\n",
       "            </tr>\n",
       "            <tr>\n",
       "                        <th id=\"T_7303c188_071c_11eb_9412_309c239d653blevel0_row1\" class=\"row_heading level0 row1\" >Fare</th>\n",
       "                        <td id=\"T_7303c188_071c_11eb_9412_309c239d653brow1_col0\" class=\"data row1 col0\" >1</td>\n",
       "                        <td id=\"T_7303c188_071c_11eb_9412_309c239d653brow1_col1\" class=\"data row1 col1\" >418</td>\n",
       "                        <td id=\"T_7303c188_071c_11eb_9412_309c239d653brow1_col2\" class=\"data row1 col2\" >0.24%</td>\n",
       "            </tr>\n",
       "            <tr>\n",
       "                        <th id=\"T_7303c188_071c_11eb_9412_309c239d653blevel0_row2\" class=\"row_heading level0 row2\" >Pclass</th>\n",
       "                        <td id=\"T_7303c188_071c_11eb_9412_309c239d653brow2_col0\" class=\"data row2 col0\" >0</td>\n",
       "                        <td id=\"T_7303c188_071c_11eb_9412_309c239d653brow2_col1\" class=\"data row2 col1\" >418</td>\n",
       "                        <td id=\"T_7303c188_071c_11eb_9412_309c239d653brow2_col2\" class=\"data row2 col2\" >0.00%</td>\n",
       "            </tr>\n",
       "            <tr>\n",
       "                        <th id=\"T_7303c188_071c_11eb_9412_309c239d653blevel0_row3\" class=\"row_heading level0 row3\" >Sex</th>\n",
       "                        <td id=\"T_7303c188_071c_11eb_9412_309c239d653brow3_col0\" class=\"data row3 col0\" >0</td>\n",
       "                        <td id=\"T_7303c188_071c_11eb_9412_309c239d653brow3_col1\" class=\"data row3 col1\" >418</td>\n",
       "                        <td id=\"T_7303c188_071c_11eb_9412_309c239d653brow3_col2\" class=\"data row3 col2\" >0.00%</td>\n",
       "            </tr>\n",
       "            <tr>\n",
       "                        <th id=\"T_7303c188_071c_11eb_9412_309c239d653blevel0_row4\" class=\"row_heading level0 row4\" >SibSp</th>\n",
       "                        <td id=\"T_7303c188_071c_11eb_9412_309c239d653brow4_col0\" class=\"data row4 col0\" >0</td>\n",
       "                        <td id=\"T_7303c188_071c_11eb_9412_309c239d653brow4_col1\" class=\"data row4 col1\" >418</td>\n",
       "                        <td id=\"T_7303c188_071c_11eb_9412_309c239d653brow4_col2\" class=\"data row4 col2\" >0.00%</td>\n",
       "            </tr>\n",
       "            <tr>\n",
       "                        <th id=\"T_7303c188_071c_11eb_9412_309c239d653blevel0_row5\" class=\"row_heading level0 row5\" >Parch</th>\n",
       "                        <td id=\"T_7303c188_071c_11eb_9412_309c239d653brow5_col0\" class=\"data row5 col0\" >0</td>\n",
       "                        <td id=\"T_7303c188_071c_11eb_9412_309c239d653brow5_col1\" class=\"data row5 col1\" >418</td>\n",
       "                        <td id=\"T_7303c188_071c_11eb_9412_309c239d653brow5_col2\" class=\"data row5 col2\" >0.00%</td>\n",
       "            </tr>\n",
       "            <tr>\n",
       "                        <th id=\"T_7303c188_071c_11eb_9412_309c239d653blevel0_row6\" class=\"row_heading level0 row6\" >Embarked</th>\n",
       "                        <td id=\"T_7303c188_071c_11eb_9412_309c239d653brow6_col0\" class=\"data row6 col0\" >0</td>\n",
       "                        <td id=\"T_7303c188_071c_11eb_9412_309c239d653brow6_col1\" class=\"data row6 col1\" >418</td>\n",
       "                        <td id=\"T_7303c188_071c_11eb_9412_309c239d653brow6_col2\" class=\"data row6 col2\" >0.00%</td>\n",
       "            </tr>\n",
       "    </tbody></table>"
      ],
      "text/plain": [
       "<pandas.io.formats.style.Styler at 0x2f57c6a7b08>"
      ]
     },
     "execution_count": 9,
     "metadata": {},
     "output_type": "execute_result"
    }
   ],
   "source": [
    "X_test.stb.missing(style=True)"
   ]
  },
  {
   "cell_type": "code",
   "execution_count": 10,
   "metadata": {},
   "outputs": [],
   "source": [
    "# Get X_train and y_train\n",
    "y_train = df.Survived.copy()\n",
    "X_train = df.drop(columns='Survived').copy()"
   ]
  },
  {
   "cell_type": "code",
   "execution_count": 11,
   "metadata": {},
   "outputs": [],
   "source": [
    "# Retrive num_cols and cat_cols\n",
    "num_cols = list(X_train._get_numeric_data().columns)\n",
    "cat_cols = list(set(X_train.columns) - set(num_cols))"
   ]
  },
  {
   "cell_type": "code",
   "execution_count": 12,
   "metadata": {},
   "outputs": [
    {
     "name": "stdout",
     "output_type": "stream",
     "text": [
      "['Pclass', 'Age', 'SibSp', 'Parch', 'Fare'] ['Sex', 'Embarked']\n"
     ]
    }
   ],
   "source": [
    "print(num_cols, cat_cols)"
   ]
  },
  {
   "cell_type": "code",
   "execution_count": 13,
   "metadata": {},
   "outputs": [],
   "source": [
    "# Impute cat_cols\n",
    "from sklearn.impute import SimpleImputer\n",
    "si = SimpleImputer(strategy='most_frequent')\n",
    "X_train[cat_cols] = si.fit_transform(X_train[cat_cols])\n",
    "X_test[cat_cols] = si.fit_transform(X_test[cat_cols])"
   ]
  },
  {
   "cell_type": "code",
   "execution_count": 14,
   "metadata": {},
   "outputs": [],
   "source": [
    "# Encode cat_cols\n",
    "X_train = pd.get_dummies(data=X_train, columns=cat_cols, drop_first=True)\n",
    "X_test = pd.get_dummies(data=X_test, columns=cat_cols, drop_first=True)"
   ]
  },
  {
   "cell_type": "code",
   "execution_count": 15,
   "metadata": {},
   "outputs": [
    {
     "name": "stdout",
     "output_type": "stream",
     "text": [
      "<class 'pandas.core.frame.DataFrame'>\n",
      "Int64Index: 889 entries, 1 to 891\n",
      "Data columns (total 8 columns):\n",
      " #   Column      Non-Null Count  Dtype  \n",
      "---  ------      --------------  -----  \n",
      " 0   Pclass      889 non-null    int64  \n",
      " 1   Age         712 non-null    float64\n",
      " 2   SibSp       889 non-null    int64  \n",
      " 3   Parch       889 non-null    int64  \n",
      " 4   Fare        889 non-null    float64\n",
      " 5   Sex_male    889 non-null    uint8  \n",
      " 6   Embarked_Q  889 non-null    uint8  \n",
      " 7   Embarked_S  889 non-null    uint8  \n",
      "dtypes: float64(2), int64(3), uint8(3)\n",
      "memory usage: 44.3 KB\n"
     ]
    }
   ],
   "source": [
    "# Have a look at the current columns\n",
    "X_train.info()"
   ]
  },
  {
   "cell_type": "code",
   "execution_count": 16,
   "metadata": {},
   "outputs": [],
   "source": [
    "train_num_cols_to_be_imputed = X_train._get_numeric_data().columns[X_train.isnull().any()]\n",
    "test_num_cols_to_be_imputed = X_test._get_numeric_data().columns[X_test.isnull().any()]"
   ]
  },
  {
   "cell_type": "code",
   "execution_count": 17,
   "metadata": {},
   "outputs": [
    {
     "name": "stdout",
     "output_type": "stream",
     "text": [
      "Imputing row 1/889 with 0 missing, elapsed time: 0.070\n",
      "Imputing row 101/889 with 1 missing, elapsed time: 0.075\n",
      "Imputing row 201/889 with 1 missing, elapsed time: 0.075\n",
      "Imputing row 301/889 with 1 missing, elapsed time: 0.075\n",
      "Imputing row 401/889 with 0 missing, elapsed time: 0.075\n",
      "Imputing row 501/889 with 0 missing, elapsed time: 0.075\n",
      "Imputing row 601/889 with 1 missing, elapsed time: 0.075\n",
      "Imputing row 701/889 with 0 missing, elapsed time: 0.075\n",
      "Imputing row 801/889 with 0 missing, elapsed time: 0.075\n",
      "[KNN] Warning: 177/889 still missing after imputation, replacing with 0\n",
      "                   Mean    Median  Iterative       KNN\n",
      "R_squared_adj  0.004431  0.003753   0.004431 -0.001087\n"
     ]
    }
   ],
   "source": [
    "# This is the module I wrote included in folder 'package'\n",
    "# Test for the best imputation algorithm for num_cols\n",
    "DataScience.test_imputations(X_train, y_train, train_num_cols_to_be_imputed)"
   ]
  },
  {
   "cell_type": "markdown",
   "metadata": {},
   "source": [
    "We can see that Iterative yields the best Adjusted R Squared score"
   ]
  },
  {
   "cell_type": "code",
   "execution_count": 18,
   "metadata": {},
   "outputs": [],
   "source": [
    "# # # Test for the best k neighors in KNN for num_cols\n",
    "# DataScience.test_KNN_imputation(X_train, y_train, num_cols, range(2, 10))"
   ]
  },
  {
   "cell_type": "code",
   "execution_count": 19,
   "metadata": {},
   "outputs": [],
   "source": [
    "# Impute num_cols\n",
    "from fancyimpute import IterativeImputer\n",
    "ii = IterativeImputer()\n",
    "X_train[train_num_cols_to_be_imputed] = ii.fit_transform(X_train[train_num_cols_to_be_imputed])\n",
    "X_test[test_num_cols_to_be_imputed] = ii.fit_transform(X_test[test_num_cols_to_be_imputed])"
   ]
  },
  {
   "cell_type": "code",
   "execution_count": 20,
   "metadata": {},
   "outputs": [],
   "source": [
    "# Scale num_cols\n",
    "from sklearn.preprocessing import StandardScaler\n",
    "sc = StandardScaler()\n",
    "num_scaled = sc.fit_transform(X_train[num_cols])\n",
    "X_train[num_cols] = pd.DataFrame(num_scaled, index=X_train.index, columns=num_cols)\n",
    "num_scaled = sc.fit_transform(X_test[num_cols])\n",
    "X_test[num_cols] = pd.DataFrame(num_scaled, index=X_test.index, columns=num_cols)"
   ]
  },
  {
   "cell_type": "code",
   "execution_count": 21,
   "metadata": {},
   "outputs": [
    {
     "data": {
      "text/plain": [
       "['Pclass', 'Age', 'SibSp', 'Parch', 'Fare']"
      ]
     },
     "execution_count": 21,
     "metadata": {},
     "output_type": "execute_result"
    }
   ],
   "source": [
    "num_cols"
   ]
  },
  {
   "cell_type": "code",
   "execution_count": 22,
   "metadata": {},
   "outputs": [
    {
     "data": {
      "text/html": [
       "<div>\n",
       "<style scoped>\n",
       "    .dataframe tbody tr th:only-of-type {\n",
       "        vertical-align: middle;\n",
       "    }\n",
       "\n",
       "    .dataframe tbody tr th {\n",
       "        vertical-align: top;\n",
       "    }\n",
       "\n",
       "    .dataframe thead th {\n",
       "        text-align: right;\n",
       "    }\n",
       "</style>\n",
       "<table border=\"1\" class=\"dataframe\">\n",
       "  <thead>\n",
       "    <tr style=\"text-align: right;\">\n",
       "      <th></th>\n",
       "      <th>Pclass</th>\n",
       "      <th>Age</th>\n",
       "      <th>SibSp</th>\n",
       "      <th>Parch</th>\n",
       "      <th>Fare</th>\n",
       "      <th>Sex_male</th>\n",
       "      <th>Embarked_Q</th>\n",
       "      <th>Embarked_S</th>\n",
       "    </tr>\n",
       "    <tr>\n",
       "      <th>PassengerId</th>\n",
       "      <th></th>\n",
       "      <th></th>\n",
       "      <th></th>\n",
       "      <th></th>\n",
       "      <th></th>\n",
       "      <th></th>\n",
       "      <th></th>\n",
       "      <th></th>\n",
       "    </tr>\n",
       "  </thead>\n",
       "  <tbody>\n",
       "    <tr>\n",
       "      <th>1</th>\n",
       "      <td>0.825209</td>\n",
       "      <td>-0.589620</td>\n",
       "      <td>0.431350</td>\n",
       "      <td>-0.474326</td>\n",
       "      <td>-0.500240</td>\n",
       "      <td>1</td>\n",
       "      <td>0</td>\n",
       "      <td>1</td>\n",
       "    </tr>\n",
       "    <tr>\n",
       "      <th>2</th>\n",
       "      <td>-1.572211</td>\n",
       "      <td>0.644848</td>\n",
       "      <td>0.431350</td>\n",
       "      <td>-0.474326</td>\n",
       "      <td>0.788947</td>\n",
       "      <td>0</td>\n",
       "      <td>0</td>\n",
       "      <td>0</td>\n",
       "    </tr>\n",
       "    <tr>\n",
       "      <th>3</th>\n",
       "      <td>0.825209</td>\n",
       "      <td>-0.281003</td>\n",
       "      <td>-0.475199</td>\n",
       "      <td>-0.474326</td>\n",
       "      <td>-0.486650</td>\n",
       "      <td>0</td>\n",
       "      <td>0</td>\n",
       "      <td>1</td>\n",
       "    </tr>\n",
       "    <tr>\n",
       "      <th>4</th>\n",
       "      <td>-1.572211</td>\n",
       "      <td>0.413385</td>\n",
       "      <td>0.431350</td>\n",
       "      <td>-0.474326</td>\n",
       "      <td>0.422861</td>\n",
       "      <td>0</td>\n",
       "      <td>0</td>\n",
       "      <td>1</td>\n",
       "    </tr>\n",
       "    <tr>\n",
       "      <th>5</th>\n",
       "      <td>0.825209</td>\n",
       "      <td>0.413385</td>\n",
       "      <td>-0.475199</td>\n",
       "      <td>-0.474326</td>\n",
       "      <td>-0.484133</td>\n",
       "      <td>1</td>\n",
       "      <td>0</td>\n",
       "      <td>1</td>\n",
       "    </tr>\n",
       "  </tbody>\n",
       "</table>\n",
       "</div>"
      ],
      "text/plain": [
       "               Pclass       Age     SibSp     Parch      Fare  Sex_male  \\\n",
       "PassengerId                                                               \n",
       "1            0.825209 -0.589620  0.431350 -0.474326 -0.500240         1   \n",
       "2           -1.572211  0.644848  0.431350 -0.474326  0.788947         0   \n",
       "3            0.825209 -0.281003 -0.475199 -0.474326 -0.486650         0   \n",
       "4           -1.572211  0.413385  0.431350 -0.474326  0.422861         0   \n",
       "5            0.825209  0.413385 -0.475199 -0.474326 -0.484133         1   \n",
       "\n",
       "             Embarked_Q  Embarked_S  \n",
       "PassengerId                          \n",
       "1                     0           1  \n",
       "2                     0           0  \n",
       "3                     0           1  \n",
       "4                     0           1  \n",
       "5                     0           1  "
      ]
     },
     "execution_count": 22,
     "metadata": {},
     "output_type": "execute_result"
    }
   ],
   "source": [
    "# Verify X_train\n",
    "X_train.head()"
   ]
  },
  {
   "cell_type": "code",
   "execution_count": 23,
   "metadata": {},
   "outputs": [],
   "source": [
    "from sklearn.decomposition import PCA\n",
    "pca = PCA(n_components = 0.90)\n",
    "pca.fit(X_train)\n",
    "X_train = pca.transform(X_train)\n",
    "X_test_copy = pca.transform(X_test)"
   ]
  },
  {
   "cell_type": "code",
   "execution_count": 24,
   "metadata": {},
   "outputs": [],
   "source": [
    "# from sklearn.model_selection import GridSearchCV\n",
    "# from sklearn.ensemble import RandomForestClassifier\n",
    "# from sklearn.model_selection import StratifiedKFold\n",
    "\n",
    "# parameters = {\n",
    "#         'n_estimators': [200, 500, 700],\n",
    "#         'max_features': ['auto', 'sqrt', 'log2'],\n",
    "#         'max_depth' : [4,5,6,7,8],\n",
    "#         'criterion' :['gini', 'entropy']\n",
    "#              }\n",
    "# rfc = RandomForestClassifier(random_state=1)\n",
    "# xgb_grid = GridSearchCV(estimator=rfc,\n",
    "#                         param_grid=parameters,\n",
    "#                         cv = StratifiedKFold(5),\n",
    "#                         verbose=True,\n",
    "#                         n_jobs = -1)\n",
    "# # Try fitting training data sets with all parameters\n",
    "# xgb_grid.fit(X_train,y_train)\n",
    "\n",
    "# # Print the best parameters\n",
    "# print(xgb_grid.best_params_)\n",
    "\n",
    "# # Fit the training tests using the best parameters\n",
    "# gbm = RandomForestClassifier(**xgb_grid.best_params_, random_state=1)\n",
    "# gbm.fit(X_train,y_train)\n",
    "\n",
    "# # Get the predicted values\n",
    "# predictions = gbm.predict(X_test_copy)"
   ]
  },
  {
   "cell_type": "code",
   "execution_count": 25,
   "metadata": {},
   "outputs": [
    {
     "name": "stdout",
     "output_type": "stream",
     "text": [
      "Fitting 5 folds for each of 7290 candidates, totalling 36450 fits\n"
     ]
    },
    {
     "name": "stderr",
     "output_type": "stream",
     "text": [
      "[Parallel(n_jobs=-1)]: Using backend LokyBackend with 4 concurrent workers.\n",
      "[Parallel(n_jobs=-1)]: Done  42 tasks      | elapsed:    3.9s\n"
     ]
    },
    {
     "ename": "KeyboardInterrupt",
     "evalue": "",
     "output_type": "error",
     "traceback": [
      "\u001b[1;31m---------------------------------------------------------------------------\u001b[0m",
      "\u001b[1;31mKeyboardInterrupt\u001b[0m                         Traceback (most recent call last)",
      "\u001b[1;32m<ipython-input-25-b13705c90877>\u001b[0m in \u001b[0;36m<module>\u001b[1;34m\u001b[0m\n\u001b[0;32m     23\u001b[0m \u001b[1;33m\u001b[0m\u001b[0m\n\u001b[0;32m     24\u001b[0m \u001b[1;31m# Try fitting training data sets with all parameters\u001b[0m\u001b[1;33m\u001b[0m\u001b[1;33m\u001b[0m\u001b[1;33m\u001b[0m\u001b[0m\n\u001b[1;32m---> 25\u001b[1;33m \u001b[0mxgb_grid\u001b[0m\u001b[1;33m.\u001b[0m\u001b[0mfit\u001b[0m\u001b[1;33m(\u001b[0m\u001b[0mX_train\u001b[0m\u001b[1;33m,\u001b[0m\u001b[0my_train\u001b[0m\u001b[1;33m)\u001b[0m\u001b[1;33m\u001b[0m\u001b[1;33m\u001b[0m\u001b[0m\n\u001b[0m\u001b[0;32m     26\u001b[0m \u001b[1;33m\u001b[0m\u001b[0m\n\u001b[0;32m     27\u001b[0m \u001b[1;31m# Print the best parameters\u001b[0m\u001b[1;33m\u001b[0m\u001b[1;33m\u001b[0m\u001b[1;33m\u001b[0m\u001b[0m\n",
      "\u001b[1;32mC:\\ProgramData\\Anaconda3\\lib\\site-packages\\sklearn\\utils\\validation.py\u001b[0m in \u001b[0;36minner_f\u001b[1;34m(*args, **kwargs)\u001b[0m\n\u001b[0;32m     70\u001b[0m                           FutureWarning)\n\u001b[0;32m     71\u001b[0m         \u001b[0mkwargs\u001b[0m\u001b[1;33m.\u001b[0m\u001b[0mupdate\u001b[0m\u001b[1;33m(\u001b[0m\u001b[1;33m{\u001b[0m\u001b[0mk\u001b[0m\u001b[1;33m:\u001b[0m \u001b[0marg\u001b[0m \u001b[1;32mfor\u001b[0m \u001b[0mk\u001b[0m\u001b[1;33m,\u001b[0m \u001b[0marg\u001b[0m \u001b[1;32min\u001b[0m \u001b[0mzip\u001b[0m\u001b[1;33m(\u001b[0m\u001b[0msig\u001b[0m\u001b[1;33m.\u001b[0m\u001b[0mparameters\u001b[0m\u001b[1;33m,\u001b[0m \u001b[0margs\u001b[0m\u001b[1;33m)\u001b[0m\u001b[1;33m}\u001b[0m\u001b[1;33m)\u001b[0m\u001b[1;33m\u001b[0m\u001b[1;33m\u001b[0m\u001b[0m\n\u001b[1;32m---> 72\u001b[1;33m         \u001b[1;32mreturn\u001b[0m \u001b[0mf\u001b[0m\u001b[1;33m(\u001b[0m\u001b[1;33m**\u001b[0m\u001b[0mkwargs\u001b[0m\u001b[1;33m)\u001b[0m\u001b[1;33m\u001b[0m\u001b[1;33m\u001b[0m\u001b[0m\n\u001b[0m\u001b[0;32m     73\u001b[0m     \u001b[1;32mreturn\u001b[0m \u001b[0minner_f\u001b[0m\u001b[1;33m\u001b[0m\u001b[1;33m\u001b[0m\u001b[0m\n\u001b[0;32m     74\u001b[0m \u001b[1;33m\u001b[0m\u001b[0m\n",
      "\u001b[1;32mC:\\ProgramData\\Anaconda3\\lib\\site-packages\\sklearn\\model_selection\\_search.py\u001b[0m in \u001b[0;36mfit\u001b[1;34m(self, X, y, groups, **fit_params)\u001b[0m\n\u001b[0;32m    734\u001b[0m                 \u001b[1;32mreturn\u001b[0m \u001b[0mresults\u001b[0m\u001b[1;33m\u001b[0m\u001b[1;33m\u001b[0m\u001b[0m\n\u001b[0;32m    735\u001b[0m \u001b[1;33m\u001b[0m\u001b[0m\n\u001b[1;32m--> 736\u001b[1;33m             \u001b[0mself\u001b[0m\u001b[1;33m.\u001b[0m\u001b[0m_run_search\u001b[0m\u001b[1;33m(\u001b[0m\u001b[0mevaluate_candidates\u001b[0m\u001b[1;33m)\u001b[0m\u001b[1;33m\u001b[0m\u001b[1;33m\u001b[0m\u001b[0m\n\u001b[0m\u001b[0;32m    737\u001b[0m \u001b[1;33m\u001b[0m\u001b[0m\n\u001b[0;32m    738\u001b[0m         \u001b[1;31m# For multi-metric evaluation, store the best_index_, best_params_ and\u001b[0m\u001b[1;33m\u001b[0m\u001b[1;33m\u001b[0m\u001b[1;33m\u001b[0m\u001b[0m\n",
      "\u001b[1;32mC:\\ProgramData\\Anaconda3\\lib\\site-packages\\sklearn\\model_selection\\_search.py\u001b[0m in \u001b[0;36m_run_search\u001b[1;34m(self, evaluate_candidates)\u001b[0m\n\u001b[0;32m   1186\u001b[0m     \u001b[1;32mdef\u001b[0m \u001b[0m_run_search\u001b[0m\u001b[1;33m(\u001b[0m\u001b[0mself\u001b[0m\u001b[1;33m,\u001b[0m \u001b[0mevaluate_candidates\u001b[0m\u001b[1;33m)\u001b[0m\u001b[1;33m:\u001b[0m\u001b[1;33m\u001b[0m\u001b[1;33m\u001b[0m\u001b[0m\n\u001b[0;32m   1187\u001b[0m         \u001b[1;34m\"\"\"Search all candidates in param_grid\"\"\"\u001b[0m\u001b[1;33m\u001b[0m\u001b[1;33m\u001b[0m\u001b[0m\n\u001b[1;32m-> 1188\u001b[1;33m         \u001b[0mevaluate_candidates\u001b[0m\u001b[1;33m(\u001b[0m\u001b[0mParameterGrid\u001b[0m\u001b[1;33m(\u001b[0m\u001b[0mself\u001b[0m\u001b[1;33m.\u001b[0m\u001b[0mparam_grid\u001b[0m\u001b[1;33m)\u001b[0m\u001b[1;33m)\u001b[0m\u001b[1;33m\u001b[0m\u001b[1;33m\u001b[0m\u001b[0m\n\u001b[0m\u001b[0;32m   1189\u001b[0m \u001b[1;33m\u001b[0m\u001b[0m\n\u001b[0;32m   1190\u001b[0m \u001b[1;33m\u001b[0m\u001b[0m\n",
      "\u001b[1;32mC:\\ProgramData\\Anaconda3\\lib\\site-packages\\sklearn\\model_selection\\_search.py\u001b[0m in \u001b[0;36mevaluate_candidates\u001b[1;34m(candidate_params)\u001b[0m\n\u001b[0;32m    713\u001b[0m                                \u001b[1;32mfor\u001b[0m \u001b[0mparameters\u001b[0m\u001b[1;33m,\u001b[0m \u001b[1;33m(\u001b[0m\u001b[0mtrain\u001b[0m\u001b[1;33m,\u001b[0m \u001b[0mtest\u001b[0m\u001b[1;33m)\u001b[0m\u001b[1;33m\u001b[0m\u001b[1;33m\u001b[0m\u001b[0m\n\u001b[0;32m    714\u001b[0m                                in product(candidate_params,\n\u001b[1;32m--> 715\u001b[1;33m                                           cv.split(X, y, groups)))\n\u001b[0m\u001b[0;32m    716\u001b[0m \u001b[1;33m\u001b[0m\u001b[0m\n\u001b[0;32m    717\u001b[0m                 \u001b[1;32mif\u001b[0m \u001b[0mlen\u001b[0m\u001b[1;33m(\u001b[0m\u001b[0mout\u001b[0m\u001b[1;33m)\u001b[0m \u001b[1;33m<\u001b[0m \u001b[1;36m1\u001b[0m\u001b[1;33m:\u001b[0m\u001b[1;33m\u001b[0m\u001b[1;33m\u001b[0m\u001b[0m\n",
      "\u001b[1;32mC:\\ProgramData\\Anaconda3\\lib\\site-packages\\joblib\\parallel.py\u001b[0m in \u001b[0;36m__call__\u001b[1;34m(self, iterable)\u001b[0m\n\u001b[0;32m   1040\u001b[0m \u001b[1;33m\u001b[0m\u001b[0m\n\u001b[0;32m   1041\u001b[0m             \u001b[1;32mwith\u001b[0m \u001b[0mself\u001b[0m\u001b[1;33m.\u001b[0m\u001b[0m_backend\u001b[0m\u001b[1;33m.\u001b[0m\u001b[0mretrieval_context\u001b[0m\u001b[1;33m(\u001b[0m\u001b[1;33m)\u001b[0m\u001b[1;33m:\u001b[0m\u001b[1;33m\u001b[0m\u001b[1;33m\u001b[0m\u001b[0m\n\u001b[1;32m-> 1042\u001b[1;33m                 \u001b[0mself\u001b[0m\u001b[1;33m.\u001b[0m\u001b[0mretrieve\u001b[0m\u001b[1;33m(\u001b[0m\u001b[1;33m)\u001b[0m\u001b[1;33m\u001b[0m\u001b[1;33m\u001b[0m\u001b[0m\n\u001b[0m\u001b[0;32m   1043\u001b[0m             \u001b[1;31m# Make sure that we get a last message telling us we are done\u001b[0m\u001b[1;33m\u001b[0m\u001b[1;33m\u001b[0m\u001b[1;33m\u001b[0m\u001b[0m\n\u001b[0;32m   1044\u001b[0m             \u001b[0melapsed_time\u001b[0m \u001b[1;33m=\u001b[0m \u001b[0mtime\u001b[0m\u001b[1;33m.\u001b[0m\u001b[0mtime\u001b[0m\u001b[1;33m(\u001b[0m\u001b[1;33m)\u001b[0m \u001b[1;33m-\u001b[0m \u001b[0mself\u001b[0m\u001b[1;33m.\u001b[0m\u001b[0m_start_time\u001b[0m\u001b[1;33m\u001b[0m\u001b[1;33m\u001b[0m\u001b[0m\n",
      "\u001b[1;32mC:\\ProgramData\\Anaconda3\\lib\\site-packages\\joblib\\parallel.py\u001b[0m in \u001b[0;36mretrieve\u001b[1;34m(self)\u001b[0m\n\u001b[0;32m    919\u001b[0m             \u001b[1;32mtry\u001b[0m\u001b[1;33m:\u001b[0m\u001b[1;33m\u001b[0m\u001b[1;33m\u001b[0m\u001b[0m\n\u001b[0;32m    920\u001b[0m                 \u001b[1;32mif\u001b[0m \u001b[0mgetattr\u001b[0m\u001b[1;33m(\u001b[0m\u001b[0mself\u001b[0m\u001b[1;33m.\u001b[0m\u001b[0m_backend\u001b[0m\u001b[1;33m,\u001b[0m \u001b[1;34m'supports_timeout'\u001b[0m\u001b[1;33m,\u001b[0m \u001b[1;32mFalse\u001b[0m\u001b[1;33m)\u001b[0m\u001b[1;33m:\u001b[0m\u001b[1;33m\u001b[0m\u001b[1;33m\u001b[0m\u001b[0m\n\u001b[1;32m--> 921\u001b[1;33m                     \u001b[0mself\u001b[0m\u001b[1;33m.\u001b[0m\u001b[0m_output\u001b[0m\u001b[1;33m.\u001b[0m\u001b[0mextend\u001b[0m\u001b[1;33m(\u001b[0m\u001b[0mjob\u001b[0m\u001b[1;33m.\u001b[0m\u001b[0mget\u001b[0m\u001b[1;33m(\u001b[0m\u001b[0mtimeout\u001b[0m\u001b[1;33m=\u001b[0m\u001b[0mself\u001b[0m\u001b[1;33m.\u001b[0m\u001b[0mtimeout\u001b[0m\u001b[1;33m)\u001b[0m\u001b[1;33m)\u001b[0m\u001b[1;33m\u001b[0m\u001b[1;33m\u001b[0m\u001b[0m\n\u001b[0m\u001b[0;32m    922\u001b[0m                 \u001b[1;32melse\u001b[0m\u001b[1;33m:\u001b[0m\u001b[1;33m\u001b[0m\u001b[1;33m\u001b[0m\u001b[0m\n\u001b[0;32m    923\u001b[0m                     \u001b[0mself\u001b[0m\u001b[1;33m.\u001b[0m\u001b[0m_output\u001b[0m\u001b[1;33m.\u001b[0m\u001b[0mextend\u001b[0m\u001b[1;33m(\u001b[0m\u001b[0mjob\u001b[0m\u001b[1;33m.\u001b[0m\u001b[0mget\u001b[0m\u001b[1;33m(\u001b[0m\u001b[1;33m)\u001b[0m\u001b[1;33m)\u001b[0m\u001b[1;33m\u001b[0m\u001b[1;33m\u001b[0m\u001b[0m\n",
      "\u001b[1;32mC:\\ProgramData\\Anaconda3\\lib\\site-packages\\joblib\\_parallel_backends.py\u001b[0m in \u001b[0;36mwrap_future_result\u001b[1;34m(future, timeout)\u001b[0m\n\u001b[0;32m    540\u001b[0m         AsyncResults.get from multiprocessing.\"\"\"\n\u001b[0;32m    541\u001b[0m         \u001b[1;32mtry\u001b[0m\u001b[1;33m:\u001b[0m\u001b[1;33m\u001b[0m\u001b[1;33m\u001b[0m\u001b[0m\n\u001b[1;32m--> 542\u001b[1;33m             \u001b[1;32mreturn\u001b[0m \u001b[0mfuture\u001b[0m\u001b[1;33m.\u001b[0m\u001b[0mresult\u001b[0m\u001b[1;33m(\u001b[0m\u001b[0mtimeout\u001b[0m\u001b[1;33m=\u001b[0m\u001b[0mtimeout\u001b[0m\u001b[1;33m)\u001b[0m\u001b[1;33m\u001b[0m\u001b[1;33m\u001b[0m\u001b[0m\n\u001b[0m\u001b[0;32m    543\u001b[0m         \u001b[1;32mexcept\u001b[0m \u001b[0mCfTimeoutError\u001b[0m \u001b[1;32mas\u001b[0m \u001b[0me\u001b[0m\u001b[1;33m:\u001b[0m\u001b[1;33m\u001b[0m\u001b[1;33m\u001b[0m\u001b[0m\n\u001b[0;32m    544\u001b[0m             \u001b[1;32mraise\u001b[0m \u001b[0mTimeoutError\u001b[0m \u001b[1;32mfrom\u001b[0m \u001b[0me\u001b[0m\u001b[1;33m\u001b[0m\u001b[1;33m\u001b[0m\u001b[0m\n",
      "\u001b[1;32mC:\\ProgramData\\Anaconda3\\lib\\concurrent\\futures\\_base.py\u001b[0m in \u001b[0;36mresult\u001b[1;34m(self, timeout)\u001b[0m\n\u001b[0;32m    428\u001b[0m                 \u001b[1;32mreturn\u001b[0m \u001b[0mself\u001b[0m\u001b[1;33m.\u001b[0m\u001b[0m__get_result\u001b[0m\u001b[1;33m(\u001b[0m\u001b[1;33m)\u001b[0m\u001b[1;33m\u001b[0m\u001b[1;33m\u001b[0m\u001b[0m\n\u001b[0;32m    429\u001b[0m \u001b[1;33m\u001b[0m\u001b[0m\n\u001b[1;32m--> 430\u001b[1;33m             \u001b[0mself\u001b[0m\u001b[1;33m.\u001b[0m\u001b[0m_condition\u001b[0m\u001b[1;33m.\u001b[0m\u001b[0mwait\u001b[0m\u001b[1;33m(\u001b[0m\u001b[0mtimeout\u001b[0m\u001b[1;33m)\u001b[0m\u001b[1;33m\u001b[0m\u001b[1;33m\u001b[0m\u001b[0m\n\u001b[0m\u001b[0;32m    431\u001b[0m \u001b[1;33m\u001b[0m\u001b[0m\n\u001b[0;32m    432\u001b[0m             \u001b[1;32mif\u001b[0m \u001b[0mself\u001b[0m\u001b[1;33m.\u001b[0m\u001b[0m_state\u001b[0m \u001b[1;32min\u001b[0m \u001b[1;33m[\u001b[0m\u001b[0mCANCELLED\u001b[0m\u001b[1;33m,\u001b[0m \u001b[0mCANCELLED_AND_NOTIFIED\u001b[0m\u001b[1;33m]\u001b[0m\u001b[1;33m:\u001b[0m\u001b[1;33m\u001b[0m\u001b[1;33m\u001b[0m\u001b[0m\n",
      "\u001b[1;32mC:\\ProgramData\\Anaconda3\\lib\\threading.py\u001b[0m in \u001b[0;36mwait\u001b[1;34m(self, timeout)\u001b[0m\n\u001b[0;32m    294\u001b[0m         \u001b[1;32mtry\u001b[0m\u001b[1;33m:\u001b[0m    \u001b[1;31m# restore state no matter what (e.g., KeyboardInterrupt)\u001b[0m\u001b[1;33m\u001b[0m\u001b[1;33m\u001b[0m\u001b[0m\n\u001b[0;32m    295\u001b[0m             \u001b[1;32mif\u001b[0m \u001b[0mtimeout\u001b[0m \u001b[1;32mis\u001b[0m \u001b[1;32mNone\u001b[0m\u001b[1;33m:\u001b[0m\u001b[1;33m\u001b[0m\u001b[1;33m\u001b[0m\u001b[0m\n\u001b[1;32m--> 296\u001b[1;33m                 \u001b[0mwaiter\u001b[0m\u001b[1;33m.\u001b[0m\u001b[0macquire\u001b[0m\u001b[1;33m(\u001b[0m\u001b[1;33m)\u001b[0m\u001b[1;33m\u001b[0m\u001b[1;33m\u001b[0m\u001b[0m\n\u001b[0m\u001b[0;32m    297\u001b[0m                 \u001b[0mgotit\u001b[0m \u001b[1;33m=\u001b[0m \u001b[1;32mTrue\u001b[0m\u001b[1;33m\u001b[0m\u001b[1;33m\u001b[0m\u001b[0m\n\u001b[0;32m    298\u001b[0m             \u001b[1;32melse\u001b[0m\u001b[1;33m:\u001b[0m\u001b[1;33m\u001b[0m\u001b[1;33m\u001b[0m\u001b[0m\n",
      "\u001b[1;31mKeyboardInterrupt\u001b[0m: "
     ]
    }
   ],
   "source": [
    "from sklearn.model_selection import GridSearchCV\n",
    "from xgboost import XGBClassifier\n",
    "from sklearn.model_selection import StratifiedKFold\n",
    "parameters = {'objective':['reg:linear'],\n",
    "              'learning_rate': [0.1, 0.2], #so called `eta` value\n",
    "              'gamma': [0.5, 1, 1.5, 2, 5],\n",
    "              'subsample': [0.6, 0.8, 1.0],\n",
    "              'min_child_weight': [1, 5, 10],\n",
    "              'n_estimators': [500],\n",
    "                'colsample_bytree': [0.6, 0.8, 1.0],\n",
    "                'max_depth': [3, 4, 5],\n",
    "                'reg_alpha': [1.1, 1.2, 1.3],\n",
    "                'reg_lambda': [1.1, 1.2, 1.3],\n",
    "                'subsample': [0.7, 0.8, 0.9]\n",
    "             }\n",
    "\n",
    "xgb_grid = GridSearchCV(XGBClassifier(random_state=1),\n",
    "                        parameters,\n",
    "                        cv = StratifiedKFold(),\n",
    "                        n_jobs = -1,\n",
    "                        verbose=True)\n",
    "\n",
    "# Try fitting training data sets with all parameters\n",
    "xgb_grid.fit(X_train,y_train)\n",
    "\n",
    "# Print the best parameters\n",
    "print(xgb_grid.best_params_)\n",
    "\n",
    "#Fit the training tests using the best parameters\n",
    "gbm = XGBClassifier(**xgb_grid.best_params_, random_state=1)\n",
    "gbm.fit(X_train,y_train)\n",
    "\n",
    "# Print the accuracy of prediction\n",
    "predictions = gbm.predict(X_test_copy)"
   ]
  },
  {
   "cell_type": "code",
   "execution_count": null,
   "metadata": {},
   "outputs": [],
   "source": [
    "# Get the index of the predicted table\n",
    "index = X_test.index\n",
    "predictions = pd.DataFrame(predictions, columns=['Survived'], index=index)\n",
    "\n",
    "# saving the DataFrame as a CSV file \n",
    "csv_data = predictions.to_csv('Predictions.csv', index = True) "
   ]
  },
  {
   "cell_type": "code",
   "execution_count": null,
   "metadata": {},
   "outputs": [],
   "source": [
    "# Verify the prediction's format\n",
    "print(predictions.head())"
   ]
  }
 ],
 "metadata": {
  "kernelspec": {
   "display_name": "Python 3",
   "language": "python",
   "name": "python3"
  },
  "language_info": {
   "codemirror_mode": {
    "name": "ipython",
    "version": 3
   },
   "file_extension": ".py",
   "mimetype": "text/x-python",
   "name": "python",
   "nbconvert_exporter": "python",
   "pygments_lexer": "ipython3",
   "version": "3.7.9"
  }
 },
 "nbformat": 4,
 "nbformat_minor": 4
}
