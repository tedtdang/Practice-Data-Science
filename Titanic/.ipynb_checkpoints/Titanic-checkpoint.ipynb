{
 "cells": [
  {
   "cell_type": "markdown",
   "metadata": {},
   "source": [
    "### Data sets were acquired from https://www.kaggle.com/c/titanic"
   ]
  },
  {
   "cell_type": "code",
   "execution_count": 1,
   "metadata": {},
   "outputs": [],
   "source": [
    "# Import libraries and the data set\n",
    "import pandas as pd\n",
    "import numpy as np\n",
    "import sidetable\n",
    "import seaborn as sb\n",
    "import matplotlib.pyplot as plt\n",
    "%matplotlib inline\n",
    "\n",
    "df = pd.read_csv('train.csv', index_col=['PassengerId'])\n",
    "X_test = pd.read_csv('test.csv', index_col=['PassengerId'])"
   ]
  },
  {
   "cell_type": "code",
   "execution_count": 2,
   "metadata": {},
   "outputs": [
    {
     "data": {
      "text/html": [
       "<div>\n",
       "<style scoped>\n",
       "    .dataframe tbody tr th:only-of-type {\n",
       "        vertical-align: middle;\n",
       "    }\n",
       "\n",
       "    .dataframe tbody tr th {\n",
       "        vertical-align: top;\n",
       "    }\n",
       "\n",
       "    .dataframe thead th {\n",
       "        text-align: right;\n",
       "    }\n",
       "</style>\n",
       "<table border=\"1\" class=\"dataframe\">\n",
       "  <thead>\n",
       "    <tr style=\"text-align: right;\">\n",
       "      <th></th>\n",
       "      <th>Survived</th>\n",
       "      <th>Pclass</th>\n",
       "      <th>Name</th>\n",
       "      <th>Sex</th>\n",
       "      <th>Age</th>\n",
       "      <th>SibSp</th>\n",
       "      <th>Parch</th>\n",
       "      <th>Ticket</th>\n",
       "      <th>Fare</th>\n",
       "      <th>Cabin</th>\n",
       "      <th>Embarked</th>\n",
       "    </tr>\n",
       "    <tr>\n",
       "      <th>PassengerId</th>\n",
       "      <th></th>\n",
       "      <th></th>\n",
       "      <th></th>\n",
       "      <th></th>\n",
       "      <th></th>\n",
       "      <th></th>\n",
       "      <th></th>\n",
       "      <th></th>\n",
       "      <th></th>\n",
       "      <th></th>\n",
       "      <th></th>\n",
       "    </tr>\n",
       "  </thead>\n",
       "  <tbody>\n",
       "    <tr>\n",
       "      <th>1</th>\n",
       "      <td>0</td>\n",
       "      <td>3</td>\n",
       "      <td>Braund, Mr. Owen Harris</td>\n",
       "      <td>male</td>\n",
       "      <td>22.0</td>\n",
       "      <td>1</td>\n",
       "      <td>0</td>\n",
       "      <td>A/5 21171</td>\n",
       "      <td>7.2500</td>\n",
       "      <td>NaN</td>\n",
       "      <td>S</td>\n",
       "    </tr>\n",
       "    <tr>\n",
       "      <th>2</th>\n",
       "      <td>1</td>\n",
       "      <td>1</td>\n",
       "      <td>Cumings, Mrs. John Bradley (Florence Briggs Th...</td>\n",
       "      <td>female</td>\n",
       "      <td>38.0</td>\n",
       "      <td>1</td>\n",
       "      <td>0</td>\n",
       "      <td>PC 17599</td>\n",
       "      <td>71.2833</td>\n",
       "      <td>C85</td>\n",
       "      <td>C</td>\n",
       "    </tr>\n",
       "    <tr>\n",
       "      <th>3</th>\n",
       "      <td>1</td>\n",
       "      <td>3</td>\n",
       "      <td>Heikkinen, Miss. Laina</td>\n",
       "      <td>female</td>\n",
       "      <td>26.0</td>\n",
       "      <td>0</td>\n",
       "      <td>0</td>\n",
       "      <td>STON/O2. 3101282</td>\n",
       "      <td>7.9250</td>\n",
       "      <td>NaN</td>\n",
       "      <td>S</td>\n",
       "    </tr>\n",
       "    <tr>\n",
       "      <th>4</th>\n",
       "      <td>1</td>\n",
       "      <td>1</td>\n",
       "      <td>Futrelle, Mrs. Jacques Heath (Lily May Peel)</td>\n",
       "      <td>female</td>\n",
       "      <td>35.0</td>\n",
       "      <td>1</td>\n",
       "      <td>0</td>\n",
       "      <td>113803</td>\n",
       "      <td>53.1000</td>\n",
       "      <td>C123</td>\n",
       "      <td>S</td>\n",
       "    </tr>\n",
       "    <tr>\n",
       "      <th>5</th>\n",
       "      <td>0</td>\n",
       "      <td>3</td>\n",
       "      <td>Allen, Mr. William Henry</td>\n",
       "      <td>male</td>\n",
       "      <td>35.0</td>\n",
       "      <td>0</td>\n",
       "      <td>0</td>\n",
       "      <td>373450</td>\n",
       "      <td>8.0500</td>\n",
       "      <td>NaN</td>\n",
       "      <td>S</td>\n",
       "    </tr>\n",
       "  </tbody>\n",
       "</table>\n",
       "</div>"
      ],
      "text/plain": [
       "             Survived  Pclass  \\\n",
       "PassengerId                     \n",
       "1                   0       3   \n",
       "2                   1       1   \n",
       "3                   1       3   \n",
       "4                   1       1   \n",
       "5                   0       3   \n",
       "\n",
       "                                                          Name     Sex   Age  \\\n",
       "PassengerId                                                                    \n",
       "1                                      Braund, Mr. Owen Harris    male  22.0   \n",
       "2            Cumings, Mrs. John Bradley (Florence Briggs Th...  female  38.0   \n",
       "3                                       Heikkinen, Miss. Laina  female  26.0   \n",
       "4                 Futrelle, Mrs. Jacques Heath (Lily May Peel)  female  35.0   \n",
       "5                                     Allen, Mr. William Henry    male  35.0   \n",
       "\n",
       "             SibSp  Parch            Ticket     Fare Cabin Embarked  \n",
       "PassengerId                                                          \n",
       "1                1      0         A/5 21171   7.2500   NaN        S  \n",
       "2                1      0          PC 17599  71.2833   C85        C  \n",
       "3                0      0  STON/O2. 3101282   7.9250   NaN        S  \n",
       "4                1      0            113803  53.1000  C123        S  \n",
       "5                0      0            373450   8.0500   NaN        S  "
      ]
     },
     "execution_count": 2,
     "metadata": {},
     "output_type": "execute_result"
    }
   ],
   "source": [
    "# Have a look at the first five rows\n",
    "df.head()"
   ]
  },
  {
   "cell_type": "markdown",
   "metadata": {},
   "source": [
    "Column __Name__ and __Ticket__ has nothing to do with predicting __Survived__, it will be dropped"
   ]
  },
  {
   "cell_type": "code",
   "execution_count": 3,
   "metadata": {},
   "outputs": [],
   "source": [
    "# Column 'Name' and 'Ticket' have nothing to do with predicting 'Survived', they will be dropped\n",
    "df.drop(columns=['Name'], inplace=True)\n",
    "X_test.drop(columns=['Name'], inplace=True)"
   ]
  },
  {
   "cell_type": "code",
   "execution_count": 4,
   "metadata": {},
   "outputs": [
    {
     "data": {
      "text/html": [
       "<style  type=\"text/css\" >\n",
       "</style><table id=\"T_c4e20_\" ><thead>    <tr>        <th class=\"blank level0\" ></th>        <th class=\"col_heading level0 col0\" >missing</th>        <th class=\"col_heading level0 col1\" >total</th>        <th class=\"col_heading level0 col2\" >percent</th>    </tr></thead><tbody>\n",
       "                <tr>\n",
       "                        <th id=\"T_c4e20_level0_row0\" class=\"row_heading level0 row0\" >Cabin</th>\n",
       "                        <td id=\"T_c4e20_row0_col0\" class=\"data row0 col0\" >687</td>\n",
       "                        <td id=\"T_c4e20_row0_col1\" class=\"data row0 col1\" >891</td>\n",
       "                        <td id=\"T_c4e20_row0_col2\" class=\"data row0 col2\" >77.10%</td>\n",
       "            </tr>\n",
       "            <tr>\n",
       "                        <th id=\"T_c4e20_level0_row1\" class=\"row_heading level0 row1\" >Age</th>\n",
       "                        <td id=\"T_c4e20_row1_col0\" class=\"data row1 col0\" >177</td>\n",
       "                        <td id=\"T_c4e20_row1_col1\" class=\"data row1 col1\" >891</td>\n",
       "                        <td id=\"T_c4e20_row1_col2\" class=\"data row1 col2\" >19.87%</td>\n",
       "            </tr>\n",
       "            <tr>\n",
       "                        <th id=\"T_c4e20_level0_row2\" class=\"row_heading level0 row2\" >Embarked</th>\n",
       "                        <td id=\"T_c4e20_row2_col0\" class=\"data row2 col0\" >2</td>\n",
       "                        <td id=\"T_c4e20_row2_col1\" class=\"data row2 col1\" >891</td>\n",
       "                        <td id=\"T_c4e20_row2_col2\" class=\"data row2 col2\" >0.22%</td>\n",
       "            </tr>\n",
       "            <tr>\n",
       "                        <th id=\"T_c4e20_level0_row3\" class=\"row_heading level0 row3\" >Survived</th>\n",
       "                        <td id=\"T_c4e20_row3_col0\" class=\"data row3 col0\" >0</td>\n",
       "                        <td id=\"T_c4e20_row3_col1\" class=\"data row3 col1\" >891</td>\n",
       "                        <td id=\"T_c4e20_row3_col2\" class=\"data row3 col2\" >0.00%</td>\n",
       "            </tr>\n",
       "            <tr>\n",
       "                        <th id=\"T_c4e20_level0_row4\" class=\"row_heading level0 row4\" >Pclass</th>\n",
       "                        <td id=\"T_c4e20_row4_col0\" class=\"data row4 col0\" >0</td>\n",
       "                        <td id=\"T_c4e20_row4_col1\" class=\"data row4 col1\" >891</td>\n",
       "                        <td id=\"T_c4e20_row4_col2\" class=\"data row4 col2\" >0.00%</td>\n",
       "            </tr>\n",
       "            <tr>\n",
       "                        <th id=\"T_c4e20_level0_row5\" class=\"row_heading level0 row5\" >Sex</th>\n",
       "                        <td id=\"T_c4e20_row5_col0\" class=\"data row5 col0\" >0</td>\n",
       "                        <td id=\"T_c4e20_row5_col1\" class=\"data row5 col1\" >891</td>\n",
       "                        <td id=\"T_c4e20_row5_col2\" class=\"data row5 col2\" >0.00%</td>\n",
       "            </tr>\n",
       "            <tr>\n",
       "                        <th id=\"T_c4e20_level0_row6\" class=\"row_heading level0 row6\" >SibSp</th>\n",
       "                        <td id=\"T_c4e20_row6_col0\" class=\"data row6 col0\" >0</td>\n",
       "                        <td id=\"T_c4e20_row6_col1\" class=\"data row6 col1\" >891</td>\n",
       "                        <td id=\"T_c4e20_row6_col2\" class=\"data row6 col2\" >0.00%</td>\n",
       "            </tr>\n",
       "            <tr>\n",
       "                        <th id=\"T_c4e20_level0_row7\" class=\"row_heading level0 row7\" >Parch</th>\n",
       "                        <td id=\"T_c4e20_row7_col0\" class=\"data row7 col0\" >0</td>\n",
       "                        <td id=\"T_c4e20_row7_col1\" class=\"data row7 col1\" >891</td>\n",
       "                        <td id=\"T_c4e20_row7_col2\" class=\"data row7 col2\" >0.00%</td>\n",
       "            </tr>\n",
       "            <tr>\n",
       "                        <th id=\"T_c4e20_level0_row8\" class=\"row_heading level0 row8\" >Ticket</th>\n",
       "                        <td id=\"T_c4e20_row8_col0\" class=\"data row8 col0\" >0</td>\n",
       "                        <td id=\"T_c4e20_row8_col1\" class=\"data row8 col1\" >891</td>\n",
       "                        <td id=\"T_c4e20_row8_col2\" class=\"data row8 col2\" >0.00%</td>\n",
       "            </tr>\n",
       "            <tr>\n",
       "                        <th id=\"T_c4e20_level0_row9\" class=\"row_heading level0 row9\" >Fare</th>\n",
       "                        <td id=\"T_c4e20_row9_col0\" class=\"data row9 col0\" >0</td>\n",
       "                        <td id=\"T_c4e20_row9_col1\" class=\"data row9 col1\" >891</td>\n",
       "                        <td id=\"T_c4e20_row9_col2\" class=\"data row9 col2\" >0.00%</td>\n",
       "            </tr>\n",
       "    </tbody></table>"
      ],
      "text/plain": [
       "<pandas.io.formats.style.Styler at 0x27f90227288>"
      ]
     },
     "execution_count": 4,
     "metadata": {},
     "output_type": "execute_result"
    }
   ],
   "source": [
    "# See the missing data in columns\n",
    "df.stb.missing(style=True)"
   ]
  },
  {
   "cell_type": "markdown",
   "metadata": {},
   "source": [
    "As column __Cabin__ has 77% missing values, the column will be dropped.\n",
    "<br>Column __Age__ can be imputed.\n",
    "<br>As column __Embarked__ has 2 missing rows, the rows will be dropped."
   ]
  },
  {
   "cell_type": "code",
   "execution_count": 5,
   "metadata": {},
   "outputs": [],
   "source": [
    "# As Pclass includes fare, I will drop 'Fare'\n",
    "df.drop(columns=['Ticket', 'Cabin'], inplace=True, axis=1)"
   ]
  },
  {
   "cell_type": "code",
   "execution_count": 6,
   "metadata": {},
   "outputs": [
    {
     "data": {
      "text/html": [
       "<style  type=\"text/css\" >\n",
       "</style><table id=\"T_d6ac0_\" ><thead>    <tr>        <th class=\"blank level0\" ></th>        <th class=\"col_heading level0 col0\" >missing</th>        <th class=\"col_heading level0 col1\" >total</th>        <th class=\"col_heading level0 col2\" >percent</th>    </tr></thead><tbody>\n",
       "                <tr>\n",
       "                        <th id=\"T_d6ac0_level0_row0\" class=\"row_heading level0 row0\" >Cabin</th>\n",
       "                        <td id=\"T_d6ac0_row0_col0\" class=\"data row0 col0\" >327</td>\n",
       "                        <td id=\"T_d6ac0_row0_col1\" class=\"data row0 col1\" >418</td>\n",
       "                        <td id=\"T_d6ac0_row0_col2\" class=\"data row0 col2\" >78.23%</td>\n",
       "            </tr>\n",
       "            <tr>\n",
       "                        <th id=\"T_d6ac0_level0_row1\" class=\"row_heading level0 row1\" >Age</th>\n",
       "                        <td id=\"T_d6ac0_row1_col0\" class=\"data row1 col0\" >86</td>\n",
       "                        <td id=\"T_d6ac0_row1_col1\" class=\"data row1 col1\" >418</td>\n",
       "                        <td id=\"T_d6ac0_row1_col2\" class=\"data row1 col2\" >20.57%</td>\n",
       "            </tr>\n",
       "            <tr>\n",
       "                        <th id=\"T_d6ac0_level0_row2\" class=\"row_heading level0 row2\" >Fare</th>\n",
       "                        <td id=\"T_d6ac0_row2_col0\" class=\"data row2 col0\" >1</td>\n",
       "                        <td id=\"T_d6ac0_row2_col1\" class=\"data row2 col1\" >418</td>\n",
       "                        <td id=\"T_d6ac0_row2_col2\" class=\"data row2 col2\" >0.24%</td>\n",
       "            </tr>\n",
       "            <tr>\n",
       "                        <th id=\"T_d6ac0_level0_row3\" class=\"row_heading level0 row3\" >Pclass</th>\n",
       "                        <td id=\"T_d6ac0_row3_col0\" class=\"data row3 col0\" >0</td>\n",
       "                        <td id=\"T_d6ac0_row3_col1\" class=\"data row3 col1\" >418</td>\n",
       "                        <td id=\"T_d6ac0_row3_col2\" class=\"data row3 col2\" >0.00%</td>\n",
       "            </tr>\n",
       "            <tr>\n",
       "                        <th id=\"T_d6ac0_level0_row4\" class=\"row_heading level0 row4\" >Sex</th>\n",
       "                        <td id=\"T_d6ac0_row4_col0\" class=\"data row4 col0\" >0</td>\n",
       "                        <td id=\"T_d6ac0_row4_col1\" class=\"data row4 col1\" >418</td>\n",
       "                        <td id=\"T_d6ac0_row4_col2\" class=\"data row4 col2\" >0.00%</td>\n",
       "            </tr>\n",
       "            <tr>\n",
       "                        <th id=\"T_d6ac0_level0_row5\" class=\"row_heading level0 row5\" >SibSp</th>\n",
       "                        <td id=\"T_d6ac0_row5_col0\" class=\"data row5 col0\" >0</td>\n",
       "                        <td id=\"T_d6ac0_row5_col1\" class=\"data row5 col1\" >418</td>\n",
       "                        <td id=\"T_d6ac0_row5_col2\" class=\"data row5 col2\" >0.00%</td>\n",
       "            </tr>\n",
       "            <tr>\n",
       "                        <th id=\"T_d6ac0_level0_row6\" class=\"row_heading level0 row6\" >Parch</th>\n",
       "                        <td id=\"T_d6ac0_row6_col0\" class=\"data row6 col0\" >0</td>\n",
       "                        <td id=\"T_d6ac0_row6_col1\" class=\"data row6 col1\" >418</td>\n",
       "                        <td id=\"T_d6ac0_row6_col2\" class=\"data row6 col2\" >0.00%</td>\n",
       "            </tr>\n",
       "            <tr>\n",
       "                        <th id=\"T_d6ac0_level0_row7\" class=\"row_heading level0 row7\" >Ticket</th>\n",
       "                        <td id=\"T_d6ac0_row7_col0\" class=\"data row7 col0\" >0</td>\n",
       "                        <td id=\"T_d6ac0_row7_col1\" class=\"data row7 col1\" >418</td>\n",
       "                        <td id=\"T_d6ac0_row7_col2\" class=\"data row7 col2\" >0.00%</td>\n",
       "            </tr>\n",
       "            <tr>\n",
       "                        <th id=\"T_d6ac0_level0_row8\" class=\"row_heading level0 row8\" >Embarked</th>\n",
       "                        <td id=\"T_d6ac0_row8_col0\" class=\"data row8 col0\" >0</td>\n",
       "                        <td id=\"T_d6ac0_row8_col1\" class=\"data row8 col1\" >418</td>\n",
       "                        <td id=\"T_d6ac0_row8_col2\" class=\"data row8 col2\" >0.00%</td>\n",
       "            </tr>\n",
       "    </tbody></table>"
      ],
      "text/plain": [
       "<pandas.io.formats.style.Styler at 0x27fa15c1208>"
      ]
     },
     "execution_count": 6,
     "metadata": {},
     "output_type": "execute_result"
    }
   ],
   "source": [
    "X_test.stb.missing(style=True)"
   ]
  },
  {
   "cell_type": "markdown",
   "metadata": {},
   "source": [
    "As column __Cabin__ has 77% missing values, the column will be dropped.\n",
    "<br>Column __Age__ can be imputed.\n",
    "<br>As column __Fare__ has 2 missing rows, the rows will be dropped."
   ]
  },
  {
   "cell_type": "code",
   "execution_count": 7,
   "metadata": {},
   "outputs": [],
   "source": [
    "# As column Cabin is missing a lot, and column Ticket has a lot of unique values, which is hard to encode, I will drop them\n",
    "X_test.drop(columns=['Ticket', 'Cabin'], axis=1, inplace=True)"
   ]
  },
  {
   "cell_type": "code",
   "execution_count": 8,
   "metadata": {},
   "outputs": [
    {
     "data": {
      "text/html": [
       "<style  type=\"text/css\" >\n",
       "</style><table id=\"T_ebec7_\" ><thead>    <tr>        <th class=\"blank level0\" ></th>        <th class=\"col_heading level0 col0\" >missing</th>        <th class=\"col_heading level0 col1\" >total</th>        <th class=\"col_heading level0 col2\" >percent</th>    </tr></thead><tbody>\n",
       "                <tr>\n",
       "                        <th id=\"T_ebec7_level0_row0\" class=\"row_heading level0 row0\" >Age</th>\n",
       "                        <td id=\"T_ebec7_row0_col0\" class=\"data row0 col0\" >177</td>\n",
       "                        <td id=\"T_ebec7_row0_col1\" class=\"data row0 col1\" >891</td>\n",
       "                        <td id=\"T_ebec7_row0_col2\" class=\"data row0 col2\" >19.87%</td>\n",
       "            </tr>\n",
       "            <tr>\n",
       "                        <th id=\"T_ebec7_level0_row1\" class=\"row_heading level0 row1\" >Embarked</th>\n",
       "                        <td id=\"T_ebec7_row1_col0\" class=\"data row1 col0\" >2</td>\n",
       "                        <td id=\"T_ebec7_row1_col1\" class=\"data row1 col1\" >891</td>\n",
       "                        <td id=\"T_ebec7_row1_col2\" class=\"data row1 col2\" >0.22%</td>\n",
       "            </tr>\n",
       "            <tr>\n",
       "                        <th id=\"T_ebec7_level0_row2\" class=\"row_heading level0 row2\" >Survived</th>\n",
       "                        <td id=\"T_ebec7_row2_col0\" class=\"data row2 col0\" >0</td>\n",
       "                        <td id=\"T_ebec7_row2_col1\" class=\"data row2 col1\" >891</td>\n",
       "                        <td id=\"T_ebec7_row2_col2\" class=\"data row2 col2\" >0.00%</td>\n",
       "            </tr>\n",
       "            <tr>\n",
       "                        <th id=\"T_ebec7_level0_row3\" class=\"row_heading level0 row3\" >Pclass</th>\n",
       "                        <td id=\"T_ebec7_row3_col0\" class=\"data row3 col0\" >0</td>\n",
       "                        <td id=\"T_ebec7_row3_col1\" class=\"data row3 col1\" >891</td>\n",
       "                        <td id=\"T_ebec7_row3_col2\" class=\"data row3 col2\" >0.00%</td>\n",
       "            </tr>\n",
       "            <tr>\n",
       "                        <th id=\"T_ebec7_level0_row4\" class=\"row_heading level0 row4\" >Sex</th>\n",
       "                        <td id=\"T_ebec7_row4_col0\" class=\"data row4 col0\" >0</td>\n",
       "                        <td id=\"T_ebec7_row4_col1\" class=\"data row4 col1\" >891</td>\n",
       "                        <td id=\"T_ebec7_row4_col2\" class=\"data row4 col2\" >0.00%</td>\n",
       "            </tr>\n",
       "            <tr>\n",
       "                        <th id=\"T_ebec7_level0_row5\" class=\"row_heading level0 row5\" >SibSp</th>\n",
       "                        <td id=\"T_ebec7_row5_col0\" class=\"data row5 col0\" >0</td>\n",
       "                        <td id=\"T_ebec7_row5_col1\" class=\"data row5 col1\" >891</td>\n",
       "                        <td id=\"T_ebec7_row5_col2\" class=\"data row5 col2\" >0.00%</td>\n",
       "            </tr>\n",
       "            <tr>\n",
       "                        <th id=\"T_ebec7_level0_row6\" class=\"row_heading level0 row6\" >Parch</th>\n",
       "                        <td id=\"T_ebec7_row6_col0\" class=\"data row6 col0\" >0</td>\n",
       "                        <td id=\"T_ebec7_row6_col1\" class=\"data row6 col1\" >891</td>\n",
       "                        <td id=\"T_ebec7_row6_col2\" class=\"data row6 col2\" >0.00%</td>\n",
       "            </tr>\n",
       "            <tr>\n",
       "                        <th id=\"T_ebec7_level0_row7\" class=\"row_heading level0 row7\" >Fare</th>\n",
       "                        <td id=\"T_ebec7_row7_col0\" class=\"data row7 col0\" >0</td>\n",
       "                        <td id=\"T_ebec7_row7_col1\" class=\"data row7 col1\" >891</td>\n",
       "                        <td id=\"T_ebec7_row7_col2\" class=\"data row7 col2\" >0.00%</td>\n",
       "            </tr>\n",
       "    </tbody></table>"
      ],
      "text/plain": [
       "<pandas.io.formats.style.Styler at 0x27fa1131dc8>"
      ]
     },
     "execution_count": 8,
     "metadata": {},
     "output_type": "execute_result"
    }
   ],
   "source": [
    "# Recheck the missing data in columns\n",
    "df.stb.missing(style=True)"
   ]
  },
  {
   "cell_type": "code",
   "execution_count": 9,
   "metadata": {},
   "outputs": [
    {
     "data": {
      "text/html": [
       "<style  type=\"text/css\" >\n",
       "</style><table id=\"T_9e5f1_\" ><thead>    <tr>        <th class=\"blank level0\" ></th>        <th class=\"col_heading level0 col0\" >missing</th>        <th class=\"col_heading level0 col1\" >total</th>        <th class=\"col_heading level0 col2\" >percent</th>    </tr></thead><tbody>\n",
       "                <tr>\n",
       "                        <th id=\"T_9e5f1_level0_row0\" class=\"row_heading level0 row0\" >Age</th>\n",
       "                        <td id=\"T_9e5f1_row0_col0\" class=\"data row0 col0\" >86</td>\n",
       "                        <td id=\"T_9e5f1_row0_col1\" class=\"data row0 col1\" >418</td>\n",
       "                        <td id=\"T_9e5f1_row0_col2\" class=\"data row0 col2\" >20.57%</td>\n",
       "            </tr>\n",
       "            <tr>\n",
       "                        <th id=\"T_9e5f1_level0_row1\" class=\"row_heading level0 row1\" >Fare</th>\n",
       "                        <td id=\"T_9e5f1_row1_col0\" class=\"data row1 col0\" >1</td>\n",
       "                        <td id=\"T_9e5f1_row1_col1\" class=\"data row1 col1\" >418</td>\n",
       "                        <td id=\"T_9e5f1_row1_col2\" class=\"data row1 col2\" >0.24%</td>\n",
       "            </tr>\n",
       "            <tr>\n",
       "                        <th id=\"T_9e5f1_level0_row2\" class=\"row_heading level0 row2\" >Pclass</th>\n",
       "                        <td id=\"T_9e5f1_row2_col0\" class=\"data row2 col0\" >0</td>\n",
       "                        <td id=\"T_9e5f1_row2_col1\" class=\"data row2 col1\" >418</td>\n",
       "                        <td id=\"T_9e5f1_row2_col2\" class=\"data row2 col2\" >0.00%</td>\n",
       "            </tr>\n",
       "            <tr>\n",
       "                        <th id=\"T_9e5f1_level0_row3\" class=\"row_heading level0 row3\" >Sex</th>\n",
       "                        <td id=\"T_9e5f1_row3_col0\" class=\"data row3 col0\" >0</td>\n",
       "                        <td id=\"T_9e5f1_row3_col1\" class=\"data row3 col1\" >418</td>\n",
       "                        <td id=\"T_9e5f1_row3_col2\" class=\"data row3 col2\" >0.00%</td>\n",
       "            </tr>\n",
       "            <tr>\n",
       "                        <th id=\"T_9e5f1_level0_row4\" class=\"row_heading level0 row4\" >SibSp</th>\n",
       "                        <td id=\"T_9e5f1_row4_col0\" class=\"data row4 col0\" >0</td>\n",
       "                        <td id=\"T_9e5f1_row4_col1\" class=\"data row4 col1\" >418</td>\n",
       "                        <td id=\"T_9e5f1_row4_col2\" class=\"data row4 col2\" >0.00%</td>\n",
       "            </tr>\n",
       "            <tr>\n",
       "                        <th id=\"T_9e5f1_level0_row5\" class=\"row_heading level0 row5\" >Parch</th>\n",
       "                        <td id=\"T_9e5f1_row5_col0\" class=\"data row5 col0\" >0</td>\n",
       "                        <td id=\"T_9e5f1_row5_col1\" class=\"data row5 col1\" >418</td>\n",
       "                        <td id=\"T_9e5f1_row5_col2\" class=\"data row5 col2\" >0.00%</td>\n",
       "            </tr>\n",
       "            <tr>\n",
       "                        <th id=\"T_9e5f1_level0_row6\" class=\"row_heading level0 row6\" >Embarked</th>\n",
       "                        <td id=\"T_9e5f1_row6_col0\" class=\"data row6 col0\" >0</td>\n",
       "                        <td id=\"T_9e5f1_row6_col1\" class=\"data row6 col1\" >418</td>\n",
       "                        <td id=\"T_9e5f1_row6_col2\" class=\"data row6 col2\" >0.00%</td>\n",
       "            </tr>\n",
       "    </tbody></table>"
      ],
      "text/plain": [
       "<pandas.io.formats.style.Styler at 0x27fa15042c8>"
      ]
     },
     "execution_count": 9,
     "metadata": {},
     "output_type": "execute_result"
    }
   ],
   "source": [
    "X_test.stb.missing(style=True)"
   ]
  },
  {
   "cell_type": "code",
   "execution_count": 10,
   "metadata": {},
   "outputs": [],
   "source": [
    "# Get X_train and y_train\n",
    "y_train = df.Survived.copy()\n",
    "X_train = df.drop(columns='Survived').copy()"
   ]
  },
  {
   "cell_type": "code",
   "execution_count": 11,
   "metadata": {},
   "outputs": [],
   "source": [
    "# Retrive num_cols and cat_cols\n",
    "num_cols = list(X_train._get_numeric_data().columns)\n",
    "cat_cols = list(set(X_train.columns) - set(num_cols))"
   ]
  },
  {
   "cell_type": "code",
   "execution_count": 12,
   "metadata": {},
   "outputs": [],
   "source": [
    "# Encode cat_cols\n",
    "X_train = pd.get_dummies(data=X_train, columns=cat_cols, drop_first=True)\n",
    "X_test = pd.get_dummies(data=X_test, columns=cat_cols, drop_first=True)"
   ]
  },
  {
   "cell_type": "markdown",
   "metadata": {},
   "source": [
    "### As no categorical columns have missing data, there is no need to impute them"
   ]
  },
  {
   "cell_type": "code",
   "execution_count": 13,
   "metadata": {},
   "outputs": [],
   "source": [
    "# Impute numeric data\n",
    "from sklearn.experimental import enable_iterative_imputer\n",
    "from sklearn.impute import IterativeImputer\n",
    "num_imputer = IterativeImputer()\n",
    "num_imputer.fit(X_train[num_cols])\n",
    "X_train[num_cols] = num_imputer.transform(X_train[num_cols])\n",
    "X_test[num_cols] = num_imputer.transform(X_test[num_cols])"
   ]
  },
  {
   "cell_type": "code",
   "execution_count": 14,
   "metadata": {},
   "outputs": [],
   "source": [
    "def scale(X, num_cols):\n",
    "    from sklearn.preprocessing import StandardScaler\n",
    "    scaler = StandardScaler()\n",
    "    X_scaled = scaler.fit_transform(X[num_cols])\n",
    "    X_scaled = pd.DataFrame(data=X_scaled, columns=num_cols, index=X.index)\n",
    "    return X_scaled"
   ]
  },
  {
   "cell_type": "code",
   "execution_count": 15,
   "metadata": {},
   "outputs": [],
   "source": [
    "# Scaling data\n",
    "X_scaled = scale(X_train, num_cols)\n",
    "X_test_scaled = scale(X_test, num_cols)"
   ]
  },
  {
   "cell_type": "code",
   "execution_count": 16,
   "metadata": {},
   "outputs": [],
   "source": [
    "# Update cat_cols\n",
    "cat_cols = set(X_train.columns) - set(num_cols)"
   ]
  },
  {
   "cell_type": "code",
   "execution_count": 17,
   "metadata": {},
   "outputs": [],
   "source": [
    "X_train = pd.concat([X_scaled, X_train[cat_cols]], axis=1)"
   ]
  },
  {
   "cell_type": "code",
   "execution_count": 18,
   "metadata": {},
   "outputs": [],
   "source": [
    "# Upsample y_train\n",
    "from imblearn.combine import SMOTEENN\n",
    "sampler = SMOTEENN()\n",
    "X_train, y_train = sampler.fit_resample(X_train, y_train)"
   ]
  },
  {
   "cell_type": "code",
   "execution_count": 19,
   "metadata": {},
   "outputs": [],
   "source": [
    "from sklearn.model_selection import train_test_split\n",
    "X_train, X_val, y_train, y_val = train_test_split(X_train, y_train, test_size=0.2, stratify=y_train)"
   ]
  },
  {
   "cell_type": "code",
   "execution_count": 20,
   "metadata": {},
   "outputs": [],
   "source": [
    "import tensorflow as tf\n",
    "from tensorflow import keras\n",
    "from tensorflow.keras.models import Sequential\n",
    "from tensorflow.keras.callbacks import EarlyStopping\n",
    "from tensorflow.keras.layers import Activation, Dense, Conv2D, Flatten, MaxPool2D, BatchNormalization, Dropout\n",
    "from tensorflow.keras.optimizers import Adam\n",
    "\n",
    "# Create the keras tuner model.\n",
    "def build_model(hp):\n",
    "    hp_drop_out = hp.Float('dropout', 0, 0.5, step=0.1)\n",
    "    hp_learning_rate = hp.Choice('learning_rate', values=[1e-2, 1e-3, 1e-4])\n",
    "    model = Sequential()\n",
    "    for i in range(hp.Int('num_layers', 2, 20)):\n",
    "        model.add(Dense(units=hp.Int('units_' + str(i), min_value=32, max_value=512, step=32), activation='relu'))\n",
    "        model.add(BatchNormalization())\n",
    "        model.add(Dropout(hp_drop_out))\n",
    "    model.add(Flatten())\n",
    "    model.add(Dense(1, activation='sigmoid'))\n",
    "    opt = Adam(learning_rate=hp.Choice('learning_rate', values=[1e-2, 1e-3, 1e-4]))\n",
    "    model.compile(optimizer=Adam(learning_rate=hp_learning_rate),\n",
    "                loss='binary_crossentropy',\n",
    "                metrics=['accuracy'])\n",
    "    return model"
   ]
  },
  {
   "cell_type": "code",
   "execution_count": 21,
   "metadata": {
    "scrolled": true
   },
   "outputs": [],
   "source": [
    "import kerastuner as kt\n",
    "\n",
    "tuner = kt.Hyperband(build_model,\n",
    "                     objective='val_accuracy',\n",
    "                     max_epochs=16,\n",
    "                     overwrite=False)"
   ]
  },
  {
   "cell_type": "code",
   "execution_count": 22,
   "metadata": {},
   "outputs": [],
   "source": [
    "# checkpoint = ModelCheckpoint('best_model.h5', monitor='val_accuracy',verbose=0, save_best_only=True)\n",
    "es = EarlyStopping(monitor='val_accuracy', verbose=0, patience=10, min_delta=1e-3)\n",
    "callbacks_list = [es]"
   ]
  },
  {
   "cell_type": "code",
   "execution_count": 23,
   "metadata": {
    "scrolled": true
   },
   "outputs": [
    {
     "name": "stdout",
     "output_type": "stream",
     "text": [
      "Trial 254 Complete [00h 00m 13s]\n",
      "val_accuracy: 0.9402984976768494\n",
      "\n",
      "Best val_accuracy So Far: 0.9925373196601868\n",
      "Total elapsed time: 00h 36m 56s\n",
      "INFO:tensorflow:Oracle triggered exit\n"
     ]
    }
   ],
   "source": [
    "tuner.search(X_train, y_train, epochs=64, batch_size=32, validation_data=(X_val, y_val), callbacks=callbacks_list)"
   ]
  },
  {
   "cell_type": "code",
   "execution_count": 24,
   "metadata": {},
   "outputs": [],
   "source": [
    "# Get the optimal hyperparameters\n",
    "best_hps = tuner.get_best_hyperparameters(num_trials=1)[0]"
   ]
  },
  {
   "cell_type": "code",
   "execution_count": 26,
   "metadata": {
    "scrolled": true
   },
   "outputs": [
    {
     "name": "stdout",
     "output_type": "stream",
     "text": [
      "Epoch 1/64\n",
      "14/14 [==============================] - 3s 30ms/step - loss: 0.4875 - accuracy: 0.7792 - val_loss: 0.6598 - val_accuracy: 0.6542\n",
      "Epoch 2/64\n",
      "14/14 [==============================] - 0s 9ms/step - loss: 0.1240 - accuracy: 0.9554 - val_loss: 0.6300 - val_accuracy: 0.7944\n",
      "Epoch 3/64\n",
      "14/14 [==============================] - 0s 9ms/step - loss: 0.1160 - accuracy: 0.9712 - val_loss: 0.6181 - val_accuracy: 0.6636\n",
      "Epoch 4/64\n",
      "14/14 [==============================] - 0s 9ms/step - loss: 0.0993 - accuracy: 0.9678 - val_loss: 0.6055 - val_accuracy: 0.6729\n",
      "Epoch 5/64\n",
      "14/14 [==============================] - 0s 9ms/step - loss: 0.1185 - accuracy: 0.9420 - val_loss: 0.5489 - val_accuracy: 0.8411\n",
      "Epoch 6/64\n",
      "14/14 [==============================] - 0s 10ms/step - loss: 0.0895 - accuracy: 0.9672 - val_loss: 0.5241 - val_accuracy: 0.8037\n",
      "Epoch 7/64\n",
      "14/14 [==============================] - 0s 9ms/step - loss: 0.0639 - accuracy: 0.9821 - val_loss: 0.4649 - val_accuracy: 0.8972\n",
      "Epoch 8/64\n",
      "14/14 [==============================] - 0s 10ms/step - loss: 0.0687 - accuracy: 0.9763 - val_loss: 0.4204 - val_accuracy: 0.9065\n",
      "Epoch 9/64\n",
      "14/14 [==============================] - 0s 10ms/step - loss: 0.0731 - accuracy: 0.9763 - val_loss: 0.4038 - val_accuracy: 0.9065\n",
      "Epoch 10/64\n",
      "14/14 [==============================] - 0s 8ms/step - loss: 0.0613 - accuracy: 0.9841 - val_loss: 0.4191 - val_accuracy: 0.8598\n",
      "Epoch 11/64\n",
      "14/14 [==============================] - 0s 9ms/step - loss: 0.0931 - accuracy: 0.9634 - val_loss: 0.6850 - val_accuracy: 0.5701\n",
      "Epoch 12/64\n",
      "14/14 [==============================] - 0s 9ms/step - loss: 0.0539 - accuracy: 0.9822 - val_loss: 0.9316 - val_accuracy: 0.4393\n",
      "Epoch 13/64\n",
      "14/14 [==============================] - 0s 9ms/step - loss: 0.0390 - accuracy: 0.9856 - val_loss: 0.7878 - val_accuracy: 0.4860\n",
      "Epoch 14/64\n",
      "14/14 [==============================] - 0s 9ms/step - loss: 0.0559 - accuracy: 0.9841 - val_loss: 0.5472 - val_accuracy: 0.6542\n",
      "Epoch 15/64\n",
      "14/14 [==============================] - 0s 8ms/step - loss: 0.0471 - accuracy: 0.9816 - val_loss: 0.5063 - val_accuracy: 0.7009\n",
      "Epoch 16/64\n",
      "14/14 [==============================] - 0s 8ms/step - loss: 0.0747 - accuracy: 0.9724 - val_loss: 0.5801 - val_accuracy: 0.6355\n",
      "Epoch 17/64\n",
      "14/14 [==============================] - 0s 9ms/step - loss: 0.0789 - accuracy: 0.9765 - val_loss: 0.4845 - val_accuracy: 0.7103\n",
      "Epoch 18/64\n",
      "14/14 [==============================] - 0s 9ms/step - loss: 0.0357 - accuracy: 0.9871 - val_loss: 0.4300 - val_accuracy: 0.7664\n",
      "Epoch 19/64\n",
      "14/14 [==============================] - 0s 9ms/step - loss: 0.0657 - accuracy: 0.9803 - val_loss: 0.3047 - val_accuracy: 0.8879\n",
      "Epoch 20/64\n",
      "14/14 [==============================] - 0s 9ms/step - loss: 0.0538 - accuracy: 0.9825 - val_loss: 0.3993 - val_accuracy: 0.8411\n",
      "Epoch 21/64\n",
      "14/14 [==============================] - 0s 8ms/step - loss: 0.0653 - accuracy: 0.9794 - val_loss: 0.2142 - val_accuracy: 0.9252\n",
      "Epoch 22/64\n",
      "14/14 [==============================] - 0s 9ms/step - loss: 0.0557 - accuracy: 0.9808 - val_loss: 0.1895 - val_accuracy: 0.9439\n",
      "Epoch 23/64\n",
      "14/14 [==============================] - 0s 9ms/step - loss: 0.0448 - accuracy: 0.9884 - val_loss: 0.1251 - val_accuracy: 0.9439\n",
      "Epoch 24/64\n",
      "14/14 [==============================] - 0s 8ms/step - loss: 0.0621 - accuracy: 0.9784 - val_loss: 0.1722 - val_accuracy: 0.9439\n",
      "Epoch 25/64\n",
      "14/14 [==============================] - 0s 9ms/step - loss: 0.0874 - accuracy: 0.9739 - val_loss: 0.1008 - val_accuracy: 0.9720\n",
      "Epoch 26/64\n",
      "14/14 [==============================] - 0s 9ms/step - loss: 0.0428 - accuracy: 0.9874 - val_loss: 0.0849 - val_accuracy: 0.9907\n",
      "Epoch 27/64\n",
      "14/14 [==============================] - 0s 8ms/step - loss: 0.0639 - accuracy: 0.9792 - val_loss: 0.1438 - val_accuracy: 0.9252\n",
      "Epoch 28/64\n",
      "14/14 [==============================] - 0s 8ms/step - loss: 0.0531 - accuracy: 0.9882 - val_loss: 0.1529 - val_accuracy: 0.9439\n",
      "Epoch 29/64\n",
      "14/14 [==============================] - 0s 8ms/step - loss: 0.0450 - accuracy: 0.9894 - val_loss: 0.1528 - val_accuracy: 0.9252\n",
      "Epoch 30/64\n",
      "14/14 [==============================] - 0s 9ms/step - loss: 0.0413 - accuracy: 0.9850 - val_loss: 0.1339 - val_accuracy: 0.9346\n",
      "Epoch 31/64\n",
      "14/14 [==============================] - 0s 9ms/step - loss: 0.0601 - accuracy: 0.9802 - val_loss: 0.1079 - val_accuracy: 0.9533\n",
      "Epoch 32/64\n",
      "14/14 [==============================] - 0s 9ms/step - loss: 0.1073 - accuracy: 0.9628 - val_loss: 0.1399 - val_accuracy: 0.9720\n",
      "Epoch 33/64\n",
      "14/14 [==============================] - 0s 9ms/step - loss: 0.1256 - accuracy: 0.9658 - val_loss: 0.1450 - val_accuracy: 0.9533\n",
      "Epoch 34/64\n",
      "14/14 [==============================] - 0s 9ms/step - loss: 0.0828 - accuracy: 0.9715 - val_loss: 0.2085 - val_accuracy: 0.9533\n",
      "Epoch 35/64\n",
      "14/14 [==============================] - 0s 9ms/step - loss: 0.0795 - accuracy: 0.9779 - val_loss: 0.1042 - val_accuracy: 0.9626\n",
      "Epoch 36/64\n",
      "14/14 [==============================] - 0s 9ms/step - loss: 0.0632 - accuracy: 0.9743 - val_loss: 0.1021 - val_accuracy: 0.9626\n",
      "Epoch 37/64\n",
      "14/14 [==============================] - 0s 9ms/step - loss: 0.0684 - accuracy: 0.9752 - val_loss: 0.1007 - val_accuracy: 0.9533\n",
      "Epoch 38/64\n",
      "14/14 [==============================] - 0s 9ms/step - loss: 0.0589 - accuracy: 0.9769 - val_loss: 0.1052 - val_accuracy: 0.9533\n",
      "Epoch 39/64\n",
      "14/14 [==============================] - 0s 9ms/step - loss: 0.0828 - accuracy: 0.9734 - val_loss: 0.0774 - val_accuracy: 0.9626\n",
      "Epoch 40/64\n",
      "14/14 [==============================] - 0s 9ms/step - loss: 0.0520 - accuracy: 0.9846 - val_loss: 0.0689 - val_accuracy: 0.9720\n",
      "Epoch 41/64\n",
      "14/14 [==============================] - 0s 9ms/step - loss: 0.0587 - accuracy: 0.9802 - val_loss: 0.0498 - val_accuracy: 0.9907\n",
      "Epoch 42/64\n",
      "14/14 [==============================] - 0s 9ms/step - loss: 0.0622 - accuracy: 0.9778 - val_loss: 0.0672 - val_accuracy: 0.9720\n",
      "Epoch 43/64\n",
      "14/14 [==============================] - 0s 8ms/step - loss: 0.0383 - accuracy: 0.9887 - val_loss: 0.0644 - val_accuracy: 0.9626\n",
      "Epoch 44/64\n",
      "14/14 [==============================] - 0s 9ms/step - loss: 0.0477 - accuracy: 0.9828 - val_loss: 0.0517 - val_accuracy: 0.9813\n",
      "Epoch 45/64\n",
      "14/14 [==============================] - 0s 9ms/step - loss: 0.0492 - accuracy: 0.9887 - val_loss: 0.0841 - val_accuracy: 0.9720\n",
      "Epoch 46/64\n",
      "14/14 [==============================] - 0s 8ms/step - loss: 0.0420 - accuracy: 0.9914 - val_loss: 0.1293 - val_accuracy: 0.9626\n",
      "Epoch 47/64\n",
      "14/14 [==============================] - 0s 8ms/step - loss: 0.0525 - accuracy: 0.9848 - val_loss: 0.0613 - val_accuracy: 0.9813\n",
      "Epoch 48/64\n",
      "14/14 [==============================] - 0s 8ms/step - loss: 0.0275 - accuracy: 0.9942 - val_loss: 0.0527 - val_accuracy: 0.9907\n",
      "Epoch 49/64\n",
      "14/14 [==============================] - 0s 8ms/step - loss: 0.0456 - accuracy: 0.9829 - val_loss: 0.0474 - val_accuracy: 0.9813\n",
      "Epoch 50/64\n",
      "14/14 [==============================] - 0s 8ms/step - loss: 0.0374 - accuracy: 0.9883 - val_loss: 0.0782 - val_accuracy: 0.9720\n",
      "Epoch 51/64\n",
      "14/14 [==============================] - 0s 9ms/step - loss: 0.0474 - accuracy: 0.9826 - val_loss: 0.0674 - val_accuracy: 0.9813\n",
      "Epoch 52/64\n",
      "14/14 [==============================] - 0s 8ms/step - loss: 0.0651 - accuracy: 0.9803 - val_loss: 0.0878 - val_accuracy: 0.9720\n",
      "Epoch 53/64\n",
      "14/14 [==============================] - 0s 8ms/step - loss: 0.0700 - accuracy: 0.9736 - val_loss: 0.0511 - val_accuracy: 0.9720\n",
      "Epoch 54/64\n",
      "14/14 [==============================] - 0s 8ms/step - loss: 0.0455 - accuracy: 0.9854 - val_loss: 0.0439 - val_accuracy: 0.9907\n",
      "Epoch 55/64\n",
      "14/14 [==============================] - 0s 9ms/step - loss: 0.0634 - accuracy: 0.9868 - val_loss: 0.0479 - val_accuracy: 0.9813\n",
      "Epoch 56/64\n",
      "14/14 [==============================] - 0s 8ms/step - loss: 0.0371 - accuracy: 0.9929 - val_loss: 0.0447 - val_accuracy: 0.9813\n",
      "Epoch 57/64\n",
      "14/14 [==============================] - 0s 9ms/step - loss: 0.0345 - accuracy: 0.9888 - val_loss: 0.0517 - val_accuracy: 0.9813\n",
      "Epoch 58/64\n",
      "14/14 [==============================] - 0s 9ms/step - loss: 0.0435 - accuracy: 0.9836 - val_loss: 0.0453 - val_accuracy: 0.9813\n",
      "Epoch 59/64\n",
      "14/14 [==============================] - 0s 8ms/step - loss: 0.0426 - accuracy: 0.9891 - val_loss: 0.1002 - val_accuracy: 0.9533\n",
      "Epoch 60/64\n",
      "14/14 [==============================] - 0s 9ms/step - loss: 0.0589 - accuracy: 0.9835 - val_loss: 0.0772 - val_accuracy: 0.9813\n",
      "Epoch 61/64\n",
      "14/14 [==============================] - 0s 9ms/step - loss: 0.0474 - accuracy: 0.9848 - val_loss: 0.0512 - val_accuracy: 0.9813\n",
      "Epoch 62/64\n",
      "14/14 [==============================] - 0s 9ms/step - loss: 0.0322 - accuracy: 0.9877 - val_loss: 0.0720 - val_accuracy: 0.9720\n",
      "Epoch 63/64\n",
      "14/14 [==============================] - 0s 8ms/step - loss: 0.0475 - accuracy: 0.9811 - val_loss: 0.0699 - val_accuracy: 0.9720\n",
      "Epoch 64/64\n",
      "14/14 [==============================] - 0s 9ms/step - loss: 0.0378 - accuracy: 0.9883 - val_loss: 0.0671 - val_accuracy: 0.9813\n"
     ]
    }
   ],
   "source": [
    "# Build the model with the optimal hyperparameters and train it on the data for 64 epochs\n",
    "model = tuner.hypermodel.build(best_hps)\n",
    "history = model.fit(X_train, y_train, epochs=64, batch_size=32, validation_split=0.2)\n",
    "\n",
    "val_acc_per_epoch = history.history['val_accuracy']\n",
    "best_epoch = val_acc_per_epoch.index(max(val_acc_per_epoch)) + 1"
   ]
  },
  {
   "cell_type": "code",
   "execution_count": 27,
   "metadata": {
    "scrolled": true
   },
   "outputs": [
    {
     "name": "stdout",
     "output_type": "stream",
     "text": [
      "Epoch 1/26\n",
      "17/17 [==============================] - 2s 5ms/step - loss: 0.4523 - accuracy: 0.7984\n",
      "Epoch 2/26\n",
      "17/17 [==============================] - 0s 5ms/step - loss: 0.1531 - accuracy: 0.9583\n",
      "Epoch 3/26\n",
      "17/17 [==============================] - 0s 6ms/step - loss: 0.1601 - accuracy: 0.9596\n",
      "Epoch 4/26\n",
      "17/17 [==============================] - 0s 6ms/step - loss: 0.0918 - accuracy: 0.9708\n",
      "Epoch 5/26\n",
      "17/17 [==============================] - 0s 5ms/step - loss: 0.0822 - accuracy: 0.9746\n",
      "Epoch 6/26\n",
      "17/17 [==============================] - 0s 5ms/step - loss: 0.0934 - accuracy: 0.9715\n",
      "Epoch 7/26\n",
      "17/17 [==============================] - 0s 6ms/step - loss: 0.0921 - accuracy: 0.9710\n",
      "Epoch 8/26\n",
      "17/17 [==============================] - 0s 6ms/step - loss: 0.0876 - accuracy: 0.9581\n",
      "Epoch 9/26\n",
      "17/17 [==============================] - 0s 5ms/step - loss: 0.0604 - accuracy: 0.9828\n",
      "Epoch 10/26\n",
      "17/17 [==============================] - 0s 8ms/step - loss: 0.0798 - accuracy: 0.9714\n",
      "Epoch 11/26\n",
      "17/17 [==============================] - 0s 6ms/step - loss: 0.0569 - accuracy: 0.9849\n",
      "Epoch 12/26\n",
      "17/17 [==============================] - 0s 5ms/step - loss: 0.0614 - accuracy: 0.9817\n",
      "Epoch 13/26\n",
      "17/17 [==============================] - 0s 5ms/step - loss: 0.1061 - accuracy: 0.9590\n",
      "Epoch 14/26\n",
      "17/17 [==============================] - 0s 6ms/step - loss: 0.0926 - accuracy: 0.9740\n",
      "Epoch 15/26\n",
      "17/17 [==============================] - 0s 5ms/step - loss: 0.0545 - accuracy: 0.9874\n",
      "Epoch 16/26\n",
      "17/17 [==============================] - 0s 5ms/step - loss: 0.0524 - accuracy: 0.9834\n",
      "Epoch 17/26\n",
      "17/17 [==============================] - 0s 6ms/step - loss: 0.0688 - accuracy: 0.9746\n",
      "Epoch 18/26\n",
      "17/17 [==============================] - 0s 7ms/step - loss: 0.0551 - accuracy: 0.9792\n",
      "Epoch 19/26\n",
      "17/17 [==============================] - 0s 6ms/step - loss: 0.0562 - accuracy: 0.9841\n",
      "Epoch 20/26\n",
      "17/17 [==============================] - 0s 5ms/step - loss: 0.0810 - accuracy: 0.9801\n",
      "Epoch 21/26\n",
      "17/17 [==============================] - 0s 6ms/step - loss: 0.0588 - accuracy: 0.9870\n",
      "Epoch 22/26\n",
      "17/17 [==============================] - 0s 5ms/step - loss: 0.0603 - accuracy: 0.9819\n",
      "Epoch 23/26\n",
      "17/17 [==============================] - 0s 5ms/step - loss: 0.0642 - accuracy: 0.9780\n",
      "Epoch 24/26\n",
      "17/17 [==============================] - 0s 5ms/step - loss: 0.0523 - accuracy: 0.9821\n",
      "Epoch 25/26\n",
      "17/17 [==============================] - 0s 5ms/step - loss: 0.0548 - accuracy: 0.9879\n",
      "Epoch 26/26\n",
      "17/17 [==============================] - 0s 6ms/step - loss: 0.0493 - accuracy: 0.9855\n"
     ]
    }
   ],
   "source": [
    "from keras.models import save_model\n",
    "hypermodel = tuner.hypermodel.build(best_hps)\n",
    "\n",
    "# Retrain the model\n",
    "hypermodel.fit(X_train, y_train, epochs=best_epoch)\n",
    "hypermodel.save('best_model.h5')"
   ]
  },
  {
   "cell_type": "code",
   "execution_count": 28,
   "metadata": {},
   "outputs": [
    {
     "name": "stdout",
     "output_type": "stream",
     "text": [
      "17/17 [==============================] - 0s 2ms/step - loss: 0.0405 - accuracy: 0.9850\n",
      "[test loss, test accuracy]: [0.040476955473423004, 0.9850467443466187]\n"
     ]
    }
   ],
   "source": [
    "eval_result = hypermodel.evaluate(X_train, y_train)\n",
    "print(\"[test loss, test accuracy]:\", eval_result)"
   ]
  },
  {
   "cell_type": "code",
   "execution_count": 29,
   "metadata": {},
   "outputs": [],
   "source": [
    "# Load the model and predict\n",
    "from keras.models import load_model\n",
    "hypermodel = load_model('best_model.h5')\n",
    "y_pred = hypermodel.predict(X_test)\n",
    "y_pred = y_pred.astype(int)"
   ]
  },
  {
   "cell_type": "code",
   "execution_count": 30,
   "metadata": {},
   "outputs": [],
   "source": [
    "y_pred = pd.DataFrame(y_pred, columns=['Survived'], index=X_test.index)\n",
    "# saving the dataframe \n",
    "y_pred.to_csv('Predictions.csv') "
   ]
  },
  {
   "cell_type": "code",
   "execution_count": 31,
   "metadata": {},
   "outputs": [],
   "source": [
    "import winsound\n",
    "duration = 500  # milliseconds\n",
    "freq = 3000  # Hz\n",
    "winsound.Beep(freq, duration)"
   ]
  }
 ],
 "metadata": {
  "kernelspec": {
   "display_name": "Python 3",
   "language": "python",
   "name": "python3"
  },
  "language_info": {
   "codemirror_mode": {
    "name": "ipython",
    "version": 3
   },
   "file_extension": ".py",
   "mimetype": "text/x-python",
   "name": "python",
   "nbconvert_exporter": "python",
   "pygments_lexer": "ipython3",
   "version": "3.7.9"
  }
 },
 "nbformat": 4,
 "nbformat_minor": 4
}
