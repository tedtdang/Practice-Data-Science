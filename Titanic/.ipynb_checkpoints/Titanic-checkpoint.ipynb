{
 "cells": [
  {
   "cell_type": "markdown",
   "metadata": {},
   "source": [
    "### Data sets were acquired from https://www.kaggle.com/c/titanic"
   ]
  },
  {
   "cell_type": "code",
   "execution_count": 1,
   "metadata": {},
   "outputs": [],
   "source": [
    "# Import libraries and the data set\n",
    "import pandas as pd\n",
    "import numpy as np\n",
    "import sidetable\n",
    "import seaborn as sb\n",
    "import matplotlib.pyplot as plt\n",
    "%matplotlib inline\n",
    "\n",
    "df = pd.read_csv('train.csv', index_col=['PassengerId'])\n",
    "X_test = pd.read_csv('test.csv', index_col=['PassengerId'])"
   ]
  },
  {
   "cell_type": "code",
   "execution_count": 2,
   "metadata": {},
   "outputs": [
    {
     "data": {
      "text/html": [
       "<div>\n",
       "<style scoped>\n",
       "    .dataframe tbody tr th:only-of-type {\n",
       "        vertical-align: middle;\n",
       "    }\n",
       "\n",
       "    .dataframe tbody tr th {\n",
       "        vertical-align: top;\n",
       "    }\n",
       "\n",
       "    .dataframe thead th {\n",
       "        text-align: right;\n",
       "    }\n",
       "</style>\n",
       "<table border=\"1\" class=\"dataframe\">\n",
       "  <thead>\n",
       "    <tr style=\"text-align: right;\">\n",
       "      <th></th>\n",
       "      <th>Survived</th>\n",
       "      <th>Pclass</th>\n",
       "      <th>Name</th>\n",
       "      <th>Sex</th>\n",
       "      <th>Age</th>\n",
       "      <th>SibSp</th>\n",
       "      <th>Parch</th>\n",
       "      <th>Ticket</th>\n",
       "      <th>Fare</th>\n",
       "      <th>Cabin</th>\n",
       "      <th>Embarked</th>\n",
       "    </tr>\n",
       "    <tr>\n",
       "      <th>PassengerId</th>\n",
       "      <th></th>\n",
       "      <th></th>\n",
       "      <th></th>\n",
       "      <th></th>\n",
       "      <th></th>\n",
       "      <th></th>\n",
       "      <th></th>\n",
       "      <th></th>\n",
       "      <th></th>\n",
       "      <th></th>\n",
       "      <th></th>\n",
       "    </tr>\n",
       "  </thead>\n",
       "  <tbody>\n",
       "    <tr>\n",
       "      <th>1</th>\n",
       "      <td>0</td>\n",
       "      <td>3</td>\n",
       "      <td>Braund, Mr. Owen Harris</td>\n",
       "      <td>male</td>\n",
       "      <td>22.0</td>\n",
       "      <td>1</td>\n",
       "      <td>0</td>\n",
       "      <td>A/5 21171</td>\n",
       "      <td>7.2500</td>\n",
       "      <td>NaN</td>\n",
       "      <td>S</td>\n",
       "    </tr>\n",
       "    <tr>\n",
       "      <th>2</th>\n",
       "      <td>1</td>\n",
       "      <td>1</td>\n",
       "      <td>Cumings, Mrs. John Bradley (Florence Briggs Th...</td>\n",
       "      <td>female</td>\n",
       "      <td>38.0</td>\n",
       "      <td>1</td>\n",
       "      <td>0</td>\n",
       "      <td>PC 17599</td>\n",
       "      <td>71.2833</td>\n",
       "      <td>C85</td>\n",
       "      <td>C</td>\n",
       "    </tr>\n",
       "    <tr>\n",
       "      <th>3</th>\n",
       "      <td>1</td>\n",
       "      <td>3</td>\n",
       "      <td>Heikkinen, Miss. Laina</td>\n",
       "      <td>female</td>\n",
       "      <td>26.0</td>\n",
       "      <td>0</td>\n",
       "      <td>0</td>\n",
       "      <td>STON/O2. 3101282</td>\n",
       "      <td>7.9250</td>\n",
       "      <td>NaN</td>\n",
       "      <td>S</td>\n",
       "    </tr>\n",
       "    <tr>\n",
       "      <th>4</th>\n",
       "      <td>1</td>\n",
       "      <td>1</td>\n",
       "      <td>Futrelle, Mrs. Jacques Heath (Lily May Peel)</td>\n",
       "      <td>female</td>\n",
       "      <td>35.0</td>\n",
       "      <td>1</td>\n",
       "      <td>0</td>\n",
       "      <td>113803</td>\n",
       "      <td>53.1000</td>\n",
       "      <td>C123</td>\n",
       "      <td>S</td>\n",
       "    </tr>\n",
       "    <tr>\n",
       "      <th>5</th>\n",
       "      <td>0</td>\n",
       "      <td>3</td>\n",
       "      <td>Allen, Mr. William Henry</td>\n",
       "      <td>male</td>\n",
       "      <td>35.0</td>\n",
       "      <td>0</td>\n",
       "      <td>0</td>\n",
       "      <td>373450</td>\n",
       "      <td>8.0500</td>\n",
       "      <td>NaN</td>\n",
       "      <td>S</td>\n",
       "    </tr>\n",
       "  </tbody>\n",
       "</table>\n",
       "</div>"
      ],
      "text/plain": [
       "             Survived  Pclass  \\\n",
       "PassengerId                     \n",
       "1                   0       3   \n",
       "2                   1       1   \n",
       "3                   1       3   \n",
       "4                   1       1   \n",
       "5                   0       3   \n",
       "\n",
       "                                                          Name     Sex   Age  \\\n",
       "PassengerId                                                                    \n",
       "1                                      Braund, Mr. Owen Harris    male  22.0   \n",
       "2            Cumings, Mrs. John Bradley (Florence Briggs Th...  female  38.0   \n",
       "3                                       Heikkinen, Miss. Laina  female  26.0   \n",
       "4                 Futrelle, Mrs. Jacques Heath (Lily May Peel)  female  35.0   \n",
       "5                                     Allen, Mr. William Henry    male  35.0   \n",
       "\n",
       "             SibSp  Parch            Ticket     Fare Cabin Embarked  \n",
       "PassengerId                                                          \n",
       "1                1      0         A/5 21171   7.2500   NaN        S  \n",
       "2                1      0          PC 17599  71.2833   C85        C  \n",
       "3                0      0  STON/O2. 3101282   7.9250   NaN        S  \n",
       "4                1      0            113803  53.1000  C123        S  \n",
       "5                0      0            373450   8.0500   NaN        S  "
      ]
     },
     "execution_count": 2,
     "metadata": {},
     "output_type": "execute_result"
    }
   ],
   "source": [
    "# Have a look at the first five rows\n",
    "df.head()"
   ]
  },
  {
   "cell_type": "markdown",
   "metadata": {},
   "source": [
    "Column __Name__ and __Ticket__ has nothing to do with predicting __Survived__, it will be dropped"
   ]
  },
  {
   "cell_type": "code",
   "execution_count": 3,
   "metadata": {},
   "outputs": [],
   "source": [
    "# Column 'Name' and 'Ticket' have nothing to do with predicting 'Survived', they will be dropped\n",
    "df.drop(columns=['Name'], inplace=True)\n",
    "X_test.drop(columns=['Name'], inplace=True)"
   ]
  },
  {
   "cell_type": "code",
   "execution_count": 4,
   "metadata": {},
   "outputs": [
    {
     "data": {
      "text/html": [
       "<style  type=\"text/css\" >\n",
       "</style><table id=\"T_63277_\" ><thead>    <tr>        <th class=\"blank level0\" ></th>        <th class=\"col_heading level0 col0\" >missing</th>        <th class=\"col_heading level0 col1\" >total</th>        <th class=\"col_heading level0 col2\" >percent</th>    </tr></thead><tbody>\n",
       "                <tr>\n",
       "                        <th id=\"T_63277_level0_row0\" class=\"row_heading level0 row0\" >Cabin</th>\n",
       "                        <td id=\"T_63277_row0_col0\" class=\"data row0 col0\" >687</td>\n",
       "                        <td id=\"T_63277_row0_col1\" class=\"data row0 col1\" >891</td>\n",
       "                        <td id=\"T_63277_row0_col2\" class=\"data row0 col2\" >77.10%</td>\n",
       "            </tr>\n",
       "            <tr>\n",
       "                        <th id=\"T_63277_level0_row1\" class=\"row_heading level0 row1\" >Age</th>\n",
       "                        <td id=\"T_63277_row1_col0\" class=\"data row1 col0\" >177</td>\n",
       "                        <td id=\"T_63277_row1_col1\" class=\"data row1 col1\" >891</td>\n",
       "                        <td id=\"T_63277_row1_col2\" class=\"data row1 col2\" >19.87%</td>\n",
       "            </tr>\n",
       "            <tr>\n",
       "                        <th id=\"T_63277_level0_row2\" class=\"row_heading level0 row2\" >Embarked</th>\n",
       "                        <td id=\"T_63277_row2_col0\" class=\"data row2 col0\" >2</td>\n",
       "                        <td id=\"T_63277_row2_col1\" class=\"data row2 col1\" >891</td>\n",
       "                        <td id=\"T_63277_row2_col2\" class=\"data row2 col2\" >0.22%</td>\n",
       "            </tr>\n",
       "            <tr>\n",
       "                        <th id=\"T_63277_level0_row3\" class=\"row_heading level0 row3\" >Survived</th>\n",
       "                        <td id=\"T_63277_row3_col0\" class=\"data row3 col0\" >0</td>\n",
       "                        <td id=\"T_63277_row3_col1\" class=\"data row3 col1\" >891</td>\n",
       "                        <td id=\"T_63277_row3_col2\" class=\"data row3 col2\" >0.00%</td>\n",
       "            </tr>\n",
       "            <tr>\n",
       "                        <th id=\"T_63277_level0_row4\" class=\"row_heading level0 row4\" >Pclass</th>\n",
       "                        <td id=\"T_63277_row4_col0\" class=\"data row4 col0\" >0</td>\n",
       "                        <td id=\"T_63277_row4_col1\" class=\"data row4 col1\" >891</td>\n",
       "                        <td id=\"T_63277_row4_col2\" class=\"data row4 col2\" >0.00%</td>\n",
       "            </tr>\n",
       "            <tr>\n",
       "                        <th id=\"T_63277_level0_row5\" class=\"row_heading level0 row5\" >Sex</th>\n",
       "                        <td id=\"T_63277_row5_col0\" class=\"data row5 col0\" >0</td>\n",
       "                        <td id=\"T_63277_row5_col1\" class=\"data row5 col1\" >891</td>\n",
       "                        <td id=\"T_63277_row5_col2\" class=\"data row5 col2\" >0.00%</td>\n",
       "            </tr>\n",
       "            <tr>\n",
       "                        <th id=\"T_63277_level0_row6\" class=\"row_heading level0 row6\" >SibSp</th>\n",
       "                        <td id=\"T_63277_row6_col0\" class=\"data row6 col0\" >0</td>\n",
       "                        <td id=\"T_63277_row6_col1\" class=\"data row6 col1\" >891</td>\n",
       "                        <td id=\"T_63277_row6_col2\" class=\"data row6 col2\" >0.00%</td>\n",
       "            </tr>\n",
       "            <tr>\n",
       "                        <th id=\"T_63277_level0_row7\" class=\"row_heading level0 row7\" >Parch</th>\n",
       "                        <td id=\"T_63277_row7_col0\" class=\"data row7 col0\" >0</td>\n",
       "                        <td id=\"T_63277_row7_col1\" class=\"data row7 col1\" >891</td>\n",
       "                        <td id=\"T_63277_row7_col2\" class=\"data row7 col2\" >0.00%</td>\n",
       "            </tr>\n",
       "            <tr>\n",
       "                        <th id=\"T_63277_level0_row8\" class=\"row_heading level0 row8\" >Ticket</th>\n",
       "                        <td id=\"T_63277_row8_col0\" class=\"data row8 col0\" >0</td>\n",
       "                        <td id=\"T_63277_row8_col1\" class=\"data row8 col1\" >891</td>\n",
       "                        <td id=\"T_63277_row8_col2\" class=\"data row8 col2\" >0.00%</td>\n",
       "            </tr>\n",
       "            <tr>\n",
       "                        <th id=\"T_63277_level0_row9\" class=\"row_heading level0 row9\" >Fare</th>\n",
       "                        <td id=\"T_63277_row9_col0\" class=\"data row9 col0\" >0</td>\n",
       "                        <td id=\"T_63277_row9_col1\" class=\"data row9 col1\" >891</td>\n",
       "                        <td id=\"T_63277_row9_col2\" class=\"data row9 col2\" >0.00%</td>\n",
       "            </tr>\n",
       "    </tbody></table>"
      ],
      "text/plain": [
       "<pandas.io.formats.style.Styler at 0x1224e005f48>"
      ]
     },
     "execution_count": 4,
     "metadata": {},
     "output_type": "execute_result"
    }
   ],
   "source": [
    "# See the missing data in columns\n",
    "df.stb.missing(style=True)"
   ]
  },
  {
   "cell_type": "markdown",
   "metadata": {},
   "source": [
    "As column __Cabin__ has 77% missing values, the column will be dropped.\n",
    "<br>Column __Age__ can be imputed.\n",
    "<br>As column __Embarked__ has 2 missing rows, the rows will be dropped."
   ]
  },
  {
   "cell_type": "code",
   "execution_count": 5,
   "metadata": {},
   "outputs": [],
   "source": [
    "# As Pclass includes fare, I will drop 'Fare'\n",
    "df.drop(columns=['Ticket', 'Cabin'], inplace=True, axis=1)"
   ]
  },
  {
   "cell_type": "code",
   "execution_count": 6,
   "metadata": {},
   "outputs": [
    {
     "data": {
      "text/html": [
       "<style  type=\"text/css\" >\n",
       "</style><table id=\"T_0fd34_\" ><thead>    <tr>        <th class=\"blank level0\" ></th>        <th class=\"col_heading level0 col0\" >missing</th>        <th class=\"col_heading level0 col1\" >total</th>        <th class=\"col_heading level0 col2\" >percent</th>    </tr></thead><tbody>\n",
       "                <tr>\n",
       "                        <th id=\"T_0fd34_level0_row0\" class=\"row_heading level0 row0\" >Cabin</th>\n",
       "                        <td id=\"T_0fd34_row0_col0\" class=\"data row0 col0\" >327</td>\n",
       "                        <td id=\"T_0fd34_row0_col1\" class=\"data row0 col1\" >418</td>\n",
       "                        <td id=\"T_0fd34_row0_col2\" class=\"data row0 col2\" >78.23%</td>\n",
       "            </tr>\n",
       "            <tr>\n",
       "                        <th id=\"T_0fd34_level0_row1\" class=\"row_heading level0 row1\" >Age</th>\n",
       "                        <td id=\"T_0fd34_row1_col0\" class=\"data row1 col0\" >86</td>\n",
       "                        <td id=\"T_0fd34_row1_col1\" class=\"data row1 col1\" >418</td>\n",
       "                        <td id=\"T_0fd34_row1_col2\" class=\"data row1 col2\" >20.57%</td>\n",
       "            </tr>\n",
       "            <tr>\n",
       "                        <th id=\"T_0fd34_level0_row2\" class=\"row_heading level0 row2\" >Fare</th>\n",
       "                        <td id=\"T_0fd34_row2_col0\" class=\"data row2 col0\" >1</td>\n",
       "                        <td id=\"T_0fd34_row2_col1\" class=\"data row2 col1\" >418</td>\n",
       "                        <td id=\"T_0fd34_row2_col2\" class=\"data row2 col2\" >0.24%</td>\n",
       "            </tr>\n",
       "            <tr>\n",
       "                        <th id=\"T_0fd34_level0_row3\" class=\"row_heading level0 row3\" >Pclass</th>\n",
       "                        <td id=\"T_0fd34_row3_col0\" class=\"data row3 col0\" >0</td>\n",
       "                        <td id=\"T_0fd34_row3_col1\" class=\"data row3 col1\" >418</td>\n",
       "                        <td id=\"T_0fd34_row3_col2\" class=\"data row3 col2\" >0.00%</td>\n",
       "            </tr>\n",
       "            <tr>\n",
       "                        <th id=\"T_0fd34_level0_row4\" class=\"row_heading level0 row4\" >Sex</th>\n",
       "                        <td id=\"T_0fd34_row4_col0\" class=\"data row4 col0\" >0</td>\n",
       "                        <td id=\"T_0fd34_row4_col1\" class=\"data row4 col1\" >418</td>\n",
       "                        <td id=\"T_0fd34_row4_col2\" class=\"data row4 col2\" >0.00%</td>\n",
       "            </tr>\n",
       "            <tr>\n",
       "                        <th id=\"T_0fd34_level0_row5\" class=\"row_heading level0 row5\" >SibSp</th>\n",
       "                        <td id=\"T_0fd34_row5_col0\" class=\"data row5 col0\" >0</td>\n",
       "                        <td id=\"T_0fd34_row5_col1\" class=\"data row5 col1\" >418</td>\n",
       "                        <td id=\"T_0fd34_row5_col2\" class=\"data row5 col2\" >0.00%</td>\n",
       "            </tr>\n",
       "            <tr>\n",
       "                        <th id=\"T_0fd34_level0_row6\" class=\"row_heading level0 row6\" >Parch</th>\n",
       "                        <td id=\"T_0fd34_row6_col0\" class=\"data row6 col0\" >0</td>\n",
       "                        <td id=\"T_0fd34_row6_col1\" class=\"data row6 col1\" >418</td>\n",
       "                        <td id=\"T_0fd34_row6_col2\" class=\"data row6 col2\" >0.00%</td>\n",
       "            </tr>\n",
       "            <tr>\n",
       "                        <th id=\"T_0fd34_level0_row7\" class=\"row_heading level0 row7\" >Ticket</th>\n",
       "                        <td id=\"T_0fd34_row7_col0\" class=\"data row7 col0\" >0</td>\n",
       "                        <td id=\"T_0fd34_row7_col1\" class=\"data row7 col1\" >418</td>\n",
       "                        <td id=\"T_0fd34_row7_col2\" class=\"data row7 col2\" >0.00%</td>\n",
       "            </tr>\n",
       "            <tr>\n",
       "                        <th id=\"T_0fd34_level0_row8\" class=\"row_heading level0 row8\" >Embarked</th>\n",
       "                        <td id=\"T_0fd34_row8_col0\" class=\"data row8 col0\" >0</td>\n",
       "                        <td id=\"T_0fd34_row8_col1\" class=\"data row8 col1\" >418</td>\n",
       "                        <td id=\"T_0fd34_row8_col2\" class=\"data row8 col2\" >0.00%</td>\n",
       "            </tr>\n",
       "    </tbody></table>"
      ],
      "text/plain": [
       "<pandas.io.formats.style.Styler at 0x1224f7fe288>"
      ]
     },
     "execution_count": 6,
     "metadata": {},
     "output_type": "execute_result"
    }
   ],
   "source": [
    "X_test.stb.missing(style=True)"
   ]
  },
  {
   "cell_type": "markdown",
   "metadata": {},
   "source": [
    "As column __Cabin__ has 77% missing values, the column will be dropped.\n",
    "<br>Column __Age__ can be imputed.\n",
    "<br>As column __Fare__ has 2 missing rows, the rows will be dropped."
   ]
  },
  {
   "cell_type": "code",
   "execution_count": 7,
   "metadata": {},
   "outputs": [],
   "source": [
    "# As column Cabin is missing a lot, and column Ticket has a lot of unique values, which is hard to encode, I will drop them\n",
    "X_test.drop(columns=['Ticket', 'Cabin'], axis=1, inplace=True)"
   ]
  },
  {
   "cell_type": "code",
   "execution_count": 8,
   "metadata": {},
   "outputs": [
    {
     "data": {
      "text/html": [
       "<style  type=\"text/css\" >\n",
       "</style><table id=\"T_51b8a_\" ><thead>    <tr>        <th class=\"blank level0\" ></th>        <th class=\"col_heading level0 col0\" >missing</th>        <th class=\"col_heading level0 col1\" >total</th>        <th class=\"col_heading level0 col2\" >percent</th>    </tr></thead><tbody>\n",
       "                <tr>\n",
       "                        <th id=\"T_51b8a_level0_row0\" class=\"row_heading level0 row0\" >Age</th>\n",
       "                        <td id=\"T_51b8a_row0_col0\" class=\"data row0 col0\" >177</td>\n",
       "                        <td id=\"T_51b8a_row0_col1\" class=\"data row0 col1\" >891</td>\n",
       "                        <td id=\"T_51b8a_row0_col2\" class=\"data row0 col2\" >19.87%</td>\n",
       "            </tr>\n",
       "            <tr>\n",
       "                        <th id=\"T_51b8a_level0_row1\" class=\"row_heading level0 row1\" >Embarked</th>\n",
       "                        <td id=\"T_51b8a_row1_col0\" class=\"data row1 col0\" >2</td>\n",
       "                        <td id=\"T_51b8a_row1_col1\" class=\"data row1 col1\" >891</td>\n",
       "                        <td id=\"T_51b8a_row1_col2\" class=\"data row1 col2\" >0.22%</td>\n",
       "            </tr>\n",
       "            <tr>\n",
       "                        <th id=\"T_51b8a_level0_row2\" class=\"row_heading level0 row2\" >Survived</th>\n",
       "                        <td id=\"T_51b8a_row2_col0\" class=\"data row2 col0\" >0</td>\n",
       "                        <td id=\"T_51b8a_row2_col1\" class=\"data row2 col1\" >891</td>\n",
       "                        <td id=\"T_51b8a_row2_col2\" class=\"data row2 col2\" >0.00%</td>\n",
       "            </tr>\n",
       "            <tr>\n",
       "                        <th id=\"T_51b8a_level0_row3\" class=\"row_heading level0 row3\" >Pclass</th>\n",
       "                        <td id=\"T_51b8a_row3_col0\" class=\"data row3 col0\" >0</td>\n",
       "                        <td id=\"T_51b8a_row3_col1\" class=\"data row3 col1\" >891</td>\n",
       "                        <td id=\"T_51b8a_row3_col2\" class=\"data row3 col2\" >0.00%</td>\n",
       "            </tr>\n",
       "            <tr>\n",
       "                        <th id=\"T_51b8a_level0_row4\" class=\"row_heading level0 row4\" >Sex</th>\n",
       "                        <td id=\"T_51b8a_row4_col0\" class=\"data row4 col0\" >0</td>\n",
       "                        <td id=\"T_51b8a_row4_col1\" class=\"data row4 col1\" >891</td>\n",
       "                        <td id=\"T_51b8a_row4_col2\" class=\"data row4 col2\" >0.00%</td>\n",
       "            </tr>\n",
       "            <tr>\n",
       "                        <th id=\"T_51b8a_level0_row5\" class=\"row_heading level0 row5\" >SibSp</th>\n",
       "                        <td id=\"T_51b8a_row5_col0\" class=\"data row5 col0\" >0</td>\n",
       "                        <td id=\"T_51b8a_row5_col1\" class=\"data row5 col1\" >891</td>\n",
       "                        <td id=\"T_51b8a_row5_col2\" class=\"data row5 col2\" >0.00%</td>\n",
       "            </tr>\n",
       "            <tr>\n",
       "                        <th id=\"T_51b8a_level0_row6\" class=\"row_heading level0 row6\" >Parch</th>\n",
       "                        <td id=\"T_51b8a_row6_col0\" class=\"data row6 col0\" >0</td>\n",
       "                        <td id=\"T_51b8a_row6_col1\" class=\"data row6 col1\" >891</td>\n",
       "                        <td id=\"T_51b8a_row6_col2\" class=\"data row6 col2\" >0.00%</td>\n",
       "            </tr>\n",
       "            <tr>\n",
       "                        <th id=\"T_51b8a_level0_row7\" class=\"row_heading level0 row7\" >Fare</th>\n",
       "                        <td id=\"T_51b8a_row7_col0\" class=\"data row7 col0\" >0</td>\n",
       "                        <td id=\"T_51b8a_row7_col1\" class=\"data row7 col1\" >891</td>\n",
       "                        <td id=\"T_51b8a_row7_col2\" class=\"data row7 col2\" >0.00%</td>\n",
       "            </tr>\n",
       "    </tbody></table>"
      ],
      "text/plain": [
       "<pandas.io.formats.style.Styler at 0x1224f35bb48>"
      ]
     },
     "execution_count": 8,
     "metadata": {},
     "output_type": "execute_result"
    }
   ],
   "source": [
    "# Recheck the missing data in columns\n",
    "df.stb.missing(style=True)"
   ]
  },
  {
   "cell_type": "code",
   "execution_count": 9,
   "metadata": {},
   "outputs": [
    {
     "data": {
      "text/html": [
       "<style  type=\"text/css\" >\n",
       "</style><table id=\"T_351f0_\" ><thead>    <tr>        <th class=\"blank level0\" ></th>        <th class=\"col_heading level0 col0\" >missing</th>        <th class=\"col_heading level0 col1\" >total</th>        <th class=\"col_heading level0 col2\" >percent</th>    </tr></thead><tbody>\n",
       "                <tr>\n",
       "                        <th id=\"T_351f0_level0_row0\" class=\"row_heading level0 row0\" >Age</th>\n",
       "                        <td id=\"T_351f0_row0_col0\" class=\"data row0 col0\" >86</td>\n",
       "                        <td id=\"T_351f0_row0_col1\" class=\"data row0 col1\" >418</td>\n",
       "                        <td id=\"T_351f0_row0_col2\" class=\"data row0 col2\" >20.57%</td>\n",
       "            </tr>\n",
       "            <tr>\n",
       "                        <th id=\"T_351f0_level0_row1\" class=\"row_heading level0 row1\" >Fare</th>\n",
       "                        <td id=\"T_351f0_row1_col0\" class=\"data row1 col0\" >1</td>\n",
       "                        <td id=\"T_351f0_row1_col1\" class=\"data row1 col1\" >418</td>\n",
       "                        <td id=\"T_351f0_row1_col2\" class=\"data row1 col2\" >0.24%</td>\n",
       "            </tr>\n",
       "            <tr>\n",
       "                        <th id=\"T_351f0_level0_row2\" class=\"row_heading level0 row2\" >Pclass</th>\n",
       "                        <td id=\"T_351f0_row2_col0\" class=\"data row2 col0\" >0</td>\n",
       "                        <td id=\"T_351f0_row2_col1\" class=\"data row2 col1\" >418</td>\n",
       "                        <td id=\"T_351f0_row2_col2\" class=\"data row2 col2\" >0.00%</td>\n",
       "            </tr>\n",
       "            <tr>\n",
       "                        <th id=\"T_351f0_level0_row3\" class=\"row_heading level0 row3\" >Sex</th>\n",
       "                        <td id=\"T_351f0_row3_col0\" class=\"data row3 col0\" >0</td>\n",
       "                        <td id=\"T_351f0_row3_col1\" class=\"data row3 col1\" >418</td>\n",
       "                        <td id=\"T_351f0_row3_col2\" class=\"data row3 col2\" >0.00%</td>\n",
       "            </tr>\n",
       "            <tr>\n",
       "                        <th id=\"T_351f0_level0_row4\" class=\"row_heading level0 row4\" >SibSp</th>\n",
       "                        <td id=\"T_351f0_row4_col0\" class=\"data row4 col0\" >0</td>\n",
       "                        <td id=\"T_351f0_row4_col1\" class=\"data row4 col1\" >418</td>\n",
       "                        <td id=\"T_351f0_row4_col2\" class=\"data row4 col2\" >0.00%</td>\n",
       "            </tr>\n",
       "            <tr>\n",
       "                        <th id=\"T_351f0_level0_row5\" class=\"row_heading level0 row5\" >Parch</th>\n",
       "                        <td id=\"T_351f0_row5_col0\" class=\"data row5 col0\" >0</td>\n",
       "                        <td id=\"T_351f0_row5_col1\" class=\"data row5 col1\" >418</td>\n",
       "                        <td id=\"T_351f0_row5_col2\" class=\"data row5 col2\" >0.00%</td>\n",
       "            </tr>\n",
       "            <tr>\n",
       "                        <th id=\"T_351f0_level0_row6\" class=\"row_heading level0 row6\" >Embarked</th>\n",
       "                        <td id=\"T_351f0_row6_col0\" class=\"data row6 col0\" >0</td>\n",
       "                        <td id=\"T_351f0_row6_col1\" class=\"data row6 col1\" >418</td>\n",
       "                        <td id=\"T_351f0_row6_col2\" class=\"data row6 col2\" >0.00%</td>\n",
       "            </tr>\n",
       "    </tbody></table>"
      ],
      "text/plain": [
       "<pandas.io.formats.style.Styler at 0x1224f361488>"
      ]
     },
     "execution_count": 9,
     "metadata": {},
     "output_type": "execute_result"
    }
   ],
   "source": [
    "X_test.stb.missing(style=True)"
   ]
  },
  {
   "cell_type": "code",
   "execution_count": 10,
   "metadata": {},
   "outputs": [],
   "source": [
    "# Get X_train and y_train\n",
    "y_train = df.Survived.copy()\n",
    "X_train = df.drop(columns='Survived').copy()"
   ]
  },
  {
   "cell_type": "code",
   "execution_count": 11,
   "metadata": {},
   "outputs": [],
   "source": [
    "# Retrive num_cols and cat_cols\n",
    "num_cols = list(X_train._get_numeric_data().columns)\n",
    "cat_cols = list(set(X_train.columns) - set(num_cols))"
   ]
  },
  {
   "cell_type": "code",
   "execution_count": 12,
   "metadata": {},
   "outputs": [],
   "source": [
    "# Encode cat_cols\n",
    "X_train = pd.get_dummies(data=X_train, columns=cat_cols, drop_first=True)\n",
    "X_test = pd.get_dummies(data=X_test, columns=cat_cols, drop_first=True)"
   ]
  },
  {
   "cell_type": "markdown",
   "metadata": {},
   "source": [
    "### As no categorical columns have missing data, there is no need to impute them"
   ]
  },
  {
   "cell_type": "code",
   "execution_count": 13,
   "metadata": {},
   "outputs": [],
   "source": [
    "# Impute numeric data\n",
    "from sklearn.experimental import enable_iterative_imputer\n",
    "from sklearn.impute import IterativeImputer\n",
    "num_imputer = IterativeImputer()\n",
    "num_imputer.fit(X_train[num_cols])\n",
    "X_train[num_cols] = num_imputer.transform(X_train[num_cols])\n",
    "X_test[num_cols] = num_imputer.transform(X_test[num_cols])"
   ]
  },
  {
   "cell_type": "code",
   "execution_count": 14,
   "metadata": {},
   "outputs": [],
   "source": [
    "def scale(X, num_cols):\n",
    "    from sklearn.preprocessing import StandardScaler\n",
    "    scaler = StandardScaler()\n",
    "    X_scaled = scaler.fit_transform(X[num_cols])\n",
    "    X_scaled = pd.DataFrame(data=X_scaled, columns=num_cols, index=X.index)\n",
    "    return X_scaled"
   ]
  },
  {
   "cell_type": "code",
   "execution_count": 15,
   "metadata": {},
   "outputs": [],
   "source": [
    "# Scaling data\n",
    "X_scaled = scale(X_train, num_cols)\n",
    "X_test_scaled = scale(X_test, num_cols)"
   ]
  },
  {
   "cell_type": "code",
   "execution_count": 16,
   "metadata": {},
   "outputs": [],
   "source": [
    "# Update cat_cols\n",
    "cat_cols = set(X_train.columns) - set(num_cols)"
   ]
  },
  {
   "cell_type": "code",
   "execution_count": 17,
   "metadata": {},
   "outputs": [],
   "source": [
    "X_train = pd.concat([X_scaled, X_train[cat_cols]], axis=1)"
   ]
  },
  {
   "cell_type": "code",
   "execution_count": 18,
   "metadata": {},
   "outputs": [],
   "source": [
    "# Upsample y_train\n",
    "from imblearn.combine import SMOTEENN\n",
    "sampler = SMOTEENN()\n",
    "X_train, y_train = sampler.fit_resample(X_train, y_train)"
   ]
  },
  {
   "cell_type": "code",
   "execution_count": 19,
   "metadata": {},
   "outputs": [],
   "source": [
    "from sklearn.model_selection import train_test_split\n",
    "X_train, X_val, y_train, y_val = train_test_split(X_train, y_train, test_size=0.2, stratify=y_train)"
   ]
  },
  {
   "cell_type": "code",
   "execution_count": 20,
   "metadata": {},
   "outputs": [
    {
     "data": {
      "text/plain": [
       "(131, 8)"
      ]
     },
     "execution_count": 20,
     "metadata": {},
     "output_type": "execute_result"
    }
   ],
   "source": [
    "X_val.shape"
   ]
  },
  {
   "cell_type": "code",
   "execution_count": 21,
   "metadata": {},
   "outputs": [
    {
     "data": {
      "text/plain": [
       "(131,)"
      ]
     },
     "execution_count": 21,
     "metadata": {},
     "output_type": "execute_result"
    }
   ],
   "source": [
    "y_val.shape"
   ]
  },
  {
   "cell_type": "code",
   "execution_count": 22,
   "metadata": {},
   "outputs": [],
   "source": [
    "import tensorflow as tf\n",
    "from tensorflow import keras\n",
    "from tensorflow.keras.models import Sequential\n",
    "from tensorflow.keras.callbacks import EarlyStopping\n",
    "from tensorflow.keras.layers import Activation, Dense, Flatten, BatchNormalization, Dropout\n",
    "from tensorflow.keras.optimizers import Adam\n",
    "\n",
    "# Create the keras tuner model.\n",
    "def build_model(hp):\n",
    "    hp_drop_out = hp.Float('dropout', 0, 0.5, step=0.1)\n",
    "    hp_learning_rate = hp.Choice('learning_rate', values=[1e-2, 1e-3, 1e-4])\n",
    "    model = Sequential()\n",
    "    for i in range(hp.Int('num_layers', 2, 20)):\n",
    "        model.add(Dense(units=hp.Int('units_' + str(i), min_value=32, max_value=512, step=32), activation='relu'))\n",
    "#         model.add(BatchNormalization())\n",
    "        model.add(Dropout(hp_drop_out))\n",
    "#     model.add(Flatten())\n",
    "    model.add(Dense(1, activation='sigmoid'))\n",
    "    opt = Adam(learning_rate=hp.Choice('learning_rate', values=[1e-2, 1e-3, 1e-4]))\n",
    "    model.compile(optimizer=Adam(learning_rate=hp_learning_rate),\n",
    "                loss='binary_crossentropy',\n",
    "                metrics=['accuracy'])\n",
    "    return model"
   ]
  },
  {
   "cell_type": "code",
   "execution_count": 23,
   "metadata": {
    "scrolled": true
   },
   "outputs": [],
   "source": [
    "'''\n",
    "Credit source: \n",
    "    https://www.tensorflow.org/tutorials/keras/keras_tuner\n",
    "    https://github.com/keras-team/keras-tuner/blob/master/examples/cifar10.py\n",
    "'''\n",
    "import kerastuner as kt\n",
    "\n",
    "tuner = kt.Hyperband(build_model,\n",
    "                     objective='val_accuracy',\n",
    "                     max_epochs=16,\n",
    "                     overwrite=False)"
   ]
  },
  {
   "cell_type": "code",
   "execution_count": 24,
   "metadata": {},
   "outputs": [],
   "source": [
    "es = EarlyStopping(monitor='val_accuracy', verbose=0, patience=10, min_delta=1e-3)\n",
    "callbacks_list = [es]"
   ]
  },
  {
   "cell_type": "code",
   "execution_count": 25,
   "metadata": {
    "scrolled": true
   },
   "outputs": [
    {
     "name": "stdout",
     "output_type": "stream",
     "text": [
      "Trial 30 Complete [00h 00m 06s]\n",
      "val_accuracy: 0.5343511700630188\n",
      "\n",
      "Best val_accuracy So Far: 1.0\n",
      "Total elapsed time: 00h 02m 09s\n",
      "INFO:tensorflow:Oracle triggered exit\n"
     ]
    }
   ],
   "source": [
    "tuner.search(X_train, y_train, epochs=64, batch_size=32, validation_data=(X_val, y_val), callbacks=callbacks_list)"
   ]
  },
  {
   "cell_type": "code",
   "execution_count": 26,
   "metadata": {
    "scrolled": true
   },
   "outputs": [
    {
     "name": "stdout",
     "output_type": "stream",
     "text": [
      "Epoch 1/64\n",
      "14/14 [==============================] - 1s 22ms/step - loss: 0.6359 - accuracy: 0.7107 - val_loss: 0.1084 - val_accuracy: 0.9619\n",
      "Epoch 2/64\n",
      "14/14 [==============================] - 0s 9ms/step - loss: 0.1433 - accuracy: 0.9566 - val_loss: 0.1509 - val_accuracy: 0.9429\n",
      "Epoch 3/64\n",
      "14/14 [==============================] - 0s 12ms/step - loss: 0.1812 - accuracy: 0.9427 - val_loss: 0.0978 - val_accuracy: 0.9619\n",
      "Epoch 4/64\n",
      "14/14 [==============================] - 0s 7ms/step - loss: 0.0970 - accuracy: 0.9570 - val_loss: 0.0671 - val_accuracy: 0.9714\n",
      "Epoch 5/64\n",
      "14/14 [==============================] - 0s 7ms/step - loss: 0.1322 - accuracy: 0.9494 - val_loss: 0.0793 - val_accuracy: 0.9524\n",
      "Epoch 6/64\n",
      "14/14 [==============================] - 0s 7ms/step - loss: 0.1288 - accuracy: 0.9444 - val_loss: 0.0627 - val_accuracy: 0.9619\n",
      "Epoch 7/64\n",
      "14/14 [==============================] - 0s 7ms/step - loss: 0.0835 - accuracy: 0.9634 - val_loss: 0.0417 - val_accuracy: 0.9905\n",
      "Epoch 8/64\n",
      "14/14 [==============================] - 0s 7ms/step - loss: 0.1140 - accuracy: 0.9373 - val_loss: 0.0622 - val_accuracy: 0.9524\n",
      "Epoch 9/64\n",
      "14/14 [==============================] - 0s 7ms/step - loss: 0.1203 - accuracy: 0.9501 - val_loss: 0.0599 - val_accuracy: 0.9810\n",
      "Epoch 10/64\n",
      "14/14 [==============================] - 0s 7ms/step - loss: 0.0726 - accuracy: 0.9749 - val_loss: 0.0589 - val_accuracy: 0.9619\n",
      "Epoch 11/64\n",
      "14/14 [==============================] - 0s 7ms/step - loss: 0.1676 - accuracy: 0.9287 - val_loss: 0.0616 - val_accuracy: 0.9714\n",
      "Epoch 12/64\n",
      "14/14 [==============================] - 0s 7ms/step - loss: 0.1458 - accuracy: 0.9533 - val_loss: 0.0743 - val_accuracy: 0.9619\n",
      "Epoch 13/64\n",
      "14/14 [==============================] - 0s 7ms/step - loss: 0.0927 - accuracy: 0.9794 - val_loss: 0.0576 - val_accuracy: 0.9619\n",
      "Epoch 14/64\n",
      "14/14 [==============================] - 0s 7ms/step - loss: 0.2165 - accuracy: 0.9223 - val_loss: 0.0684 - val_accuracy: 0.9714\n",
      "Epoch 15/64\n",
      "14/14 [==============================] - 0s 7ms/step - loss: 0.1390 - accuracy: 0.9495 - val_loss: 0.0629 - val_accuracy: 0.9619\n",
      "Epoch 16/64\n",
      "14/14 [==============================] - 0s 7ms/step - loss: 0.1298 - accuracy: 0.9524 - val_loss: 0.0865 - val_accuracy: 0.9524\n",
      "Epoch 17/64\n",
      "14/14 [==============================] - 0s 7ms/step - loss: 0.1158 - accuracy: 0.9601 - val_loss: 0.0898 - val_accuracy: 0.9524\n",
      "Epoch 18/64\n",
      "14/14 [==============================] - 0s 7ms/step - loss: 0.1019 - accuracy: 0.9684 - val_loss: 0.0785 - val_accuracy: 0.9714\n",
      "Epoch 19/64\n",
      "14/14 [==============================] - 0s 7ms/step - loss: 0.0727 - accuracy: 0.9760 - val_loss: 0.0705 - val_accuracy: 0.9619\n",
      "Epoch 20/64\n",
      "14/14 [==============================] - 0s 7ms/step - loss: 0.0927 - accuracy: 0.9694 - val_loss: 0.0549 - val_accuracy: 0.9619\n",
      "Epoch 21/64\n",
      "14/14 [==============================] - 0s 9ms/step - loss: 0.0475 - accuracy: 0.9838 - val_loss: 0.0409 - val_accuracy: 0.9905\n",
      "Epoch 22/64\n",
      "14/14 [==============================] - 0s 8ms/step - loss: 0.0826 - accuracy: 0.9726 - val_loss: 0.0491 - val_accuracy: 0.9810\n",
      "Epoch 23/64\n",
      "14/14 [==============================] - 0s 7ms/step - loss: 0.1035 - accuracy: 0.9559 - val_loss: 0.0480 - val_accuracy: 0.9905\n",
      "Epoch 24/64\n",
      "14/14 [==============================] - 0s 7ms/step - loss: 0.0788 - accuracy: 0.9846 - val_loss: 0.0350 - val_accuracy: 0.9810\n",
      "Epoch 25/64\n",
      "14/14 [==============================] - 0s 7ms/step - loss: 0.0450 - accuracy: 0.9860 - val_loss: 0.0366 - val_accuracy: 0.9810\n",
      "Epoch 26/64\n",
      "14/14 [==============================] - 0s 7ms/step - loss: 0.0946 - accuracy: 0.9649 - val_loss: 0.0610 - val_accuracy: 0.9714\n",
      "Epoch 27/64\n",
      "14/14 [==============================] - 0s 7ms/step - loss: 0.0982 - accuracy: 0.9698 - val_loss: 0.0457 - val_accuracy: 0.9810\n",
      "Epoch 28/64\n",
      "14/14 [==============================] - 0s 7ms/step - loss: 0.1084 - accuracy: 0.9706 - val_loss: 0.1213 - val_accuracy: 0.9429\n",
      "Epoch 29/64\n",
      "14/14 [==============================] - 0s 7ms/step - loss: 0.1161 - accuracy: 0.9555 - val_loss: 0.0515 - val_accuracy: 0.9619\n",
      "Epoch 30/64\n",
      "14/14 [==============================] - 0s 8ms/step - loss: 0.1018 - accuracy: 0.9782 - val_loss: 0.0726 - val_accuracy: 0.9714\n",
      "Epoch 31/64\n",
      "14/14 [==============================] - 0s 8ms/step - loss: 0.1441 - accuracy: 0.9674 - val_loss: 0.0516 - val_accuracy: 0.9619\n",
      "Epoch 32/64\n",
      "14/14 [==============================] - 0s 7ms/step - loss: 0.0790 - accuracy: 0.9773 - val_loss: 0.0418 - val_accuracy: 0.9905\n",
      "Epoch 33/64\n",
      "14/14 [==============================] - 0s 8ms/step - loss: 0.1652 - accuracy: 0.9425 - val_loss: 0.0674 - val_accuracy: 0.9905\n",
      "Epoch 34/64\n",
      "14/14 [==============================] - 0s 7ms/step - loss: 0.1108 - accuracy: 0.9613 - val_loss: 0.0604 - val_accuracy: 0.9905\n",
      "Epoch 35/64\n",
      "14/14 [==============================] - 0s 7ms/step - loss: 0.0630 - accuracy: 0.9838 - val_loss: 0.0416 - val_accuracy: 0.9714\n",
      "Epoch 36/64\n",
      "14/14 [==============================] - 0s 8ms/step - loss: 0.0815 - accuracy: 0.9741 - val_loss: 0.1232 - val_accuracy: 0.9905\n",
      "Epoch 37/64\n",
      "14/14 [==============================] - 0s 7ms/step - loss: 0.0706 - accuracy: 0.9884 - val_loss: 0.2250 - val_accuracy: 0.9714\n",
      "Epoch 38/64\n",
      "14/14 [==============================] - 0s 8ms/step - loss: 0.1181 - accuracy: 0.9787 - val_loss: 0.0365 - val_accuracy: 0.9905\n",
      "Epoch 39/64\n",
      "14/14 [==============================] - 0s 7ms/step - loss: 0.0973 - accuracy: 0.9677 - val_loss: 0.0431 - val_accuracy: 0.9905\n",
      "Epoch 40/64\n",
      "14/14 [==============================] - 0s 7ms/step - loss: 0.1203 - accuracy: 0.9683 - val_loss: 0.0583 - val_accuracy: 0.9810\n",
      "Epoch 41/64\n",
      "14/14 [==============================] - 0s 7ms/step - loss: 0.0661 - accuracy: 0.9736 - val_loss: 0.0370 - val_accuracy: 0.9714\n",
      "Epoch 42/64\n",
      "14/14 [==============================] - 0s 7ms/step - loss: 0.1205 - accuracy: 0.9801 - val_loss: 0.0469 - val_accuracy: 0.9905\n",
      "Epoch 43/64\n",
      "14/14 [==============================] - 0s 7ms/step - loss: 0.0422 - accuracy: 0.9895 - val_loss: 0.0423 - val_accuracy: 0.9810\n",
      "Epoch 44/64\n",
      "14/14 [==============================] - 0s 7ms/step - loss: 0.0732 - accuracy: 0.9703 - val_loss: 0.0343 - val_accuracy: 0.9905\n",
      "Epoch 45/64\n",
      "14/14 [==============================] - 0s 7ms/step - loss: 0.0500 - accuracy: 0.9794 - val_loss: 0.0441 - val_accuracy: 0.9810\n",
      "Epoch 46/64\n",
      "14/14 [==============================] - 0s 8ms/step - loss: 0.0433 - accuracy: 0.9789 - val_loss: 0.0368 - val_accuracy: 0.9810\n",
      "Epoch 47/64\n",
      "14/14 [==============================] - 0s 7ms/step - loss: 0.1398 - accuracy: 0.9737 - val_loss: 0.0474 - val_accuracy: 0.9905\n",
      "Epoch 48/64\n",
      "14/14 [==============================] - 0s 9ms/step - loss: 0.2125 - accuracy: 0.9681 - val_loss: 0.0644 - val_accuracy: 0.9714\n",
      "Epoch 49/64\n",
      "14/14 [==============================] - 0s 11ms/step - loss: 0.1950 - accuracy: 0.9715 - val_loss: 0.0661 - val_accuracy: 0.9524\n",
      "Epoch 50/64\n",
      "14/14 [==============================] - 0s 8ms/step - loss: 0.1293 - accuracy: 0.9512 - val_loss: 0.0956 - val_accuracy: 0.9524\n",
      "Epoch 51/64\n",
      "14/14 [==============================] - 0s 7ms/step - loss: 0.1183 - accuracy: 0.9516 - val_loss: 0.0454 - val_accuracy: 0.9714\n",
      "Epoch 52/64\n",
      "14/14 [==============================] - 0s 7ms/step - loss: 0.0581 - accuracy: 0.9818 - val_loss: 0.0848 - val_accuracy: 0.9905\n",
      "Epoch 53/64\n",
      "14/14 [==============================] - 0s 7ms/step - loss: 0.2103 - accuracy: 0.9663 - val_loss: 0.1044 - val_accuracy: 0.9524\n",
      "Epoch 54/64\n",
      "14/14 [==============================] - 0s 7ms/step - loss: 0.0841 - accuracy: 0.9675 - val_loss: 0.0423 - val_accuracy: 0.9810\n",
      "Epoch 55/64\n",
      "14/14 [==============================] - 0s 7ms/step - loss: 0.0570 - accuracy: 0.9840 - val_loss: 0.0746 - val_accuracy: 0.9810\n",
      "Epoch 56/64\n",
      "14/14 [==============================] - 0s 11ms/step - loss: 0.0856 - accuracy: 0.9796 - val_loss: 0.0399 - val_accuracy: 0.9905\n",
      "Epoch 57/64\n",
      "14/14 [==============================] - 0s 7ms/step - loss: 0.1621 - accuracy: 0.9611 - val_loss: 0.0629 - val_accuracy: 0.9714\n",
      "Epoch 58/64\n",
      "14/14 [==============================] - 0s 7ms/step - loss: 0.1316 - accuracy: 0.9759 - val_loss: 0.0762 - val_accuracy: 0.9524\n",
      "Epoch 59/64\n",
      "14/14 [==============================] - 0s 7ms/step - loss: 0.1895 - accuracy: 0.9459 - val_loss: 0.0706 - val_accuracy: 0.9905\n",
      "Epoch 60/64\n",
      "14/14 [==============================] - 0s 7ms/step - loss: 0.0800 - accuracy: 0.9754 - val_loss: 0.0493 - val_accuracy: 0.9810\n",
      "Epoch 61/64\n",
      "14/14 [==============================] - 0s 7ms/step - loss: 0.0701 - accuracy: 0.9833 - val_loss: 0.0356 - val_accuracy: 0.9810\n",
      "Epoch 62/64\n",
      "14/14 [==============================] - 0s 8ms/step - loss: 0.2106 - accuracy: 0.9568 - val_loss: 0.0747 - val_accuracy: 0.9714\n",
      "Epoch 63/64\n",
      "14/14 [==============================] - 0s 7ms/step - loss: 0.1107 - accuracy: 0.9602 - val_loss: 0.0480 - val_accuracy: 0.9810\n",
      "Epoch 64/64\n",
      "14/14 [==============================] - 0s 7ms/step - loss: 0.0675 - accuracy: 0.9687 - val_loss: 0.0359 - val_accuracy: 0.9905\n"
     ]
    }
   ],
   "source": [
    "# Get the optimal hyperparameters\n",
    "best_hps=tuner.get_best_hyperparameters(num_trials=1)[0]\n",
    "model = tuner.hypermodel.build(best_hps)\n",
    "history = model.fit(X_train, y_train, epochs=64, validation_split=0.2)"
   ]
  },
  {
   "cell_type": "code",
   "execution_count": 27,
   "metadata": {},
   "outputs": [
    {
     "name": "stdout",
     "output_type": "stream",
     "text": [
      "Best epoch: 7\n"
     ]
    }
   ],
   "source": [
    "val_acc_per_epoch = history.history['val_accuracy']\n",
    "best_epoch = val_acc_per_epoch.index(max(val_acc_per_epoch)) + 1\n",
    "print('Best epoch: %d' % (best_epoch,))"
   ]
  },
  {
   "cell_type": "code",
   "execution_count": 28,
   "metadata": {
    "scrolled": true
   },
   "outputs": [
    {
     "name": "stdout",
     "output_type": "stream",
     "text": [
      "Epoch 1/7\n",
      "17/17 [==============================] - 1s 4ms/step - loss: 0.4771 - accuracy: 0.7952\n",
      "Epoch 2/7\n",
      "17/17 [==============================] - 0s 4ms/step - loss: 0.2108 - accuracy: 0.9246\n",
      "Epoch 3/7\n",
      "17/17 [==============================] - 0s 4ms/step - loss: 0.1189 - accuracy: 0.9471\n",
      "Epoch 4/7\n",
      "17/17 [==============================] - 0s 4ms/step - loss: 0.1253 - accuracy: 0.9591\n",
      "Epoch 5/7\n",
      "17/17 [==============================] - 0s 4ms/step - loss: 0.1005 - accuracy: 0.9577\n",
      "Epoch 6/7\n",
      "17/17 [==============================] - 0s 4ms/step - loss: 0.0968 - accuracy: 0.9634\n",
      "Epoch 7/7\n",
      "17/17 [==============================] - 0s 4ms/step - loss: 0.1392 - accuracy: 0.9605\n"
     ]
    },
    {
     "data": {
      "text/plain": [
       "<tensorflow.python.keras.callbacks.History at 0x122648b5788>"
      ]
     },
     "execution_count": 28,
     "metadata": {},
     "output_type": "execute_result"
    }
   ],
   "source": [
    "# Re-instantiate the hypermodel and train it with the optimal number of epochs from above.\n",
    "hypermodel = tuner.hypermodel.build(best_hps)\n",
    "# Retrain the model\n",
    "hypermodel.fit(X_train, y_train, epochs=best_epoch)"
   ]
  },
  {
   "cell_type": "code",
   "execution_count": 29,
   "metadata": {},
   "outputs": [
    {
     "name": "stdout",
     "output_type": "stream",
     "text": [
      "5/5 [==============================] - 0s 2ms/step - loss: 0.0346 - accuracy: 0.9847\n",
      "[test loss, test accuracy]: [0.03463554009795189, 0.9847328066825867]\n"
     ]
    }
   ],
   "source": [
    "eval_result = hypermodel.evaluate(X_val, y_val)\n",
    "print(\"[test loss, test accuracy]:\", eval_result)"
   ]
  },
  {
   "cell_type": "code",
   "execution_count": 30,
   "metadata": {
    "scrolled": true
   },
   "outputs": [
    {
     "name": "stdout",
     "output_type": "stream",
     "text": [
      "Epoch 1/7\n",
      "17/17 [==============================] - 0s 4ms/step - loss: 0.0842 - accuracy: 0.9637\n",
      "Epoch 2/7\n",
      "17/17 [==============================] - 0s 4ms/step - loss: 0.1282 - accuracy: 0.9561\n",
      "Epoch 3/7\n",
      "17/17 [==============================] - 0s 4ms/step - loss: 0.0883 - accuracy: 0.9714\n",
      "Epoch 4/7\n",
      "17/17 [==============================] - 0s 4ms/step - loss: 0.1524 - accuracy: 0.9618\n",
      "Epoch 5/7\n",
      "17/17 [==============================] - 0s 4ms/step - loss: 0.0994 - accuracy: 0.9447\n",
      "Epoch 6/7\n",
      "17/17 [==============================] - 0s 4ms/step - loss: 0.0832 - accuracy: 0.9695\n",
      "Epoch 7/7\n",
      "17/17 [==============================] - 0s 4ms/step - loss: 0.1051 - accuracy: 0.9695\n"
     ]
    },
    {
     "data": {
      "text/plain": [
       "<tensorflow.python.keras.callbacks.History at 0x12264bad208>"
      ]
     },
     "execution_count": 30,
     "metadata": {},
     "output_type": "execute_result"
    }
   ],
   "source": [
    "# Retrain the model\n",
    "hypermodel.fit(X_train, y_train, epochs=best_epoch)"
   ]
  },
  {
   "cell_type": "code",
   "execution_count": 31,
   "metadata": {},
   "outputs": [],
   "source": [
    "# from keras.models import save_model\n",
    "# hypermodel.save('best_model.h5')"
   ]
  },
  {
   "cell_type": "code",
   "execution_count": 32,
   "metadata": {},
   "outputs": [],
   "source": [
    "# Load the model and predict\n",
    "# from keras.models import load_model\n",
    "# hypermodel = load_model('best_model.h5')\n",
    "y_pred = hypermodel.predict(X_test)\n",
    "y_pred = y_pred.astype(int)"
   ]
  },
  {
   "cell_type": "code",
   "execution_count": 33,
   "metadata": {},
   "outputs": [],
   "source": [
    "y_pred = pd.DataFrame(y_pred, columns=['Survived'], index=X_test.index)\n",
    "# saving the dataframe \n",
    "y_pred.to_csv('Predictions.csv') "
   ]
  },
  {
   "cell_type": "code",
   "execution_count": 34,
   "metadata": {},
   "outputs": [],
   "source": [
    "import winsound\n",
    "duration = 100  # milliseconds\n",
    "freq = 3000  # Hz\n",
    "winsound.Beep(freq, duration)"
   ]
  }
 ],
 "metadata": {
  "kernelspec": {
   "display_name": "Python 3",
   "language": "python",
   "name": "python3"
  },
  "language_info": {
   "codemirror_mode": {
    "name": "ipython",
    "version": 3
   },
   "file_extension": ".py",
   "mimetype": "text/x-python",
   "name": "python",
   "nbconvert_exporter": "python",
   "pygments_lexer": "ipython3",
   "version": "3.7.9"
  }
 },
 "nbformat": 4,
 "nbformat_minor": 4
}
