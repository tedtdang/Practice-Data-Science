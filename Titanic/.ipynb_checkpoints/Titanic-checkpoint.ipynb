{
 "cells": [
  {
   "cell_type": "code",
   "execution_count": 1,
   "metadata": {},
   "outputs": [],
   "source": [
    "# Import libraries and the data set\n",
    "import pandas as pd\n",
    "import numpy as np\n",
    "import sidetable\n",
    "import seaborn as sb\n",
    "import matplotlib.pyplot as plt\n",
    "%matplotlib inline\n",
    "import DataScience \n",
    "\n",
    "df = pd.read_csv('train.csv', index_col=['PassengerId'])\n",
    "X_test = pd.read_csv('test.csv', index_col=['PassengerId'])"
   ]
  },
  {
   "cell_type": "code",
   "execution_count": 2,
   "metadata": {},
   "outputs": [
    {
     "data": {
      "text/html": [
       "<div>\n",
       "<style scoped>\n",
       "    .dataframe tbody tr th:only-of-type {\n",
       "        vertical-align: middle;\n",
       "    }\n",
       "\n",
       "    .dataframe tbody tr th {\n",
       "        vertical-align: top;\n",
       "    }\n",
       "\n",
       "    .dataframe thead th {\n",
       "        text-align: right;\n",
       "    }\n",
       "</style>\n",
       "<table border=\"1\" class=\"dataframe\">\n",
       "  <thead>\n",
       "    <tr style=\"text-align: right;\">\n",
       "      <th></th>\n",
       "      <th>Survived</th>\n",
       "      <th>Pclass</th>\n",
       "      <th>Name</th>\n",
       "      <th>Sex</th>\n",
       "      <th>Age</th>\n",
       "      <th>SibSp</th>\n",
       "      <th>Parch</th>\n",
       "      <th>Ticket</th>\n",
       "      <th>Fare</th>\n",
       "      <th>Cabin</th>\n",
       "      <th>Embarked</th>\n",
       "    </tr>\n",
       "    <tr>\n",
       "      <th>PassengerId</th>\n",
       "      <th></th>\n",
       "      <th></th>\n",
       "      <th></th>\n",
       "      <th></th>\n",
       "      <th></th>\n",
       "      <th></th>\n",
       "      <th></th>\n",
       "      <th></th>\n",
       "      <th></th>\n",
       "      <th></th>\n",
       "      <th></th>\n",
       "    </tr>\n",
       "  </thead>\n",
       "  <tbody>\n",
       "    <tr>\n",
       "      <th>1</th>\n",
       "      <td>0</td>\n",
       "      <td>3</td>\n",
       "      <td>Braund, Mr. Owen Harris</td>\n",
       "      <td>male</td>\n",
       "      <td>22.0</td>\n",
       "      <td>1</td>\n",
       "      <td>0</td>\n",
       "      <td>A/5 21171</td>\n",
       "      <td>7.2500</td>\n",
       "      <td>NaN</td>\n",
       "      <td>S</td>\n",
       "    </tr>\n",
       "    <tr>\n",
       "      <th>2</th>\n",
       "      <td>1</td>\n",
       "      <td>1</td>\n",
       "      <td>Cumings, Mrs. John Bradley (Florence Briggs Th...</td>\n",
       "      <td>female</td>\n",
       "      <td>38.0</td>\n",
       "      <td>1</td>\n",
       "      <td>0</td>\n",
       "      <td>PC 17599</td>\n",
       "      <td>71.2833</td>\n",
       "      <td>C85</td>\n",
       "      <td>C</td>\n",
       "    </tr>\n",
       "    <tr>\n",
       "      <th>3</th>\n",
       "      <td>1</td>\n",
       "      <td>3</td>\n",
       "      <td>Heikkinen, Miss. Laina</td>\n",
       "      <td>female</td>\n",
       "      <td>26.0</td>\n",
       "      <td>0</td>\n",
       "      <td>0</td>\n",
       "      <td>STON/O2. 3101282</td>\n",
       "      <td>7.9250</td>\n",
       "      <td>NaN</td>\n",
       "      <td>S</td>\n",
       "    </tr>\n",
       "    <tr>\n",
       "      <th>4</th>\n",
       "      <td>1</td>\n",
       "      <td>1</td>\n",
       "      <td>Futrelle, Mrs. Jacques Heath (Lily May Peel)</td>\n",
       "      <td>female</td>\n",
       "      <td>35.0</td>\n",
       "      <td>1</td>\n",
       "      <td>0</td>\n",
       "      <td>113803</td>\n",
       "      <td>53.1000</td>\n",
       "      <td>C123</td>\n",
       "      <td>S</td>\n",
       "    </tr>\n",
       "    <tr>\n",
       "      <th>5</th>\n",
       "      <td>0</td>\n",
       "      <td>3</td>\n",
       "      <td>Allen, Mr. William Henry</td>\n",
       "      <td>male</td>\n",
       "      <td>35.0</td>\n",
       "      <td>0</td>\n",
       "      <td>0</td>\n",
       "      <td>373450</td>\n",
       "      <td>8.0500</td>\n",
       "      <td>NaN</td>\n",
       "      <td>S</td>\n",
       "    </tr>\n",
       "  </tbody>\n",
       "</table>\n",
       "</div>"
      ],
      "text/plain": [
       "             Survived  Pclass  \\\n",
       "PassengerId                     \n",
       "1                   0       3   \n",
       "2                   1       1   \n",
       "3                   1       3   \n",
       "4                   1       1   \n",
       "5                   0       3   \n",
       "\n",
       "                                                          Name     Sex   Age  \\\n",
       "PassengerId                                                                    \n",
       "1                                      Braund, Mr. Owen Harris    male  22.0   \n",
       "2            Cumings, Mrs. John Bradley (Florence Briggs Th...  female  38.0   \n",
       "3                                       Heikkinen, Miss. Laina  female  26.0   \n",
       "4                 Futrelle, Mrs. Jacques Heath (Lily May Peel)  female  35.0   \n",
       "5                                     Allen, Mr. William Henry    male  35.0   \n",
       "\n",
       "             SibSp  Parch            Ticket     Fare Cabin Embarked  \n",
       "PassengerId                                                          \n",
       "1                1      0         A/5 21171   7.2500   NaN        S  \n",
       "2                1      0          PC 17599  71.2833   C85        C  \n",
       "3                0      0  STON/O2. 3101282   7.9250   NaN        S  \n",
       "4                1      0            113803  53.1000  C123        S  \n",
       "5                0      0            373450   8.0500   NaN        S  "
      ]
     },
     "execution_count": 2,
     "metadata": {},
     "output_type": "execute_result"
    }
   ],
   "source": [
    "# Have a look at the first five rows\n",
    "df.head()"
   ]
  },
  {
   "cell_type": "code",
   "execution_count": 3,
   "metadata": {},
   "outputs": [
    {
     "data": {
      "text/plain": [
       "array([nan, 'C85', 'C123', 'E46', 'G6', 'C103', 'D56', 'A6',\n",
       "       'C23 C25 C27', 'B78', 'D33', 'B30', 'C52', 'B28', 'C83', 'F33',\n",
       "       'F G73', 'E31', 'A5', 'D10 D12', 'D26', 'C110', 'B58 B60', 'E101',\n",
       "       'F E69', 'D47', 'B86', 'F2', 'C2', 'E33', 'B19', 'A7', 'C49', 'F4',\n",
       "       'A32', 'B4', 'B80', 'A31', 'D36', 'D15', 'C93', 'C78', 'D35',\n",
       "       'C87', 'B77', 'E67', 'B94', 'C125', 'C99', 'C118', 'D7', 'A19',\n",
       "       'B49', 'D', 'C22 C26', 'C106', 'C65', 'E36', 'C54',\n",
       "       'B57 B59 B63 B66', 'C7', 'E34', 'C32', 'B18', 'C124', 'C91', 'E40',\n",
       "       'T', 'C128', 'D37', 'B35', 'E50', 'C82', 'B96 B98', 'E10', 'E44',\n",
       "       'A34', 'C104', 'C111', 'C92', 'E38', 'D21', 'E12', 'E63', 'A14',\n",
       "       'B37', 'C30', 'D20', 'B79', 'E25', 'D46', 'B73', 'C95', 'B38',\n",
       "       'B39', 'B22', 'C86', 'C70', 'A16', 'C101', 'C68', 'A10', 'E68',\n",
       "       'B41', 'A20', 'D19', 'D50', 'D9', 'A23', 'B50', 'A26', 'D48',\n",
       "       'E58', 'C126', 'B71', 'B51 B53 B55', 'D49', 'B5', 'B20', 'F G63',\n",
       "       'C62 C64', 'E24', 'C90', 'C45', 'E8', 'B101', 'D45', 'C46', 'D30',\n",
       "       'E121', 'D11', 'E77', 'F38', 'B3', 'D6', 'B82 B84', 'D17', 'A36',\n",
       "       'B102', 'B69', 'E49', 'C47', 'D28', 'E17', 'A24', 'C50', 'B42',\n",
       "       'C148'], dtype=object)"
      ]
     },
     "execution_count": 3,
     "metadata": {},
     "output_type": "execute_result"
    }
   ],
   "source": [
    "df.Cabin.unique()"
   ]
  },
  {
   "cell_type": "markdown",
   "metadata": {},
   "source": [
    "Column __Name__ and __Ticket__ has nothing to do with predicting __Survived__, it will be dropped"
   ]
  },
  {
   "cell_type": "code",
   "execution_count": 4,
   "metadata": {},
   "outputs": [],
   "source": [
    "df.drop(columns=['Name'], inplace=True)\n",
    "X_test.drop(columns=['Name'], inplace=True)"
   ]
  },
  {
   "cell_type": "code",
   "execution_count": 5,
   "metadata": {},
   "outputs": [
    {
     "data": {
      "text/html": [
       "<style  type=\"text/css\" >\n",
       "</style><table id=\"T_449b5bfe_0f71_11eb_9489_9848271e970b\" ><thead>    <tr>        <th class=\"blank level0\" ></th>        <th class=\"col_heading level0 col0\" >missing</th>        <th class=\"col_heading level0 col1\" >total</th>        <th class=\"col_heading level0 col2\" >percent</th>    </tr></thead><tbody>\n",
       "                <tr>\n",
       "                        <th id=\"T_449b5bfe_0f71_11eb_9489_9848271e970blevel0_row0\" class=\"row_heading level0 row0\" >Cabin</th>\n",
       "                        <td id=\"T_449b5bfe_0f71_11eb_9489_9848271e970brow0_col0\" class=\"data row0 col0\" >687</td>\n",
       "                        <td id=\"T_449b5bfe_0f71_11eb_9489_9848271e970brow0_col1\" class=\"data row0 col1\" >891</td>\n",
       "                        <td id=\"T_449b5bfe_0f71_11eb_9489_9848271e970brow0_col2\" class=\"data row0 col2\" >77.10%</td>\n",
       "            </tr>\n",
       "            <tr>\n",
       "                        <th id=\"T_449b5bfe_0f71_11eb_9489_9848271e970blevel0_row1\" class=\"row_heading level0 row1\" >Age</th>\n",
       "                        <td id=\"T_449b5bfe_0f71_11eb_9489_9848271e970brow1_col0\" class=\"data row1 col0\" >177</td>\n",
       "                        <td id=\"T_449b5bfe_0f71_11eb_9489_9848271e970brow1_col1\" class=\"data row1 col1\" >891</td>\n",
       "                        <td id=\"T_449b5bfe_0f71_11eb_9489_9848271e970brow1_col2\" class=\"data row1 col2\" >19.87%</td>\n",
       "            </tr>\n",
       "            <tr>\n",
       "                        <th id=\"T_449b5bfe_0f71_11eb_9489_9848271e970blevel0_row2\" class=\"row_heading level0 row2\" >Embarked</th>\n",
       "                        <td id=\"T_449b5bfe_0f71_11eb_9489_9848271e970brow2_col0\" class=\"data row2 col0\" >2</td>\n",
       "                        <td id=\"T_449b5bfe_0f71_11eb_9489_9848271e970brow2_col1\" class=\"data row2 col1\" >891</td>\n",
       "                        <td id=\"T_449b5bfe_0f71_11eb_9489_9848271e970brow2_col2\" class=\"data row2 col2\" >0.22%</td>\n",
       "            </tr>\n",
       "            <tr>\n",
       "                        <th id=\"T_449b5bfe_0f71_11eb_9489_9848271e970blevel0_row3\" class=\"row_heading level0 row3\" >Survived</th>\n",
       "                        <td id=\"T_449b5bfe_0f71_11eb_9489_9848271e970brow3_col0\" class=\"data row3 col0\" >0</td>\n",
       "                        <td id=\"T_449b5bfe_0f71_11eb_9489_9848271e970brow3_col1\" class=\"data row3 col1\" >891</td>\n",
       "                        <td id=\"T_449b5bfe_0f71_11eb_9489_9848271e970brow3_col2\" class=\"data row3 col2\" >0.00%</td>\n",
       "            </tr>\n",
       "            <tr>\n",
       "                        <th id=\"T_449b5bfe_0f71_11eb_9489_9848271e970blevel0_row4\" class=\"row_heading level0 row4\" >Pclass</th>\n",
       "                        <td id=\"T_449b5bfe_0f71_11eb_9489_9848271e970brow4_col0\" class=\"data row4 col0\" >0</td>\n",
       "                        <td id=\"T_449b5bfe_0f71_11eb_9489_9848271e970brow4_col1\" class=\"data row4 col1\" >891</td>\n",
       "                        <td id=\"T_449b5bfe_0f71_11eb_9489_9848271e970brow4_col2\" class=\"data row4 col2\" >0.00%</td>\n",
       "            </tr>\n",
       "            <tr>\n",
       "                        <th id=\"T_449b5bfe_0f71_11eb_9489_9848271e970blevel0_row5\" class=\"row_heading level0 row5\" >Sex</th>\n",
       "                        <td id=\"T_449b5bfe_0f71_11eb_9489_9848271e970brow5_col0\" class=\"data row5 col0\" >0</td>\n",
       "                        <td id=\"T_449b5bfe_0f71_11eb_9489_9848271e970brow5_col1\" class=\"data row5 col1\" >891</td>\n",
       "                        <td id=\"T_449b5bfe_0f71_11eb_9489_9848271e970brow5_col2\" class=\"data row5 col2\" >0.00%</td>\n",
       "            </tr>\n",
       "            <tr>\n",
       "                        <th id=\"T_449b5bfe_0f71_11eb_9489_9848271e970blevel0_row6\" class=\"row_heading level0 row6\" >SibSp</th>\n",
       "                        <td id=\"T_449b5bfe_0f71_11eb_9489_9848271e970brow6_col0\" class=\"data row6 col0\" >0</td>\n",
       "                        <td id=\"T_449b5bfe_0f71_11eb_9489_9848271e970brow6_col1\" class=\"data row6 col1\" >891</td>\n",
       "                        <td id=\"T_449b5bfe_0f71_11eb_9489_9848271e970brow6_col2\" class=\"data row6 col2\" >0.00%</td>\n",
       "            </tr>\n",
       "            <tr>\n",
       "                        <th id=\"T_449b5bfe_0f71_11eb_9489_9848271e970blevel0_row7\" class=\"row_heading level0 row7\" >Parch</th>\n",
       "                        <td id=\"T_449b5bfe_0f71_11eb_9489_9848271e970brow7_col0\" class=\"data row7 col0\" >0</td>\n",
       "                        <td id=\"T_449b5bfe_0f71_11eb_9489_9848271e970brow7_col1\" class=\"data row7 col1\" >891</td>\n",
       "                        <td id=\"T_449b5bfe_0f71_11eb_9489_9848271e970brow7_col2\" class=\"data row7 col2\" >0.00%</td>\n",
       "            </tr>\n",
       "            <tr>\n",
       "                        <th id=\"T_449b5bfe_0f71_11eb_9489_9848271e970blevel0_row8\" class=\"row_heading level0 row8\" >Ticket</th>\n",
       "                        <td id=\"T_449b5bfe_0f71_11eb_9489_9848271e970brow8_col0\" class=\"data row8 col0\" >0</td>\n",
       "                        <td id=\"T_449b5bfe_0f71_11eb_9489_9848271e970brow8_col1\" class=\"data row8 col1\" >891</td>\n",
       "                        <td id=\"T_449b5bfe_0f71_11eb_9489_9848271e970brow8_col2\" class=\"data row8 col2\" >0.00%</td>\n",
       "            </tr>\n",
       "            <tr>\n",
       "                        <th id=\"T_449b5bfe_0f71_11eb_9489_9848271e970blevel0_row9\" class=\"row_heading level0 row9\" >Fare</th>\n",
       "                        <td id=\"T_449b5bfe_0f71_11eb_9489_9848271e970brow9_col0\" class=\"data row9 col0\" >0</td>\n",
       "                        <td id=\"T_449b5bfe_0f71_11eb_9489_9848271e970brow9_col1\" class=\"data row9 col1\" >891</td>\n",
       "                        <td id=\"T_449b5bfe_0f71_11eb_9489_9848271e970brow9_col2\" class=\"data row9 col2\" >0.00%</td>\n",
       "            </tr>\n",
       "    </tbody></table>"
      ],
      "text/plain": [
       "<pandas.io.formats.style.Styler at 0x27791ac11c8>"
      ]
     },
     "execution_count": 5,
     "metadata": {},
     "output_type": "execute_result"
    }
   ],
   "source": [
    "# See the missing data in columns\n",
    "df.stb.missing(style=True)"
   ]
  },
  {
   "cell_type": "markdown",
   "metadata": {},
   "source": [
    "As column __Cabin__ has 77% missing values, the column will be dropped.\n",
    "<br>Column __Age__ can be imputed.\n",
    "<br>As column __Embarked__ has 2 missing rows, the rows will be dropped."
   ]
  },
  {
   "cell_type": "code",
   "execution_count": 6,
   "metadata": {},
   "outputs": [],
   "source": [
    "# I try not deleting Cabin column to see if the score is better"
   ]
  },
  {
   "cell_type": "code",
   "execution_count": 7,
   "metadata": {},
   "outputs": [],
   "source": [
    "# As Pclass includes fare, I will drop 'Fare'\n",
    "df.drop(columns=['Ticket', 'Cabin'], inplace=True, axis=1)"
   ]
  },
  {
   "cell_type": "code",
   "execution_count": 8,
   "metadata": {},
   "outputs": [
    {
     "data": {
      "text/html": [
       "<style  type=\"text/css\" >\n",
       "</style><table id=\"T_44a4d3b4_0f71_11eb_9dad_9848271e970b\" ><thead>    <tr>        <th class=\"blank level0\" ></th>        <th class=\"col_heading level0 col0\" >missing</th>        <th class=\"col_heading level0 col1\" >total</th>        <th class=\"col_heading level0 col2\" >percent</th>    </tr></thead><tbody>\n",
       "                <tr>\n",
       "                        <th id=\"T_44a4d3b4_0f71_11eb_9dad_9848271e970blevel0_row0\" class=\"row_heading level0 row0\" >Cabin</th>\n",
       "                        <td id=\"T_44a4d3b4_0f71_11eb_9dad_9848271e970brow0_col0\" class=\"data row0 col0\" >327</td>\n",
       "                        <td id=\"T_44a4d3b4_0f71_11eb_9dad_9848271e970brow0_col1\" class=\"data row0 col1\" >418</td>\n",
       "                        <td id=\"T_44a4d3b4_0f71_11eb_9dad_9848271e970brow0_col2\" class=\"data row0 col2\" >78.23%</td>\n",
       "            </tr>\n",
       "            <tr>\n",
       "                        <th id=\"T_44a4d3b4_0f71_11eb_9dad_9848271e970blevel0_row1\" class=\"row_heading level0 row1\" >Age</th>\n",
       "                        <td id=\"T_44a4d3b4_0f71_11eb_9dad_9848271e970brow1_col0\" class=\"data row1 col0\" >86</td>\n",
       "                        <td id=\"T_44a4d3b4_0f71_11eb_9dad_9848271e970brow1_col1\" class=\"data row1 col1\" >418</td>\n",
       "                        <td id=\"T_44a4d3b4_0f71_11eb_9dad_9848271e970brow1_col2\" class=\"data row1 col2\" >20.57%</td>\n",
       "            </tr>\n",
       "            <tr>\n",
       "                        <th id=\"T_44a4d3b4_0f71_11eb_9dad_9848271e970blevel0_row2\" class=\"row_heading level0 row2\" >Fare</th>\n",
       "                        <td id=\"T_44a4d3b4_0f71_11eb_9dad_9848271e970brow2_col0\" class=\"data row2 col0\" >1</td>\n",
       "                        <td id=\"T_44a4d3b4_0f71_11eb_9dad_9848271e970brow2_col1\" class=\"data row2 col1\" >418</td>\n",
       "                        <td id=\"T_44a4d3b4_0f71_11eb_9dad_9848271e970brow2_col2\" class=\"data row2 col2\" >0.24%</td>\n",
       "            </tr>\n",
       "            <tr>\n",
       "                        <th id=\"T_44a4d3b4_0f71_11eb_9dad_9848271e970blevel0_row3\" class=\"row_heading level0 row3\" >Pclass</th>\n",
       "                        <td id=\"T_44a4d3b4_0f71_11eb_9dad_9848271e970brow3_col0\" class=\"data row3 col0\" >0</td>\n",
       "                        <td id=\"T_44a4d3b4_0f71_11eb_9dad_9848271e970brow3_col1\" class=\"data row3 col1\" >418</td>\n",
       "                        <td id=\"T_44a4d3b4_0f71_11eb_9dad_9848271e970brow3_col2\" class=\"data row3 col2\" >0.00%</td>\n",
       "            </tr>\n",
       "            <tr>\n",
       "                        <th id=\"T_44a4d3b4_0f71_11eb_9dad_9848271e970blevel0_row4\" class=\"row_heading level0 row4\" >Sex</th>\n",
       "                        <td id=\"T_44a4d3b4_0f71_11eb_9dad_9848271e970brow4_col0\" class=\"data row4 col0\" >0</td>\n",
       "                        <td id=\"T_44a4d3b4_0f71_11eb_9dad_9848271e970brow4_col1\" class=\"data row4 col1\" >418</td>\n",
       "                        <td id=\"T_44a4d3b4_0f71_11eb_9dad_9848271e970brow4_col2\" class=\"data row4 col2\" >0.00%</td>\n",
       "            </tr>\n",
       "            <tr>\n",
       "                        <th id=\"T_44a4d3b4_0f71_11eb_9dad_9848271e970blevel0_row5\" class=\"row_heading level0 row5\" >SibSp</th>\n",
       "                        <td id=\"T_44a4d3b4_0f71_11eb_9dad_9848271e970brow5_col0\" class=\"data row5 col0\" >0</td>\n",
       "                        <td id=\"T_44a4d3b4_0f71_11eb_9dad_9848271e970brow5_col1\" class=\"data row5 col1\" >418</td>\n",
       "                        <td id=\"T_44a4d3b4_0f71_11eb_9dad_9848271e970brow5_col2\" class=\"data row5 col2\" >0.00%</td>\n",
       "            </tr>\n",
       "            <tr>\n",
       "                        <th id=\"T_44a4d3b4_0f71_11eb_9dad_9848271e970blevel0_row6\" class=\"row_heading level0 row6\" >Parch</th>\n",
       "                        <td id=\"T_44a4d3b4_0f71_11eb_9dad_9848271e970brow6_col0\" class=\"data row6 col0\" >0</td>\n",
       "                        <td id=\"T_44a4d3b4_0f71_11eb_9dad_9848271e970brow6_col1\" class=\"data row6 col1\" >418</td>\n",
       "                        <td id=\"T_44a4d3b4_0f71_11eb_9dad_9848271e970brow6_col2\" class=\"data row6 col2\" >0.00%</td>\n",
       "            </tr>\n",
       "            <tr>\n",
       "                        <th id=\"T_44a4d3b4_0f71_11eb_9dad_9848271e970blevel0_row7\" class=\"row_heading level0 row7\" >Ticket</th>\n",
       "                        <td id=\"T_44a4d3b4_0f71_11eb_9dad_9848271e970brow7_col0\" class=\"data row7 col0\" >0</td>\n",
       "                        <td id=\"T_44a4d3b4_0f71_11eb_9dad_9848271e970brow7_col1\" class=\"data row7 col1\" >418</td>\n",
       "                        <td id=\"T_44a4d3b4_0f71_11eb_9dad_9848271e970brow7_col2\" class=\"data row7 col2\" >0.00%</td>\n",
       "            </tr>\n",
       "            <tr>\n",
       "                        <th id=\"T_44a4d3b4_0f71_11eb_9dad_9848271e970blevel0_row8\" class=\"row_heading level0 row8\" >Embarked</th>\n",
       "                        <td id=\"T_44a4d3b4_0f71_11eb_9dad_9848271e970brow8_col0\" class=\"data row8 col0\" >0</td>\n",
       "                        <td id=\"T_44a4d3b4_0f71_11eb_9dad_9848271e970brow8_col1\" class=\"data row8 col1\" >418</td>\n",
       "                        <td id=\"T_44a4d3b4_0f71_11eb_9dad_9848271e970brow8_col2\" class=\"data row8 col2\" >0.00%</td>\n",
       "            </tr>\n",
       "    </tbody></table>"
      ],
      "text/plain": [
       "<pandas.io.formats.style.Styler at 0x27793281748>"
      ]
     },
     "execution_count": 8,
     "metadata": {},
     "output_type": "execute_result"
    }
   ],
   "source": [
    "X_test.stb.missing(style=True)"
   ]
  },
  {
   "cell_type": "markdown",
   "metadata": {},
   "source": [
    "As column __Cabin__ has 77% missing values, the column will be dropped.\n",
    "<br>Column __Age__ can be imputed.\n",
    "<br>As column __Fare__ has 2 missing rows, the rows will be dropped."
   ]
  },
  {
   "cell_type": "code",
   "execution_count": 9,
   "metadata": {},
   "outputs": [],
   "source": [
    "# As there are only two missing rows of column Embarked, I will drop the rows\n",
    "X_test.drop(columns=['Ticket', 'Cabin'], axis=1, inplace=True)"
   ]
  },
  {
   "cell_type": "code",
   "execution_count": 10,
   "metadata": {},
   "outputs": [
    {
     "data": {
      "text/html": [
       "<style  type=\"text/css\" >\n",
       "</style><table id=\"T_44ab8c0c_0f71_11eb_9685_9848271e970b\" ><thead>    <tr>        <th class=\"blank level0\" ></th>        <th class=\"col_heading level0 col0\" >missing</th>        <th class=\"col_heading level0 col1\" >total</th>        <th class=\"col_heading level0 col2\" >percent</th>    </tr></thead><tbody>\n",
       "                <tr>\n",
       "                        <th id=\"T_44ab8c0c_0f71_11eb_9685_9848271e970blevel0_row0\" class=\"row_heading level0 row0\" >Cabin</th>\n",
       "                        <td id=\"T_44ab8c0c_0f71_11eb_9685_9848271e970brow0_col0\" class=\"data row0 col0\" >687</td>\n",
       "                        <td id=\"T_44ab8c0c_0f71_11eb_9685_9848271e970brow0_col1\" class=\"data row0 col1\" >891</td>\n",
       "                        <td id=\"T_44ab8c0c_0f71_11eb_9685_9848271e970brow0_col2\" class=\"data row0 col2\" >77.10%</td>\n",
       "            </tr>\n",
       "            <tr>\n",
       "                        <th id=\"T_44ab8c0c_0f71_11eb_9685_9848271e970blevel0_row1\" class=\"row_heading level0 row1\" >Age</th>\n",
       "                        <td id=\"T_44ab8c0c_0f71_11eb_9685_9848271e970brow1_col0\" class=\"data row1 col0\" >177</td>\n",
       "                        <td id=\"T_44ab8c0c_0f71_11eb_9685_9848271e970brow1_col1\" class=\"data row1 col1\" >891</td>\n",
       "                        <td id=\"T_44ab8c0c_0f71_11eb_9685_9848271e970brow1_col2\" class=\"data row1 col2\" >19.87%</td>\n",
       "            </tr>\n",
       "            <tr>\n",
       "                        <th id=\"T_44ab8c0c_0f71_11eb_9685_9848271e970blevel0_row2\" class=\"row_heading level0 row2\" >Embarked</th>\n",
       "                        <td id=\"T_44ab8c0c_0f71_11eb_9685_9848271e970brow2_col0\" class=\"data row2 col0\" >2</td>\n",
       "                        <td id=\"T_44ab8c0c_0f71_11eb_9685_9848271e970brow2_col1\" class=\"data row2 col1\" >891</td>\n",
       "                        <td id=\"T_44ab8c0c_0f71_11eb_9685_9848271e970brow2_col2\" class=\"data row2 col2\" >0.22%</td>\n",
       "            </tr>\n",
       "            <tr>\n",
       "                        <th id=\"T_44ab8c0c_0f71_11eb_9685_9848271e970blevel0_row3\" class=\"row_heading level0 row3\" >Survived</th>\n",
       "                        <td id=\"T_44ab8c0c_0f71_11eb_9685_9848271e970brow3_col0\" class=\"data row3 col0\" >0</td>\n",
       "                        <td id=\"T_44ab8c0c_0f71_11eb_9685_9848271e970brow3_col1\" class=\"data row3 col1\" >891</td>\n",
       "                        <td id=\"T_44ab8c0c_0f71_11eb_9685_9848271e970brow3_col2\" class=\"data row3 col2\" >0.00%</td>\n",
       "            </tr>\n",
       "            <tr>\n",
       "                        <th id=\"T_44ab8c0c_0f71_11eb_9685_9848271e970blevel0_row4\" class=\"row_heading level0 row4\" >Pclass</th>\n",
       "                        <td id=\"T_44ab8c0c_0f71_11eb_9685_9848271e970brow4_col0\" class=\"data row4 col0\" >0</td>\n",
       "                        <td id=\"T_44ab8c0c_0f71_11eb_9685_9848271e970brow4_col1\" class=\"data row4 col1\" >891</td>\n",
       "                        <td id=\"T_44ab8c0c_0f71_11eb_9685_9848271e970brow4_col2\" class=\"data row4 col2\" >0.00%</td>\n",
       "            </tr>\n",
       "            <tr>\n",
       "                        <th id=\"T_44ab8c0c_0f71_11eb_9685_9848271e970blevel0_row5\" class=\"row_heading level0 row5\" >Sex</th>\n",
       "                        <td id=\"T_44ab8c0c_0f71_11eb_9685_9848271e970brow5_col0\" class=\"data row5 col0\" >0</td>\n",
       "                        <td id=\"T_44ab8c0c_0f71_11eb_9685_9848271e970brow5_col1\" class=\"data row5 col1\" >891</td>\n",
       "                        <td id=\"T_44ab8c0c_0f71_11eb_9685_9848271e970brow5_col2\" class=\"data row5 col2\" >0.00%</td>\n",
       "            </tr>\n",
       "            <tr>\n",
       "                        <th id=\"T_44ab8c0c_0f71_11eb_9685_9848271e970blevel0_row6\" class=\"row_heading level0 row6\" >SibSp</th>\n",
       "                        <td id=\"T_44ab8c0c_0f71_11eb_9685_9848271e970brow6_col0\" class=\"data row6 col0\" >0</td>\n",
       "                        <td id=\"T_44ab8c0c_0f71_11eb_9685_9848271e970brow6_col1\" class=\"data row6 col1\" >891</td>\n",
       "                        <td id=\"T_44ab8c0c_0f71_11eb_9685_9848271e970brow6_col2\" class=\"data row6 col2\" >0.00%</td>\n",
       "            </tr>\n",
       "            <tr>\n",
       "                        <th id=\"T_44ab8c0c_0f71_11eb_9685_9848271e970blevel0_row7\" class=\"row_heading level0 row7\" >Parch</th>\n",
       "                        <td id=\"T_44ab8c0c_0f71_11eb_9685_9848271e970brow7_col0\" class=\"data row7 col0\" >0</td>\n",
       "                        <td id=\"T_44ab8c0c_0f71_11eb_9685_9848271e970brow7_col1\" class=\"data row7 col1\" >891</td>\n",
       "                        <td id=\"T_44ab8c0c_0f71_11eb_9685_9848271e970brow7_col2\" class=\"data row7 col2\" >0.00%</td>\n",
       "            </tr>\n",
       "            <tr>\n",
       "                        <th id=\"T_44ab8c0c_0f71_11eb_9685_9848271e970blevel0_row8\" class=\"row_heading level0 row8\" >Fare</th>\n",
       "                        <td id=\"T_44ab8c0c_0f71_11eb_9685_9848271e970brow8_col0\" class=\"data row8 col0\" >0</td>\n",
       "                        <td id=\"T_44ab8c0c_0f71_11eb_9685_9848271e970brow8_col1\" class=\"data row8 col1\" >891</td>\n",
       "                        <td id=\"T_44ab8c0c_0f71_11eb_9685_9848271e970brow8_col2\" class=\"data row8 col2\" >0.00%</td>\n",
       "            </tr>\n",
       "    </tbody></table>"
      ],
      "text/plain": [
       "<pandas.io.formats.style.Styler at 0x2779328c688>"
      ]
     },
     "execution_count": 10,
     "metadata": {},
     "output_type": "execute_result"
    }
   ],
   "source": [
    "# Recheck the missing data in columns\n",
    "df.stb.missing(style=True)"
   ]
  },
  {
   "cell_type": "code",
   "execution_count": 11,
   "metadata": {},
   "outputs": [
    {
     "data": {
      "text/html": [
       "<style  type=\"text/css\" >\n",
       "</style><table id=\"T_44afd2da_0f71_11eb_8b2c_9848271e970b\" ><thead>    <tr>        <th class=\"blank level0\" ></th>        <th class=\"col_heading level0 col0\" >missing</th>        <th class=\"col_heading level0 col1\" >total</th>        <th class=\"col_heading level0 col2\" >percent</th>    </tr></thead><tbody>\n",
       "                <tr>\n",
       "                        <th id=\"T_44afd2da_0f71_11eb_8b2c_9848271e970blevel0_row0\" class=\"row_heading level0 row0\" >Cabin</th>\n",
       "                        <td id=\"T_44afd2da_0f71_11eb_8b2c_9848271e970brow0_col0\" class=\"data row0 col0\" >327</td>\n",
       "                        <td id=\"T_44afd2da_0f71_11eb_8b2c_9848271e970brow0_col1\" class=\"data row0 col1\" >418</td>\n",
       "                        <td id=\"T_44afd2da_0f71_11eb_8b2c_9848271e970brow0_col2\" class=\"data row0 col2\" >78.23%</td>\n",
       "            </tr>\n",
       "            <tr>\n",
       "                        <th id=\"T_44afd2da_0f71_11eb_8b2c_9848271e970blevel0_row1\" class=\"row_heading level0 row1\" >Age</th>\n",
       "                        <td id=\"T_44afd2da_0f71_11eb_8b2c_9848271e970brow1_col0\" class=\"data row1 col0\" >86</td>\n",
       "                        <td id=\"T_44afd2da_0f71_11eb_8b2c_9848271e970brow1_col1\" class=\"data row1 col1\" >418</td>\n",
       "                        <td id=\"T_44afd2da_0f71_11eb_8b2c_9848271e970brow1_col2\" class=\"data row1 col2\" >20.57%</td>\n",
       "            </tr>\n",
       "            <tr>\n",
       "                        <th id=\"T_44afd2da_0f71_11eb_8b2c_9848271e970blevel0_row2\" class=\"row_heading level0 row2\" >Fare</th>\n",
       "                        <td id=\"T_44afd2da_0f71_11eb_8b2c_9848271e970brow2_col0\" class=\"data row2 col0\" >1</td>\n",
       "                        <td id=\"T_44afd2da_0f71_11eb_8b2c_9848271e970brow2_col1\" class=\"data row2 col1\" >418</td>\n",
       "                        <td id=\"T_44afd2da_0f71_11eb_8b2c_9848271e970brow2_col2\" class=\"data row2 col2\" >0.24%</td>\n",
       "            </tr>\n",
       "            <tr>\n",
       "                        <th id=\"T_44afd2da_0f71_11eb_8b2c_9848271e970blevel0_row3\" class=\"row_heading level0 row3\" >Pclass</th>\n",
       "                        <td id=\"T_44afd2da_0f71_11eb_8b2c_9848271e970brow3_col0\" class=\"data row3 col0\" >0</td>\n",
       "                        <td id=\"T_44afd2da_0f71_11eb_8b2c_9848271e970brow3_col1\" class=\"data row3 col1\" >418</td>\n",
       "                        <td id=\"T_44afd2da_0f71_11eb_8b2c_9848271e970brow3_col2\" class=\"data row3 col2\" >0.00%</td>\n",
       "            </tr>\n",
       "            <tr>\n",
       "                        <th id=\"T_44afd2da_0f71_11eb_8b2c_9848271e970blevel0_row4\" class=\"row_heading level0 row4\" >Sex</th>\n",
       "                        <td id=\"T_44afd2da_0f71_11eb_8b2c_9848271e970brow4_col0\" class=\"data row4 col0\" >0</td>\n",
       "                        <td id=\"T_44afd2da_0f71_11eb_8b2c_9848271e970brow4_col1\" class=\"data row4 col1\" >418</td>\n",
       "                        <td id=\"T_44afd2da_0f71_11eb_8b2c_9848271e970brow4_col2\" class=\"data row4 col2\" >0.00%</td>\n",
       "            </tr>\n",
       "            <tr>\n",
       "                        <th id=\"T_44afd2da_0f71_11eb_8b2c_9848271e970blevel0_row5\" class=\"row_heading level0 row5\" >SibSp</th>\n",
       "                        <td id=\"T_44afd2da_0f71_11eb_8b2c_9848271e970brow5_col0\" class=\"data row5 col0\" >0</td>\n",
       "                        <td id=\"T_44afd2da_0f71_11eb_8b2c_9848271e970brow5_col1\" class=\"data row5 col1\" >418</td>\n",
       "                        <td id=\"T_44afd2da_0f71_11eb_8b2c_9848271e970brow5_col2\" class=\"data row5 col2\" >0.00%</td>\n",
       "            </tr>\n",
       "            <tr>\n",
       "                        <th id=\"T_44afd2da_0f71_11eb_8b2c_9848271e970blevel0_row6\" class=\"row_heading level0 row6\" >Parch</th>\n",
       "                        <td id=\"T_44afd2da_0f71_11eb_8b2c_9848271e970brow6_col0\" class=\"data row6 col0\" >0</td>\n",
       "                        <td id=\"T_44afd2da_0f71_11eb_8b2c_9848271e970brow6_col1\" class=\"data row6 col1\" >418</td>\n",
       "                        <td id=\"T_44afd2da_0f71_11eb_8b2c_9848271e970brow6_col2\" class=\"data row6 col2\" >0.00%</td>\n",
       "            </tr>\n",
       "            <tr>\n",
       "                        <th id=\"T_44afd2da_0f71_11eb_8b2c_9848271e970blevel0_row7\" class=\"row_heading level0 row7\" >Embarked</th>\n",
       "                        <td id=\"T_44afd2da_0f71_11eb_8b2c_9848271e970brow7_col0\" class=\"data row7 col0\" >0</td>\n",
       "                        <td id=\"T_44afd2da_0f71_11eb_8b2c_9848271e970brow7_col1\" class=\"data row7 col1\" >418</td>\n",
       "                        <td id=\"T_44afd2da_0f71_11eb_8b2c_9848271e970brow7_col2\" class=\"data row7 col2\" >0.00%</td>\n",
       "            </tr>\n",
       "    </tbody></table>"
      ],
      "text/plain": [
       "<pandas.io.formats.style.Styler at 0x2779327a088>"
      ]
     },
     "execution_count": 11,
     "metadata": {},
     "output_type": "execute_result"
    }
   ],
   "source": [
    "X_test.stb.missing(style=True)"
   ]
  },
  {
   "cell_type": "code",
   "execution_count": 12,
   "metadata": {},
   "outputs": [],
   "source": [
    "# Get X_train and y_train\n",
    "y_train = df.Survived.copy()\n",
    "X_train = df.drop(columns='Survived').copy()"
   ]
  },
  {
   "cell_type": "code",
   "execution_count": 13,
   "metadata": {},
   "outputs": [],
   "source": [
    "# Retrive num_cols and cat_cols\n",
    "num_cols = list(X_train._get_numeric_data().columns)\n",
    "cat_cols = list(set(X_train.columns) - set(num_cols))"
   ]
  },
  {
   "cell_type": "code",
   "execution_count": 14,
   "metadata": {},
   "outputs": [
    {
     "name": "stdout",
     "output_type": "stream",
     "text": [
      "['Pclass', 'Age', 'SibSp', 'Parch', 'Fare'] ['Cabin', 'Sex', 'Embarked']\n"
     ]
    }
   ],
   "source": [
    "print(num_cols, cat_cols)"
   ]
  },
  {
   "cell_type": "code",
   "execution_count": 15,
   "metadata": {},
   "outputs": [],
   "source": [
    "# Encode cat_cols\n",
    "X_train = pd.get_dummies(data=X_train, columns=cat_cols, drop_first=True)\n",
    "X_test = pd.get_dummies(data=X_test, columns=cat_cols, drop_first=True)"
   ]
  },
  {
   "cell_type": "markdown",
   "metadata": {},
   "source": [
    "### As XGBoost can handle missing and unscaled data, I only have to encode categorical data"
   ]
  },
  {
   "cell_type": "code",
   "execution_count": 16,
   "metadata": {},
   "outputs": [
    {
     "name": "stdout",
     "output_type": "stream",
     "text": [
      "Fitting 5 folds for each of 96 candidates, totalling 480 fits\n"
     ]
    },
    {
     "name": "stderr",
     "output_type": "stream",
     "text": [
      "[Parallel(n_jobs=-1)]: Using backend LokyBackend with 4 concurrent workers.\n",
      "[Parallel(n_jobs=-1)]: Done  42 tasks      | elapsed:    4.7s\n",
      "[Parallel(n_jobs=-1)]: Done 192 tasks      | elapsed:   24.5s\n",
      "[Parallel(n_jobs=-1)]: Done 442 tasks      | elapsed:   56.3s\n",
      "[Parallel(n_jobs=-1)]: Done 480 out of 480 | elapsed:  1.0min finished\n"
     ]
    },
    {
     "name": "stdout",
     "output_type": "stream",
     "text": [
      "{'learning_rate': 0.1, 'max_depth': 3, 'n_estimators': 140}\n"
     ]
    },
    {
     "ename": "ValueError",
     "evalue": "feature_names mismatch: ['Pclass', 'Age', 'SibSp', 'Parch', 'Fare', 'Cabin_A14', 'Cabin_A16', 'Cabin_A19', 'Cabin_A20', 'Cabin_A23', 'Cabin_A24', 'Cabin_A26', 'Cabin_A31', 'Cabin_A32', 'Cabin_A34', 'Cabin_A36', 'Cabin_A5', 'Cabin_A6', 'Cabin_A7', 'Cabin_B101', 'Cabin_B102', 'Cabin_B18', 'Cabin_B19', 'Cabin_B20', 'Cabin_B22', 'Cabin_B28', 'Cabin_B3', 'Cabin_B30', 'Cabin_B35', 'Cabin_B37', 'Cabin_B38', 'Cabin_B39', 'Cabin_B4', 'Cabin_B41', 'Cabin_B42', 'Cabin_B49', 'Cabin_B5', 'Cabin_B50', 'Cabin_B51 B53 B55', 'Cabin_B57 B59 B63 B66', 'Cabin_B58 B60', 'Cabin_B69', 'Cabin_B71', 'Cabin_B73', 'Cabin_B77', 'Cabin_B78', 'Cabin_B79', 'Cabin_B80', 'Cabin_B82 B84', 'Cabin_B86', 'Cabin_B94', 'Cabin_B96 B98', 'Cabin_C101', 'Cabin_C103', 'Cabin_C104', 'Cabin_C106', 'Cabin_C110', 'Cabin_C111', 'Cabin_C118', 'Cabin_C123', 'Cabin_C124', 'Cabin_C125', 'Cabin_C126', 'Cabin_C128', 'Cabin_C148', 'Cabin_C2', 'Cabin_C22 C26', 'Cabin_C23 C25 C27', 'Cabin_C30', 'Cabin_C32', 'Cabin_C45', 'Cabin_C46', 'Cabin_C47', 'Cabin_C49', 'Cabin_C50', 'Cabin_C52', 'Cabin_C54', 'Cabin_C62 C64', 'Cabin_C65', 'Cabin_C68', 'Cabin_C7', 'Cabin_C70', 'Cabin_C78', 'Cabin_C82', 'Cabin_C83', 'Cabin_C85', 'Cabin_C86', 'Cabin_C87', 'Cabin_C90', 'Cabin_C91', 'Cabin_C92', 'Cabin_C93', 'Cabin_C95', 'Cabin_C99', 'Cabin_D', 'Cabin_D10 D12', 'Cabin_D11', 'Cabin_D15', 'Cabin_D17', 'Cabin_D19', 'Cabin_D20', 'Cabin_D21', 'Cabin_D26', 'Cabin_D28', 'Cabin_D30', 'Cabin_D33', 'Cabin_D35', 'Cabin_D36', 'Cabin_D37', 'Cabin_D45', 'Cabin_D46', 'Cabin_D47', 'Cabin_D48', 'Cabin_D49', 'Cabin_D50', 'Cabin_D56', 'Cabin_D6', 'Cabin_D7', 'Cabin_D9', 'Cabin_E10', 'Cabin_E101', 'Cabin_E12', 'Cabin_E121', 'Cabin_E17', 'Cabin_E24', 'Cabin_E25', 'Cabin_E31', 'Cabin_E33', 'Cabin_E34', 'Cabin_E36', 'Cabin_E38', 'Cabin_E40', 'Cabin_E44', 'Cabin_E46', 'Cabin_E49', 'Cabin_E50', 'Cabin_E58', 'Cabin_E63', 'Cabin_E67', 'Cabin_E68', 'Cabin_E77', 'Cabin_E8', 'Cabin_F E69', 'Cabin_F G63', 'Cabin_F G73', 'Cabin_F2', 'Cabin_F33', 'Cabin_F38', 'Cabin_F4', 'Cabin_G6', 'Cabin_T', 'Sex_male', 'Embarked_Q', 'Embarked_S'] ['Pclass', 'Age', 'SibSp', 'Parch', 'Fare', 'Cabin_A18', 'Cabin_A21', 'Cabin_A29', 'Cabin_A34', 'Cabin_A9', 'Cabin_B10', 'Cabin_B11', 'Cabin_B24', 'Cabin_B26', 'Cabin_B36', 'Cabin_B41', 'Cabin_B45', 'Cabin_B51 B53 B55', 'Cabin_B52 B54 B56', 'Cabin_B57 B59 B63 B66', 'Cabin_B58 B60', 'Cabin_B61', 'Cabin_B69', 'Cabin_B71', 'Cabin_B78', 'Cabin_C101', 'Cabin_C105', 'Cabin_C106', 'Cabin_C116', 'Cabin_C130', 'Cabin_C132', 'Cabin_C22 C26', 'Cabin_C23 C25 C27', 'Cabin_C28', 'Cabin_C31', 'Cabin_C32', 'Cabin_C39', 'Cabin_C46', 'Cabin_C51', 'Cabin_C53', 'Cabin_C54', 'Cabin_C55 C57', 'Cabin_C6', 'Cabin_C62 C64', 'Cabin_C7', 'Cabin_C78', 'Cabin_C80', 'Cabin_C85', 'Cabin_C86', 'Cabin_C89', 'Cabin_C97', 'Cabin_D', 'Cabin_D10 D12', 'Cabin_D15', 'Cabin_D19', 'Cabin_D21', 'Cabin_D22', 'Cabin_D28', 'Cabin_D30', 'Cabin_D34', 'Cabin_D37', 'Cabin_D38', 'Cabin_D40', 'Cabin_D43', 'Cabin_E31', 'Cabin_E34', 'Cabin_E39 E41', 'Cabin_E45', 'Cabin_E46', 'Cabin_E50', 'Cabin_E52', 'Cabin_E60', 'Cabin_F', 'Cabin_F E46', 'Cabin_F E57', 'Cabin_F G63', 'Cabin_F2', 'Cabin_F33', 'Cabin_F4', 'Cabin_G6', 'Sex_male', 'Embarked_Q', 'Embarked_S']\nexpected Cabin_A5, Cabin_D56, Cabin_E38, Cabin_B49, Cabin_C83, Cabin_C128, Cabin_C68, Cabin_E77, Cabin_B5, Cabin_E63, Cabin_D36, Cabin_D7, Cabin_C82, Cabin_E8, Cabin_E121, Cabin_C52, Cabin_B39, Cabin_C45, Cabin_C87, Cabin_B22, Cabin_B101, Cabin_C50, Cabin_B94, Cabin_B3, Cabin_D17, Cabin_C126, Cabin_E33, Cabin_A31, Cabin_B77, Cabin_D35, Cabin_B80, Cabin_F38, Cabin_B50, Cabin_E17, Cabin_D9, Cabin_C93, Cabin_A32, Cabin_E40, Cabin_C30, Cabin_C90, Cabin_C95, Cabin_C91, Cabin_C2, Cabin_E101, Cabin_C148, Cabin_B37, Cabin_C111, Cabin_A24, Cabin_D11, Cabin_D6, Cabin_T, Cabin_B28, Cabin_A36, Cabin_B18, Cabin_B4, Cabin_E12, Cabin_B42, Cabin_A16, Cabin_A23, Cabin_B20, Cabin_E25, Cabin_C99, Cabin_E10, Cabin_C103, Cabin_E67, Cabin_B82 B84, Cabin_A7, Cabin_C118, Cabin_B96 B98, Cabin_D48, Cabin_B73, Cabin_C123, Cabin_C125, Cabin_D46, Cabin_E36, Cabin_D20, Cabin_D47, Cabin_A20, Cabin_C104, Cabin_B38, Cabin_B79, Cabin_D49, Cabin_C92, Cabin_A26, Cabin_C110, Cabin_E24, Cabin_D45, Cabin_E49, Cabin_E68, Cabin_F G73, Cabin_D50, Cabin_A19, Cabin_B19, Cabin_C49, Cabin_B35, Cabin_C124, Cabin_C47, Cabin_A14, Cabin_D26, Cabin_B30, Cabin_E44, Cabin_A6, Cabin_C65, Cabin_B102, Cabin_C70, Cabin_F E69, Cabin_B86, Cabin_D33, Cabin_E58 in input data\ntraining data did not have the following fields: Cabin_D38, Cabin_A9, Cabin_A29, Cabin_C28, Cabin_A21, Cabin_C89, Cabin_F E46, Cabin_B61, Cabin_E52, Cabin_B45, Cabin_A18, Cabin_F, Cabin_B26, Cabin_D22, Cabin_C6, Cabin_D40, Cabin_B11, Cabin_C31, Cabin_B36, Cabin_E60, Cabin_D34, Cabin_C105, Cabin_D43, Cabin_C39, Cabin_C116, Cabin_B52 B54 B56, Cabin_C80, Cabin_B24, Cabin_C51, Cabin_F E57, Cabin_C130, Cabin_C55 C57, Cabin_C132, Cabin_E39 E41, Cabin_B10, Cabin_C53, Cabin_E45, Cabin_C97",
     "output_type": "error",
     "traceback": [
      "\u001b[1;31m---------------------------------------------------------------------------\u001b[0m",
      "\u001b[1;31mValueError\u001b[0m                                Traceback (most recent call last)",
      "\u001b[1;32m<ipython-input-16-7f4c40603714>\u001b[0m in \u001b[0;36m<module>\u001b[1;34m\u001b[0m\n\u001b[1;32m----> 1\u001b[1;33m \u001b[0mpredictions\u001b[0m \u001b[1;33m=\u001b[0m \u001b[0mDataScience\u001b[0m\u001b[1;33m.\u001b[0m\u001b[0mxgb_classifier\u001b[0m\u001b[1;33m(\u001b[0m\u001b[0mX_train\u001b[0m\u001b[1;33m,\u001b[0m \u001b[0my_train\u001b[0m\u001b[1;33m,\u001b[0m \u001b[0mX_test\u001b[0m\u001b[1;33m)\u001b[0m\u001b[1;33m\u001b[0m\u001b[1;33m\u001b[0m\u001b[0m\n\u001b[0m",
      "\u001b[1;32mD:\\GitHub\\Practice-Data-Science\\Package\\DataScience.py\u001b[0m in \u001b[0;36mxgb_classifier\u001b[1;34m(X_train, y_train, X_test)\u001b[0m\n\u001b[0;32m     58\u001b[0m \u001b[1;33m\u001b[0m\u001b[0m\n\u001b[0;32m     59\u001b[0m     \u001b[1;31m# Predict y\u001b[0m\u001b[1;33m\u001b[0m\u001b[1;33m\u001b[0m\u001b[1;33m\u001b[0m\u001b[0m\n\u001b[1;32m---> 60\u001b[1;33m     \u001b[0mpredictions\u001b[0m \u001b[1;33m=\u001b[0m \u001b[0mbest_grid\u001b[0m\u001b[1;33m.\u001b[0m\u001b[0mpredict\u001b[0m\u001b[1;33m(\u001b[0m\u001b[0mX_test\u001b[0m\u001b[1;33m)\u001b[0m\u001b[1;33m\u001b[0m\u001b[1;33m\u001b[0m\u001b[0m\n\u001b[0m\u001b[0;32m     61\u001b[0m     \u001b[1;32mreturn\u001b[0m \u001b[0mpredictions\u001b[0m\u001b[1;33m\u001b[0m\u001b[1;33m\u001b[0m\u001b[0m\n\u001b[0;32m     62\u001b[0m \u001b[1;33m\u001b[0m\u001b[0m\n",
      "\u001b[1;32mC:\\ProgramData\\Anaconda3\\lib\\site-packages\\xgboost\\sklearn.py\u001b[0m in \u001b[0;36mpredict\u001b[1;34m(self, data, output_margin, ntree_limit, validate_features)\u001b[0m\n\u001b[0;32m    789\u001b[0m                                                  \u001b[0moutput_margin\u001b[0m\u001b[1;33m=\u001b[0m\u001b[0moutput_margin\u001b[0m\u001b[1;33m,\u001b[0m\u001b[1;33m\u001b[0m\u001b[1;33m\u001b[0m\u001b[0m\n\u001b[0;32m    790\u001b[0m                                                  \u001b[0mntree_limit\u001b[0m\u001b[1;33m=\u001b[0m\u001b[0mntree_limit\u001b[0m\u001b[1;33m,\u001b[0m\u001b[1;33m\u001b[0m\u001b[1;33m\u001b[0m\u001b[0m\n\u001b[1;32m--> 791\u001b[1;33m                                                  validate_features=validate_features)\n\u001b[0m\u001b[0;32m    792\u001b[0m         \u001b[1;32mif\u001b[0m \u001b[0moutput_margin\u001b[0m\u001b[1;33m:\u001b[0m\u001b[1;33m\u001b[0m\u001b[1;33m\u001b[0m\u001b[0m\n\u001b[0;32m    793\u001b[0m             \u001b[1;31m# If output_margin is active, simply return the scores\u001b[0m\u001b[1;33m\u001b[0m\u001b[1;33m\u001b[0m\u001b[1;33m\u001b[0m\u001b[0m\n",
      "\u001b[1;32mC:\\ProgramData\\Anaconda3\\lib\\site-packages\\xgboost\\core.py\u001b[0m in \u001b[0;36mpredict\u001b[1;34m(self, data, output_margin, ntree_limit, pred_leaf, pred_contribs, approx_contribs, pred_interactions, validate_features)\u001b[0m\n\u001b[0;32m   1282\u001b[0m \u001b[1;33m\u001b[0m\u001b[0m\n\u001b[0;32m   1283\u001b[0m         \u001b[1;32mif\u001b[0m \u001b[0mvalidate_features\u001b[0m\u001b[1;33m:\u001b[0m\u001b[1;33m\u001b[0m\u001b[1;33m\u001b[0m\u001b[0m\n\u001b[1;32m-> 1284\u001b[1;33m             \u001b[0mself\u001b[0m\u001b[1;33m.\u001b[0m\u001b[0m_validate_features\u001b[0m\u001b[1;33m(\u001b[0m\u001b[0mdata\u001b[0m\u001b[1;33m)\u001b[0m\u001b[1;33m\u001b[0m\u001b[1;33m\u001b[0m\u001b[0m\n\u001b[0m\u001b[0;32m   1285\u001b[0m \u001b[1;33m\u001b[0m\u001b[0m\n\u001b[0;32m   1286\u001b[0m         \u001b[0mlength\u001b[0m \u001b[1;33m=\u001b[0m \u001b[0mc_bst_ulong\u001b[0m\u001b[1;33m(\u001b[0m\u001b[1;33m)\u001b[0m\u001b[1;33m\u001b[0m\u001b[1;33m\u001b[0m\u001b[0m\n",
      "\u001b[1;32mC:\\ProgramData\\Anaconda3\\lib\\site-packages\\xgboost\\core.py\u001b[0m in \u001b[0;36m_validate_features\u001b[1;34m(self, data)\u001b[0m\n\u001b[0;32m   1688\u001b[0m \u001b[1;33m\u001b[0m\u001b[0m\n\u001b[0;32m   1689\u001b[0m                 raise ValueError(msg.format(self.feature_names,\n\u001b[1;32m-> 1690\u001b[1;33m                                             data.feature_names))\n\u001b[0m\u001b[0;32m   1691\u001b[0m \u001b[1;33m\u001b[0m\u001b[0m\n\u001b[0;32m   1692\u001b[0m     \u001b[1;32mdef\u001b[0m \u001b[0mget_split_value_histogram\u001b[0m\u001b[1;33m(\u001b[0m\u001b[0mself\u001b[0m\u001b[1;33m,\u001b[0m \u001b[0mfeature\u001b[0m\u001b[1;33m,\u001b[0m \u001b[0mfmap\u001b[0m\u001b[1;33m=\u001b[0m\u001b[1;34m''\u001b[0m\u001b[1;33m,\u001b[0m \u001b[0mbins\u001b[0m\u001b[1;33m=\u001b[0m\u001b[1;32mNone\u001b[0m\u001b[1;33m,\u001b[0m \u001b[0mas_pandas\u001b[0m\u001b[1;33m=\u001b[0m\u001b[1;32mTrue\u001b[0m\u001b[1;33m)\u001b[0m\u001b[1;33m:\u001b[0m\u001b[1;33m\u001b[0m\u001b[1;33m\u001b[0m\u001b[0m\n",
      "\u001b[1;31mValueError\u001b[0m: feature_names mismatch: ['Pclass', 'Age', 'SibSp', 'Parch', 'Fare', 'Cabin_A14', 'Cabin_A16', 'Cabin_A19', 'Cabin_A20', 'Cabin_A23', 'Cabin_A24', 'Cabin_A26', 'Cabin_A31', 'Cabin_A32', 'Cabin_A34', 'Cabin_A36', 'Cabin_A5', 'Cabin_A6', 'Cabin_A7', 'Cabin_B101', 'Cabin_B102', 'Cabin_B18', 'Cabin_B19', 'Cabin_B20', 'Cabin_B22', 'Cabin_B28', 'Cabin_B3', 'Cabin_B30', 'Cabin_B35', 'Cabin_B37', 'Cabin_B38', 'Cabin_B39', 'Cabin_B4', 'Cabin_B41', 'Cabin_B42', 'Cabin_B49', 'Cabin_B5', 'Cabin_B50', 'Cabin_B51 B53 B55', 'Cabin_B57 B59 B63 B66', 'Cabin_B58 B60', 'Cabin_B69', 'Cabin_B71', 'Cabin_B73', 'Cabin_B77', 'Cabin_B78', 'Cabin_B79', 'Cabin_B80', 'Cabin_B82 B84', 'Cabin_B86', 'Cabin_B94', 'Cabin_B96 B98', 'Cabin_C101', 'Cabin_C103', 'Cabin_C104', 'Cabin_C106', 'Cabin_C110', 'Cabin_C111', 'Cabin_C118', 'Cabin_C123', 'Cabin_C124', 'Cabin_C125', 'Cabin_C126', 'Cabin_C128', 'Cabin_C148', 'Cabin_C2', 'Cabin_C22 C26', 'Cabin_C23 C25 C27', 'Cabin_C30', 'Cabin_C32', 'Cabin_C45', 'Cabin_C46', 'Cabin_C47', 'Cabin_C49', 'Cabin_C50', 'Cabin_C52', 'Cabin_C54', 'Cabin_C62 C64', 'Cabin_C65', 'Cabin_C68', 'Cabin_C7', 'Cabin_C70', 'Cabin_C78', 'Cabin_C82', 'Cabin_C83', 'Cabin_C85', 'Cabin_C86', 'Cabin_C87', 'Cabin_C90', 'Cabin_C91', 'Cabin_C92', 'Cabin_C93', 'Cabin_C95', 'Cabin_C99', 'Cabin_D', 'Cabin_D10 D12', 'Cabin_D11', 'Cabin_D15', 'Cabin_D17', 'Cabin_D19', 'Cabin_D20', 'Cabin_D21', 'Cabin_D26', 'Cabin_D28', 'Cabin_D30', 'Cabin_D33', 'Cabin_D35', 'Cabin_D36', 'Cabin_D37', 'Cabin_D45', 'Cabin_D46', 'Cabin_D47', 'Cabin_D48', 'Cabin_D49', 'Cabin_D50', 'Cabin_D56', 'Cabin_D6', 'Cabin_D7', 'Cabin_D9', 'Cabin_E10', 'Cabin_E101', 'Cabin_E12', 'Cabin_E121', 'Cabin_E17', 'Cabin_E24', 'Cabin_E25', 'Cabin_E31', 'Cabin_E33', 'Cabin_E34', 'Cabin_E36', 'Cabin_E38', 'Cabin_E40', 'Cabin_E44', 'Cabin_E46', 'Cabin_E49', 'Cabin_E50', 'Cabin_E58', 'Cabin_E63', 'Cabin_E67', 'Cabin_E68', 'Cabin_E77', 'Cabin_E8', 'Cabin_F E69', 'Cabin_F G63', 'Cabin_F G73', 'Cabin_F2', 'Cabin_F33', 'Cabin_F38', 'Cabin_F4', 'Cabin_G6', 'Cabin_T', 'Sex_male', 'Embarked_Q', 'Embarked_S'] ['Pclass', 'Age', 'SibSp', 'Parch', 'Fare', 'Cabin_A18', 'Cabin_A21', 'Cabin_A29', 'Cabin_A34', 'Cabin_A9', 'Cabin_B10', 'Cabin_B11', 'Cabin_B24', 'Cabin_B26', 'Cabin_B36', 'Cabin_B41', 'Cabin_B45', 'Cabin_B51 B53 B55', 'Cabin_B52 B54 B56', 'Cabin_B57 B59 B63 B66', 'Cabin_B58 B60', 'Cabin_B61', 'Cabin_B69', 'Cabin_B71', 'Cabin_B78', 'Cabin_C101', 'Cabin_C105', 'Cabin_C106', 'Cabin_C116', 'Cabin_C130', 'Cabin_C132', 'Cabin_C22 C26', 'Cabin_C23 C25 C27', 'Cabin_C28', 'Cabin_C31', 'Cabin_C32', 'Cabin_C39', 'Cabin_C46', 'Cabin_C51', 'Cabin_C53', 'Cabin_C54', 'Cabin_C55 C57', 'Cabin_C6', 'Cabin_C62 C64', 'Cabin_C7', 'Cabin_C78', 'Cabin_C80', 'Cabin_C85', 'Cabin_C86', 'Cabin_C89', 'Cabin_C97', 'Cabin_D', 'Cabin_D10 D12', 'Cabin_D15', 'Cabin_D19', 'Cabin_D21', 'Cabin_D22', 'Cabin_D28', 'Cabin_D30', 'Cabin_D34', 'Cabin_D37', 'Cabin_D38', 'Cabin_D40', 'Cabin_D43', 'Cabin_E31', 'Cabin_E34', 'Cabin_E39 E41', 'Cabin_E45', 'Cabin_E46', 'Cabin_E50', 'Cabin_E52', 'Cabin_E60', 'Cabin_F', 'Cabin_F E46', 'Cabin_F E57', 'Cabin_F G63', 'Cabin_F2', 'Cabin_F33', 'Cabin_F4', 'Cabin_G6', 'Sex_male', 'Embarked_Q', 'Embarked_S']\nexpected Cabin_A5, Cabin_D56, Cabin_E38, Cabin_B49, Cabin_C83, Cabin_C128, Cabin_C68, Cabin_E77, Cabin_B5, Cabin_E63, Cabin_D36, Cabin_D7, Cabin_C82, Cabin_E8, Cabin_E121, Cabin_C52, Cabin_B39, Cabin_C45, Cabin_C87, Cabin_B22, Cabin_B101, Cabin_C50, Cabin_B94, Cabin_B3, Cabin_D17, Cabin_C126, Cabin_E33, Cabin_A31, Cabin_B77, Cabin_D35, Cabin_B80, Cabin_F38, Cabin_B50, Cabin_E17, Cabin_D9, Cabin_C93, Cabin_A32, Cabin_E40, Cabin_C30, Cabin_C90, Cabin_C95, Cabin_C91, Cabin_C2, Cabin_E101, Cabin_C148, Cabin_B37, Cabin_C111, Cabin_A24, Cabin_D11, Cabin_D6, Cabin_T, Cabin_B28, Cabin_A36, Cabin_B18, Cabin_B4, Cabin_E12, Cabin_B42, Cabin_A16, Cabin_A23, Cabin_B20, Cabin_E25, Cabin_C99, Cabin_E10, Cabin_C103, Cabin_E67, Cabin_B82 B84, Cabin_A7, Cabin_C118, Cabin_B96 B98, Cabin_D48, Cabin_B73, Cabin_C123, Cabin_C125, Cabin_D46, Cabin_E36, Cabin_D20, Cabin_D47, Cabin_A20, Cabin_C104, Cabin_B38, Cabin_B79, Cabin_D49, Cabin_C92, Cabin_A26, Cabin_C110, Cabin_E24, Cabin_D45, Cabin_E49, Cabin_E68, Cabin_F G73, Cabin_D50, Cabin_A19, Cabin_B19, Cabin_C49, Cabin_B35, Cabin_C124, Cabin_C47, Cabin_A14, Cabin_D26, Cabin_B30, Cabin_E44, Cabin_A6, Cabin_C65, Cabin_B102, Cabin_C70, Cabin_F E69, Cabin_B86, Cabin_D33, Cabin_E58 in input data\ntraining data did not have the following fields: Cabin_D38, Cabin_A9, Cabin_A29, Cabin_C28, Cabin_A21, Cabin_C89, Cabin_F E46, Cabin_B61, Cabin_E52, Cabin_B45, Cabin_A18, Cabin_F, Cabin_B26, Cabin_D22, Cabin_C6, Cabin_D40, Cabin_B11, Cabin_C31, Cabin_B36, Cabin_E60, Cabin_D34, Cabin_C105, Cabin_D43, Cabin_C39, Cabin_C116, Cabin_B52 B54 B56, Cabin_C80, Cabin_B24, Cabin_C51, Cabin_F E57, Cabin_C130, Cabin_C55 C57, Cabin_C132, Cabin_E39 E41, Cabin_B10, Cabin_C53, Cabin_E45, Cabin_C97"
     ]
    }
   ],
   "source": [
    "predictions = DataScience.xgb_classifier(X_train, y_train, X_test)"
   ]
  },
  {
   "cell_type": "code",
   "execution_count": null,
   "metadata": {},
   "outputs": [],
   "source": [
    "# Get the index of the predicted table\n",
    "index = X_test.index\n",
    "predictions = pd.DataFrame(predictions, columns=['Survived'], index=index)\n",
    "\n",
    "# saving the DataFrame as a CSV file \n",
    "csv_data = predictions.to_csv('Predictions.csv', index = True) "
   ]
  },
  {
   "cell_type": "code",
   "execution_count": null,
   "metadata": {},
   "outputs": [],
   "source": [
    "# Verify the prediction's format\n",
    "print(predictions.head())"
   ]
  }
 ],
 "metadata": {
  "kernelspec": {
   "display_name": "Python 3",
   "language": "python",
   "name": "python3"
  },
  "language_info": {
   "codemirror_mode": {
    "name": "ipython",
    "version": 3
   },
   "file_extension": ".py",
   "mimetype": "text/x-python",
   "name": "python",
   "nbconvert_exporter": "python",
   "pygments_lexer": "ipython3",
   "version": "3.7.9"
  }
 },
 "nbformat": 4,
 "nbformat_minor": 4
}
