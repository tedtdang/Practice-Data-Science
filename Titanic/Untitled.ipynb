{
 "cells": [
  {
   "cell_type": "markdown",
   "id": "interstate-telescope",
   "metadata": {},
   "source": [
    "### Data sets were acquired from https://www.kaggle.com/c/titanic"
   ]
  },
  {
   "cell_type": "code",
   "execution_count": 1,
   "id": "complete-being",
   "metadata": {
    "execution": {
     "iopub.execute_input": "2021-05-12T18:25:47.542644Z",
     "iopub.status.busy": "2021-05-12T18:25:47.541642Z",
     "iopub.status.idle": "2021-05-12T18:25:47.560659Z",
     "shell.execute_reply": "2021-05-12T18:25:47.559658Z",
     "shell.execute_reply.started": "2021-05-12T18:25:47.541642Z"
    }
   },
   "outputs": [],
   "source": [
    "import warnings\n",
    "warnings.filterwarnings('ignore')"
   ]
  },
  {
   "cell_type": "code",
   "execution_count": 2,
   "id": "prime-richardson",
   "metadata": {
    "execution": {
     "iopub.execute_input": "2021-05-12T18:25:47.561661Z",
     "iopub.status.busy": "2021-05-12T18:25:47.561661Z",
     "iopub.status.idle": "2021-05-12T18:25:49.800663Z",
     "shell.execute_reply": "2021-05-12T18:25:49.800663Z",
     "shell.execute_reply.started": "2021-05-12T18:25:47.561661Z"
    },
    "scrolled": true
   },
   "outputs": [],
   "source": [
    "import pandas as pd\n",
    "import numpy as np\n",
    "import matplotlib.pyplot as plt\n",
    "import seaborn as sns\n",
    "import missingno as mnso\n",
    "sns.set_style('darkgrid')\n",
    "%matplotlib inline\n",
    "\n",
    "df_train = pd.read_csv('train.csv', index_col=['PassengerId'])\n",
    "X_test = pd.read_csv('test.csv', index_col=['PassengerId'])\n",
    "X_train = df_train.drop(columns=['Survived']).copy()\n",
    "y_train = df_train['Survived'].copy()\n",
    "train_test = pd.concat([X_train, X_test])\n",
    "test_index = X_test.index"
   ]
  },
  {
   "cell_type": "code",
   "execution_count": 3,
   "id": "champion-complexity",
   "metadata": {
    "execution": {
     "iopub.execute_input": "2021-05-12T18:25:49.802657Z",
     "iopub.status.busy": "2021-05-12T18:25:49.802657Z",
     "iopub.status.idle": "2021-05-12T18:25:49.834687Z",
     "shell.execute_reply": "2021-05-12T18:25:49.832685Z",
     "shell.execute_reply.started": "2021-05-12T18:25:49.802657Z"
    }
   },
   "outputs": [
    {
     "data": {
      "text/html": [
       "<div>\n",
       "<style scoped>\n",
       "    .dataframe tbody tr th:only-of-type {\n",
       "        vertical-align: middle;\n",
       "    }\n",
       "\n",
       "    .dataframe tbody tr th {\n",
       "        vertical-align: top;\n",
       "    }\n",
       "\n",
       "    .dataframe thead th {\n",
       "        text-align: right;\n",
       "    }\n",
       "</style>\n",
       "<table border=\"1\" class=\"dataframe\">\n",
       "  <thead>\n",
       "    <tr style=\"text-align: right;\">\n",
       "      <th></th>\n",
       "      <th>Survived</th>\n",
       "      <th>Pclass</th>\n",
       "      <th>Name</th>\n",
       "      <th>Sex</th>\n",
       "      <th>Age</th>\n",
       "      <th>SibSp</th>\n",
       "      <th>Parch</th>\n",
       "      <th>Ticket</th>\n",
       "      <th>Fare</th>\n",
       "      <th>Cabin</th>\n",
       "      <th>Embarked</th>\n",
       "    </tr>\n",
       "    <tr>\n",
       "      <th>PassengerId</th>\n",
       "      <th></th>\n",
       "      <th></th>\n",
       "      <th></th>\n",
       "      <th></th>\n",
       "      <th></th>\n",
       "      <th></th>\n",
       "      <th></th>\n",
       "      <th></th>\n",
       "      <th></th>\n",
       "      <th></th>\n",
       "      <th></th>\n",
       "    </tr>\n",
       "  </thead>\n",
       "  <tbody>\n",
       "    <tr>\n",
       "      <th>1</th>\n",
       "      <td>0</td>\n",
       "      <td>3</td>\n",
       "      <td>Braund, Mr. Owen Harris</td>\n",
       "      <td>male</td>\n",
       "      <td>22.0</td>\n",
       "      <td>1</td>\n",
       "      <td>0</td>\n",
       "      <td>A/5 21171</td>\n",
       "      <td>7.2500</td>\n",
       "      <td>NaN</td>\n",
       "      <td>S</td>\n",
       "    </tr>\n",
       "    <tr>\n",
       "      <th>2</th>\n",
       "      <td>1</td>\n",
       "      <td>1</td>\n",
       "      <td>Cumings, Mrs. John Bradley (Florence Briggs Th...</td>\n",
       "      <td>female</td>\n",
       "      <td>38.0</td>\n",
       "      <td>1</td>\n",
       "      <td>0</td>\n",
       "      <td>PC 17599</td>\n",
       "      <td>71.2833</td>\n",
       "      <td>C85</td>\n",
       "      <td>C</td>\n",
       "    </tr>\n",
       "    <tr>\n",
       "      <th>3</th>\n",
       "      <td>1</td>\n",
       "      <td>3</td>\n",
       "      <td>Heikkinen, Miss. Laina</td>\n",
       "      <td>female</td>\n",
       "      <td>26.0</td>\n",
       "      <td>0</td>\n",
       "      <td>0</td>\n",
       "      <td>STON/O2. 3101282</td>\n",
       "      <td>7.9250</td>\n",
       "      <td>NaN</td>\n",
       "      <td>S</td>\n",
       "    </tr>\n",
       "    <tr>\n",
       "      <th>4</th>\n",
       "      <td>1</td>\n",
       "      <td>1</td>\n",
       "      <td>Futrelle, Mrs. Jacques Heath (Lily May Peel)</td>\n",
       "      <td>female</td>\n",
       "      <td>35.0</td>\n",
       "      <td>1</td>\n",
       "      <td>0</td>\n",
       "      <td>113803</td>\n",
       "      <td>53.1000</td>\n",
       "      <td>C123</td>\n",
       "      <td>S</td>\n",
       "    </tr>\n",
       "    <tr>\n",
       "      <th>5</th>\n",
       "      <td>0</td>\n",
       "      <td>3</td>\n",
       "      <td>Allen, Mr. William Henry</td>\n",
       "      <td>male</td>\n",
       "      <td>35.0</td>\n",
       "      <td>0</td>\n",
       "      <td>0</td>\n",
       "      <td>373450</td>\n",
       "      <td>8.0500</td>\n",
       "      <td>NaN</td>\n",
       "      <td>S</td>\n",
       "    </tr>\n",
       "  </tbody>\n",
       "</table>\n",
       "</div>"
      ],
      "text/plain": [
       "             Survived  Pclass  \\\n",
       "PassengerId                     \n",
       "1                   0       3   \n",
       "2                   1       1   \n",
       "3                   1       3   \n",
       "4                   1       1   \n",
       "5                   0       3   \n",
       "\n",
       "                                                          Name     Sex   Age  \\\n",
       "PassengerId                                                                    \n",
       "1                                      Braund, Mr. Owen Harris    male  22.0   \n",
       "2            Cumings, Mrs. John Bradley (Florence Briggs Th...  female  38.0   \n",
       "3                                       Heikkinen, Miss. Laina  female  26.0   \n",
       "4                 Futrelle, Mrs. Jacques Heath (Lily May Peel)  female  35.0   \n",
       "5                                     Allen, Mr. William Henry    male  35.0   \n",
       "\n",
       "             SibSp  Parch            Ticket     Fare Cabin Embarked  \n",
       "PassengerId                                                          \n",
       "1                1      0         A/5 21171   7.2500   NaN        S  \n",
       "2                1      0          PC 17599  71.2833   C85        C  \n",
       "3                0      0  STON/O2. 3101282   7.9250   NaN        S  \n",
       "4                1      0            113803  53.1000  C123        S  \n",
       "5                0      0            373450   8.0500   NaN        S  "
      ]
     },
     "execution_count": 3,
     "metadata": {},
     "output_type": "execute_result"
    }
   ],
   "source": [
    "df_train.head()"
   ]
  },
  {
   "cell_type": "code",
   "execution_count": 4,
   "id": "revised-relaxation",
   "metadata": {
    "execution": {
     "iopub.execute_input": "2021-05-12T18:25:49.839691Z",
     "iopub.status.busy": "2021-05-12T18:25:49.838690Z",
     "iopub.status.idle": "2021-05-12T18:25:49.848697Z",
     "shell.execute_reply": "2021-05-12T18:25:49.848697Z",
     "shell.execute_reply.started": "2021-05-12T18:25:49.839691Z"
    }
   },
   "outputs": [],
   "source": [
    "train_test = train_test.rename(columns=str.lower)"
   ]
  },
  {
   "cell_type": "code",
   "execution_count": 5,
   "id": "ecological-person",
   "metadata": {
    "execution": {
     "iopub.execute_input": "2021-05-12T18:25:49.850699Z",
     "iopub.status.busy": "2021-05-12T18:25:49.850699Z",
     "iopub.status.idle": "2021-05-12T18:25:49.883732Z",
     "shell.execute_reply": "2021-05-12T18:25:49.880729Z",
     "shell.execute_reply.started": "2021-05-12T18:25:49.850699Z"
    }
   },
   "outputs": [
    {
     "data": {
      "text/html": [
       "<div>\n",
       "<style scoped>\n",
       "    .dataframe tbody tr th:only-of-type {\n",
       "        vertical-align: middle;\n",
       "    }\n",
       "\n",
       "    .dataframe tbody tr th {\n",
       "        vertical-align: top;\n",
       "    }\n",
       "\n",
       "    .dataframe thead th {\n",
       "        text-align: right;\n",
       "    }\n",
       "</style>\n",
       "<table border=\"1\" class=\"dataframe\">\n",
       "  <thead>\n",
       "    <tr style=\"text-align: right;\">\n",
       "      <th></th>\n",
       "      <th>pclass</th>\n",
       "      <th>name</th>\n",
       "      <th>sex</th>\n",
       "      <th>age</th>\n",
       "      <th>sibsp</th>\n",
       "      <th>parch</th>\n",
       "      <th>ticket</th>\n",
       "      <th>fare</th>\n",
       "      <th>cabin</th>\n",
       "      <th>embarked</th>\n",
       "    </tr>\n",
       "    <tr>\n",
       "      <th>PassengerId</th>\n",
       "      <th></th>\n",
       "      <th></th>\n",
       "      <th></th>\n",
       "      <th></th>\n",
       "      <th></th>\n",
       "      <th></th>\n",
       "      <th></th>\n",
       "      <th></th>\n",
       "      <th></th>\n",
       "      <th></th>\n",
       "    </tr>\n",
       "  </thead>\n",
       "  <tbody>\n",
       "    <tr>\n",
       "      <th>1</th>\n",
       "      <td>3</td>\n",
       "      <td>Braund, Mr. Owen Harris</td>\n",
       "      <td>male</td>\n",
       "      <td>22.0</td>\n",
       "      <td>1</td>\n",
       "      <td>0</td>\n",
       "      <td>A/5 21171</td>\n",
       "      <td>7.2500</td>\n",
       "      <td>NaN</td>\n",
       "      <td>S</td>\n",
       "    </tr>\n",
       "    <tr>\n",
       "      <th>2</th>\n",
       "      <td>1</td>\n",
       "      <td>Cumings, Mrs. John Bradley (Florence Briggs Th...</td>\n",
       "      <td>female</td>\n",
       "      <td>38.0</td>\n",
       "      <td>1</td>\n",
       "      <td>0</td>\n",
       "      <td>PC 17599</td>\n",
       "      <td>71.2833</td>\n",
       "      <td>C85</td>\n",
       "      <td>C</td>\n",
       "    </tr>\n",
       "    <tr>\n",
       "      <th>3</th>\n",
       "      <td>3</td>\n",
       "      <td>Heikkinen, Miss. Laina</td>\n",
       "      <td>female</td>\n",
       "      <td>26.0</td>\n",
       "      <td>0</td>\n",
       "      <td>0</td>\n",
       "      <td>STON/O2. 3101282</td>\n",
       "      <td>7.9250</td>\n",
       "      <td>NaN</td>\n",
       "      <td>S</td>\n",
       "    </tr>\n",
       "    <tr>\n",
       "      <th>4</th>\n",
       "      <td>1</td>\n",
       "      <td>Futrelle, Mrs. Jacques Heath (Lily May Peel)</td>\n",
       "      <td>female</td>\n",
       "      <td>35.0</td>\n",
       "      <td>1</td>\n",
       "      <td>0</td>\n",
       "      <td>113803</td>\n",
       "      <td>53.1000</td>\n",
       "      <td>C123</td>\n",
       "      <td>S</td>\n",
       "    </tr>\n",
       "    <tr>\n",
       "      <th>5</th>\n",
       "      <td>3</td>\n",
       "      <td>Allen, Mr. William Henry</td>\n",
       "      <td>male</td>\n",
       "      <td>35.0</td>\n",
       "      <td>0</td>\n",
       "      <td>0</td>\n",
       "      <td>373450</td>\n",
       "      <td>8.0500</td>\n",
       "      <td>NaN</td>\n",
       "      <td>S</td>\n",
       "    </tr>\n",
       "  </tbody>\n",
       "</table>\n",
       "</div>"
      ],
      "text/plain": [
       "             pclass                                               name  \\\n",
       "PassengerId                                                              \n",
       "1                 3                            Braund, Mr. Owen Harris   \n",
       "2                 1  Cumings, Mrs. John Bradley (Florence Briggs Th...   \n",
       "3                 3                             Heikkinen, Miss. Laina   \n",
       "4                 1       Futrelle, Mrs. Jacques Heath (Lily May Peel)   \n",
       "5                 3                           Allen, Mr. William Henry   \n",
       "\n",
       "                sex   age  sibsp  parch            ticket     fare cabin  \\\n",
       "PassengerId                                                                \n",
       "1              male  22.0      1      0         A/5 21171   7.2500   NaN   \n",
       "2            female  38.0      1      0          PC 17599  71.2833   C85   \n",
       "3            female  26.0      0      0  STON/O2. 3101282   7.9250   NaN   \n",
       "4            female  35.0      1      0            113803  53.1000  C123   \n",
       "5              male  35.0      0      0            373450   8.0500   NaN   \n",
       "\n",
       "            embarked  \n",
       "PassengerId           \n",
       "1                  S  \n",
       "2                  C  \n",
       "3                  S  \n",
       "4                  S  \n",
       "5                  S  "
      ]
     },
     "execution_count": 5,
     "metadata": {},
     "output_type": "execute_result"
    }
   ],
   "source": [
    "train_test.head()"
   ]
  },
  {
   "cell_type": "code",
   "execution_count": 6,
   "id": "published-spending",
   "metadata": {
    "execution": {
     "iopub.execute_input": "2021-05-12T18:25:49.886734Z",
     "iopub.status.busy": "2021-05-12T18:25:49.886734Z",
     "iopub.status.idle": "2021-05-12T18:25:50.467270Z",
     "shell.execute_reply": "2021-05-12T18:25:50.467270Z",
     "shell.execute_reply.started": "2021-05-12T18:25:49.886734Z"
    }
   },
   "outputs": [
    {
     "data": {
      "text/plain": [
       "<AxesSubplot:>"
      ]
     },
     "execution_count": 6,
     "metadata": {},
     "output_type": "execute_result"
    },
    {
     "data": {
      "image/png": "[encoded data removed]",
      "text/plain": [
       "<Figure size 576x360 with 3 Axes>"
      ]
     },
     "metadata": {
      "needs_background": "light"
     },
     "output_type": "display_data"
    }
   ],
   "source": [
    "mnso.bar(train_test, figsize=(8, 5))"
   ]
  },
  {
   "cell_type": "markdown",
   "id": "grave-background",
   "metadata": {
    "tags": []
   },
   "source": [
    "### Exploratory Data Analysis"
   ]
  },
  {
   "cell_type": "raw",
   "id": "interracial-tooth",
   "metadata": {
    "execution": {
     "iopub.execute_input": "2021-04-30T05:00:37.291404Z",
     "iopub.status.busy": "2021-04-30T05:00:37.291404Z"
    },
    "tags": []
   },
   "source": [
    "# Create a proflie report on the data\n",
    "from pandas_profiling import ProfileReport\n",
    "\n",
    "profile = ProfileReport(train_test, title='Pandas Profiling Report', explorative=True)\n",
    "profile.to_widgets() # Save widgets to cell\n",
    "profile.to_file(\"Titanic report.html\") # Save report in html extension"
   ]
  },
  {
   "cell_type": "code",
   "execution_count": 7,
   "id": "scientific-jefferson",
   "metadata": {
    "execution": {
     "iopub.execute_input": "2021-05-12T18:25:50.467270Z",
     "iopub.status.busy": "2021-05-12T18:25:50.467270Z",
     "iopub.status.idle": "2021-05-12T18:25:50.482886Z",
     "shell.execute_reply": "2021-05-12T18:25:50.482886Z",
     "shell.execute_reply.started": "2021-05-12T18:25:50.467270Z"
    }
   },
   "outputs": [
    {
     "data": {
      "text/plain": [
       "Age         1.000000\n",
       "Pclass      0.369226\n",
       "SibSp       0.308247\n",
       "Parch       0.189119\n",
       "Fare        0.096067\n",
       "Survived    0.077221\n",
       "Name: Age, dtype: float64"
      ]
     },
     "execution_count": 7,
     "metadata": {},
     "output_type": "execute_result"
    }
   ],
   "source": [
    "# Let's find the correlation between age and other features\n",
    "df_train.corr()['Age'].abs().sort_values(ascending=False)"
   ]
  },
  {
   "cell_type": "markdown",
   "id": "friendly-gothic",
   "metadata": {},
   "source": [
    "We can see that Pclass has the strongest correlation with Age, which is a choice for imputing 'Age'"
   ]
  },
  {
   "cell_type": "code",
   "execution_count": 8,
   "id": "underlying-hampton",
   "metadata": {
    "execution": {
     "iopub.execute_input": "2021-05-12T18:25:50.482886Z",
     "iopub.status.busy": "2021-05-12T18:25:50.482886Z",
     "iopub.status.idle": "2021-05-12T18:25:50.498171Z",
     "shell.execute_reply": "2021-05-12T18:25:50.498171Z",
     "shell.execute_reply.started": "2021-05-12T18:25:50.482886Z"
    }
   },
   "outputs": [],
   "source": [
    "train_test['title'] = train_test['name'].str.extract(r'([a-zA-Z]+)\\.')"
   ]
  },
  {
   "cell_type": "code",
   "execution_count": 9,
   "id": "continuous-prison",
   "metadata": {
    "execution": {
     "iopub.execute_input": "2021-05-12T18:25:50.500165Z",
     "iopub.status.busy": "2021-05-12T18:25:50.500165Z",
     "iopub.status.idle": "2021-05-12T18:25:50.530191Z",
     "shell.execute_reply": "2021-05-12T18:25:50.530191Z",
     "shell.execute_reply.started": "2021-05-12T18:25:50.500165Z"
    }
   },
   "outputs": [
    {
     "data": {
      "text/html": [
       "<div>\n",
       "<style scoped>\n",
       "    .dataframe tbody tr th:only-of-type {\n",
       "        vertical-align: middle;\n",
       "    }\n",
       "\n",
       "    .dataframe tbody tr th {\n",
       "        vertical-align: top;\n",
       "    }\n",
       "\n",
       "    .dataframe thead th {\n",
       "        text-align: right;\n",
       "    }\n",
       "</style>\n",
       "<table border=\"1\" class=\"dataframe\">\n",
       "  <thead>\n",
       "    <tr style=\"text-align: right;\">\n",
       "      <th>sex</th>\n",
       "      <th>female</th>\n",
       "      <th>male</th>\n",
       "    </tr>\n",
       "    <tr>\n",
       "      <th>title</th>\n",
       "      <th></th>\n",
       "      <th></th>\n",
       "    </tr>\n",
       "  </thead>\n",
       "  <tbody>\n",
       "    <tr>\n",
       "      <th>Capt</th>\n",
       "      <td>0</td>\n",
       "      <td>1</td>\n",
       "    </tr>\n",
       "    <tr>\n",
       "      <th>Col</th>\n",
       "      <td>0</td>\n",
       "      <td>4</td>\n",
       "    </tr>\n",
       "    <tr>\n",
       "      <th>Countess</th>\n",
       "      <td>1</td>\n",
       "      <td>0</td>\n",
       "    </tr>\n",
       "    <tr>\n",
       "      <th>Don</th>\n",
       "      <td>0</td>\n",
       "      <td>1</td>\n",
       "    </tr>\n",
       "    <tr>\n",
       "      <th>Dona</th>\n",
       "      <td>1</td>\n",
       "      <td>0</td>\n",
       "    </tr>\n",
       "    <tr>\n",
       "      <th>Dr</th>\n",
       "      <td>1</td>\n",
       "      <td>7</td>\n",
       "    </tr>\n",
       "    <tr>\n",
       "      <th>Jonkheer</th>\n",
       "      <td>0</td>\n",
       "      <td>1</td>\n",
       "    </tr>\n",
       "    <tr>\n",
       "      <th>Lady</th>\n",
       "      <td>1</td>\n",
       "      <td>0</td>\n",
       "    </tr>\n",
       "    <tr>\n",
       "      <th>Major</th>\n",
       "      <td>0</td>\n",
       "      <td>2</td>\n",
       "    </tr>\n",
       "    <tr>\n",
       "      <th>Master</th>\n",
       "      <td>0</td>\n",
       "      <td>61</td>\n",
       "    </tr>\n",
       "    <tr>\n",
       "      <th>Miss</th>\n",
       "      <td>260</td>\n",
       "      <td>0</td>\n",
       "    </tr>\n",
       "    <tr>\n",
       "      <th>Mlle</th>\n",
       "      <td>2</td>\n",
       "      <td>0</td>\n",
       "    </tr>\n",
       "    <tr>\n",
       "      <th>Mme</th>\n",
       "      <td>1</td>\n",
       "      <td>0</td>\n",
       "    </tr>\n",
       "    <tr>\n",
       "      <th>Mr</th>\n",
       "      <td>0</td>\n",
       "      <td>757</td>\n",
       "    </tr>\n",
       "    <tr>\n",
       "      <th>Mrs</th>\n",
       "      <td>197</td>\n",
       "      <td>0</td>\n",
       "    </tr>\n",
       "    <tr>\n",
       "      <th>Ms</th>\n",
       "      <td>2</td>\n",
       "      <td>0</td>\n",
       "    </tr>\n",
       "    <tr>\n",
       "      <th>Rev</th>\n",
       "      <td>0</td>\n",
       "      <td>8</td>\n",
       "    </tr>\n",
       "    <tr>\n",
       "      <th>Sir</th>\n",
       "      <td>0</td>\n",
       "      <td>1</td>\n",
       "    </tr>\n",
       "  </tbody>\n",
       "</table>\n",
       "</div>"
      ],
      "text/plain": [
       "sex       female  male\n",
       "title                 \n",
       "Capt           0     1\n",
       "Col            0     4\n",
       "Countess       1     0\n",
       "Don            0     1\n",
       "Dona           1     0\n",
       "Dr             1     7\n",
       "Jonkheer       0     1\n",
       "Lady           1     0\n",
       "Major          0     2\n",
       "Master         0    61\n",
       "Miss         260     0\n",
       "Mlle           2     0\n",
       "Mme            1     0\n",
       "Mr             0   757\n",
       "Mrs          197     0\n",
       "Ms             2     0\n",
       "Rev            0     8\n",
       "Sir            0     1"
      ]
     },
     "execution_count": 9,
     "metadata": {},
     "output_type": "execute_result"
    }
   ],
   "source": [
    "pd.crosstab(train_test['title'], train_test['sex']).sort_values(by='title')"
   ]
  },
  {
   "cell_type": "code",
   "execution_count": 10,
   "id": "rough-syndication",
   "metadata": {
    "execution": {
     "iopub.execute_input": "2021-05-12T18:25:50.531192Z",
     "iopub.status.busy": "2021-05-12T18:25:50.531192Z",
     "iopub.status.idle": "2021-05-12T18:25:50.546206Z",
     "shell.execute_reply": "2021-05-12T18:25:50.546206Z",
     "shell.execute_reply.started": "2021-05-12T18:25:50.531192Z"
    }
   },
   "outputs": [],
   "source": [
    "# Convert underrepresented titles to 'Other'\n",
    "train_test.title = train_test.title.replace(['Lady', 'Countess','Capt', 'Col', \\\n",
    " \t'Don', 'Dr', 'Major', 'Rev', 'Sir', 'Jonkheer', 'Dona'], 'Other')\n",
    "train_test.title = train_test.title.replace('Mlle', 'Miss')\n",
    "train_test.title = train_test.title.replace('Ms', 'Miss')\n",
    "train_test.title = train_test.title.replace('Mme', 'Mrs')"
   ]
  },
  {
   "cell_type": "code",
   "execution_count": 11,
   "id": "assumed-custom",
   "metadata": {
    "execution": {
     "iopub.execute_input": "2021-05-12T18:25:50.547207Z",
     "iopub.status.busy": "2021-05-12T18:25:50.547207Z",
     "iopub.status.idle": "2021-05-12T18:25:50.563223Z",
     "shell.execute_reply": "2021-05-12T18:25:50.562220Z",
     "shell.execute_reply.started": "2021-05-12T18:25:50.547207Z"
    }
   },
   "outputs": [],
   "source": [
    "train_test['relatives'] = train_test['sibsp'] + train_test['parch']"
   ]
  },
  {
   "cell_type": "code",
   "execution_count": 12,
   "id": "broken-tomorrow",
   "metadata": {
    "execution": {
     "iopub.execute_input": "2021-05-12T18:25:50.564222Z",
     "iopub.status.busy": "2021-05-12T18:25:50.564222Z",
     "iopub.status.idle": "2021-05-12T18:25:50.594249Z",
     "shell.execute_reply": "2021-05-12T18:25:50.594249Z",
     "shell.execute_reply.started": "2021-05-12T18:25:50.564222Z"
    }
   },
   "outputs": [
    {
     "data": {
      "text/html": [
       "<div>\n",
       "<style scoped>\n",
       "    .dataframe tbody tr th:only-of-type {\n",
       "        vertical-align: middle;\n",
       "    }\n",
       "\n",
       "    .dataframe tbody tr th {\n",
       "        vertical-align: top;\n",
       "    }\n",
       "\n",
       "    .dataframe thead th {\n",
       "        text-align: right;\n",
       "    }\n",
       "</style>\n",
       "<table border=\"1\" class=\"dataframe\">\n",
       "  <thead>\n",
       "    <tr style=\"text-align: right;\">\n",
       "      <th></th>\n",
       "      <th>pclass</th>\n",
       "      <th>name</th>\n",
       "      <th>sex</th>\n",
       "      <th>age</th>\n",
       "      <th>sibsp</th>\n",
       "      <th>parch</th>\n",
       "      <th>ticket</th>\n",
       "      <th>fare</th>\n",
       "      <th>cabin</th>\n",
       "      <th>embarked</th>\n",
       "      <th>title</th>\n",
       "      <th>relatives</th>\n",
       "    </tr>\n",
       "    <tr>\n",
       "      <th>PassengerId</th>\n",
       "      <th></th>\n",
       "      <th></th>\n",
       "      <th></th>\n",
       "      <th></th>\n",
       "      <th></th>\n",
       "      <th></th>\n",
       "      <th></th>\n",
       "      <th></th>\n",
       "      <th></th>\n",
       "      <th></th>\n",
       "      <th></th>\n",
       "      <th></th>\n",
       "    </tr>\n",
       "  </thead>\n",
       "  <tbody>\n",
       "    <tr>\n",
       "      <th>1</th>\n",
       "      <td>3</td>\n",
       "      <td>Braund, Mr. Owen Harris</td>\n",
       "      <td>male</td>\n",
       "      <td>22.0</td>\n",
       "      <td>1</td>\n",
       "      <td>0</td>\n",
       "      <td>A/5 21171</td>\n",
       "      <td>7.2500</td>\n",
       "      <td>NaN</td>\n",
       "      <td>S</td>\n",
       "      <td>Mr</td>\n",
       "      <td>1</td>\n",
       "    </tr>\n",
       "    <tr>\n",
       "      <th>2</th>\n",
       "      <td>1</td>\n",
       "      <td>Cumings, Mrs. John Bradley (Florence Briggs Th...</td>\n",
       "      <td>female</td>\n",
       "      <td>38.0</td>\n",
       "      <td>1</td>\n",
       "      <td>0</td>\n",
       "      <td>PC 17599</td>\n",
       "      <td>71.2833</td>\n",
       "      <td>C85</td>\n",
       "      <td>C</td>\n",
       "      <td>Mrs</td>\n",
       "      <td>1</td>\n",
       "    </tr>\n",
       "    <tr>\n",
       "      <th>3</th>\n",
       "      <td>3</td>\n",
       "      <td>Heikkinen, Miss. Laina</td>\n",
       "      <td>female</td>\n",
       "      <td>26.0</td>\n",
       "      <td>0</td>\n",
       "      <td>0</td>\n",
       "      <td>STON/O2. 3101282</td>\n",
       "      <td>7.9250</td>\n",
       "      <td>NaN</td>\n",
       "      <td>S</td>\n",
       "      <td>Miss</td>\n",
       "      <td>0</td>\n",
       "    </tr>\n",
       "    <tr>\n",
       "      <th>4</th>\n",
       "      <td>1</td>\n",
       "      <td>Futrelle, Mrs. Jacques Heath (Lily May Peel)</td>\n",
       "      <td>female</td>\n",
       "      <td>35.0</td>\n",
       "      <td>1</td>\n",
       "      <td>0</td>\n",
       "      <td>113803</td>\n",
       "      <td>53.1000</td>\n",
       "      <td>C123</td>\n",
       "      <td>S</td>\n",
       "      <td>Mrs</td>\n",
       "      <td>1</td>\n",
       "    </tr>\n",
       "    <tr>\n",
       "      <th>5</th>\n",
       "      <td>3</td>\n",
       "      <td>Allen, Mr. William Henry</td>\n",
       "      <td>male</td>\n",
       "      <td>35.0</td>\n",
       "      <td>0</td>\n",
       "      <td>0</td>\n",
       "      <td>373450</td>\n",
       "      <td>8.0500</td>\n",
       "      <td>NaN</td>\n",
       "      <td>S</td>\n",
       "      <td>Mr</td>\n",
       "      <td>0</td>\n",
       "    </tr>\n",
       "  </tbody>\n",
       "</table>\n",
       "</div>"
      ],
      "text/plain": [
       "             pclass                                               name  \\\n",
       "PassengerId                                                              \n",
       "1                 3                            Braund, Mr. Owen Harris   \n",
       "2                 1  Cumings, Mrs. John Bradley (Florence Briggs Th...   \n",
       "3                 3                             Heikkinen, Miss. Laina   \n",
       "4                 1       Futrelle, Mrs. Jacques Heath (Lily May Peel)   \n",
       "5                 3                           Allen, Mr. William Henry   \n",
       "\n",
       "                sex   age  sibsp  parch            ticket     fare cabin  \\\n",
       "PassengerId                                                                \n",
       "1              male  22.0      1      0         A/5 21171   7.2500   NaN   \n",
       "2            female  38.0      1      0          PC 17599  71.2833   C85   \n",
       "3            female  26.0      0      0  STON/O2. 3101282   7.9250   NaN   \n",
       "4            female  35.0      1      0            113803  53.1000  C123   \n",
       "5              male  35.0      0      0            373450   8.0500   NaN   \n",
       "\n",
       "            embarked title  relatives  \n",
       "PassengerId                            \n",
       "1                  S    Mr          1  \n",
       "2                  C   Mrs          1  \n",
       "3                  S  Miss          0  \n",
       "4                  S   Mrs          1  \n",
       "5                  S    Mr          0  "
      ]
     },
     "execution_count": 12,
     "metadata": {},
     "output_type": "execute_result"
    }
   ],
   "source": [
    "train_test.head()"
   ]
  },
  {
   "cell_type": "code",
   "execution_count": 13,
   "id": "minute-nature",
   "metadata": {
    "execution": {
     "iopub.execute_input": "2021-05-12T18:25:50.596252Z",
     "iopub.status.busy": "2021-05-12T18:25:50.596252Z",
     "iopub.status.idle": "2021-05-12T18:25:50.610264Z",
     "shell.execute_reply": "2021-05-12T18:25:50.610264Z",
     "shell.execute_reply.started": "2021-05-12T18:25:50.596252Z"
    }
   },
   "outputs": [],
   "source": [
    "# Impute age\n",
    "mean_age = train_test['age'].mean()\n",
    "std_age = train_test['age'].std()\n",
    "random_age_filled = np.random.uniform(mean_age - std_age, mean_age + std_age, size=train_test['age'].isnull().sum())\n",
    "train_test.loc[train_test['age'].isna(), 'age'] = random_age_filled"
   ]
  },
  {
   "cell_type": "markdown",
   "id": "psychological-aquatic",
   "metadata": {
    "execution": {
     "iopub.execute_input": "2021-04-30T04:50:46.605366Z",
     "iopub.status.busy": "2021-04-30T04:50:46.605366Z",
     "iopub.status.idle": "2021-04-30T04:50:46.623383Z",
     "shell.execute_reply": "2021-04-30T04:50:46.623383Z",
     "shell.execute_reply.started": "2021-04-30T04:50:46.605366Z"
    }
   },
   "source": [
    "#### Cleaning data"
   ]
  },
  {
   "cell_type": "code",
   "execution_count": 14,
   "id": "neutral-orange",
   "metadata": {
    "execution": {
     "iopub.execute_input": "2021-05-12T18:25:50.612268Z",
     "iopub.status.busy": "2021-05-12T18:25:50.612268Z",
     "iopub.status.idle": "2021-05-12T18:25:50.627280Z",
     "shell.execute_reply": "2021-05-12T18:25:50.626279Z",
     "shell.execute_reply.started": "2021-05-12T18:25:50.612268Z"
    }
   },
   "outputs": [],
   "source": [
    "from sklearn.preprocessing import FunctionTransformer\n",
    "\n",
    "def remove_name(df):\n",
    "    return df.drop(columns=['name', 'sibsp', 'parch', 'ticket', 'cabin', 'sex'])\n",
    "\n",
    "def imp(df):\n",
    "    df.fillna(inplace=True, value={'fare': df['fare'].median(), 'embarked': df['embarked'].mode()}) \n",
    "    return df\n",
    "\n",
    "def encode_cat(df):\n",
    "    cat_cols = df.select_dtypes(exclude='number')\n",
    "    cat_cols = list(cat_cols.columns)\n",
    "    df = pd.get_dummies(df, drop_first=True, columns=cat_cols)\n",
    "    return df\n",
    "\n",
    "def drop_dup(df):\n",
    "    return df.drop_duplicates() \n",
    "\n",
    "t1 = FunctionTransformer(remove_name)\n",
    "t2 = FunctionTransformer(imp)\n",
    "t3 = FunctionTransformer(encode_cat)\n",
    "t4 = FunctionTransformer(drop_dup)"
   ]
  },
  {
   "cell_type": "code",
   "execution_count": 15,
   "id": "407498b6",
   "metadata": {},
   "outputs": [
    {
     "ename": "SyntaxError",
     "evalue": "invalid syntax (<ipython-input-15-66a587ebc3b5>, line 4)",
     "output_type": "error",
     "traceback": [
      "\u001b[1;36m  File \u001b[1;32m\"<ipython-input-15-66a587ebc3b5>\"\u001b[1;36m, line \u001b[1;32m4\u001b[0m\n\u001b[1;33m    pipe = make_pipeline(t1, t2, t3, t4 StandardScaler())\u001b[0m\n\u001b[1;37m                                        ^\u001b[0m\n\u001b[1;31mSyntaxError\u001b[0m\u001b[1;31m:\u001b[0m invalid syntax\n"
     ]
    }
   ],
   "source": [
    "from sklearn.pipeline import make_pipeline\n",
    "from sklearn.preprocessing import StandardScaler\n",
    "\n",
    "pipe = make_pipeline(t1, t2, t3, t4 StandardScaler())\n",
    "pipe.fit(X_train, y_train)"
   ]
  },
  {
   "cell_type": "code",
   "execution_count": null,
   "id": "4550ef85",
   "metadata": {},
   "outputs": [],
   "source": []
  },
  {
   "cell_type": "raw",
   "id": "4b3e9b20",
   "metadata": {
    "execution": {
     "iopub.execute_input": "2021-05-12T18:25:50.629282Z",
     "iopub.status.busy": "2021-05-12T18:25:50.629282Z",
     "iopub.status.idle": "2021-05-12T18:25:50.691338Z",
     "shell.execute_reply": "2021-05-12T18:25:50.690337Z",
     "shell.execute_reply.started": "2021-05-12T18:25:50.629282Z"
    }
   },
   "source": [
    "from sklearn.preprocessing import StandardScaler\n",
    "\n",
    "train_test = train_test.pipe(remove_name).pipe(imp).pipe(encode_cat)\n",
    "sc = StandardScaler()\n",
    "num_cols = train_test.select_dtypes(include='number').columns\n",
    "# train_test[num_cols] = sc.fit_transform(train_test[num_cols]) --> Do not fit_transform the whole data set due to data leakage"
   ]
  },
  {
   "cell_type": "code",
   "execution_count": null,
   "id": "touched-proposition",
   "metadata": {
    "execution": {
     "iopub.execute_input": "2021-05-12T18:25:50.693341Z",
     "iopub.status.busy": "2021-05-12T18:25:50.692340Z",
     "iopub.status.idle": "2021-05-12T18:25:50.705351Z",
     "shell.execute_reply": "2021-05-12T18:25:50.704349Z",
     "shell.execute_reply.started": "2021-05-12T18:25:50.693341Z"
    }
   },
   "outputs": [],
   "source": [
    "X_test = pd.DataFrame(train_test, index=test_index)\n",
    "X_train = pd.DataFrame(train_test, index=list(set(train_test.index) - set(test_index)))"
   ]
  },
  {
   "cell_type": "raw",
   "id": "extreme-linux",
   "metadata": {
    "execution": {
     "iopub.execute_input": "2021-05-02T18:23:26.098938Z",
     "iopub.status.busy": "2021-05-02T18:23:26.098938Z",
     "iopub.status.idle": "2021-05-02T18:23:26.905759Z",
     "shell.execute_reply": "2021-05-02T18:23:26.905759Z",
     "shell.execute_reply.started": "2021-05-02T18:23:26.098938Z"
    }
   },
   "source": [
    "df = pd.concat([X_train, y_train], axis=1).head()\n",
    "features = featurewiz(df, target='Survived', corr_limit=0.70, \n",
    "                                verbose=2)"
   ]
  },
  {
   "cell_type": "code",
   "execution_count": null,
   "id": "photographic-baseball",
   "metadata": {
    "execution": {
     "iopub.execute_input": "2021-05-12T18:25:50.706351Z",
     "iopub.status.busy": "2021-05-12T18:25:50.706351Z",
     "iopub.status.idle": "2021-05-12T18:25:50.720364Z",
     "shell.execute_reply": "2021-05-12T18:25:50.720364Z",
     "shell.execute_reply.started": "2021-05-12T18:25:50.706351Z"
    }
   },
   "outputs": [],
   "source": [
    "from sklearn.model_selection import train_test_split\n",
    "\n",
    "X_train, X_val, y_train, y_val = train_test_split(X_train, y_train, random_state=1, stratify=y_train)"
   ]
  },
  {
   "cell_type": "code",
   "execution_count": null,
   "id": "lesbian-message",
   "metadata": {
    "execution": {
     "iopub.execute_input": "2021-05-12T18:25:50.722367Z",
     "iopub.status.busy": "2021-05-12T18:25:50.721365Z",
     "iopub.status.idle": "2021-05-12T18:25:50.736378Z",
     "shell.execute_reply": "2021-05-12T18:25:50.736378Z",
     "shell.execute_reply.started": "2021-05-12T18:25:50.722367Z"
    }
   },
   "outputs": [],
   "source": [
    "from sklearn.utils import class_weight\n",
    "class_weight = class_weight.compute_class_weight('balanced', np.unique(y_train), y_train)\n",
    "class_weight = {cl: bal for cl, bal in zip(np.unique(y_train), class_weight)}"
   ]
  },
  {
   "cell_type": "code",
   "execution_count": null,
   "id": "desperate-leone",
   "metadata": {
    "execution": {
     "iopub.execute_input": "2021-05-12T18:25:50.738382Z",
     "iopub.status.busy": "2021-05-12T18:25:50.737381Z",
     "iopub.status.idle": "2021-05-12T18:25:51.311761Z",
     "shell.execute_reply": "2021-05-12T18:25:51.311761Z",
     "shell.execute_reply.started": "2021-05-12T18:25:50.738382Z"
    }
   },
   "outputs": [],
   "source": [
    "import optuna\n",
    "from sklearn.svm import SVC\n",
    "from sklearn.model_selection import cross_val_score, StratifiedKFold\n",
    "from sklearn.metrics import f1_score\n",
    "\n",
    "def objective(trial):\n",
    "    \n",
    "    param = {\n",
    "        'C': trial.suggest_categorical('C', np.arange(0.1, 1000, 100)),\n",
    "        'gamma': trial.suggest_categorical('gamma', np.arange(0.001, 1, 100)),\n",
    "        'kernel': trial.suggest_categorical('kernel', ['rbf', 'sigmoid'])}\n",
    "    model = SVC(**param, class_weight=class_weight)\n",
    "    model.fit(X_train, y_train)\n",
    "    preds = model.predict(X_val)\n",
    "    return cross_val_score(model, X_train, y_train, scoring='accuracy', n_jobs=-1, cv=StratifiedKFold(10)).mean()"
   ]
  },
  {
   "cell_type": "code",
   "execution_count": null,
   "id": "direct-dominican",
   "metadata": {
    "execution": {
     "iopub.execute_input": "2021-05-12T18:25:51.311761Z",
     "iopub.status.busy": "2021-05-12T18:25:51.311761Z",
     "iopub.status.idle": "2021-05-12T18:28:22.557607Z",
     "shell.execute_reply": "2021-05-12T18:28:22.557607Z",
     "shell.execute_reply.started": "2021-05-12T18:25:51.311761Z"
    },
    "scrolled": true
   },
   "outputs": [],
   "source": [
    "study = optuna.create_study(direction='maximize')\n",
    "study.optimize(objective, n_trials=1000)\n",
    "trial = study.best_trial\n",
    "print('Accuracy: {}'.format(trial.value))\n",
    "print(\"Best hyperparameters: {}\".format(trial.params))"
   ]
  },
  {
   "cell_type": "code",
   "execution_count": null,
   "id": "temporal-fitting",
   "metadata": {
    "execution": {
     "iopub.execute_input": "2021-05-12T18:28:22.559610Z",
     "iopub.status.busy": "2021-05-12T18:28:22.558608Z",
     "iopub.status.idle": "2021-05-12T18:28:22.701739Z",
     "shell.execute_reply": "2021-05-12T18:28:22.700738Z",
     "shell.execute_reply.started": "2021-05-12T18:28:22.559610Z"
    }
   },
   "outputs": [],
   "source": [
    "from yellowbrick.model_selection import learning_curve\n",
    "\n",
    "# Build model with the best params\n",
    "best = SVC(**study.best_params )"
   ]
  },
  {
   "cell_type": "code",
   "execution_count": null,
   "id": "ecological-tours",
   "metadata": {
    "execution": {
     "iopub.execute_input": "2021-05-12T18:28:22.702740Z",
     "iopub.status.busy": "2021-05-12T18:28:22.702740Z",
     "iopub.status.idle": "2021-05-12T18:28:22.844869Z",
     "shell.execute_reply": "2021-05-12T18:28:22.843867Z",
     "shell.execute_reply.started": "2021-05-12T18:28:22.702740Z"
    }
   },
   "outputs": [],
   "source": [
    "best.fit(X_train, y_train)\n",
    "y_pred = best.predict(X_test)\n",
    "y_pred = y_pred.astype(int)\n",
    "y_pred = pd.DataFrame(y_pred, columns=['Survived'], index=X_test.index)\n",
    "# saving the dataframe \n",
    "y_pred.to_csv('Predictions.csv') "
   ]
  },
  {
   "cell_type": "code",
   "execution_count": null,
   "id": "close-tuesday",
   "metadata": {},
   "outputs": [],
   "source": []
  }
 ],
 "metadata": {
  "kernelspec": {
   "display_name": "Python 3",
   "language": "python",
   "name": "python3"
  },
  "language_info": {
   "codemirror_mode": {
    "name": "ipython",
    "version": 3
   },
   "file_extension": ".py",
   "mimetype": "text/x-python",
   "name": "python",
   "nbconvert_exporter": "python",
   "pygments_lexer": "ipython3",
   "version": "3.9.5"
  }
 },
 "nbformat": 4,
 "nbformat_minor": 5
}
