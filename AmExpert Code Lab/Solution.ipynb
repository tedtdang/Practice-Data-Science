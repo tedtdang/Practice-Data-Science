{
 "cells": [
  {
   "cell_type": "code",
   "execution_count": 1,
   "outputs": [
    {
     "data": {
      "text/plain": "<IPython.core.display.HTML object>",
      "text/html": "<style type='text/css'>\n.datatable table.frame { margin-bottom: 0; }\n.datatable table.frame thead { border-bottom: none; }\n.datatable table.frame tr.coltypes td {  color: #FFFFFF;  line-height: 6px;  padding: 0 0.5em;}\n.datatable .bool    { background: #DDDD99; }\n.datatable .object  { background: #565656; }\n.datatable .int     { background: #5D9E5D; }\n.datatable .float   { background: #4040CC; }\n.datatable .str     { background: #CC4040; }\n.datatable .time    { background: #40CC40; }\n.datatable .row_index {  background: var(--jp-border-color3);  border-right: 1px solid var(--jp-border-color0);  color: var(--jp-ui-font-color3);  font-size: 9px;}\n.datatable .frame tbody td { text-align: left; }\n.datatable .frame tr.coltypes .row_index {  background: var(--jp-border-color0);}\n.datatable th:nth-child(2) { padding-left: 12px; }\n.datatable .hellipsis {  color: var(--jp-cell-editor-border-color);}\n.datatable .vellipsis {  background: var(--jp-layout-color0);  color: var(--jp-cell-editor-border-color);}\n.datatable .na {  color: var(--jp-cell-editor-border-color);  font-size: 80%;}\n.datatable .sp {  opacity: 0.25;}\n.datatable .footer { font-size: 9px; }\n.datatable .frame_dimensions {  background: var(--jp-border-color3);  border-top: 1px solid var(--jp-border-color0);  color: var(--jp-ui-font-color3);  display: inline-block;  opacity: 0.6;  padding: 1px 10px 1px 5px;}\n.datatable .frame thead tr.colnames {  background-image: url('data:image/png;base64,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');  background-repeat: repeat-x;  background-size: 14px;  height: 28px;}\n</style>\n"
     },
     "metadata": {},
     "output_type": "display_data"
    }
   ],
   "source": [
    "import datatable as dt\n",
    "import pandas as pd\n",
    "import numpy as np\n",
    "import warnings\n",
    "\n",
    "warnings.filterwarnings('ignore')\n",
    "warnings.simplefilter('ignore')\n",
    "\n",
    "\n",
    "# Problem: https://www.hackerearth.com/challenges/competitive/amexpert-code-lab/machine-learning/credit-card-default-risk-5-95cbc85f/\n",
    "def clean_data(url, y=None, train=True):\n",
    "    df = dt.fread(url).to_pandas()\n",
    "    df.set_index('customer_id', inplace=True)\n",
    "    df.drop(columns='name', inplace=True)\n",
    "    # Replace weird values of a column by the most frequent ones\n",
    "    df = df.replace({'gender': 'XNA'}, 'F').replace({'owns_car': ''}, 'N')\n",
    "    if train:\n",
    "        target_col = df.columns[-1]\n",
    "        y = df[target_col]\n",
    "        y = pd.Series(map(int, y), index=y.index)\n",
    "        X = df.drop(columns=[target_col])\n",
    "        return X, y\n",
    "    else:\n",
    "        return df"
   ],
   "metadata": {
    "collapsed": false,
    "pycharm": {
     "name": "#%%\n"
    }
   }
  },
  {
   "cell_type": "code",
   "execution_count": 2,
   "outputs": [],
   "source": [
    "X_train, y_train = clean_data('train.csv', train=True)\n",
    "X_test = clean_data('test.csv', train=False)"
   ],
   "metadata": {
    "collapsed": false,
    "pycharm": {
     "name": "#%%\n"
    }
   }
  },
  {
   "cell_type": "code",
   "execution_count": 3,
   "outputs": [],
   "source": [
    "# Credit: https://johaupt.github.io/scikit-learn/tutorial/python/data%20processing/ml%20pipeline/model%20interpretation/columnTransformer_feature_names.html\n",
    "def get_feature_names(column_transformer):\n",
    "    \"\"\"Get feature names from all transformers.\n",
    "    Returns\n",
    "    -------\n",
    "    feature_names : list of strings\n",
    "        Names of the features produced by transform.\n",
    "    \"\"\"\n",
    "\n",
    "    # Remove the internal helper function\n",
    "    #check_is_fitted(column_transformer)\n",
    "\n",
    "    # Turn loopkup into function for better handling with pipeline later\n",
    "    def get_names(trans):\n",
    "        # >> Original get_feature_names() method\n",
    "        if trans == 'drop' or (\n",
    "                hasattr(column, '__len__') and not len(column)):\n",
    "            return []\n",
    "        if trans == 'passthrough':\n",
    "            if hasattr(column_transformer, '_df_columns'):\n",
    "                if ((not isinstance(column, slice))\n",
    "                        and all(isinstance(col, str) for col in column)):\n",
    "                    return column\n",
    "                else:\n",
    "                    return column_transformer._df_columns[column]\n",
    "            else:\n",
    "                indices = np.arange(column_transformer._n_features)\n",
    "                return ['x%d' % i for i in indices[column]]\n",
    "        if not hasattr(trans, 'get_feature_names'):\n",
    "            # >>> Change: Return input column names if no method avaiable\n",
    "            # Turn error into a warning\n",
    "            warnings.warn(\"Transformer %s (type %s) does not \"\n",
    "                          \"provide get_feature_names. \"\n",
    "                          \"Will return input column names if available\"\n",
    "                          % (str(name), type(trans).__name__))\n",
    "            # For transformers without a get_features_names method, use the input\n",
    "            # names to the column transformer\n",
    "            if column is None:\n",
    "                return []\n",
    "            else:\n",
    "                return [f for f in column]\n",
    "\n",
    "        return [f for f in trans.get_feature_names()]\n",
    "\n",
    "    ### Start of processing\n",
    "    feature_names = []\n",
    "\n",
    "    # Allow transformers to be pipelines. Pipeline steps are named differently, so preprocessing is needed\n",
    "    if type(column_transformer) == Pipeline:\n",
    "        l_transformers = [(name, trans, None, None) for step, name, trans in column_transformer._iter()]\n",
    "    else:\n",
    "        # For column transformers, follow the original method\n",
    "        l_transformers = list(column_transformer._iter(fitted=True))\n",
    "\n",
    "    for name, trans, column, _ in l_transformers:\n",
    "        if type(trans) == Pipeline:\n",
    "            # Recursive call on pipeline\n",
    "            _names = get_feature_names(trans)\n",
    "            # if pipeline has no transformer that returns names\n",
    "            if len(_names) == 0:\n",
    "                _names = [f for f in column]\n",
    "            feature_names.extend(_names)\n",
    "        else:\n",
    "            feature_names.extend(get_names(trans))\n",
    "\n",
    "    return feature_names"
   ],
   "metadata": {
    "collapsed": false,
    "pycharm": {
     "name": "#%%\n"
    }
   }
  },
  {
   "cell_type": "code",
   "execution_count": 4,
   "outputs": [],
   "source": [
    "from sklearn.preprocessing import OneHotEncoder, StandardScaler\n",
    "from sklearn.experimental import enable_iterative_imputer\n",
    "from sklearn.impute import IterativeImputer\n",
    "from sklearn.pipeline import Pipeline\n",
    "from sklearn.compose import ColumnTransformer\n",
    "import pickle\n",
    "\n",
    "\n",
    "# Credit: https://stackoverflow.com/questions/60273501/column-specific-processing-in-an-sklearn-pipeline\n",
    "def process_data(X: pd.DataFrame, y=None, train=True):\n",
    "    impute_transformer = Pipeline([('impute', IterativeImputer())])\n",
    "    one_hot_transformer = Pipeline([('one_hot', OneHotEncoder(drop='first'))])\n",
    "    scale_transformer = Pipeline([('standard_scale', StandardScaler())])\n",
    "\n",
    "    null_cols = X.columns[X.isnull().any()]\n",
    "    oh_cols, to_be_scaled_cols = [], []\n",
    "    for col in X.columns:\n",
    "        if np.issubdtype(X[col].dtype, np.number) and X[col].nunique() < 3:\n",
    "            continue\n",
    "        if not np.issubdtype(X[col].dtype, np.number):\n",
    "            oh_cols.append(col)\n",
    "        else:\n",
    "            to_be_scaled_cols.append(col)\n",
    "\n",
    "    if train:\n",
    "        processor = ColumnTransformer([\n",
    "            ('imputed', impute_transformer, null_cols),\n",
    "            ('encoded', one_hot_transformer, oh_cols),\n",
    "            ('scaled', scale_transformer, to_be_scaled_cols),\n",
    "        ], remainder='passthrough')\n",
    "        processor.fit(X)\n",
    "        # Save to file in the current working directory\n",
    "        with open('processor.pkl', 'wb') as file:\n",
    "            pickle.dump(processor, file)\n",
    "        X = pd.DataFrame(processor.transform(X), columns=get_feature_names(processor), index=y.index)\n",
    "        return X, y\n",
    "    else:\n",
    "        # Load from file\n",
    "        with open('processor.pkl', 'rb') as file:\n",
    "            processor = pickle.load(file)\n",
    "        X = pd.DataFrame(processor.transform(X), columns=get_feature_names(processor), index=X.index)\n",
    "        return X"
   ],
   "metadata": {
    "collapsed": false,
    "pycharm": {
     "name": "#%%\n"
    }
   }
  },
  {
   "cell_type": "code",
   "execution_count": 5,
   "outputs": [],
   "source": [
    "X_train, y_train = process_data(X_train, y_train, train=True)\n",
    "X_test = process_data(X_test, train=False)"
   ],
   "metadata": {
    "collapsed": false,
    "pycharm": {
     "name": "#%%\n"
    }
   }
  },
  {
   "cell_type": "code",
   "metadata": {
    "pycharm": {
     "name": "#%%\n"
    }
   },
   "source": [
    "X_train.to_csv('X_train.csv')\n",
    "y_train.to_csv('y_train.csv', header=False)\n",
    "X_test.to_csv('X_test.csv')"
   ],
   "execution_count": 6,
   "outputs": []
  },
  {
   "cell_type": "code",
   "metadata": {
    "collapsed": false,
    "jupyter": {
     "outputs_hidden": false
    },
    "pycharm": {
     "name": "#%%\n"
    }
   },
   "source": [
    "X_train = dt.fread(\"X_train.csv\").to_pandas().set_index(keys='customer_id', drop=True)\n",
    "y_train = dt.fread(\"y_train.csv\").to_pandas().iloc[:, 1]\n",
    "y_train.index = X_train.index\n",
    "X_test = dt.fread(\"X_test.csv\").to_pandas().set_index(keys='customer_id', drop=True)"
   ],
   "execution_count": 7,
   "outputs": []
  },
  {
   "cell_type": "code",
   "metadata": {
    "collapsed": false,
    "jupyter": {
     "outputs_hidden": false
    },
    "pycharm": {
     "name": "#%%\n"
    }
   },
   "source": [
    "import optuna\n",
    "from lightgbm import LGBMClassifier\n",
    "from catboost import CatBoostClassifier\n",
    "from xgboost import XGBClassifier\n",
    "from sklearn.model_selection import cross_val_score, StratifiedKFold\n",
    "\n",
    "\n",
    "# Credit: https://medium.com/analytics-vidhya/hyperparameters-optimization-for-lightgbm-catboost-and-xgboost-regressors-using-bayesian-6e7c495947a9\n",
    "# Define an objective function to be maximized.\n",
    "def objective(trial, X_train, y_train, cv, scoring):\n",
    "    classifier = trial.suggest_categorical('classifier', ['lightgbm', 'catboost', 'xgboost'])\n",
    "    model = LGBMClassifier()\n",
    "    # Setup values for the hyperparameters:\n",
    "    if classifier == 'lightgbm':\n",
    "        params = {\n",
    "            \"num_leaves\": trial.suggest_int('num_leaves', 45, 60),\n",
    "            'min_child_samples': trial.suggest_uniform('min_child_samples', 100, 500),\n",
    "            'min_child_weight': trial.suggest_int('min_child_weight', 30, 50, 5),\n",
    "            'subsample': trial.suggest_uniform('subsample', 0.2, 0.8),\n",
    "            'colsample_bytree': trial.suggest_uniform('colsample_bytree', 0.4, 0.6),\n",
    "            'reg_alpha': trial.suggest_categorical('reg_alpha', [0, 1e-1, 1, 2, 5, 7, 10, 50, 100]),\n",
    "            'reg_lambda': trial.suggest_categorical('reg_lambda', [0, 1e-1, 1, 5, 10, 20, 50, 100]),\n",
    "        }\n",
    "        model = LGBMClassifier(**params)\n",
    "\n",
    "    elif classifier == 'catboost':\n",
    "        params = {\n",
    "            \"depth\": trial.suggest_int('depth', 1, 10),\n",
    "            'iterations': trial.suggest_categorical('iterations', [250, 100, 500, 1000]),\n",
    "            'learning_rate': trial.suggest_categorical('learning_rate', [0.03, 0.001, 0.01, 0.1, 0.2, 0.3]),\n",
    "            'l2_leaf_reg': trial.suggest_categorical('l2_leaf_reg', [3, 1, 5, 10, 100]),\n",
    "            'border_count': trial.suggest_categorical('border_count', [32, 5, 10, 20, 50, 100, 200]),\n",
    "            'bagging_temperature': trial.suggest_categorical('bagging_temperature', [0.03, 0.09, 0.25, 0.75]),\n",
    "            'random_strength': trial.suggest_categorical('random_strength', [0.2, 0.5, 0.8]),\n",
    "            'max_ctr_complexity': trial.suggest_categorical('max_ctr_complexity', [1, 2, 3, 4, 5])\n",
    "        }\n",
    "        model = CatBoostClassifier(**params)\n",
    "\n",
    "    else:\n",
    "        params = {\n",
    "            \"min_child_weight\": trial.suggest_int('min_child_weight', 14, 20),\n",
    "            'gamma': trial.suggest_int('gamma', 0, 5),\n",
    "            \"max_depth\": trial.suggest_int('max_depth', 5, 10),\n",
    "            'subsample': trial.suggest_uniform('subsample', 0.5, 1.0),\n",
    "            \"colsample_bytree\": trial.suggest_uniform('colsample_bytree', 0.1, 1.0),\n",
    "\n",
    "        }\n",
    "        model = XGBClassifier(**params)\n",
    "\n",
    "    # Scoring method:\n",
    "    score = cross_val_score(model, X_train, y_train, n_jobs=-1, cv=cv, scoring=scoring)\n",
    "    return score.mean()"
   ],
   "execution_count": 8,
   "outputs": []
  },
  {
   "cell_type": "code",
   "metadata": {
    "collapsed": false,
    "jupyter": {
     "outputs_hidden": false
    },
    "pycharm": {
     "name": "#%%\n"
    }
   },
   "source": [
    "ss = StratifiedKFold(n_splits=5)\n",
    "\n",
    "# Create study that minimizes\n",
    "study = optuna.create_study(direction='maximize')\n",
    "study.optimize(lambda trial: objective(trial, X_train, y_train, cv=ss, scoring='f1_macro'),\n",
    "               n_trials=100)"
   ],
   "execution_count": 9,
   "outputs": [
    {
     "name": "stderr",
     "output_type": "stream",
     "text": [
      "\u001B[32m[I 2021-12-09 23:16:29,728]\u001B[0m A new study created in memory with name: no-name-e077e0df-0e26-450a-9505-0bcaf64c58c9\u001B[0m\n",
      "\u001B[33m[W 2021-12-09 23:16:34,705]\u001B[0m Trial 0 failed, because the objective function returned nan.\u001B[0m\n",
      "\u001B[33m[W 2021-12-09 23:16:35,112]\u001B[0m Trial 1 failed, because the objective function returned nan.\u001B[0m\n",
      "\u001B[33m[W 2021-12-09 23:16:54,509]\u001B[0m Trial 2 failed, because the objective function returned nan.\u001B[0m\n",
      "\u001B[33m[W 2021-12-09 23:16:55,035]\u001B[0m Trial 3 failed, because the objective function returned nan.\u001B[0m\n",
      "\u001B[33m[W 2021-12-09 23:16:55,464]\u001B[0m Trial 4 failed, because the objective function returned nan.\u001B[0m\n",
      "\u001B[33m[W 2021-12-09 23:17:00,444]\u001B[0m Trial 5 failed, because the objective function returned nan.\u001B[0m\n",
      "\u001B[33m[W 2021-12-09 23:17:11,973]\u001B[0m Trial 6 failed, because the objective function returned nan.\u001B[0m\n",
      "\u001B[33m[W 2021-12-09 23:17:14,725]\u001B[0m Trial 7 failed, because the objective function returned nan.\u001B[0m\n",
      "\u001B[33m[W 2021-12-09 23:17:19,319]\u001B[0m Trial 8 failed, because the objective function returned nan.\u001B[0m\n",
      "\u001B[32m[I 2021-12-09 23:17:27,664]\u001B[0m Trial 9 finished with value: 0.921501882407442 and parameters: {'classifier': 'xgboost', 'min_child_weight': 15, 'gamma': 4, 'max_depth': 5, 'subsample': 0.5077030141972413, 'colsample_bytree': 0.6189826657288978}. Best is trial 9 with value: 0.921501882407442.\u001B[0m\n",
      "\u001B[32m[I 2021-12-09 23:17:37,023]\u001B[0m Trial 10 finished with value: 0.9206647670489417 and parameters: {'classifier': 'xgboost', 'min_child_weight': 19, 'gamma': 0, 'max_depth': 7, 'subsample': 0.9743859395632294, 'colsample_bytree': 0.565487024786736}. Best is trial 9 with value: 0.921501882407442.\u001B[0m\n",
      "\u001B[33m[W 2021-12-09 23:17:37,437]\u001B[0m Trial 11 failed, because the objective function returned nan.\u001B[0m\n",
      "\u001B[33m[W 2021-12-09 23:17:53,114]\u001B[0m Trial 12 failed, because the objective function returned nan.\u001B[0m\n",
      "\u001B[33m[W 2021-12-09 23:17:53,497]\u001B[0m Trial 13 failed, because the objective function returned nan.\u001B[0m\n",
      "\u001B[33m[W 2021-12-09 23:18:14,549]\u001B[0m Trial 14 failed, because the objective function returned nan.\u001B[0m\n",
      "\u001B[33m[W 2021-12-09 23:18:15,033]\u001B[0m Trial 15 failed, because the objective function returned nan.\u001B[0m\n",
      "\u001B[32m[I 2021-12-09 23:18:19,735]\u001B[0m Trial 16 finished with value: 0.9237318161819783 and parameters: {'classifier': 'xgboost', 'min_child_weight': 18, 'gamma': 0, 'max_depth': 8, 'subsample': 0.5993495781209559, 'colsample_bytree': 0.11631754891289292}. Best is trial 16 with value: 0.9237318161819783.\u001B[0m\n",
      "\u001B[32m[I 2021-12-09 23:18:26,418]\u001B[0m Trial 17 finished with value: 0.9222959718556301 and parameters: {'classifier': 'xgboost', 'min_child_weight': 20, 'gamma': 2, 'max_depth': 6, 'subsample': 0.6876411376196394, 'colsample_bytree': 0.39081028203267176}. Best is trial 16 with value: 0.9237318161819783.\u001B[0m\n",
      "\u001B[33m[W 2021-12-09 23:18:34,827]\u001B[0m Trial 18 failed, because the objective function returned nan.\u001B[0m\n",
      "\u001B[33m[W 2021-12-09 23:18:50,525]\u001B[0m Trial 19 failed, because the objective function returned nan.\u001B[0m\n",
      "\u001B[32m[I 2021-12-09 23:19:06,030]\u001B[0m Trial 20 finished with value: 0.923264507723635 and parameters: {'classifier': 'xgboost', 'min_child_weight': 16, 'gamma': 5, 'max_depth': 8, 'subsample': 0.5212649256818425, 'colsample_bytree': 0.8363330500947552}. Best is trial 16 with value: 0.9237318161819783.\u001B[0m\n",
      "\u001B[32m[I 2021-12-09 23:19:13,766]\u001B[0m Trial 21 finished with value: 0.9234076238757705 and parameters: {'classifier': 'xgboost', 'min_child_weight': 18, 'gamma': 0, 'max_depth': 10, 'subsample': 0.9773919068225727, 'colsample_bytree': 0.19928276789811034}. Best is trial 16 with value: 0.9237318161819783.\u001B[0m\n",
      "\u001B[33m[W 2021-12-09 23:19:13,953]\u001B[0m Trial 22 failed, because the objective function returned nan.\u001B[0m\n",
      "\u001B[33m[W 2021-12-09 23:19:26,584]\u001B[0m Trial 23 failed, because the objective function returned nan.\u001B[0m\n",
      "\u001B[33m[W 2021-12-09 23:19:40,594]\u001B[0m Trial 24 failed, because the objective function returned nan.\u001B[0m\n",
      "\u001B[32m[I 2021-12-09 23:19:50,111]\u001B[0m Trial 25 finished with value: 0.9222907825724812 and parameters: {'classifier': 'xgboost', 'min_child_weight': 20, 'gamma': 2, 'max_depth': 10, 'subsample': 0.6264647114329851, 'colsample_bytree': 0.43428012188871357}. Best is trial 16 with value: 0.9237318161819783.\u001B[0m\n",
      "\u001B[33m[W 2021-12-09 23:19:50,545]\u001B[0m Trial 26 failed, because the objective function returned nan.\u001B[0m\n",
      "\u001B[33m[W 2021-12-09 23:19:50,938]\u001B[0m Trial 27 failed, because the objective function returned nan.\u001B[0m\n",
      "\u001B[33m[W 2021-12-09 23:19:58,403]\u001B[0m Trial 28 failed, because the objective function returned nan.\u001B[0m\n",
      "\u001B[33m[W 2021-12-09 23:20:04,466]\u001B[0m Trial 29 failed, because the objective function returned nan.\u001B[0m\n",
      "\u001B[32m[I 2021-12-09 23:20:14,406]\u001B[0m Trial 30 finished with value: 0.9222809178152982 and parameters: {'classifier': 'xgboost', 'min_child_weight': 18, 'gamma': 2, 'max_depth': 8, 'subsample': 0.8565181525745302, 'colsample_bytree': 0.43495814343520556}. Best is trial 16 with value: 0.9237318161819783.\u001B[0m\n",
      "\u001B[33m[W 2021-12-09 23:20:14,800]\u001B[0m Trial 31 failed, because the objective function returned nan.\u001B[0m\n",
      "\u001B[33m[W 2021-12-09 23:20:15,182]\u001B[0m Trial 32 failed, because the objective function returned nan.\u001B[0m\n",
      "\u001B[32m[I 2021-12-09 23:20:23,009]\u001B[0m Trial 33 finished with value: 0.9227933757332117 and parameters: {'classifier': 'xgboost', 'min_child_weight': 17, 'gamma': 0, 'max_depth': 5, 'subsample': 0.6443079038012942, 'colsample_bytree': 0.4922721025221428}. Best is trial 16 with value: 0.9237318161819783.\u001B[0m\n",
      "\u001B[33m[W 2021-12-09 23:20:48,147]\u001B[0m Trial 34 failed, because the objective function returned nan.\u001B[0m\n",
      "\u001B[33m[W 2021-12-09 23:20:54,122]\u001B[0m Trial 35 failed, because the objective function returned nan.\u001B[0m\n",
      "\u001B[33m[W 2021-12-09 23:20:56,535]\u001B[0m Trial 36 failed, because the objective function returned nan.\u001B[0m\n",
      "\u001B[32m[I 2021-12-09 23:21:02,642]\u001B[0m Trial 37 finished with value: 0.9231528709340469 and parameters: {'classifier': 'xgboost', 'min_child_weight': 14, 'gamma': 2, 'max_depth': 5, 'subsample': 0.6551566043095995, 'colsample_bytree': 0.35319066155451595}. Best is trial 16 with value: 0.9237318161819783.\u001B[0m\n",
      "\u001B[33m[W 2021-12-09 23:21:03,042]\u001B[0m Trial 38 failed, because the objective function returned nan.\u001B[0m\n",
      "\u001B[33m[W 2021-12-09 23:21:09,970]\u001B[0m Trial 39 failed, because the objective function returned nan.\u001B[0m\n",
      "\u001B[33m[W 2021-12-09 23:21:10,466]\u001B[0m Trial 40 failed, because the objective function returned nan.\u001B[0m\n",
      "\u001B[33m[W 2021-12-09 23:21:10,866]\u001B[0m Trial 41 failed, because the objective function returned nan.\u001B[0m\n",
      "\u001B[33m[W 2021-12-09 23:21:11,262]\u001B[0m Trial 42 failed, because the objective function returned nan.\u001B[0m\n",
      "\u001B[33m[W 2021-12-09 23:21:14,929]\u001B[0m Trial 43 failed, because the objective function returned nan.\u001B[0m\n",
      "\u001B[33m[W 2021-12-09 23:21:19,498]\u001B[0m Trial 44 failed, because the objective function returned nan.\u001B[0m\n",
      "\u001B[33m[W 2021-12-09 23:21:19,897]\u001B[0m Trial 45 failed, because the objective function returned nan.\u001B[0m\n",
      "\u001B[33m[W 2021-12-09 23:21:20,393]\u001B[0m Trial 46 failed, because the objective function returned nan.\u001B[0m\n",
      "\u001B[33m[W 2021-12-09 23:21:42,039]\u001B[0m Trial 47 failed, because the objective function returned nan.\u001B[0m\n",
      "\u001B[33m[W 2021-12-09 23:21:42,420]\u001B[0m Trial 48 failed, because the objective function returned nan.\u001B[0m\n",
      "\u001B[33m[W 2021-12-09 23:21:52,773]\u001B[0m Trial 49 failed, because the objective function returned nan.\u001B[0m\n",
      "\u001B[33m[W 2021-12-09 23:21:53,163]\u001B[0m Trial 50 failed, because the objective function returned nan.\u001B[0m\n",
      "\u001B[33m[W 2021-12-09 23:21:53,570]\u001B[0m Trial 51 failed, because the objective function returned nan.\u001B[0m\n",
      "\u001B[33m[W 2021-12-09 23:22:54,059]\u001B[0m Trial 52 failed, because the objective function returned nan.\u001B[0m\n",
      "\u001B[33m[W 2021-12-09 23:22:57,770]\u001B[0m Trial 53 failed, because the objective function returned nan.\u001B[0m\n",
      "\u001B[33m[W 2021-12-09 23:22:58,145]\u001B[0m Trial 54 failed, because the objective function returned nan.\u001B[0m\n",
      "\u001B[33m[W 2021-12-09 23:23:13,871]\u001B[0m Trial 55 failed, because the objective function returned nan.\u001B[0m\n",
      "\u001B[33m[W 2021-12-09 23:23:24,428]\u001B[0m Trial 56 failed, because the objective function returned nan.\u001B[0m\n",
      "\u001B[33m[W 2021-12-09 23:23:45,373]\u001B[0m Trial 57 failed, because the objective function returned nan.\u001B[0m\n",
      "\u001B[33m[W 2021-12-09 23:23:54,518]\u001B[0m Trial 58 failed, because the objective function returned nan.\u001B[0m\n",
      "\u001B[33m[W 2021-12-09 23:23:55,003]\u001B[0m Trial 59 failed, because the objective function returned nan.\u001B[0m\n",
      "\u001B[33m[W 2021-12-09 23:24:05,828]\u001B[0m Trial 60 failed, because the objective function returned nan.\u001B[0m\n",
      "\u001B[33m[W 2021-12-09 23:24:11,186]\u001B[0m Trial 61 failed, because the objective function returned nan.\u001B[0m\n",
      "\u001B[33m[W 2021-12-09 23:24:24,630]\u001B[0m Trial 62 failed, because the objective function returned nan.\u001B[0m\n",
      "\u001B[33m[W 2021-12-09 23:24:28,834]\u001B[0m Trial 63 failed, because the objective function returned nan.\u001B[0m\n",
      "\u001B[33m[W 2021-12-09 23:24:29,225]\u001B[0m Trial 64 failed, because the objective function returned nan.\u001B[0m\n",
      "\u001B[33m[W 2021-12-09 23:24:29,615]\u001B[0m Trial 65 failed, because the objective function returned nan.\u001B[0m\n",
      "\u001B[33m[W 2021-12-09 23:24:29,990]\u001B[0m Trial 66 failed, because the objective function returned nan.\u001B[0m\n",
      "\u001B[33m[W 2021-12-09 23:24:34,127]\u001B[0m Trial 67 failed, because the objective function returned nan.\u001B[0m\n",
      "\u001B[33m[W 2021-12-09 23:24:34,533]\u001B[0m Trial 68 failed, because the objective function returned nan.\u001B[0m\n",
      "\u001B[33m[W 2021-12-09 23:24:34,940]\u001B[0m Trial 69 failed, because the objective function returned nan.\u001B[0m\n",
      "\u001B[33m[W 2021-12-09 23:24:48,522]\u001B[0m Trial 70 failed, because the objective function returned nan.\u001B[0m\n",
      "\u001B[33m[W 2021-12-09 23:24:48,913]\u001B[0m Trial 71 failed, because the objective function returned nan.\u001B[0m\n",
      "\u001B[33m[W 2021-12-09 23:24:49,304]\u001B[0m Trial 72 failed, because the objective function returned nan.\u001B[0m\n",
      "\u001B[33m[W 2021-12-09 23:24:49,694]\u001B[0m Trial 73 failed, because the objective function returned nan.\u001B[0m\n",
      "\u001B[33m[W 2021-12-09 23:24:50,085]\u001B[0m Trial 74 failed, because the objective function returned nan.\u001B[0m\n",
      "\u001B[33m[W 2021-12-09 23:24:50,475]\u001B[0m Trial 75 failed, because the objective function returned nan.\u001B[0m\n",
      "\u001B[33m[W 2021-12-09 23:24:52,945]\u001B[0m Trial 76 failed, because the objective function returned nan.\u001B[0m\n",
      "\u001B[33m[W 2021-12-09 23:24:53,335]\u001B[0m Trial 77 failed, because the objective function returned nan.\u001B[0m\n",
      "\u001B[33m[W 2021-12-09 23:24:53,742]\u001B[0m Trial 78 failed, because the objective function returned nan.\u001B[0m\n",
      "\u001B[33m[W 2021-12-09 23:24:54,164]\u001B[0m Trial 79 failed, because the objective function returned nan.\u001B[0m\n",
      "\u001B[33m[W 2021-12-09 23:25:02,786]\u001B[0m Trial 80 failed, because the objective function returned nan.\u001B[0m\n",
      "\u001B[33m[W 2021-12-09 23:25:20,126]\u001B[0m Trial 81 failed, because the objective function returned nan.\u001B[0m\n",
      "\u001B[33m[W 2021-12-09 23:25:20,501]\u001B[0m Trial 82 failed, because the objective function returned nan.\u001B[0m\n",
      "\u001B[33m[W 2021-12-09 23:25:20,891]\u001B[0m Trial 83 failed, because the objective function returned nan.\u001B[0m\n",
      "\u001B[33m[W 2021-12-09 23:25:38,223]\u001B[0m Trial 84 failed, because the objective function returned nan.\u001B[0m\n",
      "\u001B[33m[W 2021-12-09 23:25:38,614]\u001B[0m Trial 85 failed, because the objective function returned nan.\u001B[0m\n",
      "\u001B[33m[W 2021-12-09 23:25:39,036]\u001B[0m Trial 86 failed, because the objective function returned nan.\u001B[0m\n",
      "\u001B[33m[W 2021-12-09 23:25:44,152]\u001B[0m Trial 87 failed, because the objective function returned nan.\u001B[0m\n",
      "\u001B[33m[W 2021-12-09 23:25:44,543]\u001B[0m Trial 88 failed, because the objective function returned nan.\u001B[0m\n",
      "\u001B[33m[W 2021-12-09 23:25:44,933]\u001B[0m Trial 89 failed, because the objective function returned nan.\u001B[0m\n",
      "\u001B[33m[W 2021-12-09 23:25:45,425]\u001B[0m Trial 90 failed, because the objective function returned nan.\u001B[0m\n",
      "\u001B[33m[W 2021-12-09 23:26:17,488]\u001B[0m Trial 91 failed, because the objective function returned nan.\u001B[0m\n",
      "\u001B[33m[W 2021-12-09 23:26:26,417]\u001B[0m Trial 92 failed, because the objective function returned nan.\u001B[0m\n",
      "\u001B[33m[W 2021-12-09 23:26:26,808]\u001B[0m Trial 93 failed, because the objective function returned nan.\u001B[0m\n",
      "\u001B[33m[W 2021-12-09 23:26:27,198]\u001B[0m Trial 94 failed, because the objective function returned nan.\u001B[0m\n",
      "\u001B[33m[W 2021-12-09 23:26:38,048]\u001B[0m Trial 95 failed, because the objective function returned nan.\u001B[0m\n",
      "\u001B[33m[W 2021-12-09 23:26:38,439]\u001B[0m Trial 96 failed, because the objective function returned nan.\u001B[0m\n",
      "\u001B[33m[W 2021-12-09 23:26:38,830]\u001B[0m Trial 97 failed, because the objective function returned nan.\u001B[0m\n",
      "\u001B[33m[W 2021-12-09 23:26:39,236]\u001B[0m Trial 98 failed, because the objective function returned nan.\u001B[0m\n",
      "\u001B[33m[W 2021-12-09 23:27:04,259]\u001B[0m Trial 99 failed, because the objective function returned nan.\u001B[0m\n"
     ]
    }
   ]
  },
  {
   "cell_type": "code",
   "metadata": {
    "collapsed": false,
    "jupyter": {
     "outputs_hidden": false
    },
    "pycharm": {
     "name": "#%%\n"
    }
   },
   "source": [
    "print('Five best values')\n",
    "pd.options.display.float_format = '{:,.2f}'.format\n",
    "study.trials_dataframe().sort_values('value', ascending=True).head(5)"
   ],
   "execution_count": 10,
   "outputs": [
    {
     "name": "stdout",
     "output_type": "stream",
     "text": [
      "Five best values\n"
     ]
    },
    {
     "data": {
      "text/plain": "    number  value             datetime_start          datetime_complete  \\\n10      10   0.92 2021-12-09 23:17:27.665201 2021-12-09 23:17:37.022554   \n9        9   0.92 2021-12-09 23:17:19.320343 2021-12-09 23:17:27.663196   \n30      30   0.92 2021-12-09 23:20:04.466760 2021-12-09 23:20:14.406157   \n25      25   0.92 2021-12-09 23:19:40.595996 2021-12-09 23:19:50.111601   \n17      17   0.92 2021-12-09 23:18:19.736725 2021-12-09 23:18:26.417593   \n\n                 duration  params_bagging_temperature  params_border_count  \\\n10 0 days 00:00:09.357353                         NaN                  NaN   \n9  0 days 00:00:08.342853                         NaN                  NaN   \n30 0 days 00:00:09.939397                         NaN                  NaN   \n25 0 days 00:00:09.515605                         NaN                  NaN   \n17 0 days 00:00:06.680868                         NaN                  NaN   \n\n   params_classifier  params_colsample_bytree  params_depth  ...  \\\n10           xgboost                     0.57           NaN  ...   \n9            xgboost                     0.62           NaN  ...   \n30           xgboost                     0.43           NaN  ...   \n25           xgboost                     0.43           NaN  ...   \n17           xgboost                     0.39           NaN  ...   \n\n    params_max_ctr_complexity  params_max_depth  params_min_child_samples  \\\n10                        NaN              7.00                       NaN   \n9                         NaN              5.00                       NaN   \n30                        NaN              8.00                       NaN   \n25                        NaN             10.00                       NaN   \n17                        NaN              6.00                       NaN   \n\n    params_min_child_weight  params_num_leaves  params_random_strength  \\\n10                    19.00                NaN                     NaN   \n9                     15.00                NaN                     NaN   \n30                    18.00                NaN                     NaN   \n25                    20.00                NaN                     NaN   \n17                    20.00                NaN                     NaN   \n\n    params_reg_alpha  params_reg_lambda  params_subsample     state  \n10               NaN                NaN              0.97  COMPLETE  \n9                NaN                NaN              0.51  COMPLETE  \n30               NaN                NaN              0.86  COMPLETE  \n25               NaN                NaN              0.63  COMPLETE  \n17               NaN                NaN              0.69  COMPLETE  \n\n[5 rows x 24 columns]",
      "text/html": "<div>\n<style scoped>\n    .dataframe tbody tr th:only-of-type {\n        vertical-align: middle;\n    }\n\n    .dataframe tbody tr th {\n        vertical-align: top;\n    }\n\n    .dataframe thead th {\n        text-align: right;\n    }\n</style>\n<table border=\"1\" class=\"dataframe\">\n  <thead>\n    <tr style=\"text-align: right;\">\n      <th></th>\n      <th>number</th>\n      <th>value</th>\n      <th>datetime_start</th>\n      <th>datetime_complete</th>\n      <th>duration</th>\n      <th>params_bagging_temperature</th>\n      <th>params_border_count</th>\n      <th>params_classifier</th>\n      <th>params_colsample_bytree</th>\n      <th>params_depth</th>\n      <th>...</th>\n      <th>params_max_ctr_complexity</th>\n      <th>params_max_depth</th>\n      <th>params_min_child_samples</th>\n      <th>params_min_child_weight</th>\n      <th>params_num_leaves</th>\n      <th>params_random_strength</th>\n      <th>params_reg_alpha</th>\n      <th>params_reg_lambda</th>\n      <th>params_subsample</th>\n      <th>state</th>\n    </tr>\n  </thead>\n  <tbody>\n    <tr>\n      <th>10</th>\n      <td>10</td>\n      <td>0.92</td>\n      <td>2021-12-09 23:17:27.665201</td>\n      <td>2021-12-09 23:17:37.022554</td>\n      <td>0 days 00:00:09.357353</td>\n      <td>NaN</td>\n      <td>NaN</td>\n      <td>xgboost</td>\n      <td>0.57</td>\n      <td>NaN</td>\n      <td>...</td>\n      <td>NaN</td>\n      <td>7.00</td>\n      <td>NaN</td>\n      <td>19.00</td>\n      <td>NaN</td>\n      <td>NaN</td>\n      <td>NaN</td>\n      <td>NaN</td>\n      <td>0.97</td>\n      <td>COMPLETE</td>\n    </tr>\n    <tr>\n      <th>9</th>\n      <td>9</td>\n      <td>0.92</td>\n      <td>2021-12-09 23:17:19.320343</td>\n      <td>2021-12-09 23:17:27.663196</td>\n      <td>0 days 00:00:08.342853</td>\n      <td>NaN</td>\n      <td>NaN</td>\n      <td>xgboost</td>\n      <td>0.62</td>\n      <td>NaN</td>\n      <td>...</td>\n      <td>NaN</td>\n      <td>5.00</td>\n      <td>NaN</td>\n      <td>15.00</td>\n      <td>NaN</td>\n      <td>NaN</td>\n      <td>NaN</td>\n      <td>NaN</td>\n      <td>0.51</td>\n      <td>COMPLETE</td>\n    </tr>\n    <tr>\n      <th>30</th>\n      <td>30</td>\n      <td>0.92</td>\n      <td>2021-12-09 23:20:04.466760</td>\n      <td>2021-12-09 23:20:14.406157</td>\n      <td>0 days 00:00:09.939397</td>\n      <td>NaN</td>\n      <td>NaN</td>\n      <td>xgboost</td>\n      <td>0.43</td>\n      <td>NaN</td>\n      <td>...</td>\n      <td>NaN</td>\n      <td>8.00</td>\n      <td>NaN</td>\n      <td>18.00</td>\n      <td>NaN</td>\n      <td>NaN</td>\n      <td>NaN</td>\n      <td>NaN</td>\n      <td>0.86</td>\n      <td>COMPLETE</td>\n    </tr>\n    <tr>\n      <th>25</th>\n      <td>25</td>\n      <td>0.92</td>\n      <td>2021-12-09 23:19:40.595996</td>\n      <td>2021-12-09 23:19:50.111601</td>\n      <td>0 days 00:00:09.515605</td>\n      <td>NaN</td>\n      <td>NaN</td>\n      <td>xgboost</td>\n      <td>0.43</td>\n      <td>NaN</td>\n      <td>...</td>\n      <td>NaN</td>\n      <td>10.00</td>\n      <td>NaN</td>\n      <td>20.00</td>\n      <td>NaN</td>\n      <td>NaN</td>\n      <td>NaN</td>\n      <td>NaN</td>\n      <td>0.63</td>\n      <td>COMPLETE</td>\n    </tr>\n    <tr>\n      <th>17</th>\n      <td>17</td>\n      <td>0.92</td>\n      <td>2021-12-09 23:18:19.736725</td>\n      <td>2021-12-09 23:18:26.417593</td>\n      <td>0 days 00:00:06.680868</td>\n      <td>NaN</td>\n      <td>NaN</td>\n      <td>xgboost</td>\n      <td>0.39</td>\n      <td>NaN</td>\n      <td>...</td>\n      <td>NaN</td>\n      <td>6.00</td>\n      <td>NaN</td>\n      <td>20.00</td>\n      <td>NaN</td>\n      <td>NaN</td>\n      <td>NaN</td>\n      <td>NaN</td>\n      <td>0.69</td>\n      <td>COMPLETE</td>\n    </tr>\n  </tbody>\n</table>\n<p>5 rows × 24 columns</p>\n</div>"
     },
     "execution_count": 10,
     "metadata": {},
     "output_type": "execute_result"
    }
   ]
  },
  {
   "cell_type": "code",
   "metadata": {
    "collapsed": false,
    "jupyter": {
     "outputs_hidden": false
    },
    "pycharm": {
     "name": "#%%\n"
    }
   },
   "source": [
    "trial = study.best_trial\n",
    "print(f'Loss : {trial}')\n",
    "print(f\"Best hyperparameters: {trial.params}\")"
   ],
   "execution_count": 11,
   "outputs": [
    {
     "name": "stdout",
     "output_type": "stream",
     "text": [
      "Loss : FrozenTrial(number=16, values=[0.9237318161819783], datetime_start=datetime.datetime(2021, 12, 9, 23, 18, 15, 35271), datetime_complete=datetime.datetime(2021, 12, 9, 23, 18, 19, 735724), params={'classifier': 'xgboost', 'min_child_weight': 18, 'gamma': 0, 'max_depth': 8, 'subsample': 0.5993495781209559, 'colsample_bytree': 0.11631754891289292}, distributions={'classifier': CategoricalDistribution(choices=('lightgbm', 'catboost', 'xgboost')), 'min_child_weight': IntUniformDistribution(high=20, low=14, step=1), 'gamma': IntUniformDistribution(high=5, low=0, step=1), 'max_depth': IntUniformDistribution(high=10, low=5, step=1), 'subsample': UniformDistribution(high=1.0, low=0.5), 'colsample_bytree': UniformDistribution(high=1.0, low=0.1)}, user_attrs={}, system_attrs={}, intermediate_values={}, trial_id=16, state=TrialState.COMPLETE, value=None)\n",
      "Best hyperparameters: {'classifier': 'xgboost', 'min_child_weight': 18, 'gamma': 0, 'max_depth': 8, 'subsample': 0.5993495781209559, 'colsample_bytree': 0.11631754891289292}\n"
     ]
    }
   ]
  },
  {
   "cell_type": "code",
   "metadata": {
    "collapsed": false,
    "jupyter": {
     "outputs_hidden": false
    },
    "pycharm": {
     "name": "#%%\n"
    }
   },
   "source": [
    "# plot the optimization history of the study\n",
    "from optuna.visualization.matplotlib import plot_optimization_history\n",
    "\n",
    "plot_optimization_history(study);"
   ],
   "execution_count": 12,
   "outputs": [
    {
     "data": {
      "text/plain": "<Figure size 432x288 with 1 Axes>",
      "image/png": "[encoded data removed]"
     },
     "metadata": {},
     "output_type": "display_data"
    }
   ]
  },
  {
   "cell_type": "code",
   "metadata": {
    "collapsed": false,
    "jupyter": {
     "outputs_hidden": false
    },
    "pycharm": {
     "name": "#%%\n"
    }
   },
   "source": [
    "study.best_params"
   ],
   "execution_count": 13,
   "outputs": [
    {
     "data": {
      "text/plain": "{'classifier': 'xgboost',\n 'min_child_weight': 18,\n 'gamma': 0,\n 'max_depth': 8,\n 'subsample': 0.5993495781209559,\n 'colsample_bytree': 0.11631754891289292}"
     },
     "execution_count": 13,
     "metadata": {},
     "output_type": "execute_result"
    }
   ]
  },
  {
   "cell_type": "code",
   "metadata": {
    "collapsed": false,
    "jupyter": {
     "outputs_hidden": false
    },
    "pycharm": {
     "name": "#%%\n"
    }
   },
   "source": [
    "best_params = {key: value for key, value in study.best_params.items() if key != 'classifier'}\n",
    "if study.best_params['classifier'] == 'lightgbm':\n",
    "    best_model = LGBMClassifier(**best_params)\n",
    "elif study.best_params['classifier'] == 'catboost':\n",
    "    best_model = CatBoostClassifier(**best_params)\n",
    "else:\n",
    "    best_model = XGBClassifier(**best_params)\n",
    "best_model.fit(X_train, y_train)"
   ],
   "execution_count": 28,
   "outputs": [
    {
     "name": "stdout",
     "output_type": "stream",
     "text": [
      "[23:30:17] WARNING: C:/Users/Administrator/workspace/xgboost-win64_release_1.5.0/src/learner.cc:1115: Starting in XGBoost 1.3.0, the default evaluation metric used with the objective 'binary:logistic' was changed from 'error' to 'logloss'. Explicitly set eval_metric if you'd like to restore the old behavior.\n"
     ]
    },
    {
     "data": {
      "text/plain": "XGBClassifier(base_score=0.5, booster='gbtree', colsample_bylevel=1,\n              colsample_bynode=1, colsample_bytree=0.11631754891289292,\n              enable_categorical=False, gamma=0, gpu_id=-1,\n              importance_type=None, interaction_constraints='',\n              learning_rate=0.300000012, max_delta_step=0, max_depth=8,\n              min_child_weight=18, missing=nan, monotone_constraints='()',\n              n_estimators=100, n_jobs=4, num_parallel_tree=1, predictor='auto',\n              random_state=0, reg_alpha=0, reg_lambda=1, scale_pos_weight=1,\n              subsample=0.5993495781209559, tree_method='exact',\n              validate_parameters=1, verbosity=None)"
     },
     "execution_count": 28,
     "metadata": {},
     "output_type": "execute_result"
    }
   ]
  },
  {
   "cell_type": "code",
   "metadata": {
    "collapsed": false,
    "jupyter": {
     "outputs_hidden": false
    },
    "pycharm": {
     "name": "#%%\n"
    }
   },
   "source": [
    "y_pred = best_model.predict(X_test)\n",
    "y_pred = pd.DataFrame(data=y_pred, columns=['credit_card_default'])\n",
    "y_pred.index = X_test.index\n",
    "y_pred['credit_card_default'] = np.where(y_pred['credit_card_default'] == True, 1, 0)"
   ],
   "execution_count": 29,
   "outputs": []
  },
  {
   "cell_type": "code",
   "metadata": {
    "collapsed": false,
    "jupyter": {
     "outputs_hidden": false
    },
    "pycharm": {
     "name": "#%%\n"
    }
   },
   "source": [
    "y_pred.to_csv('Predicted value from Optuna.csv', index=True)"
   ],
   "execution_count": 30,
   "outputs": []
  }
 ],
 "metadata": {
  "kernelspec": {
   "display_name": "Python 3 (ipykernel)",
   "language": "python",
   "name": "python3"
  },
  "language_info": {
   "codemirror_mode": {
    "name": "ipython",
    "version": 3
   },
   "file_extension": ".py",
   "mimetype": "text/x-python",
   "name": "python",
   "nbconvert_exporter": "python",
   "pygments_lexer": "ipython3",
   "version": "3.9.7"
  }
 },
 "nbformat": 4,
 "nbformat_minor": 4
}