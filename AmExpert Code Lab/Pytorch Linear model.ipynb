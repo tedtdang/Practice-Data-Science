{
 "cells": [
  {
   "cell_type": "code",
   "execution_count": 2,
   "metadata": {},
   "outputs": [
    {
     "ename": "TypeError",
     "evalue": "Frame cannot be converted into a numpy array because it has columns of incompatible types",
     "output_type": "error",
     "traceback": [
      "\u001B[1;31m---------------------------------------------------------------------------\u001B[0m",
      "\u001B[1;31mTypeError\u001B[0m                                 Traceback (most recent call last)",
      "\u001B[1;32m<ipython-input-2-d08b8129e60f>\u001B[0m in \u001B[0;36m<module>\u001B[1;34m\u001B[0m\n\u001B[0;32m      2\u001B[0m \u001B[1;32mimport\u001B[0m \u001B[0mmatplotlib\u001B[0m\u001B[1;33m.\u001B[0m\u001B[0mpyplot\u001B[0m \u001B[1;32mas\u001B[0m \u001B[0mplt\u001B[0m\u001B[1;33m\u001B[0m\u001B[1;33m\u001B[0m\u001B[0m\n\u001B[0;32m      3\u001B[0m \u001B[1;33m\u001B[0m\u001B[0m\n\u001B[1;32m----> 4\u001B[1;33m \u001B[0mX_train\u001B[0m \u001B[1;33m=\u001B[0m \u001B[0mdt\u001B[0m\u001B[1;33m.\u001B[0m\u001B[0mfread\u001B[0m\u001B[1;33m(\u001B[0m\u001B[1;34m'X_train.csv'\u001B[0m\u001B[1;33m)\u001B[0m\u001B[1;33m.\u001B[0m\u001B[0mto_numpy\u001B[0m\u001B[1;33m(\u001B[0m\u001B[1;33m)\u001B[0m\u001B[1;33m\u001B[0m\u001B[1;33m\u001B[0m\u001B[0m\n\u001B[0m\u001B[0;32m      5\u001B[0m \u001B[0my_train\u001B[0m \u001B[1;33m=\u001B[0m \u001B[0mdt\u001B[0m\u001B[1;33m.\u001B[0m\u001B[0mfread\u001B[0m\u001B[1;33m(\u001B[0m\u001B[1;34m'y_train.csv'\u001B[0m\u001B[1;33m)\u001B[0m\u001B[1;33m.\u001B[0m\u001B[0mto_numpy\u001B[0m\u001B[1;33m(\u001B[0m\u001B[1;33m)\u001B[0m\u001B[1;33m\u001B[0m\u001B[1;33m\u001B[0m\u001B[0m\n\u001B[0;32m      6\u001B[0m \u001B[0mdf_test\u001B[0m \u001B[1;33m=\u001B[0m \u001B[0mdt\u001B[0m\u001B[1;33m.\u001B[0m\u001B[0mfread\u001B[0m\u001B[1;33m(\u001B[0m\u001B[1;34m'X_test.csv'\u001B[0m\u001B[1;33m)\u001B[0m\u001B[1;33m.\u001B[0m\u001B[0mto_numpy\u001B[0m\u001B[1;33m(\u001B[0m\u001B[1;33m)\u001B[0m\u001B[1;33m\u001B[0m\u001B[1;33m\u001B[0m\u001B[0m\n",
      "\u001B[1;31mTypeError\u001B[0m: Frame cannot be converted into a numpy array because it has columns of incompatible types"
     ]
    }
   ],
   "source": [
    "import datatable as dt\n",
    "import matplotlib.pyplot as plt\n",
    "\n",
    "X_train = dt.fread('X_train.csv').to_numpy()\n",
    "y_train = dt.fread('y_train.csv').to_numpy()\n",
    "df_test = dt.fread('X_test.csv').to_numpy()"
   ]
  },
  {
   "cell_type": "code",
   "execution_count": 3,
   "outputs": [],
   "source": [
    "import datatable as dt\n",
    "import matplotlib.pyplot as plt\n",
    "\n",
    "X_train = dt.fread('X_train.csv')\n",
    "y_train = dt.fread('y_train.csv')\n",
    "df_test = dt.fread('X_test.csv')"
   ],
   "metadata": {
    "collapsed": false,
    "pycharm": {
     "name": "#%%\n"
    }
   }
  },
  {
   "cell_type": "code",
   "execution_count": 5,
   "outputs": [
    {
     "data": {
      "text/plain": "<Frame#21a6a9595a0 10x42>",
      "text/html": "<div class='datatable'>\n  <table class='frame'>\n  <thead>\n    <tr class='colnames'><td class='row_index'></td><th>customer_id</th><th>imputed__no_of_children</th><th>imputed__no_of_days_employed</th><th>imputed__total_family_members</th><th>imputed__migrant_worker</th><th>imputed__yearly_debt_payments</th><th>imputed__credit_score</th><th>one_hot__x0_M</th><th>one_hot__x1_Y</th><th>one_hot__x2_Y</th><th class='vellipsis'>&hellip;</th><th>scaled__total_family_members</th><th>scaled__yearly_debt_payments</th><th>scaled__credit_limit</th><th>scaled__credit_limit_used(%)</th><th>scaled__credit_score</th></tr>\n    <tr class='coltypes'><td class='row_index'></td><td class='str' title='str32'>&#x25AA;&#x25AA;&#x25AA;&#x25AA;</td><td class='float' title='float64'>&#x25AA;&#x25AA;&#x25AA;&#x25AA;&#x25AA;&#x25AA;&#x25AA;&#x25AA;</td><td class='float' title='float64'>&#x25AA;&#x25AA;&#x25AA;&#x25AA;&#x25AA;&#x25AA;&#x25AA;&#x25AA;</td><td class='float' title='float64'>&#x25AA;&#x25AA;&#x25AA;&#x25AA;&#x25AA;&#x25AA;&#x25AA;&#x25AA;</td><td class='float' title='float64'>&#x25AA;&#x25AA;&#x25AA;&#x25AA;&#x25AA;&#x25AA;&#x25AA;&#x25AA;</td><td class='float' title='float64'>&#x25AA;&#x25AA;&#x25AA;&#x25AA;&#x25AA;&#x25AA;&#x25AA;&#x25AA;</td><td class='float' title='float64'>&#x25AA;&#x25AA;&#x25AA;&#x25AA;&#x25AA;&#x25AA;&#x25AA;&#x25AA;</td><td class='float' title='float64'>&#x25AA;&#x25AA;&#x25AA;&#x25AA;&#x25AA;&#x25AA;&#x25AA;&#x25AA;</td><td class='float' title='float64'>&#x25AA;&#x25AA;&#x25AA;&#x25AA;&#x25AA;&#x25AA;&#x25AA;&#x25AA;</td><td class='float' title='float64'>&#x25AA;&#x25AA;&#x25AA;&#x25AA;&#x25AA;&#x25AA;&#x25AA;&#x25AA;</td><td></td><td class='float' title='float64'>&#x25AA;&#x25AA;&#x25AA;&#x25AA;&#x25AA;&#x25AA;&#x25AA;&#x25AA;</td><td class='float' title='float64'>&#x25AA;&#x25AA;&#x25AA;&#x25AA;&#x25AA;&#x25AA;&#x25AA;&#x25AA;</td><td class='float' title='float64'>&#x25AA;&#x25AA;&#x25AA;&#x25AA;&#x25AA;&#x25AA;&#x25AA;&#x25AA;</td><td class='float' title='float64'>&#x25AA;&#x25AA;&#x25AA;&#x25AA;&#x25AA;&#x25AA;&#x25AA;&#x25AA;</td><td class='float' title='float64'>&#x25AA;&#x25AA;&#x25AA;&#x25AA;&#x25AA;&#x25AA;&#x25AA;&#x25AA;</td></tr>\n  </thead>\n  <tbody>\n    <tr><td class='row_index'>0</td><td>CST_115179</td><td>0</td><td>612</td><td>1</td><td>1</td><td>33070.3</td><td>544</td><td>0</td><td>0</td><td>1</td><td class=vellipsis>&hellip;</td><td>&minus;1.26947</td><td>0.0738169</td><td>&minus;0.166082</td><td>0.706761</td><td>&minus;2.37369</td></tr>\n    <tr><td class='row_index'>1</td><td>CST_121920</td><td>0</td><td>2771</td><td>2</td><td>0</td><td>15329.5</td><td>857</td><td>1</td><td>0</td><td>1</td><td class=vellipsis>&hellip;</td><td>&minus;0.17363</td><td>&minus;0.954722</td><td>&minus;0.0387526</td><td>&minus;0.00794164</td><td>0.73754</td></tr>\n    <tr><td class='row_index'>2</td><td>CST_109330</td><td>0</td><td>204</td><td>2</td><td>0</td><td>48416.6</td><td>650</td><td>1</td><td>0</td><td>1</td><td class=vellipsis>&hellip;</td><td>&minus;0.17363</td><td>0.963536</td><td>&minus;0.0130039</td><td>&minus;0.314243</td><td>&minus;1.32005</td></tr>\n    <tr><td class='row_index'>3</td><td>CST_128288</td><td>0</td><td>11941</td><td>2</td><td>0</td><td>22574.4</td><td>754</td><td>0</td><td>0</td><td>1</td><td class=vellipsis>&hellip;</td><td>&minus;0.17363</td><td>&minus;0.534695</td><td>&minus;0.0729498</td><td>&minus;1.09701</td><td>&minus;0.286283</td></tr>\n    <tr><td class='row_index'>4</td><td>CST_151355</td><td>0</td><td>1459</td><td>1</td><td>0</td><td>38282.9</td><td>927</td><td>1</td><td>1</td><td>1</td><td class=vellipsis>&hellip;</td><td>&minus;1.26947</td><td>0.376027</td><td>0.0628576</td><td>0.774828</td><td>1.43334</td></tr>\n    <tr><td class='row_index'>5</td><td>CST_123268</td><td>0</td><td>2898</td><td>2</td><td>1</td><td>37046.9</td><td>937</td><td>0</td><td>1</td><td>0</td><td class=vellipsis>&hellip;</td><td>&minus;0.17363</td><td>0.304363</td><td>&minus;0.0220434</td><td>&minus;1.13105</td><td>1.53274</td></tr>\n    <tr><td class='row_index'>6</td><td>CST_127502</td><td>1</td><td>5541</td><td>3</td><td>0</td><td>50839.4</td><td>733</td><td>1</td><td>0</td><td>1</td><td class=vellipsis>&hellip;</td><td>0.922211</td><td>1.104</td><td>&minus;0.0149236</td><td>&minus;0.348276</td><td>&minus;0.495024</td></tr>\n    <tr><td class='row_index'>7</td><td>CST_151722</td><td>1</td><td>1448</td><td>3</td><td>0</td><td>30008.5</td><td>906</td><td>0</td><td>1</td><td>1</td><td class=vellipsis>&hellip;</td><td>0.922211</td><td>&minus;0.103695</td><td>&minus;0.0757467</td><td>1.31936</td><td>1.2246</td></tr>\n    <tr><td class='row_index'>8</td><td>CST_111670</td><td>2</td><td>2791</td><td>4</td><td>0</td><td>9509.1</td><td>666</td><td>0</td><td>1</td><td>1</td><td class=vellipsis>&hellip;</td><td>2.01805</td><td>&minus;1.29217</td><td>&minus;0.101031</td><td>&minus;1.30121</td><td>&minus;1.16101</td></tr>\n    <tr><td class='row_index'>9</td><td>CST_153773</td><td>0</td><td>2252</td><td>2</td><td>1</td><td>8074.63</td><td>781</td><td>0</td><td>0</td><td>1</td><td class=vellipsis>&hellip;</td><td>&minus;0.17363</td><td>&minus;1.37533</td><td>&minus;0.200001</td><td>0.196259</td><td>&minus;0.0179025</td></tr>\n  </tbody>\n  </table>\n  <div class='footer'>\n    <div class='frame_dimensions'>10 rows &times; 42 columns</div>\n  </div>\n</div>\n"
     },
     "execution_count": 5,
     "metadata": {},
     "output_type": "execute_result"
    }
   ],
   "source": [
    "X_train.head()"
   ],
   "metadata": {
    "collapsed": false,
    "pycharm": {
     "name": "#%%\n"
    }
   }
  },
  {
   "cell_type": "code",
   "execution_count": null,
   "metadata": {
    "collapsed": false,
    "jupyter": {
     "outputs_hidden": false
    },
    "pycharm": {
     "name": "#%%\n"
    }
   },
   "outputs": [],
   "source": [
    "import torch\n",
    "\n",
    "device = 'cuda' if torch.cuda.is_available() else 'cpu'\n",
    "print(device)"
   ]
  },
  {
   "cell_type": "code",
   "execution_count": null,
   "metadata": {
    "collapsed": false,
    "jupyter": {
     "outputs_hidden": false
    },
    "pycharm": {
     "name": "#%%\n"
    }
   },
   "outputs": [],
   "source": [
    "def to_tensor_X_y(X, y=None):\n",
    "    '''Returns a data set of numpy array to X and y torch tensors '''\n",
    "    X = torch.from_numpy(X).type(torch.float)\n",
    "    if y:\n",
    "        y = torch.from_numpy(y).type(torch.float)\n",
    "        y = torch.reshape(y, (-1, 1))\n",
    "    return X, y\n",
    "\n",
    "\n",
    "X_train, y_train = to_tensor_X_y(X_train, y_train)\n",
    "X_test = to_tensor_X_y(df_test)"
   ]
  },
  {
   "cell_type": "code",
   "execution_count": null,
   "metadata": {
    "collapsed": false,
    "jupyter": {
     "outputs_hidden": false
    },
    "pycharm": {
     "name": "#%%\n"
    }
   },
   "outputs": [],
   "source": [
    "from torch.utils.data import TensorDataset, random_split\n",
    "\n",
    "# Split the training data to training and validation sets\n",
    "data_train = TensorDataset(X_train, y_train)\n",
    "data_test = TensorDataset(X_test)\n",
    "train_ratio = 0.8\n",
    "train_size = int(len(data_train) * train_ratio)\n",
    "val_size = len(data_train) - train_size\n",
    "train_ds, val_ds = random_split(data_train, [train_size, val_size])"
   ]
  },
  {
   "cell_type": "code",
   "execution_count": null,
   "metadata": {
    "collapsed": false,
    "jupyter": {
     "outputs_hidden": false
    },
    "pycharm": {
     "name": "#%%\n"
    }
   },
   "outputs": [],
   "source": [
    "from torch.utils.data.dataloader import DataLoader\n",
    "\n",
    "batch_size = 32\n",
    "\n",
    "# Training sampler and data loader\n",
    "train_loader = DataLoader(train_ds, batch_size, shuffle=True)\n",
    "val_loader = DataLoader(val_ds, batch_size)\n",
    "test_loader = DataLoader(data_test, batch_size)"
   ]
  },
  {
   "cell_type": "code",
   "execution_count": null,
   "metadata": {
    "collapsed": false,
    "jupyter": {
     "outputs_hidden": false
    },
    "pycharm": {
     "name": "#%%\n"
    }
   },
   "outputs": [],
   "source": [
    "import torch.nn as nn\n",
    "import torch.nn.functional as F\n",
    "import torch.optim as optim\n",
    "\n",
    "input_size = X_train.shape[1]\n",
    "output_size = y_train.shape[1]\n",
    "\n",
    "\n",
    "class My_Model(nn.Module):\n",
    "    def __init__(self, input_size, output_size):\n",
    "        super().__init__()\n",
    "        self.linear1 = nn.Linear(input_size, input_size//4)\n",
    "        self.linear2 = nn.Linear(input_size//4, input_size//2)\n",
    "        self.output = nn.Linear(input_size//2, output_size)\n",
    "\n",
    "    def forward(self, X):\n",
    "        X = F.relu(self.linear1(X))\n",
    "        X = F.relu(self.linear2(X))\n",
    "        return self.output(X)\n",
    "\n",
    "    def training_step(self, batch):\n",
    "        inputs, targets = batch\n",
    "        # Generate prediction\n",
    "        y_pred = self(inputs)\n",
    "        # Calculate loss\n",
    "        loss = F.binary_cross_entropy(y_pred, targets)\n",
    "        return loss\n",
    "\n",
    "    def validation_step(self, batch):\n",
    "        inputs, targets = batch\n",
    "        # Generate prediction\n",
    "        y_pred = self(inputs)\n",
    "        # Calculate loss\n",
    "        loss = F.binary_cross_entropy(y_pred, targets)\n",
    "        return {'val_loss': loss.detach()}  # Detach = no_grad\n",
    "\n",
    "    def validation_epoch_end(self, outputs):\n",
    "        batch_losses = [x['val_loss'] for x in outputs]\n",
    "        epoch_loss = torch.stack(batch_losses).mean()  # Combine losses\n",
    "        return {'val_loss': epoch_loss.item()}\n",
    "\n",
    "    def epoch_end(self, epoch, result, num_epochs):\n",
    "        # Print result every 10% of num_epochs\n",
    "        if (epoch + 1) % (num_epochs // 10) == 0:\n",
    "            print(f\"Epoch [{epoch + 1}], val_loss: {result['val_loss']:,.4f}\")"
   ]
  },
  {
   "cell_type": "code",
   "execution_count": null,
   "metadata": {
    "collapsed": false,
    "jupyter": {
     "outputs_hidden": false
    },
    "pycharm": {
     "name": "#%%\n"
    }
   },
   "outputs": [],
   "source": [
    "import math\n",
    "from tqdm import tqdm\n",
    "\n",
    "\n",
    "def evaluate(model, val_loader):\n",
    "    outputs = [model.validation_step(batch) for batch in val_loader]\n",
    "    return model.validation_epoch_end(outputs)\n",
    "\n",
    "\n",
    "def fit(epochs, lr, model, train_loader, val_loader, opt_func=optim.SGD):\n",
    "    history = []\n",
    "    optimizer = opt_func(model.parameters(), lr)\n",
    "    last_loss = -math.inf\n",
    "    patience = epochs // 20\n",
    "    for epoch in tqdm(range(epochs)):\n",
    "        trigger_times = 0\n",
    "        # Training Phase\n",
    "        for batch in train_loader:\n",
    "            loss = model.training_step(batch)\n",
    "            loss.backward()\n",
    "            optimizer.step()\n",
    "            optimizer.zero_grad()\n",
    "        # Validation phase\n",
    "        result = evaluate(model, val_loader)\n",
    "\n",
    "        # Early stopping\n",
    "        if result['val_loss'] > last_loss:\n",
    "            trigger_times += 1\n",
    "            if trigger_times >= patience:\n",
    "                history.append(result)\n",
    "                return history\n",
    "        last_loss = result['val_loss']\n",
    "\n",
    "        model.epoch_end(epoch, result, epochs)\n",
    "        history.append(result)\n",
    "    return history"
   ]
  },
  {
   "cell_type": "code",
   "execution_count": null,
   "metadata": {
    "collapsed": false,
    "jupyter": {
     "outputs_hidden": false
    },
    "pycharm": {
     "name": "#%%\n"
    }
   },
   "outputs": [],
   "source": [
    "model = My_Model(input_size, output_size)\n",
    "epochs = int(1e4)\n",
    "lr = 1e-5\n",
    "history = fit(epochs, lr, model, train_loader, val_loader)"
   ]
  },
  {
   "cell_type": "markdown",
   "metadata": {},
   "source": [
    "## This model is chosen because of its smaller validation loss against those with Optuna Search"
   ]
  },
  {
   "cell_type": "code",
   "execution_count": null,
   "metadata": {
    "collapsed": false,
    "jupyter": {
     "outputs_hidden": false
    },
    "pycharm": {
     "name": "#%%\n"
    }
   },
   "outputs": [],
   "source": [
    "# Plotting\n",
    "losses = [x['val_loss'] for x in history]\n",
    "plt.plot(losses, '-x')\n",
    "plt.xlabel('epoch')\n",
    "plt.ylabel('loss')\n",
    "plt.title('Loss vs. No. of epochs')"
   ]
  },
  {
   "cell_type": "code",
   "execution_count": null,
   "metadata": {
    "collapsed": false,
    "jupyter": {
     "outputs_hidden": false
    },
    "pycharm": {
     "name": "#%%\n"
    }
   },
   "outputs": [],
   "source": [
    "import pandas as pd\n",
    "\n",
    "# Make predictions using the trained model\n",
    "def to_csv(dataset, model, file_name):\n",
    "    preds, actual = [], []\n",
    "    for X, y in dataset:\n",
    "        X = X.unsqueeze(0)\n",
    "        predictions = model(X)\n",
    "        prediction = predictions[0].detach()\n",
    "        preds.append([i for i in prediction.flatten().numpy()])\n",
    "        actual.append([i for i in y.numpy().flatten()])\n",
    "    preds = [item for sublist in preds for item in sublist]\n",
    "    predicted_df = pd.DataFrame(data={'predicted_value': preds})\n",
    "    predicted_df.to_csv(file_name)"
   ]
  },
  {
   "cell_type": "code",
   "execution_count": null,
   "metadata": {},
   "outputs": [],
   "source": [
    "to_csv(test_loader, model, 'Predicted value from Pytorch Linear model.csv')"
   ]
  }
 ],
 "metadata": {
  "kernelspec": {
   "display_name": "Python 3 (ipykernel)",
   "language": "python",
   "name": "python3"
  },
  "language_info": {
   "codemirror_mode": {
    "name": "ipython",
    "version": 3
   },
   "file_extension": ".py",
   "mimetype": "text/x-python",
   "name": "python",
   "nbconvert_exporter": "python",
   "pygments_lexer": "ipython3",
   "version": "3.9.7"
  }
 },
 "nbformat": 4,
 "nbformat_minor": 4
}