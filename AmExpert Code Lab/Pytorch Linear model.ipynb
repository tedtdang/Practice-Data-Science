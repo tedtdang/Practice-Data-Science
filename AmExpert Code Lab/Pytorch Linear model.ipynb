{
 "cells": [
  {
   "cell_type": "code",
   "execution_count": null,
   "outputs": [],
   "source": [
    "import pandas as pd\n",
    "import numpy as np\n",
    "import matplotlib.pyplot as plt\n",
    "\n",
    "X_train = pd.read_csv('X_train.csv').iloc[:, 1:].values\n",
    "y_train = pd.read_csv('y_train.csv').iloc[:, 1:].values\n",
    "X_test = pd.read_csv('X_test.csv').iloc[:, 1:].values"
   ],
   "metadata": {
    "collapsed": false,
    "pycharm": {
     "name": "#%%\n"
    }
   }
  },
  {
   "cell_type": "code",
   "execution_count": null,
   "metadata": {
    "collapsed": false,
    "jupyter": {
     "outputs_hidden": false
    },
    "pycharm": {
     "name": "#%%\n"
    }
   },
   "outputs": [],
   "source": [
    "import torch\n",
    "\n",
    "device = 'cuda' if torch.cuda.is_available() else 'cpu'\n",
    "print(device)"
   ]
  },
  {
   "cell_type": "code",
   "execution_count": null,
   "metadata": {
    "collapsed": false,
    "jupyter": {
     "outputs_hidden": false
    },
    "pycharm": {
     "name": "#%%\n"
    }
   },
   "outputs": [],
   "source": [
    "def to_tensor_X_y(X, y=None):\n",
    "    '''Returns a data set of numpy array to X and y torch tensors '''\n",
    "    X = torch.from_numpy(X).type(torch.float)\n",
    "    if y is not None:\n",
    "        y = torch.from_numpy(y).type(torch.float)\n",
    "        y = torch.reshape(y, (-1, 1))\n",
    "        return X, y\n",
    "    return X\n",
    "\n",
    "\n",
    "X_train, y_train = to_tensor_X_y(X_train, y_train)\n",
    "X_test = to_tensor_X_y(X_test)"
   ]
  },
  {
   "cell_type": "code",
   "execution_count": null,
   "metadata": {
    "collapsed": false,
    "jupyter": {
     "outputs_hidden": false
    },
    "pycharm": {
     "name": "#%%\n"
    }
   },
   "outputs": [],
   "source": [
    "from torch.utils.data import TensorDataset, random_split\n",
    "\n",
    "# Split the training data to training and validation sets\n",
    "data_train = TensorDataset(X_train, y_train)\n",
    "data_test = TensorDataset(X_test)\n",
    "train_ratio = 0.8\n",
    "train_size = int(len(data_train) * train_ratio)\n",
    "val_size = len(data_train) - train_size\n",
    "train_ds, val_ds = random_split(data_train, [train_size, val_size])"
   ]
  },
  {
   "cell_type": "code",
   "execution_count": null,
   "metadata": {
    "collapsed": false,
    "jupyter": {
     "outputs_hidden": false
    },
    "pycharm": {
     "name": "#%%\n"
    }
   },
   "outputs": [],
   "source": [
    "from torch.utils.data.dataloader import DataLoader\n",
    "\n",
    "batch_size = 32\n",
    "\n",
    "# Training sampler and data loader\n",
    "train_loader = DataLoader(train_ds, batch_size, shuffle=True)\n",
    "val_loader = DataLoader(val_ds, batch_size)\n",
    "test_loader = DataLoader(data_test, batch_size)"
   ]
  },
  {
   "cell_type": "code",
   "execution_count": null,
   "metadata": {
    "collapsed": false,
    "jupyter": {
     "outputs_hidden": false
    },
    "pycharm": {
     "name": "#%%\n"
    }
   },
   "outputs": [],
   "source": [
    "import torch.nn as nn\n",
    "import torch.nn.functional as F\n",
    "import torch.optim as optim\n",
    "\n",
    "input_size = X_train.shape[1]\n",
    "output_size = y_train.shape[1]\n",
    "\n",
    "\n",
    "class My_Model(nn.Module):\n",
    "    def __init__(self, input_size, output_size):\n",
    "        super().__init__()\n",
    "        self.linear1 = nn.Linear(input_size, input_size // 4)\n",
    "        self.linear2 = nn.Linear(input_size // 4, input_size // 2)\n",
    "        self.output = nn.Linear(input_size // 2, output_size)\n",
    "\n",
    "    def forward(self, X):\n",
    "        X = F.relu(self.linear1(X))\n",
    "        X = F.relu(self.linear2(X))\n",
    "        return self.output(X)\n",
    "\n",
    "    def training_step(self, batch):\n",
    "        inputs, targets = batch\n",
    "        # Generate prediction\n",
    "        y_pred = self(inputs)\n",
    "        # Calculate loss\n",
    "        loss = F.binary_cross_entropy(y_pred, targets)\n",
    "        return loss\n",
    "\n",
    "    def validation_step(self, batch):\n",
    "        inputs, targets = batch\n",
    "        # Generate prediction\n",
    "        y_pred = self(inputs)\n",
    "        # Calculate loss\n",
    "        loss = F.binary_cross_entropy(y_pred, targets)\n",
    "        return {'val_loss': loss.detach()}  # Detach = no_grad\n",
    "\n",
    "    def validation_epoch_end(self, outputs):\n",
    "        batch_losses = [x['val_loss'] for x in outputs]\n",
    "        epoch_loss = torch.stack(batch_losses).mean()  # Combine losses\n",
    "        return {'val_loss': epoch_loss.item()}\n",
    "\n",
    "    def epoch_end(self, epoch, result, num_epochs):\n",
    "        # Print result every 10% of num_epochs\n",
    "        if (epoch + 1) % (num_epochs // 10) == 0:\n",
    "            print(f\"Epoch [{epoch + 1}], val_loss: {result['val_loss']:,.4f}\")"
   ]
  },
  {
   "cell_type": "code",
   "execution_count": null,
   "metadata": {
    "collapsed": false,
    "jupyter": {
     "outputs_hidden": false
    },
    "pycharm": {
     "name": "#%%\n"
    }
   },
   "outputs": [],
   "source": [
    "import math\n",
    "from tqdm import tqdm\n",
    "\n",
    "\n",
    "def evaluate(model, val_loader):\n",
    "    outputs = [model.validation_step(batch) for batch in val_loader]\n",
    "    return model.validation_epoch_end(outputs)\n",
    "\n",
    "\n",
    "def fit(epochs, lr, model, train_loader, val_loader, opt_func=optim.SGD):\n",
    "    history = []\n",
    "    optimizer = opt_func(model.parameters(), lr)\n",
    "    last_loss = -math.inf\n",
    "    patience = epochs // 20\n",
    "    for epoch in tqdm(range(epochs)):\n",
    "        trigger_times = 0\n",
    "        # Training Phase\n",
    "        for batch in train_loader:\n",
    "            loss = model.training_step(batch)\n",
    "            loss.backward()\n",
    "            optimizer.step()\n",
    "            optimizer.zero_grad()\n",
    "        # Validation phase\n",
    "        result = evaluate(model, val_loader)\n",
    "\n",
    "        # Early stopping\n",
    "        if result['val_loss'] > last_loss:\n",
    "            trigger_times += 1\n",
    "            if trigger_times >= patience:\n",
    "                history.append(result)\n",
    "                return history\n",
    "        last_loss = result['val_loss']\n",
    "\n",
    "        model.epoch_end(epoch, result, epochs)\n",
    "        history.append(result)\n",
    "    return history"
   ]
  },
  {
   "cell_type": "code",
   "execution_count": null,
   "metadata": {
    "collapsed": false,
    "jupyter": {
     "outputs_hidden": false
    },
    "pycharm": {
     "name": "#%%\n"
    }
   },
   "outputs": [],
   "source": [
    "model = My_Model(input_size, output_size)\n",
    "epochs = int(1e2)\n",
    "lr = 1e-5\n",
    "history = fit(epochs, lr, model, train_loader, val_loader)"
   ]
  },
  {
   "cell_type": "code",
   "execution_count": null,
   "metadata": {
    "collapsed": false,
    "jupyter": {
     "outputs_hidden": false
    },
    "pycharm": {
     "name": "#%%\n"
    }
   },
   "outputs": [],
   "source": [
    "# Plotting\n",
    "losses = [x['val_loss'] for x in history]\n",
    "plt.plot(losses, '-x')\n",
    "plt.xlabel('epoch')\n",
    "plt.ylabel('loss')\n",
    "plt.title('Loss vs. No. of epochs')"
   ]
  },
  {
   "cell_type": "code",
   "execution_count": null,
   "metadata": {
    "collapsed": false,
    "jupyter": {
     "outputs_hidden": false
    },
    "pycharm": {
     "name": "#%%\n"
    }
   },
   "outputs": [],
   "source": [
    "import pandas as pd\n",
    "\n",
    "\n",
    "# Make predictions using the trained model\n",
    "def to_csv(dataset, model, file_name):\n",
    "    preds, actual = [], []\n",
    "    for X, y in dataset:\n",
    "        X = X.unsqueeze(0)\n",
    "        predictions = model(X)\n",
    "        prediction = predictions[0].detach()\n",
    "        preds.append([i for i in prediction.flatten().numpy()])\n",
    "        actual.append([i for i in y.numpy().flatten()])\n",
    "    preds = [item for sublist in preds for item in sublist]\n",
    "    predicted_df = pd.DataFrame(data={'predicted_value': preds})\n",
    "    predicted_df.to_csv(file_name)"
   ]
  },
  {
   "cell_type": "code",
   "execution_count": null,
   "metadata": {},
   "outputs": [],
   "source": [
    "to_csv(test_loader, model, 'Predicted value from Pytorch Linear model.csv')"
   ]
  }
 ],
 "metadata": {
  "kernelspec": {
   "display_name": "Python 3 (ipykernel)",
   "language": "python",
   "name": "python3"
  },
  "language_info": {
   "codemirror_mode": {
    "name": "ipython",
    "version": 3
   },
   "file_extension": ".py",
   "mimetype": "text/x-python",
   "name": "python",
   "nbconvert_exporter": "python",
   "pygments_lexer": "ipython3",
   "version": "3.9.7"
  }
 },
 "nbformat": 4,
 "nbformat_minor": 4
}