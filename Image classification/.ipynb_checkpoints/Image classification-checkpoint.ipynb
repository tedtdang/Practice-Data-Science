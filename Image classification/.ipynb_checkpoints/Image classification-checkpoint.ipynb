{
 "cells": [
  {
   "cell_type": "markdown",
   "metadata": {},
   "source": [
    "### In this project, I rehearse what I have done and learned since May 2020 in classifying images of digits"
   ]
  },
  {
   "cell_type": "code",
   "execution_count": 1,
   "metadata": {},
   "outputs": [],
   "source": [
    "import numpy as np\n",
    "import matplotlib.pyplot as plt\n",
    "from sklearn.datasets import load_digits\n",
    "%matplotlib inline\n",
    "\n",
    "digits = load_digits()"
   ]
  },
  {
   "cell_type": "code",
   "execution_count": 2,
   "metadata": {},
   "outputs": [
    {
     "data": {
      "text/plain": [
       "['DESCR', 'data', 'feature_names', 'frame', 'images', 'target', 'target_names']"
      ]
     },
     "execution_count": 2,
     "metadata": {},
     "output_type": "execute_result"
    }
   ],
   "source": [
    "# Have a look at its attributes\n",
    "dir(digits)"
   ]
  },
  {
   "cell_type": "code",
   "execution_count": 3,
   "metadata": {},
   "outputs": [
    {
     "data": {
      "text/plain": [
       "<matplotlib.image.AxesImage at 0x27395bcd0d0>"
      ]
     },
     "execution_count": 3,
     "metadata": {},
     "output_type": "execute_result"
    },
    {
     "data": {
      "text/plain": [
       "<Figure size 432x288 with 0 Axes>"
      ]
     },
     "metadata": {},
     "output_type": "display_data"
    },
    {
     "data": {
      "image/png": "[encoded data removed]",
      "text/plain": [
       "<Figure size 288x288 with 1 Axes>"
      ]
     },
     "metadata": {
      "needs_background": "light"
     },
     "output_type": "display_data"
    }
   ],
   "source": [
    "# Show an image example\n",
    "import matplotlib.pyplot as plt\n",
    "%matplotlib inline\n",
    "plt.gray()\n",
    "plt.matshow(digits.images[0])"
   ]
  },
  {
   "cell_type": "code",
   "execution_count": 4,
   "metadata": {},
   "outputs": [
    {
     "data": {
      "text/plain": [
       "array([0, 1, 2, 3, 4])"
      ]
     },
     "execution_count": 4,
     "metadata": {},
     "output_type": "execute_result"
    }
   ],
   "source": [
    "# Return the true values of images from 0 to 4\n",
    "digits.target[:5]"
   ]
  },
  {
   "cell_type": "code",
   "execution_count": 5,
   "metadata": {},
   "outputs": [],
   "source": [
    "# Split the data set\n",
    "from sklearn.model_selection import train_test_split\n",
    "X_train, X_test, y_train, y_test = train_test_split(digits.data, digits.target, test_size=0.2, stratify=digits.target, random_state=1)\n",
    "\n",
    "# Normalize training and test data sets\n",
    "X_train /= 16\n",
    "X_test /= 16\n",
    "\n",
    "from tensorflow.keras.utils import to_categorical\n",
    "# One-hot encode y_train and y_test\n",
    "y_train = to_categorical(y_train, 10)\n",
    "y_test = to_categorical(y_test, 10)"
   ]
  },
  {
   "cell_type": "code",
   "execution_count": 6,
   "metadata": {},
   "outputs": [
    {
     "data": {
      "text/plain": [
       "(64,)"
      ]
     },
     "execution_count": 6,
     "metadata": {},
     "output_type": "execute_result"
    }
   ],
   "source": [
    "X_train[0].shape"
   ]
  },
  {
   "cell_type": "code",
   "execution_count": 7,
   "metadata": {},
   "outputs": [],
   "source": [
    "import tensorflow as tf\n",
    "from tensorflow import keras\n",
    "from tensorflow.keras.models import Sequential\n",
    "from tensorflow.keras.callbacks import EarlyStopping\n",
    "from tensorflow.keras.layers import Activation, Dense, Conv2D, Flatten, MaxPool2D, BatchNormalization, Dropout\n",
    "from tensorflow.keras.optimizers import Adam\n",
    "from tensorflow.keras.metrics import categorical_crossentropy\n",
    "\n",
    "# Create the keras tuner model.\n",
    "def build_model(hp):\n",
    "#     hp_filters = hp.Int('filters', min_value=16, max_value=128, step=16)\n",
    "#     hp_drop_out = hp.Float('dropout', 0, 0.5, step=0.1)\n",
    "    model = Sequential()\n",
    "    for i in range(hp.Int('num_layers', 2, 20)):\n",
    "        model.add(Dense(units=hp.Int('units_' + str(i), min_value=32, max_value=512, step=32), activation=tf.nn.leaky_relu, input_shape=(64,)))\n",
    "#         model.add(BatchNormalization())\n",
    "#         model.add(Dropout(hp_drop_out))\n",
    "    model.add(Flatten())\n",
    "    model.add(Dense(10, activation='softmax'))\n",
    "    opt = Adam(learning_rate=hp.Choice('learning_rate', values=[1e-2, 1e-3, 1e-4]))\n",
    "    model.compile(optimizer=opt, loss='categorical_crossentropy', metrics=['accuracy'])\n",
    "    return model"
   ]
  },
  {
   "cell_type": "code",
   "execution_count": 8,
   "metadata": {},
   "outputs": [
    {
     "name": "stdout",
     "output_type": "stream",
     "text": [
      "INFO:tensorflow:Reloading Oracle from existing project .\\untitled_project\\oracle.json\n",
      "INFO:tensorflow:Reloading Tuner from .\\untitled_project\\tuner0.json\n"
     ]
    }
   ],
   "source": [
    "from kerastuner.tuners import BayesianOptimization\n",
    "tuner = BayesianOptimization(\n",
    "    build_model,\n",
    "    objective='val_accuracy',\n",
    "    max_trials=15)"
   ]
  },
  {
   "cell_type": "code",
   "execution_count": 9,
   "metadata": {},
   "outputs": [
    {
     "name": "stdout",
     "output_type": "stream",
     "text": [
      "INFO:tensorflow:Oracle triggered exit\n"
     ]
    }
   ],
   "source": [
    "tuner.search(X_train, y_train, epochs=5, validation_data=(X_test, y_test))"
   ]
  },
  {
   "cell_type": "code",
   "execution_count": 11,
   "metadata": {},
   "outputs": [],
   "source": [
    "model = tuner.get_best_models(num_models=1)[0]"
   ]
  },
  {
   "cell_type": "code",
   "execution_count": 12,
   "metadata": {},
   "outputs": [],
   "source": [
    "# configure early stopping\n",
    "es = EarlyStopping(monitor='val_loss', patience=3)\n",
    "history = model.fit(X_train,y_train, epochs=10, validation_data=(X_test,y_test), verbose=0, callbacks=[es])"
   ]
  },
  {
   "cell_type": "code",
   "execution_count": 13,
   "metadata": {},
   "outputs": [],
   "source": [
    "y_pred = model.predict(x=X_test, batch_size=16, verbose=0)\n",
    "y_pred = np.argmax(y_pred, axis=1)"
   ]
  },
  {
   "cell_type": "code",
   "execution_count": 14,
   "metadata": {},
   "outputs": [
    {
     "data": {
      "text/plain": [
       "array([2, 6, 5, 8, 5, 5, 3, 6, 5, 4, 8, 5, 7, 4, 0, 9, 1, 1, 2, 5, 5, 7,\n",
       "       2, 8, 6, 3, 7, 3, 8, 0, 2, 0, 5, 4, 8, 0, 2, 7, 4, 2, 6, 2, 3, 2,\n",
       "       6, 1, 4, 8, 7, 8, 7, 2, 3, 7, 8, 7, 1, 1, 3, 1, 3, 7, 6, 5, 9, 2,\n",
       "       0, 6, 4, 9, 5, 5, 8, 1, 5, 7, 2, 6, 7, 9, 2, 3, 9, 5, 4, 7, 4, 7,\n",
       "       0, 5, 3, 6, 9, 5, 9, 7, 7, 6, 7, 1, 0, 7, 6, 9, 7, 8, 4, 1, 6, 6,\n",
       "       4, 9, 8, 3, 4, 5, 8, 4, 1, 7, 9, 0, 1, 5, 4, 1, 9, 1, 4, 2, 0, 4,\n",
       "       1, 0, 5, 8, 0, 3, 5, 8, 0, 6, 4, 4, 8, 9, 3, 7, 8, 3, 6, 2, 6, 5,\n",
       "       3, 5, 9, 6, 3, 0, 6, 6, 8, 1, 2, 6, 8, 7, 1, 9, 0, 0, 5, 2, 9, 2,\n",
       "       9, 8, 3, 8, 0, 7, 1, 0, 6, 3, 9, 3, 1, 1, 9, 2, 9, 0, 9, 5, 0, 0,\n",
       "       7, 8, 7, 4, 4, 0, 1, 9, 6, 4, 9, 3, 8, 5, 8, 0, 1, 3, 1, 5, 4, 1,\n",
       "       3, 8, 8, 0, 0, 8, 8, 3, 9, 0, 6, 7, 9, 0, 9, 3, 7, 5, 4, 1, 6, 6,\n",
       "       5, 4, 5, 8, 6, 4, 3, 4, 4, 6, 5, 2, 0, 2, 3, 7, 0, 9, 3, 9, 1, 5,\n",
       "       9, 5, 2, 2, 9, 3, 9, 6, 9, 9, 3, 1, 7, 6, 7, 6, 6, 3, 7, 0, 1, 9,\n",
       "       3, 4, 2, 8, 7, 3, 2, 8, 4, 7, 0, 3, 1, 1, 2, 2, 4, 3, 3, 9, 5, 5,\n",
       "       2, 9, 2, 4, 5, 8, 0, 1, 2, 6, 3, 1, 0, 9, 4, 2, 8, 8, 4, 1, 4, 2,\n",
       "       6, 1, 2, 6, 4, 1, 7, 6, 1, 6, 1, 2, 6, 8, 0, 9, 1, 0, 9, 2, 5, 2,\n",
       "       9, 4, 1, 7, 4, 5, 4, 6], dtype=int64)"
      ]
     },
     "execution_count": 14,
     "metadata": {},
     "output_type": "execute_result"
    }
   ],
   "source": [
    "y_pred"
   ]
  },
  {
   "cell_type": "code",
   "execution_count": 15,
   "metadata": {},
   "outputs": [
    {
     "data": {
      "text/plain": [
       "array([2, 6, 5, 8, 5, 5, 3, 6, 5, 4, 7, 5, 7, 4, 0, 9, 1, 1, 2, 5, 5, 7,\n",
       "       2, 8, 6, 3, 7, 3, 8, 0, 2, 0, 5, 4, 8, 0, 2, 7, 4, 2, 6, 2, 3, 2,\n",
       "       5, 1, 4, 8, 7, 8, 7, 2, 3, 7, 8, 7, 1, 1, 3, 1, 3, 7, 6, 5, 9, 2,\n",
       "       0, 6, 4, 9, 5, 5, 8, 1, 5, 7, 2, 6, 7, 9, 2, 3, 9, 5, 4, 7, 4, 7,\n",
       "       0, 5, 3, 6, 9, 5, 9, 7, 7, 6, 7, 1, 0, 7, 6, 9, 7, 8, 4, 1, 6, 6,\n",
       "       4, 4, 8, 3, 4, 3, 8, 0, 1, 7, 9, 0, 1, 5, 4, 1, 9, 1, 4, 2, 0, 4,\n",
       "       1, 0, 5, 8, 0, 3, 5, 8, 0, 6, 4, 4, 3, 9, 3, 7, 8, 3, 6, 2, 6, 5,\n",
       "       3, 5, 9, 6, 3, 0, 6, 6, 8, 1, 2, 6, 8, 7, 1, 9, 0, 0, 5, 2, 9, 2,\n",
       "       9, 8, 3, 8, 0, 7, 1, 0, 6, 3, 9, 3, 1, 1, 9, 2, 9, 0, 9, 5, 0, 0,\n",
       "       7, 8, 7, 4, 4, 0, 1, 9, 6, 4, 9, 3, 8, 5, 8, 0, 1, 3, 1, 5, 4, 1,\n",
       "       3, 8, 8, 0, 0, 8, 8, 3, 9, 0, 6, 7, 5, 0, 9, 3, 7, 5, 4, 8, 6, 6,\n",
       "       5, 4, 5, 8, 6, 4, 3, 7, 4, 6, 5, 2, 0, 2, 3, 7, 0, 9, 3, 9, 1, 5,\n",
       "       9, 5, 2, 2, 9, 3, 9, 6, 8, 9, 3, 1, 7, 6, 7, 6, 6, 3, 7, 0, 1, 9,\n",
       "       3, 4, 2, 8, 7, 3, 2, 8, 4, 7, 0, 3, 1, 1, 2, 2, 4, 3, 3, 9, 5, 5,\n",
       "       2, 9, 2, 4, 5, 8, 0, 1, 2, 4, 3, 1, 0, 9, 4, 2, 8, 8, 4, 1, 4, 2,\n",
       "       6, 1, 2, 6, 4, 1, 7, 6, 1, 6, 1, 2, 6, 8, 0, 9, 1, 0, 9, 2, 5, 2,\n",
       "       9, 4, 8, 7, 0, 5, 4, 6], dtype=int64)"
      ]
     },
     "execution_count": 15,
     "metadata": {},
     "output_type": "execute_result"
    }
   ],
   "source": [
    "np.argmax(y_test, axis=1, out=None)"
   ]
  },
  {
   "cell_type": "code",
   "execution_count": 16,
   "metadata": {},
   "outputs": [
    {
     "data": {
      "text/plain": [
       "array([[0., 0., 1., ..., 0., 0., 0.],\n",
       "       [0., 0., 0., ..., 0., 0., 0.],\n",
       "       [0., 0., 0., ..., 0., 0., 0.],\n",
       "       ...,\n",
       "       [0., 0., 0., ..., 0., 0., 0.],\n",
       "       [0., 0., 0., ..., 0., 0., 0.],\n",
       "       [0., 0., 0., ..., 0., 0., 0.]], dtype=float32)"
      ]
     },
     "execution_count": 16,
     "metadata": {},
     "output_type": "execute_result"
    }
   ],
   "source": [
    "y_test"
   ]
  },
  {
   "cell_type": "code",
   "execution_count": 17,
   "metadata": {},
   "outputs": [],
   "source": [
    "y_test = np.argmax(y_test, axis=1)"
   ]
  },
  {
   "cell_type": "code",
   "execution_count": 18,
   "metadata": {},
   "outputs": [
    {
     "name": "stdout",
     "output_type": "stream",
     "text": [
      "              precision    recall  f1-score   support\n",
      "\n",
      "           0       0.94      1.00      0.97        34\n",
      "           1       1.00      0.95      0.97        38\n",
      "           2       1.00      1.00      1.00        35\n",
      "           3       0.95      1.00      0.97        35\n",
      "           4       0.94      0.92      0.93        37\n",
      "           5       0.95      0.97      0.96        36\n",
      "           6       1.00      0.95      0.97        38\n",
      "           7       0.94      1.00      0.97        34\n",
      "           8       0.91      0.94      0.93        34\n",
      "           9       1.00      0.92      0.96        39\n",
      "\n",
      "    accuracy                           0.96       360\n",
      "   macro avg       0.96      0.97      0.96       360\n",
      "weighted avg       0.97      0.96      0.96       360\n",
      "\n"
     ]
    }
   ],
   "source": [
    "from sklearn.metrics import classification_report, f1_score\n",
    "print(classification_report(y_pred, y_test))"
   ]
  },
  {
   "cell_type": "markdown",
   "metadata": {},
   "source": [
    "### Visually verify if this is a good learning curve"
   ]
  },
  {
   "cell_type": "code",
   "execution_count": 19,
   "metadata": {},
   "outputs": [
    {
     "name": "stdout",
     "output_type": "stream",
     "text": [
      "dict_keys(['loss', 'accuracy', 'val_loss', 'val_accuracy'])\n"
     ]
    },
    {
     "data": {
      "image/png": "[encoded data removed]",
      "text/plain": [
       "<Figure size 432x288 with 1 Axes>"
      ]
     },
     "metadata": {
      "needs_background": "light"
     },
     "output_type": "display_data"
    },
    {
     "data": {
      "image/png": "[encoded data removed]",
      "text/plain": [
       "<Figure size 432x288 with 1 Axes>"
      ]
     },
     "metadata": {
      "needs_background": "light"
     },
     "output_type": "display_data"
    }
   ],
   "source": [
    "\n",
    "# list all data in history\n",
    "print(history.history.keys())\n",
    "# summarize history for accuracy\n",
    "plt.plot(history.history['accuracy'])\n",
    "plt.plot(history.history['val_accuracy'])\n",
    "plt.title('model accuracy')\n",
    "plt.ylabel('accuracy')\n",
    "plt.xlabel('epoch')\n",
    "plt.legend(['train', 'test'], loc='upper left')\n",
    "plt.show()\n",
    "# summarize history for loss\n",
    "plt.plot(history.history['loss'])\n",
    "plt.plot(history.history['val_loss'])\n",
    "plt.title('model loss')\n",
    "plt.ylabel('loss')\n",
    "plt.xlabel('epoch')\n",
    "plt.legend(['train', 'test'], loc='upper left')\n",
    "plt.show()"
   ]
  }
 ],
 "metadata": {
  "kernelspec": {
   "display_name": "Python 3",
   "language": "python",
   "name": "python3"
  },
  "language_info": {
   "codemirror_mode": {
    "name": "ipython",
    "version": 3
   },
   "file_extension": ".py",
   "mimetype": "text/x-python",
   "name": "python",
   "nbconvert_exporter": "python",
   "pygments_lexer": "ipython3",
   "version": "3.8.5"
  }
 },
 "nbformat": 4,
 "nbformat_minor": 4
}
