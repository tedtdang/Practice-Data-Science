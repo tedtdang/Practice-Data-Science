{
 "cells": [
  {
   "cell_type": "markdown",
   "metadata": {},
   "source": [
    "### In this project, I rehearse what I have done and learned since May 2020 in classifying images of digits"
   ]
  },
  {
   "cell_type": "code",
   "execution_count": 1,
   "metadata": {},
   "outputs": [],
   "source": [
    "import numpy as np\n",
    "# Load the data set\n",
    "from sklearn.datasets import load_digits\n",
    "digits = load_digits()"
   ]
  },
  {
   "cell_type": "code",
   "execution_count": 2,
   "metadata": {},
   "outputs": [
    {
     "data": {
      "text/plain": [
       "['DESCR', 'data', 'feature_names', 'frame', 'images', 'target', 'target_names']"
      ]
     },
     "execution_count": 2,
     "metadata": {},
     "output_type": "execute_result"
    }
   ],
   "source": [
    "# Have a look at its attributes\n",
    "dir(digits)"
   ]
  },
  {
   "cell_type": "code",
   "execution_count": 3,
   "metadata": {},
   "outputs": [
    {
     "data": {
      "text/plain": [
       "array([ 0.,  0.,  5., 13.,  9.,  1.,  0.,  0.,  0.,  0., 13., 15., 10.,\n",
       "       15.,  5.,  0.,  0.,  3., 15.,  2.,  0., 11.,  8.,  0.,  0.,  4.,\n",
       "       12.,  0.,  0.,  8.,  8.,  0.,  0.,  5.,  8.,  0.,  0.,  9.,  8.,\n",
       "        0.,  0.,  4., 11.,  0.,  1., 12.,  7.,  0.,  0.,  2., 14.,  5.,\n",
       "       10., 12.,  0.,  0.,  0.,  0.,  6., 13., 10.,  0.,  0.,  0.])"
      ]
     },
     "execution_count": 3,
     "metadata": {},
     "output_type": "execute_result"
    }
   ],
   "source": [
    "# Have a look at the matrix representation of an image example\n",
    "digits.data[0]"
   ]
  },
  {
   "cell_type": "code",
   "execution_count": 4,
   "metadata": {},
   "outputs": [
    {
     "data": {
      "text/plain": [
       "<matplotlib.image.AxesImage at 0x2912f2d4d88>"
      ]
     },
     "execution_count": 4,
     "metadata": {},
     "output_type": "execute_result"
    },
    {
     "data": {
      "text/plain": [
       "<Figure size 432x288 with 0 Axes>"
      ]
     },
     "metadata": {},
     "output_type": "display_data"
    },
    {
     "data": {
      "image/png": "[encoded data removed]",
      "text/plain": [
       "<Figure size 288x288 with 1 Axes>"
      ]
     },
     "metadata": {
      "needs_background": "light"
     },
     "output_type": "display_data"
    }
   ],
   "source": [
    "# Show an image example\n",
    "import matplotlib.pyplot as plt\n",
    "%matplotlib inline\n",
    "plt.gray()\n",
    "plt.matshow(digits.images[0])"
   ]
  },
  {
   "cell_type": "code",
   "execution_count": 5,
   "metadata": {},
   "outputs": [
    {
     "data": {
      "text/plain": [
       "array([0, 1, 2, 3, 4])"
      ]
     },
     "execution_count": 5,
     "metadata": {},
     "output_type": "execute_result"
    }
   ],
   "source": [
    "# Return the true values of images from 0 to 4\n",
    "digits.target[:5]"
   ]
  },
  {
   "cell_type": "code",
   "execution_count": 6,
   "metadata": {},
   "outputs": [],
   "source": [
    "# Split the data set\n",
    "from sklearn.model_selection import train_test_split\n",
    "X_train, X_test, y_train, y_test = train_test_split(digits.data, digits.target, test_size=0.2, stratify=digits.target, random_state=1)"
   ]
  },
  {
   "cell_type": "code",
   "execution_count": 7,
   "metadata": {},
   "outputs": [
    {
     "data": {
      "text/plain": [
       "(64,)"
      ]
     },
     "execution_count": 7,
     "metadata": {},
     "output_type": "execute_result"
    }
   ],
   "source": [
    "X_train[0].shape"
   ]
  },
  {
   "cell_type": "code",
   "execution_count": 8,
   "metadata": {},
   "outputs": [],
   "source": [
    "import tensorflow as tf\n",
    "from tensorflow import keras\n",
    "from tensorflow.keras.models import Sequential\n",
    "from tensorflow.keras.layers import Activation, Dense\n",
    "from tensorflow.keras.optimizers import Adam\n",
    "from tensorflow.keras.metrics import categorical_crossentropy\n",
    "\n",
    "model = Sequential([\n",
    "    Dense(units=16, input_shape=(64,), activation='relu'),\n",
    "    Dense(units=32, activation='relu'),\n",
    "    Dense(units=10, activation='softmax')\n",
    "])"
   ]
  },
  {
   "cell_type": "code",
   "execution_count": 9,
   "metadata": {},
   "outputs": [
    {
     "name": "stdout",
     "output_type": "stream",
     "text": [
      "Model: \"sequential\"\n",
      "_________________________________________________________________\n",
      "Layer (type)                 Output Shape              Param #   \n",
      "=================================================================\n",
      "dense (Dense)                (None, 16)                1040      \n",
      "_________________________________________________________________\n",
      "dense_1 (Dense)              (None, 32)                544       \n",
      "_________________________________________________________________\n",
      "dense_2 (Dense)              (None, 10)                330       \n",
      "=================================================================\n",
      "Total params: 1,914\n",
      "Trainable params: 1,914\n",
      "Non-trainable params: 0\n",
      "_________________________________________________________________\n"
     ]
    }
   ],
   "source": [
    "model.summary()"
   ]
  },
  {
   "cell_type": "code",
   "execution_count": 10,
   "metadata": {},
   "outputs": [],
   "source": [
    "model.compile(optimizer=Adam(learning_rate=0.0001), loss='sparse_categorical_crossentropy', metrics=['accuracy'])"
   ]
  },
  {
   "cell_type": "code",
   "execution_count": 11,
   "metadata": {},
   "outputs": [
    {
     "name": "stdout",
     "output_type": "stream",
     "text": [
      "Epoch 1/32\n",
      "81/81 - 0s - loss: 7.4665 - accuracy: 0.1245 - val_loss: 6.2339 - val_accuracy: 0.1528\n",
      "Epoch 2/32\n",
      "81/81 - 0s - loss: 5.5619 - accuracy: 0.1245 - val_loss: 4.8212 - val_accuracy: 0.1458\n",
      "Epoch 3/32\n",
      "81/81 - 0s - loss: 4.4149 - accuracy: 0.1292 - val_loss: 3.9876 - val_accuracy: 0.1389\n",
      "Epoch 4/32\n",
      "81/81 - 0s - loss: 3.6707 - accuracy: 0.1477 - val_loss: 3.4084 - val_accuracy: 0.1528\n",
      "Epoch 5/32\n",
      "81/81 - 0s - loss: 3.1175 - accuracy: 0.1694 - val_loss: 2.9679 - val_accuracy: 0.1667\n",
      "Epoch 6/32\n",
      "81/81 - 0s - loss: 2.6791 - accuracy: 0.2243 - val_loss: 2.5856 - val_accuracy: 0.1875\n",
      "Epoch 7/32\n",
      "81/81 - 0s - loss: 2.3148 - accuracy: 0.2869 - val_loss: 2.2560 - val_accuracy: 0.2500\n",
      "Epoch 8/32\n",
      "81/81 - 0s - loss: 2.0225 - accuracy: 0.3295 - val_loss: 1.9846 - val_accuracy: 0.3472\n",
      "Epoch 9/32\n",
      "81/81 - 0s - loss: 1.7922 - accuracy: 0.3813 - val_loss: 1.7735 - val_accuracy: 0.3889\n",
      "Epoch 10/32\n",
      "81/81 - 0s - loss: 1.6102 - accuracy: 0.4424 - val_loss: 1.6116 - val_accuracy: 0.4514\n",
      "Epoch 11/32\n",
      "81/81 - 0s - loss: 1.4592 - accuracy: 0.5035 - val_loss: 1.4783 - val_accuracy: 0.5069\n",
      "Epoch 12/32\n",
      "81/81 - 0s - loss: 1.3276 - accuracy: 0.5507 - val_loss: 1.3700 - val_accuracy: 0.5208\n",
      "Epoch 13/32\n",
      "81/81 - 0s - loss: 1.2156 - accuracy: 0.5963 - val_loss: 1.2764 - val_accuracy: 0.5556\n",
      "Epoch 14/32\n",
      "81/81 - 0s - loss: 1.1167 - accuracy: 0.6295 - val_loss: 1.1861 - val_accuracy: 0.6111\n",
      "Epoch 15/32\n",
      "81/81 - 0s - loss: 1.0304 - accuracy: 0.6574 - val_loss: 1.1092 - val_accuracy: 0.6319\n",
      "Epoch 16/32\n",
      "81/81 - 0s - loss: 0.9547 - accuracy: 0.6914 - val_loss: 1.0448 - val_accuracy: 0.6736\n",
      "Epoch 17/32\n",
      "81/81 - 0s - loss: 0.8883 - accuracy: 0.7053 - val_loss: 0.9908 - val_accuracy: 0.6806\n",
      "Epoch 18/32\n",
      "81/81 - 0s - loss: 0.8327 - accuracy: 0.7309 - val_loss: 0.9384 - val_accuracy: 0.7014\n",
      "Epoch 19/32\n",
      "81/81 - 0s - loss: 0.7811 - accuracy: 0.7425 - val_loss: 0.8922 - val_accuracy: 0.7083\n",
      "Epoch 20/32\n",
      "81/81 - 0s - loss: 0.7374 - accuracy: 0.7595 - val_loss: 0.8520 - val_accuracy: 0.7222\n",
      "Epoch 21/32\n",
      "81/81 - 0s - loss: 0.6973 - accuracy: 0.7765 - val_loss: 0.8141 - val_accuracy: 0.7361\n",
      "Epoch 22/32\n",
      "81/81 - 0s - loss: 0.6585 - accuracy: 0.7920 - val_loss: 0.7794 - val_accuracy: 0.7431\n",
      "Epoch 23/32\n",
      "81/81 - 0s - loss: 0.6246 - accuracy: 0.8036 - val_loss: 0.7454 - val_accuracy: 0.7500\n",
      "Epoch 24/32\n",
      "81/81 - 0s - loss: 0.5945 - accuracy: 0.8128 - val_loss: 0.7142 - val_accuracy: 0.7500\n",
      "Epoch 25/32\n",
      "81/81 - 0s - loss: 0.5645 - accuracy: 0.8206 - val_loss: 0.6836 - val_accuracy: 0.7500\n",
      "Epoch 26/32\n",
      "81/81 - 0s - loss: 0.5406 - accuracy: 0.8283 - val_loss: 0.6624 - val_accuracy: 0.7500\n",
      "Epoch 27/32\n",
      "81/81 - 0s - loss: 0.5166 - accuracy: 0.8407 - val_loss: 0.6344 - val_accuracy: 0.7639\n",
      "Epoch 28/32\n",
      "81/81 - 0s - loss: 0.4939 - accuracy: 0.8438 - val_loss: 0.6168 - val_accuracy: 0.7708\n",
      "Epoch 29/32\n",
      "81/81 - 0s - loss: 0.4747 - accuracy: 0.8561 - val_loss: 0.5959 - val_accuracy: 0.7639\n",
      "Epoch 30/32\n",
      "81/81 - 0s - loss: 0.4546 - accuracy: 0.8554 - val_loss: 0.5738 - val_accuracy: 0.7917\n",
      "Epoch 31/32\n",
      "81/81 - 0s - loss: 0.4381 - accuracy: 0.8631 - val_loss: 0.5552 - val_accuracy: 0.7986\n",
      "Epoch 32/32\n",
      "81/81 - 0s - loss: 0.4197 - accuracy: 0.8716 - val_loss: 0.5402 - val_accuracy: 0.8056\n"
     ]
    },
    {
     "data": {
      "text/plain": [
       "<tensorflow.python.keras.callbacks.History at 0x2913c89f2c8>"
      ]
     },
     "execution_count": 11,
     "metadata": {},
     "output_type": "execute_result"
    }
   ],
   "source": [
    "model.fit(x=X_train, y=y_train, validation_split=0.1, batch_size=16, epochs=32, shuffle=True, verbose=2)"
   ]
  },
  {
   "cell_type": "code",
   "execution_count": 12,
   "metadata": {},
   "outputs": [],
   "source": [
    "y_pred = model.predict(x=X_test, batch_size=16, verbose=0)\n",
    "y_pred = np.argmax(y_pred, axis=1)"
   ]
  },
  {
   "cell_type": "code",
   "execution_count": 13,
   "metadata": {},
   "outputs": [],
   "source": [
    "# from sklearn.linear_model import LogisticRegression\n",
    "# from sklearn.ensemble import RandomForestClassifier\n",
    "# from sklearn.svm import SVC\n",
    "\n",
    "# model_params = {\n",
    "#     'logistic_regression': {\n",
    "#         'model': LogisticRegression(),\n",
    "#         'params': {\n",
    "#             'C': range(1, 10),\n",
    "#             'solver': ['liblinear', 'sag', 'saga'],\n",
    "#             'max_iter': [1000]\n",
    "#         }\n",
    "#     },\n",
    "    \n",
    "#     'SVC': {\n",
    "#         'model': SVC(),\n",
    "#         'params': {\n",
    "#             'C': range(1, 10),\n",
    "#             'kernel': ['linear', 'rbf', 'poly', 'sigmoid']\n",
    "#         }\n",
    "#     },\n",
    "    \n",
    "#     'randomforest': {\n",
    "#         'model': RandomForestClassifier(),\n",
    "#         'params': {\n",
    "#             'n_estimators': range(100, 1000, 100),\n",
    "#             'criterion': ['gini', 'entropy'],\n",
    "#             'max_features': ['auto', 'log2', 'sqrt'],\n",
    "#         }\n",
    "#     }\n",
    "# }"
   ]
  },
  {
   "cell_type": "code",
   "execution_count": 14,
   "metadata": {},
   "outputs": [],
   "source": [
    "# from sklearn.model_selection import StratifiedKFold , cross_val_score, RandomizedSearchCV\n",
    "# from sklearn.preprocessing import StandardScaler\n",
    "\n",
    "# n_iter_search = 10\n",
    "# scores = []\n",
    "# best_estimators = []\n",
    "\n",
    "# for algo, param in model_params.items():\n",
    "#     grid = RandomizedSearchCV(param['model'], param['params'], cv=StratifiedKFold(), return_train_score=False, n_iter=n_iter_search, verbose=0)\n",
    "#     grid.fit(X_train, y_train)\n",
    "#     scores.append({\n",
    "#         'model': algo,\n",
    "#         'best_parameters': grid.best_params_,\n",
    "#         'best_score': grid.best_score_\n",
    "#     })\n",
    "#     best_estimators.append(grid.best_estimator_)"
   ]
  },
  {
   "cell_type": "code",
   "execution_count": 15,
   "metadata": {},
   "outputs": [],
   "source": [
    "# scores"
   ]
  },
  {
   "cell_type": "code",
   "execution_count": 16,
   "metadata": {},
   "outputs": [],
   "source": [
    "# best_estimators"
   ]
  },
  {
   "cell_type": "code",
   "execution_count": 17,
   "metadata": {},
   "outputs": [],
   "source": [
    "# final_model = SVC(kernel='rbf', C=8)\n",
    "# final_model.fit(X_train, y_train)\n",
    "# y_pred = final_model.predict(X_test)"
   ]
  },
  {
   "cell_type": "code",
   "execution_count": 18,
   "metadata": {},
   "outputs": [
    {
     "name": "stdout",
     "output_type": "stream",
     "text": [
      "              precision    recall  f1-score   support\n",
      "\n",
      "           0       0.97      0.95      0.96        37\n",
      "           1       0.89      0.86      0.88        37\n",
      "           2       0.86      0.86      0.86        35\n",
      "           3       0.73      0.77      0.75        35\n",
      "           4       0.78      0.93      0.85        30\n",
      "           5       0.89      0.92      0.90        36\n",
      "           6       1.00      0.90      0.95        40\n",
      "           7       0.75      0.77      0.76        35\n",
      "           8       0.69      0.75      0.72        32\n",
      "           9       0.89      0.74      0.81        43\n",
      "\n",
      "    accuracy                           0.84       360\n",
      "   macro avg       0.84      0.85      0.84       360\n",
      "weighted avg       0.85      0.84      0.85       360\n",
      "\n"
     ]
    }
   ],
   "source": [
    "from sklearn.metrics import classification_report, f1_score\n",
    "print(classification_report(y_pred, y_test))"
   ]
  }
 ],
 "metadata": {
  "kernelspec": {
   "display_name": "Python 3",
   "language": "python",
   "name": "python3"
  },
  "language_info": {
   "codemirror_mode": {
    "name": "ipython",
    "version": 3
   },
   "file_extension": ".py",
   "mimetype": "text/x-python",
   "name": "python",
   "nbconvert_exporter": "python",
   "pygments_lexer": "ipython3",
   "version": "3.7.9"
  }
 },
 "nbformat": 4,
 "nbformat_minor": 4
}
