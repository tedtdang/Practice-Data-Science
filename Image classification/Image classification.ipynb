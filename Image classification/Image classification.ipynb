{
 "cells": [
  {
   "cell_type": "markdown",
   "metadata": {},
   "source": [
    "### In this project, I rehearse what I have done and learned since May 2020 in classifying images of digits"
   ]
  },
  {
   "cell_type": "code",
   "execution_count": 1,
   "metadata": {},
   "outputs": [],
   "source": [
    "import numpy as np\n",
    "import matplotlib.pyplot as plt\n",
    "from sklearn.datasets import load_digits\n",
    "%matplotlib inline\n",
    "\n",
    "digits = load_digits()"
   ]
  },
  {
   "cell_type": "code",
   "execution_count": 2,
   "metadata": {},
   "outputs": [
    {
     "data": {
      "text/plain": [
       "['DESCR', 'data', 'feature_names', 'frame', 'images', 'target', 'target_names']"
      ]
     },
     "execution_count": 2,
     "metadata": {},
     "output_type": "execute_result"
    }
   ],
   "source": [
    "# Have a look at its attributes\n",
    "dir(digits)"
   ]
  },
  {
   "cell_type": "code",
   "execution_count": 3,
   "metadata": {},
   "outputs": [
    {
     "data": {
      "text/plain": [
       "16.0"
      ]
     },
     "execution_count": 3,
     "metadata": {},
     "output_type": "execute_result"
    }
   ],
   "source": [
    "# Have a look at the matrix representation of an image example\n",
    "digits.data[:].max()"
   ]
  },
  {
   "cell_type": "code",
   "execution_count": 4,
   "metadata": {},
   "outputs": [
    {
     "data": {
      "text/plain": [
       "<matplotlib.image.AxesImage at 0x2031c362b48>"
      ]
     },
     "execution_count": 4,
     "metadata": {},
     "output_type": "execute_result"
    },
    {
     "data": {
      "text/plain": [
       "<Figure size 432x288 with 0 Axes>"
      ]
     },
     "metadata": {},
     "output_type": "display_data"
    },
    {
     "data": {
      "image/png": "[encoded data removed]",
      "text/plain": [
       "<Figure size 288x288 with 1 Axes>"
      ]
     },
     "metadata": {
      "needs_background": "light"
     },
     "output_type": "display_data"
    }
   ],
   "source": [
    "# Show an image example\n",
    "import matplotlib.pyplot as plt\n",
    "%matplotlib inline\n",
    "plt.gray()\n",
    "plt.matshow(digits.images[0])"
   ]
  },
  {
   "cell_type": "code",
   "execution_count": 5,
   "metadata": {},
   "outputs": [
    {
     "data": {
      "text/plain": [
       "array([0, 1, 2, 3, 4])"
      ]
     },
     "execution_count": 5,
     "metadata": {},
     "output_type": "execute_result"
    }
   ],
   "source": [
    "# Return the true values of images from 0 to 4\n",
    "digits.target[:5]"
   ]
  },
  {
   "cell_type": "code",
   "execution_count": 6,
   "metadata": {},
   "outputs": [],
   "source": [
    "# Split the data set\n",
    "from sklearn.model_selection import train_test_split\n",
    "X_train, X_test, y_train, y_test = train_test_split(digits.data, digits.target, test_size=0.2, stratify=digits.target, random_state=1)\n",
    "# Normalize training and test data sets\n",
    "X_train /= 16\n",
    "X_test /= 16"
   ]
  },
  {
   "cell_type": "code",
   "execution_count": 7,
   "metadata": {},
   "outputs": [
    {
     "data": {
      "text/plain": [
       "(64,)"
      ]
     },
     "execution_count": 7,
     "metadata": {},
     "output_type": "execute_result"
    }
   ],
   "source": [
    "X_train[0].shape"
   ]
  },
  {
   "cell_type": "code",
   "execution_count": 8,
   "metadata": {},
   "outputs": [],
   "source": [
    "import tensorflow as tf\n",
    "from tensorflow import keras\n",
    "from tensorflow.keras.models import Sequential\n",
    "from tensorflow.keras.layers import Activation, Dense\n",
    "from tensorflow.keras.optimizers import Adam\n",
    "from tensorflow.keras.metrics import categorical_crossentropy\n",
    "\n",
    "model = Sequential([\n",
    "    Dense(units=16, input_shape=(64,), activation=tf.nn.leaky_relu),\n",
    "    Dense(units=128, activation=tf.nn.leaky_relu),\n",
    "    Dense(units=10, activation='softmax')\n",
    "])"
   ]
  },
  {
   "cell_type": "code",
   "execution_count": 9,
   "metadata": {},
   "outputs": [
    {
     "name": "stdout",
     "output_type": "stream",
     "text": [
      "Model: \"sequential\"\n",
      "_________________________________________________________________\n",
      "Layer (type)                 Output Shape              Param #   \n",
      "=================================================================\n",
      "dense (Dense)                (None, 16)                1040      \n",
      "_________________________________________________________________\n",
      "dense_1 (Dense)              (None, 128)               2176      \n",
      "_________________________________________________________________\n",
      "dense_2 (Dense)              (None, 10)                1290      \n",
      "=================================================================\n",
      "Total params: 4,506\n",
      "Trainable params: 4,506\n",
      "Non-trainable params: 0\n",
      "_________________________________________________________________\n"
     ]
    }
   ],
   "source": [
    "model.summary()"
   ]
  },
  {
   "cell_type": "code",
   "execution_count": 10,
   "metadata": {},
   "outputs": [],
   "source": [
    "model.compile(optimizer=Adam(learning_rate=0.0001), loss='sparse_categorical_crossentropy', metrics=['accuracy'])"
   ]
  },
  {
   "cell_type": "code",
   "execution_count": 11,
   "metadata": {},
   "outputs": [
    {
     "name": "stdout",
     "output_type": "stream",
     "text": [
      "Epoch 1/32\n",
      "41/41 - 0s - loss: 2.2968 - accuracy: 0.0905 - val_loss: 2.2819 - val_accuracy: 0.1389\n",
      "Epoch 2/32\n",
      "41/41 - 0s - loss: 2.2550 - accuracy: 0.1663 - val_loss: 2.2384 - val_accuracy: 0.2500\n",
      "Epoch 3/32\n",
      "41/41 - 0s - loss: 2.2156 - accuracy: 0.2738 - val_loss: 2.1967 - val_accuracy: 0.2917\n",
      "Epoch 4/32\n",
      "41/41 - 0s - loss: 2.1752 - accuracy: 0.3705 - val_loss: 2.1531 - val_accuracy: 0.4097\n",
      "Epoch 5/32\n",
      "41/41 - 0s - loss: 2.1321 - accuracy: 0.4486 - val_loss: 2.1063 - val_accuracy: 0.4792\n",
      "Epoch 6/32\n",
      "41/41 - 0s - loss: 2.0840 - accuracy: 0.4965 - val_loss: 2.0562 - val_accuracy: 0.5208\n",
      "Epoch 7/32\n",
      "41/41 - 0s - loss: 2.0317 - accuracy: 0.5422 - val_loss: 2.0000 - val_accuracy: 0.5625\n",
      "Epoch 8/32\n",
      "41/41 - 0s - loss: 1.9737 - accuracy: 0.5800 - val_loss: 1.9413 - val_accuracy: 0.6111\n",
      "Epoch 9/32\n",
      "41/41 - 0s - loss: 1.9108 - accuracy: 0.6094 - val_loss: 1.8760 - val_accuracy: 0.6389\n",
      "Epoch 10/32\n",
      "41/41 - 0s - loss: 1.8436 - accuracy: 0.6295 - val_loss: 1.8091 - val_accuracy: 0.6667\n",
      "Epoch 11/32\n",
      "41/41 - 0s - loss: 1.7728 - accuracy: 0.6806 - val_loss: 1.7368 - val_accuracy: 0.6875\n",
      "Epoch 12/32\n",
      "41/41 - 0s - loss: 1.6991 - accuracy: 0.6953 - val_loss: 1.6669 - val_accuracy: 0.7014\n",
      "Epoch 13/32\n",
      "41/41 - 0s - loss: 1.6250 - accuracy: 0.7084 - val_loss: 1.5930 - val_accuracy: 0.7153\n",
      "Epoch 14/32\n",
      "41/41 - 0s - loss: 1.5497 - accuracy: 0.7224 - val_loss: 1.5212 - val_accuracy: 0.7292\n",
      "Epoch 15/32\n",
      "41/41 - 0s - loss: 1.4762 - accuracy: 0.7340 - val_loss: 1.4511 - val_accuracy: 0.7500\n",
      "Epoch 16/32\n",
      "41/41 - 0s - loss: 1.4046 - accuracy: 0.7548 - val_loss: 1.3860 - val_accuracy: 0.7569\n",
      "Epoch 17/32\n",
      "41/41 - 0s - loss: 1.3359 - accuracy: 0.7664 - val_loss: 1.3222 - val_accuracy: 0.7639\n",
      "Epoch 18/32\n",
      "41/41 - 0s - loss: 1.2703 - accuracy: 0.7726 - val_loss: 1.2609 - val_accuracy: 0.7917\n",
      "Epoch 19/32\n",
      "41/41 - 0s - loss: 1.2077 - accuracy: 0.7819 - val_loss: 1.2015 - val_accuracy: 0.7917\n",
      "Epoch 20/32\n",
      "41/41 - 0s - loss: 1.1484 - accuracy: 0.7889 - val_loss: 1.1493 - val_accuracy: 0.7917\n",
      "Epoch 21/32\n",
      "41/41 - 0s - loss: 1.0925 - accuracy: 0.7881 - val_loss: 1.0972 - val_accuracy: 0.7847\n",
      "Epoch 22/32\n",
      "41/41 - 0s - loss: 1.0406 - accuracy: 0.8028 - val_loss: 1.0516 - val_accuracy: 0.8056\n",
      "Epoch 23/32\n",
      "41/41 - 0s - loss: 0.9920 - accuracy: 0.8152 - val_loss: 1.0049 - val_accuracy: 0.8125\n",
      "Epoch 24/32\n",
      "41/41 - 0s - loss: 0.9457 - accuracy: 0.8229 - val_loss: 0.9608 - val_accuracy: 0.8125\n",
      "Epoch 25/32\n",
      "41/41 - 0s - loss: 0.9040 - accuracy: 0.8291 - val_loss: 0.9222 - val_accuracy: 0.8333\n",
      "Epoch 26/32\n",
      "41/41 - 0s - loss: 0.8647 - accuracy: 0.8306 - val_loss: 0.8839 - val_accuracy: 0.8472\n",
      "Epoch 27/32\n",
      "41/41 - 0s - loss: 0.8287 - accuracy: 0.8345 - val_loss: 0.8502 - val_accuracy: 0.8542\n",
      "Epoch 28/32\n",
      "41/41 - 0s - loss: 0.7950 - accuracy: 0.8376 - val_loss: 0.8159 - val_accuracy: 0.8611\n",
      "Epoch 29/32\n",
      "41/41 - 0s - loss: 0.7629 - accuracy: 0.8422 - val_loss: 0.7863 - val_accuracy: 0.8681\n",
      "Epoch 30/32\n",
      "41/41 - 0s - loss: 0.7343 - accuracy: 0.8469 - val_loss: 0.7591 - val_accuracy: 0.8681\n",
      "Epoch 31/32\n",
      "41/41 - 0s - loss: 0.7080 - accuracy: 0.8500 - val_loss: 0.7335 - val_accuracy: 0.8681\n",
      "Epoch 32/32\n",
      "41/41 - 0s - loss: 0.6820 - accuracy: 0.8577 - val_loss: 0.7085 - val_accuracy: 0.8681\n"
     ]
    }
   ],
   "source": [
    "history = model.fit(x=X_train, y=y_train, validation_split=0.1, batch_size=32, epochs=32, shuffle=True, verbose=2)"
   ]
  },
  {
   "cell_type": "code",
   "execution_count": 12,
   "metadata": {},
   "outputs": [],
   "source": [
    "y_pred = model.predict(x=X_test, batch_size=16, verbose=0)\n",
    "y_pred = np.argmax(y_pred, axis=1)"
   ]
  },
  {
   "cell_type": "code",
   "execution_count": 13,
   "metadata": {},
   "outputs": [
    {
     "name": "stdout",
     "output_type": "stream",
     "text": [
      "              precision    recall  f1-score   support\n",
      "\n",
      "           0       0.94      1.00      0.97        34\n",
      "           1       0.83      0.75      0.79        40\n",
      "           2       0.91      0.82      0.86        39\n",
      "           3       0.89      0.79      0.84        42\n",
      "           4       0.94      0.89      0.92        38\n",
      "           5       0.92      0.94      0.93        36\n",
      "           6       1.00      0.97      0.99        37\n",
      "           7       0.89      0.82      0.85        39\n",
      "           8       0.60      0.91      0.72        23\n",
      "           9       0.75      0.84      0.79        32\n",
      "\n",
      "    accuracy                           0.87       360\n",
      "   macro avg       0.87      0.87      0.87       360\n",
      "weighted avg       0.88      0.87      0.87       360\n",
      "\n"
     ]
    }
   ],
   "source": [
    "from sklearn.metrics import classification_report, f1_score\n",
    "print(classification_report(y_pred, y_test))"
   ]
  },
  {
   "cell_type": "markdown",
   "metadata": {},
   "source": [
    "### Visually verify if this is a good learning curve"
   ]
  },
  {
   "cell_type": "code",
   "execution_count": 14,
   "metadata": {},
   "outputs": [
    {
     "name": "stdout",
     "output_type": "stream",
     "text": [
      "dict_keys(['loss', 'accuracy', 'val_loss', 'val_accuracy'])\n"
     ]
    },
    {
     "data": {
      "image/png": "[encoded data removed]",
      "text/plain": [
       "<Figure size 432x288 with 1 Axes>"
      ]
     },
     "metadata": {
      "needs_background": "light"
     },
     "output_type": "display_data"
    },
    {
     "data": {
      "image/png": "[encoded data removed]",
      "text/plain": [
       "<Figure size 432x288 with 1 Axes>"
      ]
     },
     "metadata": {
      "needs_background": "light"
     },
     "output_type": "display_data"
    }
   ],
   "source": [
    "# list all data in history\n",
    "print(history.history.keys())\n",
    "# summarize history for accuracy\n",
    "plt.plot(history.history['accuracy'])\n",
    "plt.plot(history.history['val_accuracy'])\n",
    "plt.title('model accuracy')\n",
    "plt.ylabel('accuracy')\n",
    "plt.xlabel('epoch')\n",
    "plt.legend(['train', 'test'], loc='upper left')\n",
    "plt.show()\n",
    "# summarize history for loss\n",
    "plt.plot(history.history['loss'])\n",
    "plt.plot(history.history['val_loss'])\n",
    "plt.title('model loss')\n",
    "plt.ylabel('loss')\n",
    "plt.xlabel('epoch')\n",
    "plt.legend(['train', 'test'], loc='upper left')\n",
    "plt.show()"
   ]
  },
  {
   "cell_type": "code",
   "execution_count": 15,
   "metadata": {},
   "outputs": [],
   "source": [
    "# from sklearn.linear_model import LogisticRegression\n",
    "# from sklearn.ensemble import RandomForestClassifier\n",
    "# from sklearn.svm import SVC\n",
    "\n",
    "# model_params = {\n",
    "#     'logistic_regression': {\n",
    "#         'model': LogisticRegression(),\n",
    "#         'params': {\n",
    "#             'C': range(1, 10),\n",
    "#             'solver': ['liblinear', 'sag', 'saga'],\n",
    "#             'max_iter': [1000]\n",
    "#         }\n",
    "#     },\n",
    "    \n",
    "#     'SVC': {\n",
    "#         'model': SVC(),\n",
    "#         'params': {\n",
    "#             'C': range(1, 10),\n",
    "#             'kernel': ['linear', 'rbf', 'poly', 'sigmoid']\n",
    "#         }\n",
    "#     },\n",
    "    \n",
    "#     'randomforest': {\n",
    "#         'model': RandomForestClassifier(),\n",
    "#         'params': {\n",
    "#             'n_estimators': range(100, 1000, 100),\n",
    "#             'criterion': ['gini', 'entropy'],\n",
    "#             'max_features': ['auto', 'log2', 'sqrt'],\n",
    "#         }\n",
    "#     }\n",
    "# }"
   ]
  },
  {
   "cell_type": "code",
   "execution_count": 16,
   "metadata": {},
   "outputs": [],
   "source": [
    "# from sklearn.model_selection import StratifiedKFold , cross_val_score, RandomizedSearchCV\n",
    "# from sklearn.preprocessing import StandardScaler\n",
    "\n",
    "# n_iter_search = 10\n",
    "# scores = []\n",
    "# best_estimators = []\n",
    "\n",
    "# for algo, param in model_params.items():\n",
    "#     grid = RandomizedSearchCV(param['model'], param['params'], cv=StratifiedKFold(), return_train_score=False, n_iter=n_iter_search, verbose=0)\n",
    "#     grid.fit(X_train, y_train)\n",
    "#     scores.append({\n",
    "#         'model': algo,\n",
    "#         'best_parameters': grid.best_params_,\n",
    "#         'best_score': grid.best_score_\n",
    "#     })\n",
    "#     best_estimators.append(grid.best_estimator_)"
   ]
  },
  {
   "cell_type": "code",
   "execution_count": 17,
   "metadata": {},
   "outputs": [],
   "source": [
    "# scores"
   ]
  },
  {
   "cell_type": "code",
   "execution_count": 18,
   "metadata": {},
   "outputs": [],
   "source": [
    "# best_estimators"
   ]
  },
  {
   "cell_type": "code",
   "execution_count": 19,
   "metadata": {},
   "outputs": [],
   "source": [
    "# final_model = SVC(kernel='rbf', C=8)\n",
    "# final_model.fit(X_train, y_train)\n",
    "# y_pred = final_model.predict(X_test)"
   ]
  }
 ],
 "metadata": {
  "kernelspec": {
   "display_name": "Python 3",
   "language": "python",
   "name": "python3"
  },
  "language_info": {
   "codemirror_mode": {
    "name": "ipython",
    "version": 3
   },
   "file_extension": ".py",
   "mimetype": "text/x-python",
   "name": "python",
   "nbconvert_exporter": "python",
   "pygments_lexer": "ipython3",
   "version": "3.7.9"
  }
 },
 "nbformat": 4,
 "nbformat_minor": 4
}
