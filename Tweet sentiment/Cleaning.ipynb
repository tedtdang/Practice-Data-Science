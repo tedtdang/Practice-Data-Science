{
 "cells": [
  {
   "cell_type": "code",
   "execution_count": 1,
   "metadata": {},
   "outputs": [],
   "source": [
    "import warnings\n",
    "\n",
    "warnings.filterwarnings(\"ignore\")\n"
   ]
  },
  {
   "cell_type": "markdown",
   "metadata": {},
   "source": [
    "#### Import data set"
   ]
  },
  {
   "cell_type": "code",
   "execution_count": 2,
   "metadata": {},
   "outputs": [
    {
     "name": "stderr",
     "output_type": "stream",
     "text": [
      "b'Skipping line 8: expected 1 fields, saw 5\\nSkipping line 10: expected 1 fields, saw 4\\nSkipping line 11: expected 1 fields, saw 4\\nSkipping line 14: expected 1 fields, saw 2\\nSkipping line 15: expected 1 fields, saw 2\\nSkipping line 19: expected 1 fields, saw 2\\nSkipping line 20: expected 1 fields, saw 5\\nSkipping line 24: expected 1 fields, saw 4\\nSkipping line 40: expected 1 fields, saw 2\\nSkipping line 46: expected 1 fields, saw 3\\nSkipping line 56: expected 1 fields, saw 2\\nSkipping line 57: expected 1 fields, saw 2\\nSkipping line 59: expected 1 fields, saw 3\\nSkipping line 69: expected 1 fields, saw 2\\nSkipping line 72: expected 1 fields, saw 3\\nSkipping line 74: expected 1 fields, saw 2\\nSkipping line 78: expected 1 fields, saw 3\\nSkipping line 87: expected 1 fields, saw 2\\nSkipping line 91: expected 1 fields, saw 2\\nSkipping line 95: expected 1 fields, saw 2\\nSkipping line 97: expected 1 fields, saw 5\\nSkipping line 100: expected 1 fields, saw 2\\nSkipping line 101: expected 1 fields, saw 2\\nSkipping line 103: expected 1 fields, saw 5\\nSkipping line 109: expected 1 fields, saw 4\\nSkipping line 110: expected 1 fields, saw 3\\nSkipping line 115: expected 1 fields, saw 2\\nSkipping line 121: expected 1 fields, saw 2\\nSkipping line 126: expected 1 fields, saw 2\\nSkipping line 131: expected 1 fields, saw 2\\nSkipping line 133: expected 1 fields, saw 3\\nSkipping line 134: expected 1 fields, saw 2\\nSkipping line 136: expected 1 fields, saw 3\\nSkipping line 141: expected 1 fields, saw 2\\nSkipping line 146: expected 1 fields, saw 3\\nSkipping line 147: expected 1 fields, saw 2\\nSkipping line 148: expected 1 fields, saw 2\\nSkipping line 151: expected 1 fields, saw 3\\nSkipping line 154: expected 1 fields, saw 4\\nSkipping line 156: expected 1 fields, saw 3\\nSkipping line 160: expected 1 fields, saw 2\\nSkipping line 164: expected 1 fields, saw 2\\nSkipping line 177: expected 1 fields, saw 2\\nSkipping line 181: expected 1 fields, saw 2\\nSkipping line 187: expected 1 fields, saw 2\\nSkipping line 190: expected 1 fields, saw 2\\nSkipping line 192: expected 1 fields, saw 2\\nSkipping line 194: expected 1 fields, saw 2\\nSkipping line 195: expected 1 fields, saw 4\\nSkipping line 203: expected 1 fields, saw 3\\nSkipping line 204: expected 1 fields, saw 2\\nSkipping line 208: expected 1 fields, saw 2\\nSkipping line 214: expected 1 fields, saw 2\\nSkipping line 215: expected 1 fields, saw 2\\nSkipping line 223: expected 1 fields, saw 2\\nSkipping line 224: expected 1 fields, saw 2\\nSkipping line 237: expected 1 fields, saw 3\\nSkipping line 239: expected 1 fields, saw 2\\nSkipping line 240: expected 1 fields, saw 2\\nSkipping line 243: expected 1 fields, saw 2\\nSkipping line 245: expected 1 fields, saw 4\\nSkipping line 248: expected 1 fields, saw 3\\nSkipping line 249: expected 1 fields, saw 2\\nSkipping line 250: expected 1 fields, saw 2\\nSkipping line 253: expected 1 fields, saw 2\\nSkipping line 254: expected 1 fields, saw 2\\nSkipping line 255: expected 1 fields, saw 3\\nSkipping line 259: expected 1 fields, saw 3\\nSkipping line 260: expected 1 fields, saw 2\\nSkipping line 263: expected 1 fields, saw 2\\nSkipping line 273: expected 1 fields, saw 2\\nSkipping line 279: expected 1 fields, saw 4\\nSkipping line 283: expected 1 fields, saw 2\\nSkipping line 284: expected 1 fields, saw 2\\nSkipping line 285: expected 1 fields, saw 2\\nSkipping line 287: expected 1 fields, saw 2\\nSkipping line 291: expected 1 fields, saw 5\\nSkipping line 295: expected 1 fields, saw 2\\nSkipping line 296: expected 1 fields, saw 2\\nSkipping line 297: expected 1 fields, saw 2\\nSkipping line 303: expected 1 fields, saw 2\\nSkipping line 312: expected 1 fields, saw 2\\nSkipping line 314: expected 1 fields, saw 3\\nSkipping line 324: expected 1 fields, saw 2\\nSkipping line 334: expected 1 fields, saw 2\\nSkipping line 335: expected 1 fields, saw 8\\nSkipping line 339: expected 1 fields, saw 2\\nSkipping line 341: expected 1 fields, saw 2\\nSkipping line 343: expected 1 fields, saw 2\\nSkipping line 346: expected 1 fields, saw 4\\nSkipping line 348: expected 1 fields, saw 2\\nSkipping line 362: expected 1 fields, saw 3\\nSkipping line 368: expected 1 fields, saw 2\\nSkipping line 376: expected 1 fields, saw 3\\nSkipping line 378: expected 1 fields, saw 2\\nSkipping line 384: expected 1 fields, saw 2\\nSkipping line 389: expected 1 fields, saw 2\\nSkipping line 391: expected 1 fields, saw 3\\nSkipping line 393: expected 1 fields, saw 2\\nSkipping line 396: expected 1 fields, saw 2\\nSkipping line 399: expected 1 fields, saw 2\\nSkipping line 403: expected 1 fields, saw 6\\nSkipping line 406: expected 1 fields, saw 2\\nSkipping line 409: expected 1 fields, saw 3\\nSkipping line 416: expected 1 fields, saw 2\\nSkipping line 420: expected 1 fields, saw 2\\nSkipping line 421: expected 1 fields, saw 3\\nSkipping line 431: expected 1 fields, saw 3\\nSkipping line 438: expected 1 fields, saw 2\\nSkipping line 443: expected 1 fields, saw 2\\nSkipping line 449: expected 1 fields, saw 3\\nSkipping line 453: expected 1 fields, saw 2\\nSkipping line 455: expected 1 fields, saw 5\\nSkipping line 466: expected 1 fields, saw 2\\nSkipping line 469: expected 1 fields, saw 2\\nSkipping line 471: expected 1 fields, saw 2\\nSkipping line 479: expected 1 fields, saw 2\\nSkipping line 480: expected 1 fields, saw 2\\nSkipping line 481: expected 1 fields, saw 2\\nSkipping line 483: expected 1 fields, saw 2\\nSkipping line 484: expected 1 fields, saw 3\\nSkipping line 486: expected 1 fields, saw 2\\nSkipping line 492: expected 1 fields, saw 2\\nSkipping line 494: expected 1 fields, saw 2\\nSkipping line 495: expected 1 fields, saw 2\\nSkipping line 497: expected 1 fields, saw 4\\nSkipping line 500: expected 1 fields, saw 2\\nSkipping line 506: expected 1 fields, saw 2\\nSkipping line 508: expected 1 fields, saw 3\\nSkipping line 513: expected 1 fields, saw 2\\nSkipping line 521: expected 1 fields, saw 2\\nSkipping line 523: expected 1 fields, saw 2\\nSkipping line 524: expected 1 fields, saw 3\\nSkipping line 531: expected 1 fields, saw 4\\nSkipping line 532: expected 1 fields, saw 6\\nSkipping line 535: expected 1 fields, saw 3\\nSkipping line 540: expected 1 fields, saw 2\\nSkipping line 542: expected 1 fields, saw 3\\nSkipping line 549: expected 1 fields, saw 2\\nSkipping line 554: expected 1 fields, saw 2\\nSkipping line 557: expected 1 fields, saw 2\\nSkipping line 562: expected 1 fields, saw 3\\nSkipping line 563: expected 1 fields, saw 2\\nSkipping line 567: expected 1 fields, saw 6\\nSkipping line 571: expected 1 fields, saw 6\\nSkipping line 573: expected 1 fields, saw 3\\nSkipping line 578: expected 1 fields, saw 2\\nSkipping line 580: expected 1 fields, saw 2\\nSkipping line 584: expected 1 fields, saw 3\\nSkipping line 593: expected 1 fields, saw 2\\nSkipping line 597: expected 1 fields, saw 4\\nSkipping line 603: expected 1 fields, saw 2\\nSkipping line 607: expected 1 fields, saw 2\\nSkipping line 615: expected 1 fields, saw 2\\nSkipping line 618: expected 1 fields, saw 4\\nSkipping line 621: expected 1 fields, saw 2\\nSkipping line 623: expected 1 fields, saw 3\\nSkipping line 625: expected 1 fields, saw 2\\nSkipping line 626: expected 1 fields, saw 2\\nSkipping line 627: expected 1 fields, saw 2\\nSkipping line 629: expected 1 fields, saw 2\\nSkipping line 635: expected 1 fields, saw 5\\nSkipping line 638: expected 1 fields, saw 3\\nSkipping line 639: expected 1 fields, saw 3\\nSkipping line 643: expected 1 fields, saw 3\\nSkipping line 644: expected 1 fields, saw 2\\nSkipping line 663: expected 1 fields, saw 2\\nSkipping line 665: expected 1 fields, saw 2\\nSkipping line 676: expected 1 fields, saw 4\\nSkipping line 677: expected 1 fields, saw 3\\nSkipping line 679: expected 1 fields, saw 3\\nSkipping line 683: expected 1 fields, saw 2\\nSkipping line 685: expected 1 fields, saw 3\\nSkipping line 690: expected 1 fields, saw 2\\nSkipping line 692: expected 1 fields, saw 2\\nSkipping line 695: expected 1 fields, saw 2\\nSkipping line 700: expected 1 fields, saw 3\\nSkipping line 703: expected 1 fields, saw 3\\nSkipping line 708: expected 1 fields, saw 2\\nSkipping line 710: expected 1 fields, saw 3\\nSkipping line 716: expected 1 fields, saw 2\\nSkipping line 717: expected 1 fields, saw 2\\nSkipping line 722: expected 1 fields, saw 3\\nSkipping line 727: expected 1 fields, saw 2\\nSkipping line 730: expected 1 fields, saw 2\\nSkipping line 732: expected 1 fields, saw 2\\nSkipping line 733: expected 1 fields, saw 2\\nSkipping line 737: expected 1 fields, saw 2\\nSkipping line 741: expected 1 fields, saw 3\\nSkipping line 745: expected 1 fields, saw 2\\nSkipping line 746: expected 1 fields, saw 2\\nSkipping line 747: expected 1 fields, saw 3\\nSkipping line 751: expected 1 fields, saw 2\\nSkipping line 753: expected 1 fields, saw 2\\nSkipping line 755: expected 1 fields, saw 2\\nSkipping line 758: expected 1 fields, saw 3\\nSkipping line 760: expected 1 fields, saw 2\\nSkipping line 762: expected 1 fields, saw 3\\nSkipping line 763: expected 1 fields, saw 3\\nSkipping line 765: expected 1 fields, saw 3\\nSkipping line 770: expected 1 fields, saw 2\\nSkipping line 774: expected 1 fields, saw 2\\nSkipping line 775: expected 1 fields, saw 3\\nSkipping line 777: expected 1 fields, saw 2\\nSkipping line 782: expected 1 fields, saw 2\\nSkipping line 783: expected 1 fields, saw 2\\nSkipping line 792: expected 1 fields, saw 2\\nSkipping line 793: expected 1 fields, saw 3\\nSkipping line 795: expected 1 fields, saw 2\\nSkipping line 796: expected 1 fields, saw 3\\nSkipping line 808: expected 1 fields, saw 2\\nSkipping line 813: expected 1 fields, saw 3\\nSkipping line 814: expected 1 fields, saw 5\\nSkipping line 817: expected 1 fields, saw 2\\nSkipping line 822: expected 1 fields, saw 2\\nSkipping line 830: expected 1 fields, saw 2\\nSkipping line 831: expected 1 fields, saw 2\\nSkipping line 838: expected 1 fields, saw 2\\nSkipping line 843: expected 1 fields, saw 3\\nSkipping line 849: expected 1 fields, saw 3\\nSkipping line 852: expected 1 fields, saw 2\\nSkipping line 854: expected 1 fields, saw 3\\nSkipping line 855: expected 1 fields, saw 2\\nSkipping line 858: expected 1 fields, saw 4\\nSkipping line 861: expected 1 fields, saw 6\\nSkipping line 867: expected 1 fields, saw 3\\nSkipping line 872: expected 1 fields, saw 2\\nSkipping line 873: expected 1 fields, saw 2\\nSkipping line 879: expected 1 fields, saw 2\\nSkipping line 881: expected 1 fields, saw 2\\nSkipping line 884: expected 1 fields, saw 4\\nSkipping line 892: expected 1 fields, saw 2\\nSkipping line 898: expected 1 fields, saw 2\\nSkipping line 899: expected 1 fields, saw 2\\nSkipping line 907: expected 1 fields, saw 3\\nSkipping line 913: expected 1 fields, saw 3\\nSkipping line 914: expected 1 fields, saw 2\\nSkipping line 915: expected 1 fields, saw 2\\nSkipping line 916: expected 1 fields, saw 2\\nSkipping line 917: expected 1 fields, saw 3\\nSkipping line 921: expected 1 fields, saw 2\\nSkipping line 924: expected 1 fields, saw 2\\nSkipping line 926: expected 1 fields, saw 2\\nSkipping line 930: expected 1 fields, saw 4\\nSkipping line 934: expected 1 fields, saw 2\\nSkipping line 937: expected 1 fields, saw 2\\nSkipping line 941: expected 1 fields, saw 4\\nSkipping line 948: expected 1 fields, saw 2\\nSkipping line 952: expected 1 fields, saw 4\\nSkipping line 954: expected 1 fields, saw 3\\nSkipping line 959: expected 1 fields, saw 2\\nSkipping line 969: expected 1 fields, saw 2\\n'\n"
     ]
    }
   ],
   "source": [
    "import pandas as pd\n",
    "from textblob import TextBlob\n",
    "import numpy as np\n",
    "from PIL import Image\n",
    "import re\n",
    "import string\n",
    "from bs4 import BeautifulSoup\n",
    "import nltk\n",
    "from nltk.stem.wordnet import WordNetLemmatizer\n",
    "from wordcloud import WordCloud\n",
    "import matplotlib.pyplot as plt\n",
    "\n",
    "df = pd.read_csv(\n",
    "    \"Task-1 tweets_1000.csv\",\n",
    "    header=None,\n",
    "    error_bad_lines=False,\n",
    "    encoding=\"utf8\",\n",
    "    names=[\"text\"],\n",
    ")\n"
   ]
  },
  {
   "cell_type": "code",
   "execution_count": 3,
   "metadata": {},
   "outputs": [
    {
     "data": {
      "text/html": [
       "<div>\n",
       "<style scoped>\n",
       "    .dataframe tbody tr th:only-of-type {\n",
       "        vertical-align: middle;\n",
       "    }\n",
       "\n",
       "    .dataframe tbody tr th {\n",
       "        vertical-align: top;\n",
       "    }\n",
       "\n",
       "    .dataframe thead th {\n",
       "        text-align: right;\n",
       "    }\n",
       "</style>\n",
       "<table border=\"1\" class=\"dataframe\">\n",
       "  <thead>\n",
       "    <tr style=\"text-align: right;\">\n",
       "      <th></th>\n",
       "      <th>text</th>\n",
       "    </tr>\n",
       "  </thead>\n",
       "  <tbody>\n",
       "    <tr>\n",
       "      <th>0</th>\n",
       "      <td>\\xf0\\x9f\\x98\\x91\\xf0\\x9f\\x98\\x91\\xf0\\x9f\\x98\\x...</td>\n",
       "    </tr>\n",
       "    <tr>\n",
       "      <th>1</th>\n",
       "      <td>Jasmine Strange shares a message of hope durin...</td>\n",
       "    </tr>\n",
       "    <tr>\n",
       "      <th>2</th>\n",
       "      <td>I gotta fight these allergies in public to mak...</td>\n",
       "    </tr>\n",
       "    <tr>\n",
       "      <th>3</th>\n",
       "      <td>https://t.co/57NBQ2XQsG  On Easter please reme...</td>\n",
       "    </tr>\n",
       "    <tr>\n",
       "      <th>4</th>\n",
       "      <td>@lenibriscoe I have a cute one made from recyc...</td>\n",
       "    </tr>\n",
       "  </tbody>\n",
       "</table>\n",
       "</div>"
      ],
      "text/plain": [
       "                                                text\n",
       "0  \\xf0\\x9f\\x98\\x91\\xf0\\x9f\\x98\\x91\\xf0\\x9f\\x98\\x...\n",
       "1  Jasmine Strange shares a message of hope durin...\n",
       "2  I gotta fight these allergies in public to mak...\n",
       "3  https://t.co/57NBQ2XQsG  On Easter please reme...\n",
       "4  @lenibriscoe I have a cute one made from recyc..."
      ]
     },
     "execution_count": 3,
     "metadata": {},
     "output_type": "execute_result"
    }
   ],
   "source": [
    "df.head()\n"
   ]
  },
  {
   "cell_type": "markdown",
   "metadata": {},
   "source": [
    "#### Preprocess text"
   ]
  },
  {
   "cell_type": "code",
   "execution_count": 4,
   "metadata": {},
   "outputs": [],
   "source": [
    "def clean_string(text):\n",
    "\n",
    "    final_string = \"\"\n",
    "\n",
    "    # Make lower\n",
    "    text = text.lower()\n",
    "\n",
    "    rules = [\n",
    "        {r\">\\s+\": \">\"},  # remove spaces after a tag opens or closes\n",
    "        {r\"\\s+\": \" \"},  # replace consecutive spaces\n",
    "        {r\"\\s*<br\\s*/?>\\s*\": \"\\n\"},  # newline after a <br>\n",
    "        {r\"</(div)\\s*>\\s*\": \"\\n\"},  # newline after </p> and </div> and <h1/>...\n",
    "        {r\"</(p|h\\d)\\s*>\\s*\": \"\\n\\n\"},  # newline after </p> and </div> and <h1/>...\n",
    "        {r\"<head>.*<\\s*(/head|body)[^>]*>\": \"\"},  # remove <head> to </head>\n",
    "        {r'<a\\s+href=\"([^\"]+)\"[^>]*>.*</a>': r\"\\1\"},  # show links instead of texts\n",
    "        {r\"[ \\t]*<[^<]*?/?>\": \"\"},  # remove remaining tags\n",
    "        {r\"^\\s+\": \"\"},  # remove spaces at the beginning\n",
    "    ]\n",
    "    for rule in rules:\n",
    "        for (k, v) in rule.items():\n",
    "            regex = re.compile(k)\n",
    "            text = regex.sub(v, text)\n",
    "            text = text.rstrip()\n",
    "\n",
    "    # Remove line breaks\n",
    "    text = re.sub(r\"\\n\", \"\", text)\n",
    "\n",
    "    # Remove puncuation\n",
    "    translator = str.maketrans(\"\", \"\", string.punctuation)\n",
    "    text = text.translate(translator)\n",
    "\n",
    "    # Remove stop words\n",
    "    text = text.split()\n",
    "    useless_words = nltk.corpus.stopwords.words(\"english\")\n",
    "    useless_words = useless_words + [\"hi\", \"im\"]\n",
    "    text_filtered = [word for word in text if not word in useless_words]\n",
    "\n",
    "    # Remove numbers\n",
    "    text_filtered = [re.sub(r\"\\w*\\d\\w*\", \"\", w) for w in text_filtered]\n",
    "\n",
    "    # Lemmatization\n",
    "    lem = WordNetLemmatizer()\n",
    "    text_stemmed = [lem.lemmatize(y) for y in text_filtered]\n",
    "\n",
    "    # Correct the text\n",
    "    final_string = \" \".join(text_stemmed)\n",
    "    final_string = str(TextBlob(final_string).correct())\n",
    "    return final_string\n"
   ]
  },
  {
   "cell_type": "code",
   "execution_count": 5,
   "metadata": {},
   "outputs": [],
   "source": [
    "# Apply vectorization to clean string\n",
    "df['text'] = np.vectorize(clean_string)(df['text'])"
   ]
  },
  {
   "cell_type": "markdown",
   "metadata": {},
   "source": [
    "#### Save the clean data to pickle file"
   ]
  },
  {
   "cell_type": "code",
   "execution_count": 6,
   "metadata": {},
   "outputs": [],
   "source": [
    "import pickle\n",
    "\n",
    "# Save the file to pickle\n",
    "with open('cleaned text.pkl', 'wb') as f:\n",
    "    pickle.dump(df['text'].values, f)"
   ]
  }
 ],
 "metadata": {
  "kernelspec": {
   "display_name": "Python 3.9.13",
   "language": "python",
   "name": "python3"
  },
  "language_info": {
   "codemirror_mode": {
    "name": "ipython",
    "version": 3
   },
   "file_extension": ".py",
   "mimetype": "text/x-python",
   "name": "python",
   "nbconvert_exporter": "python",
   "pygments_lexer": "ipython3",
   "version": "3.9.13"
  },
  "orig_nbformat": 4,
  "vscode": {
   "interpreter": {
    "hash": "8d3deabddc809dde8a5bc83f7cfd9822c336c9a0cc2632a0d37568dd94e1ba99"
   }
  }
 },
 "nbformat": 4,
 "nbformat_minor": 2
}
