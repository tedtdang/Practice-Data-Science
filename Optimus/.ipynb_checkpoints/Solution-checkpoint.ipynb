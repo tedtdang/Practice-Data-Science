{
 "cells": [
  {
   "cell_type": "code",
   "execution_count": 1,
   "metadata": {
    "collapsed": true
   },
   "outputs": [
    {
     "data": {
      "text/plain": "<IPython.core.display.HTML object>",
      "text/html": "<style type='text/css'>\n.datatable table.frame { margin-bottom: 0; }\n.datatable table.frame thead { border-bottom: none; }\n.datatable table.frame tr.coltypes td {  color: #FFFFFF;  line-height: 6px;  padding: 0 0.5em;}\n.datatable .bool    { background: #DDDD99; }\n.datatable .object  { background: #565656; }\n.datatable .int     { background: #5D9E5D; }\n.datatable .float   { background: #4040CC; }\n.datatable .str     { background: #CC4040; }\n.datatable .time    { background: #40CC40; }\n.datatable .row_index {  background: var(--jp-border-color3);  border-right: 1px solid var(--jp-border-color0);  color: var(--jp-ui-font-color3);  font-size: 9px;}\n.datatable .frame tbody td { text-align: left; }\n.datatable .frame tr.coltypes .row_index {  background: var(--jp-border-color0);}\n.datatable th:nth-child(2) { padding-left: 12px; }\n.datatable .hellipsis {  color: var(--jp-cell-editor-border-color);}\n.datatable .vellipsis {  background: var(--jp-layout-color0);  color: var(--jp-cell-editor-border-color);}\n.datatable .na {  color: var(--jp-cell-editor-border-color);  font-size: 80%;}\n.datatable .sp {  opacity: 0.25;}\n.datatable .footer { font-size: 9px; }\n.datatable .frame_dimensions {  background: var(--jp-border-color3);  border-top: 1px solid var(--jp-border-color0);  color: var(--jp-ui-font-color3);  display: inline-block;  opacity: 0.6;  padding: 1px 10px 1px 5px;}\n.datatable .frame thead tr.colnames {  background-image: url('data:image/png;base64,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');  background-repeat: repeat-x;  background-size: 14px;  height: 28px;}\n</style>\n"
     },
     "metadata": {},
     "output_type": "display_data"
    }
   ],
   "source": [
    "import datatable as dt\n",
    "import numpy as np\n",
    "\n",
    "# Import data set\n",
    "train = dt.fread('voterfile.csv').to_pandas()"
   ]
  },
  {
   "cell_type": "code",
   "source": [
    "# Have a look at the first five rows\n",
    "train.head()"
   ],
   "metadata": {
    "collapsed": false,
    "pycharm": {
     "name": "#%%\n"
    }
   },
   "execution_count": 2,
   "outputs": [
    {
     "data": {
      "text/plain": "   optimus_id   age                 party ethnicity maritalstatus  \\\n0      861681  69.0            Republican  European       Married   \n1     1084850  20.0  American Independent  European           nan   \n2      644435  28.0          Non-Partisan  European           nan   \n3       57683  78.0  American Independent  European       Married   \n4      167371  68.0            Democratic       nan           nan   \n\n                  dwellingtype    income                       education   cd  \\\n0  Single Family Dwelling Unit  75k-125k  Bach Degree - Extremely Likely  4.0   \n1                          nan   Unknown                             nan  2.0   \n2                          nan   Unknown                             nan  3.0   \n3                          nan   Unknown                             nan  3.0   \n4                          nan   Unknown                             nan  4.0   \n\n                    dma  ... intrst_musical_instruments_in_hh  \\\n0  LAS VEGAS DMA (EST.)  ...                              nan   \n1       RENO DMA (EST.)  ...                              nan   \n2  LAS VEGAS DMA (EST.)  ...                              nan   \n3  LAS VEGAS DMA (EST.)  ...                              nan   \n4  LAS VEGAS DMA (EST.)  ...                              nan   \n\n   donates_to_liberal_causes  donates_to_conservative_causes  \\\n0                        NaN                             nan   \n1                        NaN                             nan   \n2                        NaN                             nan   \n3                        NaN                             nan   \n4                        NaN                             nan   \n\n   home_owner_or_renter  g08_precinct_turnout  g10_precinct_turnout  \\\n0      Likely Homeowner                  0.56                  0.54   \n1                   nan                  0.84                  0.82   \n2                   nan                  0.49                  0.34   \n3                   nan                  0.84                  0.79   \n4                   nan                  0.71                  0.66   \n\n   g12_precinct_turnout  p08_precinct_turnout  p10_precinct_turnout  \\\n0                  0.75                  0.17                  0.32   \n1                  0.92                  0.47                  0.62   \n2                  0.70                  0.04                  0.09   \n3                  0.91                  0.24                  0.46   \n4                  0.81                  0.19                  0.37   \n\n   p12_precinct_turnout  \n0                  0.24  \n1                  0.47  \n2                  0.06  \n3                  0.30  \n4                  0.34  \n\n[5 rows x 39 columns]",
      "text/html": "<div>\n<style scoped>\n    .dataframe tbody tr th:only-of-type {\n        vertical-align: middle;\n    }\n\n    .dataframe tbody tr th {\n        vertical-align: top;\n    }\n\n    .dataframe thead th {\n        text-align: right;\n    }\n</style>\n<table border=\"1\" class=\"dataframe\">\n  <thead>\n    <tr style=\"text-align: right;\">\n      <th></th>\n      <th>optimus_id</th>\n      <th>age</th>\n      <th>party</th>\n      <th>ethnicity</th>\n      <th>maritalstatus</th>\n      <th>dwellingtype</th>\n      <th>income</th>\n      <th>education</th>\n      <th>cd</th>\n      <th>dma</th>\n      <th>...</th>\n      <th>intrst_musical_instruments_in_hh</th>\n      <th>donates_to_liberal_causes</th>\n      <th>donates_to_conservative_causes</th>\n      <th>home_owner_or_renter</th>\n      <th>g08_precinct_turnout</th>\n      <th>g10_precinct_turnout</th>\n      <th>g12_precinct_turnout</th>\n      <th>p08_precinct_turnout</th>\n      <th>p10_precinct_turnout</th>\n      <th>p12_precinct_turnout</th>\n    </tr>\n  </thead>\n  <tbody>\n    <tr>\n      <th>0</th>\n      <td>861681</td>\n      <td>69.0</td>\n      <td>Republican</td>\n      <td>European</td>\n      <td>Married</td>\n      <td>Single Family Dwelling Unit</td>\n      <td>75k-125k</td>\n      <td>Bach Degree - Extremely Likely</td>\n      <td>4.0</td>\n      <td>LAS VEGAS DMA (EST.)</td>\n      <td>...</td>\n      <td>nan</td>\n      <td>NaN</td>\n      <td>nan</td>\n      <td>Likely Homeowner</td>\n      <td>0.56</td>\n      <td>0.54</td>\n      <td>0.75</td>\n      <td>0.17</td>\n      <td>0.32</td>\n      <td>0.24</td>\n    </tr>\n    <tr>\n      <th>1</th>\n      <td>1084850</td>\n      <td>20.0</td>\n      <td>American Independent</td>\n      <td>European</td>\n      <td>nan</td>\n      <td>nan</td>\n      <td>Unknown</td>\n      <td>nan</td>\n      <td>2.0</td>\n      <td>RENO DMA (EST.)</td>\n      <td>...</td>\n      <td>nan</td>\n      <td>NaN</td>\n      <td>nan</td>\n      <td>nan</td>\n      <td>0.84</td>\n      <td>0.82</td>\n      <td>0.92</td>\n      <td>0.47</td>\n      <td>0.62</td>\n      <td>0.47</td>\n    </tr>\n    <tr>\n      <th>2</th>\n      <td>644435</td>\n      <td>28.0</td>\n      <td>Non-Partisan</td>\n      <td>European</td>\n      <td>nan</td>\n      <td>nan</td>\n      <td>Unknown</td>\n      <td>nan</td>\n      <td>3.0</td>\n      <td>LAS VEGAS DMA (EST.)</td>\n      <td>...</td>\n      <td>nan</td>\n      <td>NaN</td>\n      <td>nan</td>\n      <td>nan</td>\n      <td>0.49</td>\n      <td>0.34</td>\n      <td>0.70</td>\n      <td>0.04</td>\n      <td>0.09</td>\n      <td>0.06</td>\n    </tr>\n    <tr>\n      <th>3</th>\n      <td>57683</td>\n      <td>78.0</td>\n      <td>American Independent</td>\n      <td>European</td>\n      <td>Married</td>\n      <td>nan</td>\n      <td>Unknown</td>\n      <td>nan</td>\n      <td>3.0</td>\n      <td>LAS VEGAS DMA (EST.)</td>\n      <td>...</td>\n      <td>nan</td>\n      <td>NaN</td>\n      <td>nan</td>\n      <td>nan</td>\n      <td>0.84</td>\n      <td>0.79</td>\n      <td>0.91</td>\n      <td>0.24</td>\n      <td>0.46</td>\n      <td>0.30</td>\n    </tr>\n    <tr>\n      <th>4</th>\n      <td>167371</td>\n      <td>68.0</td>\n      <td>Democratic</td>\n      <td>nan</td>\n      <td>nan</td>\n      <td>nan</td>\n      <td>Unknown</td>\n      <td>nan</td>\n      <td>4.0</td>\n      <td>LAS VEGAS DMA (EST.)</td>\n      <td>...</td>\n      <td>nan</td>\n      <td>NaN</td>\n      <td>nan</td>\n      <td>nan</td>\n      <td>0.71</td>\n      <td>0.66</td>\n      <td>0.81</td>\n      <td>0.19</td>\n      <td>0.37</td>\n      <td>0.34</td>\n    </tr>\n  </tbody>\n</table>\n<p>5 rows × 39 columns</p>\n</div>"
     },
     "execution_count": 2,
     "metadata": {},
     "output_type": "execute_result"
    }
   ]
  },
  {
   "cell_type": "code",
   "execution_count": 3,
   "outputs": [
    {
     "ename": "ModuleNotFoundError",
     "evalue": "No module named 'pandas_profiling'",
     "output_type": "error",
     "traceback": [
      "\u001B[1;31m---------------------------------------------------------------------------\u001B[0m",
      "\u001B[1;31mModuleNotFoundError\u001B[0m                       Traceback (most recent call last)",
      "\u001B[1;32m<ipython-input-3-e6835b91842f>\u001B[0m in \u001B[0;36m<module>\u001B[1;34m\u001B[0m\n\u001B[0;32m      1\u001B[0m \u001B[1;31m# Data Exploratory Analysis\u001B[0m\u001B[1;33m\u001B[0m\u001B[1;33m\u001B[0m\u001B[1;33m\u001B[0m\u001B[0m\n\u001B[1;32m----> 2\u001B[1;33m \u001B[1;32mfrom\u001B[0m \u001B[0mpandas_profiling\u001B[0m \u001B[1;32mimport\u001B[0m \u001B[0mProfileReport\u001B[0m\u001B[1;33m\u001B[0m\u001B[1;33m\u001B[0m\u001B[0m\n\u001B[0m\u001B[0;32m      3\u001B[0m \u001B[1;33m\u001B[0m\u001B[0m\n\u001B[0;32m      4\u001B[0m \u001B[0mprofile\u001B[0m \u001B[1;33m=\u001B[0m \u001B[0mProfileReport\u001B[0m\u001B[1;33m(\u001B[0m\u001B[0mtrain\u001B[0m\u001B[1;33m,\u001B[0m \u001B[0mtitle\u001B[0m\u001B[1;33m=\u001B[0m\u001B[1;34m\"Pandas Profiling Report\"\u001B[0m\u001B[1;33m,\u001B[0m \u001B[0mexplorative\u001B[0m\u001B[1;33m=\u001B[0m\u001B[1;32mTrue\u001B[0m\u001B[1;33m)\u001B[0m\u001B[1;33m\u001B[0m\u001B[1;33m\u001B[0m\u001B[0m\n\u001B[0;32m      5\u001B[0m \u001B[0mprofile\u001B[0m\u001B[1;33m.\u001B[0m\u001B[0mto_widgets\u001B[0m\u001B[1;33m(\u001B[0m\u001B[1;33m)\u001B[0m\u001B[1;33m\u001B[0m\u001B[1;33m\u001B[0m\u001B[0m\n",
      "\u001B[1;31mModuleNotFoundError\u001B[0m: No module named 'pandas_profiling'"
     ]
    }
   ],
   "source": [
    "# Data Exploratory Analysis\n",
    "from pandas_profiling import ProfileReport\n",
    "\n",
    "profile = ProfileReport(train, title=\"Pandas Profiling Report\", explorative=True)\n",
    "profile.to_widgets()\n",
    "profile.to_notebook_iframe()\n",
    "profile.to_file(\"Voter report.html\")"
   ],
   "metadata": {
    "collapsed": false,
    "pycharm": {
     "name": "#%%\n"
    }
   }
  }
 ],
 "metadata": {
  "kernelspec": {
   "display_name": "Python 3",
   "language": "python",
   "name": "python3"
  },
  "language_info": {
   "codemirror_mode": {
    "name": "ipython",
    "version": 2
   },
   "file_extension": ".py",
   "mimetype": "text/x-python",
   "name": "python",
   "nbconvert_exporter": "python",
   "pygments_lexer": "ipython2",
   "version": "2.7.6"
  }
 },
 "nbformat": 4,
 "nbformat_minor": 0
}