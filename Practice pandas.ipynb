{
 "cells": [
  {
   "cell_type": "markdown",
   "metadata": {},
   "source": [
    "# From https://pynative.com/python-pandas-exercise/"
   ]
  },
  {
   "cell_type": "markdown",
   "metadata": {},
   "source": [
    "### Question 1: From given data set print first and last five rows"
   ]
  },
  {
   "cell_type": "code",
   "execution_count": 43,
   "metadata": {},
   "outputs": [
    {
     "name": "stdout",
     "output_type": "stream",
     "text": [
      "   index      company   body-style  wheel-base  length engine-type  \\\n",
      "0      0  alfa-romero  convertible        88.6   168.8        dohc   \n",
      "1      1  alfa-romero  convertible        88.6   168.8        dohc   \n",
      "2      2  alfa-romero    hatchback        94.5   171.2        ohcv   \n",
      "3      3         audi        sedan        99.8   176.6         ohc   \n",
      "4      4         audi        sedan        99.4   176.6         ohc   \n",
      "\n",
      "  num-of-cylinders  horsepower  average-mileage    price  \n",
      "0             four         111               21  13495.0  \n",
      "1             four         111               21  16500.0  \n",
      "2              six         154               19  16500.0  \n",
      "3             four         102               24  13950.0  \n",
      "4             five         115               18  17450.0  \n",
      "    index     company body-style  wheel-base  length engine-type  \\\n",
      "56     81  volkswagen      sedan        97.3   171.7         ohc   \n",
      "57     82  volkswagen      sedan        97.3   171.7         ohc   \n",
      "58     86  volkswagen      sedan        97.3   171.7         ohc   \n",
      "59     87       volvo      sedan       104.3   188.8         ohc   \n",
      "60     88       volvo      wagon       104.3   188.8         ohc   \n",
      "\n",
      "   num-of-cylinders  horsepower  average-mileage    price  \n",
      "56             four          85               27   7975.0  \n",
      "57             four          52               37   7995.0  \n",
      "58             four         100               26   9995.0  \n",
      "59             four         114               23  12940.0  \n",
      "60             four         114               23  13415.0  \n"
     ]
    }
   ],
   "source": [
    "%matplotlib inline\n",
    "from matplotlib import pyplot as plt\n",
    "import numpy as np\n",
    "import pandas as pd\n",
    "data = pd.read_csv(r\"C:\\Users\\Teo\\Downloads\\Compressed\\Automobile_data.csv\")\n",
    "print(data.head(5))\n",
    "print(data.tail(5))"
   ]
  },
  {
   "cell_type": "markdown",
   "metadata": {},
   "source": [
    "### Question 2: Clean data and update the CSV file\n",
    "Replace all column values which contain ‘?’ and n.a with NaN."
   ]
  },
  {
   "cell_type": "code",
   "execution_count": 3,
   "metadata": {},
   "outputs": [
    {
     "data": {
      "text/html": [
       "<div>\n",
       "<style scoped>\n",
       "    .dataframe tbody tr th:only-of-type {\n",
       "        vertical-align: middle;\n",
       "    }\n",
       "\n",
       "    .dataframe tbody tr th {\n",
       "        vertical-align: top;\n",
       "    }\n",
       "\n",
       "    .dataframe thead th {\n",
       "        text-align: right;\n",
       "    }\n",
       "</style>\n",
       "<table border=\"1\" class=\"dataframe\">\n",
       "  <thead>\n",
       "    <tr style=\"text-align: right;\">\n",
       "      <th></th>\n",
       "      <th>index</th>\n",
       "      <th>company</th>\n",
       "      <th>body-style</th>\n",
       "      <th>wheel-base</th>\n",
       "      <th>length</th>\n",
       "      <th>engine-type</th>\n",
       "      <th>num-of-cylinders</th>\n",
       "      <th>horsepower</th>\n",
       "      <th>average-mileage</th>\n",
       "      <th>price</th>\n",
       "    </tr>\n",
       "  </thead>\n",
       "  <tbody>\n",
       "    <tr>\n",
       "      <th>0</th>\n",
       "      <td>0</td>\n",
       "      <td>alfa-romero</td>\n",
       "      <td>convertible</td>\n",
       "      <td>88.6</td>\n",
       "      <td>168.8</td>\n",
       "      <td>dohc</td>\n",
       "      <td>four</td>\n",
       "      <td>111</td>\n",
       "      <td>21</td>\n",
       "      <td>13495.0</td>\n",
       "    </tr>\n",
       "    <tr>\n",
       "      <th>1</th>\n",
       "      <td>1</td>\n",
       "      <td>alfa-romero</td>\n",
       "      <td>convertible</td>\n",
       "      <td>88.6</td>\n",
       "      <td>168.8</td>\n",
       "      <td>dohc</td>\n",
       "      <td>four</td>\n",
       "      <td>111</td>\n",
       "      <td>21</td>\n",
       "      <td>16500.0</td>\n",
       "    </tr>\n",
       "    <tr>\n",
       "      <th>2</th>\n",
       "      <td>2</td>\n",
       "      <td>alfa-romero</td>\n",
       "      <td>hatchback</td>\n",
       "      <td>94.5</td>\n",
       "      <td>171.2</td>\n",
       "      <td>ohcv</td>\n",
       "      <td>six</td>\n",
       "      <td>154</td>\n",
       "      <td>19</td>\n",
       "      <td>16500.0</td>\n",
       "    </tr>\n",
       "    <tr>\n",
       "      <th>3</th>\n",
       "      <td>3</td>\n",
       "      <td>audi</td>\n",
       "      <td>sedan</td>\n",
       "      <td>99.8</td>\n",
       "      <td>176.6</td>\n",
       "      <td>ohc</td>\n",
       "      <td>four</td>\n",
       "      <td>102</td>\n",
       "      <td>24</td>\n",
       "      <td>13950.0</td>\n",
       "    </tr>\n",
       "    <tr>\n",
       "      <th>4</th>\n",
       "      <td>4</td>\n",
       "      <td>audi</td>\n",
       "      <td>sedan</td>\n",
       "      <td>99.4</td>\n",
       "      <td>176.6</td>\n",
       "      <td>ohc</td>\n",
       "      <td>five</td>\n",
       "      <td>115</td>\n",
       "      <td>18</td>\n",
       "      <td>17450.0</td>\n",
       "    </tr>\n",
       "    <tr>\n",
       "      <th>...</th>\n",
       "      <td>...</td>\n",
       "      <td>...</td>\n",
       "      <td>...</td>\n",
       "      <td>...</td>\n",
       "      <td>...</td>\n",
       "      <td>...</td>\n",
       "      <td>...</td>\n",
       "      <td>...</td>\n",
       "      <td>...</td>\n",
       "      <td>...</td>\n",
       "    </tr>\n",
       "    <tr>\n",
       "      <th>56</th>\n",
       "      <td>81</td>\n",
       "      <td>volkswagen</td>\n",
       "      <td>sedan</td>\n",
       "      <td>97.3</td>\n",
       "      <td>171.7</td>\n",
       "      <td>ohc</td>\n",
       "      <td>four</td>\n",
       "      <td>85</td>\n",
       "      <td>27</td>\n",
       "      <td>7975.0</td>\n",
       "    </tr>\n",
       "    <tr>\n",
       "      <th>57</th>\n",
       "      <td>82</td>\n",
       "      <td>volkswagen</td>\n",
       "      <td>sedan</td>\n",
       "      <td>97.3</td>\n",
       "      <td>171.7</td>\n",
       "      <td>ohc</td>\n",
       "      <td>four</td>\n",
       "      <td>52</td>\n",
       "      <td>37</td>\n",
       "      <td>7995.0</td>\n",
       "    </tr>\n",
       "    <tr>\n",
       "      <th>58</th>\n",
       "      <td>86</td>\n",
       "      <td>volkswagen</td>\n",
       "      <td>sedan</td>\n",
       "      <td>97.3</td>\n",
       "      <td>171.7</td>\n",
       "      <td>ohc</td>\n",
       "      <td>four</td>\n",
       "      <td>100</td>\n",
       "      <td>26</td>\n",
       "      <td>9995.0</td>\n",
       "    </tr>\n",
       "    <tr>\n",
       "      <th>59</th>\n",
       "      <td>87</td>\n",
       "      <td>volvo</td>\n",
       "      <td>sedan</td>\n",
       "      <td>104.3</td>\n",
       "      <td>188.8</td>\n",
       "      <td>ohc</td>\n",
       "      <td>four</td>\n",
       "      <td>114</td>\n",
       "      <td>23</td>\n",
       "      <td>12940.0</td>\n",
       "    </tr>\n",
       "    <tr>\n",
       "      <th>60</th>\n",
       "      <td>88</td>\n",
       "      <td>volvo</td>\n",
       "      <td>wagon</td>\n",
       "      <td>104.3</td>\n",
       "      <td>188.8</td>\n",
       "      <td>ohc</td>\n",
       "      <td>four</td>\n",
       "      <td>114</td>\n",
       "      <td>23</td>\n",
       "      <td>13415.0</td>\n",
       "    </tr>\n",
       "  </tbody>\n",
       "</table>\n",
       "<p>61 rows × 10 columns</p>\n",
       "</div>"
      ],
      "text/plain": [
       "    index      company   body-style  wheel-base  length engine-type  \\\n",
       "0       0  alfa-romero  convertible        88.6   168.8        dohc   \n",
       "1       1  alfa-romero  convertible        88.6   168.8        dohc   \n",
       "2       2  alfa-romero    hatchback        94.5   171.2        ohcv   \n",
       "3       3         audi        sedan        99.8   176.6         ohc   \n",
       "4       4         audi        sedan        99.4   176.6         ohc   \n",
       "..    ...          ...          ...         ...     ...         ...   \n",
       "56     81   volkswagen        sedan        97.3   171.7         ohc   \n",
       "57     82   volkswagen        sedan        97.3   171.7         ohc   \n",
       "58     86   volkswagen        sedan        97.3   171.7         ohc   \n",
       "59     87        volvo        sedan       104.3   188.8         ohc   \n",
       "60     88        volvo        wagon       104.3   188.8         ohc   \n",
       "\n",
       "   num-of-cylinders  horsepower  average-mileage    price  \n",
       "0              four         111               21  13495.0  \n",
       "1              four         111               21  16500.0  \n",
       "2               six         154               19  16500.0  \n",
       "3              four         102               24  13950.0  \n",
       "4              five         115               18  17450.0  \n",
       "..              ...         ...              ...      ...  \n",
       "56             four          85               27   7975.0  \n",
       "57             four          52               37   7995.0  \n",
       "58             four         100               26   9995.0  \n",
       "59             four         114               23  12940.0  \n",
       "60             four         114               23  13415.0  \n",
       "\n",
       "[61 rows x 10 columns]"
      ]
     },
     "execution_count": 3,
     "metadata": {},
     "output_type": "execute_result"
    }
   ],
   "source": [
    "data.replace(regex=(r'\\? | n\\.a'), value='NaN')"
   ]
  },
  {
   "cell_type": "markdown",
   "metadata": {},
   "source": [
    "### Question 3: Find the most expensive car company name"
   ]
  },
  {
   "cell_type": "code",
   "execution_count": 4,
   "metadata": {},
   "outputs": [
    {
     "name": "stdout",
     "output_type": "stream",
     "text": [
      "35    mercedes-benz\n",
      "Name: company, dtype: object\n"
     ]
    }
   ],
   "source": [
    "most_exp = max(data.price)\n",
    "print(data.company[data.price == most_exp])"
   ]
  },
  {
   "cell_type": "markdown",
   "metadata": {},
   "source": [
    "### Question 4: Print All Toyota Cars details"
   ]
  },
  {
   "cell_type": "code",
   "execution_count": 5,
   "metadata": {},
   "outputs": [
    {
     "name": "stdout",
     "output_type": "stream",
     "text": [
      "    index company body-style  wheel-base  length engine-type num-of-cylinders  \\\n",
      "48     66  toyota  hatchback        95.7   158.7         ohc             four   \n",
      "49     67  toyota  hatchback        95.7   158.7         ohc             four   \n",
      "50     68  toyota  hatchback        95.7   158.7         ohc             four   \n",
      "51     69  toyota      wagon        95.7   169.7         ohc             four   \n",
      "52     70  toyota      wagon        95.7   169.7         ohc             four   \n",
      "53     71  toyota      wagon        95.7   169.7         ohc             four   \n",
      "54     79  toyota      wagon       104.5   187.8        dohc              six   \n",
      "\n",
      "    horsepower  average-mileage    price  \n",
      "48          62               35   5348.0  \n",
      "49          62               31   6338.0  \n",
      "50          62               31   6488.0  \n",
      "51          62               31   6918.0  \n",
      "52          62               27   7898.0  \n",
      "53          62               27   8778.0  \n",
      "54         156               19  15750.0  \n"
     ]
    }
   ],
   "source": [
    "print(data[data.company == 'toyota'])"
   ]
  },
  {
   "cell_type": "markdown",
   "metadata": {},
   "source": [
    "### Question 5: Count total cars per company"
   ]
  },
  {
   "cell_type": "code",
   "execution_count": 22,
   "metadata": {},
   "outputs": [
    {
     "name": "stdout",
     "output_type": "stream",
     "text": [
      "toyota           7\n",
      "bmw              6\n",
      "nissan           5\n",
      "mazda            5\n",
      "volkswagen       4\n",
      "mercedes-benz    4\n",
      "audi             4\n",
      "mitsubishi       4\n",
      "isuzu            3\n",
      "alfa-romero      3\n",
      "chevrolet        3\n",
      "porsche          3\n",
      "jaguar           3\n",
      "honda            3\n",
      "volvo            2\n",
      "dodge            2\n",
      "Name: company, dtype: int64\n"
     ]
    }
   ],
   "source": [
    "print(data['company'].value_counts())"
   ]
  },
  {
   "cell_type": "markdown",
   "metadata": {},
   "source": [
    "### Question 6: Find each company’s Higesht price car"
   ]
  },
  {
   "cell_type": "code",
   "execution_count": 28,
   "metadata": {},
   "outputs": [
    {
     "name": "stdout",
     "output_type": "stream",
     "text": [
      "company\n",
      "alfa-romero      16500.0\n",
      "audi             18920.0\n",
      "bmw              41315.0\n",
      "chevrolet         6575.0\n",
      "dodge             6377.0\n",
      "honda            12945.0\n",
      "isuzu             6785.0\n",
      "jaguar           36000.0\n",
      "mazda            18344.0\n",
      "mercedes-benz    45400.0\n",
      "mitsubishi        8189.0\n",
      "nissan           13499.0\n",
      "porsche          37028.0\n",
      "toyota           15750.0\n",
      "volkswagen        9995.0\n",
      "volvo            13415.0\n",
      "Name: price, dtype: float64\n"
     ]
    }
   ],
   "source": [
    "print(data.groupby(['company'])['price'].max())"
   ]
  },
  {
   "cell_type": "markdown",
   "metadata": {},
   "source": [
    "### Question 7: Find the average mileage of each car making company"
   ]
  },
  {
   "cell_type": "code",
   "execution_count": 30,
   "metadata": {},
   "outputs": [
    {
     "name": "stdout",
     "output_type": "stream",
     "text": [
      "company\n",
      "alfa-romero      20.333333\n",
      "audi             20.000000\n",
      "bmw              19.000000\n",
      "chevrolet        41.000000\n",
      "dodge            31.000000\n",
      "honda            26.333333\n",
      "isuzu            33.333333\n",
      "jaguar           14.333333\n",
      "mazda            28.000000\n",
      "mercedes-benz    18.000000\n",
      "mitsubishi       29.500000\n",
      "nissan           31.400000\n",
      "porsche          17.000000\n",
      "toyota           28.714286\n",
      "volkswagen       31.750000\n",
      "volvo            23.000000\n",
      "Name: average-mileage, dtype: float64\n"
     ]
    }
   ],
   "source": [
    "print(data.groupby(['company'])['average-mileage'].mean())"
   ]
  },
  {
   "cell_type": "markdown",
   "metadata": {},
   "source": [
    "### Question 8: Sort all cars by Price column"
   ]
  },
  {
   "cell_type": "code",
   "execution_count": 39,
   "metadata": {},
   "outputs": [
    {
     "name": "stdout",
     "output_type": "stream",
     "text": [
      "    index     company body-style  wheel-base  length engine-type  \\\n",
      "13     16   chevrolet  hatchback        88.4   141.1           l   \n",
      "27     36       mazda  hatchback        93.1   159.1         ohc   \n",
      "48     66      toyota  hatchback        95.7   158.7         ohc   \n",
      "36     49  mitsubishi  hatchback        93.7   157.3         ohc   \n",
      "28     37       mazda  hatchback        93.1   159.1         ohc   \n",
      "\n",
      "   num-of-cylinders  horsepower  average-mileage   price  \n",
      "13            three          48               47  5151.0  \n",
      "27             four          68               30  5195.0  \n",
      "48             four          62               35  5348.0  \n",
      "36             four          68               37  5389.0  \n",
      "28             four          68               31  6095.0  \n"
     ]
    }
   ],
   "source": [
    "print(data.sort_values(by=['price']).head())"
   ]
  },
  {
   "cell_type": "markdown",
   "metadata": {},
   "source": [
    "### Question 9: Concatenate two data frames using the following conditions\n",
    "Create two data frames using the following two Dicts, Concatenate those two data frames and create a key for each data frame."
   ]
  },
  {
   "cell_type": "code",
   "execution_count": 48,
   "metadata": {},
   "outputs": [
    {
     "name": "stdout",
     "output_type": "stream",
     "text": [
      "       Company   Price\n",
      "0         Ford   23845\n",
      "1     Mercedes  171995\n",
      "2          BMV  135925\n",
      "3         Audi   71400\n",
      "0       Toyota   29995\n",
      "1        Honda   23600\n",
      "2       Nissan   61500\n",
      "3  Mitsubishi    58900\n"
     ]
    }
   ],
   "source": [
    "GermanCars = pd.DataFrame({'Company': ['Ford', 'Mercedes', 'BMV', 'Audi'], 'Price': [23845, 171995, 135925 , 71400]})\n",
    "japaneseCars = pd.DataFrame({'Company': ['Toyota', 'Honda', 'Nissan', 'Mitsubishi '], 'Price': [29995, 23600, 61500 , 58900]})\n",
    "print(pd.concat([GermanCars, japaneseCars]))"
   ]
  },
  {
   "cell_type": "markdown",
   "metadata": {},
   "source": [
    "### Question 10: Merge two data frames using the following condition\n",
    "Create two data frames using the following two Dicts, Merge two data frames, and append the second data frame as a new column to the first data frame."
   ]
  },
  {
   "cell_type": "code",
   "execution_count": 55,
   "metadata": {},
   "outputs": [
    {
     "name": "stdout",
     "output_type": "stream",
     "text": [
      "  Company   Price  horsepower\n",
      "0  Toyota   23845         141\n",
      "1   Honda   17995          80\n",
      "2     BMV  135925         182\n",
      "3    Audi   71400         160\n"
     ]
    }
   ],
   "source": [
    "Car_Price = pd.DataFrame({'Company': ['Toyota', 'Honda', 'BMV', 'Audi'], 'Price': [23845, 17995, 135925 , 71400]})\n",
    "car_Horsepower = pd.DataFrame({'Company': ['Toyota', 'Honda', 'BMV', 'Audi'], 'horsepower': [141, 80, 182 , 160]})\n",
    "print(Car_Price.merge(car_Horsepower, on = 'Company'))"
   ]
  }
 ],
 "metadata": {
  "kernelspec": {
   "display_name": "Python 3",
   "language": "python",
   "name": "python3"
  },
  "language_info": {
   "codemirror_mode": {
    "name": "ipython",
    "version": 3
   },
   "file_extension": ".py",
   "mimetype": "text/x-python",
   "name": "python",
   "nbconvert_exporter": "python",
   "pygments_lexer": "ipython3",
   "version": "3.7.7"
  }
 },
 "nbformat": 4,
 "nbformat_minor": 4
}
