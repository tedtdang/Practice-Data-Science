{
 "cells": [
  {
   "cell_type": "code",
   "execution_count": 1,
   "id": "fcb7e30e",
   "metadata": {},
   "outputs": [
    {
     "data": {
      "text/html": [
       "<div>\n",
       "<style scoped>\n",
       "    .dataframe tbody tr th:only-of-type {\n",
       "        vertical-align: middle;\n",
       "    }\n",
       "\n",
       "    .dataframe tbody tr th {\n",
       "        vertical-align: top;\n",
       "    }\n",
       "\n",
       "    .dataframe thead th {\n",
       "        text-align: right;\n",
       "    }\n",
       "</style>\n",
       "<table border=\"1\" class=\"dataframe\">\n",
       "  <thead>\n",
       "    <tr style=\"text-align: right;\">\n",
       "      <th></th>\n",
       "      <th>App</th>\n",
       "      <th>Week</th>\n",
       "      <th>Rides</th>\n",
       "      <th>Booked time</th>\n",
       "      <th>Online time</th>\n",
       "      <th>Ride earnings</th>\n",
       "      <th>Tips</th>\n",
       "      <th>Bonuses</th>\n",
       "      <th>Cancel earnings</th>\n",
       "      <th>Tolls</th>\n",
       "      <th>Streak bonuses</th>\n",
       "      <th>Earning guarantees</th>\n",
       "      <th>Net earnings</th>\n",
       "      <th>Real earnings</th>\n",
       "    </tr>\n",
       "  </thead>\n",
       "  <tbody>\n",
       "    <tr>\n",
       "      <th>0</th>\n",
       "      <td>Lyft</td>\n",
       "      <td>2021-02-22</td>\n",
       "      <td>20</td>\n",
       "      <td>408</td>\n",
       "      <td>529</td>\n",
       "      <td>107.31</td>\n",
       "      <td>15.50</td>\n",
       "      <td>13.22</td>\n",
       "      <td>0.00</td>\n",
       "      <td>0.0</td>\n",
       "      <td>0</td>\n",
       "      <td>0.0</td>\n",
       "      <td>136.03</td>\n",
       "      <td>136.03</td>\n",
       "    </tr>\n",
       "    <tr>\n",
       "      <th>1</th>\n",
       "      <td>Lyft</td>\n",
       "      <td>2021-03-08</td>\n",
       "      <td>4</td>\n",
       "      <td>115</td>\n",
       "      <td>126</td>\n",
       "      <td>34.13</td>\n",
       "      <td>8.07</td>\n",
       "      <td>2.70</td>\n",
       "      <td>0.00</td>\n",
       "      <td>0.0</td>\n",
       "      <td>15</td>\n",
       "      <td>0.0</td>\n",
       "      <td>59.90</td>\n",
       "      <td>59.90</td>\n",
       "    </tr>\n",
       "    <tr>\n",
       "      <th>2</th>\n",
       "      <td>Lyft</td>\n",
       "      <td>2021-03-15</td>\n",
       "      <td>39</td>\n",
       "      <td>1165</td>\n",
       "      <td>1200</td>\n",
       "      <td>347.94</td>\n",
       "      <td>21.79</td>\n",
       "      <td>85.57</td>\n",
       "      <td>8.74</td>\n",
       "      <td>13.5</td>\n",
       "      <td>165</td>\n",
       "      <td>0.0</td>\n",
       "      <td>642.54</td>\n",
       "      <td>629.04</td>\n",
       "    </tr>\n",
       "    <tr>\n",
       "      <th>3</th>\n",
       "      <td>Lyft</td>\n",
       "      <td>2021-03-22</td>\n",
       "      <td>0</td>\n",
       "      <td>0</td>\n",
       "      <td>0</td>\n",
       "      <td>0.00</td>\n",
       "      <td>0.00</td>\n",
       "      <td>0.00</td>\n",
       "      <td>0.00</td>\n",
       "      <td>0.0</td>\n",
       "      <td>0</td>\n",
       "      <td>0.0</td>\n",
       "      <td>0.00</td>\n",
       "      <td>0.00</td>\n",
       "    </tr>\n",
       "    <tr>\n",
       "      <th>4</th>\n",
       "      <td>Lyft</td>\n",
       "      <td>2021-03-29</td>\n",
       "      <td>57</td>\n",
       "      <td>1319</td>\n",
       "      <td>1401</td>\n",
       "      <td>375.93</td>\n",
       "      <td>48.41</td>\n",
       "      <td>156.40</td>\n",
       "      <td>2.00</td>\n",
       "      <td>9.6</td>\n",
       "      <td>255</td>\n",
       "      <td>0.0</td>\n",
       "      <td>847.34</td>\n",
       "      <td>837.74</td>\n",
       "    </tr>\n",
       "  </tbody>\n",
       "</table>\n",
       "</div>"
      ],
      "text/plain": [
       "    App       Week  Rides  Booked time  Online time  Ride earnings   Tips  \\\n",
       "0  Lyft 2021-02-22     20          408          529         107.31  15.50   \n",
       "1  Lyft 2021-03-08      4          115          126          34.13   8.07   \n",
       "2  Lyft 2021-03-15     39         1165         1200         347.94  21.79   \n",
       "3  Lyft 2021-03-22      0            0            0           0.00   0.00   \n",
       "4  Lyft 2021-03-29     57         1319         1401         375.93  48.41   \n",
       "\n",
       "   Bonuses  Cancel earnings  Tolls  Streak bonuses  Earning guarantees  \\\n",
       "0    13.22             0.00    0.0               0                 0.0   \n",
       "1     2.70             0.00    0.0              15                 0.0   \n",
       "2    85.57             8.74   13.5             165                 0.0   \n",
       "3     0.00             0.00    0.0               0                 0.0   \n",
       "4   156.40             2.00    9.6             255                 0.0   \n",
       "\n",
       "   Net earnings  Real earnings  \n",
       "0        136.03         136.03  \n",
       "1         59.90          59.90  \n",
       "2        642.54         629.04  \n",
       "3          0.00           0.00  \n",
       "4        847.34         837.74  "
      ]
     },
     "execution_count": 1,
     "metadata": {},
     "output_type": "execute_result"
    }
   ],
   "source": [
    "import math\n",
    "import pandas as pd\n",
    "df = pd.read_excel('Driving.xlsx', engine='openpyxl')\n",
    "df.head()"
   ]
  },
  {
   "cell_type": "code",
   "execution_count": 2,
   "id": "76a5845a",
   "metadata": {},
   "outputs": [
    {
     "name": "stdout",
     "output_type": "stream",
     "text": [
      "28.330197859228026\n"
     ]
    }
   ],
   "source": [
    "# Average income per hour\n",
    "print(df['Real earnings'].sum() * 60 / df['Online time'].sum())"
   ]
  },
  {
   "cell_type": "code",
   "execution_count": 3,
   "id": "da171503",
   "metadata": {},
   "outputs": [
    {
     "name": "stdout",
     "output_type": "stream",
     "text": [
      "14.299607072691552\n"
     ]
    }
   ],
   "source": [
    "# Average income per trip\n",
    "print(df['Real earnings'].sum() / df['Rides'].sum())"
   ]
  },
  {
   "cell_type": "code",
   "execution_count": 4,
   "id": "0c5a4cd4",
   "metadata": {},
   "outputs": [
    {
     "name": "stdout",
     "output_type": "stream",
     "text": [
      "3.66%\n"
     ]
    }
   ],
   "source": [
    "# Percentage of tips\n",
    "print(f\"{df['Tips'].sum() *100 / df['Real earnings'].sum():.2f}%\")"
   ]
  },
  {
   "cell_type": "code",
   "execution_count": 5,
   "id": "560c1c39",
   "metadata": {},
   "outputs": [
    {
     "name": "stdout",
     "output_type": "stream",
     "text": [
      "1.24%\n"
     ]
    }
   ],
   "source": [
    "# Percentage of cancel earnings\n",
    "print(f\"{df['Cancel earnings'].sum() *100 / df['Real earnings'].sum():.2f}%\")"
   ]
  },
  {
   "cell_type": "code",
   "execution_count": 6,
   "id": "d265a81e",
   "metadata": {},
   "outputs": [
    {
     "name": "stdout",
     "output_type": "stream",
     "text": [
      "2.28\n"
     ]
    }
   ],
   "source": [
    "# Trips per hour\n",
    "trips_per_hour = df['Rides'].sum() / (df['Booked time'].sum()/60)\n",
    "print(f\"{trips_per_hour:.2f}\")"
   ]
  },
  {
   "cell_type": "code",
   "execution_count": 7,
   "id": "772c2fc4",
   "metadata": {},
   "outputs": [
    {
     "name": "stdout",
     "output_type": "stream",
     "text": [
      "19.61%\n"
     ]
    }
   ],
   "source": [
    "def lte_trips_per_hour(n: int, mu: int) -> float:\n",
    "    '''This function uses Possion distribution to find the probability of \n",
    "    receiving less than or equal to n (trips) per hour given the average mu (trips) per hour'''\n",
    "    return math.e**(-mu)*sum((mu**i)/(math.factorial(i)) for i in range(n+1))\n",
    "def gt_trips_per_hour(n: int, mu: int) -> float:\n",
    "    '''This function uses Possion distribution to find the probability of \n",
    "    receiving greater than n (trips) per hour given the average mu (trips) per hour'''\n",
    "    return 1 - lte_trips_per_hour(n, mu)\n",
    "\n",
    "# Probability to receive more than 3 trips in one hour\n",
    "print(f\"{gt_trips_per_hour(3, trips_per_hour) * 100:.2f}%\")\n"
   ]
  }
 ],
 "metadata": {
  "kernelspec": {
   "display_name": "Python 3",
   "language": "python",
   "name": "python3"
  },
  "language_info": {
   "codemirror_mode": {
    "name": "ipython",
    "version": 3
   },
   "file_extension": ".py",
   "mimetype": "text/x-python",
   "name": "python",
   "nbconvert_exporter": "python",
   "pygments_lexer": "ipython3",
   "version": "3.9.5"
  }
 },
 "nbformat": 4,
 "nbformat_minor": 5
}
