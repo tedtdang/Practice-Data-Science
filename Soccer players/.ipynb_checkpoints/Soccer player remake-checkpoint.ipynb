{
 "cells": [
  {
   "cell_type": "markdown",
   "metadata": {},
   "source": [
    "### Load data from csv"
   ]
  },
  {
   "cell_type": "code",
   "execution_count": 1,
   "metadata": {},
   "outputs": [],
   "source": [
    "# Load data from csv\n",
    "import pandas as pd\n",
    "import numpy as np\n",
    "import sidetable\n",
    "from matplotlib import pyplot as plt\n",
    "%matplotlib inline\n",
    "\n",
    "df = pd.read_csv('data.csv')\n",
    "df.columns = df.columns.str.lower()\n"
   ]
  },
  {
   "cell_type": "markdown",
   "metadata": {},
   "source": [
    "### Preprocess data"
   ]
  },
  {
   "cell_type": "code",
   "execution_count": 2,
   "metadata": {},
   "outputs": [],
   "source": [
    "# Drop unnecessary columns and rows having missing / null values\n",
    "columns_to_drop = [1, 3, 4, 5, 8, 9, 18, 19, 20, 21, 22, 23, 24, 25, 26, 87]\n",
    "df.drop(labels=df.columns[columns_to_drop], axis=1, inplace=True)\n",
    "\n",
    "# Turn columns to lower case\n",
    "df.columns = df.columns.str.lower().str.replace(' ', '_')\n",
    "df.set_index('id', inplace=True)"
   ]
  },
  {
   "cell_type": "code",
   "execution_count": 3,
   "metadata": {},
   "outputs": [],
   "source": [
    "# Remove currency symbols in Wage and Value columns, turn them into numeric type, and change the column names\n",
    "df['wage'] = np.where(df['wage'].str[-1].isin('M K'.split()), df['wage'].str[1:-1], np.nan)\n",
    "df['value'] = np.where(df['value'].str[-1].isin('M K'.split()), df['value'].str[1:-1], np.nan)\n",
    "df['wage'] = df['wage'].astype(dtype='float')\n",
    "df['value'] = df['value'].astype(dtype='float')"
   ]
  },
  {
   "cell_type": "code",
   "execution_count": 4,
   "metadata": {},
   "outputs": [
    {
     "data": {
      "text/plain": [
       "array([565., 405., 290., 260., 355., 340., 420., 455., 380.,  94., 205.,\n",
       "       125., 285., 225., 145., 240., 315., 200., 130., 300., 215., 100.,\n",
       "       255., 165., 265., 160., 150., 245., 110.,  77., 115., 210., 195.,\n",
       "       230., 250., 135., 155., 180., 175., 190., 185.,  21.,  82.,  73.,\n",
       "        92.,  88.,  96., 170.,  66., 235.,  28., 105.,  38.,  81.,  57.,\n",
       "        15.,  63.,  22.,  84., 120.,  90.,  72.,  93.,  45.,  74.,  51.,\n",
       "        42.,  31.,  75.,  25., 140.,  41.,  78.,  53.,  95.,  80.,  43.,\n",
       "        60.,  85.,  64.,  67.,  18.,  70.,  91.,  20.,  49.,  87.,  86.,\n",
       "        26.,  29.,  55.,  35.,  33.,  56.,  30.,  11.,  59.,  23.,  46.,\n",
       "        39.,  32.,  36.,  98.,  54.,  68.,  58.,  27.,  40.,  44.,  19.,\n",
       "         1.,  61.,  50.,  99.,  17.,  52.,  62.,  12.,  10.,  71.,  14.,\n",
       "        76.,  48.,  65.,  69.,  24.,  34.,  16.,  37.,  47.,  89.,  nan,\n",
       "        97.,  79.,  13.,  83.,   6.,   3.,   9.,   8.,   7.,   4.,   2.,\n",
       "         5.])"
      ]
     },
     "execution_count": 4,
     "metadata": {},
     "output_type": "execute_result"
    }
   ],
   "source": [
    "df['wage'].unique()"
   ]
  },
  {
   "cell_type": "code",
   "execution_count": 5,
   "metadata": {},
   "outputs": [],
   "source": [
    "'''\n",
    "    Convert work_rate into numeric type using the following map:\n",
    "        Low = 1 point, Medium = 2 points, High = 3 points    \n",
    "'''\n",
    "def work_rate(x):\n",
    "    if x in ['Low/ Low']:\n",
    "        return 2\n",
    "    elif x in ['Low/ Medium', 'Medium/ Low']:\n",
    "        return 3\n",
    "    elif x in ['Low/ High', 'Medium/ Medium', 'High/ Low']:\n",
    "        return 4\n",
    "    elif x in ['High/ Medium', 'Medium/ High']:\n",
    "        return 5\n",
    "    elif x in ['High/ High']:\n",
    "        return 6\n",
    "\n",
    "df['work_rate'] = df['work_rate'].apply(work_rate)"
   ]
  },
  {
   "cell_type": "code",
   "execution_count": 6,
   "metadata": {},
   "outputs": [],
   "source": [
    "# This function is to remove the plus sign and add the two numbers together in columns ['ls': 'rb']\n",
    "def clean_plus_sign(x):\n",
    "    if isinstance(x, str):\n",
    "        x = x.split('+')\n",
    "        x = list(map(int, x))\n",
    "        return sum(x)\n",
    "    \n",
    "for i in df.loc[:,'ls': 'rb'].columns:\n",
    "    df[i] = df[i].apply(clean_plus_sign)"
   ]
  },
  {
   "cell_type": "code",
   "execution_count": 7,
   "metadata": {},
   "outputs": [],
   "source": [
    "X = df.drop(columns='value')\n",
    "y = df.value.copy()"
   ]
  },
  {
   "cell_type": "code",
   "execution_count": 8,
   "metadata": {},
   "outputs": [],
   "source": [
    "# Retrive num_cols and cat_cols\n",
    "num_cols = list(X._get_numeric_data().columns) # Another way: X.select_dtypes(include='number').columns\n",
    "cat_cols = list(set(X.columns) - set(num_cols)) # Another way: X.select_dtypes(exclude='number').columns"
   ]
  },
  {
   "cell_type": "code",
   "execution_count": 9,
   "metadata": {},
   "outputs": [],
   "source": [
    "from sklearn.impute import SimpleImputer\n",
    "from sklearn.preprocessing import OneHotEncoder, StandardScaler\n",
    "from sklearn.experimental import enable_iterative_imputer\n",
    "from sklearn.impute import IterativeImputer, KNNImputer\n",
    "from sklearn.pipeline import make_pipeline\n",
    "from sklearn.compose import make_column_transformer, make_column_selector\n",
    "\n",
    "cat_pipe = make_pipeline(\n",
    "            (SimpleImputer(strategy='most_frequent')),\n",
    "            (OneHotEncoder(drop='first', handle_unknown='error'))\n",
    "            )\n",
    "num_pipe = make_pipeline(\n",
    "            (KNNImputer()),\n",
    "            (StandardScaler())\n",
    "            )            \n",
    "preprocess_pipeline = make_column_transformer(\n",
    "            (cat_pipe, cat_cols),\n",
    "            (num_pipe, num_cols)\n",
    "            )"
   ]
  },
  {
   "cell_type": "code",
   "execution_count": 10,
   "metadata": {},
   "outputs": [
    {
     "data": {
      "text/plain": [
       "array([[ 0.        ,  1.25867833,  4.01828714, ..., -0.07475808,\n",
       "        -0.14042651, -0.485802  ],\n",
       "       [ 1.        ,  1.68696087,  4.01828714, ..., -0.07475808,\n",
       "        -0.14042651, -0.31849344],\n",
       "       [ 1.        ,  0.18797198,  3.72879875, ..., -0.07475808,\n",
       "        -0.08164355, -0.31849344],\n",
       "       ...,\n",
       "       [ 1.        , -1.95344072, -2.78469008, ..., -0.37814431,\n",
       "        -0.61069023, -0.2069544 ],\n",
       "       [ 1.        , -1.73929945, -2.78469008, ..., -0.13543533,\n",
       "        -0.4931243 , -0.43003248],\n",
       "       [ 1.        , -1.95344072, -2.92943428, ..., -0.43882155,\n",
       "        -0.25799244, -0.43003248]])"
      ]
     },
     "execution_count": 10,
     "metadata": {},
     "output_type": "execute_result"
    }
   ],
   "source": [
    "preprocess_pipeline.fit_transform(X)"
   ]
  },
  {
   "cell_type": "raw",
   "metadata": {},
   "source": [
    "from sklearn.model_selection import train_test_split\n",
    "X_train, X_test, y_train, y_test = train_test_split(X, y, test_size=0.1, random_state=1)"
   ]
  },
  {
   "cell_type": "raw",
   "metadata": {},
   "source": [
    "### Use GridSearch to look for the best parameters for XGBRegressor"
   ]
  },
  {
   "cell_type": "raw",
   "metadata": {},
   "source": [
    "# As XGBoost can handle imputation, I did not impute num_cols before fitting it.\n",
    "predictions = DataScience.xgb_regressor(X_train, y_train, X_test)"
   ]
  },
  {
   "cell_type": "raw",
   "metadata": {},
   "source": [
    "### Use the model to predict the market value of soccer players"
   ]
  },
  {
   "cell_type": "raw",
   "metadata": {},
   "source": [
    "# Get the index of the predicted table\n",
    "index = X_test.index\n",
    "predictions = pd.DataFrame(predictions, columns=['Value_in_M'], index=index)"
   ]
  }
 ],
 "metadata": {
  "kernelspec": {
   "display_name": "Python 3",
   "language": "python",
   "name": "python3"
  },
  "language_info": {
   "codemirror_mode": {
    "name": "ipython",
    "version": 3
   },
   "file_extension": ".py",
   "mimetype": "text/x-python",
   "name": "python",
   "nbconvert_exporter": "python",
   "pygments_lexer": "ipython3",
   "version": "3.7.9"
  }
 },
 "nbformat": 4,
 "nbformat_minor": 4
}
