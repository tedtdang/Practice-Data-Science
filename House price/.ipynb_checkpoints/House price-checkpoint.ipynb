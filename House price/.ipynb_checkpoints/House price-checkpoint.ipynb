{
 "cells": [
  {
   "cell_type": "markdown",
   "metadata": {},
   "source": [
    "### https://www.kaggle.com/c/house-prices-advanced-regression-techniques/data?select=test.csv"
   ]
  },
  {
   "cell_type": "code",
   "execution_count": 1,
   "metadata": {
    "execution": {
     "iopub.execute_input": "2021-05-12T00:04:40.323671Z",
     "iopub.status.busy": "2021-05-12T00:04:40.322669Z",
     "iopub.status.idle": "2021-05-12T00:04:42.130311Z",
     "shell.execute_reply": "2021-05-12T00:04:42.130311Z",
     "shell.execute_reply.started": "2021-05-12T00:04:40.323671Z"
    }
   },
   "outputs": [],
   "source": [
    "import pandas as pd\n",
    "import numpy as np\n",
    "from matplotlib import pyplot as plt\n",
    "import seaborn as sb\n",
    "import sidetable\n",
    "%matplotlib inline\n",
    "\n",
    "df_train = pd.read_csv('./train.csv', index_col='Id')\n",
    "X_train = df_train.drop(columns='SalePrice')\n",
    "y_train = df_train['SalePrice']\n",
    "X_test = pd.read_csv('./test.csv', index_col='Id')\n",
    "train_test = pd.concat([X_train, X_test])\n",
    "train_index = X_train.index\n",
    "test_index = X_test.index"
   ]
  },
  {
   "cell_type": "code",
   "execution_count": 2,
   "metadata": {
    "execution": {
     "iopub.execute_input": "2021-05-12T00:04:42.132315Z",
     "iopub.status.busy": "2021-05-12T00:04:42.132315Z",
     "iopub.status.idle": "2021-05-12T00:04:42.193370Z",
     "shell.execute_reply": "2021-05-12T00:04:42.193370Z",
     "shell.execute_reply.started": "2021-05-12T00:04:42.132315Z"
    }
   },
   "outputs": [
    {
     "data": {
      "text/html": [
       "<div>\n",
       "<style scoped>\n",
       "    .dataframe tbody tr th:only-of-type {\n",
       "        vertical-align: middle;\n",
       "    }\n",
       "\n",
       "    .dataframe tbody tr th {\n",
       "        vertical-align: top;\n",
       "    }\n",
       "\n",
       "    .dataframe thead th {\n",
       "        text-align: right;\n",
       "    }\n",
       "</style>\n",
       "<table border=\"1\" class=\"dataframe\">\n",
       "  <thead>\n",
       "    <tr style=\"text-align: right;\">\n",
       "      <th></th>\n",
       "      <th>MSSubClass</th>\n",
       "      <th>MSZoning</th>\n",
       "      <th>LotFrontage</th>\n",
       "      <th>LotArea</th>\n",
       "      <th>Street</th>\n",
       "      <th>Alley</th>\n",
       "      <th>LotShape</th>\n",
       "      <th>LandContour</th>\n",
       "      <th>Utilities</th>\n",
       "      <th>LotConfig</th>\n",
       "      <th>...</th>\n",
       "      <th>ScreenPorch</th>\n",
       "      <th>PoolArea</th>\n",
       "      <th>PoolQC</th>\n",
       "      <th>Fence</th>\n",
       "      <th>MiscFeature</th>\n",
       "      <th>MiscVal</th>\n",
       "      <th>MoSold</th>\n",
       "      <th>YrSold</th>\n",
       "      <th>SaleType</th>\n",
       "      <th>SaleCondition</th>\n",
       "    </tr>\n",
       "    <tr>\n",
       "      <th>Id</th>\n",
       "      <th></th>\n",
       "      <th></th>\n",
       "      <th></th>\n",
       "      <th></th>\n",
       "      <th></th>\n",
       "      <th></th>\n",
       "      <th></th>\n",
       "      <th></th>\n",
       "      <th></th>\n",
       "      <th></th>\n",
       "      <th></th>\n",
       "      <th></th>\n",
       "      <th></th>\n",
       "      <th></th>\n",
       "      <th></th>\n",
       "      <th></th>\n",
       "      <th></th>\n",
       "      <th></th>\n",
       "      <th></th>\n",
       "      <th></th>\n",
       "      <th></th>\n",
       "    </tr>\n",
       "  </thead>\n",
       "  <tbody>\n",
       "    <tr>\n",
       "      <th>1</th>\n",
       "      <td>60</td>\n",
       "      <td>RL</td>\n",
       "      <td>65.0</td>\n",
       "      <td>8450</td>\n",
       "      <td>Pave</td>\n",
       "      <td>NaN</td>\n",
       "      <td>Reg</td>\n",
       "      <td>Lvl</td>\n",
       "      <td>AllPub</td>\n",
       "      <td>Inside</td>\n",
       "      <td>...</td>\n",
       "      <td>0</td>\n",
       "      <td>0</td>\n",
       "      <td>NaN</td>\n",
       "      <td>NaN</td>\n",
       "      <td>NaN</td>\n",
       "      <td>0</td>\n",
       "      <td>2</td>\n",
       "      <td>2008</td>\n",
       "      <td>WD</td>\n",
       "      <td>Normal</td>\n",
       "    </tr>\n",
       "    <tr>\n",
       "      <th>2</th>\n",
       "      <td>20</td>\n",
       "      <td>RL</td>\n",
       "      <td>80.0</td>\n",
       "      <td>9600</td>\n",
       "      <td>Pave</td>\n",
       "      <td>NaN</td>\n",
       "      <td>Reg</td>\n",
       "      <td>Lvl</td>\n",
       "      <td>AllPub</td>\n",
       "      <td>FR2</td>\n",
       "      <td>...</td>\n",
       "      <td>0</td>\n",
       "      <td>0</td>\n",
       "      <td>NaN</td>\n",
       "      <td>NaN</td>\n",
       "      <td>NaN</td>\n",
       "      <td>0</td>\n",
       "      <td>5</td>\n",
       "      <td>2007</td>\n",
       "      <td>WD</td>\n",
       "      <td>Normal</td>\n",
       "    </tr>\n",
       "    <tr>\n",
       "      <th>3</th>\n",
       "      <td>60</td>\n",
       "      <td>RL</td>\n",
       "      <td>68.0</td>\n",
       "      <td>11250</td>\n",
       "      <td>Pave</td>\n",
       "      <td>NaN</td>\n",
       "      <td>IR1</td>\n",
       "      <td>Lvl</td>\n",
       "      <td>AllPub</td>\n",
       "      <td>Inside</td>\n",
       "      <td>...</td>\n",
       "      <td>0</td>\n",
       "      <td>0</td>\n",
       "      <td>NaN</td>\n",
       "      <td>NaN</td>\n",
       "      <td>NaN</td>\n",
       "      <td>0</td>\n",
       "      <td>9</td>\n",
       "      <td>2008</td>\n",
       "      <td>WD</td>\n",
       "      <td>Normal</td>\n",
       "    </tr>\n",
       "    <tr>\n",
       "      <th>4</th>\n",
       "      <td>70</td>\n",
       "      <td>RL</td>\n",
       "      <td>60.0</td>\n",
       "      <td>9550</td>\n",
       "      <td>Pave</td>\n",
       "      <td>NaN</td>\n",
       "      <td>IR1</td>\n",
       "      <td>Lvl</td>\n",
       "      <td>AllPub</td>\n",
       "      <td>Corner</td>\n",
       "      <td>...</td>\n",
       "      <td>0</td>\n",
       "      <td>0</td>\n",
       "      <td>NaN</td>\n",
       "      <td>NaN</td>\n",
       "      <td>NaN</td>\n",
       "      <td>0</td>\n",
       "      <td>2</td>\n",
       "      <td>2006</td>\n",
       "      <td>WD</td>\n",
       "      <td>Abnorml</td>\n",
       "    </tr>\n",
       "    <tr>\n",
       "      <th>5</th>\n",
       "      <td>60</td>\n",
       "      <td>RL</td>\n",
       "      <td>84.0</td>\n",
       "      <td>14260</td>\n",
       "      <td>Pave</td>\n",
       "      <td>NaN</td>\n",
       "      <td>IR1</td>\n",
       "      <td>Lvl</td>\n",
       "      <td>AllPub</td>\n",
       "      <td>FR2</td>\n",
       "      <td>...</td>\n",
       "      <td>0</td>\n",
       "      <td>0</td>\n",
       "      <td>NaN</td>\n",
       "      <td>NaN</td>\n",
       "      <td>NaN</td>\n",
       "      <td>0</td>\n",
       "      <td>12</td>\n",
       "      <td>2008</td>\n",
       "      <td>WD</td>\n",
       "      <td>Normal</td>\n",
       "    </tr>\n",
       "  </tbody>\n",
       "</table>\n",
       "<p>5 rows × 79 columns</p>\n",
       "</div>"
      ],
      "text/plain": [
       "    MSSubClass MSZoning  LotFrontage  LotArea Street Alley LotShape  \\\n",
       "Id                                                                    \n",
       "1           60       RL         65.0     8450   Pave   NaN      Reg   \n",
       "2           20       RL         80.0     9600   Pave   NaN      Reg   \n",
       "3           60       RL         68.0    11250   Pave   NaN      IR1   \n",
       "4           70       RL         60.0     9550   Pave   NaN      IR1   \n",
       "5           60       RL         84.0    14260   Pave   NaN      IR1   \n",
       "\n",
       "   LandContour Utilities LotConfig  ... ScreenPorch PoolArea PoolQC Fence  \\\n",
       "Id                                  ...                                     \n",
       "1          Lvl    AllPub    Inside  ...           0        0    NaN   NaN   \n",
       "2          Lvl    AllPub       FR2  ...           0        0    NaN   NaN   \n",
       "3          Lvl    AllPub    Inside  ...           0        0    NaN   NaN   \n",
       "4          Lvl    AllPub    Corner  ...           0        0    NaN   NaN   \n",
       "5          Lvl    AllPub       FR2  ...           0        0    NaN   NaN   \n",
       "\n",
       "   MiscFeature MiscVal  MoSold  YrSold  SaleType  SaleCondition  \n",
       "Id                                                               \n",
       "1          NaN       0       2    2008        WD         Normal  \n",
       "2          NaN       0       5    2007        WD         Normal  \n",
       "3          NaN       0       9    2008        WD         Normal  \n",
       "4          NaN       0       2    2006        WD        Abnorml  \n",
       "5          NaN       0      12    2008        WD         Normal  \n",
       "\n",
       "[5 rows x 79 columns]"
      ]
     },
     "execution_count": 2,
     "metadata": {},
     "output_type": "execute_result"
    }
   ],
   "source": [
    "# Have a look at the first five rows\n",
    "train_test.head()"
   ]
  },
  {
   "cell_type": "code",
   "execution_count": 3,
   "metadata": {
    "execution": {
     "iopub.execute_input": "2021-05-12T00:04:42.195373Z",
     "iopub.status.busy": "2021-05-12T00:04:42.194371Z",
     "iopub.status.idle": "2021-05-12T00:04:42.243416Z",
     "shell.execute_reply": "2021-05-12T00:04:42.241414Z",
     "shell.execute_reply.started": "2021-05-12T00:04:42.195373Z"
    }
   },
   "outputs": [],
   "source": [
    "threshold = 0.3 * len(train_test)\n",
    "cols = train_test.isnull().sum()[train_test.isnull().sum() < threshold].index\n",
    "train_test = train_test[cols]\n",
    "X_train = train_test.loc[train_index, cols]\n",
    "X_test = train_test.loc[test_index, cols]"
   ]
  },
  {
   "cell_type": "code",
   "execution_count": 4,
   "metadata": {
    "execution": {
     "iopub.execute_input": "2021-05-12T00:04:42.245417Z",
     "iopub.status.busy": "2021-05-12T00:04:42.245417Z",
     "iopub.status.idle": "2021-05-12T00:04:44.339056Z",
     "shell.execute_reply": "2021-05-12T00:04:44.338055Z",
     "shell.execute_reply.started": "2021-05-12T00:04:42.245417Z"
    }
   },
   "outputs": [],
   "source": [
    "from sklearn.impute import SimpleImputer\n",
    "from category_encoders.cat_boost import CatBoostEncoder\n",
    "from sklearn.experimental import enable_iterative_imputer\n",
    "from sklearn.impute import IterativeImputer\n",
    "from sklearn.preprocessing import StandardScaler\n",
    "from sklearn.pipeline import make_pipeline\n",
    "from sklearn.compose import make_column_transformer\n",
    "\n",
    "num_cols = train_test.select_dtypes(include='number').columns\n",
    "cat_cols = train_test.select_dtypes(exclude='number').columns\n",
    "si = SimpleImputer(strategy='most_frequent', fill_value='Unknown')\n",
    "ce = CatBoostEncoder()\n",
    "ii = IterativeImputer()\n",
    "sc = StandardScaler()\n",
    "\n",
    "X_train.drop_duplicates(inplace=True)\n",
    "X_test.drop_duplicates(inplace=True)\n",
    "\n",
    "si.fit(train_test[cat_cols])\n",
    "X_train[cat_cols] = si.transform(X_train[cat_cols])\n",
    "X_test[cat_cols] = si.transform(X_test[cat_cols])\n",
    "\n",
    "ce.fit(X_train[cat_cols], y_train)\n",
    "X_train[cat_cols] = ce.transform(X_train[cat_cols])\n",
    "X_test[cat_cols] = ce.transform(X_test[cat_cols])\n",
    "\n",
    "ii.fit(train_test[num_cols])\n",
    "X_train[num_cols] = ii.transform(X_train[num_cols])\n",
    "X_test[num_cols] = ii.transform(X_test[num_cols])\n",
    "\n",
    "sc.fit(train_test[num_cols])\n",
    "X_train[num_cols] = sc.transform(X_train[num_cols])\n",
    "X_test[num_cols] = sc.transform(X_test[num_cols])"
   ]
  },
  {
   "cell_type": "code",
   "execution_count": 5,
   "metadata": {
    "execution": {
     "iopub.execute_input": "2021-05-12T00:04:44.340057Z",
     "iopub.status.busy": "2021-05-12T00:04:44.340057Z",
     "iopub.status.idle": "2021-05-12T00:04:44.355072Z",
     "shell.execute_reply": "2021-05-12T00:04:44.354071Z",
     "shell.execute_reply.started": "2021-05-12T00:04:44.340057Z"
    }
   },
   "outputs": [],
   "source": [
    "from sklearn.model_selection import train_test_split\n",
    "\n",
    "X_train, X_val, y_train, y_val = train_test_split(X_train, y_train, random_state=1)"
   ]
  },
  {
   "cell_type": "code",
   "execution_count": 6,
   "metadata": {
    "execution": {
     "iopub.execute_input": "2021-05-12T00:04:44.357074Z",
     "iopub.status.busy": "2021-05-12T00:04:44.356073Z",
     "iopub.status.idle": "2021-05-12T00:04:47.735079Z",
     "shell.execute_reply": "2021-05-12T00:04:47.735079Z",
     "shell.execute_reply.started": "2021-05-12T00:04:44.357074Z"
    }
   },
   "outputs": [],
   "source": [
    "from sklearn.ensemble import RandomForestRegressor\n",
    "\n",
    "rf = RandomForestRegressor(max_depth=10, random_state=1, n_estimators = 300).fit(X_train, y_train)\n",
    "# Return importances of features in descending order\n",
    "feature_importances = pd.DataFrame(abs(rf.feature_importances_), index =X_train.columns,  columns=['importance']).sort_values('importance', ascending=False)"
   ]
  },
  {
   "cell_type": "code",
   "execution_count": 7,
   "metadata": {
    "execution": {
     "iopub.execute_input": "2021-05-12T00:04:47.737083Z",
     "iopub.status.busy": "2021-05-12T00:04:47.737083Z",
     "iopub.status.idle": "2021-05-12T00:04:47.753098Z",
     "shell.execute_reply": "2021-05-12T00:04:47.751095Z",
     "shell.execute_reply.started": "2021-05-12T00:04:47.737083Z"
    }
   },
   "outputs": [
    {
     "data": {
      "text/html": [
       "<div>\n",
       "<style scoped>\n",
       "    .dataframe tbody tr th:only-of-type {\n",
       "        vertical-align: middle;\n",
       "    }\n",
       "\n",
       "    .dataframe tbody tr th {\n",
       "        vertical-align: top;\n",
       "    }\n",
       "\n",
       "    .dataframe thead th {\n",
       "        text-align: right;\n",
       "    }\n",
       "</style>\n",
       "<table border=\"1\" class=\"dataframe\">\n",
       "  <thead>\n",
       "    <tr style=\"text-align: right;\">\n",
       "      <th></th>\n",
       "      <th>importance</th>\n",
       "    </tr>\n",
       "  </thead>\n",
       "  <tbody>\n",
       "    <tr>\n",
       "      <th>OverallQual</th>\n",
       "      <td>0.501237</td>\n",
       "    </tr>\n",
       "    <tr>\n",
       "      <th>GrLivArea</th>\n",
       "      <td>0.603308</td>\n",
       "    </tr>\n",
       "    <tr>\n",
       "      <th>Neighborhood</th>\n",
       "      <td>0.690858</td>\n",
       "    </tr>\n",
       "    <tr>\n",
       "      <th>1stFlrSF</th>\n",
       "      <td>0.726524</td>\n",
       "    </tr>\n",
       "    <tr>\n",
       "      <th>TotalBsmtSF</th>\n",
       "      <td>0.760902</td>\n",
       "    </tr>\n",
       "    <tr>\n",
       "      <th>BsmtFinSF1</th>\n",
       "      <td>0.787843</td>\n",
       "    </tr>\n",
       "    <tr>\n",
       "      <th>GarageCars</th>\n",
       "      <td>0.808267</td>\n",
       "    </tr>\n",
       "    <tr>\n",
       "      <th>LotArea</th>\n",
       "      <td>0.826902</td>\n",
       "    </tr>\n",
       "    <tr>\n",
       "      <th>GarageArea</th>\n",
       "      <td>0.845462</td>\n",
       "    </tr>\n",
       "    <tr>\n",
       "      <th>2ndFlrSF</th>\n",
       "      <td>0.862001</td>\n",
       "    </tr>\n",
       "  </tbody>\n",
       "</table>\n",
       "</div>"
      ],
      "text/plain": [
       "              importance\n",
       "OverallQual     0.501237\n",
       "GrLivArea       0.603308\n",
       "Neighborhood    0.690858\n",
       "1stFlrSF        0.726524\n",
       "TotalBsmtSF     0.760902\n",
       "BsmtFinSF1      0.787843\n",
       "GarageCars      0.808267\n",
       "LotArea         0.826902\n",
       "GarageArea      0.845462\n",
       "2ndFlrSF        0.862001"
      ]
     },
     "execution_count": 7,
     "metadata": {},
     "output_type": "execute_result"
    }
   ],
   "source": [
    "feature_importances[:10].cumsum()"
   ]
  },
  {
   "cell_type": "code",
   "execution_count": 8,
   "metadata": {
    "execution": {
     "iopub.execute_input": "2021-05-12T00:04:47.754098Z",
     "iopub.status.busy": "2021-05-12T00:04:47.754098Z",
     "iopub.status.idle": "2021-05-12T00:04:47.768111Z",
     "shell.execute_reply": "2021-05-12T00:04:47.767110Z",
     "shell.execute_reply.started": "2021-05-12T00:04:47.754098Z"
    }
   },
   "outputs": [],
   "source": [
    "# Take most relevant columns such that 86% of information is kept\n",
    "cols = feature_importances.iloc[:10].index\n",
    "X_train = X_train[cols]\n",
    "X_val = X_val[cols]\n",
    "X_test = X_test[cols]"
   ]
  },
  {
   "cell_type": "code",
   "execution_count": 9,
   "metadata": {
    "execution": {
     "iopub.execute_input": "2021-05-12T00:04:47.769112Z",
     "iopub.status.busy": "2021-05-12T00:04:47.769112Z",
     "iopub.status.idle": "2021-05-12T00:04:47.800140Z",
     "shell.execute_reply": "2021-05-12T00:04:47.799138Z",
     "shell.execute_reply.started": "2021-05-12T00:04:47.769112Z"
    }
   },
   "outputs": [
    {
     "data": {
      "text/html": [
       "<div>\n",
       "<style scoped>\n",
       "    .dataframe tbody tr th:only-of-type {\n",
       "        vertical-align: middle;\n",
       "    }\n",
       "\n",
       "    .dataframe tbody tr th {\n",
       "        vertical-align: top;\n",
       "    }\n",
       "\n",
       "    .dataframe thead th {\n",
       "        text-align: right;\n",
       "    }\n",
       "</style>\n",
       "<table border=\"1\" class=\"dataframe\">\n",
       "  <thead>\n",
       "    <tr style=\"text-align: right;\">\n",
       "      <th></th>\n",
       "      <th>OverallQual</th>\n",
       "      <th>GrLivArea</th>\n",
       "      <th>Neighborhood</th>\n",
       "      <th>1stFlrSF</th>\n",
       "      <th>TotalBsmtSF</th>\n",
       "      <th>BsmtFinSF1</th>\n",
       "      <th>GarageCars</th>\n",
       "      <th>LotArea</th>\n",
       "      <th>GarageArea</th>\n",
       "      <th>2ndFlrSF</th>\n",
       "    </tr>\n",
       "    <tr>\n",
       "      <th>Id</th>\n",
       "      <th></th>\n",
       "      <th></th>\n",
       "      <th></th>\n",
       "      <th></th>\n",
       "      <th></th>\n",
       "      <th></th>\n",
       "      <th></th>\n",
       "      <th></th>\n",
       "      <th></th>\n",
       "      <th></th>\n",
       "    </tr>\n",
       "  </thead>\n",
       "  <tbody>\n",
       "    <tr>\n",
       "      <th>7</th>\n",
       "      <td>1.355551</td>\n",
       "      <td>0.381924</td>\n",
       "      <td>224868.818344</td>\n",
       "      <td>1.362287</td>\n",
       "      <td>1.439155</td>\n",
       "      <td>2.036246</td>\n",
       "      <td>0.306475</td>\n",
       "      <td>-0.010667</td>\n",
       "      <td>0.757462</td>\n",
       "      <td>-0.785025</td>\n",
       "    </tr>\n",
       "    <tr>\n",
       "      <th>808</th>\n",
       "      <td>-0.772552</td>\n",
       "      <td>0.148706</td>\n",
       "      <td>125784.681286</td>\n",
       "      <td>-0.223255</td>\n",
       "      <td>0.617718</td>\n",
       "      <td>1.904532</td>\n",
       "      <td>0.306475</td>\n",
       "      <td>1.422317</td>\n",
       "      <td>0.255971</td>\n",
       "      <td>0.390820</td>\n",
       "    </tr>\n",
       "    <tr>\n",
       "      <th>956</th>\n",
       "      <td>-0.063185</td>\n",
       "      <td>0.903700</td>\n",
       "      <td>210053.503767</td>\n",
       "      <td>-0.460321</td>\n",
       "      <td>-0.165144</td>\n",
       "      <td>0.093466</td>\n",
       "      <td>0.306475</td>\n",
       "      <td>-0.384511</td>\n",
       "      <td>0.088808</td>\n",
       "      <td>1.499007</td>\n",
       "    </tr>\n",
       "    <tr>\n",
       "      <th>1041</th>\n",
       "      <td>-0.772552</td>\n",
       "      <td>0.597355</td>\n",
       "      <td>137381.509279</td>\n",
       "      <td>1.640139</td>\n",
       "      <td>0.186576</td>\n",
       "      <td>-0.600227</td>\n",
       "      <td>0.306475</td>\n",
       "      <td>0.374971</td>\n",
       "      <td>0.051660</td>\n",
       "      <td>-0.785025</td>\n",
       "    </tr>\n",
       "    <tr>\n",
       "      <th>702</th>\n",
       "      <td>0.646183</td>\n",
       "      <td>-0.665580</td>\n",
       "      <td>188940.218863</td>\n",
       "      <td>0.011263</td>\n",
       "      <td>0.254651</td>\n",
       "      <td>-0.969026</td>\n",
       "      <td>0.306475</td>\n",
       "      <td>-0.072044</td>\n",
       "      <td>0.255971</td>\n",
       "      <td>-0.785025</td>\n",
       "    </tr>\n",
       "    <tr>\n",
       "      <th>...</th>\n",
       "      <td>...</td>\n",
       "      <td>...</td>\n",
       "      <td>...</td>\n",
       "      <td>...</td>\n",
       "      <td>...</td>\n",
       "      <td>...</td>\n",
       "      <td>...</td>\n",
       "      <td>...</td>\n",
       "      <td>...</td>\n",
       "      <td>...</td>\n",
       "    </tr>\n",
       "    <tr>\n",
       "      <th>716</th>\n",
       "      <td>-0.063185</td>\n",
       "      <td>-0.297965</td>\n",
       "      <td>188940.218863</td>\n",
       "      <td>0.485396</td>\n",
       "      <td>0.027735</td>\n",
       "      <td>-0.969026</td>\n",
       "      <td>0.306475</td>\n",
       "      <td>-0.003565</td>\n",
       "      <td>0.023800</td>\n",
       "      <td>-0.785025</td>\n",
       "    </tr>\n",
       "    <tr>\n",
       "      <th>906</th>\n",
       "      <td>-0.772552</td>\n",
       "      <td>-0.865199</td>\n",
       "      <td>146002.275203</td>\n",
       "      <td>-0.246197</td>\n",
       "      <td>0.009581</td>\n",
       "      <td>-0.191914</td>\n",
       "      <td>-1.006733</td>\n",
       "      <td>-0.031464</td>\n",
       "      <td>-0.895600</td>\n",
       "      <td>-0.785025</td>\n",
       "    </tr>\n",
       "    <tr>\n",
       "      <th>1097</th>\n",
       "      <td>-0.063185</td>\n",
       "      <td>-0.288083</td>\n",
       "      <td>102250.031471</td>\n",
       "      <td>-0.985437</td>\n",
       "      <td>-0.834548</td>\n",
       "      <td>-0.969026</td>\n",
       "      <td>-2.319941</td>\n",
       "      <td>-0.416721</td>\n",
       "      <td>-2.195761</td>\n",
       "      <td>0.572796</td>\n",
       "    </tr>\n",
       "    <tr>\n",
       "      <th>236</th>\n",
       "      <td>-0.063185</td>\n",
       "      <td>-1.015407</td>\n",
       "      <td>108989.482111</td>\n",
       "      <td>-1.724676</td>\n",
       "      <td>-1.290650</td>\n",
       "      <td>-0.183133</td>\n",
       "      <td>-1.006733</td>\n",
       "      <td>-1.076401</td>\n",
       "      <td>-0.969895</td>\n",
       "      <td>0.390820</td>\n",
       "    </tr>\n",
       "    <tr>\n",
       "      <th>1062</th>\n",
       "      <td>-2.191288</td>\n",
       "      <td>-1.199215</td>\n",
       "      <td>102250.031471</td>\n",
       "      <td>-0.676995</td>\n",
       "      <td>-0.358023</td>\n",
       "      <td>-0.969026</td>\n",
       "      <td>1.619684</td>\n",
       "      <td>0.993183</td>\n",
       "      <td>3.599243</td>\n",
       "      <td>-0.785025</td>\n",
       "    </tr>\n",
       "  </tbody>\n",
       "</table>\n",
       "<p>1095 rows × 10 columns</p>\n",
       "</div>"
      ],
      "text/plain": [
       "      OverallQual  GrLivArea   Neighborhood  1stFlrSF  TotalBsmtSF  \\\n",
       "Id                                                                   \n",
       "7        1.355551   0.381924  224868.818344  1.362287     1.439155   \n",
       "808     -0.772552   0.148706  125784.681286 -0.223255     0.617718   \n",
       "956     -0.063185   0.903700  210053.503767 -0.460321    -0.165144   \n",
       "1041    -0.772552   0.597355  137381.509279  1.640139     0.186576   \n",
       "702      0.646183  -0.665580  188940.218863  0.011263     0.254651   \n",
       "...           ...        ...            ...       ...          ...   \n",
       "716     -0.063185  -0.297965  188940.218863  0.485396     0.027735   \n",
       "906     -0.772552  -0.865199  146002.275203 -0.246197     0.009581   \n",
       "1097    -0.063185  -0.288083  102250.031471 -0.985437    -0.834548   \n",
       "236     -0.063185  -1.015407  108989.482111 -1.724676    -1.290650   \n",
       "1062    -2.191288  -1.199215  102250.031471 -0.676995    -0.358023   \n",
       "\n",
       "      BsmtFinSF1  GarageCars   LotArea  GarageArea  2ndFlrSF  \n",
       "Id                                                            \n",
       "7       2.036246    0.306475 -0.010667    0.757462 -0.785025  \n",
       "808     1.904532    0.306475  1.422317    0.255971  0.390820  \n",
       "956     0.093466    0.306475 -0.384511    0.088808  1.499007  \n",
       "1041   -0.600227    0.306475  0.374971    0.051660 -0.785025  \n",
       "702    -0.969026    0.306475 -0.072044    0.255971 -0.785025  \n",
       "...          ...         ...       ...         ...       ...  \n",
       "716    -0.969026    0.306475 -0.003565    0.023800 -0.785025  \n",
       "906    -0.191914   -1.006733 -0.031464   -0.895600 -0.785025  \n",
       "1097   -0.969026   -2.319941 -0.416721   -2.195761  0.572796  \n",
       "236    -0.183133   -1.006733 -1.076401   -0.969895  0.390820  \n",
       "1062   -0.969026    1.619684  0.993183    3.599243 -0.785025  \n",
       "\n",
       "[1095 rows x 10 columns]"
      ]
     },
     "execution_count": 9,
     "metadata": {},
     "output_type": "execute_result"
    }
   ],
   "source": [
    "X_train"
   ]
  },
  {
   "cell_type": "code",
   "execution_count": 10,
   "metadata": {
    "execution": {
     "iopub.execute_input": "2021-05-12T00:04:47.801142Z",
     "iopub.status.busy": "2021-05-12T00:04:47.801142Z",
     "iopub.status.idle": "2021-05-12T00:04:48.806575Z",
     "shell.execute_reply": "2021-05-12T00:04:48.806575Z",
     "shell.execute_reply.started": "2021-05-12T00:04:47.801142Z"
    }
   },
   "outputs": [],
   "source": [
    "import optuna\n",
    "from xgboost import XGBRegressor\n",
    "from sklearn.model_selection import cross_val_score, RepeatedKFold\n",
    "\n",
    "def objective(trial):\n",
    "    \n",
    "    param = {\n",
    "        'max_depth': trial.suggest_int('max_depth', 10,50),\n",
    "         'num_leaves': trial.suggest_int('num_leaves', 6, 50), \n",
    "         'learning_rate': trial.suggest_categorical('learning_rate', [0.1,0.01,0.001]),\n",
    "         'min_child_samples': trial.suggest_int('min_child_samples', 100, 500), \n",
    "         'min_child_weight': trial.suggest_categorical('min_child_weight', [1e-5, 1e-3, 1e-2, 1e-1, 1, 1e1, 1e2, 1e3, 1e4]),\n",
    "         'subsample': trial.suggest_loguniform('subsample', 0.2, 0.8), \n",
    "         'colsample_bytree': trial.suggest_loguniform('colsample_bytree', 0.4, 0.6),\n",
    "         'reg_alpha': trial.suggest_categorical('reg_alpha', [0, 1e-1, 1, 2, 5, 7, 10, 50, 100]),\n",
    "         'reg_lambda': trial.suggest_categorical('reg_lambda', [0, 1e-1, 1, 5, 10, 20, 50, 100])\n",
    "        }\n",
    "    model = XGBRegressor(**param)\n",
    "    model.fit(X_train, y_train)\n",
    "    preds = model.predict(X_val)\n",
    "    return (cross_val_score(model, X_train, y_train, scoring='neg_mean_squared_log_error', n_jobs=-1, cv=RepeatedKFold(10))*-1).mean()"
   ]
  },
  {
   "cell_type": "code",
   "execution_count": null,
   "metadata": {
    "execution": {
     "iopub.execute_input": "2021-05-12T00:04:48.807575Z",
     "iopub.status.busy": "2021-05-12T00:04:48.807575Z"
    },
    "scrolled": true
   },
   "outputs": [
    {
     "name": "stderr",
     "output_type": "stream",
     "text": [
      "\u001b[32m[I 2021-05-11 18:04:48,809]\u001b[0m A new study created in memory with name: no-name-0ca0b566-3596-4189-939c-6e0b02f82355\u001b[0m\n",
      "C:\\Users\\dtngh\\miniconda3\\envs\\gputest\\lib\\site-packages\\sklearn\\utils\\validation.py:72: FutureWarning: Pass n_splits=10 as keyword args. From version 1.0 (renaming of 0.25) passing these as positional arguments will result in an error\n",
      "  \"will result in an error\", FutureWarning)\n"
     ]
    },
    {
     "name": "stdout",
     "output_type": "stream",
     "text": [
      "[18:04:48] WARNING: C:\\Users\\Administrator\\workspace\\xgboost-win64_release_1.1.0\\src\\learner.cc:480: \n",
      "Parameters: { min_child_samples, num_leaves } might not be used.\n",
      "\n",
      "  This may not be accurate due to some parameters are only used in language bindings but\n",
      "  passed down to XGBoost core.  Or some parameters are not used but slip through this\n",
      "  verification. Please open an issue if you find above cases.\n",
      "\n",
      "\n"
     ]
    },
    {
     "name": "stderr",
     "output_type": "stream",
     "text": [
      "\u001b[32m[I 2021-05-11 18:04:52,265]\u001b[0m Trial 0 finished with value: 5.318131519220011 and parameters: {'max_depth': 34, 'num_leaves': 23, 'learning_rate': 0.001, 'min_child_samples': 164, 'min_child_weight': 10000.0, 'subsample': 0.6995146111113196, 'colsample_bytree': 0.4490746472358926, 'reg_alpha': 100, 'reg_lambda': 0}. Best is trial 0 with value: 5.318131519220011.\u001b[0m\n"
     ]
    },
    {
     "name": "stdout",
     "output_type": "stream",
     "text": [
      "[18:04:52] WARNING: C:\\Users\\Administrator\\workspace\\xgboost-win64_release_1.1.0\\src\\learner.cc:480: \n",
      "Parameters: { min_child_samples, num_leaves } might not be used.\n",
      "\n",
      "  This may not be accurate due to some parameters are only used in language bindings but\n",
      "  passed down to XGBoost core.  Or some parameters are not used but slip through this\n",
      "  verification. Please open an issue if you find above cases.\n",
      "\n",
      "\n"
     ]
    },
    {
     "name": "stderr",
     "output_type": "stream",
     "text": [
      "\u001b[32m[I 2021-05-11 18:04:55,404]\u001b[0m Trial 1 finished with value: 0.022165497093855898 and parameters: {'max_depth': 35, 'num_leaves': 41, 'learning_rate': 0.1, 'min_child_samples': 199, 'min_child_weight': 1e-05, 'subsample': 0.3614846491871883, 'colsample_bytree': 0.41842415067695576, 'reg_alpha': 5, 'reg_lambda': 20}. Best is trial 1 with value: 0.022165497093855898.\u001b[0m\n"
     ]
    },
    {
     "name": "stdout",
     "output_type": "stream",
     "text": [
      "[18:04:55] WARNING: C:\\Users\\Administrator\\workspace\\xgboost-win64_release_1.1.0\\src\\learner.cc:480: \n",
      "Parameters: { min_child_samples, num_leaves } might not be used.\n",
      "\n",
      "  This may not be accurate due to some parameters are only used in language bindings but\n",
      "  passed down to XGBoost core.  Or some parameters are not used but slip through this\n",
      "  verification. Please open an issue if you find above cases.\n",
      "\n",
      "\n"
     ]
    },
    {
     "name": "stderr",
     "output_type": "stream",
     "text": [
      "\u001b[32m[I 2021-05-11 18:04:56,341]\u001b[0m Trial 2 finished with value: 0.29867614770234535 and parameters: {'max_depth': 34, 'num_leaves': 23, 'learning_rate': 0.01, 'min_child_samples': 267, 'min_child_weight': 10000.0, 'subsample': 0.7923975040136311, 'colsample_bytree': 0.49184922320681335, 'reg_alpha': 50, 'reg_lambda': 1}. Best is trial 1 with value: 0.022165497093855898.\u001b[0m\n"
     ]
    },
    {
     "name": "stdout",
     "output_type": "stream",
     "text": [
      "[18:04:56] WARNING: C:\\Users\\Administrator\\workspace\\xgboost-win64_release_1.1.0\\src\\learner.cc:480: \n",
      "Parameters: { min_child_samples, num_leaves } might not be used.\n",
      "\n",
      "  This may not be accurate due to some parameters are only used in language bindings but\n",
      "  passed down to XGBoost core.  Or some parameters are not used but slip through this\n",
      "  verification. Please open an issue if you find above cases.\n",
      "\n",
      "\n"
     ]
    },
    {
     "name": "stderr",
     "output_type": "stream",
     "text": [
      "\u001b[32m[I 2021-05-11 18:04:58,081]\u001b[0m Trial 3 finished with value: 5.502848469698322 and parameters: {'max_depth': 29, 'num_leaves': 23, 'learning_rate': 0.001, 'min_child_samples': 436, 'min_child_weight': 1e-05, 'subsample': 0.7507964578777031, 'colsample_bytree': 0.43893008846951787, 'reg_alpha': 50, 'reg_lambda': 5}. Best is trial 1 with value: 0.022165497093855898.\u001b[0m\n"
     ]
    },
    {
     "name": "stdout",
     "output_type": "stream",
     "text": [
      "[18:04:58] WARNING: C:\\Users\\Administrator\\workspace\\xgboost-win64_release_1.1.0\\src\\learner.cc:480: \n",
      "Parameters: { min_child_samples, num_leaves } might not be used.\n",
      "\n",
      "  This may not be accurate due to some parameters are only used in language bindings but\n",
      "  passed down to XGBoost core.  Or some parameters are not used but slip through this\n",
      "  verification. Please open an issue if you find above cases.\n",
      "\n",
      "\n"
     ]
    },
    {
     "name": "stderr",
     "output_type": "stream",
     "text": [
      "\u001b[32m[I 2021-05-11 18:05:01,462]\u001b[0m Trial 4 finished with value: 0.022407291720666946 and parameters: {'max_depth': 11, 'num_leaves': 45, 'learning_rate': 0.1, 'min_child_samples': 459, 'min_child_weight': 10.0, 'subsample': 0.419404162949336, 'colsample_bytree': 0.5444133655379271, 'reg_alpha': 1, 'reg_lambda': 10}. Best is trial 1 with value: 0.022165497093855898.\u001b[0m\n"
     ]
    },
    {
     "name": "stdout",
     "output_type": "stream",
     "text": [
      "[18:05:01] WARNING: C:\\Users\\Administrator\\workspace\\xgboost-win64_release_1.1.0\\src\\learner.cc:480: \n",
      "Parameters: { min_child_samples, num_leaves } might not be used.\n",
      "\n",
      "  This may not be accurate due to some parameters are only used in language bindings but\n",
      "  passed down to XGBoost core.  Or some parameters are not used but slip through this\n",
      "  verification. Please open an issue if you find above cases.\n",
      "\n",
      "\n"
     ]
    },
    {
     "name": "stderr",
     "output_type": "stream",
     "text": [
      "\u001b[32m[I 2021-05-11 18:05:03,716]\u001b[0m Trial 5 finished with value: 5.487790350000589 and parameters: {'max_depth': 10, 'num_leaves': 45, 'learning_rate': 0.001, 'min_child_samples': 355, 'min_child_weight': 0.01, 'subsample': 0.5967244293881018, 'colsample_bytree': 0.47381922376046365, 'reg_alpha': 0.1, 'reg_lambda': 1}. Best is trial 1 with value: 0.022165497093855898.\u001b[0m\n"
     ]
    },
    {
     "name": "stdout",
     "output_type": "stream",
     "text": [
      "[18:05:03] WARNING: C:\\Users\\Administrator\\workspace\\xgboost-win64_release_1.1.0\\src\\learner.cc:480: \n",
      "Parameters: { min_child_samples, num_leaves } might not be used.\n",
      "\n",
      "  This may not be accurate due to some parameters are only used in language bindings but\n",
      "  passed down to XGBoost core.  Or some parameters are not used but slip through this\n",
      "  verification. Please open an issue if you find above cases.\n",
      "\n",
      "\n"
     ]
    },
    {
     "name": "stderr",
     "output_type": "stream",
     "text": [
      "\u001b[32m[I 2021-05-11 18:05:04,834]\u001b[0m Trial 6 finished with value: 0.4224223494478532 and parameters: {'max_depth': 34, 'num_leaves': 14, 'learning_rate': 0.01, 'min_child_samples': 168, 'min_child_weight': 10.0, 'subsample': 0.36478141527201857, 'colsample_bytree': 0.4473727718735772, 'reg_alpha': 5, 'reg_lambda': 100}. Best is trial 1 with value: 0.022165497093855898.\u001b[0m\n"
     ]
    },
    {
     "name": "stdout",
     "output_type": "stream",
     "text": [
      "[18:05:04] WARNING: C:\\Users\\Administrator\\workspace\\xgboost-win64_release_1.1.0\\src\\learner.cc:480: \n",
      "Parameters: { min_child_samples, num_leaves } might not be used.\n",
      "\n",
      "  This may not be accurate due to some parameters are only used in language bindings but\n",
      "  passed down to XGBoost core.  Or some parameters are not used but slip through this\n",
      "  verification. Please open an issue if you find above cases.\n",
      "\n",
      "\n"
     ]
    },
    {
     "name": "stderr",
     "output_type": "stream",
     "text": [
      "\u001b[32m[I 2021-05-11 18:05:05,783]\u001b[0m Trial 7 finished with value: 0.16290620751627333 and parameters: {'max_depth': 46, 'num_leaves': 42, 'learning_rate': 0.1, 'min_child_samples': 349, 'min_child_weight': 1000.0, 'subsample': 0.6472581059434858, 'colsample_bytree': 0.567951469890629, 'reg_alpha': 0, 'reg_lambda': 0}. Best is trial 1 with value: 0.022165497093855898.\u001b[0m\n"
     ]
    },
    {
     "name": "stdout",
     "output_type": "stream",
     "text": [
      "[18:05:05] WARNING: C:\\Users\\Administrator\\workspace\\xgboost-win64_release_1.1.0\\src\\learner.cc:480: \n",
      "Parameters: { min_child_samples, num_leaves } might not be used.\n",
      "\n",
      "  This may not be accurate due to some parameters are only used in language bindings but\n",
      "  passed down to XGBoost core.  Or some parameters are not used but slip through this\n",
      "  verification. Please open an issue if you find above cases.\n",
      "\n",
      "\n"
     ]
    },
    {
     "name": "stderr",
     "output_type": "stream",
     "text": [
      "\u001b[32m[I 2021-05-11 18:05:07,587]\u001b[0m Trial 8 finished with value: 0.24417701501280198 and parameters: {'max_depth': 33, 'num_leaves': 18, 'learning_rate': 0.01, 'min_child_samples': 323, 'min_child_weight': 1, 'subsample': 0.49710655996029135, 'colsample_bytree': 0.42957674788597966, 'reg_alpha': 10, 'reg_lambda': 10}. Best is trial 1 with value: 0.022165497093855898.\u001b[0m\n"
     ]
    },
    {
     "name": "stdout",
     "output_type": "stream",
     "text": [
      "[18:05:07] WARNING: C:\\Users\\Administrator\\workspace\\xgboost-win64_release_1.1.0\\src\\learner.cc:480: \n",
      "Parameters: { min_child_samples, num_leaves } might not be used.\n",
      "\n",
      "  This may not be accurate due to some parameters are only used in language bindings but\n",
      "  passed down to XGBoost core.  Or some parameters are not used but slip through this\n",
      "  verification. Please open an issue if you find above cases.\n",
      "\n",
      "\n"
     ]
    },
    {
     "name": "stderr",
     "output_type": "stream",
     "text": [
      "\u001b[32m[I 2021-05-11 18:05:08,557]\u001b[0m Trial 9 finished with value: 5.318605646512262 and parameters: {'max_depth': 19, 'num_leaves': 48, 'learning_rate': 0.001, 'min_child_samples': 275, 'min_child_weight': 10000.0, 'subsample': 0.3068474130167426, 'colsample_bytree': 0.41779125149953655, 'reg_alpha': 0.1, 'reg_lambda': 0.1}. Best is trial 1 with value: 0.022165497093855898.\u001b[0m\n"
     ]
    },
    {
     "name": "stdout",
     "output_type": "stream",
     "text": [
      "[18:05:08] WARNING: C:\\Users\\Administrator\\workspace\\xgboost-win64_release_1.1.0\\src\\learner.cc:480: \n",
      "Parameters: { min_child_samples, num_leaves } might not be used.\n",
      "\n",
      "  This may not be accurate due to some parameters are only used in language bindings but\n",
      "  passed down to XGBoost core.  Or some parameters are not used but slip through this\n",
      "  verification. Please open an issue if you find above cases.\n",
      "\n",
      "\n"
     ]
    },
    {
     "name": "stderr",
     "output_type": "stream",
     "text": [
      "\u001b[32m[I 2021-05-11 18:05:09,705]\u001b[0m Trial 10 finished with value: 0.0520758214455802 and parameters: {'max_depth': 49, 'num_leaves': 34, 'learning_rate': 0.1, 'min_child_samples': 130, 'min_child_weight': 100.0, 'subsample': 0.2002338272260248, 'colsample_bytree': 0.40058024427154204, 'reg_alpha': 7, 'reg_lambda': 20}. Best is trial 1 with value: 0.022165497093855898.\u001b[0m\n"
     ]
    },
    {
     "name": "stdout",
     "output_type": "stream",
     "text": [
      "[18:05:09] WARNING: C:\\Users\\Administrator\\workspace\\xgboost-win64_release_1.1.0\\src\\learner.cc:480: \n",
      "Parameters: { min_child_samples, num_leaves } might not be used.\n",
      "\n",
      "  This may not be accurate due to some parameters are only used in language bindings but\n",
      "  passed down to XGBoost core.  Or some parameters are not used but slip through this\n",
      "  verification. Please open an issue if you find above cases.\n",
      "\n",
      "\n"
     ]
    },
    {
     "name": "stderr",
     "output_type": "stream",
     "text": [
      "\u001b[32m[I 2021-05-11 18:05:12,227]\u001b[0m Trial 11 finished with value: 0.024052804184883397 and parameters: {'max_depth': 24, 'num_leaves': 36, 'learning_rate': 0.1, 'min_child_samples': 491, 'min_child_weight': 0.001, 'subsample': 0.2792178233746047, 'colsample_bytree': 0.5562987535139007, 'reg_alpha': 1, 'reg_lambda': 50}. Best is trial 1 with value: 0.022165497093855898.\u001b[0m\n"
     ]
    },
    {
     "name": "stdout",
     "output_type": "stream",
     "text": [
      "[18:05:12] WARNING: C:\\Users\\Administrator\\workspace\\xgboost-win64_release_1.1.0\\src\\learner.cc:480: \n",
      "Parameters: { min_child_samples, num_leaves } might not be used.\n",
      "\n",
      "  This may not be accurate due to some parameters are only used in language bindings but\n",
      "  passed down to XGBoost core.  Or some parameters are not used but slip through this\n",
      "  verification. Please open an issue if you find above cases.\n",
      "\n",
      "\n"
     ]
    },
    {
     "name": "stderr",
     "output_type": "stream",
     "text": [
      "\u001b[32m[I 2021-05-11 18:05:15,318]\u001b[0m Trial 12 finished with value: 0.022498852372769117 and parameters: {'max_depth': 42, 'num_leaves': 38, 'learning_rate': 0.1, 'min_child_samples': 210, 'min_child_weight': 10.0, 'subsample': 0.44444850469244906, 'colsample_bytree': 0.5359792159987308, 'reg_alpha': 5, 'reg_lambda': 10}. Best is trial 1 with value: 0.022165497093855898.\u001b[0m\n"
     ]
    },
    {
     "name": "stdout",
     "output_type": "stream",
     "text": [
      "[18:05:15] WARNING: C:\\Users\\Administrator\\workspace\\xgboost-win64_release_1.1.0\\src\\learner.cc:480: \n",
      "Parameters: { min_child_samples, num_leaves } might not be used.\n",
      "\n",
      "  This may not be accurate due to some parameters are only used in language bindings but\n",
      "  passed down to XGBoost core.  Or some parameters are not used but slip through this\n",
      "  verification. Please open an issue if you find above cases.\n",
      "\n",
      "\n"
     ]
    },
    {
     "name": "stderr",
     "output_type": "stream",
     "text": [
      "\u001b[32m[I 2021-05-11 18:05:18,429]\u001b[0m Trial 13 finished with value: 0.02247367867676391 and parameters: {'max_depth': 10, 'num_leaves': 32, 'learning_rate': 0.1, 'min_child_samples': 410, 'min_child_weight': 0.1, 'subsample': 0.3569052429192782, 'colsample_bytree': 0.5983574359961412, 'reg_alpha': 1, 'reg_lambda': 20}. Best is trial 1 with value: 0.022165497093855898.\u001b[0m\n"
     ]
    },
    {
     "name": "stdout",
     "output_type": "stream",
     "text": [
      "[18:05:18] WARNING: C:\\Users\\Administrator\\workspace\\xgboost-win64_release_1.1.0\\src\\learner.cc:480: \n",
      "Parameters: { min_child_samples, num_leaves } might not be used.\n",
      "\n",
      "  This may not be accurate due to some parameters are only used in language bindings but\n",
      "  passed down to XGBoost core.  Or some parameters are not used but slip through this\n",
      "  verification. Please open an issue if you find above cases.\n",
      "\n",
      "\n"
     ]
    },
    {
     "name": "stderr",
     "output_type": "stream",
     "text": [
      "\u001b[32m[I 2021-05-11 18:05:21,517]\u001b[0m Trial 14 finished with value: 0.022836894071462083 and parameters: {'max_depth': 41, 'num_leaves': 50, 'learning_rate': 0.1, 'min_child_samples': 232, 'min_child_weight': 1e-05, 'subsample': 0.2520547086625273, 'colsample_bytree': 0.5146897266954705, 'reg_alpha': 2, 'reg_lambda': 20}. Best is trial 1 with value: 0.022165497093855898.\u001b[0m\n"
     ]
    },
    {
     "name": "stdout",
     "output_type": "stream",
     "text": [
      "[18:05:21] WARNING: C:\\Users\\Administrator\\workspace\\xgboost-win64_release_1.1.0\\src\\learner.cc:480: \n",
      "Parameters: { min_child_samples, num_leaves } might not be used.\n",
      "\n",
      "  This may not be accurate due to some parameters are only used in language bindings but\n",
      "  passed down to XGBoost core.  Or some parameters are not used but slip through this\n",
      "  verification. Please open an issue if you find above cases.\n",
      "\n",
      "\n"
     ]
    },
    {
     "name": "stderr",
     "output_type": "stream",
     "text": [
      "\u001b[32m[I 2021-05-11 18:05:25,329]\u001b[0m Trial 15 finished with value: 0.022201239453663035 and parameters: {'max_depth': 17, 'num_leaves': 43, 'learning_rate': 0.1, 'min_child_samples': 111, 'min_child_weight': 10.0, 'subsample': 0.5220155615691832, 'colsample_bytree': 0.5982471603676054, 'reg_alpha': 1, 'reg_lambda': 10}. Best is trial 1 with value: 0.022165497093855898.\u001b[0m\n"
     ]
    },
    {
     "name": "stdout",
     "output_type": "stream",
     "text": [
      "[18:05:25] WARNING: C:\\Users\\Administrator\\workspace\\xgboost-win64_release_1.1.0\\src\\learner.cc:480: \n",
      "Parameters: { min_child_samples, num_leaves } might not be used.\n",
      "\n",
      "  This may not be accurate due to some parameters are only used in language bindings but\n",
      "  passed down to XGBoost core.  Or some parameters are not used but slip through this\n",
      "  verification. Please open an issue if you find above cases.\n",
      "\n",
      "\n"
     ]
    },
    {
     "name": "stderr",
     "output_type": "stream",
     "text": [
      "\u001b[32m[I 2021-05-11 18:05:29,447]\u001b[0m Trial 16 finished with value: 0.02292293113057827 and parameters: {'max_depth': 16, 'num_leaves': 40, 'learning_rate': 0.1, 'min_child_samples': 123, 'min_child_weight': 1e-05, 'subsample': 0.5271877429897525, 'colsample_bytree': 0.5885569300069704, 'reg_alpha': 5, 'reg_lambda': 50}. Best is trial 1 with value: 0.022165497093855898.\u001b[0m\n"
     ]
    },
    {
     "name": "stdout",
     "output_type": "stream",
     "text": [
      "[18:05:29] WARNING: C:\\Users\\Administrator\\workspace\\xgboost-win64_release_1.1.0\\src\\learner.cc:480: \n",
      "Parameters: { min_child_samples, num_leaves } might not be used.\n",
      "\n",
      "  This may not be accurate due to some parameters are only used in language bindings but\n",
      "  passed down to XGBoost core.  Or some parameters are not used but slip through this\n",
      "  verification. Please open an issue if you find above cases.\n",
      "\n",
      "\n"
     ]
    },
    {
     "name": "stderr",
     "output_type": "stream",
     "text": [
      "\u001b[32m[I 2021-05-11 18:05:30,440]\u001b[0m Trial 17 finished with value: 0.16297719499883848 and parameters: {'max_depth': 26, 'num_leaves': 30, 'learning_rate': 0.1, 'min_child_samples': 195, 'min_child_weight': 1000.0, 'subsample': 0.554414686692865, 'colsample_bytree': 0.40009480083621535, 'reg_alpha': 1, 'reg_lambda': 0.1}. Best is trial 1 with value: 0.022165497093855898.\u001b[0m\n"
     ]
    },
    {
     "name": "stdout",
     "output_type": "stream",
     "text": [
      "[18:05:30] WARNING: C:\\Users\\Administrator\\workspace\\xgboost-win64_release_1.1.0\\src\\learner.cc:480: \n",
      "Parameters: { min_child_samples, num_leaves } might not be used.\n",
      "\n",
      "  This may not be accurate due to some parameters are only used in language bindings but\n",
      "  passed down to XGBoost core.  Or some parameters are not used but slip through this\n",
      "  verification. Please open an issue if you find above cases.\n",
      "\n",
      "\n"
     ]
    },
    {
     "name": "stderr",
     "output_type": "stream",
     "text": [
      "\u001b[32m[I 2021-05-11 18:05:34,442]\u001b[0m Trial 18 finished with value: 0.02224095871094997 and parameters: {'max_depth': 19, 'num_leaves': 50, 'learning_rate': 0.1, 'min_child_samples': 112, 'min_child_weight': 1e-05, 'subsample': 0.33452391491685757, 'colsample_bytree': 0.47941687004903283, 'reg_alpha': 5, 'reg_lambda': 5}. Best is trial 1 with value: 0.022165497093855898.\u001b[0m\n"
     ]
    },
    {
     "name": "stdout",
     "output_type": "stream",
     "text": [
      "[18:05:34] WARNING: C:\\Users\\Administrator\\workspace\\xgboost-win64_release_1.1.0\\src\\learner.cc:480: \n",
      "Parameters: { min_child_samples, num_leaves } might not be used.\n",
      "\n",
      "  This may not be accurate due to some parameters are only used in language bindings but\n",
      "  passed down to XGBoost core.  Or some parameters are not used but slip through this\n",
      "  verification. Please open an issue if you find above cases.\n",
      "\n",
      "\n"
     ]
    },
    {
     "name": "stderr",
     "output_type": "stream",
     "text": [
      "\u001b[32m[I 2021-05-11 18:05:36,878]\u001b[0m Trial 19 finished with value: 0.02406557286105199 and parameters: {'max_depth': 40, 'num_leaves': 8, 'learning_rate': 0.1, 'min_child_samples': 104, 'min_child_weight': 10.0, 'subsample': 0.47103342894885786, 'colsample_bytree': 0.5089708581130137, 'reg_alpha': 0, 'reg_lambda': 100}. Best is trial 1 with value: 0.022165497093855898.\u001b[0m\n"
     ]
    },
    {
     "name": "stdout",
     "output_type": "stream",
     "text": [
      "[18:05:36] WARNING: C:\\Users\\Administrator\\workspace\\xgboost-win64_release_1.1.0\\src\\learner.cc:480: \n",
      "Parameters: { min_child_samples, num_leaves } might not be used.\n",
      "\n",
      "  This may not be accurate due to some parameters are only used in language bindings but\n",
      "  passed down to XGBoost core.  Or some parameters are not used but slip through this\n",
      "  verification. Please open an issue if you find above cases.\n",
      "\n",
      "\n"
     ]
    },
    {
     "name": "stderr",
     "output_type": "stream",
     "text": [
      "\u001b[32m[I 2021-05-11 18:05:37,955]\u001b[0m Trial 20 finished with value: 0.2630233406698778 and parameters: {'max_depth': 23, 'num_leaves': 42, 'learning_rate': 0.01, 'min_child_samples': 164, 'min_child_weight': 100.0, 'subsample': 0.23576747202060466, 'colsample_bytree': 0.46636455861821313, 'reg_alpha': 2, 'reg_lambda': 10}. Best is trial 1 with value: 0.022165497093855898.\u001b[0m\n"
     ]
    },
    {
     "name": "stdout",
     "output_type": "stream",
     "text": [
      "[18:05:37] WARNING: C:\\Users\\Administrator\\workspace\\xgboost-win64_release_1.1.0\\src\\learner.cc:480: \n",
      "Parameters: { min_child_samples, num_leaves } might not be used.\n",
      "\n",
      "  This may not be accurate due to some parameters are only used in language bindings but\n",
      "  passed down to XGBoost core.  Or some parameters are not used but slip through this\n",
      "  verification. Please open an issue if you find above cases.\n",
      "\n",
      "\n"
     ]
    },
    {
     "name": "stderr",
     "output_type": "stream",
     "text": [
      "\u001b[32m[I 2021-05-11 18:05:41,132]\u001b[0m Trial 21 finished with value: 0.022285476471739004 and parameters: {'max_depth': 16, 'num_leaves': 50, 'learning_rate': 0.1, 'min_child_samples': 105, 'min_child_weight': 1e-05, 'subsample': 0.32813439676869544, 'colsample_bytree': 0.4727280700921472, 'reg_alpha': 5, 'reg_lambda': 20}. Best is trial 1 with value: 0.022165497093855898.\u001b[0m\n"
     ]
    },
    {
     "name": "stdout",
     "output_type": "stream",
     "text": [
      "[18:05:41] WARNING: C:\\Users\\Administrator\\workspace\\xgboost-win64_release_1.1.0\\src\\learner.cc:480: \n",
      "Parameters: { min_child_samples, num_leaves } might not be used.\n",
      "\n",
      "  This may not be accurate due to some parameters are only used in language bindings but\n",
      "  passed down to XGBoost core.  Or some parameters are not used but slip through this\n",
      "  verification. Please open an issue if you find above cases.\n",
      "\n",
      "\n"
     ]
    },
    {
     "name": "stderr",
     "output_type": "stream",
     "text": [
      "\u001b[32m[I 2021-05-11 18:05:45,595]\u001b[0m Trial 22 finished with value: 0.022625734150656333 and parameters: {'max_depth': 19, 'num_leaves': 47, 'learning_rate': 0.1, 'min_child_samples': 134, 'min_child_weight': 1e-05, 'subsample': 0.3752600000846846, 'colsample_bytree': 0.41072349462901686, 'reg_alpha': 5, 'reg_lambda': 5}. Best is trial 1 with value: 0.022165497093855898.\u001b[0m\n"
     ]
    },
    {
     "name": "stdout",
     "output_type": "stream",
     "text": [
      "[18:05:45] WARNING: C:\\Users\\Administrator\\workspace\\xgboost-win64_release_1.1.0\\src\\learner.cc:480: \n",
      "Parameters: { min_child_samples, num_leaves } might not be used.\n",
      "\n",
      "  This may not be accurate due to some parameters are only used in language bindings but\n",
      "  passed down to XGBoost core.  Or some parameters are not used but slip through this\n",
      "  verification. Please open an issue if you find above cases.\n",
      "\n",
      "\n"
     ]
    },
    {
     "name": "stderr",
     "output_type": "stream",
     "text": [
      "\u001b[32m[I 2021-05-11 18:05:49,418]\u001b[0m Trial 23 finished with value: 0.02270795568889047 and parameters: {'max_depth': 14, 'num_leaves': 44, 'learning_rate': 0.1, 'min_child_samples': 239, 'min_child_weight': 0.1, 'subsample': 0.4069839246920851, 'colsample_bytree': 0.49648975062195255, 'reg_alpha': 10, 'reg_lambda': 5}. Best is trial 1 with value: 0.022165497093855898.\u001b[0m\n"
     ]
    },
    {
     "name": "stdout",
     "output_type": "stream",
     "text": [
      "[18:05:49] WARNING: C:\\Users\\Administrator\\workspace\\xgboost-win64_release_1.1.0\\src\\learner.cc:480: \n",
      "Parameters: { min_child_samples, num_leaves } might not be used.\n",
      "\n",
      "  This may not be accurate due to some parameters are only used in language bindings but\n",
      "  passed down to XGBoost core.  Or some parameters are not used but slip through this\n",
      "  verification. Please open an issue if you find above cases.\n",
      "\n",
      "\n"
     ]
    },
    {
     "name": "stderr",
     "output_type": "stream",
     "text": [
      "\u001b[32m[I 2021-05-11 18:05:53,053]\u001b[0m Trial 24 finished with value: 0.022526504385546802 and parameters: {'max_depth': 21, 'num_leaves': 50, 'learning_rate': 0.1, 'min_child_samples': 195, 'min_child_weight': 0.01, 'subsample': 0.2971517628606486, 'colsample_bytree': 0.45890417292489905, 'reg_alpha': 5, 'reg_lambda': 5}. Best is trial 1 with value: 0.022165497093855898.\u001b[0m\n"
     ]
    },
    {
     "name": "stdout",
     "output_type": "stream",
     "text": [
      "[18:05:53] WARNING: C:\\Users\\Administrator\\workspace\\xgboost-win64_release_1.1.0\\src\\learner.cc:480: \n",
      "Parameters: { min_child_samples, num_leaves } might not be used.\n",
      "\n",
      "  This may not be accurate due to some parameters are only used in language bindings but\n",
      "  passed down to XGBoost core.  Or some parameters are not used but slip through this\n",
      "  verification. Please open an issue if you find above cases.\n",
      "\n",
      "\n"
     ]
    },
    {
     "name": "stderr",
     "output_type": "stream",
     "text": [
      "\u001b[32m[I 2021-05-11 18:05:57,452]\u001b[0m Trial 25 finished with value: 0.022620845045359186 and parameters: {'max_depth': 28, 'num_leaves': 38, 'learning_rate': 0.1, 'min_child_samples': 104, 'min_child_weight': 1e-05, 'subsample': 0.33835562435525596, 'colsample_bytree': 0.5214446518344202, 'reg_alpha': 7, 'reg_lambda': 5}. Best is trial 1 with value: 0.022165497093855898.\u001b[0m\n"
     ]
    },
    {
     "name": "stdout",
     "output_type": "stream",
     "text": [
      "[18:05:57] WARNING: C:\\Users\\Administrator\\workspace\\xgboost-win64_release_1.1.0\\src\\learner.cc:480: \n",
      "Parameters: { min_child_samples, num_leaves } might not be used.\n",
      "\n",
      "  This may not be accurate due to some parameters are only used in language bindings but\n",
      "  passed down to XGBoost core.  Or some parameters are not used but slip through this\n",
      "  verification. Please open an issue if you find above cases.\n",
      "\n",
      "\n"
     ]
    },
    {
     "name": "stderr",
     "output_type": "stream",
     "text": [
      "\u001b[32m[I 2021-05-11 18:06:01,328]\u001b[0m Trial 26 finished with value: 0.02213015572062368 and parameters: {'max_depth': 15, 'num_leaves': 27, 'learning_rate': 0.1, 'min_child_samples': 150, 'min_child_weight': 1, 'subsample': 0.4484865832493425, 'colsample_bytree': 0.42158411482658015, 'reg_alpha': 100, 'reg_lambda': 20}. Best is trial 26 with value: 0.02213015572062368.\u001b[0m\n"
     ]
    },
    {
     "name": "stdout",
     "output_type": "stream",
     "text": [
      "[18:06:01] WARNING: C:\\Users\\Administrator\\workspace\\xgboost-win64_release_1.1.0\\src\\learner.cc:480: \n",
      "Parameters: { min_child_samples, num_leaves } might not be used.\n",
      "\n",
      "  This may not be accurate due to some parameters are only used in language bindings but\n",
      "  passed down to XGBoost core.  Or some parameters are not used but slip through this\n",
      "  verification. Please open an issue if you find above cases.\n",
      "\n",
      "\n"
     ]
    },
    {
     "name": "stderr",
     "output_type": "stream",
     "text": [
      "\u001b[32m[I 2021-05-11 18:06:05,104]\u001b[0m Trial 27 finished with value: 0.022262691452978163 and parameters: {'max_depth': 13, 'num_leaves': 27, 'learning_rate': 0.1, 'min_child_samples': 153, 'min_child_weight': 1, 'subsample': 0.47211546168539203, 'colsample_bytree': 0.4246448385181999, 'reg_alpha': 100, 'reg_lambda': 20}. Best is trial 26 with value: 0.02213015572062368.\u001b[0m\n"
     ]
    },
    {
     "name": "stdout",
     "output_type": "stream",
     "text": [
      "[18:06:05] WARNING: C:\\Users\\Administrator\\workspace\\xgboost-win64_release_1.1.0\\src\\learner.cc:480: \n",
      "Parameters: { min_child_samples, num_leaves } might not be used.\n",
      "\n",
      "  This may not be accurate due to some parameters are only used in language bindings but\n",
      "  passed down to XGBoost core.  Or some parameters are not used but slip through this\n",
      "  verification. Please open an issue if you find above cases.\n",
      "\n",
      "\n"
     ]
    },
    {
     "name": "stderr",
     "output_type": "stream",
     "text": [
      "\u001b[32m[I 2021-05-11 18:06:09,270]\u001b[0m Trial 28 finished with value: 0.022154018833576924 and parameters: {'max_depth': 37, 'num_leaves': 27, 'learning_rate': 0.1, 'min_child_samples': 230, 'min_child_weight': 1, 'subsample': 0.572621034862271, 'colsample_bytree': 0.4110495387197695, 'reg_alpha': 100, 'reg_lambda': 20}. Best is trial 26 with value: 0.02213015572062368.\u001b[0m\n"
     ]
    },
    {
     "name": "stdout",
     "output_type": "stream",
     "text": [
      "[18:06:09] WARNING: C:\\Users\\Administrator\\workspace\\xgboost-win64_release_1.1.0\\src\\learner.cc:480: \n",
      "Parameters: { min_child_samples, num_leaves } might not be used.\n",
      "\n",
      "  This may not be accurate due to some parameters are only used in language bindings but\n",
      "  passed down to XGBoost core.  Or some parameters are not used but slip through this\n",
      "  verification. Please open an issue if you find above cases.\n",
      "\n",
      "\n"
     ]
    },
    {
     "name": "stderr",
     "output_type": "stream",
     "text": [
      "\u001b[32m[I 2021-05-11 18:06:10,790]\u001b[0m Trial 29 finished with value: 5.595688546172611 and parameters: {'max_depth': 38, 'num_leaves': 27, 'learning_rate': 0.001, 'min_child_samples': 257, 'min_child_weight': 1, 'subsample': 0.666584189849394, 'colsample_bytree': 0.4100302472074998, 'reg_alpha': 100, 'reg_lambda': 20}. Best is trial 26 with value: 0.02213015572062368.\u001b[0m\n"
     ]
    },
    {
     "name": "stdout",
     "output_type": "stream",
     "text": [
      "[18:06:10] WARNING: C:\\Users\\Administrator\\workspace\\xgboost-win64_release_1.1.0\\src\\learner.cc:480: \n",
      "Parameters: { min_child_samples, num_leaves } might not be used.\n",
      "\n",
      "  This may not be accurate due to some parameters are only used in language bindings but\n",
      "  passed down to XGBoost core.  Or some parameters are not used but slip through this\n",
      "  verification. Please open an issue if you find above cases.\n",
      "\n",
      "\n"
     ]
    },
    {
     "name": "stderr",
     "output_type": "stream",
     "text": [
      "\u001b[32m[I 2021-05-11 18:06:15,544]\u001b[0m Trial 30 finished with value: 0.021966004399320435 and parameters: {'max_depth': 37, 'num_leaves': 19, 'learning_rate': 0.1, 'min_child_samples': 293, 'min_child_weight': 1, 'subsample': 0.5729449153855618, 'colsample_bytree': 0.43686731366021203, 'reg_alpha': 100, 'reg_lambda': 20}. Best is trial 30 with value: 0.021966004399320435.\u001b[0m\n"
     ]
    },
    {
     "name": "stdout",
     "output_type": "stream",
     "text": [
      "[18:06:15] WARNING: C:\\Users\\Administrator\\workspace\\xgboost-win64_release_1.1.0\\src\\learner.cc:480: \n",
      "Parameters: { min_child_samples, num_leaves } might not be used.\n",
      "\n",
      "  This may not be accurate due to some parameters are only used in language bindings but\n",
      "  passed down to XGBoost core.  Or some parameters are not used but slip through this\n",
      "  verification. Please open an issue if you find above cases.\n",
      "\n",
      "\n"
     ]
    },
    {
     "name": "stderr",
     "output_type": "stream",
     "text": [
      "\u001b[32m[I 2021-05-11 18:06:20,356]\u001b[0m Trial 31 finished with value: 0.02251332630222891 and parameters: {'max_depth': 37, 'num_leaves': 17, 'learning_rate': 0.1, 'min_child_samples': 301, 'min_child_weight': 1, 'subsample': 0.5871731155317144, 'colsample_bytree': 0.4378965442521559, 'reg_alpha': 100, 'reg_lambda': 20}. Best is trial 30 with value: 0.021966004399320435.\u001b[0m\n"
     ]
    },
    {
     "name": "stdout",
     "output_type": "stream",
     "text": [
      "[18:06:20] WARNING: C:\\Users\\Administrator\\workspace\\xgboost-win64_release_1.1.0\\src\\learner.cc:480: \n",
      "Parameters: { min_child_samples, num_leaves } might not be used.\n",
      "\n",
      "  This may not be accurate due to some parameters are only used in language bindings but\n",
      "  passed down to XGBoost core.  Or some parameters are not used but slip through this\n",
      "  verification. Please open an issue if you find above cases.\n",
      "\n",
      "\n"
     ]
    },
    {
     "name": "stderr",
     "output_type": "stream",
     "text": [
      "\u001b[32m[I 2021-05-11 18:06:25,292]\u001b[0m Trial 32 finished with value: 0.022383407270302403 and parameters: {'max_depth': 31, 'num_leaves': 20, 'learning_rate': 0.1, 'min_child_samples': 229, 'min_child_weight': 1, 'subsample': 0.7262695087213071, 'colsample_bytree': 0.40989404585581307, 'reg_alpha': 100, 'reg_lambda': 20}. Best is trial 30 with value: 0.021966004399320435.\u001b[0m\n"
     ]
    },
    {
     "name": "stdout",
     "output_type": "stream",
     "text": [
      "[18:06:25] WARNING: C:\\Users\\Administrator\\workspace\\xgboost-win64_release_1.1.0\\src\\learner.cc:480: \n",
      "Parameters: { min_child_samples, num_leaves } might not be used.\n",
      "\n",
      "  This may not be accurate due to some parameters are only used in language bindings but\n",
      "  passed down to XGBoost core.  Or some parameters are not used but slip through this\n",
      "  verification. Please open an issue if you find above cases.\n",
      "\n",
      "\n"
     ]
    },
    {
     "name": "stderr",
     "output_type": "stream",
     "text": [
      "\u001b[32m[I 2021-05-11 18:06:30,532]\u001b[0m Trial 33 finished with value: 0.022471070851029458 and parameters: {'max_depth': 37, 'num_leaves': 25, 'learning_rate': 0.1, 'min_child_samples': 284, 'min_child_weight': 1, 'subsample': 0.6153779318626071, 'colsample_bytree': 0.4306009565071109, 'reg_alpha': 100, 'reg_lambda': 20}. Best is trial 30 with value: 0.021966004399320435.\u001b[0m\n"
     ]
    },
    {
     "name": "stdout",
     "output_type": "stream",
     "text": [
      "[18:06:30] WARNING: C:\\Users\\Administrator\\workspace\\xgboost-win64_release_1.1.0\\src\\learner.cc:480: \n",
      "Parameters: { min_child_samples, num_leaves } might not be used.\n",
      "\n",
      "  This may not be accurate due to some parameters are only used in language bindings but\n",
      "  passed down to XGBoost core.  Or some parameters are not used but slip through this\n",
      "  verification. Please open an issue if you find above cases.\n",
      "\n",
      "\n"
     ]
    },
    {
     "name": "stderr",
     "output_type": "stream",
     "text": [
      "\u001b[32m[I 2021-05-11 18:06:32,296]\u001b[0m Trial 34 finished with value: 0.2493751688722119 and parameters: {'max_depth': 32, 'num_leaves': 11, 'learning_rate': 0.01, 'min_child_samples': 200, 'min_child_weight': 1, 'subsample': 0.7948011334582978, 'colsample_bytree': 0.45067482970855527, 'reg_alpha': 100, 'reg_lambda': 20}. Best is trial 30 with value: 0.021966004399320435.\u001b[0m\n"
     ]
    },
    {
     "name": "stdout",
     "output_type": "stream",
     "text": [
      "[18:06:32] WARNING: C:\\Users\\Administrator\\workspace\\xgboost-win64_release_1.1.0\\src\\learner.cc:480: \n",
      "Parameters: { min_child_samples, num_leaves } might not be used.\n",
      "\n",
      "  This may not be accurate due to some parameters are only used in language bindings but\n",
      "  passed down to XGBoost core.  Or some parameters are not used but slip through this\n",
      "  verification. Please open an issue if you find above cases.\n",
      "\n",
      "\n"
     ]
    },
    {
     "name": "stderr",
     "output_type": "stream",
     "text": [
      "\u001b[32m[I 2021-05-11 18:06:38,349]\u001b[0m Trial 35 finished with value: 5.439059570670655 and parameters: {'max_depth': 45, 'num_leaves': 22, 'learning_rate': 0.001, 'min_child_samples': 308, 'min_child_weight': 0.001, 'subsample': 0.42878529749101557, 'colsample_bytree': 0.4218181381417257, 'reg_alpha': 50, 'reg_lambda': 0}. Best is trial 30 with value: 0.021966004399320435.\u001b[0m\n"
     ]
    },
    {
     "name": "stdout",
     "output_type": "stream",
     "text": [
      "[18:06:38] WARNING: C:\\Users\\Administrator\\workspace\\xgboost-win64_release_1.1.0\\src\\learner.cc:480: \n",
      "Parameters: { min_child_samples, num_leaves } might not be used.\n",
      "\n",
      "  This may not be accurate due to some parameters are only used in language bindings but\n",
      "  passed down to XGBoost core.  Or some parameters are not used but slip through this\n",
      "  verification. Please open an issue if you find above cases.\n",
      "\n",
      "\n"
     ]
    },
    {
     "name": "stderr",
     "output_type": "stream",
     "text": [
      "\u001b[32m[I 2021-05-11 18:06:45,039]\u001b[0m Trial 36 finished with value: 0.023964582185364146 and parameters: {'max_depth': 37, 'num_leaves': 30, 'learning_rate': 0.1, 'min_child_samples': 249, 'min_child_weight': 1, 'subsample': 0.3810305193045781, 'colsample_bytree': 0.4408705968912053, 'reg_alpha': 100, 'reg_lambda': 1}. Best is trial 30 with value: 0.021966004399320435.\u001b[0m\n"
     ]
    },
    {
     "name": "stdout",
     "output_type": "stream",
     "text": [
      "[18:06:45] WARNING: C:\\Users\\Administrator\\workspace\\xgboost-win64_release_1.1.0\\src\\learner.cc:480: \n",
      "Parameters: { min_child_samples, num_leaves } might not be used.\n",
      "\n",
      "  This may not be accurate due to some parameters are only used in language bindings but\n",
      "  passed down to XGBoost core.  Or some parameters are not used but slip through this\n",
      "  verification. Please open an issue if you find above cases.\n",
      "\n",
      "\n"
     ]
    },
    {
     "name": "stderr",
     "output_type": "stream",
     "text": [
      "\u001b[32m[I 2021-05-11 18:06:46,122]\u001b[0m Trial 37 finished with value: 0.16297910718247338 and parameters: {'max_depth': 35, 'num_leaves': 23, 'learning_rate': 0.1, 'min_child_samples': 342, 'min_child_weight': 10000.0, 'subsample': 0.5784636142856302, 'colsample_bytree': 0.4150264304199638, 'reg_alpha': 100, 'reg_lambda': 20}. Best is trial 30 with value: 0.021966004399320435.\u001b[0m\n"
     ]
    },
    {
     "name": "stdout",
     "output_type": "stream",
     "text": [
      "[18:06:46] WARNING: C:\\Users\\Administrator\\workspace\\xgboost-win64_release_1.1.0\\src\\learner.cc:480: \n",
      "Parameters: { min_child_samples, num_leaves } might not be used.\n",
      "\n",
      "  This may not be accurate due to some parameters are only used in language bindings but\n",
      "  passed down to XGBoost core.  Or some parameters are not used but slip through this\n",
      "  verification. Please open an issue if you find above cases.\n",
      "\n",
      "\n"
     ]
    },
    {
     "name": "stderr",
     "output_type": "stream",
     "text": [
      "\u001b[32m[I 2021-05-11 18:06:50,673]\u001b[0m Trial 38 finished with value: 0.022052580084104916 and parameters: {'max_depth': 44, 'num_leaves': 25, 'learning_rate': 0.1, 'min_child_samples': 390, 'min_child_weight': 1, 'subsample': 0.4495942037402111, 'colsample_bytree': 0.40200134807553184, 'reg_alpha': 100, 'reg_lambda': 20}. Best is trial 30 with value: 0.021966004399320435.\u001b[0m\n"
     ]
    },
    {
     "name": "stdout",
     "output_type": "stream",
     "text": [
      "[18:06:50] WARNING: C:\\Users\\Administrator\\workspace\\xgboost-win64_release_1.1.0\\src\\learner.cc:480: \n",
      "Parameters: { min_child_samples, num_leaves } might not be used.\n",
      "\n",
      "  This may not be accurate due to some parameters are only used in language bindings but\n",
      "  passed down to XGBoost core.  Or some parameters are not used but slip through this\n",
      "  verification. Please open an issue if you find above cases.\n",
      "\n",
      "\n"
     ]
    },
    {
     "name": "stderr",
     "output_type": "stream",
     "text": [
      "\u001b[32m[I 2021-05-11 18:06:55,489]\u001b[0m Trial 39 finished with value: 0.02203972950473242 and parameters: {'max_depth': 44, 'num_leaves': 15, 'learning_rate': 0.1, 'min_child_samples': 391, 'min_child_weight': 1, 'subsample': 0.5100722074825547, 'colsample_bytree': 0.40092905636827875, 'reg_alpha': 100, 'reg_lambda': 20}. Best is trial 30 with value: 0.021966004399320435.\u001b[0m\n"
     ]
    },
    {
     "name": "stdout",
     "output_type": "stream",
     "text": [
      "[18:06:55] WARNING: C:\\Users\\Administrator\\workspace\\xgboost-win64_release_1.1.0\\src\\learner.cc:480: \n",
      "Parameters: { min_child_samples, num_leaves } might not be used.\n",
      "\n",
      "  This may not be accurate due to some parameters are only used in language bindings but\n",
      "  passed down to XGBoost core.  Or some parameters are not used but slip through this\n",
      "  verification. Please open an issue if you find above cases.\n",
      "\n",
      "\n"
     ]
    },
    {
     "name": "stderr",
     "output_type": "stream",
     "text": [
      "\u001b[32m[I 2021-05-11 18:06:57,120]\u001b[0m Trial 40 finished with value: 0.3862707630965083 and parameters: {'max_depth': 49, 'num_leaves': 14, 'learning_rate': 0.01, 'min_child_samples': 391, 'min_child_weight': 1, 'subsample': 0.46944707527707685, 'colsample_bytree': 0.40217363845194615, 'reg_alpha': 100, 'reg_lambda': 100}. Best is trial 30 with value: 0.021966004399320435.\u001b[0m\n"
     ]
    },
    {
     "name": "stdout",
     "output_type": "stream",
     "text": [
      "[18:06:57] WARNING: C:\\Users\\Administrator\\workspace\\xgboost-win64_release_1.1.0\\src\\learner.cc:480: \n",
      "Parameters: { min_child_samples, num_leaves } might not be used.\n",
      "\n",
      "  This may not be accurate due to some parameters are only used in language bindings but\n",
      "  passed down to XGBoost core.  Or some parameters are not used but slip through this\n",
      "  verification. Please open an issue if you find above cases.\n",
      "\n",
      "\n"
     ]
    },
    {
     "name": "stderr",
     "output_type": "stream",
     "text": [
      "\u001b[32m[I 2021-05-11 18:07:01,618]\u001b[0m Trial 41 finished with value: 0.022078891387377095 and parameters: {'max_depth': 45, 'num_leaves': 20, 'learning_rate': 0.1, 'min_child_samples': 384, 'min_child_weight': 1, 'subsample': 0.5237818086660941, 'colsample_bytree': 0.4003463069474673, 'reg_alpha': 100, 'reg_lambda': 20}. Best is trial 30 with value: 0.021966004399320435.\u001b[0m\n"
     ]
    },
    {
     "name": "stdout",
     "output_type": "stream",
     "text": [
      "[18:07:01] WARNING: C:\\Users\\Administrator\\workspace\\xgboost-win64_release_1.1.0\\src\\learner.cc:480: \n",
      "Parameters: { min_child_samples, num_leaves } might not be used.\n",
      "\n",
      "  This may not be accurate due to some parameters are only used in language bindings but\n",
      "  passed down to XGBoost core.  Or some parameters are not used but slip through this\n",
      "  verification. Please open an issue if you find above cases.\n",
      "\n",
      "\n"
     ]
    },
    {
     "name": "stderr",
     "output_type": "stream",
     "text": [
      "\u001b[32m[I 2021-05-11 18:07:05,708]\u001b[0m Trial 42 finished with value: 0.022179147988467637 and parameters: {'max_depth': 45, 'num_leaves': 16, 'learning_rate': 0.1, 'min_child_samples': 376, 'min_child_weight': 1, 'subsample': 0.5050827276567794, 'colsample_bytree': 0.40059046772483003, 'reg_alpha': 100, 'reg_lambda': 20}. Best is trial 30 with value: 0.021966004399320435.\u001b[0m\n"
     ]
    },
    {
     "name": "stdout",
     "output_type": "stream",
     "text": [
      "[18:07:05] WARNING: C:\\Users\\Administrator\\workspace\\xgboost-win64_release_1.1.0\\src\\learner.cc:480: \n",
      "Parameters: { min_child_samples, num_leaves } might not be used.\n",
      "\n",
      "  This may not be accurate due to some parameters are only used in language bindings but\n",
      "  passed down to XGBoost core.  Or some parameters are not used but slip through this\n",
      "  verification. Please open an issue if you find above cases.\n",
      "\n",
      "\n"
     ]
    },
    {
     "name": "stderr",
     "output_type": "stream",
     "text": [
      "\u001b[32m[I 2021-05-11 18:07:09,486]\u001b[0m Trial 43 finished with value: 0.022061305557718663 and parameters: {'max_depth': 44, 'num_leaves': 20, 'learning_rate': 0.1, 'min_child_samples': 443, 'min_child_weight': 1, 'subsample': 0.4371464305360462, 'colsample_bytree': 0.4321610273612799, 'reg_alpha': 100, 'reg_lambda': 20}. Best is trial 30 with value: 0.021966004399320435.\u001b[0m\n"
     ]
    },
    {
     "name": "stdout",
     "output_type": "stream",
     "text": [
      "[18:07:09] WARNING: C:\\Users\\Administrator\\workspace\\xgboost-win64_release_1.1.0\\src\\learner.cc:480: \n",
      "Parameters: { min_child_samples, num_leaves } might not be used.\n",
      "\n",
      "  This may not be accurate due to some parameters are only used in language bindings but\n",
      "  passed down to XGBoost core.  Or some parameters are not used but slip through this\n",
      "  verification. Please open an issue if you find above cases.\n",
      "\n",
      "\n"
     ]
    },
    {
     "name": "stderr",
     "output_type": "stream",
     "text": [
      "\u001b[32m[I 2021-05-11 18:07:14,187]\u001b[0m Trial 44 finished with value: 0.02234419963611784 and parameters: {'max_depth': 47, 'num_leaves': 20, 'learning_rate': 0.1, 'min_child_samples': 446, 'min_child_weight': 1, 'subsample': 0.544942550073863, 'colsample_bytree': 0.43400821263210204, 'reg_alpha': 0.1, 'reg_lambda': 20}. Best is trial 30 with value: 0.021966004399320435.\u001b[0m\n"
     ]
    },
    {
     "name": "stdout",
     "output_type": "stream",
     "text": [
      "[18:07:14] WARNING: C:\\Users\\Administrator\\workspace\\xgboost-win64_release_1.1.0\\src\\learner.cc:480: \n",
      "Parameters: { min_child_samples, num_leaves } might not be used.\n",
      "\n",
      "  This may not be accurate due to some parameters are only used in language bindings but\n",
      "  passed down to XGBoost core.  Or some parameters are not used but slip through this\n",
      "  verification. Please open an issue if you find above cases.\n",
      "\n",
      "\n"
     ]
    },
    {
     "name": "stderr",
     "output_type": "stream",
     "text": [
      "\u001b[32m[I 2021-05-11 18:07:16,618]\u001b[0m Trial 45 finished with value: 5.487215550937708 and parameters: {'max_depth': 44, 'num_leaves': 13, 'learning_rate': 0.001, 'min_child_samples': 493, 'min_child_weight': 1, 'subsample': 0.6324208621870498, 'colsample_bytree': 0.45651630644845853, 'reg_alpha': 100, 'reg_lambda': 1}. Best is trial 30 with value: 0.021966004399320435.\u001b[0m\n"
     ]
    },
    {
     "name": "stdout",
     "output_type": "stream",
     "text": [
      "[18:07:16] WARNING: C:\\Users\\Administrator\\workspace\\xgboost-win64_release_1.1.0\\src\\learner.cc:480: \n",
      "Parameters: { min_child_samples, num_leaves } might not be used.\n",
      "\n",
      "  This may not be accurate due to some parameters are only used in language bindings but\n",
      "  passed down to XGBoost core.  Or some parameters are not used but slip through this\n",
      "  verification. Please open an issue if you find above cases.\n",
      "\n",
      "\n"
     ]
    },
    {
     "name": "stderr",
     "output_type": "stream",
     "text": [
      "\u001b[32m[I 2021-05-11 18:07:24,647]\u001b[0m Trial 46 finished with value: 0.02576252008542414 and parameters: {'max_depth': 50, 'num_leaves': 20, 'learning_rate': 0.1, 'min_child_samples': 419, 'min_child_weight': 0.01, 'subsample': 0.40200932088048347, 'colsample_bytree': 0.4044026656541376, 'reg_alpha': 100, 'reg_lambda': 0}. Best is trial 30 with value: 0.021966004399320435.\u001b[0m\n"
     ]
    },
    {
     "name": "stdout",
     "output_type": "stream",
     "text": [
      "[18:07:24] WARNING: C:\\Users\\Administrator\\workspace\\xgboost-win64_release_1.1.0\\src\\learner.cc:480: \n",
      "Parameters: { min_child_samples, num_leaves } might not be used.\n",
      "\n",
      "  This may not be accurate due to some parameters are only used in language bindings but\n",
      "  passed down to XGBoost core.  Or some parameters are not used but slip through this\n",
      "  verification. Please open an issue if you find above cases.\n",
      "\n",
      "\n"
     ]
    },
    {
     "name": "stderr",
     "output_type": "stream",
     "text": [
      "\u001b[32m[I 2021-05-11 18:07:29,117]\u001b[0m Trial 47 finished with value: 0.021992579421613166 and parameters: {'max_depth': 43, 'num_leaves': 10, 'learning_rate': 0.1, 'min_child_samples': 378, 'min_child_weight': 1, 'subsample': 0.4969749961454515, 'colsample_bytree': 0.44706680498717594, 'reg_alpha': 0, 'reg_lambda': 20}. Best is trial 30 with value: 0.021966004399320435.\u001b[0m\n"
     ]
    },
    {
     "name": "stdout",
     "output_type": "stream",
     "text": [
      "[18:07:29] WARNING: C:\\Users\\Administrator\\workspace\\xgboost-win64_release_1.1.0\\src\\learner.cc:480: \n",
      "Parameters: { min_child_samples, num_leaves } might not be used.\n",
      "\n",
      "  This may not be accurate due to some parameters are only used in language bindings but\n",
      "  passed down to XGBoost core.  Or some parameters are not used but slip through this\n",
      "  verification. Please open an issue if you find above cases.\n",
      "\n",
      "\n"
     ]
    },
    {
     "name": "stderr",
     "output_type": "stream",
     "text": [
      "\u001b[32m[I 2021-05-11 18:07:30,151]\u001b[0m Trial 48 finished with value: 0.16290181128925582 and parameters: {'max_depth': 43, 'num_leaves': 7, 'learning_rate': 0.1, 'min_child_samples': 474, 'min_child_weight': 1000.0, 'subsample': 0.4334854631013201, 'colsample_bytree': 0.4392167545002566, 'reg_alpha': 0, 'reg_lambda': 0.1}. Best is trial 30 with value: 0.021966004399320435.\u001b[0m\n"
     ]
    },
    {
     "name": "stdout",
     "output_type": "stream",
     "text": [
      "[18:07:30] WARNING: C:\\Users\\Administrator\\workspace\\xgboost-win64_release_1.1.0\\src\\learner.cc:480: \n",
      "Parameters: { min_child_samples, num_leaves } might not be used.\n",
      "\n",
      "  This may not be accurate due to some parameters are only used in language bindings but\n",
      "  passed down to XGBoost core.  Or some parameters are not used but slip through this\n",
      "  verification. Please open an issue if you find above cases.\n",
      "\n",
      "\n"
     ]
    },
    {
     "name": "stderr",
     "output_type": "stream",
     "text": [
      "\u001b[32m[I 2021-05-11 18:07:33,758]\u001b[0m Trial 49 finished with value: 0.022518799756727215 and parameters: {'max_depth': 47, 'num_leaves': 10, 'learning_rate': 0.1, 'min_child_samples': 362, 'min_child_weight': 1, 'subsample': 0.48959533768602154, 'colsample_bytree': 0.45019639689873214, 'reg_alpha': 0, 'reg_lambda': 50}. Best is trial 30 with value: 0.021966004399320435.\u001b[0m\n"
     ]
    },
    {
     "name": "stdout",
     "output_type": "stream",
     "text": [
      "[18:07:33] WARNING: C:\\Users\\Administrator\\workspace\\xgboost-win64_release_1.1.0\\src\\learner.cc:480: \n",
      "Parameters: { min_child_samples, num_leaves } might not be used.\n",
      "\n",
      "  This may not be accurate due to some parameters are only used in language bindings but\n",
      "  passed down to XGBoost core.  Or some parameters are not used but slip through this\n",
      "  verification. Please open an issue if you find above cases.\n",
      "\n",
      "\n"
     ]
    },
    {
     "name": "stderr",
     "output_type": "stream",
     "text": [
      "\u001b[32m[I 2021-05-11 18:07:35,250]\u001b[0m Trial 50 finished with value: 0.033046060670617355 and parameters: {'max_depth': 40, 'num_leaves': 16, 'learning_rate': 0.1, 'min_child_samples': 414, 'min_child_weight': 100.0, 'subsample': 0.45246563957722896, 'colsample_bytree': 0.42671602621928556, 'reg_alpha': 0, 'reg_lambda': 20}. Best is trial 30 with value: 0.021966004399320435.\u001b[0m\n"
     ]
    },
    {
     "name": "stdout",
     "output_type": "stream",
     "text": [
      "[18:07:35] WARNING: C:\\Users\\Administrator\\workspace\\xgboost-win64_release_1.1.0\\src\\learner.cc:480: \n",
      "Parameters: { min_child_samples, num_leaves } might not be used.\n",
      "\n",
      "  This may not be accurate due to some parameters are only used in language bindings but\n",
      "  passed down to XGBoost core.  Or some parameters are not used but slip through this\n",
      "  verification. Please open an issue if you find above cases.\n",
      "\n",
      "\n"
     ]
    },
    {
     "name": "stderr",
     "output_type": "stream",
     "text": [
      "\u001b[32m[I 2021-05-11 18:07:39,654]\u001b[0m Trial 51 finished with value: 0.022513765998644866 and parameters: {'max_depth': 43, 'num_leaves': 19, 'learning_rate': 0.1, 'min_child_samples': 391, 'min_child_weight': 1, 'subsample': 0.5253097566402342, 'colsample_bytree': 0.4436817893980085, 'reg_alpha': 50, 'reg_lambda': 20}. Best is trial 30 with value: 0.021966004399320435.\u001b[0m\n"
     ]
    },
    {
     "name": "stdout",
     "output_type": "stream",
     "text": [
      "[18:07:39] WARNING: C:\\Users\\Administrator\\workspace\\xgboost-win64_release_1.1.0\\src\\learner.cc:480: \n",
      "Parameters: { min_child_samples, num_leaves } might not be used.\n",
      "\n",
      "  This may not be accurate due to some parameters are only used in language bindings but\n",
      "  passed down to XGBoost core.  Or some parameters are not used but slip through this\n",
      "  verification. Please open an issue if you find above cases.\n",
      "\n",
      "\n"
     ]
    },
    {
     "name": "stderr",
     "output_type": "stream",
     "text": [
      "\u001b[32m[I 2021-05-11 18:07:44,622]\u001b[0m Trial 52 finished with value: 0.022143237815341346 and parameters: {'max_depth': 47, 'num_leaves': 22, 'learning_rate': 0.1, 'min_child_samples': 326, 'min_child_weight': 1, 'subsample': 0.4949125796845269, 'colsample_bytree': 0.41868385826284393, 'reg_alpha': 10, 'reg_lambda': 20}. Best is trial 30 with value: 0.021966004399320435.\u001b[0m\n"
     ]
    },
    {
     "name": "stdout",
     "output_type": "stream",
     "text": [
      "[18:07:44] WARNING: C:\\Users\\Administrator\\workspace\\xgboost-win64_release_1.1.0\\src\\learner.cc:480: \n",
      "Parameters: { min_child_samples, num_leaves } might not be used.\n",
      "\n",
      "  This may not be accurate due to some parameters are only used in language bindings but\n",
      "  passed down to XGBoost core.  Or some parameters are not used but slip through this\n",
      "  verification. Please open an issue if you find above cases.\n",
      "\n",
      "\n"
     ]
    },
    {
     "name": "stderr",
     "output_type": "stream",
     "text": [
      "\u001b[32m[I 2021-05-11 18:07:49,629]\u001b[0m Trial 53 finished with value: 0.022416539300426717 and parameters: {'max_depth': 42, 'num_leaves': 25, 'learning_rate': 0.1, 'min_child_samples': 434, 'min_child_weight': 1, 'subsample': 0.6636762160965642, 'colsample_bytree': 0.43199830372008186, 'reg_alpha': 7, 'reg_lambda': 20}. Best is trial 30 with value: 0.021966004399320435.\u001b[0m\n"
     ]
    },
    {
     "name": "stdout",
     "output_type": "stream",
     "text": [
      "[18:07:49] WARNING: C:\\Users\\Administrator\\workspace\\xgboost-win64_release_1.1.0\\src\\learner.cc:480: \n",
      "Parameters: { min_child_samples, num_leaves } might not be used.\n",
      "\n",
      "  This may not be accurate due to some parameters are only used in language bindings but\n",
      "  passed down to XGBoost core.  Or some parameters are not used but slip through this\n",
      "  verification. Please open an issue if you find above cases.\n",
      "\n",
      "\n"
     ]
    },
    {
     "name": "stderr",
     "output_type": "stream",
     "text": [
      "\u001b[32m[I 2021-05-11 18:07:54,869]\u001b[0m Trial 54 finished with value: 0.022291080472819417 and parameters: {'max_depth': 39, 'num_leaves': 14, 'learning_rate': 0.1, 'min_child_samples': 387, 'min_child_weight': 0.001, 'subsample': 0.5504759602980991, 'colsample_bytree': 0.40506612201815545, 'reg_alpha': 100, 'reg_lambda': 20}. Best is trial 30 with value: 0.021966004399320435.\u001b[0m\n"
     ]
    },
    {
     "name": "stdout",
     "output_type": "stream",
     "text": [
      "[18:07:54] WARNING: C:\\Users\\Administrator\\workspace\\xgboost-win64_release_1.1.0\\src\\learner.cc:480: \n",
      "Parameters: { min_child_samples, num_leaves } might not be used.\n",
      "\n",
      "  This may not be accurate due to some parameters are only used in language bindings but\n",
      "  passed down to XGBoost core.  Or some parameters are not used but slip through this\n",
      "  verification. Please open an issue if you find above cases.\n",
      "\n",
      "\n"
     ]
    },
    {
     "name": "stderr",
     "output_type": "stream",
     "text": [
      "\u001b[32m[I 2021-05-11 18:07:56,071]\u001b[0m Trial 55 finished with value: 0.16313221141089781 and parameters: {'max_depth': 49, 'num_leaves': 12, 'learning_rate': 0.1, 'min_child_samples': 471, 'min_child_weight': 10000.0, 'subsample': 0.41892590190498064, 'colsample_bytree': 0.48159217749025873, 'reg_alpha': 2, 'reg_lambda': 20}. Best is trial 30 with value: 0.021966004399320435.\u001b[0m\n"
     ]
    },
    {
     "name": "stdout",
     "output_type": "stream",
     "text": [
      "[18:07:56] WARNING: C:\\Users\\Administrator\\workspace\\xgboost-win64_release_1.1.0\\src\\learner.cc:480: \n",
      "Parameters: { min_child_samples, num_leaves } might not be used.\n",
      "\n",
      "  This may not be accurate due to some parameters are only used in language bindings but\n",
      "  passed down to XGBoost core.  Or some parameters are not used but slip through this\n",
      "  verification. Please open an issue if you find above cases.\n",
      "\n",
      "\n"
     ]
    },
    {
     "name": "stderr",
     "output_type": "stream",
     "text": [
      "\u001b[32m[I 2021-05-11 18:08:00,996]\u001b[0m Trial 56 finished with value: 0.022516903993946822 and parameters: {'max_depth': 41, 'num_leaves': 9, 'learning_rate': 0.1, 'min_child_samples': 364, 'min_child_weight': 0.1, 'subsample': 0.5141888673700696, 'colsample_bytree': 0.4614756293856871, 'reg_alpha': 0, 'reg_lambda': 20}. Best is trial 30 with value: 0.021966004399320435.\u001b[0m\n"
     ]
    },
    {
     "name": "stdout",
     "output_type": "stream",
     "text": [
      "[18:08:01] WARNING: C:\\Users\\Administrator\\workspace\\xgboost-win64_release_1.1.0\\src\\learner.cc:480: \n",
      "Parameters: { min_child_samples, num_leaves } might not be used.\n",
      "\n",
      "  This may not be accurate due to some parameters are only used in language bindings but\n",
      "  passed down to XGBoost core.  Or some parameters are not used but slip through this\n",
      "  verification. Please open an issue if you find above cases.\n",
      "\n",
      "\n"
     ]
    },
    {
     "name": "stderr",
     "output_type": "stream",
     "text": [
      "\u001b[32m[I 2021-05-11 18:08:03,387]\u001b[0m Trial 57 finished with value: 0.4131720224392885 and parameters: {'max_depth': 45, 'num_leaves': 6, 'learning_rate': 0.01, 'min_child_samples': 341, 'min_child_weight': 1, 'subsample': 0.39035250266467647, 'colsample_bytree': 0.41528891500859233, 'reg_alpha': 0.1, 'reg_lambda': 100}. Best is trial 30 with value: 0.021966004399320435.\u001b[0m\n"
     ]
    },
    {
     "name": "stdout",
     "output_type": "stream",
     "text": [
      "[18:08:03] WARNING: C:\\Users\\Administrator\\workspace\\xgboost-win64_release_1.1.0\\src\\learner.cc:480: \n",
      "Parameters: { min_child_samples, num_leaves } might not be used.\n",
      "\n",
      "  This may not be accurate due to some parameters are only used in language bindings but\n",
      "  passed down to XGBoost core.  Or some parameters are not used but slip through this\n",
      "  verification. Please open an issue if you find above cases.\n",
      "\n",
      "\n"
     ]
    },
    {
     "name": "stderr",
     "output_type": "stream",
     "text": [
      "\u001b[32m[I 2021-05-11 18:08:08,476]\u001b[0m Trial 58 finished with value: 0.021933582096213843 and parameters: {'max_depth': 43, 'num_leaves': 18, 'learning_rate': 0.1, 'min_child_samples': 408, 'min_child_weight': 1, 'subsample': 0.465904911436376, 'colsample_bytree': 0.4066500285186938, 'reg_alpha': 100, 'reg_lambda': 20}. Best is trial 58 with value: 0.021933582096213843.\u001b[0m\n"
     ]
    },
    {
     "name": "stdout",
     "output_type": "stream",
     "text": [
      "[18:08:08] WARNING: C:\\Users\\Administrator\\workspace\\xgboost-win64_release_1.1.0\\src\\learner.cc:480: \n",
      "Parameters: { min_child_samples, num_leaves } might not be used.\n",
      "\n",
      "  This may not be accurate due to some parameters are only used in language bindings but\n",
      "  passed down to XGBoost core.  Or some parameters are not used but slip through this\n",
      "  verification. Please open an issue if you find above cases.\n",
      "\n",
      "\n"
     ]
    },
    {
     "name": "stderr",
     "output_type": "stream",
     "text": [
      "\u001b[32m[I 2021-05-11 18:08:21,783]\u001b[0m Trial 59 finished with value: 0.0248135313912235 and parameters: {'max_depth': 42, 'num_leaves': 18, 'learning_rate': 0.1, 'min_child_samples': 424, 'min_child_weight': 1, 'subsample': 0.46771108858266597, 'colsample_bytree': 0.44743310624315785, 'reg_alpha': 100, 'reg_lambda': 0.1}. Best is trial 58 with value: 0.021933582096213843.\u001b[0m\n"
     ]
    },
    {
     "name": "stdout",
     "output_type": "stream",
     "text": [
      "[18:08:21] WARNING: C:\\Users\\Administrator\\workspace\\xgboost-win64_release_1.1.0\\src\\learner.cc:480: \n",
      "Parameters: { min_child_samples, num_leaves } might not be used.\n",
      "\n",
      "  This may not be accurate due to some parameters are only used in language bindings but\n",
      "  passed down to XGBoost core.  Or some parameters are not used but slip through this\n",
      "  verification. Please open an issue if you find above cases.\n",
      "\n",
      "\n"
     ]
    },
    {
     "name": "stderr",
     "output_type": "stream",
     "text": [
      "\u001b[32m[I 2021-05-11 18:08:26,017]\u001b[0m Trial 60 finished with value: 5.903775628081615 and parameters: {'max_depth': 34, 'num_leaves': 16, 'learning_rate': 0.001, 'min_child_samples': 449, 'min_child_weight': 1000.0, 'subsample': 0.3611748689384003, 'colsample_bytree': 0.42706478480902677, 'reg_alpha': 0, 'reg_lambda': 50}. Best is trial 58 with value: 0.021933582096213843.\u001b[0m\n"
     ]
    },
    {
     "name": "stdout",
     "output_type": "stream",
     "text": [
      "[18:08:26] WARNING: C:\\Users\\Administrator\\workspace\\xgboost-win64_release_1.1.0\\src\\learner.cc:480: \n",
      "Parameters: { min_child_samples, num_leaves } might not be used.\n",
      "\n",
      "  This may not be accurate due to some parameters are only used in language bindings but\n",
      "  passed down to XGBoost core.  Or some parameters are not used but slip through this\n",
      "  verification. Please open an issue if you find above cases.\n",
      "\n",
      "\n"
     ]
    },
    {
     "name": "stderr",
     "output_type": "stream",
     "text": [
      "\u001b[32m[I 2021-05-11 18:08:42,052]\u001b[0m Trial 61 finished with value: 0.021963515485505285 and parameters: {'max_depth': 46, 'num_leaves': 24, 'learning_rate': 0.1, 'min_child_samples': 404, 'min_child_weight': 1, 'subsample': 0.5523721852111403, 'colsample_bytree': 0.4065824330115103, 'reg_alpha': 100, 'reg_lambda': 20}. Best is trial 58 with value: 0.021933582096213843.\u001b[0m\n"
     ]
    },
    {
     "name": "stdout",
     "output_type": "stream",
     "text": [
      "[18:08:42] WARNING: C:\\Users\\Administrator\\workspace\\xgboost-win64_release_1.1.0\\src\\learner.cc:480: \n",
      "Parameters: { min_child_samples, num_leaves } might not be used.\n",
      "\n",
      "  This may not be accurate due to some parameters are only used in language bindings but\n",
      "  passed down to XGBoost core.  Or some parameters are not used but slip through this\n",
      "  verification. Please open an issue if you find above cases.\n",
      "\n",
      "\n"
     ]
    },
    {
     "name": "stderr",
     "output_type": "stream",
     "text": [
      "\u001b[32m[I 2021-05-11 18:08:48,322]\u001b[0m Trial 62 finished with value: 0.02210919627072137 and parameters: {'max_depth': 47, 'num_leaves': 25, 'learning_rate': 0.1, 'min_child_samples': 405, 'min_child_weight': 1, 'subsample': 0.6072122498568819, 'colsample_bytree': 0.40680771181983477, 'reg_alpha': 100, 'reg_lambda': 20}. Best is trial 58 with value: 0.021933582096213843.\u001b[0m\n"
     ]
    },
    {
     "name": "stdout",
     "output_type": "stream",
     "text": [
      "[18:08:48] WARNING: C:\\Users\\Administrator\\workspace\\xgboost-win64_release_1.1.0\\src\\learner.cc:480: \n",
      "Parameters: { min_child_samples, num_leaves } might not be used.\n",
      "\n",
      "  This may not be accurate due to some parameters are only used in language bindings but\n",
      "  passed down to XGBoost core.  Or some parameters are not used but slip through this\n",
      "  verification. Please open an issue if you find above cases.\n",
      "\n",
      "\n"
     ]
    },
    {
     "name": "stderr",
     "output_type": "stream",
     "text": [
      "\u001b[32m[I 2021-05-11 18:08:54,905]\u001b[0m Trial 63 finished with value: 0.02183613313753591 and parameters: {'max_depth': 43, 'num_leaves': 22, 'learning_rate': 0.1, 'min_child_samples': 398, 'min_child_weight': 1, 'subsample': 0.4853279905570835, 'colsample_bytree': 0.4149739716063105, 'reg_alpha': 100, 'reg_lambda': 20}. Best is trial 63 with value: 0.02183613313753591.\u001b[0m\n"
     ]
    },
    {
     "name": "stdout",
     "output_type": "stream",
     "text": [
      "[18:08:54] WARNING: C:\\Users\\Administrator\\workspace\\xgboost-win64_release_1.1.0\\src\\learner.cc:480: \n",
      "Parameters: { min_child_samples, num_leaves } might not be used.\n",
      "\n",
      "  This may not be accurate due to some parameters are only used in language bindings but\n",
      "  passed down to XGBoost core.  Or some parameters are not used but slip through this\n",
      "  verification. Please open an issue if you find above cases.\n",
      "\n",
      "\n"
     ]
    },
    {
     "name": "stderr",
     "output_type": "stream",
     "text": [
      "\u001b[32m[I 2021-05-11 18:09:01,591]\u001b[0m Trial 64 finished with value: 0.02219231472447117 and parameters: {'max_depth': 40, 'num_leaves': 22, 'learning_rate': 0.1, 'min_child_samples': 402, 'min_child_weight': 1, 'subsample': 0.5577954383835543, 'colsample_bytree': 0.41631491357729977, 'reg_alpha': 100, 'reg_lambda': 20}. Best is trial 63 with value: 0.02183613313753591.\u001b[0m\n"
     ]
    },
    {
     "name": "stdout",
     "output_type": "stream",
     "text": [
      "[18:09:01] WARNING: C:\\Users\\Administrator\\workspace\\xgboost-win64_release_1.1.0\\src\\learner.cc:480: \n",
      "Parameters: { min_child_samples, num_leaves } might not be used.\n",
      "\n",
      "  This may not be accurate due to some parameters are only used in language bindings but\n",
      "  passed down to XGBoost core.  Or some parameters are not used but slip through this\n",
      "  verification. Please open an issue if you find above cases.\n",
      "\n",
      "\n"
     ]
    },
    {
     "name": "stderr",
     "output_type": "stream",
     "text": [
      "\u001b[32m[I 2021-05-11 18:09:05,322]\u001b[0m Trial 65 finished with value: 0.022149914265851736 and parameters: {'max_depth': 48, 'num_leaves': 24, 'learning_rate': 0.1, 'min_child_samples': 325, 'min_child_weight': 10.0, 'subsample': 0.4835024804312428, 'colsample_bytree': 0.4125169803265093, 'reg_alpha': 100, 'reg_lambda': 10}. Best is trial 63 with value: 0.02183613313753591.\u001b[0m\n"
     ]
    },
    {
     "name": "stdout",
     "output_type": "stream",
     "text": [
      "[18:09:05] WARNING: C:\\Users\\Administrator\\workspace\\xgboost-win64_release_1.1.0\\src\\learner.cc:480: \n",
      "Parameters: { min_child_samples, num_leaves } might not be used.\n",
      "\n",
      "  This may not be accurate due to some parameters are only used in language bindings but\n",
      "  passed down to XGBoost core.  Or some parameters are not used but slip through this\n",
      "  verification. Please open an issue if you find above cases.\n",
      "\n",
      "\n"
     ]
    },
    {
     "name": "stderr",
     "output_type": "stream",
     "text": [
      "\u001b[32m[I 2021-05-11 18:09:09,440]\u001b[0m Trial 66 finished with value: 0.02199227859167228 and parameters: {'max_depth': 43, 'num_leaves': 17, 'learning_rate': 0.1, 'min_child_samples': 368, 'min_child_weight': 0.01, 'subsample': 0.45676599342051066, 'colsample_bytree': 0.4216531640575302, 'reg_alpha': 1, 'reg_lambda': 20}. Best is trial 63 with value: 0.02183613313753591.\u001b[0m\n"
     ]
    },
    {
     "name": "stdout",
     "output_type": "stream",
     "text": [
      "[18:09:09] WARNING: C:\\Users\\Administrator\\workspace\\xgboost-win64_release_1.1.0\\src\\learner.cc:480: \n",
      "Parameters: { min_child_samples, num_leaves } might not be used.\n",
      "\n",
      "  This may not be accurate due to some parameters are only used in language bindings but\n",
      "  passed down to XGBoost core.  Or some parameters are not used but slip through this\n",
      "  verification. Please open an issue if you find above cases.\n",
      "\n",
      "\n"
     ]
    },
    {
     "name": "stderr",
     "output_type": "stream",
     "text": [
      "\u001b[32m[I 2021-05-11 18:09:15,458]\u001b[0m Trial 67 finished with value: 0.022307561976379304 and parameters: {'max_depth': 39, 'num_leaves': 18, 'learning_rate': 0.1, 'min_child_samples': 375, 'min_child_weight': 0.01, 'subsample': 0.7005830193053536, 'colsample_bytree': 0.4212553386660966, 'reg_alpha': 1, 'reg_lambda': 20}. Best is trial 63 with value: 0.02183613313753591.\u001b[0m\n"
     ]
    },
    {
     "name": "stdout",
     "output_type": "stream",
     "text": [
      "[18:09:15] WARNING: C:\\Users\\Administrator\\workspace\\xgboost-win64_release_1.1.0\\src\\learner.cc:480: \n",
      "Parameters: { min_child_samples, num_leaves } might not be used.\n",
      "\n",
      "  This may not be accurate due to some parameters are only used in language bindings but\n",
      "  passed down to XGBoost core.  Or some parameters are not used but slip through this\n",
      "  verification. Please open an issue if you find above cases.\n",
      "\n",
      "\n"
     ]
    },
    {
     "name": "stderr",
     "output_type": "stream",
     "text": [
      "\u001b[32m[I 2021-05-11 18:09:21,207]\u001b[0m Trial 68 finished with value: 0.022325814458250236 and parameters: {'max_depth': 41, 'num_leaves': 15, 'learning_rate': 0.1, 'min_child_samples': 431, 'min_child_weight': 0.01, 'subsample': 0.5374866934514617, 'colsample_bytree': 0.43612694180762585, 'reg_alpha': 1, 'reg_lambda': 20}. Best is trial 63 with value: 0.02183613313753591.\u001b[0m\n"
     ]
    },
    {
     "name": "stdout",
     "output_type": "stream",
     "text": [
      "[18:09:21] WARNING: C:\\Users\\Administrator\\workspace\\xgboost-win64_release_1.1.0\\src\\learner.cc:480: \n",
      "Parameters: { min_child_samples, num_leaves } might not be used.\n",
      "\n",
      "  This may not be accurate due to some parameters are only used in language bindings but\n",
      "  passed down to XGBoost core.  Or some parameters are not used but slip through this\n",
      "  verification. Please open an issue if you find above cases.\n",
      "\n",
      "\n"
     ]
    },
    {
     "name": "stderr",
     "output_type": "stream",
     "text": [
      "\u001b[32m[I 2021-05-11 18:09:31,934]\u001b[0m Trial 69 finished with value: 0.02562267119808566 and parameters: {'max_depth': 43, 'num_leaves': 13, 'learning_rate': 0.1, 'min_child_samples': 358, 'min_child_weight': 0.01, 'subsample': 0.5065615492538807, 'colsample_bytree': 0.40746445166177836, 'reg_alpha': 1, 'reg_lambda': 0}. Best is trial 63 with value: 0.02183613313753591.\u001b[0m\n"
     ]
    },
    {
     "name": "stdout",
     "output_type": "stream",
     "text": [
      "[18:09:31] WARNING: C:\\Users\\Administrator\\workspace\\xgboost-win64_release_1.1.0\\src\\learner.cc:480: \n",
      "Parameters: { min_child_samples, num_leaves } might not be used.\n",
      "\n",
      "  This may not be accurate due to some parameters are only used in language bindings but\n",
      "  passed down to XGBoost core.  Or some parameters are not used but slip through this\n",
      "  verification. Please open an issue if you find above cases.\n",
      "\n",
      "\n"
     ]
    },
    {
     "name": "stderr",
     "output_type": "stream",
     "text": [
      "\u001b[32m[I 2021-05-11 18:09:34,140]\u001b[0m Trial 70 finished with value: 0.029097094835149523 and parameters: {'max_depth': 50, 'num_leaves': 17, 'learning_rate': 0.1, 'min_child_samples': 291, 'min_child_weight': 100.0, 'subsample': 0.5758714911855849, 'colsample_bytree': 0.4266243160151213, 'reg_alpha': 1, 'reg_lambda': 1}. Best is trial 63 with value: 0.02183613313753591.\u001b[0m\n"
     ]
    },
    {
     "name": "stdout",
     "output_type": "stream",
     "text": [
      "[18:09:34] WARNING: C:\\Users\\Administrator\\workspace\\xgboost-win64_release_1.1.0\\src\\learner.cc:480: \n",
      "Parameters: { min_child_samples, num_leaves } might not be used.\n",
      "\n",
      "  This may not be accurate due to some parameters are only used in language bindings but\n",
      "  passed down to XGBoost core.  Or some parameters are not used but slip through this\n",
      "  verification. Please open an issue if you find above cases.\n",
      "\n",
      "\n"
     ]
    },
    {
     "name": "stderr",
     "output_type": "stream",
     "text": [
      "\u001b[32m[I 2021-05-11 18:09:40,380]\u001b[0m Trial 71 finished with value: 0.02224150266936401 and parameters: {'max_depth': 44, 'num_leaves': 29, 'learning_rate': 0.1, 'min_child_samples': 371, 'min_child_weight': 1, 'subsample': 0.45741581858258334, 'colsample_bytree': 0.4004945089221566, 'reg_alpha': 10, 'reg_lambda': 20}. Best is trial 63 with value: 0.02183613313753591.\u001b[0m\n"
     ]
    },
    {
     "name": "stdout",
     "output_type": "stream",
     "text": [
      "[18:09:40] WARNING: C:\\Users\\Administrator\\workspace\\xgboost-win64_release_1.1.0\\src\\learner.cc:480: \n",
      "Parameters: { min_child_samples, num_leaves } might not be used.\n",
      "\n",
      "  This may not be accurate due to some parameters are only used in language bindings but\n",
      "  passed down to XGBoost core.  Or some parameters are not used but slip through this\n",
      "  verification. Please open an issue if you find above cases.\n",
      "\n",
      "\n"
     ]
    },
    {
     "name": "stderr",
     "output_type": "stream",
     "text": [
      "\u001b[32m[I 2021-05-11 18:09:45,872]\u001b[0m Trial 72 finished with value: 0.022255612904659862 and parameters: {'max_depth': 46, 'num_leaves': 23, 'learning_rate': 0.1, 'min_child_samples': 399, 'min_child_weight': 0.01, 'subsample': 0.48016699893358655, 'colsample_bytree': 0.4188303641143055, 'reg_alpha': 100, 'reg_lambda': 20}. Best is trial 63 with value: 0.02183613313753591.\u001b[0m\n"
     ]
    },
    {
     "name": "stdout",
     "output_type": "stream",
     "text": [
      "[18:09:45] WARNING: C:\\Users\\Administrator\\workspace\\xgboost-win64_release_1.1.0\\src\\learner.cc:480: \n",
      "Parameters: { min_child_samples, num_leaves } might not be used.\n",
      "\n",
      "  This may not be accurate due to some parameters are only used in language bindings but\n",
      "  passed down to XGBoost core.  Or some parameters are not used but slip through this\n",
      "  verification. Please open an issue if you find above cases.\n",
      "\n",
      "\n"
     ]
    },
    {
     "name": "stderr",
     "output_type": "stream",
     "text": [
      "\u001b[32m[I 2021-05-11 18:09:50,453]\u001b[0m Trial 73 finished with value: 0.022073409836587198 and parameters: {'max_depth': 46, 'num_leaves': 22, 'learning_rate': 0.1, 'min_child_samples': 347, 'min_child_weight': 1, 'subsample': 0.4190389236026915, 'colsample_bytree': 0.4065581867322376, 'reg_alpha': 7, 'reg_lambda': 20}. Best is trial 63 with value: 0.02183613313753591.\u001b[0m\n"
     ]
    },
    {
     "name": "stdout",
     "output_type": "stream",
     "text": [
      "[18:09:50] WARNING: C:\\Users\\Administrator\\workspace\\xgboost-win64_release_1.1.0\\src\\learner.cc:480: \n",
      "Parameters: { min_child_samples, num_leaves } might not be used.\n",
      "\n",
      "  This may not be accurate due to some parameters are only used in language bindings but\n",
      "  passed down to XGBoost core.  Or some parameters are not used but slip through this\n",
      "  verification. Please open an issue if you find above cases.\n",
      "\n",
      "\n"
     ]
    },
    {
     "name": "stderr",
     "output_type": "stream",
     "text": [
      "\u001b[32m[I 2021-05-11 18:09:58,953]\u001b[0m Trial 74 finished with value: 0.02202424652129905 and parameters: {'max_depth': 42, 'num_leaves': 33, 'learning_rate': 0.1, 'min_child_samples': 312, 'min_child_weight': 1, 'subsample': 0.45888786404058673, 'colsample_bytree': 0.41297199307428756, 'reg_alpha': 100, 'reg_lambda': 20}. Best is trial 63 with value: 0.02183613313753591.\u001b[0m\n"
     ]
    },
    {
     "name": "stdout",
     "output_type": "stream",
     "text": [
      "[18:09:58] WARNING: C:\\Users\\Administrator\\workspace\\xgboost-win64_release_1.1.0\\src\\learner.cc:480: \n",
      "Parameters: { min_child_samples, num_leaves } might not be used.\n",
      "\n",
      "  This may not be accurate due to some parameters are only used in language bindings but\n",
      "  passed down to XGBoost core.  Or some parameters are not used but slip through this\n",
      "  verification. Please open an issue if you find above cases.\n",
      "\n",
      "\n"
     ]
    },
    {
     "name": "stderr",
     "output_type": "stream",
     "text": [
      "\u001b[32m[I 2021-05-11 18:10:24,137]\u001b[0m Trial 75 finished with value: 0.022075278998426085 and parameters: {'max_depth': 42, 'num_leaves': 35, 'learning_rate': 0.1, 'min_child_samples': 273, 'min_child_weight': 0.1, 'subsample': 0.4974950013262507, 'colsample_bytree': 0.4233545141169078, 'reg_alpha': 50, 'reg_lambda': 20}. Best is trial 63 with value: 0.02183613313753591.\u001b[0m\n"
     ]
    },
    {
     "name": "stdout",
     "output_type": "stream",
     "text": [
      "[18:10:24] WARNING: C:\\Users\\Administrator\\workspace\\xgboost-win64_release_1.1.0\\src\\learner.cc:480: \n",
      "Parameters: { min_child_samples, num_leaves } might not be used.\n",
      "\n",
      "  This may not be accurate due to some parameters are only used in language bindings but\n",
      "  passed down to XGBoost core.  Or some parameters are not used but slip through this\n",
      "  verification. Please open an issue if you find above cases.\n",
      "\n",
      "\n"
     ]
    },
    {
     "name": "stderr",
     "output_type": "stream",
     "text": [
      "\u001b[32m[I 2021-05-11 18:10:28,899]\u001b[0m Trial 76 finished with value: 0.02203333736026234 and parameters: {'max_depth': 39, 'num_leaves': 11, 'learning_rate': 0.1, 'min_child_samples': 316, 'min_child_weight': 1, 'subsample': 0.5596686482453906, 'colsample_bytree': 0.41307921067448367, 'reg_alpha': 2, 'reg_lambda': 20}. Best is trial 63 with value: 0.02183613313753591.\u001b[0m\n"
     ]
    },
    {
     "name": "stdout",
     "output_type": "stream",
     "text": [
      "[18:10:28] WARNING: C:\\Users\\Administrator\\workspace\\xgboost-win64_release_1.1.0\\src\\learner.cc:480: \n",
      "Parameters: { min_child_samples, num_leaves } might not be used.\n",
      "\n",
      "  This may not be accurate due to some parameters are only used in language bindings but\n",
      "  passed down to XGBoost core.  Or some parameters are not used but slip through this\n",
      "  verification. Please open an issue if you find above cases.\n",
      "\n",
      "\n"
     ]
    },
    {
     "name": "stderr",
     "output_type": "stream",
     "text": [
      "\u001b[32m[I 2021-05-11 18:10:34,456]\u001b[0m Trial 77 finished with value: 0.02198719463130213 and parameters: {'max_depth': 38, 'num_leaves': 10, 'learning_rate': 0.1, 'min_child_samples': 311, 'min_child_weight': 0.001, 'subsample': 0.561287074074464, 'colsample_bytree': 0.41210770358893695, 'reg_alpha': 2, 'reg_lambda': 20}. Best is trial 63 with value: 0.02183613313753591.\u001b[0m\n"
     ]
    },
    {
     "name": "stdout",
     "output_type": "stream",
     "text": [
      "[18:10:34] WARNING: C:\\Users\\Administrator\\workspace\\xgboost-win64_release_1.1.0\\src\\learner.cc:480: \n",
      "Parameters: { min_child_samples, num_leaves } might not be used.\n",
      "\n",
      "  This may not be accurate due to some parameters are only used in language bindings but\n",
      "  passed down to XGBoost core.  Or some parameters are not used but slip through this\n",
      "  verification. Please open an issue if you find above cases.\n",
      "\n",
      "\n"
     ]
    },
    {
     "name": "stderr",
     "output_type": "stream",
     "text": [
      "\u001b[32m[I 2021-05-11 18:10:36,966]\u001b[0m Trial 78 finished with value: 0.2571489834716463 and parameters: {'max_depth': 36, 'num_leaves': 8, 'learning_rate': 0.01, 'min_child_samples': 331, 'min_child_weight': 0.001, 'subsample': 0.5934943163511834, 'colsample_bytree': 0.4181390916542813, 'reg_alpha': 2, 'reg_lambda': 20}. Best is trial 63 with value: 0.02183613313753591.\u001b[0m\n"
     ]
    },
    {
     "name": "stdout",
     "output_type": "stream",
     "text": [
      "[18:10:36] WARNING: C:\\Users\\Administrator\\workspace\\xgboost-win64_release_1.1.0\\src\\learner.cc:480: \n",
      "Parameters: { min_child_samples, num_leaves } might not be used.\n",
      "\n",
      "  This may not be accurate due to some parameters are only used in language bindings but\n",
      "  passed down to XGBoost core.  Or some parameters are not used but slip through this\n",
      "  verification. Please open an issue if you find above cases.\n",
      "\n",
      "\n"
     ]
    },
    {
     "name": "stderr",
     "output_type": "stream",
     "text": [
      "\u001b[32m[I 2021-05-11 18:10:50,318]\u001b[0m Trial 79 finished with value: 0.02221222472054242 and parameters: {'max_depth': 35, 'num_leaves': 37, 'learning_rate': 0.1, 'min_child_samples': 313, 'min_child_weight': 0.001, 'subsample': 0.6266134857967354, 'colsample_bytree': 0.41052788715453625, 'reg_alpha': 2, 'reg_lambda': 10}. Best is trial 63 with value: 0.02183613313753591.\u001b[0m\n"
     ]
    },
    {
     "name": "stdout",
     "output_type": "stream",
     "text": [
      "[18:10:50] WARNING: C:\\Users\\Administrator\\workspace\\xgboost-win64_release_1.1.0\\src\\learner.cc:480: \n",
      "Parameters: { min_child_samples, num_leaves } might not be used.\n",
      "\n",
      "  This may not be accurate due to some parameters are only used in language bindings but\n",
      "  passed down to XGBoost core.  Or some parameters are not used but slip through this\n",
      "  verification. Please open an issue if you find above cases.\n",
      "\n",
      "\n"
     ]
    },
    {
     "name": "stderr",
     "output_type": "stream",
     "text": [
      "\u001b[32m[I 2021-05-11 18:11:05,463]\u001b[0m Trial 80 finished with value: 0.022189719555167825 and parameters: {'max_depth': 38, 'num_leaves': 31, 'learning_rate': 0.1, 'min_child_samples': 296, 'min_child_weight': 0.001, 'subsample': 0.5366618066808015, 'colsample_bytree': 0.4282825819603332, 'reg_alpha': 2, 'reg_lambda': 20}. Best is trial 63 with value: 0.02183613313753591.\u001b[0m\n"
     ]
    },
    {
     "name": "stdout",
     "output_type": "stream",
     "text": [
      "[18:11:05] WARNING: C:\\Users\\Administrator\\workspace\\xgboost-win64_release_1.1.0\\src\\learner.cc:480: \n",
      "Parameters: { min_child_samples, num_leaves } might not be used.\n",
      "\n",
      "  This may not be accurate due to some parameters are only used in language bindings but\n",
      "  passed down to XGBoost core.  Or some parameters are not used but slip through this\n",
      "  verification. Please open an issue if you find above cases.\n",
      "\n",
      "\n"
     ]
    },
    {
     "name": "stderr",
     "output_type": "stream",
     "text": [
      "\u001b[32m[I 2021-05-11 18:11:10,376]\u001b[0m Trial 81 finished with value: 0.021935385962582918 and parameters: {'max_depth': 40, 'num_leaves': 11, 'learning_rate': 0.1, 'min_child_samples': 284, 'min_child_weight': 0.001, 'subsample': 0.5574499970947318, 'colsample_bytree': 0.41389182720516937, 'reg_alpha': 2, 'reg_lambda': 20}. Best is trial 63 with value: 0.02183613313753591.\u001b[0m\n"
     ]
    },
    {
     "name": "stdout",
     "output_type": "stream",
     "text": [
      "[18:11:10] WARNING: C:\\Users\\Administrator\\workspace\\xgboost-win64_release_1.1.0\\src\\learner.cc:480: \n",
      "Parameters: { min_child_samples, num_leaves } might not be used.\n",
      "\n",
      "  This may not be accurate due to some parameters are only used in language bindings but\n",
      "  passed down to XGBoost core.  Or some parameters are not used but slip through this\n",
      "  verification. Please open an issue if you find above cases.\n",
      "\n",
      "\n"
     ]
    },
    {
     "name": "stderr",
     "output_type": "stream",
     "text": [
      "\u001b[32m[I 2021-05-11 18:11:15,384]\u001b[0m Trial 82 finished with value: 0.022114922510286218 and parameters: {'max_depth': 40, 'num_leaves': 9, 'learning_rate': 0.1, 'min_child_samples': 257, 'min_child_weight': 0.001, 'subsample': 0.5695249662724441, 'colsample_bytree': 0.4231505468252846, 'reg_alpha': 2, 'reg_lambda': 20}. Best is trial 63 with value: 0.02183613313753591.\u001b[0m\n"
     ]
    },
    {
     "name": "stdout",
     "output_type": "stream",
     "text": [
      "[18:11:15] WARNING: C:\\Users\\Administrator\\workspace\\xgboost-win64_release_1.1.0\\src\\learner.cc:480: \n",
      "Parameters: { min_child_samples, num_leaves } might not be used.\n",
      "\n",
      "  This may not be accurate due to some parameters are only used in language bindings but\n",
      "  passed down to XGBoost core.  Or some parameters are not used but slip through this\n",
      "  verification. Please open an issue if you find above cases.\n",
      "\n",
      "\n"
     ]
    },
    {
     "name": "stderr",
     "output_type": "stream",
     "text": [
      "\u001b[32m[I 2021-05-11 18:11:19,498]\u001b[0m Trial 83 finished with value: 0.022186488379650066 and parameters: {'max_depth': 41, 'num_leaves': 11, 'learning_rate': 0.1, 'min_child_samples': 289, 'min_child_weight': 0.001, 'subsample': 0.4794065857363255, 'colsample_bytree': 0.41425899204156863, 'reg_alpha': 2, 'reg_lambda': 20}. Best is trial 63 with value: 0.02183613313753591.\u001b[0m\n"
     ]
    },
    {
     "name": "stdout",
     "output_type": "stream",
     "text": [
      "[18:11:19] WARNING: C:\\Users\\Administrator\\workspace\\xgboost-win64_release_1.1.0\\src\\learner.cc:480: \n",
      "Parameters: { min_child_samples, num_leaves } might not be used.\n",
      "\n",
      "  This may not be accurate due to some parameters are only used in language bindings but\n",
      "  passed down to XGBoost core.  Or some parameters are not used but slip through this\n",
      "  verification. Please open an issue if you find above cases.\n",
      "\n",
      "\n"
     ]
    },
    {
     "name": "stderr",
     "output_type": "stream",
     "text": [
      "\u001b[32m[I 2021-05-11 18:11:24,142]\u001b[0m Trial 84 finished with value: 0.022381281818714346 and parameters: {'max_depth': 38, 'num_leaves': 32, 'learning_rate': 0.1, 'min_child_samples': 279, 'min_child_weight': 0.001, 'subsample': 0.6459792578309436, 'colsample_bytree': 0.44267067927693654, 'reg_alpha': 2, 'reg_lambda': 20}. Best is trial 63 with value: 0.02183613313753591.\u001b[0m\n"
     ]
    },
    {
     "name": "stdout",
     "output_type": "stream",
     "text": [
      "[18:11:24] WARNING: C:\\Users\\Administrator\\workspace\\xgboost-win64_release_1.1.0\\src\\learner.cc:480: \n",
      "Parameters: { min_child_samples, num_leaves } might not be used.\n",
      "\n",
      "  This may not be accurate due to some parameters are only used in language bindings but\n",
      "  passed down to XGBoost core.  Or some parameters are not used but slip through this\n",
      "  verification. Please open an issue if you find above cases.\n",
      "\n",
      "\n"
     ]
    },
    {
     "name": "stderr",
     "output_type": "stream",
     "text": [
      "\u001b[32m[I 2021-05-11 18:11:29,409]\u001b[0m Trial 85 finished with value: 0.02268562645429075 and parameters: {'max_depth': 43, 'num_leaves': 21, 'learning_rate': 0.1, 'min_child_samples': 267, 'min_child_weight': 0.001, 'subsample': 0.5307559712181177, 'colsample_bytree': 0.40870942795266546, 'reg_alpha': 1, 'reg_lambda': 5}. Best is trial 63 with value: 0.02183613313753591.\u001b[0m\n"
     ]
    },
    {
     "name": "stdout",
     "output_type": "stream",
     "text": [
      "[18:11:29] WARNING: C:\\Users\\Administrator\\workspace\\xgboost-win64_release_1.1.0\\src\\learner.cc:480: \n",
      "Parameters: { min_child_samples, num_leaves } might not be used.\n",
      "\n",
      "  This may not be accurate due to some parameters are only used in language bindings but\n",
      "  passed down to XGBoost core.  Or some parameters are not used but slip through this\n",
      "  verification. Please open an issue if you find above cases.\n",
      "\n",
      "\n"
     ]
    },
    {
     "name": "stderr",
     "output_type": "stream",
     "text": [
      "\u001b[32m[I 2021-05-11 18:11:30,531]\u001b[0m Trial 86 finished with value: 0.16290787616103303 and parameters: {'max_depth': 42, 'num_leaves': 19, 'learning_rate': 0.1, 'min_child_samples': 337, 'min_child_weight': 10000.0, 'subsample': 0.45275812058718584, 'colsample_bytree': 0.4348665312885873, 'reg_alpha': 0, 'reg_lambda': 100}. Best is trial 63 with value: 0.02183613313753591.\u001b[0m\n"
     ]
    },
    {
     "name": "stdout",
     "output_type": "stream",
     "text": [
      "[18:11:30] WARNING: C:\\Users\\Administrator\\workspace\\xgboost-win64_release_1.1.0\\src\\learner.cc:480: \n",
      "Parameters: { min_child_samples, num_leaves } might not be used.\n",
      "\n",
      "  This may not be accurate due to some parameters are only used in language bindings but\n",
      "  passed down to XGBoost core.  Or some parameters are not used but slip through this\n",
      "  verification. Please open an issue if you find above cases.\n",
      "\n",
      "\n"
     ]
    },
    {
     "name": "stderr",
     "output_type": "stream",
     "text": [
      "\u001b[32m[I 2021-05-11 18:11:31,787]\u001b[0m Trial 87 finished with value: 5.624418281264873 and parameters: {'max_depth': 28, 'num_leaves': 6, 'learning_rate': 0.001, 'min_child_samples': 307, 'min_child_weight': 10.0, 'subsample': 0.592419083829702, 'colsample_bytree': 0.42024989361022086, 'reg_alpha': 0.1, 'reg_lambda': 20}. Best is trial 63 with value: 0.02183613313753591.\u001b[0m\n"
     ]
    },
    {
     "name": "stdout",
     "output_type": "stream",
     "text": [
      "[18:11:31] WARNING: C:\\Users\\Administrator\\workspace\\xgboost-win64_release_1.1.0\\src\\learner.cc:480: \n",
      "Parameters: { min_child_samples, num_leaves } might not be used.\n",
      "\n",
      "  This may not be accurate due to some parameters are only used in language bindings but\n",
      "  passed down to XGBoost core.  Or some parameters are not used but slip through this\n",
      "  verification. Please open an issue if you find above cases.\n",
      "\n",
      "\n"
     ]
    },
    {
     "name": "stderr",
     "output_type": "stream",
     "text": [
      "\u001b[32m[I 2021-05-11 18:11:35,558]\u001b[0m Trial 88 finished with value: 0.022112790386359747 and parameters: {'max_depth': 36, 'num_leaves': 33, 'learning_rate': 0.1, 'min_child_samples': 353, 'min_child_weight': 0.01, 'subsample': 0.46682435497468816, 'colsample_bytree': 0.4302431179383029, 'reg_alpha': 100, 'reg_lambda': 20}. Best is trial 63 with value: 0.02183613313753591.\u001b[0m\n"
     ]
    },
    {
     "name": "stdout",
     "output_type": "stream",
     "text": [
      "[18:11:35] WARNING: C:\\Users\\Administrator\\workspace\\xgboost-win64_release_1.1.0\\src\\learner.cc:480: \n",
      "Parameters: { min_child_samples, num_leaves } might not be used.\n",
      "\n",
      "  This may not be accurate due to some parameters are only used in language bindings but\n",
      "  passed down to XGBoost core.  Or some parameters are not used but slip through this\n",
      "  verification. Please open an issue if you find above cases.\n",
      "\n",
      "\n"
     ]
    },
    {
     "name": "stderr",
     "output_type": "stream",
     "text": [
      "\u001b[32m[I 2021-05-11 18:11:42,781]\u001b[0m Trial 89 finished with value: 0.024942950373025265 and parameters: {'max_depth': 40, 'num_leaves': 13, 'learning_rate': 0.1, 'min_child_samples': 422, 'min_child_weight': 0.001, 'subsample': 0.4120442993956881, 'colsample_bytree': 0.40433087237102616, 'reg_alpha': 2, 'reg_lambda': 0.1}. Best is trial 63 with value: 0.02183613313753591.\u001b[0m\n"
     ]
    },
    {
     "name": "stdout",
     "output_type": "stream",
     "text": [
      "[18:11:42] WARNING: C:\\Users\\Administrator\\workspace\\xgboost-win64_release_1.1.0\\src\\learner.cc:480: \n",
      "Parameters: { min_child_samples, num_leaves } might not be used.\n",
      "\n",
      "  This may not be accurate due to some parameters are only used in language bindings but\n",
      "  passed down to XGBoost core.  Or some parameters are not used but slip through this\n",
      "  verification. Please open an issue if you find above cases.\n",
      "\n",
      "\n"
     ]
    },
    {
     "name": "stderr",
     "output_type": "stream",
     "text": [
      "\u001b[32m[I 2021-05-11 18:11:47,065]\u001b[0m Trial 90 finished with value: 0.022046987263227444 and parameters: {'max_depth': 41, 'num_leaves': 17, 'learning_rate': 0.1, 'min_child_samples': 378, 'min_child_weight': 1, 'subsample': 0.5155351976835394, 'colsample_bytree': 0.41349451872582976, 'reg_alpha': 5, 'reg_lambda': 20}. Best is trial 63 with value: 0.02183613313753591.\u001b[0m\n"
     ]
    },
    {
     "name": "stdout",
     "output_type": "stream",
     "text": [
      "[18:11:47] WARNING: C:\\Users\\Administrator\\workspace\\xgboost-win64_release_1.1.0\\src\\learner.cc:480: \n",
      "Parameters: { min_child_samples, num_leaves } might not be used.\n",
      "\n",
      "  This may not be accurate due to some parameters are only used in language bindings but\n",
      "  passed down to XGBoost core.  Or some parameters are not used but slip through this\n",
      "  verification. Please open an issue if you find above cases.\n",
      "\n",
      "\n"
     ]
    },
    {
     "name": "stderr",
     "output_type": "stream",
     "text": [
      "\u001b[32m[I 2021-05-11 18:11:51,543]\u001b[0m Trial 91 finished with value: 0.022063503235741657 and parameters: {'max_depth': 39, 'num_leaves': 11, 'learning_rate': 0.1, 'min_child_samples': 314, 'min_child_weight': 1, 'subsample': 0.5566013406661723, 'colsample_bytree': 0.41301726069004924, 'reg_alpha': 2, 'reg_lambda': 20}. Best is trial 63 with value: 0.02183613313753591.\u001b[0m\n"
     ]
    },
    {
     "name": "stdout",
     "output_type": "stream",
     "text": [
      "[18:11:51] WARNING: C:\\Users\\Administrator\\workspace\\xgboost-win64_release_1.1.0\\src\\learner.cc:480: \n",
      "Parameters: { min_child_samples, num_leaves } might not be used.\n",
      "\n",
      "  This may not be accurate due to some parameters are only used in language bindings but\n",
      "  passed down to XGBoost core.  Or some parameters are not used but slip through this\n",
      "  verification. Please open an issue if you find above cases.\n",
      "\n",
      "\n"
     ]
    },
    {
     "name": "stderr",
     "output_type": "stream",
     "text": [
      "\u001b[32m[I 2021-05-11 18:11:56,160]\u001b[0m Trial 92 finished with value: 0.022056330850067286 and parameters: {'max_depth': 46, 'num_leaves': 10, 'learning_rate': 0.1, 'min_child_samples': 301, 'min_child_weight': 1, 'subsample': 0.6080321552645148, 'colsample_bytree': 0.41824098301107626, 'reg_alpha': 2, 'reg_lambda': 20}. Best is trial 63 with value: 0.02183613313753591.\u001b[0m\n"
     ]
    },
    {
     "name": "stdout",
     "output_type": "stream",
     "text": [
      "[18:11:56] WARNING: C:\\Users\\Administrator\\workspace\\xgboost-win64_release_1.1.0\\src\\learner.cc:480: \n",
      "Parameters: { min_child_samples, num_leaves } might not be used.\n",
      "\n",
      "  This may not be accurate due to some parameters are only used in language bindings but\n",
      "  passed down to XGBoost core.  Or some parameters are not used but slip through this\n",
      "  verification. Please open an issue if you find above cases.\n",
      "\n",
      "\n"
     ]
    },
    {
     "name": "stderr",
     "output_type": "stream",
     "text": [
      "\u001b[32m[I 2021-05-11 18:12:00,514]\u001b[0m Trial 93 finished with value: 0.022132363123668276 and parameters: {'max_depth': 39, 'num_leaves': 9, 'learning_rate': 0.1, 'min_child_samples': 316, 'min_child_weight': 1, 'subsample': 0.5653728895668759, 'colsample_bytree': 0.4101412078984957, 'reg_alpha': 2, 'reg_lambda': 20}. Best is trial 63 with value: 0.02183613313753591.\u001b[0m\n"
     ]
    },
    {
     "name": "stdout",
     "output_type": "stream",
     "text": [
      "[18:12:00] WARNING: C:\\Users\\Administrator\\workspace\\xgboost-win64_release_1.1.0\\src\\learner.cc:480: \n",
      "Parameters: { min_child_samples, num_leaves } might not be used.\n",
      "\n",
      "  This may not be accurate due to some parameters are only used in language bindings but\n",
      "  passed down to XGBoost core.  Or some parameters are not used but slip through this\n",
      "  verification. Please open an issue if you find above cases.\n",
      "\n",
      "\n"
     ]
    },
    {
     "name": "stderr",
     "output_type": "stream",
     "text": [
      "\u001b[32m[I 2021-05-11 18:12:03,524]\u001b[0m Trial 94 finished with value: 0.022758460924448453 and parameters: {'max_depth': 33, 'num_leaves': 12, 'learning_rate': 0.1, 'min_child_samples': 266, 'min_child_weight': 1, 'subsample': 0.43409189225208494, 'colsample_bytree': 0.4541959970829276, 'reg_alpha': 2, 'reg_lambda': 50}. Best is trial 63 with value: 0.02183613313753591.\u001b[0m\n"
     ]
    },
    {
     "name": "stdout",
     "output_type": "stream",
     "text": [
      "[18:12:03] WARNING: C:\\Users\\Administrator\\workspace\\xgboost-win64_release_1.1.0\\src\\learner.cc:480: \n",
      "Parameters: { min_child_samples, num_leaves } might not be used.\n",
      "\n",
      "  This may not be accurate due to some parameters are only used in language bindings but\n",
      "  passed down to XGBoost core.  Or some parameters are not used but slip through this\n",
      "  verification. Please open an issue if you find above cases.\n",
      "\n",
      "\n"
     ]
    },
    {
     "name": "stderr",
     "output_type": "stream",
     "text": [
      "\u001b[32m[I 2021-05-11 18:12:07,513]\u001b[0m Trial 95 finished with value: 0.02196400771178365 and parameters: {'max_depth': 43, 'num_leaves': 7, 'learning_rate': 0.1, 'min_child_samples': 365, 'min_child_weight': 1e-05, 'subsample': 0.4944553815755534, 'colsample_bytree': 0.42562037097405775, 'reg_alpha': 100, 'reg_lambda': 20}. Best is trial 63 with value: 0.02183613313753591.\u001b[0m\n"
     ]
    },
    {
     "name": "stdout",
     "output_type": "stream",
     "text": [
      "[18:12:07] WARNING: C:\\Users\\Administrator\\workspace\\xgboost-win64_release_1.1.0\\src\\learner.cc:480: \n",
      "Parameters: { min_child_samples, num_leaves } might not be used.\n",
      "\n",
      "  This may not be accurate due to some parameters are only used in language bindings but\n",
      "  passed down to XGBoost core.  Or some parameters are not used but slip through this\n",
      "  verification. Please open an issue if you find above cases.\n",
      "\n",
      "\n"
     ]
    },
    {
     "name": "stderr",
     "output_type": "stream",
     "text": [
      "\u001b[32m[I 2021-05-11 18:12:11,485]\u001b[0m Trial 96 finished with value: 0.022030846732169138 and parameters: {'max_depth': 43, 'num_leaves': 8, 'learning_rate': 0.1, 'min_child_samples': 367, 'min_child_weight': 1e-05, 'subsample': 0.5038078894010483, 'colsample_bytree': 0.4232254440275232, 'reg_alpha': 100, 'reg_lambda': 20}. Best is trial 63 with value: 0.02183613313753591.\u001b[0m\n"
     ]
    },
    {
     "name": "stdout",
     "output_type": "stream",
     "text": [
      "[18:12:11] WARNING: C:\\Users\\Administrator\\workspace\\xgboost-win64_release_1.1.0\\src\\learner.cc:480: \n",
      "Parameters: { min_child_samples, num_leaves } might not be used.\n",
      "\n",
      "  This may not be accurate due to some parameters are only used in language bindings but\n",
      "  passed down to XGBoost core.  Or some parameters are not used but slip through this\n",
      "  verification. Please open an issue if you find above cases.\n",
      "\n",
      "\n"
     ]
    },
    {
     "name": "stderr",
     "output_type": "stream",
     "text": [
      "\u001b[32m[I 2021-05-11 18:12:15,637]\u001b[0m Trial 97 finished with value: 0.022453364747489463 and parameters: {'max_depth': 45, 'num_leaves': 7, 'learning_rate': 0.1, 'min_child_samples': 351, 'min_child_weight': 1e-05, 'subsample': 0.4902759850456087, 'colsample_bytree': 0.4980006556724292, 'reg_alpha': 100, 'reg_lambda': 20}. Best is trial 63 with value: 0.02183613313753591.\u001b[0m\n"
     ]
    },
    {
     "name": "stdout",
     "output_type": "stream",
     "text": [
      "[18:12:15] WARNING: C:\\Users\\Administrator\\workspace\\xgboost-win64_release_1.1.0\\src\\learner.cc:480: \n",
      "Parameters: { min_child_samples, num_leaves } might not be used.\n",
      "\n",
      "  This may not be accurate due to some parameters are only used in language bindings but\n",
      "  passed down to XGBoost core.  Or some parameters are not used but slip through this\n",
      "  verification. Please open an issue if you find above cases.\n",
      "\n",
      "\n"
     ]
    },
    {
     "name": "stderr",
     "output_type": "stream",
     "text": [
      "\u001b[32m[I 2021-05-11 18:12:23,359]\u001b[0m Trial 98 finished with value: 0.02627232074849338 and parameters: {'max_depth': 48, 'num_leaves': 26, 'learning_rate': 0.1, 'min_child_samples': 413, 'min_child_weight': 1e-05, 'subsample': 0.4440768308382694, 'colsample_bytree': 0.43894895748807494, 'reg_alpha': 100, 'reg_lambda': 0}. Best is trial 63 with value: 0.02183613313753591.\u001b[0m\n"
     ]
    },
    {
     "name": "stdout",
     "output_type": "stream",
     "text": [
      "[18:12:23] WARNING: C:\\Users\\Administrator\\workspace\\xgboost-win64_release_1.1.0\\src\\learner.cc:480: \n",
      "Parameters: { min_child_samples, num_leaves } might not be used.\n",
      "\n",
      "  This may not be accurate due to some parameters are only used in language bindings but\n",
      "  passed down to XGBoost core.  Or some parameters are not used but slip through this\n",
      "  verification. Please open an issue if you find above cases.\n",
      "\n",
      "\n"
     ]
    },
    {
     "name": "stderr",
     "output_type": "stream",
     "text": [
      "\u001b[32m[I 2021-05-11 18:12:30,332]\u001b[0m Trial 99 finished with value: 0.024001234312528753 and parameters: {'max_depth': 42, 'num_leaves': 18, 'learning_rate': 0.1, 'min_child_samples': 398, 'min_child_weight': 1e-05, 'subsample': 0.5435904530822027, 'colsample_bytree': 0.4260584840600963, 'reg_alpha': 100, 'reg_lambda': 1}. Best is trial 63 with value: 0.02183613313753591.\u001b[0m\n"
     ]
    },
    {
     "name": "stdout",
     "output_type": "stream",
     "text": [
      "[18:12:30] WARNING: C:\\Users\\Administrator\\workspace\\xgboost-win64_release_1.1.0\\src\\learner.cc:480: \n",
      "Parameters: { min_child_samples, num_leaves } might not be used.\n",
      "\n",
      "  This may not be accurate due to some parameters are only used in language bindings but\n",
      "  passed down to XGBoost core.  Or some parameters are not used but slip through this\n",
      "  verification. Please open an issue if you find above cases.\n",
      "\n",
      "\n"
     ]
    },
    {
     "name": "stderr",
     "output_type": "stream",
     "text": [
      "\u001b[32m[I 2021-05-11 18:12:31,282]\u001b[0m Trial 100 finished with value: 0.3152839694118793 and parameters: {'max_depth': 44, 'num_leaves': 19, 'learning_rate': 0.01, 'min_child_samples': 406, 'min_child_weight': 1000.0, 'subsample': 0.5244518804822598, 'colsample_bytree': 0.4157887147903116, 'reg_alpha': 100, 'reg_lambda': 20}. Best is trial 63 with value: 0.02183613313753591.\u001b[0m\n"
     ]
    },
    {
     "name": "stdout",
     "output_type": "stream",
     "text": [
      "[18:12:31] WARNING: C:\\Users\\Administrator\\workspace\\xgboost-win64_release_1.1.0\\src\\learner.cc:480: \n",
      "Parameters: { min_child_samples, num_leaves } might not be used.\n",
      "\n",
      "  This may not be accurate due to some parameters are only used in language bindings but\n",
      "  passed down to XGBoost core.  Or some parameters are not used but slip through this\n",
      "  verification. Please open an issue if you find above cases.\n",
      "\n",
      "\n"
     ]
    },
    {
     "name": "stderr",
     "output_type": "stream",
     "text": [
      "\u001b[32m[I 2021-05-11 18:12:35,194]\u001b[0m Trial 101 finished with value: 0.02181689957987176 and parameters: {'max_depth': 43, 'num_leaves': 7, 'learning_rate': 0.1, 'min_child_samples': 368, 'min_child_weight': 1e-05, 'subsample': 0.46248942484252625, 'colsample_bytree': 0.42333715223405216, 'reg_alpha': 100, 'reg_lambda': 20}. Best is trial 101 with value: 0.02181689957987176.\u001b[0m\n"
     ]
    },
    {
     "name": "stdout",
     "output_type": "stream",
     "text": [
      "[18:12:35] WARNING: C:\\Users\\Administrator\\workspace\\xgboost-win64_release_1.1.0\\src\\learner.cc:480: \n",
      "Parameters: { min_child_samples, num_leaves } might not be used.\n",
      "\n",
      "  This may not be accurate due to some parameters are only used in language bindings but\n",
      "  passed down to XGBoost core.  Or some parameters are not used but slip through this\n",
      "  verification. Please open an issue if you find above cases.\n",
      "\n",
      "\n"
     ]
    },
    {
     "name": "stderr",
     "output_type": "stream",
     "text": [
      "\u001b[32m[I 2021-05-11 18:12:38,693]\u001b[0m Trial 102 finished with value: 0.021881404801775965 and parameters: {'max_depth': 43, 'num_leaves': 7, 'learning_rate': 0.1, 'min_child_samples': 333, 'min_child_weight': 1e-05, 'subsample': 0.3925804101064985, 'colsample_bytree': 0.40292100799057295, 'reg_alpha': 100, 'reg_lambda': 20}. Best is trial 101 with value: 0.02181689957987176.\u001b[0m\n"
     ]
    },
    {
     "name": "stdout",
     "output_type": "stream",
     "text": [
      "[18:12:38] WARNING: C:\\Users\\Administrator\\workspace\\xgboost-win64_release_1.1.0\\src\\learner.cc:480: \n",
      "Parameters: { min_child_samples, num_leaves } might not be used.\n",
      "\n",
      "  This may not be accurate due to some parameters are only used in language bindings but\n",
      "  passed down to XGBoost core.  Or some parameters are not used but slip through this\n",
      "  verification. Please open an issue if you find above cases.\n",
      "\n",
      "\n"
     ]
    },
    {
     "name": "stderr",
     "output_type": "stream",
     "text": [
      "\u001b[32m[I 2021-05-11 18:12:41,973]\u001b[0m Trial 103 finished with value: 0.022169531501304237 and parameters: {'max_depth': 43, 'num_leaves': 7, 'learning_rate': 0.1, 'min_child_samples': 334, 'min_child_weight': 1e-05, 'subsample': 0.38780334372620145, 'colsample_bytree': 0.40284011112740237, 'reg_alpha': 100, 'reg_lambda': 20}. Best is trial 101 with value: 0.02181689957987176.\u001b[0m\n"
     ]
    },
    {
     "name": "stdout",
     "output_type": "stream",
     "text": [
      "[18:12:42] WARNING: C:\\Users\\Administrator\\workspace\\xgboost-win64_release_1.1.0\\src\\learner.cc:480: \n",
      "Parameters: { min_child_samples, num_leaves } might not be used.\n",
      "\n",
      "  This may not be accurate due to some parameters are only used in language bindings but\n",
      "  passed down to XGBoost core.  Or some parameters are not used but slip through this\n",
      "  verification. Please open an issue if you find above cases.\n",
      "\n",
      "\n"
     ]
    },
    {
     "name": "stderr",
     "output_type": "stream",
     "text": [
      "\u001b[32m[I 2021-05-11 18:12:45,415]\u001b[0m Trial 104 finished with value: 0.022347165693237563 and parameters: {'max_depth': 46, 'num_leaves': 6, 'learning_rate': 0.1, 'min_child_samples': 357, 'min_child_weight': 1e-05, 'subsample': 0.39470135846998905, 'colsample_bytree': 0.44425846257425844, 'reg_alpha': 100, 'reg_lambda': 20}. Best is trial 101 with value: 0.02181689957987176.\u001b[0m\n"
     ]
    },
    {
     "name": "stdout",
     "output_type": "stream",
     "text": [
      "[18:12:45] WARNING: C:\\Users\\Administrator\\workspace\\xgboost-win64_release_1.1.0\\src\\learner.cc:480: \n",
      "Parameters: { min_child_samples, num_leaves } might not be used.\n",
      "\n",
      "  This may not be accurate due to some parameters are only used in language bindings but\n",
      "  passed down to XGBoost core.  Or some parameters are not used but slip through this\n",
      "  verification. Please open an issue if you find above cases.\n",
      "\n",
      "\n"
     ]
    },
    {
     "name": "stderr",
     "output_type": "stream",
     "text": [
      "\u001b[32m[I 2021-05-11 18:12:49,408]\u001b[0m Trial 105 finished with value: 0.022142326026352546 and parameters: {'max_depth': 45, 'num_leaves': 10, 'learning_rate': 0.1, 'min_child_samples': 383, 'min_child_weight': 1e-05, 'subsample': 0.34976111447704705, 'colsample_bytree': 0.43285204066595, 'reg_alpha': 0, 'reg_lambda': 20}. Best is trial 101 with value: 0.02181689957987176.\u001b[0m\n"
     ]
    },
    {
     "name": "stdout",
     "output_type": "stream",
     "text": [
      "[18:12:49] WARNING: C:\\Users\\Administrator\\workspace\\xgboost-win64_release_1.1.0\\src\\learner.cc:480: \n",
      "Parameters: { min_child_samples, num_leaves } might not be used.\n",
      "\n",
      "  This may not be accurate due to some parameters are only used in language bindings but\n",
      "  passed down to XGBoost core.  Or some parameters are not used but slip through this\n",
      "  verification. Please open an issue if you find above cases.\n",
      "\n",
      "\n"
     ]
    },
    {
     "name": "stderr",
     "output_type": "stream",
     "text": [
      "\u001b[32m[I 2021-05-11 18:12:53,404]\u001b[0m Trial 106 finished with value: 0.022075344594458316 and parameters: {'max_depth': 41, 'num_leaves': 7, 'learning_rate': 0.1, 'min_child_samples': 344, 'min_child_weight': 1e-05, 'subsample': 0.4779795546833967, 'colsample_bytree': 0.40774755766859166, 'reg_alpha': 100, 'reg_lambda': 20}. Best is trial 101 with value: 0.02181689957987176.\u001b[0m\n"
     ]
    },
    {
     "name": "stdout",
     "output_type": "stream",
     "text": [
      "[18:12:53] WARNING: C:\\Users\\Administrator\\workspace\\xgboost-win64_release_1.1.0\\src\\learner.cc:480: \n",
      "Parameters: { min_child_samples, num_leaves } might not be used.\n",
      "\n",
      "  This may not be accurate due to some parameters are only used in language bindings but\n",
      "  passed down to XGBoost core.  Or some parameters are not used but slip through this\n",
      "  verification. Please open an issue if you find above cases.\n",
      "\n",
      "\n"
     ]
    },
    {
     "name": "stderr",
     "output_type": "stream",
     "text": [
      "\u001b[32m[I 2021-05-11 18:12:57,099]\u001b[0m Trial 107 finished with value: 0.02193839431815814 and parameters: {'max_depth': 44, 'num_leaves': 24, 'learning_rate': 0.1, 'min_child_samples': 366, 'min_child_weight': 1e-05, 'subsample': 0.42588823337418535, 'colsample_bytree': 0.420865993900136, 'reg_alpha': 10, 'reg_lambda': 20}. Best is trial 101 with value: 0.02181689957987176.\u001b[0m\n"
     ]
    },
    {
     "name": "stdout",
     "output_type": "stream",
     "text": [
      "[18:12:57] WARNING: C:\\Users\\Administrator\\workspace\\xgboost-win64_release_1.1.0\\src\\learner.cc:480: \n",
      "Parameters: { min_child_samples, num_leaves } might not be used.\n",
      "\n",
      "  This may not be accurate due to some parameters are only used in language bindings but\n",
      "  passed down to XGBoost core.  Or some parameters are not used but slip through this\n",
      "  verification. Please open an issue if you find above cases.\n",
      "\n",
      "\n"
     ]
    },
    {
     "name": "stderr",
     "output_type": "stream",
     "text": [
      "\u001b[32m[I 2021-05-11 18:13:00,829]\u001b[0m Trial 108 finished with value: 0.02222350352169127 and parameters: {'max_depth': 44, 'num_leaves': 24, 'learning_rate': 0.1, 'min_child_samples': 368, 'min_child_weight': 1e-05, 'subsample': 0.37763085627372106, 'colsample_bytree': 0.4202360835178487, 'reg_alpha': 10, 'reg_lambda': 20}. Best is trial 101 with value: 0.02181689957987176.\u001b[0m\n"
     ]
    },
    {
     "name": "stdout",
     "output_type": "stream",
     "text": [
      "[18:13:00] WARNING: C:\\Users\\Administrator\\workspace\\xgboost-win64_release_1.1.0\\src\\learner.cc:480: \n",
      "Parameters: { min_child_samples, num_leaves } might not be used.\n",
      "\n",
      "  This may not be accurate due to some parameters are only used in language bindings but\n",
      "  passed down to XGBoost core.  Or some parameters are not used but slip through this\n",
      "  verification. Please open an issue if you find above cases.\n",
      "\n",
      "\n"
     ]
    },
    {
     "name": "stderr",
     "output_type": "stream",
     "text": [
      "\u001b[32m[I 2021-05-11 18:13:04,527]\u001b[0m Trial 109 finished with value: 0.022274218466016498 and parameters: {'max_depth': 38, 'num_leaves': 28, 'learning_rate': 0.1, 'min_child_samples': 397, 'min_child_weight': 1e-05, 'subsample': 0.4333884762962416, 'colsample_bytree': 0.40476311463075104, 'reg_alpha': 10, 'reg_lambda': 20}. Best is trial 101 with value: 0.02181689957987176.\u001b[0m\n"
     ]
    },
    {
     "name": "stdout",
     "output_type": "stream",
     "text": [
      "[18:13:04] WARNING: C:\\Users\\Administrator\\workspace\\xgboost-win64_release_1.1.0\\src\\learner.cc:480: \n",
      "Parameters: { min_child_samples, num_leaves } might not be used.\n",
      "\n",
      "  This may not be accurate due to some parameters are only used in language bindings but\n",
      "  passed down to XGBoost core.  Or some parameters are not used but slip through this\n",
      "  verification. Please open an issue if you find above cases.\n",
      "\n",
      "\n"
     ]
    },
    {
     "name": "stderr",
     "output_type": "stream",
     "text": [
      "\u001b[32m[I 2021-05-11 18:13:06,213]\u001b[0m Trial 110 finished with value: 5.735932961239692 and parameters: {'max_depth': 48, 'num_leaves': 21, 'learning_rate': 0.001, 'min_child_samples': 327, 'min_child_weight': 1e-05, 'subsample': 0.4056507737210118, 'colsample_bytree': 0.42837450088936163, 'reg_alpha': 10, 'reg_lambda': 20}. Best is trial 101 with value: 0.02181689957987176.\u001b[0m\n"
     ]
    },
    {
     "name": "stdout",
     "output_type": "stream",
     "text": [
      "[18:13:06] WARNING: C:\\Users\\Administrator\\workspace\\xgboost-win64_release_1.1.0\\src\\learner.cc:480: \n",
      "Parameters: { min_child_samples, num_leaves } might not be used.\n",
      "\n",
      "  This may not be accurate due to some parameters are only used in language bindings but\n",
      "  passed down to XGBoost core.  Or some parameters are not used but slip through this\n",
      "  verification. Please open an issue if you find above cases.\n",
      "\n",
      "\n"
     ]
    },
    {
     "name": "stderr",
     "output_type": "stream",
     "text": [
      "\u001b[32m[I 2021-05-11 18:13:10,211]\u001b[0m Trial 111 finished with value: 0.02243351994267705 and parameters: {'max_depth': 43, 'num_leaves': 24, 'learning_rate': 0.1, 'min_child_samples': 380, 'min_child_weight': 1e-05, 'subsample': 0.4604866458609887, 'colsample_bytree': 0.42351786041866524, 'reg_alpha': 10, 'reg_lambda': 20}. Best is trial 101 with value: 0.02181689957987176.\u001b[0m\n"
     ]
    },
    {
     "name": "stdout",
     "output_type": "stream",
     "text": [
      "[18:13:10] WARNING: C:\\Users\\Administrator\\workspace\\xgboost-win64_release_1.1.0\\src\\learner.cc:480: \n",
      "Parameters: { min_child_samples, num_leaves } might not be used.\n",
      "\n",
      "  This may not be accurate due to some parameters are only used in language bindings but\n",
      "  passed down to XGBoost core.  Or some parameters are not used but slip through this\n",
      "  verification. Please open an issue if you find above cases.\n",
      "\n",
      "\n"
     ]
    },
    {
     "name": "stderr",
     "output_type": "stream",
     "text": [
      "\u001b[32m[I 2021-05-11 18:13:14,388]\u001b[0m Trial 112 finished with value: 0.022227181575410634 and parameters: {'max_depth': 45, 'num_leaves': 9, 'learning_rate': 0.1, 'min_child_samples': 362, 'min_child_weight': 1e-05, 'subsample': 0.48963436231464025, 'colsample_bytree': 0.4359164861406574, 'reg_alpha': 100, 'reg_lambda': 20}. Best is trial 101 with value: 0.02181689957987176.\u001b[0m\n"
     ]
    },
    {
     "name": "stdout",
     "output_type": "stream",
     "text": [
      "[18:13:14] WARNING: C:\\Users\\Administrator\\workspace\\xgboost-win64_release_1.1.0\\src\\learner.cc:480: \n",
      "Parameters: { min_child_samples, num_leaves } might not be used.\n",
      "\n",
      "  This may not be accurate due to some parameters are only used in language bindings but\n",
      "  passed down to XGBoost core.  Or some parameters are not used but slip through this\n",
      "  verification. Please open an issue if you find above cases.\n",
      "\n",
      "\n"
     ]
    },
    {
     "name": "stderr",
     "output_type": "stream",
     "text": [
      "\u001b[32m[I 2021-05-11 18:13:15,961]\u001b[0m Trial 113 finished with value: 0.034392328419060925 and parameters: {'max_depth': 44, 'num_leaves': 15, 'learning_rate': 0.1, 'min_child_samples': 373, 'min_child_weight': 100.0, 'subsample': 0.41423844002492727, 'colsample_bytree': 0.4175571614869896, 'reg_alpha': 7, 'reg_lambda': 20}. Best is trial 101 with value: 0.02181689957987176.\u001b[0m\n"
     ]
    },
    {
     "name": "stdout",
     "output_type": "stream",
     "text": [
      "[18:13:15] WARNING: C:\\Users\\Administrator\\workspace\\xgboost-win64_release_1.1.0\\src\\learner.cc:480: \n",
      "Parameters: { min_child_samples, num_leaves } might not be used.\n",
      "\n",
      "  This may not be accurate due to some parameters are only used in language bindings but\n",
      "  passed down to XGBoost core.  Or some parameters are not used but slip through this\n",
      "  verification. Please open an issue if you find above cases.\n",
      "\n",
      "\n"
     ]
    },
    {
     "name": "stderr",
     "output_type": "stream",
     "text": [
      "\u001b[32m[I 2021-05-11 18:13:20,114]\u001b[0m Trial 114 finished with value: 0.022267765717702438 and parameters: {'max_depth': 41, 'num_leaves': 21, 'learning_rate': 0.1, 'min_child_samples': 390, 'min_child_weight': 0.1, 'subsample': 0.4426362473387378, 'colsample_bytree': 0.43022698461150444, 'reg_alpha': 1, 'reg_lambda': 20}. Best is trial 101 with value: 0.02181689957987176.\u001b[0m\n"
     ]
    },
    {
     "name": "stdout",
     "output_type": "stream",
     "text": [
      "[18:13:20] WARNING: C:\\Users\\Administrator\\workspace\\xgboost-win64_release_1.1.0\\src\\learner.cc:480: \n",
      "Parameters: { min_child_samples, num_leaves } might not be used.\n",
      "\n",
      "  This may not be accurate due to some parameters are only used in language bindings but\n",
      "  passed down to XGBoost core.  Or some parameters are not used but slip through this\n",
      "  verification. Please open an issue if you find above cases.\n",
      "\n",
      "\n"
     ]
    },
    {
     "name": "stderr",
     "output_type": "stream",
     "text": [
      "\u001b[32m[I 2021-05-11 18:13:24,834]\u001b[0m Trial 115 finished with value: 0.022446172143991253 and parameters: {'max_depth': 40, 'num_leaves': 23, 'learning_rate': 0.1, 'min_child_samples': 413, 'min_child_weight': 1e-05, 'subsample': 0.5145649777100954, 'colsample_bytree': 0.4100200833932406, 'reg_alpha': 50, 'reg_lambda': 10}. Best is trial 101 with value: 0.02181689957987176.\u001b[0m\n"
     ]
    },
    {
     "name": "stdout",
     "output_type": "stream",
     "text": [
      "[18:13:24] WARNING: C:\\Users\\Administrator\\workspace\\xgboost-win64_release_1.1.0\\src\\learner.cc:480: \n",
      "Parameters: { min_child_samples, num_leaves } might not be used.\n",
      "\n",
      "  This may not be accurate due to some parameters are only used in language bindings but\n",
      "  passed down to XGBoost core.  Or some parameters are not used but slip through this\n",
      "  verification. Please open an issue if you find above cases.\n",
      "\n",
      "\n"
     ]
    },
    {
     "name": "stderr",
     "output_type": "stream",
     "text": [
      "\u001b[32m[I 2021-05-11 18:13:29,558]\u001b[0m Trial 116 finished with value: 0.02299683496618492 and parameters: {'max_depth': 42, 'num_leaves': 12, 'learning_rate': 0.1, 'min_child_samples': 427, 'min_child_weight': 0.01, 'subsample': 0.4292135729465323, 'colsample_bytree': 0.4243387482902528, 'reg_alpha': 100, 'reg_lambda': 5}. Best is trial 101 with value: 0.02181689957987176.\u001b[0m\n"
     ]
    },
    {
     "name": "stdout",
     "output_type": "stream",
     "text": [
      "[18:13:29] WARNING: C:\\Users\\Administrator\\workspace\\xgboost-win64_release_1.1.0\\src\\learner.cc:480: \n",
      "Parameters: { min_child_samples, num_leaves } might not be used.\n",
      "\n",
      "  This may not be accurate due to some parameters are only used in language bindings but\n",
      "  passed down to XGBoost core.  Or some parameters are not used but slip through this\n",
      "  verification. Please open an issue if you find above cases.\n",
      "\n",
      "\n"
     ]
    },
    {
     "name": "stderr",
     "output_type": "stream",
     "text": [
      "\u001b[32m[I 2021-05-11 18:13:32,612]\u001b[0m Trial 117 finished with value: 0.024144612668448303 and parameters: {'max_depth': 43, 'num_leaves': 8, 'learning_rate': 0.1, 'min_child_samples': 354, 'min_child_weight': 0.001, 'subsample': 0.5417152696133405, 'colsample_bytree': 0.40070220256234107, 'reg_alpha': 100, 'reg_lambda': 100}. Best is trial 101 with value: 0.02181689957987176.\u001b[0m\n"
     ]
    },
    {
     "name": "stdout",
     "output_type": "stream",
     "text": [
      "[18:13:32] WARNING: C:\\Users\\Administrator\\workspace\\xgboost-win64_release_1.1.0\\src\\learner.cc:480: \n",
      "Parameters: { min_child_samples, num_leaves } might not be used.\n",
      "\n",
      "  This may not be accurate due to some parameters are only used in language bindings but\n",
      "  passed down to XGBoost core.  Or some parameters are not used but slip through this\n",
      "  verification. Please open an issue if you find above cases.\n",
      "\n",
      "\n"
     ]
    },
    {
     "name": "stderr",
     "output_type": "stream",
     "text": [
      "\u001b[32m[I 2021-05-11 18:13:33,898]\u001b[0m Trial 118 finished with value: 0.16308724442910275 and parameters: {'max_depth': 47, 'num_leaves': 26, 'learning_rate': 0.1, 'min_child_samples': 285, 'min_child_weight': 10000.0, 'subsample': 0.37049591274276356, 'colsample_bytree': 0.5757174673867004, 'reg_alpha': 0, 'reg_lambda': 20}. Best is trial 101 with value: 0.02181689957987176.\u001b[0m\n"
     ]
    },
    {
     "name": "stdout",
     "output_type": "stream",
     "text": [
      "[18:13:33] WARNING: C:\\Users\\Administrator\\workspace\\xgboost-win64_release_1.1.0\\src\\learner.cc:480: \n",
      "Parameters: { min_child_samples, num_leaves } might not be used.\n",
      "\n",
      "  This may not be accurate due to some parameters are only used in language bindings but\n",
      "  passed down to XGBoost core.  Or some parameters are not used but slip through this\n",
      "  verification. Please open an issue if you find above cases.\n",
      "\n",
      "\n"
     ]
    },
    {
     "name": "stderr",
     "output_type": "stream",
     "text": [
      "\u001b[32m[I 2021-05-11 18:13:38,663]\u001b[0m Trial 119 finished with value: 0.02207456394520046 and parameters: {'max_depth': 45, 'num_leaves': 6, 'learning_rate': 0.1, 'min_child_samples': 341, 'min_child_weight': 1e-05, 'subsample': 0.47206837398988716, 'colsample_bytree': 0.41653018372283285, 'reg_alpha': 100, 'reg_lambda': 20}. Best is trial 101 with value: 0.02181689957987176.\u001b[0m\n"
     ]
    },
    {
     "name": "stdout",
     "output_type": "stream",
     "text": [
      "[18:13:38] WARNING: C:\\Users\\Administrator\\workspace\\xgboost-win64_release_1.1.0\\src\\learner.cc:480: \n",
      "Parameters: { min_child_samples, num_leaves } might not be used.\n",
      "\n",
      "  This may not be accurate due to some parameters are only used in language bindings but\n",
      "  passed down to XGBoost core.  Or some parameters are not used but slip through this\n",
      "  verification. Please open an issue if you find above cases.\n",
      "\n",
      "\n"
     ]
    },
    {
     "name": "stderr",
     "output_type": "stream",
     "text": [
      "\u001b[32m[I 2021-05-11 18:13:43,277]\u001b[0m Trial 120 finished with value: 0.02203201623448866 and parameters: {'max_depth': 41, 'num_leaves': 19, 'learning_rate': 0.1, 'min_child_samples': 384, 'min_child_weight': 0.001, 'subsample': 0.50169051356576, 'colsample_bytree': 0.40686502299736405, 'reg_alpha': 100, 'reg_lambda': 20}. Best is trial 101 with value: 0.02181689957987176.\u001b[0m\n"
     ]
    },
    {
     "name": "stdout",
     "output_type": "stream",
     "text": [
      "[18:13:43] WARNING: C:\\Users\\Administrator\\workspace\\xgboost-win64_release_1.1.0\\src\\learner.cc:480: \n",
      "Parameters: { min_child_samples, num_leaves } might not be used.\n",
      "\n",
      "  This may not be accurate due to some parameters are only used in language bindings but\n",
      "  passed down to XGBoost core.  Or some parameters are not used but slip through this\n",
      "  verification. Please open an issue if you find above cases.\n",
      "\n",
      "\n"
     ]
    },
    {
     "name": "stderr",
     "output_type": "stream",
     "text": [
      "\u001b[32m[I 2021-05-11 18:13:47,000]\u001b[0m Trial 121 finished with value: 0.0223264787957314 and parameters: {'max_depth': 42, 'num_leaves': 10, 'learning_rate': 0.1, 'min_child_samples': 306, 'min_child_weight': 1, 'subsample': 0.4564268219066327, 'colsample_bytree': 0.41116956610856237, 'reg_alpha': 100, 'reg_lambda': 20}. Best is trial 101 with value: 0.02181689957987176.\u001b[0m\n"
     ]
    },
    {
     "name": "stdout",
     "output_type": "stream",
     "text": [
      "[18:13:47] WARNING: C:\\Users\\Administrator\\workspace\\xgboost-win64_release_1.1.0\\src\\learner.cc:480: \n",
      "Parameters: { min_child_samples, num_leaves } might not be used.\n",
      "\n",
      "  This may not be accurate due to some parameters are only used in language bindings but\n",
      "  passed down to XGBoost core.  Or some parameters are not used but slip through this\n",
      "  verification. Please open an issue if you find above cases.\n",
      "\n",
      "\n"
     ]
    },
    {
     "name": "stderr",
     "output_type": "stream",
     "text": [
      "\u001b[32m[I 2021-05-11 18:13:50,449]\u001b[0m Trial 122 finished with value: 0.021820006917567584 and parameters: {'max_depth': 44, 'num_leaves': 8, 'learning_rate': 0.1, 'min_child_samples': 295, 'min_child_weight': 1, 'subsample': 0.4233560002252856, 'colsample_bytree': 0.42021699057386397, 'reg_alpha': 100, 'reg_lambda': 20}. Best is trial 101 with value: 0.02181689957987176.\u001b[0m\n"
     ]
    },
    {
     "name": "stdout",
     "output_type": "stream",
     "text": [
      "[18:13:50] WARNING: C:\\Users\\Administrator\\workspace\\xgboost-win64_release_1.1.0\\src\\learner.cc:480: \n",
      "Parameters: { min_child_samples, num_leaves } might not be used.\n",
      "\n",
      "  This may not be accurate due to some parameters are only used in language bindings but\n",
      "  passed down to XGBoost core.  Or some parameters are not used but slip through this\n",
      "  verification. Please open an issue if you find above cases.\n",
      "\n",
      "\n"
     ]
    },
    {
     "name": "stderr",
     "output_type": "stream",
     "text": [
      "\u001b[32m[I 2021-05-11 18:13:53,893]\u001b[0m Trial 123 finished with value: 0.022068659754841572 and parameters: {'max_depth': 44, 'num_leaves': 7, 'learning_rate': 0.1, 'min_child_samples': 297, 'min_child_weight': 1, 'subsample': 0.42206514997835415, 'colsample_bytree': 0.4201389399695669, 'reg_alpha': 100, 'reg_lambda': 20}. Best is trial 101 with value: 0.02181689957987176.\u001b[0m\n"
     ]
    },
    {
     "name": "stdout",
     "output_type": "stream",
     "text": [
      "[18:13:53] WARNING: C:\\Users\\Administrator\\workspace\\xgboost-win64_release_1.1.0\\src\\learner.cc:480: \n",
      "Parameters: { min_child_samples, num_leaves } might not be used.\n",
      "\n",
      "  This may not be accurate due to some parameters are only used in language bindings but\n",
      "  passed down to XGBoost core.  Or some parameters are not used but slip through this\n",
      "  verification. Please open an issue if you find above cases.\n",
      "\n",
      "\n"
     ]
    },
    {
     "name": "stderr",
     "output_type": "stream",
     "text": [
      "\u001b[32m[I 2021-05-11 18:14:01,665]\u001b[0m Trial 124 finished with value: 0.02522895997798904 and parameters: {'max_depth': 46, 'num_leaves': 17, 'learning_rate': 0.1, 'min_child_samples': 274, 'min_child_weight': 1, 'subsample': 0.399218839115316, 'colsample_bytree': 0.4258122716655608, 'reg_alpha': 100, 'reg_lambda': 0.1}. Best is trial 101 with value: 0.02181689957987176.\u001b[0m\n"
     ]
    },
    {
     "name": "stdout",
     "output_type": "stream",
     "text": [
      "[18:14:01] WARNING: C:\\Users\\Administrator\\workspace\\xgboost-win64_release_1.1.0\\src\\learner.cc:480: \n",
      "Parameters: { min_child_samples, num_leaves } might not be used.\n",
      "\n",
      "  This may not be accurate due to some parameters are only used in language bindings but\n",
      "  passed down to XGBoost core.  Or some parameters are not used but slip through this\n",
      "  verification. Please open an issue if you find above cases.\n",
      "\n",
      "\n"
     ]
    },
    {
     "name": "stderr",
     "output_type": "stream",
     "text": [
      "\u001b[32m[I 2021-05-11 18:14:06,163]\u001b[0m Trial 125 finished with value: 0.021925497656833107 and parameters: {'max_depth': 44, 'num_leaves': 14, 'learning_rate': 0.1, 'min_child_samples': 375, 'min_child_weight': 0.01, 'subsample': 0.5797395334712153, 'colsample_bytree': 0.4150505754146254, 'reg_alpha': 1, 'reg_lambda': 20}. Best is trial 101 with value: 0.02181689957987176.\u001b[0m\n"
     ]
    },
    {
     "name": "stdout",
     "output_type": "stream",
     "text": [
      "[18:14:06] WARNING: C:\\Users\\Administrator\\workspace\\xgboost-win64_release_1.1.0\\src\\learner.cc:480: \n",
      "Parameters: { min_child_samples, num_leaves } might not be used.\n",
      "\n",
      "  This may not be accurate due to some parameters are only used in language bindings but\n",
      "  passed down to XGBoost core.  Or some parameters are not used but slip through this\n",
      "  verification. Please open an issue if you find above cases.\n",
      "\n",
      "\n"
     ]
    },
    {
     "name": "stderr",
     "output_type": "stream",
     "text": [
      "\u001b[32m[I 2021-05-11 18:14:10,534]\u001b[0m Trial 126 finished with value: 0.02226120265872765 and parameters: {'max_depth': 45, 'num_leaves': 14, 'learning_rate': 0.1, 'min_child_samples': 395, 'min_child_weight': 0.01, 'subsample': 0.5803124181479219, 'colsample_bytree': 0.4147921123794461, 'reg_alpha': 1, 'reg_lambda': 20}. Best is trial 101 with value: 0.02181689957987176.\u001b[0m\n"
     ]
    },
    {
     "name": "stdout",
     "output_type": "stream",
     "text": [
      "[18:14:10] WARNING: C:\\Users\\Administrator\\workspace\\xgboost-win64_release_1.1.0\\src\\learner.cc:480: \n",
      "Parameters: { min_child_samples, num_leaves } might not be used.\n",
      "\n",
      "  This may not be accurate due to some parameters are only used in language bindings but\n",
      "  passed down to XGBoost core.  Or some parameters are not used but slip through this\n",
      "  verification. Please open an issue if you find above cases.\n",
      "\n",
      "\n"
     ]
    },
    {
     "name": "stderr",
     "output_type": "stream",
     "text": [
      "\u001b[32m[I 2021-05-11 18:14:15,252]\u001b[0m Trial 127 finished with value: 0.022135659666856683 and parameters: {'max_depth': 40, 'num_leaves': 13, 'learning_rate': 0.1, 'min_child_samples': 320, 'min_child_weight': 0.01, 'subsample': 0.6249128281868795, 'colsample_bytree': 0.4220206223994517, 'reg_alpha': 1, 'reg_lambda': 20}. Best is trial 101 with value: 0.02181689957987176.\u001b[0m\n"
     ]
    },
    {
     "name": "stdout",
     "output_type": "stream",
     "text": [
      "[18:14:15] WARNING: C:\\Users\\Administrator\\workspace\\xgboost-win64_release_1.1.0\\src\\learner.cc:480: \n",
      "Parameters: { min_child_samples, num_leaves } might not be used.\n",
      "\n",
      "  This may not be accurate due to some parameters are only used in language bindings but\n",
      "  passed down to XGBoost core.  Or some parameters are not used but slip through this\n",
      "  verification. Please open an issue if you find above cases.\n",
      "\n",
      "\n"
     ]
    },
    {
     "name": "stderr",
     "output_type": "stream",
     "text": [
      "\u001b[32m[I 2021-05-11 18:14:18,951]\u001b[0m Trial 128 finished with value: 0.022710981869372177 and parameters: {'max_depth': 47, 'num_leaves': 14, 'learning_rate': 0.1, 'min_child_samples': 363, 'min_child_weight': 0.01, 'subsample': 0.5949645380245714, 'colsample_bytree': 0.4044643108853633, 'reg_alpha': 1, 'reg_lambda': 50}. Best is trial 101 with value: 0.02181689957987176.\u001b[0m\n"
     ]
    },
    {
     "name": "stdout",
     "output_type": "stream",
     "text": [
      "[18:14:18] WARNING: C:\\Users\\Administrator\\workspace\\xgboost-win64_release_1.1.0\\src\\learner.cc:480: \n",
      "Parameters: { min_child_samples, num_leaves } might not be used.\n",
      "\n",
      "  This may not be accurate due to some parameters are only used in language bindings but\n",
      "  passed down to XGBoost core.  Or some parameters are not used but slip through this\n",
      "  verification. Please open an issue if you find above cases.\n",
      "\n",
      "\n"
     ]
    },
    {
     "name": "stderr",
     "output_type": "stream",
     "text": [
      "\u001b[32m[I 2021-05-11 18:14:21,461]\u001b[0m Trial 129 finished with value: 0.02301360528451338 and parameters: {'max_depth': 44, 'num_leaves': 9, 'learning_rate': 0.1, 'min_child_samples': 372, 'min_child_weight': 0.01, 'subsample': 0.20225304586663168, 'colsample_bytree': 0.5370992025023895, 'reg_alpha': 1, 'reg_lambda': 20}. Best is trial 101 with value: 0.02181689957987176.\u001b[0m\n"
     ]
    },
    {
     "name": "stdout",
     "output_type": "stream",
     "text": [
      "[18:14:21] WARNING: C:\\Users\\Administrator\\workspace\\xgboost-win64_release_1.1.0\\src\\learner.cc:480: \n",
      "Parameters: { min_child_samples, num_leaves } might not be used.\n",
      "\n",
      "  This may not be accurate due to some parameters are only used in language bindings but\n",
      "  passed down to XGBoost core.  Or some parameters are not used but slip through this\n",
      "  verification. Please open an issue if you find above cases.\n",
      "\n",
      "\n"
     ]
    },
    {
     "name": "stderr",
     "output_type": "stream",
     "text": [
      "\u001b[32m[I 2021-05-11 18:14:24,659]\u001b[0m Trial 130 finished with value: 0.021633737124199318 and parameters: {'max_depth': 46, 'num_leaves': 15, 'learning_rate': 0.1, 'min_child_samples': 333, 'min_child_weight': 10.0, 'subsample': 0.6675822613335801, 'colsample_bytree': 0.4180889447151631, 'reg_alpha': 0.1, 'reg_lambda': 20}. Best is trial 130 with value: 0.021633737124199318.\u001b[0m\n"
     ]
    },
    {
     "name": "stdout",
     "output_type": "stream",
     "text": [
      "[18:14:24] WARNING: C:\\Users\\Administrator\\workspace\\xgboost-win64_release_1.1.0\\src\\learner.cc:480: \n",
      "Parameters: { min_child_samples, num_leaves } might not be used.\n",
      "\n",
      "  This may not be accurate due to some parameters are only used in language bindings but\n",
      "  passed down to XGBoost core.  Or some parameters are not used but slip through this\n",
      "  verification. Please open an issue if you find above cases.\n",
      "\n",
      "\n"
     ]
    },
    {
     "name": "stderr",
     "output_type": "stream",
     "text": [
      "\u001b[32m[I 2021-05-11 18:14:27,904]\u001b[0m Trial 131 finished with value: 0.021751660447426328 and parameters: {'max_depth': 43, 'num_leaves': 15, 'learning_rate': 0.1, 'min_child_samples': 332, 'min_child_weight': 10.0, 'subsample': 0.6107982682868639, 'colsample_bytree': 0.41704680399568766, 'reg_alpha': 0.1, 'reg_lambda': 20}. Best is trial 130 with value: 0.021633737124199318.\u001b[0m\n"
     ]
    },
    {
     "name": "stdout",
     "output_type": "stream",
     "text": [
      "[18:14:27] WARNING: C:\\Users\\Administrator\\workspace\\xgboost-win64_release_1.1.0\\src\\learner.cc:480: \n",
      "Parameters: { min_child_samples, num_leaves } might not be used.\n",
      "\n",
      "  This may not be accurate due to some parameters are only used in language bindings but\n",
      "  passed down to XGBoost core.  Or some parameters are not used but slip through this\n",
      "  verification. Please open an issue if you find above cases.\n",
      "\n",
      "\n"
     ]
    },
    {
     "name": "stderr",
     "output_type": "stream",
     "text": [
      "\u001b[32m[I 2021-05-11 18:14:31,192]\u001b[0m Trial 132 finished with value: 0.02196020290211946 and parameters: {'max_depth': 46, 'num_leaves': 15, 'learning_rate': 0.1, 'min_child_samples': 331, 'min_child_weight': 10.0, 'subsample': 0.6110613120163535, 'colsample_bytree': 0.4175240219612092, 'reg_alpha': 0.1, 'reg_lambda': 20}. Best is trial 130 with value: 0.021633737124199318.\u001b[0m\n"
     ]
    },
    {
     "name": "stdout",
     "output_type": "stream",
     "text": [
      "[18:14:31] WARNING: C:\\Users\\Administrator\\workspace\\xgboost-win64_release_1.1.0\\src\\learner.cc:480: \n",
      "Parameters: { min_child_samples, num_leaves } might not be used.\n",
      "\n",
      "  This may not be accurate due to some parameters are only used in language bindings but\n",
      "  passed down to XGBoost core.  Or some parameters are not used but slip through this\n",
      "  verification. Please open an issue if you find above cases.\n",
      "\n",
      "\n"
     ]
    },
    {
     "name": "stderr",
     "output_type": "stream",
     "text": [
      "\u001b[32m[I 2021-05-11 18:14:34,636]\u001b[0m Trial 133 finished with value: 0.022070660244262182 and parameters: {'max_depth': 48, 'num_leaves': 16, 'learning_rate': 0.1, 'min_child_samples': 336, 'min_child_weight': 10.0, 'subsample': 0.6916049117506545, 'colsample_bytree': 0.4168499388209771, 'reg_alpha': 0.1, 'reg_lambda': 20}. Best is trial 130 with value: 0.021633737124199318.\u001b[0m\n"
     ]
    },
    {
     "name": "stdout",
     "output_type": "stream",
     "text": [
      "[18:14:34] WARNING: C:\\Users\\Administrator\\workspace\\xgboost-win64_release_1.1.0\\src\\learner.cc:480: \n",
      "Parameters: { min_child_samples, num_leaves } might not be used.\n",
      "\n",
      "  This may not be accurate due to some parameters are only used in language bindings but\n",
      "  passed down to XGBoost core.  Or some parameters are not used but slip through this\n",
      "  verification. Please open an issue if you find above cases.\n",
      "\n",
      "\n"
     ]
    },
    {
     "name": "stderr",
     "output_type": "stream",
     "text": [
      "\u001b[32m[I 2021-05-11 18:14:38,026]\u001b[0m Trial 134 finished with value: 0.021765115690017198 and parameters: {'max_depth': 46, 'num_leaves': 15, 'learning_rate': 0.1, 'min_child_samples': 327, 'min_child_weight': 10.0, 'subsample': 0.759171696496727, 'colsample_bytree': 0.4090388523579092, 'reg_alpha': 0.1, 'reg_lambda': 20}. Best is trial 130 with value: 0.021633737124199318.\u001b[0m\n"
     ]
    },
    {
     "name": "stdout",
     "output_type": "stream",
     "text": [
      "[18:14:38] WARNING: C:\\Users\\Administrator\\workspace\\xgboost-win64_release_1.1.0\\src\\learner.cc:480: \n",
      "Parameters: { min_child_samples, num_leaves } might not be used.\n",
      "\n",
      "  This may not be accurate due to some parameters are only used in language bindings but\n",
      "  passed down to XGBoost core.  Or some parameters are not used but slip through this\n",
      "  verification. Please open an issue if you find above cases.\n",
      "\n",
      "\n"
     ]
    },
    {
     "name": "stderr",
     "output_type": "stream",
     "text": [
      "\u001b[32m[I 2021-05-11 18:14:41,462]\u001b[0m Trial 135 finished with value: 0.021996737596311246 and parameters: {'max_depth': 46, 'num_leaves': 15, 'learning_rate': 0.1, 'min_child_samples': 324, 'min_child_weight': 10.0, 'subsample': 0.7615941264751885, 'colsample_bytree': 0.4085546758689497, 'reg_alpha': 0.1, 'reg_lambda': 20}. Best is trial 130 with value: 0.021633737124199318.\u001b[0m\n"
     ]
    },
    {
     "name": "stdout",
     "output_type": "stream",
     "text": [
      "[18:14:41] WARNING: C:\\Users\\Administrator\\workspace\\xgboost-win64_release_1.1.0\\src\\learner.cc:480: \n",
      "Parameters: { min_child_samples, num_leaves } might not be used.\n",
      "\n",
      "  This may not be accurate due to some parameters are only used in language bindings but\n",
      "  passed down to XGBoost core.  Or some parameters are not used but slip through this\n",
      "  verification. Please open an issue if you find above cases.\n",
      "\n",
      "\n"
     ]
    },
    {
     "name": "stderr",
     "output_type": "stream",
     "text": [
      "\u001b[32m[I 2021-05-11 18:14:44,935]\u001b[0m Trial 136 finished with value: 0.021941713739966527 and parameters: {'max_depth': 46, 'num_leaves': 15, 'learning_rate': 0.1, 'min_child_samples': 347, 'min_child_weight': 10.0, 'subsample': 0.6733960352247405, 'colsample_bytree': 0.4004757796455756, 'reg_alpha': 0.1, 'reg_lambda': 20}. Best is trial 130 with value: 0.021633737124199318.\u001b[0m\n"
     ]
    },
    {
     "name": "stdout",
     "output_type": "stream",
     "text": [
      "[18:14:44] WARNING: C:\\Users\\Administrator\\workspace\\xgboost-win64_release_1.1.0\\src\\learner.cc:480: \n",
      "Parameters: { min_child_samples, num_leaves } might not be used.\n",
      "\n",
      "  This may not be accurate due to some parameters are only used in language bindings but\n",
      "  passed down to XGBoost core.  Or some parameters are not used but slip through this\n",
      "  verification. Please open an issue if you find above cases.\n",
      "\n",
      "\n"
     ]
    },
    {
     "name": "stderr",
     "output_type": "stream",
     "text": [
      "\u001b[32m[I 2021-05-11 18:14:48,481]\u001b[0m Trial 137 finished with value: 0.2127935918571408 and parameters: {'max_depth': 49, 'num_leaves': 16, 'learning_rate': 0.01, 'min_child_samples': 337, 'min_child_weight': 10.0, 'subsample': 0.687454308772599, 'colsample_bytree': 0.4029818013897418, 'reg_alpha': 0.1, 'reg_lambda': 0}. Best is trial 130 with value: 0.021633737124199318.\u001b[0m\n"
     ]
    },
    {
     "name": "stdout",
     "output_type": "stream",
     "text": [
      "[18:14:48] WARNING: C:\\Users\\Administrator\\workspace\\xgboost-win64_release_1.1.0\\src\\learner.cc:480: \n",
      "Parameters: { min_child_samples, num_leaves } might not be used.\n",
      "\n",
      "  This may not be accurate due to some parameters are only used in language bindings but\n",
      "  passed down to XGBoost core.  Or some parameters are not used but slip through this\n",
      "  verification. Please open an issue if you find above cases.\n",
      "\n",
      "\n"
     ]
    },
    {
     "name": "stderr",
     "output_type": "stream",
     "text": [
      "\u001b[32m[I 2021-05-11 18:14:51,964]\u001b[0m Trial 138 finished with value: 0.021879676717541093 and parameters: {'max_depth': 47, 'num_leaves': 14, 'learning_rate': 0.1, 'min_child_samples': 345, 'min_child_weight': 10.0, 'subsample': 0.7234632880523084, 'colsample_bytree': 0.4002269976988816, 'reg_alpha': 0.1, 'reg_lambda': 20}. Best is trial 130 with value: 0.021633737124199318.\u001b[0m\n"
     ]
    },
    {
     "name": "stdout",
     "output_type": "stream",
     "text": [
      "[18:14:51] WARNING: C:\\Users\\Administrator\\workspace\\xgboost-win64_release_1.1.0\\src\\learner.cc:480: \n",
      "Parameters: { min_child_samples, num_leaves } might not be used.\n",
      "\n",
      "  This may not be accurate due to some parameters are only used in language bindings but\n",
      "  passed down to XGBoost core.  Or some parameters are not used but slip through this\n",
      "  verification. Please open an issue if you find above cases.\n",
      "\n",
      "\n"
     ]
    },
    {
     "name": "stderr",
     "output_type": "stream",
     "text": [
      "\u001b[32m[I 2021-05-11 18:14:55,520]\u001b[0m Trial 139 finished with value: 0.02177278576141159 and parameters: {'max_depth': 49, 'num_leaves': 14, 'learning_rate': 0.1, 'min_child_samples': 348, 'min_child_weight': 10.0, 'subsample': 0.7301004526169349, 'colsample_bytree': 0.4109707592537739, 'reg_alpha': 0.1, 'reg_lambda': 20}. Best is trial 130 with value: 0.021633737124199318.\u001b[0m\n"
     ]
    },
    {
     "name": "stdout",
     "output_type": "stream",
     "text": [
      "[18:14:55] WARNING: C:\\Users\\Administrator\\workspace\\xgboost-win64_release_1.1.0\\src\\learner.cc:480: \n",
      "Parameters: { min_child_samples, num_leaves } might not be used.\n",
      "\n",
      "  This may not be accurate due to some parameters are only used in language bindings but\n",
      "  passed down to XGBoost core.  Or some parameters are not used but slip through this\n",
      "  verification. Please open an issue if you find above cases.\n",
      "\n",
      "\n"
     ]
    },
    {
     "name": "stderr",
     "output_type": "stream",
     "text": [
      "\u001b[32m[I 2021-05-11 18:15:00,129]\u001b[0m Trial 140 finished with value: 0.023460866570387616 and parameters: {'max_depth': 50, 'num_leaves': 12, 'learning_rate': 0.1, 'min_child_samples': 351, 'min_child_weight': 10.0, 'subsample': 0.7276780744007633, 'colsample_bytree': 0.4009856785173928, 'reg_alpha': 0.1, 'reg_lambda': 1}. Best is trial 130 with value: 0.021633737124199318.\u001b[0m\n"
     ]
    },
    {
     "name": "stdout",
     "output_type": "stream",
     "text": [
      "[18:15:00] WARNING: C:\\Users\\Administrator\\workspace\\xgboost-win64_release_1.1.0\\src\\learner.cc:480: \n",
      "Parameters: { min_child_samples, num_leaves } might not be used.\n",
      "\n",
      "  This may not be accurate due to some parameters are only used in language bindings but\n",
      "  passed down to XGBoost core.  Or some parameters are not used but slip through this\n",
      "  verification. Please open an issue if you find above cases.\n",
      "\n",
      "\n"
     ]
    },
    {
     "name": "stderr",
     "output_type": "stream",
     "text": [
      "\u001b[32m[I 2021-05-11 18:15:03,505]\u001b[0m Trial 141 finished with value: 0.021936233066935422 and parameters: {'max_depth': 48, 'num_leaves': 14, 'learning_rate': 0.1, 'min_child_samples': 342, 'min_child_weight': 10.0, 'subsample': 0.6647172353485408, 'colsample_bytree': 0.41047235389586223, 'reg_alpha': 0.1, 'reg_lambda': 20}. Best is trial 130 with value: 0.021633737124199318.\u001b[0m\n"
     ]
    },
    {
     "name": "stdout",
     "output_type": "stream",
     "text": [
      "[18:15:03] WARNING: C:\\Users\\Administrator\\workspace\\xgboost-win64_release_1.1.0\\src\\learner.cc:480: \n",
      "Parameters: { min_child_samples, num_leaves } might not be used.\n",
      "\n",
      "  This may not be accurate due to some parameters are only used in language bindings but\n",
      "  passed down to XGBoost core.  Or some parameters are not used but slip through this\n",
      "  verification. Please open an issue if you find above cases.\n",
      "\n",
      "\n"
     ]
    },
    {
     "name": "stderr",
     "output_type": "stream",
     "text": [
      "\u001b[32m[I 2021-05-11 18:15:06,818]\u001b[0m Trial 142 finished with value: 0.021778134759229004 and parameters: {'max_depth': 49, 'num_leaves': 14, 'learning_rate': 0.1, 'min_child_samples': 345, 'min_child_weight': 10.0, 'subsample': 0.6569599238351427, 'colsample_bytree': 0.4092880686270488, 'reg_alpha': 0.1, 'reg_lambda': 20}. Best is trial 130 with value: 0.021633737124199318.\u001b[0m\n"
     ]
    },
    {
     "name": "stdout",
     "output_type": "stream",
     "text": [
      "[18:15:06] WARNING: C:\\Users\\Administrator\\workspace\\xgboost-win64_release_1.1.0\\src\\learner.cc:480: \n",
      "Parameters: { min_child_samples, num_leaves } might not be used.\n",
      "\n",
      "  This may not be accurate due to some parameters are only used in language bindings but\n",
      "  passed down to XGBoost core.  Or some parameters are not used but slip through this\n",
      "  verification. Please open an issue if you find above cases.\n",
      "\n",
      "\n"
     ]
    },
    {
     "name": "stderr",
     "output_type": "stream",
     "text": [
      "\u001b[32m[I 2021-05-11 18:15:10,295]\u001b[0m Trial 143 finished with value: 0.021908807918706984 and parameters: {'max_depth': 49, 'num_leaves': 14, 'learning_rate': 0.1, 'min_child_samples': 345, 'min_child_weight': 10.0, 'subsample': 0.7725509525860079, 'colsample_bytree': 0.4114298417495477, 'reg_alpha': 0.1, 'reg_lambda': 20}. Best is trial 130 with value: 0.021633737124199318.\u001b[0m\n"
     ]
    },
    {
     "name": "stdout",
     "output_type": "stream",
     "text": [
      "[18:15:10] WARNING: C:\\Users\\Administrator\\workspace\\xgboost-win64_release_1.1.0\\src\\learner.cc:480: \n",
      "Parameters: { min_child_samples, num_leaves } might not be used.\n",
      "\n",
      "  This may not be accurate due to some parameters are only used in language bindings but\n",
      "  passed down to XGBoost core.  Or some parameters are not used but slip through this\n",
      "  verification. Please open an issue if you find above cases.\n",
      "\n",
      "\n"
     ]
    },
    {
     "name": "stderr",
     "output_type": "stream",
     "text": [
      "\u001b[32m[I 2021-05-11 18:15:13,832]\u001b[0m Trial 144 finished with value: 0.021854224127376726 and parameters: {'max_depth': 49, 'num_leaves': 13, 'learning_rate': 0.1, 'min_child_samples': 344, 'min_child_weight': 10.0, 'subsample': 0.7685124087603226, 'colsample_bytree': 0.40913574583884676, 'reg_alpha': 0.1, 'reg_lambda': 20}. Best is trial 130 with value: 0.021633737124199318.\u001b[0m\n"
     ]
    },
    {
     "name": "stdout",
     "output_type": "stream",
     "text": [
      "[18:15:13] WARNING: C:\\Users\\Administrator\\workspace\\xgboost-win64_release_1.1.0\\src\\learner.cc:480: \n",
      "Parameters: { min_child_samples, num_leaves } might not be used.\n",
      "\n",
      "  This may not be accurate due to some parameters are only used in language bindings but\n",
      "  passed down to XGBoost core.  Or some parameters are not used but slip through this\n",
      "  verification. Please open an issue if you find above cases.\n",
      "\n",
      "\n"
     ]
    },
    {
     "name": "stderr",
     "output_type": "stream",
     "text": [
      "\u001b[32m[I 2021-05-11 18:15:17,528]\u001b[0m Trial 145 finished with value: 0.022000339920474545 and parameters: {'max_depth': 49, 'num_leaves': 13, 'learning_rate': 0.1, 'min_child_samples': 324, 'min_child_weight': 10.0, 'subsample': 0.7733970716410634, 'colsample_bytree': 0.40726056864961974, 'reg_alpha': 0.1, 'reg_lambda': 20}. Best is trial 130 with value: 0.021633737124199318.\u001b[0m\n"
     ]
    },
    {
     "name": "stdout",
     "output_type": "stream",
     "text": [
      "[18:15:17] WARNING: C:\\Users\\Administrator\\workspace\\xgboost-win64_release_1.1.0\\src\\learner.cc:480: \n",
      "Parameters: { min_child_samples, num_leaves } might not be used.\n",
      "\n",
      "  This may not be accurate due to some parameters are only used in language bindings but\n",
      "  passed down to XGBoost core.  Or some parameters are not used but slip through this\n",
      "  verification. Please open an issue if you find above cases.\n",
      "\n",
      "\n"
     ]
    },
    {
     "name": "stderr",
     "output_type": "stream",
     "text": [
      "\u001b[32m[I 2021-05-11 18:15:21,100]\u001b[0m Trial 146 finished with value: 0.022044122918428014 and parameters: {'max_depth': 50, 'num_leaves': 12, 'learning_rate': 0.1, 'min_child_samples': 331, 'min_child_weight': 10.0, 'subsample': 0.7266192422239585, 'colsample_bytree': 0.4134136918257469, 'reg_alpha': 0.1, 'reg_lambda': 20}. Best is trial 130 with value: 0.021633737124199318.\u001b[0m\n"
     ]
    },
    {
     "name": "stdout",
     "output_type": "stream",
     "text": [
      "[18:15:21] WARNING: C:\\Users\\Administrator\\workspace\\xgboost-win64_release_1.1.0\\src\\learner.cc:480: \n",
      "Parameters: { min_child_samples, num_leaves } might not be used.\n",
      "\n",
      "  This may not be accurate due to some parameters are only used in language bindings but\n",
      "  passed down to XGBoost core.  Or some parameters are not used but slip through this\n",
      "  verification. Please open an issue if you find above cases.\n",
      "\n",
      "\n"
     ]
    },
    {
     "name": "stderr",
     "output_type": "stream",
     "text": [
      "\u001b[32m[I 2021-05-11 18:15:24,705]\u001b[0m Trial 147 finished with value: 0.021758706036429373 and parameters: {'max_depth': 49, 'num_leaves': 13, 'learning_rate': 0.1, 'min_child_samples': 349, 'min_child_weight': 10.0, 'subsample': 0.7958970959103453, 'colsample_bytree': 0.4043489477201422, 'reg_alpha': 0.1, 'reg_lambda': 20}. Best is trial 130 with value: 0.021633737124199318.\u001b[0m\n"
     ]
    },
    {
     "name": "stdout",
     "output_type": "stream",
     "text": [
      "[18:15:24] WARNING: C:\\Users\\Administrator\\workspace\\xgboost-win64_release_1.1.0\\src\\learner.cc:480: \n",
      "Parameters: { min_child_samples, num_leaves } might not be used.\n",
      "\n",
      "  This may not be accurate due to some parameters are only used in language bindings but\n",
      "  passed down to XGBoost core.  Or some parameters are not used but slip through this\n",
      "  verification. Please open an issue if you find above cases.\n",
      "\n",
      "\n"
     ]
    },
    {
     "name": "stderr",
     "output_type": "stream",
     "text": [
      "\u001b[32m[I 2021-05-11 18:15:28,203]\u001b[0m Trial 148 finished with value: 0.021731730618524677 and parameters: {'max_depth': 50, 'num_leaves': 16, 'learning_rate': 0.1, 'min_child_samples': 346, 'min_child_weight': 10.0, 'subsample': 0.79953695467457, 'colsample_bytree': 0.4044489859769333, 'reg_alpha': 0.1, 'reg_lambda': 20}. Best is trial 130 with value: 0.021633737124199318.\u001b[0m\n"
     ]
    },
    {
     "name": "stdout",
     "output_type": "stream",
     "text": [
      "[18:15:28] WARNING: C:\\Users\\Administrator\\workspace\\xgboost-win64_release_1.1.0\\src\\learner.cc:480: \n",
      "Parameters: { min_child_samples, num_leaves } might not be used.\n",
      "\n",
      "  This may not be accurate due to some parameters are only used in language bindings but\n",
      "  passed down to XGBoost core.  Or some parameters are not used but slip through this\n",
      "  verification. Please open an issue if you find above cases.\n",
      "\n",
      "\n"
     ]
    },
    {
     "name": "stderr",
     "output_type": "stream",
     "text": [
      "\u001b[32m[I 2021-05-11 18:15:29,552]\u001b[0m Trial 149 finished with value: 5.5653693054124584 and parameters: {'max_depth': 49, 'num_leaves': 14, 'learning_rate': 0.001, 'min_child_samples': 347, 'min_child_weight': 10.0, 'subsample': 0.792592482575377, 'colsample_bytree': 0.40344719144697594, 'reg_alpha': 0.1, 'reg_lambda': 20}. Best is trial 130 with value: 0.021633737124199318.\u001b[0m\n"
     ]
    },
    {
     "name": "stdout",
     "output_type": "stream",
     "text": [
      "[18:15:29] WARNING: C:\\Users\\Administrator\\workspace\\xgboost-win64_release_1.1.0\\src\\learner.cc:480: \n",
      "Parameters: { min_child_samples, num_leaves } might not be used.\n",
      "\n",
      "  This may not be accurate due to some parameters are only used in language bindings but\n",
      "  passed down to XGBoost core.  Or some parameters are not used but slip through this\n",
      "  verification. Please open an issue if you find above cases.\n",
      "\n",
      "\n"
     ]
    },
    {
     "name": "stderr",
     "output_type": "stream",
     "text": [
      "\u001b[32m[I 2021-05-11 18:15:33,092]\u001b[0m Trial 150 finished with value: 0.021813529850695373 and parameters: {'max_depth': 50, 'num_leaves': 13, 'learning_rate': 0.1, 'min_child_samples': 356, 'min_child_weight': 10.0, 'subsample': 0.7472509280739603, 'colsample_bytree': 0.40013681222801656, 'reg_alpha': 0.1, 'reg_lambda': 20}. Best is trial 130 with value: 0.021633737124199318.\u001b[0m\n"
     ]
    },
    {
     "name": "stdout",
     "output_type": "stream",
     "text": [
      "[18:15:33] WARNING: C:\\Users\\Administrator\\workspace\\xgboost-win64_release_1.1.0\\src\\learner.cc:480: \n",
      "Parameters: { min_child_samples, num_leaves } might not be used.\n",
      "\n",
      "  This may not be accurate due to some parameters are only used in language bindings but\n",
      "  passed down to XGBoost core.  Or some parameters are not used but slip through this\n",
      "  verification. Please open an issue if you find above cases.\n",
      "\n",
      "\n"
     ]
    },
    {
     "name": "stderr",
     "output_type": "stream",
     "text": [
      "\u001b[32m[I 2021-05-11 18:15:36,571]\u001b[0m Trial 151 finished with value: 0.021789554966146922 and parameters: {'max_depth': 49, 'num_leaves': 13, 'learning_rate': 0.1, 'min_child_samples': 355, 'min_child_weight': 10.0, 'subsample': 0.7510345548069026, 'colsample_bytree': 0.40949978232671325, 'reg_alpha': 0.1, 'reg_lambda': 20}. Best is trial 130 with value: 0.021633737124199318.\u001b[0m\n"
     ]
    },
    {
     "name": "stdout",
     "output_type": "stream",
     "text": [
      "[18:15:36] WARNING: C:\\Users\\Administrator\\workspace\\xgboost-win64_release_1.1.0\\src\\learner.cc:480: \n",
      "Parameters: { min_child_samples, num_leaves } might not be used.\n",
      "\n",
      "  This may not be accurate due to some parameters are only used in language bindings but\n",
      "  passed down to XGBoost core.  Or some parameters are not used but slip through this\n",
      "  verification. Please open an issue if you find above cases.\n",
      "\n",
      "\n"
     ]
    },
    {
     "name": "stderr",
     "output_type": "stream",
     "text": [
      "\u001b[32m[I 2021-05-11 18:15:40,112]\u001b[0m Trial 152 finished with value: 0.021915120298992764 and parameters: {'max_depth': 50, 'num_leaves': 13, 'learning_rate': 0.1, 'min_child_samples': 356, 'min_child_weight': 10.0, 'subsample': 0.7489253898174982, 'colsample_bytree': 0.4002768010104738, 'reg_alpha': 0.1, 'reg_lambda': 20}. Best is trial 130 with value: 0.021633737124199318.\u001b[0m\n"
     ]
    },
    {
     "name": "stdout",
     "output_type": "stream",
     "text": [
      "[18:15:40] WARNING: C:\\Users\\Administrator\\workspace\\xgboost-win64_release_1.1.0\\src\\learner.cc:480: \n",
      "Parameters: { min_child_samples, num_leaves } might not be used.\n",
      "\n",
      "  This may not be accurate due to some parameters are only used in language bindings but\n",
      "  passed down to XGBoost core.  Or some parameters are not used but slip through this\n",
      "  verification. Please open an issue if you find above cases.\n",
      "\n",
      "\n"
     ]
    },
    {
     "name": "stderr",
     "output_type": "stream",
     "text": [
      "\u001b[32m[I 2021-05-11 18:15:43,419]\u001b[0m Trial 153 finished with value: 0.021790779279409544 and parameters: {'max_depth': 48, 'num_leaves': 16, 'learning_rate': 0.1, 'min_child_samples': 339, 'min_child_weight': 10.0, 'subsample': 0.7114347317097589, 'colsample_bytree': 0.4048952729066906, 'reg_alpha': 0.1, 'reg_lambda': 20}. Best is trial 130 with value: 0.021633737124199318.\u001b[0m\n"
     ]
    },
    {
     "name": "stdout",
     "output_type": "stream",
     "text": [
      "[18:15:43] WARNING: C:\\Users\\Administrator\\workspace\\xgboost-win64_release_1.1.0\\src\\learner.cc:480: \n",
      "Parameters: { min_child_samples, num_leaves } might not be used.\n",
      "\n",
      "  This may not be accurate due to some parameters are only used in language bindings but\n",
      "  passed down to XGBoost core.  Or some parameters are not used but slip through this\n",
      "  verification. Please open an issue if you find above cases.\n",
      "\n",
      "\n"
     ]
    },
    {
     "name": "stderr",
     "output_type": "stream",
     "text": [
      "\u001b[32m[I 2021-05-11 18:15:46,887]\u001b[0m Trial 154 finished with value: 0.021544278803361305 and parameters: {'max_depth': 48, 'num_leaves': 16, 'learning_rate': 0.1, 'min_child_samples': 332, 'min_child_weight': 10.0, 'subsample': 0.7452795941467475, 'colsample_bytree': 0.40526231412075825, 'reg_alpha': 0.1, 'reg_lambda': 20}. Best is trial 154 with value: 0.021544278803361305.\u001b[0m\n"
     ]
    },
    {
     "name": "stdout",
     "output_type": "stream",
     "text": [
      "[18:15:46] WARNING: C:\\Users\\Administrator\\workspace\\xgboost-win64_release_1.1.0\\src\\learner.cc:480: \n",
      "Parameters: { min_child_samples, num_leaves } might not be used.\n",
      "\n",
      "  This may not be accurate due to some parameters are only used in language bindings but\n",
      "  passed down to XGBoost core.  Or some parameters are not used but slip through this\n",
      "  verification. Please open an issue if you find above cases.\n",
      "\n",
      "\n"
     ]
    },
    {
     "name": "stderr",
     "output_type": "stream",
     "text": [
      "\u001b[32m[I 2021-05-11 18:15:50,580]\u001b[0m Trial 155 finished with value: 0.021985133379233288 and parameters: {'max_depth': 48, 'num_leaves': 16, 'learning_rate': 0.1, 'min_child_samples': 355, 'min_child_weight': 10.0, 'subsample': 0.7470731406262148, 'colsample_bytree': 0.4079639563944506, 'reg_alpha': 0.1, 'reg_lambda': 20}. Best is trial 154 with value: 0.021544278803361305.\u001b[0m\n"
     ]
    },
    {
     "name": "stdout",
     "output_type": "stream",
     "text": [
      "[18:15:50] WARNING: C:\\Users\\Administrator\\workspace\\xgboost-win64_release_1.1.0\\src\\learner.cc:480: \n",
      "Parameters: { min_child_samples, num_leaves } might not be used.\n",
      "\n",
      "  This may not be accurate due to some parameters are only used in language bindings but\n",
      "  passed down to XGBoost core.  Or some parameters are not used but slip through this\n",
      "  verification. Please open an issue if you find above cases.\n",
      "\n",
      "\n"
     ]
    },
    {
     "name": "stderr",
     "output_type": "stream",
     "text": [
      "\u001b[32m[I 2021-05-11 18:15:53,982]\u001b[0m Trial 156 finished with value: 0.021883824194634364 and parameters: {'max_depth': 50, 'num_leaves': 17, 'learning_rate': 0.1, 'min_child_samples': 340, 'min_child_weight': 10.0, 'subsample': 0.7079494849383698, 'colsample_bytree': 0.4065017924202749, 'reg_alpha': 0.1, 'reg_lambda': 20}. Best is trial 154 with value: 0.021544278803361305.\u001b[0m\n"
     ]
    },
    {
     "name": "stdout",
     "output_type": "stream",
     "text": [
      "[18:15:54] WARNING: C:\\Users\\Administrator\\workspace\\xgboost-win64_release_1.1.0\\src\\learner.cc:480: \n",
      "Parameters: { min_child_samples, num_leaves } might not be used.\n",
      "\n",
      "  This may not be accurate due to some parameters are only used in language bindings but\n",
      "  passed down to XGBoost core.  Or some parameters are not used but slip through this\n",
      "  verification. Please open an issue if you find above cases.\n",
      "\n",
      "\n"
     ]
    },
    {
     "name": "stderr",
     "output_type": "stream",
     "text": [
      "\u001b[32m[I 2021-05-11 18:15:57,657]\u001b[0m Trial 157 finished with value: 0.021600974492663072 and parameters: {'max_depth': 49, 'num_leaves': 16, 'learning_rate': 0.1, 'min_child_samples': 327, 'min_child_weight': 10.0, 'subsample': 0.7931425113090664, 'colsample_bytree': 0.4054662346181349, 'reg_alpha': 0.1, 'reg_lambda': 20}. Best is trial 154 with value: 0.021544278803361305.\u001b[0m\n"
     ]
    },
    {
     "name": "stdout",
     "output_type": "stream",
     "text": [
      "[18:15:57] WARNING: C:\\Users\\Administrator\\workspace\\xgboost-win64_release_1.1.0\\src\\learner.cc:480: \n",
      "Parameters: { min_child_samples, num_leaves } might not be used.\n",
      "\n",
      "  This may not be accurate due to some parameters are only used in language bindings but\n",
      "  passed down to XGBoost core.  Or some parameters are not used but slip through this\n",
      "  verification. Please open an issue if you find above cases.\n",
      "\n",
      "\n"
     ]
    },
    {
     "name": "stderr",
     "output_type": "stream",
     "text": [
      "\u001b[32m[I 2021-05-11 18:16:01,687]\u001b[0m Trial 158 finished with value: 0.02227372412611428 and parameters: {'max_depth': 49, 'num_leaves': 16, 'learning_rate': 0.1, 'min_child_samples': 318, 'min_child_weight': 10.0, 'subsample': 0.7979924920343222, 'colsample_bytree': 0.40440680355198116, 'reg_alpha': 0.1, 'reg_lambda': 10}. Best is trial 154 with value: 0.021544278803361305.\u001b[0m\n"
     ]
    },
    {
     "name": "stdout",
     "output_type": "stream",
     "text": [
      "[18:16:01] WARNING: C:\\Users\\Administrator\\workspace\\xgboost-win64_release_1.1.0\\src\\learner.cc:480: \n",
      "Parameters: { min_child_samples, num_leaves } might not be used.\n",
      "\n",
      "  This may not be accurate due to some parameters are only used in language bindings but\n",
      "  passed down to XGBoost core.  Or some parameters are not used but slip through this\n",
      "  verification. Please open an issue if you find above cases.\n",
      "\n",
      "\n"
     ]
    },
    {
     "name": "stderr",
     "output_type": "stream",
     "text": [
      "\u001b[32m[I 2021-05-11 18:16:06,835]\u001b[0m Trial 159 finished with value: 0.022555281858378743 and parameters: {'max_depth': 50, 'num_leaves': 15, 'learning_rate': 0.1, 'min_child_samples': 327, 'min_child_weight': 10.0, 'subsample': 0.7784476247654509, 'colsample_bytree': 0.407678927743538, 'reg_alpha': 0.1, 'reg_lambda': 5}. Best is trial 154 with value: 0.021544278803361305.\u001b[0m\n"
     ]
    },
    {
     "name": "stdout",
     "output_type": "stream",
     "text": [
      "[18:16:06] WARNING: C:\\Users\\Administrator\\workspace\\xgboost-win64_release_1.1.0\\src\\learner.cc:480: \n",
      "Parameters: { min_child_samples, num_leaves } might not be used.\n",
      "\n",
      "  This may not be accurate due to some parameters are only used in language bindings but\n",
      "  passed down to XGBoost core.  Or some parameters are not used but slip through this\n",
      "  verification. Please open an issue if you find above cases.\n",
      "\n",
      "\n"
     ]
    },
    {
     "name": "stderr",
     "output_type": "stream",
     "text": [
      "\u001b[32m[I 2021-05-11 18:16:10,758]\u001b[0m Trial 160 finished with value: 0.02181742317954183 and parameters: {'max_depth': 48, 'num_leaves': 18, 'learning_rate': 0.1, 'min_child_samples': 358, 'min_child_weight': 10.0, 'subsample': 0.7416094052044063, 'colsample_bytree': 0.41059509146029644, 'reg_alpha': 0.1, 'reg_lambda': 20}. Best is trial 154 with value: 0.021544278803361305.\u001b[0m\n"
     ]
    },
    {
     "name": "stdout",
     "output_type": "stream",
     "text": [
      "[18:16:10] WARNING: C:\\Users\\Administrator\\workspace\\xgboost-win64_release_1.1.0\\src\\learner.cc:480: \n",
      "Parameters: { min_child_samples, num_leaves } might not be used.\n",
      "\n",
      "  This may not be accurate due to some parameters are only used in language bindings but\n",
      "  passed down to XGBoost core.  Or some parameters are not used but slip through this\n",
      "  verification. Please open an issue if you find above cases.\n",
      "\n",
      "\n"
     ]
    },
    {
     "name": "stderr",
     "output_type": "stream",
     "text": [
      "\u001b[32m[I 2021-05-11 18:16:15,263]\u001b[0m Trial 161 finished with value: 0.02185341337117846 and parameters: {'max_depth': 48, 'num_leaves': 18, 'learning_rate': 0.1, 'min_child_samples': 359, 'min_child_weight': 10.0, 'subsample': 0.7417003802302147, 'colsample_bytree': 0.4105103395380439, 'reg_alpha': 0.1, 'reg_lambda': 20}. Best is trial 154 with value: 0.021544278803361305.\u001b[0m\n"
     ]
    },
    {
     "name": "stdout",
     "output_type": "stream",
     "text": [
      "[18:16:15] WARNING: C:\\Users\\Administrator\\workspace\\xgboost-win64_release_1.1.0\\src\\learner.cc:480: \n",
      "Parameters: { min_child_samples, num_leaves } might not be used.\n",
      "\n",
      "  This may not be accurate due to some parameters are only used in language bindings but\n",
      "  passed down to XGBoost core.  Or some parameters are not used but slip through this\n",
      "  verification. Please open an issue if you find above cases.\n",
      "\n",
      "\n"
     ]
    },
    {
     "name": "stderr",
     "output_type": "stream",
     "text": [
      "\u001b[32m[I 2021-05-11 18:16:19,172]\u001b[0m Trial 162 finished with value: 0.02166301806100082 and parameters: {'max_depth': 48, 'num_leaves': 17, 'learning_rate': 0.1, 'min_child_samples': 359, 'min_child_weight': 10.0, 'subsample': 0.7410970837115518, 'colsample_bytree': 0.4121443495128745, 'reg_alpha': 0.1, 'reg_lambda': 20}. Best is trial 154 with value: 0.021544278803361305.\u001b[0m\n"
     ]
    },
    {
     "name": "stdout",
     "output_type": "stream",
     "text": [
      "[18:16:19] WARNING: C:\\Users\\Administrator\\workspace\\xgboost-win64_release_1.1.0\\src\\learner.cc:480: \n",
      "Parameters: { min_child_samples, num_leaves } might not be used.\n",
      "\n",
      "  This may not be accurate due to some parameters are only used in language bindings but\n",
      "  passed down to XGBoost core.  Or some parameters are not used but slip through this\n",
      "  verification. Please open an issue if you find above cases.\n",
      "\n",
      "\n"
     ]
    },
    {
     "name": "stderr",
     "output_type": "stream",
     "text": [
      "\u001b[32m[I 2021-05-11 18:16:22,650]\u001b[0m Trial 163 finished with value: 0.02172633492472099 and parameters: {'max_depth': 48, 'num_leaves': 18, 'learning_rate': 0.1, 'min_child_samples': 353, 'min_child_weight': 10.0, 'subsample': 0.7156562616060437, 'colsample_bytree': 0.412842392977193, 'reg_alpha': 0.1, 'reg_lambda': 20}. Best is trial 154 with value: 0.021544278803361305.\u001b[0m\n"
     ]
    },
    {
     "name": "stdout",
     "output_type": "stream",
     "text": [
      "[18:16:22] WARNING: C:\\Users\\Administrator\\workspace\\xgboost-win64_release_1.1.0\\src\\learner.cc:480: \n",
      "Parameters: { min_child_samples, num_leaves } might not be used.\n",
      "\n",
      "  This may not be accurate due to some parameters are only used in language bindings but\n",
      "  passed down to XGBoost core.  Or some parameters are not used but slip through this\n",
      "  verification. Please open an issue if you find above cases.\n",
      "\n",
      "\n"
     ]
    },
    {
     "name": "stderr",
     "output_type": "stream",
     "text": [
      "\u001b[32m[I 2021-05-11 18:16:27,042]\u001b[0m Trial 164 finished with value: 0.02168982085640154 and parameters: {'max_depth': 47, 'num_leaves': 17, 'learning_rate': 0.1, 'min_child_samples': 353, 'min_child_weight': 10.0, 'subsample': 0.7115413799201493, 'colsample_bytree': 0.4048206547220304, 'reg_alpha': 0.1, 'reg_lambda': 20}. Best is trial 154 with value: 0.021544278803361305.\u001b[0m\n"
     ]
    },
    {
     "name": "stdout",
     "output_type": "stream",
     "text": [
      "[18:16:27] WARNING: C:\\Users\\Administrator\\workspace\\xgboost-win64_release_1.1.0\\src\\learner.cc:480: \n",
      "Parameters: { min_child_samples, num_leaves } might not be used.\n",
      "\n",
      "  This may not be accurate due to some parameters are only used in language bindings but\n",
      "  passed down to XGBoost core.  Or some parameters are not used but slip through this\n",
      "  verification. Please open an issue if you find above cases.\n",
      "\n",
      "\n"
     ]
    },
    {
     "name": "stderr",
     "output_type": "stream",
     "text": [
      "\u001b[32m[I 2021-05-11 18:16:31,903]\u001b[0m Trial 165 finished with value: 0.021943385530458003 and parameters: {'max_depth': 47, 'num_leaves': 17, 'learning_rate': 0.1, 'min_child_samples': 351, 'min_child_weight': 10.0, 'subsample': 0.7078414118178762, 'colsample_bytree': 0.4054109406120471, 'reg_alpha': 0.1, 'reg_lambda': 20}. Best is trial 154 with value: 0.021544278803361305.\u001b[0m\n"
     ]
    },
    {
     "name": "stdout",
     "output_type": "stream",
     "text": [
      "[18:16:31] WARNING: C:\\Users\\Administrator\\workspace\\xgboost-win64_release_1.1.0\\src\\learner.cc:480: \n",
      "Parameters: { min_child_samples, num_leaves } might not be used.\n",
      "\n",
      "  This may not be accurate due to some parameters are only used in language bindings but\n",
      "  passed down to XGBoost core.  Or some parameters are not used but slip through this\n",
      "  verification. Please open an issue if you find above cases.\n",
      "\n",
      "\n"
     ]
    },
    {
     "name": "stderr",
     "output_type": "stream",
     "text": [
      "\u001b[32m[I 2021-05-11 18:16:35,552]\u001b[0m Trial 166 finished with value: 0.02208788060873368 and parameters: {'max_depth': 48, 'num_leaves': 16, 'learning_rate': 0.1, 'min_child_samples': 359, 'min_child_weight': 10.0, 'subsample': 0.7996940180486716, 'colsample_bytree': 0.4000828476963609, 'reg_alpha': 0.1, 'reg_lambda': 20}. Best is trial 154 with value: 0.021544278803361305.\u001b[0m\n"
     ]
    },
    {
     "name": "stdout",
     "output_type": "stream",
     "text": [
      "[18:16:35] WARNING: C:\\Users\\Administrator\\workspace\\xgboost-win64_release_1.1.0\\src\\learner.cc:480: \n",
      "Parameters: { min_child_samples, num_leaves } might not be used.\n",
      "\n",
      "  This may not be accurate due to some parameters are only used in language bindings but\n",
      "  passed down to XGBoost core.  Or some parameters are not used but slip through this\n",
      "  verification. Please open an issue if you find above cases.\n",
      "\n",
      "\n"
     ]
    },
    {
     "name": "stderr",
     "output_type": "stream",
     "text": [
      "\u001b[32m[I 2021-05-11 18:16:39,199]\u001b[0m Trial 167 finished with value: 0.023231242993803764 and parameters: {'max_depth': 50, 'num_leaves': 18, 'learning_rate': 0.1, 'min_child_samples': 337, 'min_child_weight': 10.0, 'subsample': 0.6425338929633951, 'colsample_bytree': 0.4123097701646796, 'reg_alpha': 0.1, 'reg_lambda': 100}. Best is trial 154 with value: 0.021544278803361305.\u001b[0m\n"
     ]
    },
    {
     "name": "stdout",
     "output_type": "stream",
     "text": [
      "[18:16:39] WARNING: C:\\Users\\Administrator\\workspace\\xgboost-win64_release_1.1.0\\src\\learner.cc:480: \n",
      "Parameters: { min_child_samples, num_leaves } might not be used.\n",
      "\n",
      "  This may not be accurate due to some parameters are only used in language bindings but\n",
      "  passed down to XGBoost core.  Or some parameters are not used but slip through this\n",
      "  verification. Please open an issue if you find above cases.\n",
      "\n",
      "\n"
     ]
    },
    {
     "name": "stderr",
     "output_type": "stream",
     "text": [
      "\u001b[32m[I 2021-05-11 18:16:43,053]\u001b[0m Trial 168 finished with value: 0.02168544736332661 and parameters: {'max_depth': 48, 'num_leaves': 15, 'learning_rate': 0.1, 'min_child_samples': 352, 'min_child_weight': 10.0, 'subsample': 0.7120836795219414, 'colsample_bytree': 0.4029928014446833, 'reg_alpha': 0.1, 'reg_lambda': 20}. Best is trial 154 with value: 0.021544278803361305.\u001b[0m\n"
     ]
    },
    {
     "name": "stdout",
     "output_type": "stream",
     "text": [
      "[18:16:43] WARNING: C:\\Users\\Administrator\\workspace\\xgboost-win64_release_1.1.0\\src\\learner.cc:480: \n",
      "Parameters: { min_child_samples, num_leaves } might not be used.\n",
      "\n",
      "  This may not be accurate due to some parameters are only used in language bindings but\n",
      "  passed down to XGBoost core.  Or some parameters are not used but slip through this\n",
      "  verification. Please open an issue if you find above cases.\n",
      "\n",
      "\n"
     ]
    },
    {
     "name": "stderr",
     "output_type": "stream",
     "text": [
      "\u001b[32m[I 2021-05-11 18:16:46,841]\u001b[0m Trial 169 finished with value: 0.02209697179043373 and parameters: {'max_depth': 49, 'num_leaves': 15, 'learning_rate': 0.1, 'min_child_samples': 332, 'min_child_weight': 10.0, 'subsample': 0.6803474039626214, 'colsample_bytree': 0.4033174041673081, 'reg_alpha': 0.1, 'reg_lambda': 20}. Best is trial 154 with value: 0.021544278803361305.\u001b[0m\n"
     ]
    },
    {
     "name": "stdout",
     "output_type": "stream",
     "text": [
      "[18:16:46] WARNING: C:\\Users\\Administrator\\workspace\\xgboost-win64_release_1.1.0\\src\\learner.cc:480: \n",
      "Parameters: { min_child_samples, num_leaves } might not be used.\n",
      "\n",
      "  This may not be accurate due to some parameters are only used in language bindings but\n",
      "  passed down to XGBoost core.  Or some parameters are not used but slip through this\n",
      "  verification. Please open an issue if you find above cases.\n",
      "\n",
      "\n"
     ]
    },
    {
     "name": "stderr",
     "output_type": "stream",
     "text": [
      "\u001b[32m[I 2021-05-11 18:16:52,840]\u001b[0m Trial 170 finished with value: 0.023407686847713213 and parameters: {'max_depth': 47, 'num_leaves': 16, 'learning_rate': 0.1, 'min_child_samples': 350, 'min_child_weight': 10.0, 'subsample': 0.7117399107482171, 'colsample_bytree': 0.40513569691449036, 'reg_alpha': 0.1, 'reg_lambda': 0.1}. Best is trial 154 with value: 0.021544278803361305.\u001b[0m\n"
     ]
    },
    {
     "name": "stdout",
     "output_type": "stream",
     "text": [
      "[18:16:52] WARNING: C:\\Users\\Administrator\\workspace\\xgboost-win64_release_1.1.0\\src\\learner.cc:480: \n",
      "Parameters: { min_child_samples, num_leaves } might not be used.\n",
      "\n",
      "  This may not be accurate due to some parameters are only used in language bindings but\n",
      "  passed down to XGBoost core.  Or some parameters are not used but slip through this\n",
      "  verification. Please open an issue if you find above cases.\n",
      "\n",
      "\n"
     ]
    },
    {
     "name": "stderr",
     "output_type": "stream",
     "text": [
      "\u001b[32m[I 2021-05-11 18:16:56,690]\u001b[0m Trial 171 finished with value: 0.021637672651459983 and parameters: {'max_depth': 48, 'num_leaves': 17, 'learning_rate': 0.1, 'min_child_samples': 360, 'min_child_weight': 10.0, 'subsample': 0.7372621344435044, 'colsample_bytree': 0.40946947745399725, 'reg_alpha': 0.1, 'reg_lambda': 20}. Best is trial 154 with value: 0.021544278803361305.\u001b[0m\n"
     ]
    },
    {
     "name": "stdout",
     "output_type": "stream",
     "text": [
      "[18:16:56] WARNING: C:\\Users\\Administrator\\workspace\\xgboost-win64_release_1.1.0\\src\\learner.cc:480: \n",
      "Parameters: { min_child_samples, num_leaves } might not be used.\n",
      "\n",
      "  This may not be accurate due to some parameters are only used in language bindings but\n",
      "  passed down to XGBoost core.  Or some parameters are not used but slip through this\n",
      "  verification. Please open an issue if you find above cases.\n",
      "\n",
      "\n"
     ]
    },
    {
     "name": "stderr",
     "output_type": "stream",
     "text": [
      "\u001b[32m[I 2021-05-11 18:17:00,778]\u001b[0m Trial 172 finished with value: 0.021949755346737952 and parameters: {'max_depth': 50, 'num_leaves': 17, 'learning_rate': 0.1, 'min_child_samples': 365, 'min_child_weight': 10.0, 'subsample': 0.6579658560980797, 'colsample_bytree': 0.4028958053899072, 'reg_alpha': 0.1, 'reg_lambda': 20}. Best is trial 154 with value: 0.021544278803361305.\u001b[0m\n"
     ]
    },
    {
     "name": "stdout",
     "output_type": "stream",
     "text": [
      "[18:17:00] WARNING: C:\\Users\\Administrator\\workspace\\xgboost-win64_release_1.1.0\\src\\learner.cc:480: \n",
      "Parameters: { min_child_samples, num_leaves } might not be used.\n",
      "\n",
      "  This may not be accurate due to some parameters are only used in language bindings but\n",
      "  passed down to XGBoost core.  Or some parameters are not used but slip through this\n",
      "  verification. Please open an issue if you find above cases.\n",
      "\n",
      "\n"
     ]
    },
    {
     "name": "stderr",
     "output_type": "stream",
     "text": [
      "\u001b[32m[I 2021-05-11 18:17:04,199]\u001b[0m Trial 173 finished with value: 0.02163767496454139 and parameters: {'max_depth': 48, 'num_leaves': 15, 'learning_rate': 0.1, 'min_child_samples': 339, 'min_child_weight': 10.0, 'subsample': 0.7262995014261272, 'colsample_bytree': 0.4002545002306966, 'reg_alpha': 0.1, 'reg_lambda': 20}. Best is trial 154 with value: 0.021544278803361305.\u001b[0m\n"
     ]
    },
    {
     "name": "stdout",
     "output_type": "stream",
     "text": [
      "[18:17:04] WARNING: C:\\Users\\Administrator\\workspace\\xgboost-win64_release_1.1.0\\src\\learner.cc:480: \n",
      "Parameters: { min_child_samples, num_leaves } might not be used.\n",
      "\n",
      "  This may not be accurate due to some parameters are only used in language bindings but\n",
      "  passed down to XGBoost core.  Or some parameters are not used but slip through this\n",
      "  verification. Please open an issue if you find above cases.\n",
      "\n",
      "\n"
     ]
    },
    {
     "name": "stderr",
     "output_type": "stream",
     "text": [
      "\u001b[32m[I 2021-05-11 18:17:07,927]\u001b[0m Trial 174 finished with value: 0.021759742750857253 and parameters: {'max_depth': 48, 'num_leaves': 15, 'learning_rate': 0.1, 'min_child_samples': 322, 'min_child_weight': 10.0, 'subsample': 0.7256115181945311, 'colsample_bytree': 0.4083724929394532, 'reg_alpha': 0.1, 'reg_lambda': 20}. Best is trial 154 with value: 0.021544278803361305.\u001b[0m\n"
     ]
    },
    {
     "name": "stdout",
     "output_type": "stream",
     "text": [
      "[18:17:07] WARNING: C:\\Users\\Administrator\\workspace\\xgboost-win64_release_1.1.0\\src\\learner.cc:480: \n",
      "Parameters: { min_child_samples, num_leaves } might not be used.\n",
      "\n",
      "  This may not be accurate due to some parameters are only used in language bindings but\n",
      "  passed down to XGBoost core.  Or some parameters are not used but slip through this\n",
      "  verification. Please open an issue if you find above cases.\n",
      "\n",
      "\n"
     ]
    },
    {
     "name": "stderr",
     "output_type": "stream",
     "text": [
      "\u001b[32m[I 2021-05-11 18:17:11,654]\u001b[0m Trial 175 finished with value: 0.021717525281084817 and parameters: {'max_depth': 47, 'num_leaves': 15, 'learning_rate': 0.1, 'min_child_samples': 322, 'min_child_weight': 10.0, 'subsample': 0.6950062773482962, 'colsample_bytree': 0.40866059138451877, 'reg_alpha': 0.1, 'reg_lambda': 20}. Best is trial 154 with value: 0.021544278803361305.\u001b[0m\n"
     ]
    },
    {
     "name": "stdout",
     "output_type": "stream",
     "text": [
      "[18:17:11] WARNING: C:\\Users\\Administrator\\workspace\\xgboost-win64_release_1.1.0\\src\\learner.cc:480: \n",
      "Parameters: { min_child_samples, num_leaves } might not be used.\n",
      "\n",
      "  This may not be accurate due to some parameters are only used in language bindings but\n",
      "  passed down to XGBoost core.  Or some parameters are not used but slip through this\n",
      "  verification. Please open an issue if you find above cases.\n",
      "\n",
      "\n"
     ]
    },
    {
     "name": "stderr",
     "output_type": "stream",
     "text": [
      "\u001b[32m[I 2021-05-11 18:17:16,062]\u001b[0m Trial 176 finished with value: 0.021850837248965374 and parameters: {'max_depth': 47, 'num_leaves': 15, 'learning_rate': 0.1, 'min_child_samples': 322, 'min_child_weight': 10.0, 'subsample': 0.6910452381025722, 'colsample_bytree': 0.40919375653792633, 'reg_alpha': 0.1, 'reg_lambda': 20}. Best is trial 154 with value: 0.021544278803361305.\u001b[0m\n"
     ]
    },
    {
     "name": "stdout",
     "output_type": "stream",
     "text": [
      "[18:17:16] WARNING: C:\\Users\\Administrator\\workspace\\xgboost-win64_release_1.1.0\\src\\learner.cc:480: \n",
      "Parameters: { min_child_samples, num_leaves } might not be used.\n",
      "\n",
      "  This may not be accurate due to some parameters are only used in language bindings but\n",
      "  passed down to XGBoost core.  Or some parameters are not used but slip through this\n",
      "  verification. Please open an issue if you find above cases.\n",
      "\n",
      "\n"
     ]
    },
    {
     "name": "stderr",
     "output_type": "stream",
     "text": [
      "\u001b[32m[I 2021-05-11 18:17:20,080]\u001b[0m Trial 177 finished with value: 0.02207185761081055 and parameters: {'max_depth': 49, 'num_leaves': 15, 'learning_rate': 0.1, 'min_child_samples': 307, 'min_child_weight': 10.0, 'subsample': 0.728262568616537, 'colsample_bytree': 0.41366219392958603, 'reg_alpha': 0.1, 'reg_lambda': 50}. Best is trial 154 with value: 0.021544278803361305.\u001b[0m\n"
     ]
    },
    {
     "name": "stdout",
     "output_type": "stream",
     "text": [
      "[18:17:20] WARNING: C:\\Users\\Administrator\\workspace\\xgboost-win64_release_1.1.0\\src\\learner.cc:480: \n",
      "Parameters: { min_child_samples, num_leaves } might not be used.\n",
      "\n",
      "  This may not be accurate due to some parameters are only used in language bindings but\n",
      "  passed down to XGBoost core.  Or some parameters are not used but slip through this\n",
      "  verification. Please open an issue if you find above cases.\n",
      "\n",
      "\n"
     ]
    },
    {
     "name": "stderr",
     "output_type": "stream",
     "text": [
      "\u001b[32m[I 2021-05-11 18:17:24,808]\u001b[0m Trial 178 finished with value: 0.021689378089073487 and parameters: {'max_depth': 48, 'num_leaves': 17, 'learning_rate': 0.1, 'min_child_samples': 329, 'min_child_weight': 10.0, 'subsample': 0.78114719459658, 'colsample_bytree': 0.40710136513395734, 'reg_alpha': 0.1, 'reg_lambda': 20}. Best is trial 154 with value: 0.021544278803361305.\u001b[0m\n"
     ]
    },
    {
     "name": "stdout",
     "output_type": "stream",
     "text": [
      "[18:17:24] WARNING: C:\\Users\\Administrator\\workspace\\xgboost-win64_release_1.1.0\\src\\learner.cc:480: \n",
      "Parameters: { min_child_samples, num_leaves } might not be used.\n",
      "\n",
      "  This may not be accurate due to some parameters are only used in language bindings but\n",
      "  passed down to XGBoost core.  Or some parameters are not used but slip through this\n",
      "  verification. Please open an issue if you find above cases.\n",
      "\n",
      "\n"
     ]
    },
    {
     "name": "stderr",
     "output_type": "stream",
     "text": [
      "\u001b[32m[I 2021-05-11 18:17:28,690]\u001b[0m Trial 179 finished with value: 0.02187922096817399 and parameters: {'max_depth': 47, 'num_leaves': 17, 'learning_rate': 0.1, 'min_child_samples': 320, 'min_child_weight': 10.0, 'subsample': 0.7829568006030909, 'colsample_bytree': 0.4069593478318742, 'reg_alpha': 0.1, 'reg_lambda': 20}. Best is trial 154 with value: 0.021544278803361305.\u001b[0m\n"
     ]
    },
    {
     "name": "stdout",
     "output_type": "stream",
     "text": [
      "[18:17:28] WARNING: C:\\Users\\Administrator\\workspace\\xgboost-win64_release_1.1.0\\src\\learner.cc:480: \n",
      "Parameters: { min_child_samples, num_leaves } might not be used.\n",
      "\n",
      "  This may not be accurate due to some parameters are only used in language bindings but\n",
      "  passed down to XGBoost core.  Or some parameters are not used but slip through this\n",
      "  verification. Please open an issue if you find above cases.\n",
      "\n",
      "\n"
     ]
    },
    {
     "name": "stderr",
     "output_type": "stream",
     "text": [
      "\u001b[32m[I 2021-05-11 18:17:32,148]\u001b[0m Trial 180 finished with value: 0.02171261519015371 and parameters: {'max_depth': 48, 'num_leaves': 19, 'learning_rate': 0.1, 'min_child_samples': 330, 'min_child_weight': 10.0, 'subsample': 0.6940919331120426, 'colsample_bytree': 0.4003599821716965, 'reg_alpha': 0.1, 'reg_lambda': 20}. Best is trial 154 with value: 0.021544278803361305.\u001b[0m\n"
     ]
    },
    {
     "name": "stdout",
     "output_type": "stream",
     "text": [
      "[18:17:32] WARNING: C:\\Users\\Administrator\\workspace\\xgboost-win64_release_1.1.0\\src\\learner.cc:480: \n",
      "Parameters: { min_child_samples, num_leaves } might not be used.\n",
      "\n",
      "  This may not be accurate due to some parameters are only used in language bindings but\n",
      "  passed down to XGBoost core.  Or some parameters are not used but slip through this\n",
      "  verification. Please open an issue if you find above cases.\n",
      "\n",
      "\n"
     ]
    },
    {
     "name": "stderr",
     "output_type": "stream",
     "text": [
      "\u001b[32m[I 2021-05-11 18:17:35,703]\u001b[0m Trial 181 finished with value: 0.02162732395942019 and parameters: {'max_depth': 48, 'num_leaves': 19, 'learning_rate': 0.1, 'min_child_samples': 329, 'min_child_weight': 10.0, 'subsample': 0.6967169251320996, 'colsample_bytree': 0.400049346376771, 'reg_alpha': 0.1, 'reg_lambda': 20}. Best is trial 154 with value: 0.021544278803361305.\u001b[0m\n"
     ]
    },
    {
     "name": "stdout",
     "output_type": "stream",
     "text": [
      "[18:17:35] WARNING: C:\\Users\\Administrator\\workspace\\xgboost-win64_release_1.1.0\\src\\learner.cc:480: \n",
      "Parameters: { min_child_samples, num_leaves } might not be used.\n",
      "\n",
      "  This may not be accurate due to some parameters are only used in language bindings but\n",
      "  passed down to XGBoost core.  Or some parameters are not used but slip through this\n",
      "  verification. Please open an issue if you find above cases.\n",
      "\n",
      "\n"
     ]
    },
    {
     "name": "stderr",
     "output_type": "stream",
     "text": [
      "\u001b[32m[I 2021-05-11 18:17:39,236]\u001b[0m Trial 182 finished with value: 0.02186933483313203 and parameters: {'max_depth': 47, 'num_leaves': 17, 'learning_rate': 0.1, 'min_child_samples': 330, 'min_child_weight': 10.0, 'subsample': 0.7016460154979927, 'colsample_bytree': 0.4004191123042432, 'reg_alpha': 0.1, 'reg_lambda': 20}. Best is trial 154 with value: 0.021544278803361305.\u001b[0m\n"
     ]
    },
    {
     "name": "stdout",
     "output_type": "stream",
     "text": [
      "[18:17:39] WARNING: C:\\Users\\Administrator\\workspace\\xgboost-win64_release_1.1.0\\src\\learner.cc:480: \n",
      "Parameters: { min_child_samples, num_leaves } might not be used.\n",
      "\n",
      "  This may not be accurate due to some parameters are only used in language bindings but\n",
      "  passed down to XGBoost core.  Or some parameters are not used but slip through this\n",
      "  verification. Please open an issue if you find above cases.\n",
      "\n",
      "\n"
     ]
    },
    {
     "name": "stderr",
     "output_type": "stream",
     "text": [
      "\u001b[32m[I 2021-05-11 18:17:43,027]\u001b[0m Trial 183 finished with value: 0.021970651155981322 and parameters: {'max_depth': 48, 'num_leaves': 19, 'learning_rate': 0.1, 'min_child_samples': 313, 'min_child_weight': 10.0, 'subsample': 0.7285902510977751, 'colsample_bytree': 0.40284229198116794, 'reg_alpha': 0.1, 'reg_lambda': 20}. Best is trial 154 with value: 0.021544278803361305.\u001b[0m\n"
     ]
    },
    {
     "name": "stdout",
     "output_type": "stream",
     "text": [
      "[18:17:43] WARNING: C:\\Users\\Administrator\\workspace\\xgboost-win64_release_1.1.0\\src\\learner.cc:480: \n",
      "Parameters: { min_child_samples, num_leaves } might not be used.\n",
      "\n",
      "  This may not be accurate due to some parameters are only used in language bindings but\n",
      "  passed down to XGBoost core.  Or some parameters are not used but slip through this\n",
      "  verification. Please open an issue if you find above cases.\n",
      "\n",
      "\n"
     ]
    },
    {
     "name": "stderr",
     "output_type": "stream",
     "text": [
      "\u001b[32m[I 2021-05-11 18:17:46,469]\u001b[0m Trial 184 finished with value: 0.021852732524026183 and parameters: {'max_depth': 48, 'num_leaves': 20, 'learning_rate': 0.1, 'min_child_samples': 326, 'min_child_weight': 10.0, 'subsample': 0.6785651511405856, 'colsample_bytree': 0.405136646147265, 'reg_alpha': 0.1, 'reg_lambda': 20}. Best is trial 154 with value: 0.021544278803361305.\u001b[0m\n"
     ]
    },
    {
     "name": "stdout",
     "output_type": "stream",
     "text": [
      "[18:17:46] WARNING: C:\\Users\\Administrator\\workspace\\xgboost-win64_release_1.1.0\\src\\learner.cc:480: \n",
      "Parameters: { min_child_samples, num_leaves } might not be used.\n",
      "\n",
      "  This may not be accurate due to some parameters are only used in language bindings but\n",
      "  passed down to XGBoost core.  Or some parameters are not used but slip through this\n",
      "  verification. Please open an issue if you find above cases.\n",
      "\n",
      "\n"
     ]
    },
    {
     "name": "stderr",
     "output_type": "stream",
     "text": [
      "\u001b[32m[I 2021-05-11 18:17:48,112]\u001b[0m Trial 185 finished with value: 0.24817864602128675 and parameters: {'max_depth': 47, 'num_leaves': 18, 'learning_rate': 0.01, 'min_child_samples': 333, 'min_child_weight': 10.0, 'subsample': 0.7980906162686695, 'colsample_bytree': 0.4126083032348622, 'reg_alpha': 0.1, 'reg_lambda': 20}. Best is trial 154 with value: 0.021544278803361305.\u001b[0m\n"
     ]
    },
    {
     "name": "stdout",
     "output_type": "stream",
     "text": [
      "[18:17:48] WARNING: C:\\Users\\Administrator\\workspace\\xgboost-win64_release_1.1.0\\src\\learner.cc:480: \n",
      "Parameters: { min_child_samples, num_leaves } might not be used.\n",
      "\n",
      "  This may not be accurate due to some parameters are only used in language bindings but\n",
      "  passed down to XGBoost core.  Or some parameters are not used but slip through this\n",
      "  verification. Please open an issue if you find above cases.\n",
      "\n",
      "\n"
     ]
    },
    {
     "name": "stderr",
     "output_type": "stream",
     "text": [
      "\u001b[32m[I 2021-05-11 18:17:52,316]\u001b[0m Trial 186 finished with value: 0.02178722387495933 and parameters: {'max_depth': 46, 'num_leaves': 16, 'learning_rate': 0.1, 'min_child_samples': 320, 'min_child_weight': 10.0, 'subsample': 0.7566597321590902, 'colsample_bytree': 0.40023907085735855, 'reg_alpha': 0.1, 'reg_lambda': 20}. Best is trial 154 with value: 0.021544278803361305.\u001b[0m\n"
     ]
    },
    {
     "name": "stdout",
     "output_type": "stream",
     "text": [
      "[18:17:52] WARNING: C:\\Users\\Administrator\\workspace\\xgboost-win64_release_1.1.0\\src\\learner.cc:480: \n",
      "Parameters: { min_child_samples, num_leaves } might not be used.\n",
      "\n",
      "  This may not be accurate due to some parameters are only used in language bindings but\n",
      "  passed down to XGBoost core.  Or some parameters are not used but slip through this\n",
      "  verification. Please open an issue if you find above cases.\n",
      "\n",
      "\n"
     ]
    },
    {
     "name": "stderr",
     "output_type": "stream",
     "text": [
      "\u001b[32m[I 2021-05-11 18:17:58,044]\u001b[0m Trial 187 finished with value: 0.023216236792104467 and parameters: {'max_depth': 48, 'num_leaves': 19, 'learning_rate': 0.1, 'min_child_samples': 338, 'min_child_weight': 10.0, 'subsample': 0.7224904642085497, 'colsample_bytree': 0.4064507609961567, 'reg_alpha': 0.1, 'reg_lambda': 0}. Best is trial 154 with value: 0.021544278803361305.\u001b[0m\n"
     ]
    },
    {
     "name": "stdout",
     "output_type": "stream",
     "text": [
      "[18:17:58] WARNING: C:\\Users\\Administrator\\workspace\\xgboost-win64_release_1.1.0\\src\\learner.cc:480: \n",
      "Parameters: { min_child_samples, num_leaves } might not be used.\n",
      "\n",
      "  This may not be accurate due to some parameters are only used in language bindings but\n",
      "  passed down to XGBoost core.  Or some parameters are not used but slip through this\n",
      "  verification. Please open an issue if you find above cases.\n",
      "\n",
      "\n"
     ]
    }
   ],
   "source": [
    "study = optuna.create_study(direction='minimize')\n",
    "study.optimize(objective, n_trials=1000)\n",
    "trial = study.best_trial\n",
    "print('Accuracy: {}'.format(trial.value))\n",
    "print(\"Best hyperparameters: {}\".format(trial.params))"
   ]
  },
  {
   "cell_type": "code",
   "execution_count": null,
   "metadata": {},
   "outputs": [],
   "source": [
    "from yellowbrick.model_selection import learning_curve\n",
    "\n",
    "# Build model with the best params\n",
    "best = XGBRegressor(**study.best_params )"
   ]
  },
  {
   "cell_type": "code",
   "execution_count": null,
   "metadata": {},
   "outputs": [],
   "source": [
    "best.fit(X_train, y_train)\n",
    "y_pred = best.predict(X_test)\n",
    "y_pred = y_pred.astype(int)\n",
    "y_pred = pd.DataFrame(y_pred, columns=['Survived'], index=X_test.index)\n",
    "# saving the dataframe \n",
    "y_pred.to_csv('Predictions.csv') "
   ]
  }
 ],
 "metadata": {
  "kernelspec": {
   "display_name": "Python 3",
   "language": "python",
   "name": "python3"
  },
  "language_info": {
   "codemirror_mode": {
    "name": "ipython",
    "version": 3
   },
   "file_extension": ".py",
   "mimetype": "text/x-python",
   "name": "python",
   "nbconvert_exporter": "python",
   "pygments_lexer": "ipython3",
   "version": "3.7.9"
  }
 },
 "nbformat": 4,
 "nbformat_minor": 4
}
