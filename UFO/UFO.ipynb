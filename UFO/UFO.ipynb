{
 "cells": [
  {
   "cell_type": "markdown",
   "source": [
    "### Practice from https://www.w3resource.com/python-exercises/pandas/datetime/index.php"
   ],
   "metadata": {
    "collapsed": false,
    "pycharm": {
     "name": "#%% md\n"
    }
   }
  },
  {
   "cell_type": "code",
   "execution_count": 1,
   "metadata": {
    "collapsed": true,
    "pycharm": {
     "name": "#%%\n"
    }
   },
   "outputs": [
    {
     "data": {
      "text/plain": "<IPython.core.display.HTML object>",
      "text/html": "<style type='text/css'>\n.datatable table.frame { margin-bottom: 0; }\n.datatable table.frame thead { border-bottom: none; }\n.datatable table.frame tr.coltypes td {  color: #FFFFFF;  line-height: 6px;  padding: 0 0.5em;}\n.datatable .bool    { background: #DDDD99; }\n.datatable .object  { background: #565656; }\n.datatable .int     { background: #5D9E5D; }\n.datatable .float   { background: #4040CC; }\n.datatable .str     { background: #CC4040; }\n.datatable .time    { background: #40CC40; }\n.datatable .row_index {  background: var(--jp-border-color3);  border-right: 1px solid var(--jp-border-color0);  color: var(--jp-ui-font-color3);  font-size: 9px;}\n.datatable .frame tbody td { text-align: left; }\n.datatable .frame tr.coltypes .row_index {  background: var(--jp-border-color0);}\n.datatable th:nth-child(2) { padding-left: 12px; }\n.datatable .hellipsis {  color: var(--jp-cell-editor-border-color);}\n.datatable .vellipsis {  background: var(--jp-layout-color0);  color: var(--jp-cell-editor-border-color);}\n.datatable .na {  color: var(--jp-cell-editor-border-color);  font-size: 80%;}\n.datatable .sp {  opacity: 0.25;}\n.datatable .footer { font-size: 9px; }\n.datatable .frame_dimensions {  background: var(--jp-border-color3);  border-top: 1px solid var(--jp-border-color0);  color: var(--jp-ui-font-color3);  display: inline-block;  opacity: 0.6;  padding: 1px 10px 1px 5px;}\n</style>\n"
     },
     "metadata": {},
     "output_type": "display_data"
    }
   ],
   "source": [
    "import datatable as dt\n",
    "import pandas as pd\n",
    "import datetime\n",
    "\n",
    "df = dt.fread('ufo_sighting_data.csv').to_pandas()\n",
    "date_columns = ['Date_time', 'date_documented']\n",
    "for col in date_columns:\n",
    "    df[col] = pd.to_datetime(df[col].str.replace('24:00', '00:00'))\n",
    "df = df.dropna(axis=0, subset=['Date_time'])"
   ]
  },
  {
   "cell_type": "code",
   "execution_count": 2,
   "outputs": [
    {
     "name": "stdout",
     "output_type": "stream",
     "text": [
      "The current time is 2021-11-29 23:19:34.336773\n"
     ]
    }
   ],
   "source": [
    "# 1. Write a Pandas program to create the today's date.\n",
    "print(f'The current time is {datetime.datetime.now()}')"
   ],
   "metadata": {
    "collapsed": false,
    "pycharm": {
     "name": "#%%\n"
    }
   }
  },
  {
   "cell_type": "code",
   "execution_count": 3,
   "outputs": [],
   "source": [
    "from datetime import date\n",
    "\n",
    "# 2. Write a Pandas program to calculate all the sighting days of the unidentified flying object (ufo) from current date.\n",
    "df['until_now'] = pd.Timestamp.now().normalize() - df['Date_time']"
   ],
   "metadata": {
    "collapsed": false,
    "pycharm": {
     "name": "#%%\n"
    }
   }
  },
  {
   "cell_type": "code",
   "execution_count": 4,
   "outputs": [
    {
     "data": {
      "text/plain": "Timestamp('2021-11-29 23:19:34.369804')"
     },
     "execution_count": 4,
     "metadata": {},
     "output_type": "execute_result"
    }
   ],
   "source": [
    "pd.Timestamp.now()"
   ],
   "metadata": {
    "collapsed": false,
    "pycharm": {
     "name": "#%%\n"
    }
   }
  },
  {
   "cell_type": "code",
   "execution_count": 5,
   "outputs": [
    {
     "name": "stdout",
     "output_type": "stream",
     "text": [
      "Today's date: 2021-11-29\n",
      "The oldest date: 2014-05-08 18:45:00\n",
      "Difference: 2761 days 05:15:00\n"
     ]
    }
   ],
   "source": [
    "# Write a Pandas program to get the current date, oldest date and number of days between Current date and oldest date of Ufo dataset.\n",
    "print(f\"Today's date: {date.today()}\")\n",
    "print(f\"The oldest date: {df['Date_time'].max()}\")\n",
    "print(f\"Difference: {pd.Timestamp.today().normalize() - df['Date_time'].max()}\")"
   ],
   "metadata": {
    "collapsed": false,
    "pycharm": {
     "name": "#%%\n"
    }
   }
  },
  {
   "cell_type": "code",
   "execution_count": 6,
   "outputs": [
    {
     "data": {
      "text/plain": "                Date_time                    city state/province country  \\\n35    1982-10-10 07:00:00  gisborne (new zealand)                          \n36    1984-10-10 05:00:00                 houston             tx      us   \n37    1984-10-10 12:00:00           traverse city             mi      us   \n38    1984-10-10 22:00:00            white plains             ny      us   \n39    1985-10-10 20:25:00      leeds (uk/england)                     gb   \n...                   ...                     ...            ...     ...   \n80327 2013-09-09 21:15:00               nashville             tn      us   \n80328 2013-09-09 22:00:00                   boise             id      us   \n80329 2013-09-09 22:00:00                    napa             ca      us   \n80330 2013-09-09 22:20:00                  vienna             va      us   \n80331 2013-09-09 23:00:00                  edmond             ok      us   \n\n       UFO_shape length_of_encounter_seconds described_duration_of_encounter  \\\n35          disk                         120                            2min   \n36        circle                          60                        1 minute   \n37         other                         120                  couple minutes   \n38     formation                          20                   15-20 seconds   \n39      triangle                         600                           10min   \n...          ...                         ...                             ...   \n80327      light                         600                      10 minutes   \n80328     circle                        1200                      20 minutes   \n80329      other                        1200                            hour   \n80330     circle                           5                       5 seconds   \n80331      cigar                        1020                      17 minutes   \n\n                                             description date_documented  \\\n35           gisborne nz 1982 wainui beach to sponge bay      2002-01-11   \n36                              2 experience with unkown      2012-04-18   \n37           translucent football seen over city airport      2003-10-07   \n38     Saw a hugh object in sky with lights intermitt...      1999-08-10   \n39     three light in the sky that led to a big black...      2003-03-04   \n...                                                  ...             ...   \n80327  Round from the distance/slowly changing colors...      2013-09-30   \n80328  Boise&#44 ID&#44 spherical&#44 20 min&#44 10 r...      2013-09-30   \n80329                                       Napa UFO&#44      2013-09-30   \n80330  Saw a five gold lit cicular craft moving fastl...      2013-09-30   \n80331  2 witnesses 2  miles apart&#44 Red &amp; White...      2013-09-30   \n\n                 latitude   longitude           until_now  \n35             -38.662334  178.017649 14294 days 17:00:00  \n36     29.763055599999997  -95.363056 13563 days 19:00:00  \n37             44.7630556  -85.620556 13563 days 12:00:00  \n38             41.0338889  -73.763333 13563 days 02:00:00  \n39     53.800000000000004   -1.583333 13198 days 03:35:00  \n...                   ...         ...                 ...  \n80327          36.1658333  -86.784444  3002 days 02:45:00  \n80328          43.6136111 -116.202500  3002 days 02:00:00  \n80329          38.2972222 -122.284444  3002 days 02:00:00  \n80330          38.9011111  -77.265556  3002 days 01:40:00  \n80331          35.6527778  -97.477778  3002 days 01:00:00  \n\n[75689 rows x 12 columns]",
      "text/html": "<div>\n<style scoped>\n    .dataframe tbody tr th:only-of-type {\n        vertical-align: middle;\n    }\n\n    .dataframe tbody tr th {\n        vertical-align: top;\n    }\n\n    .dataframe thead th {\n        text-align: right;\n    }\n</style>\n<table border=\"1\" class=\"dataframe\">\n  <thead>\n    <tr style=\"text-align: right;\">\n      <th></th>\n      <th>Date_time</th>\n      <th>city</th>\n      <th>state/province</th>\n      <th>country</th>\n      <th>UFO_shape</th>\n      <th>length_of_encounter_seconds</th>\n      <th>described_duration_of_encounter</th>\n      <th>description</th>\n      <th>date_documented</th>\n      <th>latitude</th>\n      <th>longitude</th>\n      <th>until_now</th>\n    </tr>\n  </thead>\n  <tbody>\n    <tr>\n      <th>35</th>\n      <td>1982-10-10 07:00:00</td>\n      <td>gisborne (new zealand)</td>\n      <td></td>\n      <td></td>\n      <td>disk</td>\n      <td>120</td>\n      <td>2min</td>\n      <td>gisborne nz 1982 wainui beach to sponge bay</td>\n      <td>2002-01-11</td>\n      <td>-38.662334</td>\n      <td>178.017649</td>\n      <td>14294 days 17:00:00</td>\n    </tr>\n    <tr>\n      <th>36</th>\n      <td>1984-10-10 05:00:00</td>\n      <td>houston</td>\n      <td>tx</td>\n      <td>us</td>\n      <td>circle</td>\n      <td>60</td>\n      <td>1 minute</td>\n      <td>2 experience with unkown</td>\n      <td>2012-04-18</td>\n      <td>29.763055599999997</td>\n      <td>-95.363056</td>\n      <td>13563 days 19:00:00</td>\n    </tr>\n    <tr>\n      <th>37</th>\n      <td>1984-10-10 12:00:00</td>\n      <td>traverse city</td>\n      <td>mi</td>\n      <td>us</td>\n      <td>other</td>\n      <td>120</td>\n      <td>couple minutes</td>\n      <td>translucent football seen over city airport</td>\n      <td>2003-10-07</td>\n      <td>44.7630556</td>\n      <td>-85.620556</td>\n      <td>13563 days 12:00:00</td>\n    </tr>\n    <tr>\n      <th>38</th>\n      <td>1984-10-10 22:00:00</td>\n      <td>white plains</td>\n      <td>ny</td>\n      <td>us</td>\n      <td>formation</td>\n      <td>20</td>\n      <td>15-20 seconds</td>\n      <td>Saw a hugh object in sky with lights intermitt...</td>\n      <td>1999-08-10</td>\n      <td>41.0338889</td>\n      <td>-73.763333</td>\n      <td>13563 days 02:00:00</td>\n    </tr>\n    <tr>\n      <th>39</th>\n      <td>1985-10-10 20:25:00</td>\n      <td>leeds (uk/england)</td>\n      <td></td>\n      <td>gb</td>\n      <td>triangle</td>\n      <td>600</td>\n      <td>10min</td>\n      <td>three light in the sky that led to a big black...</td>\n      <td>2003-03-04</td>\n      <td>53.800000000000004</td>\n      <td>-1.583333</td>\n      <td>13198 days 03:35:00</td>\n    </tr>\n    <tr>\n      <th>...</th>\n      <td>...</td>\n      <td>...</td>\n      <td>...</td>\n      <td>...</td>\n      <td>...</td>\n      <td>...</td>\n      <td>...</td>\n      <td>...</td>\n      <td>...</td>\n      <td>...</td>\n      <td>...</td>\n      <td>...</td>\n    </tr>\n    <tr>\n      <th>80327</th>\n      <td>2013-09-09 21:15:00</td>\n      <td>nashville</td>\n      <td>tn</td>\n      <td>us</td>\n      <td>light</td>\n      <td>600</td>\n      <td>10 minutes</td>\n      <td>Round from the distance/slowly changing colors...</td>\n      <td>2013-09-30</td>\n      <td>36.1658333</td>\n      <td>-86.784444</td>\n      <td>3002 days 02:45:00</td>\n    </tr>\n    <tr>\n      <th>80328</th>\n      <td>2013-09-09 22:00:00</td>\n      <td>boise</td>\n      <td>id</td>\n      <td>us</td>\n      <td>circle</td>\n      <td>1200</td>\n      <td>20 minutes</td>\n      <td>Boise&amp;#44 ID&amp;#44 spherical&amp;#44 20 min&amp;#44 10 r...</td>\n      <td>2013-09-30</td>\n      <td>43.6136111</td>\n      <td>-116.202500</td>\n      <td>3002 days 02:00:00</td>\n    </tr>\n    <tr>\n      <th>80329</th>\n      <td>2013-09-09 22:00:00</td>\n      <td>napa</td>\n      <td>ca</td>\n      <td>us</td>\n      <td>other</td>\n      <td>1200</td>\n      <td>hour</td>\n      <td>Napa UFO&amp;#44</td>\n      <td>2013-09-30</td>\n      <td>38.2972222</td>\n      <td>-122.284444</td>\n      <td>3002 days 02:00:00</td>\n    </tr>\n    <tr>\n      <th>80330</th>\n      <td>2013-09-09 22:20:00</td>\n      <td>vienna</td>\n      <td>va</td>\n      <td>us</td>\n      <td>circle</td>\n      <td>5</td>\n      <td>5 seconds</td>\n      <td>Saw a five gold lit cicular craft moving fastl...</td>\n      <td>2013-09-30</td>\n      <td>38.9011111</td>\n      <td>-77.265556</td>\n      <td>3002 days 01:40:00</td>\n    </tr>\n    <tr>\n      <th>80331</th>\n      <td>2013-09-09 23:00:00</td>\n      <td>edmond</td>\n      <td>ok</td>\n      <td>us</td>\n      <td>cigar</td>\n      <td>1020</td>\n      <td>17 minutes</td>\n      <td>2 witnesses 2  miles apart&amp;#44 Red &amp;amp; White...</td>\n      <td>2013-09-30</td>\n      <td>35.6527778</td>\n      <td>-97.477778</td>\n      <td>3002 days 01:00:00</td>\n    </tr>\n  </tbody>\n</table>\n<p>75689 rows × 12 columns</p>\n</div>"
     },
     "execution_count": 6,
     "metadata": {},
     "output_type": "execute_result"
    }
   ],
   "source": [
    "# 4. Write a Pandas program to get all the sighting days of the unidentified flying object (ufo) which are less than or equal to 40 years (365*40 days).\n",
    "df[df['until_now'] <= pd.Timedelta(days=365 * 40)]"
   ],
   "metadata": {
    "collapsed": false,
    "pycharm": {
     "name": "#%%\n"
    }
   }
  },
  {
   "cell_type": "code",
   "execution_count": 7,
   "outputs": [
    {
     "data": {
      "text/plain": "                Date_time                  city state/province country  \\\n2     1955-10-10 17:00:00  chester (uk/england)                     gb   \n3     1956-10-10 21:00:00                  edna             tx      us   \n4     1960-10-10 20:00:00               kaneohe             hi      us   \n480   1952-10-01 03:30:00       fukuoka (japan)                          \n481   1952-10-01 12:00:00           kansas city             mo      us   \n...                   ...                   ...            ...     ...   \n79262 1960-09-05 21:00:00               buffalo             ny      us   \n79668 1958-09-07 19:00:00                arthur             nd      us   \n80101 1952-09-09 20:00:00          philadelphia             pa      us   \n80102 1954-09-09 12:30:00              beaumont             tx      us   \n80103 1956-09-09 05:55:00               norfolk             va      us   \n\n      UFO_shape length_of_encounter_seconds described_duration_of_encounter  \\\n2        circle                          20                      20 seconds   \n3        circle                          20                        1/2 hour   \n4         light                         900                      15 minutes   \n480        disk                        1200                   about 20 mins   \n481        disk                          90                         90 sec.   \n...         ...                         ...                             ...   \n79262      oval                         180                       3 minutes   \n79668   unknown                         900                       5-15 min.   \n80101    circle                         180                       3 minutes   \n80102      disk                         300                       5 minutes   \n80103     cigar                          90                     1.5 minutes   \n\n                                             description date_documented  \\\n2      Green/Orange circular disc over Chester&#44 En...      2008-01-21   \n3      My older brother and twin sister were leaving ...      2004-01-17   \n4      AS a Marine 1st Lt. flying an FJ4B fighter/att...      2004-01-22   \n480    UFO seen by multiple U. S. military personnel;...      2006-12-07   \n481    1952 daylight sighting of multiple discs in fo...      2008-10-31   \n...                                                  ...             ...   \n79262  Precise movements of a &quot;craft&quot; appar...      2005-09-15   \n79668  Two lights of alternating color traveling and ...      2003-10-31   \n80101                   saucers in a line over Phila Pa.      2009-12-12   \n80102  Aprox. 30 Disk shaped UFOs fell out of clouds ...      2004-01-17   \n80103  Unidentified Object Hovering over Interstate 2...      2007-02-24   \n\n                 latitude   longitude           until_now  \n2                    53.2   -2.916667 24156 days 07:00:00  \n3              28.9783333  -96.645833 23790 days 03:00:00  \n4              21.4180556 -157.803611 22329 days 04:00:00  \n480    33.590354999999995  130.401716 25260 days 20:30:00  \n481    39.099722199999995  -94.578333 25260 days 12:00:00  \n...                   ...         ...                 ...  \n79262          42.8863889  -78.878611 22364 days 03:00:00  \n79668          47.1041667  -97.217778 23093 days 05:00:00  \n80101          39.9522222  -75.164167 25282 days 04:00:00  \n80102          30.0858333  -94.101667 24552 days 11:30:00  \n80103          36.8466667  -76.285556 23821 days 18:05:00  \n\n[466 rows x 12 columns]",
      "text/html": "<div>\n<style scoped>\n    .dataframe tbody tr th:only-of-type {\n        vertical-align: middle;\n    }\n\n    .dataframe tbody tr th {\n        vertical-align: top;\n    }\n\n    .dataframe thead th {\n        text-align: right;\n    }\n</style>\n<table border=\"1\" class=\"dataframe\">\n  <thead>\n    <tr style=\"text-align: right;\">\n      <th></th>\n      <th>Date_time</th>\n      <th>city</th>\n      <th>state/province</th>\n      <th>country</th>\n      <th>UFO_shape</th>\n      <th>length_of_encounter_seconds</th>\n      <th>described_duration_of_encounter</th>\n      <th>description</th>\n      <th>date_documented</th>\n      <th>latitude</th>\n      <th>longitude</th>\n      <th>until_now</th>\n    </tr>\n  </thead>\n  <tbody>\n    <tr>\n      <th>2</th>\n      <td>1955-10-10 17:00:00</td>\n      <td>chester (uk/england)</td>\n      <td></td>\n      <td>gb</td>\n      <td>circle</td>\n      <td>20</td>\n      <td>20 seconds</td>\n      <td>Green/Orange circular disc over Chester&amp;#44 En...</td>\n      <td>2008-01-21</td>\n      <td>53.2</td>\n      <td>-2.916667</td>\n      <td>24156 days 07:00:00</td>\n    </tr>\n    <tr>\n      <th>3</th>\n      <td>1956-10-10 21:00:00</td>\n      <td>edna</td>\n      <td>tx</td>\n      <td>us</td>\n      <td>circle</td>\n      <td>20</td>\n      <td>1/2 hour</td>\n      <td>My older brother and twin sister were leaving ...</td>\n      <td>2004-01-17</td>\n      <td>28.9783333</td>\n      <td>-96.645833</td>\n      <td>23790 days 03:00:00</td>\n    </tr>\n    <tr>\n      <th>4</th>\n      <td>1960-10-10 20:00:00</td>\n      <td>kaneohe</td>\n      <td>hi</td>\n      <td>us</td>\n      <td>light</td>\n      <td>900</td>\n      <td>15 minutes</td>\n      <td>AS a Marine 1st Lt. flying an FJ4B fighter/att...</td>\n      <td>2004-01-22</td>\n      <td>21.4180556</td>\n      <td>-157.803611</td>\n      <td>22329 days 04:00:00</td>\n    </tr>\n    <tr>\n      <th>480</th>\n      <td>1952-10-01 03:30:00</td>\n      <td>fukuoka (japan)</td>\n      <td></td>\n      <td></td>\n      <td>disk</td>\n      <td>1200</td>\n      <td>about 20 mins</td>\n      <td>UFO seen by multiple U. S. military personnel;...</td>\n      <td>2006-12-07</td>\n      <td>33.590354999999995</td>\n      <td>130.401716</td>\n      <td>25260 days 20:30:00</td>\n    </tr>\n    <tr>\n      <th>481</th>\n      <td>1952-10-01 12:00:00</td>\n      <td>kansas city</td>\n      <td>mo</td>\n      <td>us</td>\n      <td>disk</td>\n      <td>90</td>\n      <td>90 sec.</td>\n      <td>1952 daylight sighting of multiple discs in fo...</td>\n      <td>2008-10-31</td>\n      <td>39.099722199999995</td>\n      <td>-94.578333</td>\n      <td>25260 days 12:00:00</td>\n    </tr>\n    <tr>\n      <th>...</th>\n      <td>...</td>\n      <td>...</td>\n      <td>...</td>\n      <td>...</td>\n      <td>...</td>\n      <td>...</td>\n      <td>...</td>\n      <td>...</td>\n      <td>...</td>\n      <td>...</td>\n      <td>...</td>\n      <td>...</td>\n    </tr>\n    <tr>\n      <th>79262</th>\n      <td>1960-09-05 21:00:00</td>\n      <td>buffalo</td>\n      <td>ny</td>\n      <td>us</td>\n      <td>oval</td>\n      <td>180</td>\n      <td>3 minutes</td>\n      <td>Precise movements of a &amp;quot;craft&amp;quot; appar...</td>\n      <td>2005-09-15</td>\n      <td>42.8863889</td>\n      <td>-78.878611</td>\n      <td>22364 days 03:00:00</td>\n    </tr>\n    <tr>\n      <th>79668</th>\n      <td>1958-09-07 19:00:00</td>\n      <td>arthur</td>\n      <td>nd</td>\n      <td>us</td>\n      <td>unknown</td>\n      <td>900</td>\n      <td>5-15 min.</td>\n      <td>Two lights of alternating color traveling and ...</td>\n      <td>2003-10-31</td>\n      <td>47.1041667</td>\n      <td>-97.217778</td>\n      <td>23093 days 05:00:00</td>\n    </tr>\n    <tr>\n      <th>80101</th>\n      <td>1952-09-09 20:00:00</td>\n      <td>philadelphia</td>\n      <td>pa</td>\n      <td>us</td>\n      <td>circle</td>\n      <td>180</td>\n      <td>3 minutes</td>\n      <td>saucers in a line over Phila Pa.</td>\n      <td>2009-12-12</td>\n      <td>39.9522222</td>\n      <td>-75.164167</td>\n      <td>25282 days 04:00:00</td>\n    </tr>\n    <tr>\n      <th>80102</th>\n      <td>1954-09-09 12:30:00</td>\n      <td>beaumont</td>\n      <td>tx</td>\n      <td>us</td>\n      <td>disk</td>\n      <td>300</td>\n      <td>5 minutes</td>\n      <td>Aprox. 30 Disk shaped UFOs fell out of clouds ...</td>\n      <td>2004-01-17</td>\n      <td>30.0858333</td>\n      <td>-94.101667</td>\n      <td>24552 days 11:30:00</td>\n    </tr>\n    <tr>\n      <th>80103</th>\n      <td>1956-09-09 05:55:00</td>\n      <td>norfolk</td>\n      <td>va</td>\n      <td>us</td>\n      <td>cigar</td>\n      <td>90</td>\n      <td>1.5 minutes</td>\n      <td>Unidentified Object Hovering over Interstate 2...</td>\n      <td>2007-02-24</td>\n      <td>36.8466667</td>\n      <td>-76.285556</td>\n      <td>23821 days 18:05:00</td>\n    </tr>\n  </tbody>\n</table>\n<p>466 rows × 12 columns</p>\n</div>"
     },
     "execution_count": 7,
     "metadata": {},
     "output_type": "execute_result"
    }
   ],
   "source": [
    "# 5. Write a Pandas program to get all the sighting days of the unidentified flying object (ufo) between 1950-10-10 and 1960-10-10.\n",
    "df[(date(1950, 10, 10) <= df['Date_time'].dt.date) & (df['Date_time'].dt.date <= date(1960, 10, 10))]"
   ],
   "metadata": {
    "collapsed": false,
    "pycharm": {
     "name": "#%%\n"
    }
   }
  },
  {
   "cell_type": "code",
   "execution_count": 8,
   "outputs": [],
   "source": [
    "# 6. Write a Pandas program to get all the sighting years of the unidentified flying object (ufo) and create the year as column.\n",
    "df['year'] = df['Date_time'].dt.year.apply(int)"
   ],
   "metadata": {
    "collapsed": false,
    "pycharm": {
     "name": "#%%\n"
    }
   }
  },
  {
   "cell_type": "code",
   "execution_count": 9,
   "outputs": [
    {
     "data": {
      "text/plain": "[Text(0.5, 1.0, 'Number of UFO report by year')]"
     },
     "execution_count": 9,
     "metadata": {},
     "output_type": "execute_result"
    },
    {
     "data": {
      "text/plain": "<Figure size 1080x720 with 1 Axes>",
      "image/png": "[encoded data removed]"
     },
     "metadata": {},
     "output_type": "display_data"
    }
   ],
   "source": [
    "import seaborn as sb\n",
    "\n",
    "# 7. Write a Pandas program to create a plot to present the number of unidentified flying object (UFO) reports per year.\n",
    "df7 = pd.DataFrame(df.groupby(pd.Grouper(key='Date_time', axis=0,\n",
    "                                         freq='AS'))['Date_time'].agg(number_of_reports='count'))\n",
    "df7['year'] = pd.DatetimeIndex(df7.index).year\n",
    "df7.set_index(keys='year', inplace=True)\n",
    "sb.set(rc={\"figure.figsize\": (15, 10)})\n",
    "sb.lineplot(data=df7, x='year', y='number_of_reports').set(title='Number of UFO report by year')"
   ],
   "metadata": {
    "collapsed": false,
    "pycharm": {
     "name": "#%%\n"
    }
   }
  },
  {
   "cell_type": "code",
   "execution_count": 10,
   "outputs": [
    {
     "name": "stdout",
     "output_type": "stream",
     "text": [
      "0    1949\n",
      "1    1949\n",
      "2    1955\n",
      "3    1956\n",
      "4    1960\n",
      "Name: Date_time, dtype: int64\n",
      "0    10\n",
      "1    10\n",
      "2    10\n",
      "3    10\n",
      "4    10\n",
      "Name: Date_time, dtype: int64\n",
      "0    10\n",
      "1    10\n",
      "2    10\n",
      "3    10\n",
      "4    10\n",
      "Name: Date_time, dtype: int64\n",
      "0    20\n",
      "1    21\n",
      "2    17\n",
      "3    21\n",
      "4    20\n",
      "Name: Date_time, dtype: int64\n",
      "0    30\n",
      "1     0\n",
      "2     0\n",
      "3     0\n",
      "4     0\n",
      "Name: Date_time, dtype: int64\n",
      "0    0\n",
      "1    0\n",
      "2    0\n",
      "3    0\n",
      "4    0\n",
      "Name: Date_time, dtype: int64\n",
      "0    0\n",
      "1    0\n",
      "2    0\n",
      "3    2\n",
      "4    0\n",
      "Name: Date_time, dtype: int64\n"
     ]
    }
   ],
   "source": [
    "# 8. Write a Pandas program to extract year, month, day, hour, minute, second and weekday from unidentified flying object (UFO) reporting date.\n",
    "df = dt.fread('ufo_sighting_data.csv').to_pandas()\n",
    "date_columns = ['Date_time', 'date_documented']\n",
    "for col in date_columns:\n",
    "    df[col] = pd.to_datetime(df[col].str.replace('24:00', '00:00'))\n",
    "df = df.dropna(axis=0, subset=['Date_time'])\n",
    "\n",
    "print(df['Date_time'].dt.year.head())\n",
    "print(df['Date_time'].dt.month.head())\n",
    "print(df['Date_time'].dt.day.head())\n",
    "print(df['Date_time'].dt.hour.head())\n",
    "print(df['Date_time'].dt.minute.head())\n",
    "print(df['Date_time'].dt.second.head())\n",
    "print(df['Date_time'].dt.weekday.head())"
   ],
   "metadata": {
    "collapsed": false,
    "pycharm": {
     "name": "#%%\n"
    }
   }
  },
  {
   "cell_type": "code",
   "execution_count": 11,
   "outputs": [
    {
     "name": "stdout",
     "output_type": "stream",
     "text": [
      "0   1949-10-10 20:30:00\n",
      "1   1949-10-10 21:00:00\n",
      "2   1955-10-10 17:00:00\n",
      "3   1956-10-10 21:00:00\n",
      "4   1960-10-10 20:00:00\n",
      "Name: Date_time, dtype: datetime64[ns]\n",
      "<bound method Series.to_timestamp of 0       1949-10-10 20:30:00\n",
      "1       1949-10-10 21:00:00\n",
      "2       1955-10-10 17:00:00\n",
      "3       1956-10-10 21:00:00\n",
      "4       1960-10-10 20:00:00\n",
      "                ...        \n",
      "80327   2013-09-09 21:15:00\n",
      "80328   2013-09-09 22:00:00\n",
      "80329   2013-09-09 22:00:00\n",
      "80330   2013-09-09 22:20:00\n",
      "80331   2013-09-09 23:00:00\n",
      "Name: Date_time, Length: 80332, dtype: datetime64[ns]>\n"
     ]
    }
   ],
   "source": [
    "# 8. Write a Pandas program to extract year, month, day, hour, minute, second and weekday from unidentified flying object (UFO) reporting date.\n",
    "print(pd.to_datetime((df['Date_time']).head()))\n",
    "print(df['Date_time'].to_timestamp)"
   ],
   "metadata": {
    "collapsed": false,
    "pycharm": {
     "name": "#%%\n"
    }
   }
  },
  {
   "cell_type": "code",
   "execution_count": 12,
   "outputs": [
    {
     "data": {
      "text/plain": "              number_of_reports\nyear country                   \n1906                          1\n1910 us                       2\n1916                          1\n1920 us                       1\n1925 us                       1\n...                         ...\n2014 au                      14\n     ca                      45\n     de                       3\n     gb                      21\n     us                    1964\n\n[358 rows x 1 columns]",
      "text/html": "<div>\n<style scoped>\n    .dataframe tbody tr th:only-of-type {\n        vertical-align: middle;\n    }\n\n    .dataframe tbody tr th {\n        vertical-align: top;\n    }\n\n    .dataframe thead th {\n        text-align: right;\n    }\n</style>\n<table border=\"1\" class=\"dataframe\">\n  <thead>\n    <tr style=\"text-align: right;\">\n      <th></th>\n      <th></th>\n      <th>number_of_reports</th>\n    </tr>\n    <tr>\n      <th>year</th>\n      <th>country</th>\n      <th></th>\n    </tr>\n  </thead>\n  <tbody>\n    <tr>\n      <th>1906</th>\n      <th></th>\n      <td>1</td>\n    </tr>\n    <tr>\n      <th>1910</th>\n      <th>us</th>\n      <td>2</td>\n    </tr>\n    <tr>\n      <th>1916</th>\n      <th></th>\n      <td>1</td>\n    </tr>\n    <tr>\n      <th>1920</th>\n      <th>us</th>\n      <td>1</td>\n    </tr>\n    <tr>\n      <th>1925</th>\n      <th>us</th>\n      <td>1</td>\n    </tr>\n    <tr>\n      <th>...</th>\n      <th>...</th>\n      <td>...</td>\n    </tr>\n    <tr>\n      <th rowspan=\"5\" valign=\"top\">2014</th>\n      <th>au</th>\n      <td>14</td>\n    </tr>\n    <tr>\n      <th>ca</th>\n      <td>45</td>\n    </tr>\n    <tr>\n      <th>de</th>\n      <td>3</td>\n    </tr>\n    <tr>\n      <th>gb</th>\n      <td>21</td>\n    </tr>\n    <tr>\n      <th>us</th>\n      <td>1964</td>\n    </tr>\n  </tbody>\n</table>\n<p>358 rows × 1 columns</p>\n</div>"
     },
     "execution_count": 12,
     "metadata": {},
     "output_type": "execute_result"
    }
   ],
   "source": [
    "# 10. Write a Pandas program to count year-country wise frequency of reporting dates of unidentified flying object(UFO).\n",
    "df['year'] = df['Date_time'].dt.year\n",
    "df.groupby(by=['year', 'country'])['city'].agg(number_of_reports='count')"
   ],
   "metadata": {
    "collapsed": false,
    "pycharm": {
     "name": "#%%\n"
    }
   }
  },
  {
   "cell_type": "code",
   "execution_count": 13,
   "outputs": [
    {
     "data": {
      "text/plain": "7863     1906-11-11\n10580    1910-01-01\n46858    1910-06-01\n40275    1916-04-05\n46694    1920-06-11\n            ...    \n45601    2014-05-04\n45828    2014-05-05\n45990    2014-05-06\n46143    2014-05-07\n46301    2014-05-08\nName: Date_time, Length: 10525, dtype: object"
     },
     "execution_count": 13,
     "metadata": {},
     "output_type": "execute_result"
    }
   ],
   "source": [
    "# 11. Write a Pandas program to extract unique reporting dates of unidentified flying object (UFO).\n",
    "unique_dates = df['Date_time'].dt.date.drop_duplicates().sort_values()\n",
    "unique_dates"
   ],
   "metadata": {
    "collapsed": false,
    "pycharm": {
     "name": "#%%\n"
    }
   }
  },
  {
   "cell_type": "code",
   "execution_count": 14,
   "outputs": [
    {
     "data": {
      "text/plain": "0   19922 days 03:30:00\n1   20520 days 03:00:00\n2   19095 days 07:00:00\n3   17264 days 03:00:00\n4   15808 days 04:00:00\ndtype: timedelta64[ns]"
     },
     "execution_count": 14,
     "metadata": {},
     "output_type": "execute_result"
    }
   ],
   "source": [
    "# 12. Write a Pandas program to get the difference (in days) between documented date and reporting date of unidentified flying object (UFO).\n",
    "(df['date_documented'] - df['Date_time']).head()"
   ],
   "metadata": {
    "collapsed": false,
    "pycharm": {
     "name": "#%%\n"
    }
   }
  },
  {
   "cell_type": "code",
   "execution_count": 15,
   "outputs": [
    {
     "data": {
      "text/plain": "0        2004-08-05\n1        2006-03-26\n2        2008-04-30\n3        2004-04-26\n4        2004-05-01\n            ...    \n80327    2014-01-08\n80328    2014-01-08\n80329    2014-01-08\n80330    2014-01-08\n80331    2014-01-08\nName: date_documented, Length: 80332, dtype: object"
     },
     "execution_count": 15,
     "metadata": {},
     "output_type": "execute_result"
    }
   ],
   "source": [
    "# 13. Write a Pandas program to add 100 days with reporting date of unidentified flying object (UFO).\n",
    "df['date_documented'].dt.date + pd.Timedelta(days=100)"
   ],
   "metadata": {
    "collapsed": false,
    "pycharm": {
     "name": "#%%\n"
    }
   }
  },
  {
   "cell_type": "code",
   "execution_count": 16,
   "outputs": [
    {
     "data": {
      "text/plain": "DatetimeIndex(['1987-11-30', '1987-12-31', '1988-01-29', '1988-02-29',\n               '1988-03-31', '1988-04-29', '1988-05-31', '1988-06-30',\n               '1988-07-29', '1988-08-31',\n               ...\n               '2021-01-29', '2021-02-26', '2021-03-31', '2021-04-30',\n               '2021-05-31', '2021-06-30', '2021-07-30', '2021-08-31',\n               '2021-09-30', '2021-10-29'],\n              dtype='datetime64[ns]', length=408, freq='BM')"
     },
     "execution_count": 16,
     "metadata": {},
     "output_type": "execute_result"
    }
   ],
   "source": [
    "# 14. Write a Pandas program to generate sequences of fixed-frequency dates and time spans.\n",
    "pd.date_range(start='1987-11-18', end='2021-11-29', freq='BM')"
   ],
   "metadata": {
    "collapsed": false,
    "pycharm": {
     "name": "#%%\n"
    }
   }
  },
  {
   "cell_type": "code",
   "execution_count": 17,
   "outputs": [
    {
     "name": "stdout",
     "output_type": "stream",
     "text": [
      "1991-12-24 00:00:00 24/12/1991\n"
     ]
    }
   ],
   "source": [
    "# 15. Write a Pandas program to create a conversion between strings and datetime.\n",
    "print(pd.to_datetime('1991-12-24'), pd.to_datetime('1991-12-24').strftime('%d/%m/%Y'))"
   ],
   "metadata": {
    "collapsed": false,
    "pycharm": {
     "name": "#%%\n"
    }
   }
  },
  {
   "cell_type": "code",
   "execution_count": 18,
   "outputs": [
    {
     "data": {
      "text/plain": "                                           city state/province country  \\\nDate_time                                                                \n1949-10-11 02:00:00+05:30            san marcos             tx      us   \n1949-10-11 02:30:00+05:30          lackland afb             tx           \n1955-10-10 22:30:00+05:30  chester (uk/england)                     gb   \n1956-10-11 02:30:00+05:30                  edna             tx      us   \n1960-10-11 01:30:00+05:30               kaneohe             hi      us   \n\n                          UFO_shape length_of_encounter_seconds  \\\nDate_time                                                         \n1949-10-11 02:00:00+05:30  cylinder                        2700   \n1949-10-11 02:30:00+05:30     light                        7200   \n1955-10-10 22:30:00+05:30    circle                          20   \n1956-10-11 02:30:00+05:30    circle                          20   \n1960-10-11 01:30:00+05:30     light                         900   \n\n                          described_duration_of_encounter  \\\nDate_time                                                   \n1949-10-11 02:00:00+05:30                      45 minutes   \n1949-10-11 02:30:00+05:30                         1-2 hrs   \n1955-10-10 22:30:00+05:30                      20 seconds   \n1956-10-11 02:30:00+05:30                        1/2 hour   \n1960-10-11 01:30:00+05:30                      15 minutes   \n\n                                                                 description  \\\nDate_time                                                                      \n1949-10-11 02:00:00+05:30  This event took place in early fall around 194...   \n1949-10-11 02:30:00+05:30  1949 Lackland AFB&#44 TX.  Lights racing acros...   \n1955-10-10 22:30:00+05:30  Green/Orange circular disc over Chester&#44 En...   \n1956-10-11 02:30:00+05:30  My older brother and twin sister were leaving ...   \n1960-10-11 01:30:00+05:30  AS a Marine 1st Lt. flying an FJ4B fighter/att...   \n\n                          date_documented            latitude   longitude  \\\nDate_time                                                                   \n1949-10-11 02:00:00+05:30      2004-04-27          29.8830556  -97.941111   \n1949-10-11 02:30:00+05:30      2005-12-16  29.384210000000003  -98.581082   \n1955-10-10 22:30:00+05:30      2008-01-21                53.2   -2.916667   \n1956-10-11 02:30:00+05:30      2004-01-17          28.9783333  -96.645833   \n1960-10-11 01:30:00+05:30      2004-01-22          21.4180556 -157.803611   \n\n                           year  \nDate_time                        \n1949-10-11 02:00:00+05:30  1949  \n1949-10-11 02:30:00+05:30  1949  \n1955-10-10 22:30:00+05:30  1955  \n1956-10-11 02:30:00+05:30  1956  \n1960-10-11 01:30:00+05:30  1960  ",
      "text/html": "<div>\n<style scoped>\n    .dataframe tbody tr th:only-of-type {\n        vertical-align: middle;\n    }\n\n    .dataframe tbody tr th {\n        vertical-align: top;\n    }\n\n    .dataframe thead th {\n        text-align: right;\n    }\n</style>\n<table border=\"1\" class=\"dataframe\">\n  <thead>\n    <tr style=\"text-align: right;\">\n      <th></th>\n      <th>city</th>\n      <th>state/province</th>\n      <th>country</th>\n      <th>UFO_shape</th>\n      <th>length_of_encounter_seconds</th>\n      <th>described_duration_of_encounter</th>\n      <th>description</th>\n      <th>date_documented</th>\n      <th>latitude</th>\n      <th>longitude</th>\n      <th>year</th>\n    </tr>\n    <tr>\n      <th>Date_time</th>\n      <th></th>\n      <th></th>\n      <th></th>\n      <th></th>\n      <th></th>\n      <th></th>\n      <th></th>\n      <th></th>\n      <th></th>\n      <th></th>\n      <th></th>\n    </tr>\n  </thead>\n  <tbody>\n    <tr>\n      <th>1949-10-11 02:00:00+05:30</th>\n      <td>san marcos</td>\n      <td>tx</td>\n      <td>us</td>\n      <td>cylinder</td>\n      <td>2700</td>\n      <td>45 minutes</td>\n      <td>This event took place in early fall around 194...</td>\n      <td>2004-04-27</td>\n      <td>29.8830556</td>\n      <td>-97.941111</td>\n      <td>1949</td>\n    </tr>\n    <tr>\n      <th>1949-10-11 02:30:00+05:30</th>\n      <td>lackland afb</td>\n      <td>tx</td>\n      <td></td>\n      <td>light</td>\n      <td>7200</td>\n      <td>1-2 hrs</td>\n      <td>1949 Lackland AFB&amp;#44 TX.  Lights racing acros...</td>\n      <td>2005-12-16</td>\n      <td>29.384210000000003</td>\n      <td>-98.581082</td>\n      <td>1949</td>\n    </tr>\n    <tr>\n      <th>1955-10-10 22:30:00+05:30</th>\n      <td>chester (uk/england)</td>\n      <td></td>\n      <td>gb</td>\n      <td>circle</td>\n      <td>20</td>\n      <td>20 seconds</td>\n      <td>Green/Orange circular disc over Chester&amp;#44 En...</td>\n      <td>2008-01-21</td>\n      <td>53.2</td>\n      <td>-2.916667</td>\n      <td>1955</td>\n    </tr>\n    <tr>\n      <th>1956-10-11 02:30:00+05:30</th>\n      <td>edna</td>\n      <td>tx</td>\n      <td>us</td>\n      <td>circle</td>\n      <td>20</td>\n      <td>1/2 hour</td>\n      <td>My older brother and twin sister were leaving ...</td>\n      <td>2004-01-17</td>\n      <td>28.9783333</td>\n      <td>-96.645833</td>\n      <td>1956</td>\n    </tr>\n    <tr>\n      <th>1960-10-11 01:30:00+05:30</th>\n      <td>kaneohe</td>\n      <td>hi</td>\n      <td>us</td>\n      <td>light</td>\n      <td>900</td>\n      <td>15 minutes</td>\n      <td>AS a Marine 1st Lt. flying an FJ4B fighter/att...</td>\n      <td>2004-01-22</td>\n      <td>21.4180556</td>\n      <td>-157.803611</td>\n      <td>1960</td>\n    </tr>\n  </tbody>\n</table>\n</div>"
     },
     "execution_count": 18,
     "metadata": {},
     "output_type": "execute_result"
    }
   ],
   "source": [
    "# 16. Write a Pandas program to manipulate and convert date times with timezone information.\n",
    "df.set_index(keys='Date_time', inplace=True)\n",
    "df.index = df.index.tz_localize('GMT')\n",
    "df.index = df.index.tz_convert('Asia/Kolkata')\n",
    "df.head()"
   ],
   "metadata": {
    "collapsed": false,
    "pycharm": {
     "name": "#%%\n"
    }
   }
  },
  {
   "cell_type": "code",
   "execution_count": 23,
   "outputs": [
    {
     "data": {
      "text/plain": "Timestamp('2007-07-28 02:15:17.074142464')"
     },
     "execution_count": 23,
     "metadata": {},
     "output_type": "execute_result"
    }
   ],
   "source": [
    "# 17. Write a Pandas program to get the average mean of the UFO (unidentified flying object) sighting was reported.\n",
    "df['date_documented'].mean()"
   ],
   "metadata": {
    "collapsed": false,
    "pycharm": {
     "name": "#%%\n"
    }
   }
  }
 ],
 "metadata": {
  "kernelspec": {
   "display_name": "Python 3",
   "language": "python",
   "name": "python3"
  },
  "language_info": {
   "codemirror_mode": {
    "name": "ipython",
    "version": 2
   },
   "file_extension": ".py",
   "mimetype": "text/x-python",
   "name": "python",
   "nbconvert_exporter": "python",
   "pygments_lexer": "ipython2",
   "version": "2.7.6"
  }
 },
 "nbformat": 4,
 "nbformat_minor": 0
}