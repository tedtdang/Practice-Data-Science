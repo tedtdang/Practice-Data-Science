{
 "cells": [
  {
   "cell_type": "raw",
   "metadata": {
    "collapsed": true,
    "pycharm": {
     "name": "#%% raw\n"
    }
   },
   "source": [
    "import webbrowser\n",
    "\n",
    "webbrowser.open('https://www.plus2net.com/python/pandas-dataframe-exercise3.php')"
   ]
  },
  {
   "cell_type": "code",
   "execution_count": 1,
   "outputs": [],
   "source": [
    "import pandas as pd\n",
    "\n",
    "df = pd.read_excel('log_report.xlsx')"
   ],
   "metadata": {
    "collapsed": false,
    "pycharm": {
     "name": "#%%\n"
    }
   }
  },
  {
   "cell_type": "code",
   "execution_count": 2,
   "outputs": [
    {
     "data": {
      "text/plain": "731"
     },
     "execution_count": 2,
     "metadata": {},
     "output_type": "execute_result"
    }
   ],
   "source": [
    "# 1. How many records are there for the year 2019\n",
    "df[df['st_date'].dt.year == 2019].shape[0]"
   ],
   "metadata": {
    "collapsed": false,
    "pycharm": {
     "name": "#%%\n"
    }
   }
  },
  {
   "cell_type": "code",
   "execution_count": 3,
   "outputs": [
    {
     "data": {
      "text/plain": "35"
     },
     "execution_count": 3,
     "metadata": {},
     "output_type": "execute_result"
    }
   ],
   "source": [
    "# 2.How many records are there for the year 2019 and Month March\n",
    "df[(df['st_date'].dt.year == 2019) & (df['st_date'].dt.month == 3)].shape[0]"
   ],
   "metadata": {
    "collapsed": false,
    "pycharm": {
     "name": "#%%\n"
    }
   }
  },
  {
   "cell_type": "code",
   "execution_count": 4,
   "outputs": [
    {
     "data": {
      "text/plain": "   log_id  eqpt_id   dept    st_date  activity_type\n0   28928     1720  dept6 2019-01-02  Normalization",
      "text/html": "<div>\n<style scoped>\n    .dataframe tbody tr th:only-of-type {\n        vertical-align: middle;\n    }\n\n    .dataframe tbody tr th {\n        vertical-align: top;\n    }\n\n    .dataframe thead th {\n        text-align: right;\n    }\n</style>\n<table border=\"1\" class=\"dataframe\">\n  <thead>\n    <tr style=\"text-align: right;\">\n      <th></th>\n      <th>log_id</th>\n      <th>eqpt_id</th>\n      <th>dept</th>\n      <th>st_date</th>\n      <th>activity_type</th>\n    </tr>\n  </thead>\n  <tbody>\n    <tr>\n      <th>0</th>\n      <td>28928</td>\n      <td>1720</td>\n      <td>dept6</td>\n      <td>2019-01-02</td>\n      <td>Normalization</td>\n    </tr>\n  </tbody>\n</table>\n</div>"
     },
     "execution_count": 4,
     "metadata": {},
     "output_type": "execute_result"
    }
   ],
   "source": [
    "# 3. Show the records of log_id 28928\n",
    "df[df['log_id'] == 28928]"
   ],
   "metadata": {
    "collapsed": false,
    "pycharm": {
     "name": "#%%\n"
    }
   }
  },
  {
   "cell_type": "code",
   "execution_count": 5,
   "outputs": [
    {
     "data": {
      "text/plain": "     log_id  eqpt_id   dept    st_date activity_type\n267   33777     3320  dept4 2019-06-17    Inspection\n268   33779     3320  dept4 2019-06-19    Inspection\n426   35959     3320  dept4 2019-09-02    Inspection",
      "text/html": "<div>\n<style scoped>\n    .dataframe tbody tr th:only-of-type {\n        vertical-align: middle;\n    }\n\n    .dataframe tbody tr th {\n        vertical-align: top;\n    }\n\n    .dataframe thead th {\n        text-align: right;\n    }\n</style>\n<table border=\"1\" class=\"dataframe\">\n  <thead>\n    <tr style=\"text-align: right;\">\n      <th></th>\n      <th>log_id</th>\n      <th>eqpt_id</th>\n      <th>dept</th>\n      <th>st_date</th>\n      <th>activity_type</th>\n    </tr>\n  </thead>\n  <tbody>\n    <tr>\n      <th>267</th>\n      <td>33777</td>\n      <td>3320</td>\n      <td>dept4</td>\n      <td>2019-06-17</td>\n      <td>Inspection</td>\n    </tr>\n    <tr>\n      <th>268</th>\n      <td>33779</td>\n      <td>3320</td>\n      <td>dept4</td>\n      <td>2019-06-19</td>\n      <td>Inspection</td>\n    </tr>\n    <tr>\n      <th>426</th>\n      <td>35959</td>\n      <td>3320</td>\n      <td>dept4</td>\n      <td>2019-09-02</td>\n      <td>Inspection</td>\n    </tr>\n  </tbody>\n</table>\n</div>"
     },
     "execution_count": 5,
     "metadata": {},
     "output_type": "execute_result"
    }
   ],
   "source": [
    "# 4. When was the last inspection done for the equipment id 3320\n",
    "df.query(\"eqpt_id == 3320 & activity_type == 'Inspection'\")"
   ],
   "metadata": {
    "collapsed": false,
    "pycharm": {
     "name": "#%%\n"
    }
   }
  },
  {
   "cell_type": "code",
   "execution_count": 6,
   "outputs": [
    {
     "data": {
      "text/plain": "681"
     },
     "execution_count": 6,
     "metadata": {},
     "output_type": "execute_result"
    }
   ],
   "source": [
    "# 5. How many records are there between April 2019 and Jan 2020\n",
    "df.query(\"'2019-04-01' <= st_date <= '2020-01-31'\").shape[0]"
   ],
   "metadata": {
    "collapsed": false,
    "pycharm": {
     "name": "#%%\n"
    }
   }
  },
  {
   "cell_type": "code",
   "execution_count": 7,
   "outputs": [
    {
     "data": {
      "text/plain": "Timedelta('820 days 00:00:00')"
     },
     "execution_count": 7,
     "metadata": {},
     "output_type": "execute_result"
    }
   ],
   "source": [
    "# 6. How many days back inspection was completed for eqpt_id 3320 from today.\n",
    "pd.Timestamp.today().normalize() - df.query(\"eqpt_id == 3320 & activity_type == 'Inspection'\")['st_date'].max()"
   ],
   "metadata": {
    "collapsed": false,
    "pycharm": {
     "name": "#%%\n"
    }
   }
  },
  {
   "cell_type": "code",
   "execution_count": 8,
   "outputs": [
    {
     "data": {
      "text/plain": "Empty DataFrame\nColumns: [log_id, eqpt_id, dept, st_date, activity_type]\nIndex: []",
      "text/html": "<div>\n<style scoped>\n    .dataframe tbody tr th:only-of-type {\n        vertical-align: middle;\n    }\n\n    .dataframe tbody tr th {\n        vertical-align: top;\n    }\n\n    .dataframe thead th {\n        text-align: right;\n    }\n</style>\n<table border=\"1\" class=\"dataframe\">\n  <thead>\n    <tr style=\"text-align: right;\">\n      <th></th>\n      <th>log_id</th>\n      <th>eqpt_id</th>\n      <th>dept</th>\n      <th>st_date</th>\n      <th>activity_type</th>\n    </tr>\n  </thead>\n  <tbody>\n  </tbody>\n</table>\n</div>"
     },
     "execution_count": 8,
     "metadata": {},
     "output_type": "execute_result"
    }
   ],
   "source": [
    "# 7. Display all the records available for last 30 days (starting from today)\n",
    "today = pd.Timestamp.today().normalize()\n",
    "df[today - df['st_date'] <= pd.Timedelta(days=30)]"
   ],
   "metadata": {
    "collapsed": false,
    "pycharm": {
     "name": "#%%\n"
    }
   }
  },
  {
   "cell_type": "code",
   "execution_count": 15,
   "outputs": [
    {
     "data": {
      "text/plain": "     log_id  eqpt_id   dept    st_date activity_type\n9     29276     2584  dept1 2019-01-09    Inspection\n13    29282     2496  dept1 2019-01-16    Inspection\n34    29694     2490  dept1 2019-01-23    Inspection\n37    29699     2493  dept1 2019-01-30    Inspection\n63    30139     1738  dept6 2019-02-20    Inspection\n..      ...      ...    ...        ...           ...\n787   40451     2493  dept1 2020-01-29    Inspection\n824   40856     2584  dept1 2020-02-05    Inspection\n828   40862     2590  dept1 2020-02-12    Inspection\n832   40868     2464  dept1 2020-02-19    Inspection\n861   41424     2468  dept1 2020-02-26    Inspection\n\n[67 rows x 5 columns]",
      "text/html": "<div>\n<style scoped>\n    .dataframe tbody tr th:only-of-type {\n        vertical-align: middle;\n    }\n\n    .dataframe tbody tr th {\n        vertical-align: top;\n    }\n\n    .dataframe thead th {\n        text-align: right;\n    }\n</style>\n<table border=\"1\" class=\"dataframe\">\n  <thead>\n    <tr style=\"text-align: right;\">\n      <th></th>\n      <th>log_id</th>\n      <th>eqpt_id</th>\n      <th>dept</th>\n      <th>st_date</th>\n      <th>activity_type</th>\n    </tr>\n  </thead>\n  <tbody>\n    <tr>\n      <th>9</th>\n      <td>29276</td>\n      <td>2584</td>\n      <td>dept1</td>\n      <td>2019-01-09</td>\n      <td>Inspection</td>\n    </tr>\n    <tr>\n      <th>13</th>\n      <td>29282</td>\n      <td>2496</td>\n      <td>dept1</td>\n      <td>2019-01-16</td>\n      <td>Inspection</td>\n    </tr>\n    <tr>\n      <th>34</th>\n      <td>29694</td>\n      <td>2490</td>\n      <td>dept1</td>\n      <td>2019-01-23</td>\n      <td>Inspection</td>\n    </tr>\n    <tr>\n      <th>37</th>\n      <td>29699</td>\n      <td>2493</td>\n      <td>dept1</td>\n      <td>2019-01-30</td>\n      <td>Inspection</td>\n    </tr>\n    <tr>\n      <th>63</th>\n      <td>30139</td>\n      <td>1738</td>\n      <td>dept6</td>\n      <td>2019-02-20</td>\n      <td>Inspection</td>\n    </tr>\n    <tr>\n      <th>...</th>\n      <td>...</td>\n      <td>...</td>\n      <td>...</td>\n      <td>...</td>\n      <td>...</td>\n    </tr>\n    <tr>\n      <th>787</th>\n      <td>40451</td>\n      <td>2493</td>\n      <td>dept1</td>\n      <td>2020-01-29</td>\n      <td>Inspection</td>\n    </tr>\n    <tr>\n      <th>824</th>\n      <td>40856</td>\n      <td>2584</td>\n      <td>dept1</td>\n      <td>2020-02-05</td>\n      <td>Inspection</td>\n    </tr>\n    <tr>\n      <th>828</th>\n      <td>40862</td>\n      <td>2590</td>\n      <td>dept1</td>\n      <td>2020-02-12</td>\n      <td>Inspection</td>\n    </tr>\n    <tr>\n      <th>832</th>\n      <td>40868</td>\n      <td>2464</td>\n      <td>dept1</td>\n      <td>2020-02-19</td>\n      <td>Inspection</td>\n    </tr>\n    <tr>\n      <th>861</th>\n      <td>41424</td>\n      <td>2468</td>\n      <td>dept1</td>\n      <td>2020-02-26</td>\n      <td>Inspection</td>\n    </tr>\n  </tbody>\n</table>\n<p>67 rows × 5 columns</p>\n</div>"
     },
     "execution_count": 15,
     "metadata": {},
     "output_type": "execute_result"
    }
   ],
   "source": [
    "# 8. List all records having done (st_date) on Wednesday (Weekday =2)\n",
    "df[(df['st_date'].dt.day_name() == 'Wednesday') & (df['activity_type'] == 'Inspection')]"
   ],
   "metadata": {
    "collapsed": false,
    "pycharm": {
     "name": "#%%\n"
    }
   }
  },
  {
   "cell_type": "code",
   "execution_count": 18,
   "outputs": [
    {
     "data": {
      "text/plain": "year\n2019    731\n2020    139\nName: log_id, dtype: int64"
     },
     "execution_count": 18,
     "metadata": {},
     "output_type": "execute_result"
    }
   ],
   "source": [
    "# 9. Display year and number of records in that year.\n",
    "df.groupby(df['st_date'].dt.year)['log_id'].count()"
   ],
   "metadata": {
    "collapsed": false,
    "pycharm": {
     "name": "#%%\n"
    }
   }
  },
  {
   "cell_type": "code",
   "execution_count": 19,
   "outputs": [
    {
     "data": {
      "text/plain": "st_date\n1     111\n2     106\n3      41\n4      52\n5      50\n6      59\n7      75\n8      71\n9      68\n10     98\n11     77\n12     62\nName: log_id, dtype: int64"
     },
     "execution_count": 19,
     "metadata": {},
     "output_type": "execute_result"
    }
   ],
   "source": [
    "# 10. Display month and number of records in that month.\n",
    "df.groupby(df['st_date'].dt.month)['log_id'].count()"
   ],
   "metadata": {
    "collapsed": false,
    "pycharm": {
     "name": "#%%\n"
    }
   }
  },
  {
   "cell_type": "code",
   "source": [
    "# 11. Display Year and Month with number of records in that year month\n",
    "df.groupby(df['st_date'].dt.to_period('M'))['log_id'].count()"
   ],
   "metadata": {
    "collapsed": false,
    "pycharm": {
     "name": "#%%\n"
    }
   },
   "execution_count": 20,
   "outputs": [
    {
     "data": {
      "text/plain": "st_date\n2019-01    42\n2019-02    42\n2019-03    35\n2019-04    52\n2019-05    50\n2019-06    59\n2019-07    75\n2019-08    71\n2019-09    68\n2019-10    98\n2019-11    77\n2019-12    62\n2020-01    69\n2020-02    64\n2020-03     6\nFreq: M, Name: log_id, dtype: int64"
     },
     "execution_count": 20,
     "metadata": {},
     "output_type": "execute_result"
    }
   ]
  }
 ],
 "metadata": {
  "kernelspec": {
   "display_name": "Python 3",
   "language": "python",
   "name": "python3"
  },
  "language_info": {
   "codemirror_mode": {
    "name": "ipython",
    "version": 2
   },
   "file_extension": ".py",
   "mimetype": "text/x-python",
   "name": "python",
   "nbconvert_exporter": "python",
   "pygments_lexer": "ipython2",
   "version": "2.7.6"
  }
 },
 "nbformat": 4,
 "nbformat_minor": 0
}