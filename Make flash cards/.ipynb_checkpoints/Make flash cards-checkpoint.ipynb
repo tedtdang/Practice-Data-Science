{
 "cells": [
  {
   "cell_type": "code",
   "execution_count": 1,
   "id": "lined-kitchen",
   "metadata": {
    "execution": {
     "iopub.execute_input": "2021-04-15T19:03:53.036250Z",
     "iopub.status.busy": "2021-04-15T19:03:53.035249Z",
     "iopub.status.idle": "2021-04-15T19:03:53.052265Z",
     "shell.execute_reply": "2021-04-15T19:03:53.050263Z",
     "shell.execute_reply.started": "2021-04-15T19:03:53.036250Z"
    }
   },
   "outputs": [
    {
     "name": "stdout",
     "output_type": "stream",
     "text": [
      "False\n"
     ]
    }
   ],
   "source": [
    "answer = []\n",
    "answer.append('a')\n",
    "correct = ['a', 'b']\n",
    "print(all(answer) in correct)"
   ]
  },
  {
   "cell_type": "code",
   "execution_count": 2,
   "id": "effective-consciousness",
   "metadata": {
    "execution": {
     "iopub.execute_input": "2021-04-15T19:03:53.054266Z",
     "iopub.status.busy": "2021-04-15T19:03:53.053265Z",
     "iopub.status.idle": "2021-04-15T19:03:53.067278Z",
     "shell.execute_reply": "2021-04-15T19:03:53.066277Z",
     "shell.execute_reply.started": "2021-04-15T19:03:53.053265Z"
    }
   },
   "outputs": [],
   "source": [
    "class Flash_card:\n",
    "    question = ''\n",
    "    demo = ''\n",
    "    choices = list()\n",
    "    correct_choice = list()\n",
    "    \n",
    "    # Constructor\n",
    "    def __init__(self, question, demo, choices, correct_choice):\n",
    "        self.question = question\n",
    "        self.demo = demo\n",
    "        self.choices = choices\n",
    "        self.correct_choice = correct_choice\n",
    "    \n",
    "    # Shuffle all choices\n",
    "    def shuffle_choices(self):\n",
    "        np.random.shuffle(self.choices)   "
   ]
  },
  {
   "cell_type": "code",
   "execution_count": 3,
   "id": "prime-wisdom",
   "metadata": {
    "execution": {
     "iopub.execute_input": "2021-04-15T19:03:53.068279Z",
     "iopub.status.busy": "2021-04-15T19:03:53.068279Z",
     "iopub.status.idle": "2021-04-15T19:03:53.353538Z",
     "shell.execute_reply": "2021-04-15T19:03:53.352537Z",
     "shell.execute_reply.started": "2021-04-15T19:03:53.068279Z"
    }
   },
   "outputs": [],
   "source": [
    "from termcolor import colored\n",
    "import numpy as np\n",
    "\n",
    "class Flash_cards:\n",
    "    my_flash = list()\n",
    "    correct = 0\n",
    "        \n",
    "    def learn(self):\n",
    "        # Shuffle order of questions\n",
    "        np.random.shuffle(self.my_flash)\n",
    "        for i, flash in enumerate(self.my_flash, 1):\n",
    "            print(colored(f'Q{i}. {flash.question}', 'blue'))\n",
    "            if flash.demo:\n",
    "                print(flash.demo.strip())\n",
    "            # Shuffle choices\n",
    "            flash.shuffle_choices()\n",
    "            for index, c in enumerate(flash.choices):\n",
    "                print(colored(f'{chr(index+97)}. {c}', 'magenta'))\n",
    "            answers = []\n",
    "            for j, _ in enumerate(flash.correct_choice, 1):\n",
    "                answer = input(f'Choose answer {j} of {len(flash.correct_choice)}')\n",
    "                # User chooses a, b, c, etc. instead of number\n",
    "                while ord(answer) - 97 < 0 or ord(answer) - 97 >= len(flash.choices):\n",
    "                    answer = input(f'Choose your answer between {chr(97)} and {chr(96 + len(flash.choices))}')\n",
    "                answers.append(flash.choices[ord(answer) - 97])\n",
    "            if sorted(answers) == sorted(flash.correct_choice):\n",
    "                print('Correct!')\n",
    "                self.correct += 1\n",
    "            else:\n",
    "                print(colored(f'Wrong! Correct choice should be: ', 'yellow'), end='')\n",
    "                print(colored('\\n'.join(flash.correct_choice), 'red'))\n",
    "            print()\n",
    "        print(f'You get {self.correct * 100 / len(self.my_flash):.2f}%')"
   ]
  },
  {
   "cell_type": "code",
   "execution_count": 4,
   "id": "breeding-permit",
   "metadata": {
    "execution": {
     "iopub.execute_input": "2021-04-15T19:03:53.354539Z",
     "iopub.status.busy": "2021-04-15T19:03:53.354539Z",
     "iopub.status.idle": "2021-04-15T19:03:53.370554Z",
     "shell.execute_reply": "2021-04-15T19:03:53.368552Z",
     "shell.execute_reply.started": "2021-04-15T19:03:53.354539Z"
    }
   },
   "outputs": [],
   "source": [
    "def read_a_file(file_path: str) -> Flash_cards:\n",
    "    doc = Flash_cards()\n",
    "    with open(file_path, 'r') as f:\n",
    "        q, demo, correct_choice, choices = '', '', [], []\n",
    "        for l in f:\n",
    "            if l.startswith('####'):\n",
    "                # Add question\n",
    "                q = l[9:].strip()\n",
    "            elif l[:3] not in ['###', '- [', '\\n', '\\r\\n']:\n",
    "                demo += l.strip() + '\\n'\n",
    "            elif l.startswith('- ['):\n",
    "                if l.startswith('- [x'):\n",
    "                    correct_choice.append(l[6:].strip())\n",
    "                choices.append(l[5:].strip())\n",
    "            # Detect a blank line\n",
    "            elif l in ['\\n', '\\r\\n']:\n",
    "                a_flash_card = Flash_card(question=q, demo=demo, choices=choices, correct_choice=correct_choice)\n",
    "                doc.my_flash.append(a_flash_card)\n",
    "                q, demo, correct_choice, choices = '', '', [], []\n",
    "    return doc"
   ]
  },
  {
   "cell_type": "code",
   "execution_count": 5,
   "id": "annoying-witness",
   "metadata": {
    "execution": {
     "iopub.execute_input": "2021-04-15T19:03:53.372555Z",
     "iopub.status.busy": "2021-04-15T19:03:53.371554Z",
     "iopub.status.idle": "2021-04-15T19:03:53.391574Z",
     "shell.execute_reply": "2021-04-15T19:03:53.387569Z",
     "shell.execute_reply.started": "2021-04-15T19:03:53.372555Z"
    }
   },
   "outputs": [],
   "source": [
    "def create_a_nicer_file(doc: Flash_cards, filename: str):\n",
    "    '''\n",
    "    This is to create a nicer Q&A file name from doc a Flash_cards isntance\n",
    "    '''\n",
    "    with open(str(filename), 'w') as f:\n",
    "        for i, flash in enumerate(doc.my_flash, 1):\n",
    "            f.write(f'####Q{i}. {flash.question}\\n') # Write question\n",
    "            if flash.demo != '': # Write demo if it exists\n",
    "                f.write(flash.demo)\n",
    "            flash.shuffle_choices() # Shuffle choices\n",
    "            for choice in flash.choices:\n",
    "                if choice in flash.correct_choice:\n",
    "                    f.write(f'- [x] {choice}')\n",
    "                else:\n",
    "                    f.write(f'- [ ] {choice}')\n",
    "            f.write('\\n')\n",
    "    f.close()"
   ]
  },
  {
   "cell_type": "code",
   "execution_count": 6,
   "id": "removable-packing",
   "metadata": {
    "execution": {
     "iopub.execute_input": "2021-04-15T19:03:53.393575Z",
     "iopub.status.busy": "2021-04-15T19:03:53.392574Z",
     "iopub.status.idle": "2021-04-15T19:03:53.421599Z",
     "shell.execute_reply": "2021-04-15T19:03:53.419599Z",
     "shell.execute_reply.started": "2021-04-15T19:03:53.393575Z"
    }
   },
   "outputs": [],
   "source": [
    "doc = read_a_file('NoSQL.txt')\n",
    "# create_a_nicer_file(doc, 'NoSQL1.txt')\n",
    "doc.learn()"
   ]
  }
 ],
 "metadata": {
  "kernelspec": {
   "display_name": "Python [conda env:gputest] *",
   "language": "python",
   "name": "conda-env-gputest-py"
  },
  "language_info": {
   "codemirror_mode": {
    "name": "ipython",
    "version": 3
   },
   "file_extension": ".py",
   "mimetype": "text/x-python",
   "name": "python",
   "nbconvert_exporter": "python",
   "pygments_lexer": "ipython3",
   "version": "3.7.9"
  }
 },
 "nbformat": 4,
 "nbformat_minor": 5
}
