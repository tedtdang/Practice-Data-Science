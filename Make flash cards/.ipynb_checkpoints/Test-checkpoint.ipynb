{
 "cells": [
  {
   "cell_type": "code",
   "execution_count": 1,
   "id": "concrete-standing",
   "metadata": {
    "execution": {
     "iopub.execute_input": "2021-04-15T00:33:44.772645Z",
     "iopub.status.busy": "2021-04-15T00:33:44.771644Z",
     "iopub.status.idle": "2021-04-15T00:33:44.792664Z",
     "shell.execute_reply": "2021-04-15T00:33:44.791663Z",
     "shell.execute_reply.started": "2021-04-15T00:33:44.772645Z"
    }
   },
   "outputs": [],
   "source": [
    "class Flash_card:\n",
    "    question = ''\n",
    "    demo = ''\n",
    "    choices = list()\n",
    "    correct_choice = list()\n",
    "    \n",
    "    # Constructor\n",
    "    def __init__(self, question, demo, choices, correct_choice):\n",
    "        self.question = question\n",
    "        self.demo = demo\n",
    "        self.choices = choices\n",
    "        self.correct_choice = correct_choice\n",
    "    \n",
    "    # Shuffle all chocies\n",
    "    def shuffle_choices(self):\n",
    "        np.random.shuffle(self.choices)   "
   ]
  },
  {
   "cell_type": "code",
   "execution_count": 2,
   "id": "hollywood-bearing",
   "metadata": {
    "execution": {
     "iopub.execute_input": "2021-04-15T00:33:44.793664Z",
     "iopub.status.busy": "2021-04-15T00:33:44.793664Z",
     "iopub.status.idle": "2021-04-15T00:33:44.986364Z",
     "shell.execute_reply": "2021-04-15T00:33:44.986364Z",
     "shell.execute_reply.started": "2021-04-15T00:33:44.793664Z"
    }
   },
   "outputs": [],
   "source": [
    "from termcolor import colored\n",
    "import numpy as np\n",
    "\n",
    "class Flash_cards:\n",
    "    my_flash = list()\n",
    "    correct = 0\n",
    "        \n",
    "    def learn(self):\n",
    "        # Shuffle order of questions\n",
    "        np.random.shuffle(self.my_flash)\n",
    "        for i, flash in enumerate(self.my_flash, 1):\n",
    "            print(colored(f'Q{i}. {flash.question}', 'blue'))\n",
    "            if flash.demo:\n",
    "                print(flash.demo.strip())\n",
    "            # Shuffle choices\n",
    "            np.random.shuffle(flash.choices)\n",
    "            for index, c in enumerate(flash.choices):\n",
    "                print(colored(f'{chr(index+97)}. {c}', 'magenta'))\n",
    "            answer = input('Choose your answer ')\n",
    "            while ord(answer) - 97 < 0 or ord(answer) - 97 >= len(flash.choices):\n",
    "                answer = input(f'Choose your answer between 1 and {len(flash.choices)}')\n",
    "            if flash.choices[ord(answer) - 97] == flash.correct_choice:\n",
    "                print('Correct!')\n",
    "                self.correct += 1\n",
    "            else:\n",
    "                print(colored(f'Wrong! Correct choice should be: ', 'yellow'), end='')\n",
    "                print(colored(flash.correct_choice , 'red'))\n",
    "            print()\n",
    "        print(f'You get {self.correct * 100 / len(my_flash):2.f}%')     "
   ]
  },
  {
   "cell_type": "code",
   "execution_count": 3,
   "id": "directed-species",
   "metadata": {
    "execution": {
     "iopub.execute_input": "2021-04-15T00:33:44.986364Z",
     "iopub.status.busy": "2021-04-15T00:33:44.986364Z",
     "iopub.status.idle": "2021-04-15T00:33:45.001990Z",
     "shell.execute_reply": "2021-04-15T00:33:45.001990Z",
     "shell.execute_reply.started": "2021-04-15T00:33:44.986364Z"
    }
   },
   "outputs": [],
   "source": [
    "def read_a_file(file_path: str) -> Flash_cards:\n",
    "    doc = Flash_cards()\n",
    "    with open(file_path, 'r') as f:\n",
    "        q, demo, correct_choice, choices = '', '', '', []\n",
    "        for l in f:\n",
    "            if l.startswith('####'):\n",
    "                # Add question to be a key\n",
    "                q = l[9:].capitalize().strip()\n",
    "            elif l[:3] not in ['###', '- [', '\\n', '\\r\\n']:\n",
    "                demo += l.strip() + '\\n'\n",
    "            elif l.startswith('- ['):\n",
    "                if l.startswith('- [x'):\n",
    "                    correct_choice = l[6:].capitalize().strip()\n",
    "                choices.append(l[6:].capitalize().strip())\n",
    "            # Detect a blank line\n",
    "            elif l in ['\\n', '\\r\\n']:\n",
    "                a_flash_card = Flash_card(question=q, demo=demo, choices=choices, correct_choice=correct_choice)\n",
    "                doc.my_flash.append(a_flash_card)\n",
    "                q, demo, correct_choice, choices = '', '', '', []\n",
    "    return doc"
   ]
  },
  {
   "cell_type": "code",
   "execution_count": 4,
   "id": "worthy-warrior",
   "metadata": {
    "execution": {
     "iopub.execute_input": "2021-04-15T00:33:45.001990Z",
     "iopub.status.busy": "2021-04-15T00:33:45.001990Z",
     "iopub.status.idle": "2021-04-15T00:34:14.398495Z",
     "shell.execute_reply": "2021-04-15T00:34:14.397503Z",
     "shell.execute_reply.started": "2021-04-15T00:33:45.001990Z"
    }
   },
   "outputs": [
    {
     "name": "stdout",
     "output_type": "stream",
     "text": [
      "\u001b[34mQ1. Looking at the following commands, describe what is happening.\u001b[0m\n",
      "```bash\n",
      "git checkout feature-user-location\n",
      "git cherry-pick kj2342134sdf090093f0sdgasdf99sdfo992mmmf9921231\n",
      "```\n",
      "\u001b[35ma. A commit is being copied from the feature-user-location branch to the master branch\u001b[0m\n",
      "\u001b[35mb. A commit is being copied from its original branch over to the feature-user-location branch\u001b[0m\n",
      "\u001b[35mc. The commit is being cherry picked as the new head of the commit history\u001b[0m\n",
      "\u001b[35md. The commit is being tagged for release on the feature-user-location branch\u001b[0m\n",
      "\u001b[35me. The branch is switched to the feature-user-location branch, and the specified commit is applied to the branch.\u001b[0m\n"
     ]
    },
    {
     "name": "stdin",
     "output_type": "stream",
     "text": [
      "Choose your answer  a\n"
     ]
    },
    {
     "name": "stdout",
     "output_type": "stream",
     "text": [
      "\u001b[33mWrong! Correct choice should be: \u001b[0m\u001b[31mThe commit is being cherry picked as the new head of the commit history\u001b[0m\n",
      "\n",
      "\u001b[34mQ2. how many ways are present in git to integrate changes from one branch into another?\u001b[0m\n",
      "\u001b[35ma. 3\u001b[0m\n",
      "\u001b[35mb. 4\u001b[0m\n",
      "\u001b[35mc. 2\u001b[0m\n",
      "\u001b[35md. 5\u001b[0m\n"
     ]
    },
    {
     "name": "stdin",
     "output_type": "stream",
     "text": [
      "Choose your answer  a\n"
     ]
    },
    {
     "name": "stdout",
     "output_type": "stream",
     "text": [
      "\u001b[33mWrong! Correct choice should be: \u001b[0m\u001b[31m2\u001b[0m\n",
      "\n",
      "\u001b[34mQ3. what types of tags does git support?\u001b[0m\n",
      "\u001b[35ma. Heavy and annotated\u001b[0m\n",
      "\u001b[35mb. Lightweight and immutable\u001b[0m\n",
      "\u001b[35mc. Lightweight and annotated\u001b[0m\n",
      "\u001b[35md. Heavy and concise\u001b[0m\n"
     ]
    },
    {
     "name": "stdin",
     "output_type": "stream",
     "text": [
      "Choose your answer  c\n"
     ]
    },
    {
     "name": "stdout",
     "output_type": "stream",
     "text": [
      "Correct!\n",
      "\n",
      "\u001b[34mQ4. why would you use a pre-receive hook in your remote repository?\u001b[0m\n",
      "\u001b[35ma. To execute a script when a remote receives a push that is triggered before any refs are updated\u001b[0m\n",
      "\u001b[35mb. To fire a script after updates are made to the remote repository\u001b[0m\n",
      "\u001b[35mc. You wouldn't, you would use it in the local repository\u001b[0m\n",
      "\u001b[35md. To debug all commit tags and release versions\u001b[0m\n"
     ]
    },
    {
     "ename": "KeyboardInterrupt",
     "evalue": "Interrupted by user",
     "output_type": "error",
     "traceback": [
      "\u001b[1;31m---------------------------------------------------------------------------\u001b[0m",
      "\u001b[1;31mKeyboardInterrupt\u001b[0m                         Traceback (most recent call last)",
      "\u001b[1;32m<ipython-input-4-f4e3fb94dcf5>\u001b[0m in \u001b[0;36m<module>\u001b[1;34m\u001b[0m\n\u001b[0;32m      1\u001b[0m \u001b[0mdoc\u001b[0m \u001b[1;33m=\u001b[0m \u001b[0mread_a_file\u001b[0m\u001b[1;33m(\u001b[0m\u001b[1;34m'Git.txt'\u001b[0m\u001b[1;33m)\u001b[0m\u001b[1;33m\u001b[0m\u001b[1;33m\u001b[0m\u001b[0m\n\u001b[1;32m----> 2\u001b[1;33m \u001b[0mdoc\u001b[0m\u001b[1;33m.\u001b[0m\u001b[0mlearn\u001b[0m\u001b[1;33m(\u001b[0m\u001b[1;33m)\u001b[0m\u001b[1;33m\u001b[0m\u001b[1;33m\u001b[0m\u001b[0m\n\u001b[0m",
      "\u001b[1;32m<ipython-input-2-4f1f781430e2>\u001b[0m in \u001b[0;36mlearn\u001b[1;34m(self)\u001b[0m\n\u001b[0;32m     17\u001b[0m             \u001b[1;32mfor\u001b[0m \u001b[0mindex\u001b[0m\u001b[1;33m,\u001b[0m \u001b[0mc\u001b[0m \u001b[1;32min\u001b[0m \u001b[0menumerate\u001b[0m\u001b[1;33m(\u001b[0m\u001b[0mflash\u001b[0m\u001b[1;33m.\u001b[0m\u001b[0mchoices\u001b[0m\u001b[1;33m)\u001b[0m\u001b[1;33m:\u001b[0m\u001b[1;33m\u001b[0m\u001b[1;33m\u001b[0m\u001b[0m\n\u001b[0;32m     18\u001b[0m                 \u001b[0mprint\u001b[0m\u001b[1;33m(\u001b[0m\u001b[0mcolored\u001b[0m\u001b[1;33m(\u001b[0m\u001b[1;34mf'{chr(index+97)}. {c}'\u001b[0m\u001b[1;33m,\u001b[0m \u001b[1;34m'magenta'\u001b[0m\u001b[1;33m)\u001b[0m\u001b[1;33m)\u001b[0m\u001b[1;33m\u001b[0m\u001b[1;33m\u001b[0m\u001b[0m\n\u001b[1;32m---> 19\u001b[1;33m             \u001b[0manswer\u001b[0m \u001b[1;33m=\u001b[0m \u001b[0minput\u001b[0m\u001b[1;33m(\u001b[0m\u001b[1;34m'Choose your answer '\u001b[0m\u001b[1;33m)\u001b[0m\u001b[1;33m\u001b[0m\u001b[1;33m\u001b[0m\u001b[0m\n\u001b[0m\u001b[0;32m     20\u001b[0m             \u001b[1;32mwhile\u001b[0m \u001b[0mord\u001b[0m\u001b[1;33m(\u001b[0m\u001b[0manswer\u001b[0m\u001b[1;33m)\u001b[0m \u001b[1;33m-\u001b[0m \u001b[1;36m97\u001b[0m \u001b[1;33m<\u001b[0m \u001b[1;36m0\u001b[0m \u001b[1;32mor\u001b[0m \u001b[0mord\u001b[0m\u001b[1;33m(\u001b[0m\u001b[0manswer\u001b[0m\u001b[1;33m)\u001b[0m \u001b[1;33m-\u001b[0m \u001b[1;36m97\u001b[0m \u001b[1;33m>=\u001b[0m \u001b[0mlen\u001b[0m\u001b[1;33m(\u001b[0m\u001b[0mflash\u001b[0m\u001b[1;33m.\u001b[0m\u001b[0mchoices\u001b[0m\u001b[1;33m)\u001b[0m\u001b[1;33m:\u001b[0m\u001b[1;33m\u001b[0m\u001b[1;33m\u001b[0m\u001b[0m\n\u001b[0;32m     21\u001b[0m                 \u001b[0manswer\u001b[0m \u001b[1;33m=\u001b[0m \u001b[0minput\u001b[0m\u001b[1;33m(\u001b[0m\u001b[1;34mf'Choose your answer between 1 and {len(flash.choices)}'\u001b[0m\u001b[1;33m)\u001b[0m\u001b[1;33m\u001b[0m\u001b[1;33m\u001b[0m\u001b[0m\n",
      "\u001b[1;32m~\\miniconda3\\envs\\gputest\\lib\\site-packages\\ipykernel\\kernelbase.py\u001b[0m in \u001b[0;36mraw_input\u001b[1;34m(self, prompt)\u001b[0m\n\u001b[0;32m    861\u001b[0m             \u001b[0mself\u001b[0m\u001b[1;33m.\u001b[0m\u001b[0m_parent_ident\u001b[0m\u001b[1;33m,\u001b[0m\u001b[1;33m\u001b[0m\u001b[1;33m\u001b[0m\u001b[0m\n\u001b[0;32m    862\u001b[0m             \u001b[0mself\u001b[0m\u001b[1;33m.\u001b[0m\u001b[0m_parent_header\u001b[0m\u001b[1;33m,\u001b[0m\u001b[1;33m\u001b[0m\u001b[1;33m\u001b[0m\u001b[0m\n\u001b[1;32m--> 863\u001b[1;33m             \u001b[0mpassword\u001b[0m\u001b[1;33m=\u001b[0m\u001b[1;32mFalse\u001b[0m\u001b[1;33m,\u001b[0m\u001b[1;33m\u001b[0m\u001b[1;33m\u001b[0m\u001b[0m\n\u001b[0m\u001b[0;32m    864\u001b[0m         )\n\u001b[0;32m    865\u001b[0m \u001b[1;33m\u001b[0m\u001b[0m\n",
      "\u001b[1;32m~\\miniconda3\\envs\\gputest\\lib\\site-packages\\ipykernel\\kernelbase.py\u001b[0m in \u001b[0;36m_input_request\u001b[1;34m(self, prompt, ident, parent, password)\u001b[0m\n\u001b[0;32m    902\u001b[0m             \u001b[1;32mexcept\u001b[0m \u001b[0mKeyboardInterrupt\u001b[0m\u001b[1;33m:\u001b[0m\u001b[1;33m\u001b[0m\u001b[1;33m\u001b[0m\u001b[0m\n\u001b[0;32m    903\u001b[0m                 \u001b[1;31m# re-raise KeyboardInterrupt, to truncate traceback\u001b[0m\u001b[1;33m\u001b[0m\u001b[1;33m\u001b[0m\u001b[1;33m\u001b[0m\u001b[0m\n\u001b[1;32m--> 904\u001b[1;33m                 \u001b[1;32mraise\u001b[0m \u001b[0mKeyboardInterrupt\u001b[0m\u001b[1;33m(\u001b[0m\u001b[1;34m\"Interrupted by user\"\u001b[0m\u001b[1;33m)\u001b[0m \u001b[1;32mfrom\u001b[0m \u001b[1;32mNone\u001b[0m\u001b[1;33m\u001b[0m\u001b[1;33m\u001b[0m\u001b[0m\n\u001b[0m\u001b[0;32m    905\u001b[0m             \u001b[1;32mexcept\u001b[0m \u001b[0mException\u001b[0m \u001b[1;32mas\u001b[0m \u001b[0me\u001b[0m\u001b[1;33m:\u001b[0m\u001b[1;33m\u001b[0m\u001b[1;33m\u001b[0m\u001b[0m\n\u001b[0;32m    906\u001b[0m                 \u001b[0mself\u001b[0m\u001b[1;33m.\u001b[0m\u001b[0mlog\u001b[0m\u001b[1;33m.\u001b[0m\u001b[0mwarning\u001b[0m\u001b[1;33m(\u001b[0m\u001b[1;34m\"Invalid Message:\"\u001b[0m\u001b[1;33m,\u001b[0m \u001b[0mexc_info\u001b[0m\u001b[1;33m=\u001b[0m\u001b[1;32mTrue\u001b[0m\u001b[1;33m)\u001b[0m\u001b[1;33m\u001b[0m\u001b[1;33m\u001b[0m\u001b[0m\n",
      "\u001b[1;31mKeyboardInterrupt\u001b[0m: Interrupted by user"
     ]
    }
   ],
   "source": [
    "doc = read_a_file('Git.txt')\n",
    "doc.learn()"
   ]
  }
 ],
 "metadata": {
  "kernelspec": {
   "display_name": "Python [conda env:gputest] *",
   "language": "python",
   "name": "conda-env-gputest-py"
  },
  "language_info": {
   "codemirror_mode": {
    "name": "ipython",
    "version": 3
   },
   "file_extension": ".py",
   "mimetype": "text/x-python",
   "name": "python",
   "nbconvert_exporter": "python",
   "pygments_lexer": "ipython3",
   "version": "3.7.9"
  }
 },
 "nbformat": 4,
 "nbformat_minor": 5
}
