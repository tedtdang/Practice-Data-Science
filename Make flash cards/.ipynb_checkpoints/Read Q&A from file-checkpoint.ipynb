{
 "cells": [
  {
   "cell_type": "code",
   "execution_count": 1,
   "id": "transparent-redhead",
   "metadata": {},
   "outputs": [],
   "source": [
    "import numpy as np\n",
    "import random\n",
    "from termcolor import colored\n",
    "\n",
    "doc = dict()\n",
    "with open('Q&A-updated.txt', 'r') as f:\n",
    "    for line in f:\n",
    "        if line.startswith('####'):\n",
    "            choices = []\n",
    "            # Add to be a key\n",
    "            q = line[8:].strip()\n",
    "        elif line.startswith('- [x]'):\n",
    "            # Add a correct choice to a dict of choices\n",
    "            choices.append([line[5:].strip(), True])\n",
    "            \n",
    "        elif line.startswith('- ['):\n",
    "            # Add a wrong choice to a dict of choices\n",
    "            choices.append([line[5:].strip(), False])\n",
    "            \n",
    "        # Detect a blank line\n",
    "        elif line in ['\\n', '\\r\\n']:\n",
    "            # Shuffle choices\n",
    "            np.random.shuffle(choices)\n",
    "            # Add them to be a set of question and choices\n",
    "            doc[q] = np.array(choices)\n",
    "f.close()"
   ]
  },
  {
   "cell_type": "code",
   "execution_count": 2,
   "id": "convinced-calvin",
   "metadata": {},
   "outputs": [],
   "source": [
    "def create_a_nicer_file(filename)\n",
    "    num = 1\n",
    "    with open(filename, 'w') as f:\n",
    "        for question, answers in doc.items():\n",
    "            f.write(f'Q{num}. {question}\\n')\n",
    "            num += 1\n",
    "            for answer in answers:\n",
    "                if answer[1] == 'True':\n",
    "                    f.write(f'- [x] {answer[0]}\\n')\n",
    "                else:\n",
    "                    f.write(f'- [ ] {answer[0]}\\n')\n",
    "            f.write('\\n')\n",
    "    f.close()"
   ]
  },
  {
   "cell_type": "code",
   "execution_count": null,
   "id": "potential-muscle",
   "metadata": {},
   "outputs": [],
   "source": [
    "def make_flash_cards(doc)\n",
    "    # Shuffle questions\n",
    "    doc = list(doc.items())\n",
    "    random.shuffle(doc)\n",
    "    doc = dict(doc)\n",
    "\n",
    "    index_q = 1\n",
    "    for q, c in doc.items():\n",
    "        print(f'Q{index_q}. {q}')\n",
    "        index_q += 1\n",
    "        for index, choice in enumerate(c, 1):\n",
    "            print(f'{index}. {choice[0]}')\n",
    "            if choice[1] == 'True':\n",
    "                correct_answer = choice[0]\n",
    "    #     Promt user to type the answer choice number\n",
    "        user_choice = int(input('Enter the answer number: '))\n",
    "        if c[user_choice - 1][1] == 'True':\n",
    "            print('Correct')\n",
    "        else:\n",
    "            print(colored('WRONG! The answer should be: ', 'yellow'), end='')\n",
    "            print(colored(correct_answer, 'red'))\n",
    "        print()"
   ]
  }
 ],
 "metadata": {
  "kernelspec": {
   "display_name": "Python [conda env:gputest] *",
   "language": "python",
   "name": "conda-env-gputest-py"
  },
  "language_info": {
   "codemirror_mode": {
    "name": "ipython",
    "version": 3
   },
   "file_extension": ".py",
   "mimetype": "text/x-python",
   "name": "python",
   "nbconvert_exporter": "python",
   "pygments_lexer": "ipython3",
   "version": "3.7.9"
  }
 },
 "nbformat": 4,
 "nbformat_minor": 5
}
