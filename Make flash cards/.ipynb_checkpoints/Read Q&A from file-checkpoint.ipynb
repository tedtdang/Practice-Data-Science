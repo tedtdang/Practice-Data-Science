{
 "cells": [
  {
   "cell_type": "code",
   "execution_count": 1,
   "id": "exciting-slovenia",
   "metadata": {},
   "outputs": [],
   "source": [
    "import numpy as np\n",
    "import random\n",
    "from termcolor import colored\n",
    "\n",
    "def read_a_file(file_path: str) -> dict:\n",
    "    doc = dict()\n",
    "    with open(file_path, 'r') as f:\n",
    "        for line in f:\n",
    "            if line.startswith('Q'):\n",
    "                choices = []\n",
    "                # Add to be a key\n",
    "                q = line[4:].strip()\n",
    "            elif line.startswith('- [x]'):\n",
    "                # Add a correct choice to a dict of choices\n",
    "                choices.append([line[5:].strip(), True])\n",
    "\n",
    "            elif line.startswith('- ['):\n",
    "                # Add a wrong choice to a dict of choices\n",
    "                choices.append([line[5:].strip(), False])\n",
    "\n",
    "            # Detect a blank line\n",
    "            elif line in ['\\n', '\\r\\n']:\n",
    "                # Shuffle choices\n",
    "                np.random.shuffle(choices)\n",
    "                # Add them to be a set of question and choices\n",
    "                doc[q] = np.array(choices)\n",
    "    f.close()\n",
    "    return doc"
   ]
  },
  {
   "cell_type": "code",
   "execution_count": 2,
   "id": "direct-discretion",
   "metadata": {},
   "outputs": [],
   "source": [
    "def create_a_nicer_file(filename: str):\n",
    "    '''\n",
    "    This is to create a nicer Q&A file name\n",
    "    '''\n",
    "    num = 1\n",
    "    with open(str(filename + '-updated'), 'w') as f:\n",
    "        for question, answers in doc.items():\n",
    "            f.write(f'Q{num}. {question}\\n')\n",
    "            num += 1\n",
    "            for answer in answers:\n",
    "                if answer[1] == 'True':\n",
    "                    f.write(f'- [x] {answer[0]}\\n')\n",
    "                else:\n",
    "                    f.write(f'- [ ] {answer[0]}\\n')\n",
    "            f.write('\\n')\n",
    "    f.close()"
   ]
  },
  {
   "cell_type": "code",
   "execution_count": 3,
   "id": "equipped-award",
   "metadata": {},
   "outputs": [],
   "source": [
    "def make_flash_cards(doc):\n",
    "    '''\n",
    "    This is to create flash cards containing questions and ONLY ONE correct answer in a group of multiple choices\n",
    "    '''\n",
    "    # Shuffle questions\n",
    "    doc = list(doc.items())\n",
    "    random.shuffle(doc)\n",
    "    doc = dict(doc)\n",
    "    correct = 0\n",
    "    index_q = 1\n",
    "    for q, c in doc.items():\n",
    "        print(colored(f'Q{index_q}. {q}', 'blue'))\n",
    "        index_q += 1\n",
    "        for index, choice in enumerate(c, 1):\n",
    "            print(colored(f'{index}. {choice[0]}', 'magenta'))\n",
    "            if choice[1] == 'True':\n",
    "                correct_answer = choice[0]\n",
    "    #     Promt user to type the answer choice number\n",
    "        user_choice = int(input('Enter the answer number: '))\n",
    "        while user_choice > len(c):\n",
    "            user_choice = int(input('Enter the answer number: '))\n",
    "        if c[user_choice - 1][1] == 'True':\n",
    "            print('Correct')\n",
    "            correct += 1\n",
    "        else:\n",
    "            print(colored('WRONG! The answer should be: ', 'yellow'), end='')\n",
    "            print(colored(correct_answer, 'red'))\n",
    "        print()\n",
    "    print(f'You passed with: {correct * 100 / len(doc):.2f}%')"
   ]
  },
  {
   "cell_type": "code",
   "execution_count": 4,
   "id": "aware-blocking",
   "metadata": {},
   "outputs": [],
   "source": [
    "my_doc = read_a_file('Q&A.txt')"
   ]
  },
  {
   "cell_type": "code",
   "execution_count": null,
   "id": "governmental-tract",
   "metadata": {},
   "outputs": [
    {
     "name": "stdout",
     "output_type": "stream",
     "text": [
      "Q1. Select which use case scenario best suits the implementation of an Amazon RDS database instance over a NoSQL/non-relational database.\u001b[0m blue\n",
      "1. Where datasets are constantly evolving and cannot be confined to a static data schema\u001b[0m magenta\n",
      "2. Where vertical scaling of the databaseâ€™s resources is not permissible and is seldom necessary.\u001b[0m magenta\n",
      "3. In an organisation whose datasets are dynamic and document-based\u001b[0m magenta\n",
      "4. In an organisation where only a finite number of processes query the database in predictable and well-structured Schemas.\u001b[0m magenta\n"
     ]
    }
   ],
   "source": [
    "make_flash_cards(my_doc)"
   ]
  }
 ],
 "metadata": {
  "kernelspec": {
   "display_name": "Python [conda env:gputest] *",
   "language": "python",
   "name": "conda-env-gputest-py"
  },
  "language_info": {
   "codemirror_mode": {
    "name": "ipython",
    "version": 3
   },
   "file_extension": ".py",
   "mimetype": "text/x-python",
   "name": "python",
   "nbconvert_exporter": "python",
   "pygments_lexer": "ipython3",
   "version": "3.7.9"
  }
 },
 "nbformat": 4,
 "nbformat_minor": 5
}
