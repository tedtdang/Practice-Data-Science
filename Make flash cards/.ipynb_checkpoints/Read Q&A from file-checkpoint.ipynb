{
 "cells": [
  {
   "cell_type": "code",
   "execution_count": 1,
   "id": "advanced-herald",
   "metadata": {
    "execution": {
     "iopub.execute_input": "2021-04-14T18:05:47.542342Z",
     "iopub.status.busy": "2021-04-14T18:05:47.541341Z",
     "iopub.status.idle": "2021-04-14T18:05:47.704681Z",
     "shell.execute_reply": "2021-04-14T18:05:47.703678Z",
     "shell.execute_reply.started": "2021-04-14T18:05:47.542342Z"
    }
   },
   "outputs": [],
   "source": [
    "import numpy as np\n",
    "from termcolor import colored\n",
    "\n",
    "def read_a_file(file_path: str) -> dict:\n",
    "    doc = dict()\n",
    "    with open(file_path, 'r') as f:\n",
    "        for l in f:\n",
    "            if l.startswith('####'):\n",
    "                choices = []\n",
    "                # Add question to be a key\n",
    "                q = l[9:].strip()\n",
    "            elif l.startswith('- [x'):\n",
    "                # Add a correct choice to a dict of choices\n",
    "                choices.append([l[6:].strip(), True])\n",
    "\n",
    "            elif l.startswith('- [ '):\n",
    "                # Add a wrong choice to a dict of choices\n",
    "                choices.append([l[6:].strip(), False])\n",
    "\n",
    "            # Detect a blank line\n",
    "            elif l in ['\\n', '\\r\\n']:\n",
    "                # Shuffle choices\n",
    "                np.random.shuffle(choices)\n",
    "                # Add them to be a set of question and choices\n",
    "                doc[q] = np.array(choices)\n",
    "    return doc"
   ]
  },
  {
   "cell_type": "code",
   "execution_count": 2,
   "id": "given-controversy",
   "metadata": {
    "execution": {
     "iopub.execute_input": "2021-04-14T18:05:47.705681Z",
     "iopub.status.busy": "2021-04-14T18:05:47.705681Z",
     "iopub.status.idle": "2021-04-14T18:05:47.720696Z",
     "shell.execute_reply": "2021-04-14T18:05:47.718712Z",
     "shell.execute_reply.started": "2021-04-14T18:05:47.705681Z"
    }
   },
   "outputs": [],
   "source": [
    "def create_a_nicer_file(doc: dict, filename: str):\n",
    "    '''\n",
    "    This is to create a nicer Q&A file name from doc, of dict type\n",
    "    '''\n",
    "    num = 1\n",
    "    with open(str(filename), 'w') as f:\n",
    "        for question, answers in doc.items():\n",
    "            f.write(f'Q{num}. {question}\\n')\n",
    "            num += 1\n",
    "            for answer in answers:\n",
    "                if answer[1] == 'True':\n",
    "                    f.write(f'x {answer[0]}\\n')\n",
    "                else:\n",
    "                    f.write(f'- {answer[0]}\\n')\n",
    "            f.write('\\n')\n",
    "    f.close()"
   ]
  },
  {
   "cell_type": "code",
   "execution_count": 3,
   "id": "friendly-ideal",
   "metadata": {
    "execution": {
     "iopub.execute_input": "2021-04-14T18:05:47.726702Z",
     "iopub.status.busy": "2021-04-14T18:05:47.722698Z",
     "iopub.status.idle": "2021-04-14T18:05:47.751725Z",
     "shell.execute_reply": "2021-04-14T18:05:47.750723Z",
     "shell.execute_reply.started": "2021-04-14T18:05:47.726702Z"
    }
   },
   "outputs": [],
   "source": [
    "def make_flash_cards(doc):\n",
    "    '''\n",
    "    This is to create flash cards containing questions and ONLY ONE correct answer in a group of multiple choices\n",
    "    '''\n",
    "    # Shuffle questions\n",
    "    doc = list(doc.items())\n",
    "    random.shuffle(doc)\n",
    "    doc = dict(doc)\n",
    "    correct = 0\n",
    "    index_q = 1\n",
    "    for q, c in doc.items():\n",
    "        print(colored(f'Q{index_q}. {q}', 'blue'))\n",
    "        index_q += 1\n",
    "        correct_answer = []\n",
    "        for index, choice in enumerate(c, 1):\n",
    "            print(colored(f'{index}. {choice[0]}', 'magenta'))\n",
    "            if choice[1] == 'True':\n",
    "                correct_answer.append(choice[0])\n",
    "                \n",
    "        if len(correct_answer) == 1: # When there is only one correct answer\n",
    "            user_choice = int(input('Enter the answer number: '))\n",
    "            while user_choice > len(c):\n",
    "                user_choice = int(input('Enter the answer number: '))\n",
    "                \n",
    "            if c[user_choice - 1][1] == 'True':\n",
    "                print('Correct')\n",
    "                correct += 1\n",
    "            else:\n",
    "                print(colored('WRONG! The answer should be: ', 'yellow'), end='')\n",
    "                print(colored(correct_answer[0], 'red'))\n",
    "            print()\n",
    "            \n",
    "        else: # When there are more than one correct answer\n",
    "            num_choice = 0\n",
    "            user_choices = []\n",
    "            while num_choice < len(correct_answer):\n",
    "                user_choice = int(input(f'Enter the answer number {num_choice + 1} / {len(correct_answer)}:'))\n",
    "                while user_choice > len(c):\n",
    "                    user_choice = int(input(f'Enter the answer number {num_choice + 1} / {len(correct_answer)}:'))\n",
    "                user_choices.append(c[user_choice - 1][1])\n",
    "                num_choice += 1\n",
    "                \n",
    "            if 'False' in user_choices or len(user_choices) != len(correct_answer):\n",
    "                print(colored('WRONG! The answer should be: ', 'yellow'), end='')\n",
    "                print(colored(correct_answer, 'red'))\n",
    "            else:\n",
    "                print('Correct')\n",
    "                correct += 1\n",
    "            print()\n",
    "            \n",
    "    print(f'You passed with: {correct * 100 / len(doc):.2f}%')"
   ]
  },
  {
   "cell_type": "code",
   "execution_count": 4,
   "id": "dying-death",
   "metadata": {
    "execution": {
     "iopub.execute_input": "2021-04-14T18:05:47.753726Z",
     "iopub.status.busy": "2021-04-14T18:05:47.752725Z",
     "iopub.status.idle": "2021-04-14T18:11:52.022120Z",
     "shell.execute_reply": "2021-04-14T18:11:52.021127Z",
     "shell.execute_reply.started": "2021-04-14T18:05:47.753726Z"
    }
   },
   "outputs": [
    {
     "name": "stdout",
     "output_type": "stream",
     "text": [
      "\u001b[34mQ1. How would you delete unreachable objects older than a specified time from your project database?\u001b[0m\n",
      "\u001b[35m1. `git delete --inert <time>`\u001b[0m\n",
      "\u001b[35m2. `git cache --obsolete <time>`\u001b[0m\n",
      "\u001b[35m3. `git prune --expire <time>`\u001b[0m\n",
      "\u001b[35m4. `git branch --rebase <time>`\u001b[0m\n"
     ]
    },
    {
     "name": "stdin",
     "output_type": "stream",
     "text": [
      "Enter the answer number:  3\n"
     ]
    },
    {
     "name": "stdout",
     "output_type": "stream",
     "text": [
      "Correct\n",
      "\n",
      "\u001b[34mQ2. Which command gets a copy of an existing Git repository?\u001b[0m\n",
      "\u001b[35m1. replicate\u001b[0m\n",
      "\u001b[35m2. duplicate\u001b[0m\n",
      "\u001b[35m3. copy\u001b[0m\n",
      "\u001b[35m4. clone\u001b[0m\n"
     ]
    },
    {
     "name": "stdin",
     "output_type": "stream",
     "text": [
      "Enter the answer number:  4\n"
     ]
    },
    {
     "name": "stdout",
     "output_type": "stream",
     "text": [
      "Correct\n",
      "\n",
      "\u001b[34mQ3. Where are files stored before they are committed to the local repository ?\u001b[0m\n",
      "\u001b[35m1. staging area/index\u001b[0m\n",
      "\u001b[35m2. git\u001b[0m\n",
      "\u001b[35m3. git documents\u001b[0m\n",
      "\u001b[35m4. saved files\u001b[0m\n"
     ]
    },
    {
     "name": "stdin",
     "output_type": "stream",
     "text": [
      "Enter the answer number:  1\n"
     ]
    },
    {
     "name": "stdout",
     "output_type": "stream",
     "text": [
      "Correct\n",
      "\n",
      "\u001b[34mQ4. After you've successfully merged two branches and committed the changes, what is the next step in keeping your git structure organized?\u001b[0m\n",
      "\u001b[35m1. Use git clear-all to clean up any hanging files.\u001b[0m\n",
      "\u001b[35m2. Use the git reset --soft HEAD to roll back one commit.\u001b[0m\n",
      "\u001b[35m3. Run git rebase to move the current commit to its original location.\u001b[0m\n",
      "\u001b[35m4. Run git branch -d `<branch name>` to delete the merged branch.\u001b[0m\n"
     ]
    },
    {
     "name": "stdin",
     "output_type": "stream",
     "text": [
      "Enter the answer number:  3\n"
     ]
    },
    {
     "name": "stdout",
     "output_type": "stream",
     "text": [
      "Correct\n",
      "\n",
      "\u001b[34mQ5. What is the status of the beta-notes.js file in the following output?\u001b[0m\n",
      "\u001b[35m1. beta-notes.js is tracked, and the modified file has been added to the current commit.\u001b[0m\n",
      "\u001b[35m2. beta-notes.js is a tracked file and has been modified, but has not been added to the current commit.\u001b[0m\n",
      "\u001b[35m3. beta-notes.js is untracked and has been modified.\u001b[0m\n",
      "\u001b[35m4. beta-notes.js is untracked but has been added to the current commit.\u001b[0m\n"
     ]
    },
    {
     "name": "stdin",
     "output_type": "stream",
     "text": [
      "Enter the answer number:  3\n"
     ]
    },
    {
     "name": "stdout",
     "output_type": "stream",
     "text": [
      "\u001b[33mWRONG! The answer should be: \u001b[0m\u001b[31mbeta-notes.js is a tracked file and has been modified, but has not been added to the current commit.\u001b[0m\n",
      "\n",
      "\u001b[34mQ6. Which statement is true when you use the **git add -A** command?\u001b[0m\n",
      "\u001b[35m1. All new and updated files from the working directory are staged to the index.\u001b[0m\n",
      "\u001b[35m2. All files in the working directory are staged to the index in alphabetical order.\u001b[0m\n",
      "\u001b[35m3. Only updated files in the working directory are staged to the index.\u001b[0m\n",
      "\u001b[35m4. Only new files in the working directory are staged to the index.\u001b[0m\n"
     ]
    },
    {
     "name": "stdin",
     "output_type": "stream",
     "text": [
      "Enter the answer number:  1\n"
     ]
    },
    {
     "name": "stdout",
     "output_type": "stream",
     "text": [
      "Correct\n",
      "\n",
      "\u001b[34mQ7. What conflicts can occur when forcing a push after rebasing?\u001b[0m\n",
      "\u001b[35m1. The remote master branch could have existing changes overwritten.\u001b[0m\n",
      "\u001b[35m2. Nothing, it's common practice to force a push after rebasing.\u001b[0m\n",
      "\u001b[35m3. The current HEAD will be deleted and can't be reinstated.\u001b[0m\n",
      "\u001b[35m4. The origin URL will be reset to its default value.\u001b[0m\n"
     ]
    },
    {
     "name": "stdin",
     "output_type": "stream",
     "text": [
      "Enter the answer number:  3\n"
     ]
    },
    {
     "name": "stdout",
     "output_type": "stream",
     "text": [
      "\u001b[33mWRONG! The answer should be: \u001b[0m\u001b[31mThe remote master branch could have existing changes overwritten.\u001b[0m\n",
      "\n",
      "\u001b[34mQ8. After checking your git status you get the following output, which shows the file beta-notes.js in the commit but also unstaged. How can this situation occur?\u001b[0m\n",
      "\u001b[35m1. There are two tracked copies of beta-notes.js, but one was removed from the commit\u001b[0m\n",
      "\u001b[35m2. beta-notes.js was staged, then modified afterwards, creating two different versions of the file\u001b[0m\n",
      "\u001b[35m3. There were two copies of beta-notes.js but one was deleted\u001b[0m\n",
      "\u001b[35m4. Two copies of beta-notes.js were created, but only one is being tracked\u001b[0m\n"
     ]
    },
    {
     "ename": "KeyboardInterrupt",
     "evalue": "Interrupted by user",
     "output_type": "error",
     "traceback": [
      "\u001b[1;31m---------------------------------------------------------------------------\u001b[0m",
      "\u001b[1;31mKeyboardInterrupt\u001b[0m                         Traceback (most recent call last)",
      "\u001b[1;32m<ipython-input-4-15a45c47e5bf>\u001b[0m in \u001b[0;36m<module>\u001b[1;34m\u001b[0m\n\u001b[0;32m      1\u001b[0m \u001b[0mdoc\u001b[0m \u001b[1;33m=\u001b[0m \u001b[0mread_a_file\u001b[0m\u001b[1;33m(\u001b[0m\u001b[1;34m'Git.txt'\u001b[0m\u001b[1;33m)\u001b[0m\u001b[1;33m\u001b[0m\u001b[1;33m\u001b[0m\u001b[0m\n\u001b[0;32m      2\u001b[0m \u001b[1;31m# create_a_nicer_file(doc, 'ML Practice Exam1.txt')\u001b[0m\u001b[1;33m\u001b[0m\u001b[1;33m\u001b[0m\u001b[1;33m\u001b[0m\u001b[0m\n\u001b[1;32m----> 3\u001b[1;33m \u001b[0mmake_flash_cards\u001b[0m\u001b[1;33m(\u001b[0m\u001b[0mdoc\u001b[0m\u001b[1;33m)\u001b[0m\u001b[1;33m\u001b[0m\u001b[1;33m\u001b[0m\u001b[0m\n\u001b[0m",
      "\u001b[1;32m<ipython-input-3-e5e2f61239ba>\u001b[0m in \u001b[0;36mmake_flash_cards\u001b[1;34m(doc)\u001b[0m\n\u001b[0;32m     19\u001b[0m \u001b[1;33m\u001b[0m\u001b[0m\n\u001b[0;32m     20\u001b[0m         \u001b[1;32mif\u001b[0m \u001b[0mlen\u001b[0m\u001b[1;33m(\u001b[0m\u001b[0mcorrect_answer\u001b[0m\u001b[1;33m)\u001b[0m \u001b[1;33m==\u001b[0m \u001b[1;36m1\u001b[0m\u001b[1;33m:\u001b[0m \u001b[1;31m# When there is only one correct answer\u001b[0m\u001b[1;33m\u001b[0m\u001b[1;33m\u001b[0m\u001b[0m\n\u001b[1;32m---> 21\u001b[1;33m             \u001b[0muser_choice\u001b[0m \u001b[1;33m=\u001b[0m \u001b[0mint\u001b[0m\u001b[1;33m(\u001b[0m\u001b[0minput\u001b[0m\u001b[1;33m(\u001b[0m\u001b[1;34m'Enter the answer number: '\u001b[0m\u001b[1;33m)\u001b[0m\u001b[1;33m)\u001b[0m\u001b[1;33m\u001b[0m\u001b[1;33m\u001b[0m\u001b[0m\n\u001b[0m\u001b[0;32m     22\u001b[0m             \u001b[1;32mwhile\u001b[0m \u001b[0muser_choice\u001b[0m \u001b[1;33m>\u001b[0m \u001b[0mlen\u001b[0m\u001b[1;33m(\u001b[0m\u001b[0mc\u001b[0m\u001b[1;33m)\u001b[0m\u001b[1;33m:\u001b[0m\u001b[1;33m\u001b[0m\u001b[1;33m\u001b[0m\u001b[0m\n\u001b[0;32m     23\u001b[0m                 \u001b[0muser_choice\u001b[0m \u001b[1;33m=\u001b[0m \u001b[0mint\u001b[0m\u001b[1;33m(\u001b[0m\u001b[0minput\u001b[0m\u001b[1;33m(\u001b[0m\u001b[1;34m'Enter the answer number: '\u001b[0m\u001b[1;33m)\u001b[0m\u001b[1;33m)\u001b[0m\u001b[1;33m\u001b[0m\u001b[1;33m\u001b[0m\u001b[0m\n",
      "\u001b[1;32m~\\miniconda3\\envs\\gputest\\lib\\site-packages\\ipykernel\\kernelbase.py\u001b[0m in \u001b[0;36mraw_input\u001b[1;34m(self, prompt)\u001b[0m\n\u001b[0;32m    861\u001b[0m             \u001b[0mself\u001b[0m\u001b[1;33m.\u001b[0m\u001b[0m_parent_ident\u001b[0m\u001b[1;33m,\u001b[0m\u001b[1;33m\u001b[0m\u001b[1;33m\u001b[0m\u001b[0m\n\u001b[0;32m    862\u001b[0m             \u001b[0mself\u001b[0m\u001b[1;33m.\u001b[0m\u001b[0m_parent_header\u001b[0m\u001b[1;33m,\u001b[0m\u001b[1;33m\u001b[0m\u001b[1;33m\u001b[0m\u001b[0m\n\u001b[1;32m--> 863\u001b[1;33m             \u001b[0mpassword\u001b[0m\u001b[1;33m=\u001b[0m\u001b[1;32mFalse\u001b[0m\u001b[1;33m,\u001b[0m\u001b[1;33m\u001b[0m\u001b[1;33m\u001b[0m\u001b[0m\n\u001b[0m\u001b[0;32m    864\u001b[0m         )\n\u001b[0;32m    865\u001b[0m \u001b[1;33m\u001b[0m\u001b[0m\n",
      "\u001b[1;32m~\\miniconda3\\envs\\gputest\\lib\\site-packages\\ipykernel\\kernelbase.py\u001b[0m in \u001b[0;36m_input_request\u001b[1;34m(self, prompt, ident, parent, password)\u001b[0m\n\u001b[0;32m    902\u001b[0m             \u001b[1;32mexcept\u001b[0m \u001b[0mKeyboardInterrupt\u001b[0m\u001b[1;33m:\u001b[0m\u001b[1;33m\u001b[0m\u001b[1;33m\u001b[0m\u001b[0m\n\u001b[0;32m    903\u001b[0m                 \u001b[1;31m# re-raise KeyboardInterrupt, to truncate traceback\u001b[0m\u001b[1;33m\u001b[0m\u001b[1;33m\u001b[0m\u001b[1;33m\u001b[0m\u001b[0m\n\u001b[1;32m--> 904\u001b[1;33m                 \u001b[1;32mraise\u001b[0m \u001b[0mKeyboardInterrupt\u001b[0m\u001b[1;33m(\u001b[0m\u001b[1;34m\"Interrupted by user\"\u001b[0m\u001b[1;33m)\u001b[0m \u001b[1;32mfrom\u001b[0m \u001b[1;32mNone\u001b[0m\u001b[1;33m\u001b[0m\u001b[1;33m\u001b[0m\u001b[0m\n\u001b[0m\u001b[0;32m    905\u001b[0m             \u001b[1;32mexcept\u001b[0m \u001b[0mException\u001b[0m \u001b[1;32mas\u001b[0m \u001b[0me\u001b[0m\u001b[1;33m:\u001b[0m\u001b[1;33m\u001b[0m\u001b[1;33m\u001b[0m\u001b[0m\n\u001b[0;32m    906\u001b[0m                 \u001b[0mself\u001b[0m\u001b[1;33m.\u001b[0m\u001b[0mlog\u001b[0m\u001b[1;33m.\u001b[0m\u001b[0mwarning\u001b[0m\u001b[1;33m(\u001b[0m\u001b[1;34m\"Invalid Message:\"\u001b[0m\u001b[1;33m,\u001b[0m \u001b[0mexc_info\u001b[0m\u001b[1;33m=\u001b[0m\u001b[1;32mTrue\u001b[0m\u001b[1;33m)\u001b[0m\u001b[1;33m\u001b[0m\u001b[1;33m\u001b[0m\u001b[0m\n",
      "\u001b[1;31mKeyboardInterrupt\u001b[0m: Interrupted by user"
     ]
    }
   ],
   "source": [
    "doc = read_a_file('Git.txt')\n",
    "# create_a_nicer_file(doc, 'ML Practice Exam1.txt')\n",
    "make_flash_cards(doc)"
   ]
  }
 ],
 "metadata": {
  "kernelspec": {
   "display_name": "Python [conda env:gputest] *",
   "language": "python",
   "name": "conda-env-gputest-py"
  },
  "language_info": {
   "codemirror_mode": {
    "name": "ipython",
    "version": 3
   },
   "file_extension": ".py",
   "mimetype": "text/x-python",
   "name": "python",
   "nbconvert_exporter": "python",
   "pygments_lexer": "ipython3",
   "version": "3.7.9"
  }
 },
 "nbformat": 4,
 "nbformat_minor": 5
}
