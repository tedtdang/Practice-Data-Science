{
 "cells": [
  {
   "cell_type": "code",
   "execution_count": 1,
   "id": "antique-edinburgh",
   "metadata": {},
   "outputs": [],
   "source": [
    "import numpy as np\n",
    "import random\n",
    "from termcolor import colored\n",
    "\n",
    "def read_a_file(file_path: str) -> dict:\n",
    "    doc = dict()\n",
    "    with open(file_path, 'r') as f:\n",
    "        for line in f:\n",
    "            if line.startswith('Q'):\n",
    "                choices = []\n",
    "                # Add to be a key\n",
    "                q = line[4:].strip()\n",
    "            elif line.startswith('- [x]'):\n",
    "                # Add a correct choice to a dict of choices\n",
    "                choices.append([line[5:].strip(), True])\n",
    "\n",
    "            elif line.startswith('- ['):\n",
    "                # Add a wrong choice to a dict of choices\n",
    "                choices.append([line[5:].strip(), False])\n",
    "\n",
    "            # Detect a blank line\n",
    "            elif line in ['\\n', '\\r\\n']:\n",
    "                # Shuffle choices\n",
    "                np.random.shuffle(choices)\n",
    "                # Add them to be a set of question and choices\n",
    "                doc[q] = np.array(choices)\n",
    "    f.close()\n",
    "    return doc"
   ]
  },
  {
   "cell_type": "code",
   "execution_count": 2,
   "id": "native-cover",
   "metadata": {},
   "outputs": [],
   "source": [
    "def create_a_nicer_file(filename: str):\n",
    "    '''\n",
    "    This is to create a nicer Q&A file name\n",
    "    '''\n",
    "    num = 1\n",
    "    with open(str(filename + '-updated'), 'w') as f:\n",
    "        for question, answers in doc.items():\n",
    "            f.write(f'Q{num}. {question}\\n')\n",
    "            num += 1\n",
    "            for answer in answers:\n",
    "                if answer[1] == 'True':\n",
    "                    f.write(f'- [x] {answer[0]}\\n')\n",
    "                else:\n",
    "                    f.write(f'- [ ] {answer[0]}\\n')\n",
    "            f.write('\\n')\n",
    "    f.close()"
   ]
  },
  {
   "cell_type": "code",
   "execution_count": 3,
   "id": "environmental-greenhouse",
   "metadata": {},
   "outputs": [],
   "source": [
    "def make_flash_cards(doc):\n",
    "    '''\n",
    "    This is to create flash cards containing questions and ONLY ONE correct answer in a group of multiple choices\n",
    "    '''\n",
    "    # Shuffle questions\n",
    "    doc = list(doc.items())\n",
    "    random.shuffle(doc)\n",
    "    doc = dict(doc)\n",
    "    correct = 0\n",
    "    index_q = 1\n",
    "    for q, c in doc.items():\n",
    "        print(colored(f'Q{index_q}. {q}', 'blue'))\n",
    "        index_q += 1\n",
    "        for index, choice in enumerate(c, 1):\n",
    "            print(colored(f'{index}. {choice[0]}', 'magenta'))\n",
    "            if choice[1] == 'True':\n",
    "                correct_answer = choice[0]\n",
    "    #     Promt user to type the answer choice number\n",
    "        user_choice = int(input('Enter the answer number: '))\n",
    "        while user_choice > len(c):\n",
    "            user_choice = int(input('Enter the answer number: '))\n",
    "        if c[user_choice - 1][1] == 'True':\n",
    "            print('Correct')\n",
    "            correct += 1\n",
    "        else:\n",
    "            print(colored('WRONG! The answer should be: ', 'yellow'), end='')\n",
    "            print(colored(correct_answer, 'red'))\n",
    "        print()\n",
    "    print(f'You passed with: {correct * 100 / len(doc):.2f}%')"
   ]
  },
  {
   "cell_type": "code",
   "execution_count": 4,
   "id": "vertical-crazy",
   "metadata": {},
   "outputs": [],
   "source": [
    "my_doc = read_a_file('Q&A.txt')"
   ]
  },
  {
   "cell_type": "code",
   "execution_count": null,
   "id": "impressed-enhancement",
   "metadata": {},
   "outputs": [
    {
     "name": "stdout",
     "output_type": "stream",
     "text": [
      "\u001b[34mQ1. You have a large amount of files on your network-attached storage array that must be archived and maintained for a period of 10 years due to industry regulations. This data will be infrequently accessed but must be kept What is the best AWS service for storing this data?\u001b[0m\n",
      "\u001b[35m1. OEBS\u001b[0m\n",
      "\u001b[35m2. Snowball\u001b[0m\n",
      "\u001b[35m3. S3 Glacier\u001b[0m\n",
      "\u001b[35m4. EFS\u001b[0m\n"
     ]
    },
    {
     "name": "stdin",
     "output_type": "stream",
     "text": [
      "Enter the answer number:  3\n"
     ]
    },
    {
     "name": "stdout",
     "output_type": "stream",
     "text": [
      "Correct\n",
      "\n",
      "\u001b[34mQ2. As your web application grows and your application monitoring needs become more complex, which additional log monitoring service should you NOT consider?\u001b[0m\n",
      "\u001b[35m1. New Relic\u001b[0m\n",
      "\u001b[35m2. ELK stack: Elasticsearch, Loggly, and Kibana\u001b[0m\n",
      "\u001b[35m3. PRTG\u001b[0m\n",
      "\u001b[35m4. Datadog\u001b[0m\n"
     ]
    },
    {
     "name": "stdin",
     "output_type": "stream",
     "text": [
      "Enter the answer number:  3\n"
     ]
    },
    {
     "name": "stdout",
     "output_type": "stream",
     "text": [
      "Correct\n",
      "\n",
      "\u001b[34mQ3. Can you lose the public IP address associated with your EC2 instance?\u001b[0m\n",
      "\u001b[35m1. No, you will never lose the public IP address for your instance.\u001b[0m\n",
      "\u001b[35m2. Yes, you can lose it if you stop and start the instance.\u001b[0m\n",
      "\u001b[35m3. Yes, you can lose it when you edit the instance properties and release the IP address.\u001b[0m\n",
      "\u001b[35m4. Yes, you can lose it if you reboot the instance.\u001b[0m\n"
     ]
    },
    {
     "name": "stdin",
     "output_type": "stream",
     "text": [
      "Enter the answer number:  2\n"
     ]
    },
    {
     "name": "stdout",
     "output_type": "stream",
     "text": [
      "Correct\n",
      "\n",
      "\u001b[34mQ4. An administrator would like to prepare a report that will be presented to the auditing team. The report is meant to depict that the organisationsâ€™ cloud infrastructure has followed the widely accepted industry standards of deployment, maintenance and monitoring. Which tool can they use to assist them?\u001b[0m\n",
      "\u001b[35m1. AWS Total Cost of Ownership\u001b[0m\n",
      "\u001b[35m2. AWS Organisations\u001b[0m\n",
      "\u001b[35m3. AWS Trusted Advisor\u001b[0m\n",
      "\u001b[35m4. AWS CloudTrail\u001b[0m\n"
     ]
    },
    {
     "name": "stdin",
     "output_type": "stream",
     "text": [
      "Enter the answer number:  3\n"
     ]
    },
    {
     "name": "stdout",
     "output_type": "stream",
     "text": [
      "\u001b[33mWRONG! The answer should be: \u001b[0m\u001b[31mAWS CloudTrail\u001b[0m\n",
      "\n",
      "\u001b[34mQ5. A new developer has been added to the team and you have been asked to provide access to the organization's AWS account. What is the best practice for granting access?\u001b[0m\n",
      "\u001b[35m1. Create a IAM user for the new developer. Assign the new developer the a developer group you already created for the other developers.\u001b[0m\n",
      "\u001b[35m2. Create a IAM user for the new developer. Manually assign policies to the new IAM user account.\u001b[0m\n",
      "\u001b[35m3. Do not give the new developer access to the AWS console. Using the IAM user that is assigned to the development group, generate a new set of access keys and label these with the name of the developer.\u001b[0m\n",
      "\u001b[35m4. Give the new developer the IAM login that is assigned to the development team. This IAM user should already include all of the policies that a developer would need.\u001b[0m\n"
     ]
    },
    {
     "name": "stdin",
     "output_type": "stream",
     "text": [
      "Enter the answer number:  1\n"
     ]
    },
    {
     "name": "stdout",
     "output_type": "stream",
     "text": [
      "Correct\n",
      "\n",
      "\u001b[34mQ6. What does it cost to launch an EC2 instance from the AWS Marketplace?\u001b[0m\n",
      "\u001b[35m1. All images in the AWS Marketplace contain only open-source software with no additional fees and are created by other AWS users. You will pay only for the instance size you select.\u001b[0m\n",
      "\u001b[35m2. You can only launch images that were created by other users on your AWS account, so you pay only for the instance size you select and the S3 storage costs for the base image.\u001b[0m\n",
      "\u001b[35m3. All images in the AWS Marketplace incur additional hourly fees in addition to the charges from the instance size you select.\u001b[0m\n",
      "\u001b[35m4. Each image has its own pricing that could either be free, or include charges for software licensing costs. You will also pay for the instance the image runs on\u001b[0m\n"
     ]
    },
    {
     "name": "stdin",
     "output_type": "stream",
     "text": [
      "Enter the answer number:  4\n"
     ]
    },
    {
     "name": "stdout",
     "output_type": "stream",
     "text": [
      "Correct\n",
      "\n",
      "\u001b[34mQ7. You need a schemaless database. Which Amazon database service provides that solution?\u001b[0m\n",
      "\u001b[35m1. DynamoDB\u001b[0m\n",
      "\u001b[35m2. Aurora\u001b[0m\n",
      "\u001b[35m3. Redshift\u001b[0m\n",
      "\u001b[35m4. ORDS\u001b[0m\n"
     ]
    },
    {
     "name": "stdin",
     "output_type": "stream",
     "text": [
      "Enter the answer number:  1\n"
     ]
    },
    {
     "name": "stdout",
     "output_type": "stream",
     "text": [
      "Correct\n",
      "\n",
      "\u001b[34mQ8. You have a UDP load balancer that is created by an instance that is running an NGINX proxy. Your application performance management (APM) solution can detect failures in your load balancer instance and transfer the Elastic IP to a passive standby instance. Using the AWS CLI, which script do you program into your APM to move the Elastic IP?\u001b[0m\n",
      "\u001b[35m1. C\u001b[0m\n",
      "\u001b[35m2. D\u001b[0m\n",
      "\u001b[35m3. B\u001b[0m\n",
      "\u001b[35m4. A\u001b[0m\n"
     ]
    }
   ],
   "source": [
    "make_flash_cards(my_doc)"
   ]
  }
 ],
 "metadata": {
  "kernelspec": {
   "display_name": "Python [conda env:gputest] *",
   "language": "python",
   "name": "conda-env-gputest-py"
  },
  "language_info": {
   "codemirror_mode": {
    "name": "ipython",
    "version": 3
   },
   "file_extension": ".py",
   "mimetype": "text/x-python",
   "name": "python",
   "nbconvert_exporter": "python",
   "pygments_lexer": "ipython3",
   "version": "3.7.9"
  }
 },
 "nbformat": 4,
 "nbformat_minor": 5
}
