{
 "cells": [
  {
   "cell_type": "markdown",
   "id": "a3e654a5-4a67-4694-9b63-75d4b1d9137f",
   "metadata": {},
   "source": [
    "#### Print the number of complete orders"
   ]
  },
  {
   "cell_type": "code",
   "execution_count": 18,
   "id": "056cf23c-8948-46bf-b19c-bab51ea718e0",
   "metadata": {},
   "outputs": [
    {
     "name": "stdout",
     "output_type": "stream",
     "text": [
      "193\n"
     ]
    }
   ],
   "source": [
    "import pandas as pd\n",
    "import re\n",
    "\n",
    "with open('EliteRebate.txt', \"r\",encoding='utf-8') as f:\n",
    "    lines = f.readlines()\n",
    "\n",
    "pattern = r'\\d{1,3}%'\n",
    "z = re.findall(pattern, ' '.join(lines))\n",
    "print(len(z))"
   ]
  }
 ],
 "metadata": {
  "kernelspec": {
   "display_name": "Python 3 (ipykernel)",
   "language": "python",
   "name": "python3"
  },
  "language_info": {
   "codemirror_mode": {
    "name": "ipython",
    "version": 3
   },
   "file_extension": ".py",
   "mimetype": "text/x-python",
   "name": "python",
   "nbconvert_exporter": "python",
   "pygments_lexer": "ipython3",
   "version": "3.9.7"
  }
 },
 "nbformat": 4,
 "nbformat_minor": 5
}
