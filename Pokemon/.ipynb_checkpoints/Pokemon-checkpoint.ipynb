{
 "cells": [
  {
   "cell_type": "markdown",
   "metadata": {},
   "source": [
    "# Import the dataset"
   ]
  },
  {
   "cell_type": "code",
   "execution_count": 1,
   "metadata": {},
   "outputs": [],
   "source": [
    "# Import libraries and read the csv file\n",
    "import pandas as pd\n",
    "import matplotlib.pyplot as plt\n",
    "import seaborn as sb\n",
    "import sidetable\n",
    "%matplotlib inline\n",
    "\n",
    "df = pd.read_csv('pokemon.csv')\n",
    "df.drop(columns=['japanese_name', 'name'], inplace=True)"
   ]
  },
  {
   "cell_type": "code",
   "execution_count": 2,
   "metadata": {},
   "outputs": [
    {
     "data": {
      "text/html": [
       "<div>\n",
       "<style scoped>\n",
       "    .dataframe tbody tr th:only-of-type {\n",
       "        vertical-align: middle;\n",
       "    }\n",
       "\n",
       "    .dataframe tbody tr th {\n",
       "        vertical-align: top;\n",
       "    }\n",
       "\n",
       "    .dataframe thead th {\n",
       "        text-align: right;\n",
       "    }\n",
       "</style>\n",
       "<table border=\"1\" class=\"dataframe\">\n",
       "  <thead>\n",
       "    <tr style=\"text-align: right;\">\n",
       "      <th></th>\n",
       "      <th>abilities</th>\n",
       "      <th>against_bug</th>\n",
       "      <th>against_dark</th>\n",
       "      <th>against_dragon</th>\n",
       "      <th>against_electric</th>\n",
       "      <th>against_fairy</th>\n",
       "      <th>against_fight</th>\n",
       "      <th>against_fire</th>\n",
       "      <th>against_flying</th>\n",
       "      <th>against_ghost</th>\n",
       "      <th>...</th>\n",
       "      <th>percentage_male</th>\n",
       "      <th>pokedex_number</th>\n",
       "      <th>sp_attack</th>\n",
       "      <th>sp_defense</th>\n",
       "      <th>speed</th>\n",
       "      <th>type1</th>\n",
       "      <th>type2</th>\n",
       "      <th>weight_kg</th>\n",
       "      <th>generation</th>\n",
       "      <th>is_legendary</th>\n",
       "    </tr>\n",
       "  </thead>\n",
       "  <tbody>\n",
       "    <tr>\n",
       "      <th>0</th>\n",
       "      <td>['Overgrow', 'Chlorophyll']</td>\n",
       "      <td>1.0</td>\n",
       "      <td>1.0</td>\n",
       "      <td>1.0</td>\n",
       "      <td>0.5</td>\n",
       "      <td>0.5</td>\n",
       "      <td>0.5</td>\n",
       "      <td>2.0</td>\n",
       "      <td>2.0</td>\n",
       "      <td>1.0</td>\n",
       "      <td>...</td>\n",
       "      <td>88.1</td>\n",
       "      <td>1</td>\n",
       "      <td>65</td>\n",
       "      <td>65</td>\n",
       "      <td>45</td>\n",
       "      <td>grass</td>\n",
       "      <td>poison</td>\n",
       "      <td>6.9</td>\n",
       "      <td>1</td>\n",
       "      <td>0</td>\n",
       "    </tr>\n",
       "    <tr>\n",
       "      <th>1</th>\n",
       "      <td>['Overgrow', 'Chlorophyll']</td>\n",
       "      <td>1.0</td>\n",
       "      <td>1.0</td>\n",
       "      <td>1.0</td>\n",
       "      <td>0.5</td>\n",
       "      <td>0.5</td>\n",
       "      <td>0.5</td>\n",
       "      <td>2.0</td>\n",
       "      <td>2.0</td>\n",
       "      <td>1.0</td>\n",
       "      <td>...</td>\n",
       "      <td>88.1</td>\n",
       "      <td>2</td>\n",
       "      <td>80</td>\n",
       "      <td>80</td>\n",
       "      <td>60</td>\n",
       "      <td>grass</td>\n",
       "      <td>poison</td>\n",
       "      <td>13.0</td>\n",
       "      <td>1</td>\n",
       "      <td>0</td>\n",
       "    </tr>\n",
       "    <tr>\n",
       "      <th>2</th>\n",
       "      <td>['Overgrow', 'Chlorophyll']</td>\n",
       "      <td>1.0</td>\n",
       "      <td>1.0</td>\n",
       "      <td>1.0</td>\n",
       "      <td>0.5</td>\n",
       "      <td>0.5</td>\n",
       "      <td>0.5</td>\n",
       "      <td>2.0</td>\n",
       "      <td>2.0</td>\n",
       "      <td>1.0</td>\n",
       "      <td>...</td>\n",
       "      <td>88.1</td>\n",
       "      <td>3</td>\n",
       "      <td>122</td>\n",
       "      <td>120</td>\n",
       "      <td>80</td>\n",
       "      <td>grass</td>\n",
       "      <td>poison</td>\n",
       "      <td>100.0</td>\n",
       "      <td>1</td>\n",
       "      <td>0</td>\n",
       "    </tr>\n",
       "    <tr>\n",
       "      <th>3</th>\n",
       "      <td>['Blaze', 'Solar Power']</td>\n",
       "      <td>0.5</td>\n",
       "      <td>1.0</td>\n",
       "      <td>1.0</td>\n",
       "      <td>1.0</td>\n",
       "      <td>0.5</td>\n",
       "      <td>1.0</td>\n",
       "      <td>0.5</td>\n",
       "      <td>1.0</td>\n",
       "      <td>1.0</td>\n",
       "      <td>...</td>\n",
       "      <td>88.1</td>\n",
       "      <td>4</td>\n",
       "      <td>60</td>\n",
       "      <td>50</td>\n",
       "      <td>65</td>\n",
       "      <td>fire</td>\n",
       "      <td>NaN</td>\n",
       "      <td>8.5</td>\n",
       "      <td>1</td>\n",
       "      <td>0</td>\n",
       "    </tr>\n",
       "    <tr>\n",
       "      <th>4</th>\n",
       "      <td>['Blaze', 'Solar Power']</td>\n",
       "      <td>0.5</td>\n",
       "      <td>1.0</td>\n",
       "      <td>1.0</td>\n",
       "      <td>1.0</td>\n",
       "      <td>0.5</td>\n",
       "      <td>1.0</td>\n",
       "      <td>0.5</td>\n",
       "      <td>1.0</td>\n",
       "      <td>1.0</td>\n",
       "      <td>...</td>\n",
       "      <td>88.1</td>\n",
       "      <td>5</td>\n",
       "      <td>80</td>\n",
       "      <td>65</td>\n",
       "      <td>80</td>\n",
       "      <td>fire</td>\n",
       "      <td>NaN</td>\n",
       "      <td>19.0</td>\n",
       "      <td>1</td>\n",
       "      <td>0</td>\n",
       "    </tr>\n",
       "  </tbody>\n",
       "</table>\n",
       "<p>5 rows × 39 columns</p>\n",
       "</div>"
      ],
      "text/plain": [
       "                     abilities  against_bug  against_dark  against_dragon  \\\n",
       "0  ['Overgrow', 'Chlorophyll']          1.0           1.0             1.0   \n",
       "1  ['Overgrow', 'Chlorophyll']          1.0           1.0             1.0   \n",
       "2  ['Overgrow', 'Chlorophyll']          1.0           1.0             1.0   \n",
       "3     ['Blaze', 'Solar Power']          0.5           1.0             1.0   \n",
       "4     ['Blaze', 'Solar Power']          0.5           1.0             1.0   \n",
       "\n",
       "   against_electric  against_fairy  against_fight  against_fire  \\\n",
       "0               0.5            0.5            0.5           2.0   \n",
       "1               0.5            0.5            0.5           2.0   \n",
       "2               0.5            0.5            0.5           2.0   \n",
       "3               1.0            0.5            1.0           0.5   \n",
       "4               1.0            0.5            1.0           0.5   \n",
       "\n",
       "   against_flying  against_ghost  ...  percentage_male  pokedex_number  \\\n",
       "0             2.0            1.0  ...             88.1               1   \n",
       "1             2.0            1.0  ...             88.1               2   \n",
       "2             2.0            1.0  ...             88.1               3   \n",
       "3             1.0            1.0  ...             88.1               4   \n",
       "4             1.0            1.0  ...             88.1               5   \n",
       "\n",
       "   sp_attack  sp_defense  speed  type1   type2  weight_kg  generation  \\\n",
       "0         65          65     45  grass  poison        6.9           1   \n",
       "1         80          80     60  grass  poison       13.0           1   \n",
       "2        122         120     80  grass  poison      100.0           1   \n",
       "3         60          50     65   fire     NaN        8.5           1   \n",
       "4         80          65     80   fire     NaN       19.0           1   \n",
       "\n",
       "   is_legendary  \n",
       "0             0  \n",
       "1             0  \n",
       "2             0  \n",
       "3             0  \n",
       "4             0  \n",
       "\n",
       "[5 rows x 39 columns]"
      ]
     },
     "execution_count": 2,
     "metadata": {},
     "output_type": "execute_result"
    }
   ],
   "source": [
    "# Have a look at the first five rows\n",
    "df.head()"
   ]
  },
  {
   "cell_type": "code",
   "execution_count": 3,
   "metadata": {},
   "outputs": [
    {
     "data": {
      "text/html": [
       "<style  type=\"text/css\" >\n",
       "</style><table id=\"T_c7a73_\" ><thead>    <tr>        <th class=\"blank level0\" ></th>        <th class=\"col_heading level0 col0\" >missing</th>        <th class=\"col_heading level0 col1\" >total</th>        <th class=\"col_heading level0 col2\" >percent</th>    </tr></thead><tbody>\n",
       "                <tr>\n",
       "                        <th id=\"T_c7a73_level0_row0\" class=\"row_heading level0 row0\" >type2</th>\n",
       "                        <td id=\"T_c7a73_row0_col0\" class=\"data row0 col0\" >384</td>\n",
       "                        <td id=\"T_c7a73_row0_col1\" class=\"data row0 col1\" >801</td>\n",
       "                        <td id=\"T_c7a73_row0_col2\" class=\"data row0 col2\" >47.94%</td>\n",
       "            </tr>\n",
       "            <tr>\n",
       "                        <th id=\"T_c7a73_level0_row1\" class=\"row_heading level0 row1\" >percentage_male</th>\n",
       "                        <td id=\"T_c7a73_row1_col0\" class=\"data row1 col0\" >98</td>\n",
       "                        <td id=\"T_c7a73_row1_col1\" class=\"data row1 col1\" >801</td>\n",
       "                        <td id=\"T_c7a73_row1_col2\" class=\"data row1 col2\" >12.23%</td>\n",
       "            </tr>\n",
       "            <tr>\n",
       "                        <th id=\"T_c7a73_level0_row2\" class=\"row_heading level0 row2\" >weight_kg</th>\n",
       "                        <td id=\"T_c7a73_row2_col0\" class=\"data row2 col0\" >20</td>\n",
       "                        <td id=\"T_c7a73_row2_col1\" class=\"data row2 col1\" >801</td>\n",
       "                        <td id=\"T_c7a73_row2_col2\" class=\"data row2 col2\" >2.50%</td>\n",
       "            </tr>\n",
       "            <tr>\n",
       "                        <th id=\"T_c7a73_level0_row3\" class=\"row_heading level0 row3\" >height_m</th>\n",
       "                        <td id=\"T_c7a73_row3_col0\" class=\"data row3 col0\" >20</td>\n",
       "                        <td id=\"T_c7a73_row3_col1\" class=\"data row3 col1\" >801</td>\n",
       "                        <td id=\"T_c7a73_row3_col2\" class=\"data row3 col2\" >2.50%</td>\n",
       "            </tr>\n",
       "            <tr>\n",
       "                        <th id=\"T_c7a73_level0_row4\" class=\"row_heading level0 row4\" >abilities</th>\n",
       "                        <td id=\"T_c7a73_row4_col0\" class=\"data row4 col0\" >0</td>\n",
       "                        <td id=\"T_c7a73_row4_col1\" class=\"data row4 col1\" >801</td>\n",
       "                        <td id=\"T_c7a73_row4_col2\" class=\"data row4 col2\" >0.00%</td>\n",
       "            </tr>\n",
       "            <tr>\n",
       "                        <th id=\"T_c7a73_level0_row5\" class=\"row_heading level0 row5\" >hp</th>\n",
       "                        <td id=\"T_c7a73_row5_col0\" class=\"data row5 col0\" >0</td>\n",
       "                        <td id=\"T_c7a73_row5_col1\" class=\"data row5 col1\" >801</td>\n",
       "                        <td id=\"T_c7a73_row5_col2\" class=\"data row5 col2\" >0.00%</td>\n",
       "            </tr>\n",
       "            <tr>\n",
       "                        <th id=\"T_c7a73_level0_row6\" class=\"row_heading level0 row6\" >base_total</th>\n",
       "                        <td id=\"T_c7a73_row6_col0\" class=\"data row6 col0\" >0</td>\n",
       "                        <td id=\"T_c7a73_row6_col1\" class=\"data row6 col1\" >801</td>\n",
       "                        <td id=\"T_c7a73_row6_col2\" class=\"data row6 col2\" >0.00%</td>\n",
       "            </tr>\n",
       "            <tr>\n",
       "                        <th id=\"T_c7a73_level0_row7\" class=\"row_heading level0 row7\" >capture_rate</th>\n",
       "                        <td id=\"T_c7a73_row7_col0\" class=\"data row7 col0\" >0</td>\n",
       "                        <td id=\"T_c7a73_row7_col1\" class=\"data row7 col1\" >801</td>\n",
       "                        <td id=\"T_c7a73_row7_col2\" class=\"data row7 col2\" >0.00%</td>\n",
       "            </tr>\n",
       "            <tr>\n",
       "                        <th id=\"T_c7a73_level0_row8\" class=\"row_heading level0 row8\" >classfication</th>\n",
       "                        <td id=\"T_c7a73_row8_col0\" class=\"data row8 col0\" >0</td>\n",
       "                        <td id=\"T_c7a73_row8_col1\" class=\"data row8 col1\" >801</td>\n",
       "                        <td id=\"T_c7a73_row8_col2\" class=\"data row8 col2\" >0.00%</td>\n",
       "            </tr>\n",
       "            <tr>\n",
       "                        <th id=\"T_c7a73_level0_row9\" class=\"row_heading level0 row9\" >defense</th>\n",
       "                        <td id=\"T_c7a73_row9_col0\" class=\"data row9 col0\" >0</td>\n",
       "                        <td id=\"T_c7a73_row9_col1\" class=\"data row9 col1\" >801</td>\n",
       "                        <td id=\"T_c7a73_row9_col2\" class=\"data row9 col2\" >0.00%</td>\n",
       "            </tr>\n",
       "            <tr>\n",
       "                        <th id=\"T_c7a73_level0_row10\" class=\"row_heading level0 row10\" >experience_growth</th>\n",
       "                        <td id=\"T_c7a73_row10_col0\" class=\"data row10 col0\" >0</td>\n",
       "                        <td id=\"T_c7a73_row10_col1\" class=\"data row10 col1\" >801</td>\n",
       "                        <td id=\"T_c7a73_row10_col2\" class=\"data row10 col2\" >0.00%</td>\n",
       "            </tr>\n",
       "            <tr>\n",
       "                        <th id=\"T_c7a73_level0_row11\" class=\"row_heading level0 row11\" >pokedex_number</th>\n",
       "                        <td id=\"T_c7a73_row11_col0\" class=\"data row11 col0\" >0</td>\n",
       "                        <td id=\"T_c7a73_row11_col1\" class=\"data row11 col1\" >801</td>\n",
       "                        <td id=\"T_c7a73_row11_col2\" class=\"data row11 col2\" >0.00%</td>\n",
       "            </tr>\n",
       "            <tr>\n",
       "                        <th id=\"T_c7a73_level0_row12\" class=\"row_heading level0 row12\" >base_egg_steps</th>\n",
       "                        <td id=\"T_c7a73_row12_col0\" class=\"data row12 col0\" >0</td>\n",
       "                        <td id=\"T_c7a73_row12_col1\" class=\"data row12 col1\" >801</td>\n",
       "                        <td id=\"T_c7a73_row12_col2\" class=\"data row12 col2\" >0.00%</td>\n",
       "            </tr>\n",
       "            <tr>\n",
       "                        <th id=\"T_c7a73_level0_row13\" class=\"row_heading level0 row13\" >sp_attack</th>\n",
       "                        <td id=\"T_c7a73_row13_col0\" class=\"data row13 col0\" >0</td>\n",
       "                        <td id=\"T_c7a73_row13_col1\" class=\"data row13 col1\" >801</td>\n",
       "                        <td id=\"T_c7a73_row13_col2\" class=\"data row13 col2\" >0.00%</td>\n",
       "            </tr>\n",
       "            <tr>\n",
       "                        <th id=\"T_c7a73_level0_row14\" class=\"row_heading level0 row14\" >sp_defense</th>\n",
       "                        <td id=\"T_c7a73_row14_col0\" class=\"data row14 col0\" >0</td>\n",
       "                        <td id=\"T_c7a73_row14_col1\" class=\"data row14 col1\" >801</td>\n",
       "                        <td id=\"T_c7a73_row14_col2\" class=\"data row14 col2\" >0.00%</td>\n",
       "            </tr>\n",
       "            <tr>\n",
       "                        <th id=\"T_c7a73_level0_row15\" class=\"row_heading level0 row15\" >speed</th>\n",
       "                        <td id=\"T_c7a73_row15_col0\" class=\"data row15 col0\" >0</td>\n",
       "                        <td id=\"T_c7a73_row15_col1\" class=\"data row15 col1\" >801</td>\n",
       "                        <td id=\"T_c7a73_row15_col2\" class=\"data row15 col2\" >0.00%</td>\n",
       "            </tr>\n",
       "            <tr>\n",
       "                        <th id=\"T_c7a73_level0_row16\" class=\"row_heading level0 row16\" >type1</th>\n",
       "                        <td id=\"T_c7a73_row16_col0\" class=\"data row16 col0\" >0</td>\n",
       "                        <td id=\"T_c7a73_row16_col1\" class=\"data row16 col1\" >801</td>\n",
       "                        <td id=\"T_c7a73_row16_col2\" class=\"data row16 col2\" >0.00%</td>\n",
       "            </tr>\n",
       "            <tr>\n",
       "                        <th id=\"T_c7a73_level0_row17\" class=\"row_heading level0 row17\" >generation</th>\n",
       "                        <td id=\"T_c7a73_row17_col0\" class=\"data row17 col0\" >0</td>\n",
       "                        <td id=\"T_c7a73_row17_col1\" class=\"data row17 col1\" >801</td>\n",
       "                        <td id=\"T_c7a73_row17_col2\" class=\"data row17 col2\" >0.00%</td>\n",
       "            </tr>\n",
       "            <tr>\n",
       "                        <th id=\"T_c7a73_level0_row18\" class=\"row_heading level0 row18\" >base_happiness</th>\n",
       "                        <td id=\"T_c7a73_row18_col0\" class=\"data row18 col0\" >0</td>\n",
       "                        <td id=\"T_c7a73_row18_col1\" class=\"data row18 col1\" >801</td>\n",
       "                        <td id=\"T_c7a73_row18_col2\" class=\"data row18 col2\" >0.00%</td>\n",
       "            </tr>\n",
       "            <tr>\n",
       "                        <th id=\"T_c7a73_level0_row19\" class=\"row_heading level0 row19\" >attack</th>\n",
       "                        <td id=\"T_c7a73_row19_col0\" class=\"data row19 col0\" >0</td>\n",
       "                        <td id=\"T_c7a73_row19_col1\" class=\"data row19 col1\" >801</td>\n",
       "                        <td id=\"T_c7a73_row19_col2\" class=\"data row19 col2\" >0.00%</td>\n",
       "            </tr>\n",
       "            <tr>\n",
       "                        <th id=\"T_c7a73_level0_row20\" class=\"row_heading level0 row20\" >against_bug</th>\n",
       "                        <td id=\"T_c7a73_row20_col0\" class=\"data row20 col0\" >0</td>\n",
       "                        <td id=\"T_c7a73_row20_col1\" class=\"data row20 col1\" >801</td>\n",
       "                        <td id=\"T_c7a73_row20_col2\" class=\"data row20 col2\" >0.00%</td>\n",
       "            </tr>\n",
       "            <tr>\n",
       "                        <th id=\"T_c7a73_level0_row21\" class=\"row_heading level0 row21\" >against_ghost</th>\n",
       "                        <td id=\"T_c7a73_row21_col0\" class=\"data row21 col0\" >0</td>\n",
       "                        <td id=\"T_c7a73_row21_col1\" class=\"data row21 col1\" >801</td>\n",
       "                        <td id=\"T_c7a73_row21_col2\" class=\"data row21 col2\" >0.00%</td>\n",
       "            </tr>\n",
       "            <tr>\n",
       "                        <th id=\"T_c7a73_level0_row22\" class=\"row_heading level0 row22\" >against_dark</th>\n",
       "                        <td id=\"T_c7a73_row22_col0\" class=\"data row22 col0\" >0</td>\n",
       "                        <td id=\"T_c7a73_row22_col1\" class=\"data row22 col1\" >801</td>\n",
       "                        <td id=\"T_c7a73_row22_col2\" class=\"data row22 col2\" >0.00%</td>\n",
       "            </tr>\n",
       "            <tr>\n",
       "                        <th id=\"T_c7a73_level0_row23\" class=\"row_heading level0 row23\" >against_dragon</th>\n",
       "                        <td id=\"T_c7a73_row23_col0\" class=\"data row23 col0\" >0</td>\n",
       "                        <td id=\"T_c7a73_row23_col1\" class=\"data row23 col1\" >801</td>\n",
       "                        <td id=\"T_c7a73_row23_col2\" class=\"data row23 col2\" >0.00%</td>\n",
       "            </tr>\n",
       "            <tr>\n",
       "                        <th id=\"T_c7a73_level0_row24\" class=\"row_heading level0 row24\" >against_electric</th>\n",
       "                        <td id=\"T_c7a73_row24_col0\" class=\"data row24 col0\" >0</td>\n",
       "                        <td id=\"T_c7a73_row24_col1\" class=\"data row24 col1\" >801</td>\n",
       "                        <td id=\"T_c7a73_row24_col2\" class=\"data row24 col2\" >0.00%</td>\n",
       "            </tr>\n",
       "            <tr>\n",
       "                        <th id=\"T_c7a73_level0_row25\" class=\"row_heading level0 row25\" >against_fairy</th>\n",
       "                        <td id=\"T_c7a73_row25_col0\" class=\"data row25 col0\" >0</td>\n",
       "                        <td id=\"T_c7a73_row25_col1\" class=\"data row25 col1\" >801</td>\n",
       "                        <td id=\"T_c7a73_row25_col2\" class=\"data row25 col2\" >0.00%</td>\n",
       "            </tr>\n",
       "            <tr>\n",
       "                        <th id=\"T_c7a73_level0_row26\" class=\"row_heading level0 row26\" >against_fight</th>\n",
       "                        <td id=\"T_c7a73_row26_col0\" class=\"data row26 col0\" >0</td>\n",
       "                        <td id=\"T_c7a73_row26_col1\" class=\"data row26 col1\" >801</td>\n",
       "                        <td id=\"T_c7a73_row26_col2\" class=\"data row26 col2\" >0.00%</td>\n",
       "            </tr>\n",
       "            <tr>\n",
       "                        <th id=\"T_c7a73_level0_row27\" class=\"row_heading level0 row27\" >against_fire</th>\n",
       "                        <td id=\"T_c7a73_row27_col0\" class=\"data row27 col0\" >0</td>\n",
       "                        <td id=\"T_c7a73_row27_col1\" class=\"data row27 col1\" >801</td>\n",
       "                        <td id=\"T_c7a73_row27_col2\" class=\"data row27 col2\" >0.00%</td>\n",
       "            </tr>\n",
       "            <tr>\n",
       "                        <th id=\"T_c7a73_level0_row28\" class=\"row_heading level0 row28\" >against_flying</th>\n",
       "                        <td id=\"T_c7a73_row28_col0\" class=\"data row28 col0\" >0</td>\n",
       "                        <td id=\"T_c7a73_row28_col1\" class=\"data row28 col1\" >801</td>\n",
       "                        <td id=\"T_c7a73_row28_col2\" class=\"data row28 col2\" >0.00%</td>\n",
       "            </tr>\n",
       "            <tr>\n",
       "                        <th id=\"T_c7a73_level0_row29\" class=\"row_heading level0 row29\" >against_grass</th>\n",
       "                        <td id=\"T_c7a73_row29_col0\" class=\"data row29 col0\" >0</td>\n",
       "                        <td id=\"T_c7a73_row29_col1\" class=\"data row29 col1\" >801</td>\n",
       "                        <td id=\"T_c7a73_row29_col2\" class=\"data row29 col2\" >0.00%</td>\n",
       "            </tr>\n",
       "            <tr>\n",
       "                        <th id=\"T_c7a73_level0_row30\" class=\"row_heading level0 row30\" >against_water</th>\n",
       "                        <td id=\"T_c7a73_row30_col0\" class=\"data row30 col0\" >0</td>\n",
       "                        <td id=\"T_c7a73_row30_col1\" class=\"data row30 col1\" >801</td>\n",
       "                        <td id=\"T_c7a73_row30_col2\" class=\"data row30 col2\" >0.00%</td>\n",
       "            </tr>\n",
       "            <tr>\n",
       "                        <th id=\"T_c7a73_level0_row31\" class=\"row_heading level0 row31\" >against_ground</th>\n",
       "                        <td id=\"T_c7a73_row31_col0\" class=\"data row31 col0\" >0</td>\n",
       "                        <td id=\"T_c7a73_row31_col1\" class=\"data row31 col1\" >801</td>\n",
       "                        <td id=\"T_c7a73_row31_col2\" class=\"data row31 col2\" >0.00%</td>\n",
       "            </tr>\n",
       "            <tr>\n",
       "                        <th id=\"T_c7a73_level0_row32\" class=\"row_heading level0 row32\" >against_ice</th>\n",
       "                        <td id=\"T_c7a73_row32_col0\" class=\"data row32 col0\" >0</td>\n",
       "                        <td id=\"T_c7a73_row32_col1\" class=\"data row32 col1\" >801</td>\n",
       "                        <td id=\"T_c7a73_row32_col2\" class=\"data row32 col2\" >0.00%</td>\n",
       "            </tr>\n",
       "            <tr>\n",
       "                        <th id=\"T_c7a73_level0_row33\" class=\"row_heading level0 row33\" >against_normal</th>\n",
       "                        <td id=\"T_c7a73_row33_col0\" class=\"data row33 col0\" >0</td>\n",
       "                        <td id=\"T_c7a73_row33_col1\" class=\"data row33 col1\" >801</td>\n",
       "                        <td id=\"T_c7a73_row33_col2\" class=\"data row33 col2\" >0.00%</td>\n",
       "            </tr>\n",
       "            <tr>\n",
       "                        <th id=\"T_c7a73_level0_row34\" class=\"row_heading level0 row34\" >against_poison</th>\n",
       "                        <td id=\"T_c7a73_row34_col0\" class=\"data row34 col0\" >0</td>\n",
       "                        <td id=\"T_c7a73_row34_col1\" class=\"data row34 col1\" >801</td>\n",
       "                        <td id=\"T_c7a73_row34_col2\" class=\"data row34 col2\" >0.00%</td>\n",
       "            </tr>\n",
       "            <tr>\n",
       "                        <th id=\"T_c7a73_level0_row35\" class=\"row_heading level0 row35\" >against_psychic</th>\n",
       "                        <td id=\"T_c7a73_row35_col0\" class=\"data row35 col0\" >0</td>\n",
       "                        <td id=\"T_c7a73_row35_col1\" class=\"data row35 col1\" >801</td>\n",
       "                        <td id=\"T_c7a73_row35_col2\" class=\"data row35 col2\" >0.00%</td>\n",
       "            </tr>\n",
       "            <tr>\n",
       "                        <th id=\"T_c7a73_level0_row36\" class=\"row_heading level0 row36\" >against_rock</th>\n",
       "                        <td id=\"T_c7a73_row36_col0\" class=\"data row36 col0\" >0</td>\n",
       "                        <td id=\"T_c7a73_row36_col1\" class=\"data row36 col1\" >801</td>\n",
       "                        <td id=\"T_c7a73_row36_col2\" class=\"data row36 col2\" >0.00%</td>\n",
       "            </tr>\n",
       "            <tr>\n",
       "                        <th id=\"T_c7a73_level0_row37\" class=\"row_heading level0 row37\" >against_steel</th>\n",
       "                        <td id=\"T_c7a73_row37_col0\" class=\"data row37 col0\" >0</td>\n",
       "                        <td id=\"T_c7a73_row37_col1\" class=\"data row37 col1\" >801</td>\n",
       "                        <td id=\"T_c7a73_row37_col2\" class=\"data row37 col2\" >0.00%</td>\n",
       "            </tr>\n",
       "            <tr>\n",
       "                        <th id=\"T_c7a73_level0_row38\" class=\"row_heading level0 row38\" >is_legendary</th>\n",
       "                        <td id=\"T_c7a73_row38_col0\" class=\"data row38 col0\" >0</td>\n",
       "                        <td id=\"T_c7a73_row38_col1\" class=\"data row38 col1\" >801</td>\n",
       "                        <td id=\"T_c7a73_row38_col2\" class=\"data row38 col2\" >0.00%</td>\n",
       "            </tr>\n",
       "    </tbody></table>"
      ],
      "text/plain": [
       "<pandas.io.formats.style.Styler at 0x140450c2888>"
      ]
     },
     "execution_count": 3,
     "metadata": {},
     "output_type": "execute_result"
    }
   ],
   "source": [
    "# Check for the columns having missing data\n",
    "df.stb.missing(style=True)"
   ]
  },
  {
   "cell_type": "code",
   "execution_count": 4,
   "metadata": {},
   "outputs": [
    {
     "data": {
      "text/plain": [
       "(801, 39)"
      ]
     },
     "execution_count": 4,
     "metadata": {},
     "output_type": "execute_result"
    }
   ],
   "source": [
    "# Check the length and width of the table\n",
    "df.shape"
   ]
  },
  {
   "cell_type": "code",
   "execution_count": 5,
   "metadata": {},
   "outputs": [
    {
     "name": "stdout",
     "output_type": "stream",
     "text": [
      "[ 0.7  1.   2.   0.6  1.1  1.7  0.5  1.6  0.3  1.5  nan  1.2  3.5  0.4\n",
      "  0.8  1.3  0.9  1.4  1.9  1.8  8.8  2.2  6.5  2.5  2.1  4.   2.3  0.2\n",
      "  9.2  5.2  3.8 14.5  2.7  6.2  4.5  7.   2.4  5.4  4.2  3.7  3.2  3.3\n",
      "  0.1  2.6  2.8  2.9  3.   5.8  5.   3.9  3.4  5.5]\n",
      "[ 88.1  50.    0.  100.   24.6  75.4   nan  11.2]\n",
      "['grass' 'fire' 'water' 'bug' 'normal' 'poison' 'electric' 'ground'\n",
      " 'fairy' 'fighting' 'psychic' 'rock' 'ghost' 'ice' 'dragon' 'dark' 'steel'\n",
      " 'flying']\n",
      "['poison' nan 'flying' 'dark' 'electric' 'ice' 'ground' 'fairy' 'grass'\n",
      " 'fighting' 'psychic' 'steel' 'fire' 'rock' 'water' 'dragon' 'ghost' 'bug'\n",
      " 'normal']\n"
     ]
    }
   ],
   "source": [
    "# Have a look at columns having missing data plus type1\n",
    "for i in ['height_m', 'percentage_male', 'type1', 'type2']:\n",
    "    print(df[i].unique())"
   ]
  },
  {
   "cell_type": "code",
   "execution_count": 6,
   "metadata": {},
   "outputs": [],
   "source": [
    "# Drop 'abilities' and classification since their unique values are too much\n",
    "df.drop(columns=['abilities', 'classfication'], inplace=True)\n",
    "# Drop 'type2' since its missing value takes nearly 50% of the data set\n",
    "df.drop(columns=['type2'], inplace=True)"
   ]
  },
  {
   "cell_type": "code",
   "execution_count": 7,
   "metadata": {},
   "outputs": [],
   "source": [
    "# Retrieve numeric and categorical columns\n",
    "num_cols = list(df._get_numeric_data().columns)\n",
    "cat_cols = list(set(df.columns) - set(num_cols))"
   ]
  },
  {
   "cell_type": "code",
   "execution_count": 8,
   "metadata": {},
   "outputs": [
    {
     "data": {
      "text/plain": [
       "['capture_rate', 'type1']"
      ]
     },
     "execution_count": 8,
     "metadata": {},
     "output_type": "execute_result"
    }
   ],
   "source": [
    "cat_cols"
   ]
  },
  {
   "cell_type": "markdown",
   "metadata": {},
   "source": [
    "### Take care of column 'capture_rate'"
   ]
  },
  {
   "cell_type": "code",
   "execution_count": 9,
   "metadata": {},
   "outputs": [
    {
     "data": {
      "text/plain": [
       "array(['45', '255', '120', '127', '90', '190', '75', '235', '150', '25',\n",
       "       '170', '50', '200', '100', '180', '60', '225', '30', '35', '3',\n",
       "       '65', '70', '125', '205', '155', '145', '130', '140', '15', '220',\n",
       "       '160', '80', '55', '30 (Meteorite)255 (Core)'], dtype=object)"
      ]
     },
     "execution_count": 9,
     "metadata": {},
     "output_type": "execute_result"
    }
   ],
   "source": [
    "# Have a lookt at the column's unique values\n",
    "df.capture_rate.unique()"
   ]
  },
  {
   "cell_type": "code",
   "execution_count": 10,
   "metadata": {},
   "outputs": [],
   "source": [
    "df.loc[df.capture_rate == '30 (Meteorite)255 (Core)', 'capture_rate'] = '0'\n",
    "df.capture_rate = df.capture_rate.astype(int)"
   ]
  },
  {
   "cell_type": "code",
   "execution_count": 11,
   "metadata": {},
   "outputs": [],
   "source": [
    "# Encode categorical features into numeric\n",
    "df = pd.get_dummies(data=df, drop_first=True, columns=cat_cols)"
   ]
  },
  {
   "cell_type": "code",
   "execution_count": 12,
   "metadata": {},
   "outputs": [],
   "source": [
    "# Impute numeric data\n",
    "from sklearn.experimental import enable_iterative_imputer\n",
    "from sklearn.impute import IterativeImputer\n",
    "num_imputer = IterativeImputer()\n",
    "df[num_cols] = num_imputer.fit_transform(df[num_cols])"
   ]
  },
  {
   "cell_type": "code",
   "execution_count": null,
   "metadata": {},
   "outputs": [],
   "source": [
    "X = df.drop(columns='is_legendary')\n",
    "y = df.is_legendary"
   ]
  },
  {
   "cell_type": "code",
   "execution_count": 13,
   "metadata": {},
   "outputs": [
    {
     "ename": "TypeError",
     "evalue": "fit_resample() missing 1 required positional argument: 'y'",
     "output_type": "error",
     "traceback": [
      "\u001b[1;31m---------------------------------------------------------------------------\u001b[0m",
      "\u001b[1;31mTypeError\u001b[0m                                 Traceback (most recent call last)",
      "\u001b[1;32m<ipython-input-13-65fb2bb80a2c>\u001b[0m in \u001b[0;36m<module>\u001b[1;34m\u001b[0m\n\u001b[0;32m      1\u001b[0m \u001b[1;32mfrom\u001b[0m \u001b[0mimblearn\u001b[0m\u001b[1;33m.\u001b[0m\u001b[0mcombine\u001b[0m \u001b[1;32mimport\u001b[0m \u001b[0mSMOTEENN\u001b[0m\u001b[1;33m\u001b[0m\u001b[1;33m\u001b[0m\u001b[0m\n\u001b[0;32m      2\u001b[0m \u001b[0msampler\u001b[0m \u001b[1;33m=\u001b[0m \u001b[0mSMOTEENN\u001b[0m\u001b[1;33m(\u001b[0m\u001b[1;33m)\u001b[0m\u001b[1;33m\u001b[0m\u001b[1;33m\u001b[0m\u001b[0m\n\u001b[1;32m----> 3\u001b[1;33m \u001b[0mdf\u001b[0m \u001b[1;33m=\u001b[0m \u001b[0msampler\u001b[0m\u001b[1;33m.\u001b[0m\u001b[0mfit_resample\u001b[0m\u001b[1;33m(\u001b[0m\u001b[0mdf\u001b[0m\u001b[1;33m)\u001b[0m\u001b[1;33m\u001b[0m\u001b[1;33m\u001b[0m\u001b[0m\n\u001b[0m",
      "\u001b[1;31mTypeError\u001b[0m: fit_resample() missing 1 required positional argument: 'y'"
     ]
    }
   ],
   "source": [
    "from imblearn.combine import SMOTEENN\n",
    "sampler = SMOTEENN()\n",
    "X, y = sampler.fit_resample(X, y)"
   ]
  },
  {
   "cell_type": "code",
   "execution_count": null,
   "metadata": {},
   "outputs": [],
   "source": [
    "# Split the dataset into train and test sets\n",
    "from sklearn.model_selection import train_test_split\n",
    "X_train, X_test, y_train, y_test = train_test_split(X, y, stratify=y, test_size=0.1, random_state=1)"
   ]
  },
  {
   "cell_type": "code",
   "execution_count": null,
   "metadata": {},
   "outputs": [],
   "source": [
    "import tensorflow as tf\n",
    "from tensorflow import keras\n",
    "from tensorflow.keras.models import Sequential\n",
    "from tensorflow.keras.callbacks import EarlyStopping\n",
    "from tensorflow.keras.layers import Activation, Dense, Flatten, BatchNormalization, Dropout\n",
    "from tensorflow.keras.optimizers import Adam\n",
    "\n",
    "# Create the keras tuner model.\n",
    "def build_model(hp):\n",
    "    hp_drop_out = hp.Float('dropout', 0, 0.5, step=0.1)\n",
    "    hp_learning_rate = hp.Choice('learning_rate', values=[1e-2, 1e-3, 1e-4])\n",
    "    model = Sequential()\n",
    "    for i in range(hp.Int('num_layers', 2, 20)):\n",
    "        model.add(Dense(units=hp.Int('units_' + str(i), min_value=32, max_value=512, step=32), activation='relu'))\n",
    "#         model.add(BatchNormalization())\n",
    "        model.add(Dropout(hp_drop_out))\n",
    "#     model.add(Flatten())\n",
    "    model.add(Dense(1, activation='sigmoid'))\n",
    "    opt = Adam(learning_rate=hp.Choice('learning_rate', values=[1e-2, 1e-3, 1e-4]))\n",
    "    model.compile(optimizer=Adam(learning_rate=hp_learning_rate),\n",
    "                loss='binary_crossentropy',\n",
    "                metrics=['accuracy'])\n",
    "    return model"
   ]
  },
  {
   "cell_type": "code",
   "execution_count": null,
   "metadata": {
    "scrolled": true
   },
   "outputs": [],
   "source": [
    "'''\n",
    "Credit source: \n",
    "    https://www.tensorflow.org/tutorials/keras/keras_tuner\n",
    "    https://github.com/keras-team/keras-tuner/blob/master/examples/cifar10.py\n",
    "'''\n",
    "import kerastuner as kt\n",
    "\n",
    "tuner = kt.Hyperband(build_model,\n",
    "                     objective='val_accuracy', \n",
    "                     max_epochs=16,\n",
    "                     overwrite=False)"
   ]
  },
  {
   "cell_type": "code",
   "execution_count": null,
   "metadata": {},
   "outputs": [],
   "source": [
    "es = EarlyStopping(monitor='val_accuracy', verbose=0, patience=10, min_delta=1e-3)\n",
    "callbacks_list = [es]"
   ]
  },
  {
   "cell_type": "code",
   "execution_count": null,
   "metadata": {
    "scrolled": true
   },
   "outputs": [],
   "source": [
    "tuner.search(X_train, y_train, epochs=64, batch_size=32, validation_data=(X_test, y_test), callbacks=callbacks_list)"
   ]
  },
  {
   "cell_type": "code",
   "execution_count": null,
   "metadata": {
    "scrolled": true
   },
   "outputs": [],
   "source": [
    "# Get the optimal hyperparameters\n",
    "best_hps=tuner.get_best_hyperparameters(num_trials=1)[0]\n",
    "model = tuner.hypermodel.build(best_hps)\n",
    "history = model.fit(X_train, y_train, epochs=64, validation_data=(X_test, y_test))"
   ]
  },
  {
   "cell_type": "code",
   "execution_count": null,
   "metadata": {},
   "outputs": [],
   "source": [
    "val_acc_per_epoch = history.history['val_accuracy']\n",
    "best_epoch = val_acc_per_epoch.index(max(val_acc_per_epoch)) + 1\n",
    "print('Best epoch: %d' % (best_epoch,))"
   ]
  },
  {
   "cell_type": "code",
   "execution_count": null,
   "metadata": {
    "scrolled": true
   },
   "outputs": [],
   "source": [
    "# Re-instantiate the hypermodel and train it with the optimal number of epochs from above.\n",
    "hypermodel = tuner.hypermodel.build(best_hps)\n",
    "# Retrain the model\n",
    "hypermodel.fit(X_train, y_train, epochs=best_epoch)"
   ]
  },
  {
   "cell_type": "code",
   "execution_count": null,
   "metadata": {},
   "outputs": [],
   "source": [
    "eval_result = hypermodel.evaluate(X_test, y_test)\n",
    "print(\"[test loss, test accuracy]:\", eval_result)"
   ]
  },
  {
   "cell_type": "code",
   "execution_count": null,
   "metadata": {
    "scrolled": true
   },
   "outputs": [],
   "source": [
    "# Retrain the model\n",
    "hypermodel.fit(X_train, y_train, epochs=best_epoch)"
   ]
  },
  {
   "cell_type": "code",
   "execution_count": null,
   "metadata": {},
   "outputs": [],
   "source": [
    "# from keras.models import save_model\n",
    "# hypermodel.save('best_model.h5')"
   ]
  },
  {
   "cell_type": "code",
   "execution_count": null,
   "metadata": {},
   "outputs": [],
   "source": [
    "# Load the model and predict\n",
    "# from keras.models import load_model\n",
    "# hypermodel = load_model('best_model.h5')\n",
    "y_pred = hypermodel.predict(X_test)\n",
    "y_pred = y_pred.astype(int)"
   ]
  },
  {
   "cell_type": "code",
   "execution_count": null,
   "metadata": {},
   "outputs": [],
   "source": [
    "# Get the index of the predicted table\n",
    "y_pred = pd.DataFrame(y_pred, columns=['is_legendary'], index=X_test.index)"
   ]
  },
  {
   "cell_type": "code",
   "execution_count": null,
   "metadata": {},
   "outputs": [],
   "source": [
    "# Evaluate the accuracy of the prediction\n",
    "from sklearn.metrics import accuracy_score\n",
    "accuracy = accuracy_score(y_pred, y_test)\n",
    "print('Accuracy: %.2f%%' % (accuracy * 100.0))"
   ]
  }
 ],
 "metadata": {
  "kernelspec": {
   "display_name": "Python 3",
   "language": "python",
   "name": "python3"
  },
  "language_info": {
   "codemirror_mode": {
    "name": "ipython",
    "version": 3
   },
   "file_extension": ".py",
   "mimetype": "text/x-python",
   "name": "python",
   "nbconvert_exporter": "python",
   "pygments_lexer": "ipython3",
   "version": "3.7.9"
  }
 },
 "nbformat": 4,
 "nbformat_minor": 4
}
