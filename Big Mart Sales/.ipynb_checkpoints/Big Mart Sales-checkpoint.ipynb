{
 "cells": [
  {
   "cell_type": "code",
   "execution_count": 1,
   "metadata": {},
   "outputs": [],
   "source": [
    "# Import libraries and the data set\n",
    "import pandas as pd\n",
    "import numpy as np\n",
    "import sidetable\n",
    "import DataScience\n",
    "\n",
    "df = pd.read_csv('train_v9rqX0R.csv', index_col=['Item_Identifier', 'Outlet_Identifier'])\n",
    "X_test = pd.read_csv('test_AbJTz2l.csv', index_col=['Item_Identifier', 'Outlet_Identifier'])"
   ]
  },
  {
   "cell_type": "code",
   "execution_count": 2,
   "metadata": {},
   "outputs": [
    {
     "data": {
      "text/html": [
       "<div>\n",
       "<style scoped>\n",
       "    .dataframe tbody tr th:only-of-type {\n",
       "        vertical-align: middle;\n",
       "    }\n",
       "\n",
       "    .dataframe tbody tr th {\n",
       "        vertical-align: top;\n",
       "    }\n",
       "\n",
       "    .dataframe thead th {\n",
       "        text-align: right;\n",
       "    }\n",
       "</style>\n",
       "<table border=\"1\" class=\"dataframe\">\n",
       "  <thead>\n",
       "    <tr style=\"text-align: right;\">\n",
       "      <th></th>\n",
       "      <th></th>\n",
       "      <th>Item_Weight</th>\n",
       "      <th>Item_Fat_Content</th>\n",
       "      <th>Item_Visibility</th>\n",
       "      <th>Item_Type</th>\n",
       "      <th>Item_MRP</th>\n",
       "      <th>Outlet_Establishment_Year</th>\n",
       "      <th>Outlet_Size</th>\n",
       "      <th>Outlet_Location_Type</th>\n",
       "      <th>Outlet_Type</th>\n",
       "      <th>Item_Outlet_Sales</th>\n",
       "    </tr>\n",
       "    <tr>\n",
       "      <th>Item_Identifier</th>\n",
       "      <th>Outlet_Identifier</th>\n",
       "      <th></th>\n",
       "      <th></th>\n",
       "      <th></th>\n",
       "      <th></th>\n",
       "      <th></th>\n",
       "      <th></th>\n",
       "      <th></th>\n",
       "      <th></th>\n",
       "      <th></th>\n",
       "      <th></th>\n",
       "    </tr>\n",
       "  </thead>\n",
       "  <tbody>\n",
       "    <tr>\n",
       "      <th>FDA15</th>\n",
       "      <th>OUT049</th>\n",
       "      <td>9.30</td>\n",
       "      <td>Low Fat</td>\n",
       "      <td>0.016047</td>\n",
       "      <td>Dairy</td>\n",
       "      <td>249.8092</td>\n",
       "      <td>1999</td>\n",
       "      <td>Medium</td>\n",
       "      <td>Tier 1</td>\n",
       "      <td>Supermarket Type1</td>\n",
       "      <td>3735.1380</td>\n",
       "    </tr>\n",
       "    <tr>\n",
       "      <th>DRC01</th>\n",
       "      <th>OUT018</th>\n",
       "      <td>5.92</td>\n",
       "      <td>Regular</td>\n",
       "      <td>0.019278</td>\n",
       "      <td>Soft Drinks</td>\n",
       "      <td>48.2692</td>\n",
       "      <td>2009</td>\n",
       "      <td>Medium</td>\n",
       "      <td>Tier 3</td>\n",
       "      <td>Supermarket Type2</td>\n",
       "      <td>443.4228</td>\n",
       "    </tr>\n",
       "    <tr>\n",
       "      <th>FDN15</th>\n",
       "      <th>OUT049</th>\n",
       "      <td>17.50</td>\n",
       "      <td>Low Fat</td>\n",
       "      <td>0.016760</td>\n",
       "      <td>Meat</td>\n",
       "      <td>141.6180</td>\n",
       "      <td>1999</td>\n",
       "      <td>Medium</td>\n",
       "      <td>Tier 1</td>\n",
       "      <td>Supermarket Type1</td>\n",
       "      <td>2097.2700</td>\n",
       "    </tr>\n",
       "    <tr>\n",
       "      <th>FDX07</th>\n",
       "      <th>OUT010</th>\n",
       "      <td>19.20</td>\n",
       "      <td>Regular</td>\n",
       "      <td>0.000000</td>\n",
       "      <td>Fruits and Vegetables</td>\n",
       "      <td>182.0950</td>\n",
       "      <td>1998</td>\n",
       "      <td>NaN</td>\n",
       "      <td>Tier 3</td>\n",
       "      <td>Grocery Store</td>\n",
       "      <td>732.3800</td>\n",
       "    </tr>\n",
       "    <tr>\n",
       "      <th>NCD19</th>\n",
       "      <th>OUT013</th>\n",
       "      <td>8.93</td>\n",
       "      <td>Low Fat</td>\n",
       "      <td>0.000000</td>\n",
       "      <td>Household</td>\n",
       "      <td>53.8614</td>\n",
       "      <td>1987</td>\n",
       "      <td>High</td>\n",
       "      <td>Tier 3</td>\n",
       "      <td>Supermarket Type1</td>\n",
       "      <td>994.7052</td>\n",
       "    </tr>\n",
       "  </tbody>\n",
       "</table>\n",
       "</div>"
      ],
      "text/plain": [
       "                                   Item_Weight Item_Fat_Content  \\\n",
       "Item_Identifier Outlet_Identifier                                 \n",
       "FDA15           OUT049                    9.30          Low Fat   \n",
       "DRC01           OUT018                    5.92          Regular   \n",
       "FDN15           OUT049                   17.50          Low Fat   \n",
       "FDX07           OUT010                   19.20          Regular   \n",
       "NCD19           OUT013                    8.93          Low Fat   \n",
       "\n",
       "                                   Item_Visibility              Item_Type  \\\n",
       "Item_Identifier Outlet_Identifier                                           \n",
       "FDA15           OUT049                    0.016047                  Dairy   \n",
       "DRC01           OUT018                    0.019278            Soft Drinks   \n",
       "FDN15           OUT049                    0.016760                   Meat   \n",
       "FDX07           OUT010                    0.000000  Fruits and Vegetables   \n",
       "NCD19           OUT013                    0.000000              Household   \n",
       "\n",
       "                                   Item_MRP  Outlet_Establishment_Year  \\\n",
       "Item_Identifier Outlet_Identifier                                        \n",
       "FDA15           OUT049             249.8092                       1999   \n",
       "DRC01           OUT018              48.2692                       2009   \n",
       "FDN15           OUT049             141.6180                       1999   \n",
       "FDX07           OUT010             182.0950                       1998   \n",
       "NCD19           OUT013              53.8614                       1987   \n",
       "\n",
       "                                  Outlet_Size Outlet_Location_Type  \\\n",
       "Item_Identifier Outlet_Identifier                                    \n",
       "FDA15           OUT049                 Medium               Tier 1   \n",
       "DRC01           OUT018                 Medium               Tier 3   \n",
       "FDN15           OUT049                 Medium               Tier 1   \n",
       "FDX07           OUT010                    NaN               Tier 3   \n",
       "NCD19           OUT013                   High               Tier 3   \n",
       "\n",
       "                                         Outlet_Type  Item_Outlet_Sales  \n",
       "Item_Identifier Outlet_Identifier                                        \n",
       "FDA15           OUT049             Supermarket Type1          3735.1380  \n",
       "DRC01           OUT018             Supermarket Type2           443.4228  \n",
       "FDN15           OUT049             Supermarket Type1          2097.2700  \n",
       "FDX07           OUT010                 Grocery Store           732.3800  \n",
       "NCD19           OUT013             Supermarket Type1           994.7052  "
      ]
     },
     "execution_count": 2,
     "metadata": {},
     "output_type": "execute_result"
    }
   ],
   "source": [
    "# Have a look at the first five rows\n",
    "df.head()"
   ]
  },
  {
   "cell_type": "code",
   "execution_count": 3,
   "metadata": {},
   "outputs": [
    {
     "data": {
      "text/html": [
       "<style  type=\"text/css\" >\n",
       "</style><table id=\"T_63a643ec_ff72_11ea_a166_9848271e970b\" ><thead>    <tr>        <th class=\"blank level0\" ></th>        <th class=\"col_heading level0 col0\" >missing</th>        <th class=\"col_heading level0 col1\" >total</th>        <th class=\"col_heading level0 col2\" >percent</th>    </tr></thead><tbody>\n",
       "                <tr>\n",
       "                        <th id=\"T_63a643ec_ff72_11ea_a166_9848271e970blevel0_row0\" class=\"row_heading level0 row0\" >Outlet_Size</th>\n",
       "                        <td id=\"T_63a643ec_ff72_11ea_a166_9848271e970brow0_col0\" class=\"data row0 col0\" >2410</td>\n",
       "                        <td id=\"T_63a643ec_ff72_11ea_a166_9848271e970brow0_col1\" class=\"data row0 col1\" >8,523</td>\n",
       "                        <td id=\"T_63a643ec_ff72_11ea_a166_9848271e970brow0_col2\" class=\"data row0 col2\" >28.28%</td>\n",
       "            </tr>\n",
       "            <tr>\n",
       "                        <th id=\"T_63a643ec_ff72_11ea_a166_9848271e970blevel0_row1\" class=\"row_heading level0 row1\" >Item_Weight</th>\n",
       "                        <td id=\"T_63a643ec_ff72_11ea_a166_9848271e970brow1_col0\" class=\"data row1 col0\" >1463</td>\n",
       "                        <td id=\"T_63a643ec_ff72_11ea_a166_9848271e970brow1_col1\" class=\"data row1 col1\" >8,523</td>\n",
       "                        <td id=\"T_63a643ec_ff72_11ea_a166_9848271e970brow1_col2\" class=\"data row1 col2\" >17.17%</td>\n",
       "            </tr>\n",
       "            <tr>\n",
       "                        <th id=\"T_63a643ec_ff72_11ea_a166_9848271e970blevel0_row2\" class=\"row_heading level0 row2\" >Item_Fat_Content</th>\n",
       "                        <td id=\"T_63a643ec_ff72_11ea_a166_9848271e970brow2_col0\" class=\"data row2 col0\" >0</td>\n",
       "                        <td id=\"T_63a643ec_ff72_11ea_a166_9848271e970brow2_col1\" class=\"data row2 col1\" >8,523</td>\n",
       "                        <td id=\"T_63a643ec_ff72_11ea_a166_9848271e970brow2_col2\" class=\"data row2 col2\" >0.00%</td>\n",
       "            </tr>\n",
       "            <tr>\n",
       "                        <th id=\"T_63a643ec_ff72_11ea_a166_9848271e970blevel0_row3\" class=\"row_heading level0 row3\" >Item_Visibility</th>\n",
       "                        <td id=\"T_63a643ec_ff72_11ea_a166_9848271e970brow3_col0\" class=\"data row3 col0\" >0</td>\n",
       "                        <td id=\"T_63a643ec_ff72_11ea_a166_9848271e970brow3_col1\" class=\"data row3 col1\" >8,523</td>\n",
       "                        <td id=\"T_63a643ec_ff72_11ea_a166_9848271e970brow3_col2\" class=\"data row3 col2\" >0.00%</td>\n",
       "            </tr>\n",
       "            <tr>\n",
       "                        <th id=\"T_63a643ec_ff72_11ea_a166_9848271e970blevel0_row4\" class=\"row_heading level0 row4\" >Item_Type</th>\n",
       "                        <td id=\"T_63a643ec_ff72_11ea_a166_9848271e970brow4_col0\" class=\"data row4 col0\" >0</td>\n",
       "                        <td id=\"T_63a643ec_ff72_11ea_a166_9848271e970brow4_col1\" class=\"data row4 col1\" >8,523</td>\n",
       "                        <td id=\"T_63a643ec_ff72_11ea_a166_9848271e970brow4_col2\" class=\"data row4 col2\" >0.00%</td>\n",
       "            </tr>\n",
       "            <tr>\n",
       "                        <th id=\"T_63a643ec_ff72_11ea_a166_9848271e970blevel0_row5\" class=\"row_heading level0 row5\" >Item_MRP</th>\n",
       "                        <td id=\"T_63a643ec_ff72_11ea_a166_9848271e970brow5_col0\" class=\"data row5 col0\" >0</td>\n",
       "                        <td id=\"T_63a643ec_ff72_11ea_a166_9848271e970brow5_col1\" class=\"data row5 col1\" >8,523</td>\n",
       "                        <td id=\"T_63a643ec_ff72_11ea_a166_9848271e970brow5_col2\" class=\"data row5 col2\" >0.00%</td>\n",
       "            </tr>\n",
       "            <tr>\n",
       "                        <th id=\"T_63a643ec_ff72_11ea_a166_9848271e970blevel0_row6\" class=\"row_heading level0 row6\" >Outlet_Establishment_Year</th>\n",
       "                        <td id=\"T_63a643ec_ff72_11ea_a166_9848271e970brow6_col0\" class=\"data row6 col0\" >0</td>\n",
       "                        <td id=\"T_63a643ec_ff72_11ea_a166_9848271e970brow6_col1\" class=\"data row6 col1\" >8,523</td>\n",
       "                        <td id=\"T_63a643ec_ff72_11ea_a166_9848271e970brow6_col2\" class=\"data row6 col2\" >0.00%</td>\n",
       "            </tr>\n",
       "            <tr>\n",
       "                        <th id=\"T_63a643ec_ff72_11ea_a166_9848271e970blevel0_row7\" class=\"row_heading level0 row7\" >Outlet_Location_Type</th>\n",
       "                        <td id=\"T_63a643ec_ff72_11ea_a166_9848271e970brow7_col0\" class=\"data row7 col0\" >0</td>\n",
       "                        <td id=\"T_63a643ec_ff72_11ea_a166_9848271e970brow7_col1\" class=\"data row7 col1\" >8,523</td>\n",
       "                        <td id=\"T_63a643ec_ff72_11ea_a166_9848271e970brow7_col2\" class=\"data row7 col2\" >0.00%</td>\n",
       "            </tr>\n",
       "            <tr>\n",
       "                        <th id=\"T_63a643ec_ff72_11ea_a166_9848271e970blevel0_row8\" class=\"row_heading level0 row8\" >Outlet_Type</th>\n",
       "                        <td id=\"T_63a643ec_ff72_11ea_a166_9848271e970brow8_col0\" class=\"data row8 col0\" >0</td>\n",
       "                        <td id=\"T_63a643ec_ff72_11ea_a166_9848271e970brow8_col1\" class=\"data row8 col1\" >8,523</td>\n",
       "                        <td id=\"T_63a643ec_ff72_11ea_a166_9848271e970brow8_col2\" class=\"data row8 col2\" >0.00%</td>\n",
       "            </tr>\n",
       "            <tr>\n",
       "                        <th id=\"T_63a643ec_ff72_11ea_a166_9848271e970blevel0_row9\" class=\"row_heading level0 row9\" >Item_Outlet_Sales</th>\n",
       "                        <td id=\"T_63a643ec_ff72_11ea_a166_9848271e970brow9_col0\" class=\"data row9 col0\" >0</td>\n",
       "                        <td id=\"T_63a643ec_ff72_11ea_a166_9848271e970brow9_col1\" class=\"data row9 col1\" >8,523</td>\n",
       "                        <td id=\"T_63a643ec_ff72_11ea_a166_9848271e970brow9_col2\" class=\"data row9 col2\" >0.00%</td>\n",
       "            </tr>\n",
       "    </tbody></table>"
      ],
      "text/plain": [
       "<pandas.io.formats.style.Styler at 0x136afe14f08>"
      ]
     },
     "execution_count": 3,
     "metadata": {},
     "output_type": "execute_result"
    }
   ],
   "source": [
    "# See the missing data in columns\n",
    "df.stb.missing(style=True)"
   ]
  },
  {
   "cell_type": "code",
   "execution_count": 4,
   "metadata": {},
   "outputs": [
    {
     "data": {
      "text/plain": [
       "Item_Weight                  float64\n",
       "Item_Fat_Content              object\n",
       "Item_Visibility              float64\n",
       "Item_Type                     object\n",
       "Item_MRP                     float64\n",
       "Outlet_Establishment_Year      int64\n",
       "Outlet_Size                   object\n",
       "Outlet_Location_Type          object\n",
       "Outlet_Type                   object\n",
       "Item_Outlet_Sales            float64\n",
       "dtype: object"
      ]
     },
     "execution_count": 4,
     "metadata": {},
     "output_type": "execute_result"
    }
   ],
   "source": [
    "# Check data types of columns\n",
    "df.dtypes"
   ]
  },
  {
   "cell_type": "code",
   "execution_count": 5,
   "metadata": {},
   "outputs": [],
   "source": [
    "# Get X_train and y_train\n",
    "y_train = df.Item_Outlet_Sales.copy()\n",
    "X_train = df.drop(columns='Item_Outlet_Sales').copy()"
   ]
  },
  {
   "cell_type": "code",
   "execution_count": 6,
   "metadata": {},
   "outputs": [],
   "source": [
    "# Retrive num_cols and cat_cols\n",
    "num_cols = X_train._get_numeric_data().columns\n",
    "cat_cols = list(set(X_train.columns) - set(num_cols))"
   ]
  },
  {
   "cell_type": "code",
   "execution_count": 7,
   "metadata": {},
   "outputs": [
    {
     "name": "stdout",
     "output_type": "stream",
     "text": [
      "cat\n",
      "Item_Fat_Content ['Low Fat' 'Regular' 'low fat' 'LF' 'reg']\n",
      "Outlet_Type ['Supermarket Type1' 'Supermarket Type2' 'Grocery Store'\n",
      " 'Supermarket Type3']\n",
      "Outlet_Size ['Medium' nan 'High' 'Small']\n",
      "Item_Type ['Dairy' 'Soft Drinks' 'Meat' 'Fruits and Vegetables' 'Household'\n",
      " 'Baking Goods' 'Snack Foods' 'Frozen Foods' 'Breakfast'\n",
      " 'Health and Hygiene' 'Hard Drinks' 'Canned' 'Breads' 'Starchy Foods'\n",
      " 'Others' 'Seafood']\n",
      "Outlet_Location_Type ['Tier 1' 'Tier 3' 'Tier 2']\n"
     ]
    }
   ],
   "source": [
    "# Have a look at cat_cols values\n",
    "print('cat')\n",
    "for cat_col in cat_cols:\n",
    "    print(cat_col, X_train[cat_col].unique())"
   ]
  },
  {
   "cell_type": "code",
   "execution_count": 8,
   "metadata": {},
   "outputs": [],
   "source": [
    "# Unify cat_cols values\n",
    "def fat_content(v):\n",
    "    if v in ['Low Fat', 'LF']:\n",
    "        return 'low fat'\n",
    "    elif v in ['reg', 'Regular']:\n",
    "        return 'regular'\n",
    "    else:\n",
    "        return np.nan\n",
    "\n",
    "def outlet_size(size):\n",
    "    if size == 'Small':\n",
    "        return 0\n",
    "    elif size == 'Medium':\n",
    "        return 1\n",
    "    elif size == 'High':\n",
    "        return 2\n",
    "    else:\n",
    "        return np.nan\n",
    "    \n",
    "def outlet_type(t):\n",
    "    if t == 'Supermarket Type1':\n",
    "        return 1\n",
    "    elif t == 'Supermarket Type2':\n",
    "        return 2\n",
    "    elif t == 'Supermarket Type3':\n",
    "        return 3\n",
    "    else:\n",
    "        return 0\n",
    "X_train['Item_Fat_Content'] = X_train['Item_Fat_Content'].apply(fat_content)\n",
    "X_train['Outlet_Size'] = X_train['Outlet_Size'].apply(outlet_size)\n",
    "X_train['Outlet_Type'] = X_train['Outlet_Type'].apply(outlet_type)\n",
    "X_test['Item_Fat_Content'] = X_test['Item_Fat_Content'].apply(fat_content)\n",
    "X_test['Outlet_Size'] = X_test['Outlet_Size'].apply(outlet_size)\n",
    "X_test['Outlet_Type'] = X_test['Outlet_Type'].apply(outlet_type)"
   ]
  },
  {
   "cell_type": "code",
   "execution_count": 9,
   "metadata": {},
   "outputs": [],
   "source": [
    "# Retrive num_cols and cat_cols\n",
    "num_cols = X_train._get_numeric_data().columns\n",
    "cat_cols = list(set(X_train.columns) - set(num_cols))"
   ]
  },
  {
   "cell_type": "code",
   "execution_count": 10,
   "metadata": {},
   "outputs": [
    {
     "name": "stdout",
     "output_type": "stream",
     "text": [
      "cat\n",
      "Outlet_Location_Type ['Tier 1' 'Tier 3' 'Tier 2']\n",
      "Item_Fat_Content ['low fat' 'regular' nan]\n",
      "Item_Type ['Dairy' 'Soft Drinks' 'Meat' 'Fruits and Vegetables' 'Household'\n",
      " 'Baking Goods' 'Snack Foods' 'Frozen Foods' 'Breakfast'\n",
      " 'Health and Hygiene' 'Hard Drinks' 'Canned' 'Breads' 'Starchy Foods'\n",
      " 'Others' 'Seafood']\n"
     ]
    }
   ],
   "source": [
    "# Verify the columns\n",
    "print('cat')\n",
    "for cat_col in cat_cols:\n",
    "    print(cat_col, X_train[cat_col].unique())\n"
   ]
  },
  {
   "cell_type": "code",
   "execution_count": 11,
   "metadata": {},
   "outputs": [],
   "source": [
    "# Impute cat_cols\n",
    "from sklearn.impute import SimpleImputer\n",
    "si = SimpleImputer(strategy='most_frequent')\n",
    "X_train[cat_cols] = si.fit_transform(X_train[cat_cols])\n",
    "X_test[cat_cols] = si.fit_transform(X_test[cat_cols])"
   ]
  },
  {
   "cell_type": "code",
   "execution_count": 12,
   "metadata": {},
   "outputs": [],
   "source": [
    "# Encode cat_cols\n",
    "from sklearn.preprocessing import OrdinalEncoder\n",
    "X_train = pd.get_dummies(data=X_train, columns=['Item_Type'], drop_first=True)\n",
    "X_test = pd.get_dummies(data=X_test, columns=['Item_Type'], drop_first=True)\n",
    "oe = OrdinalEncoder()\n",
    "X_train[['Outlet_Location_Type', 'Item_Fat_Content']] = oe.fit_transform(X_train[['Outlet_Location_Type', 'Item_Fat_Content']])\n",
    "X_test[['Outlet_Location_Type', 'Item_Fat_Content']] = oe.fit_transform(X_test[['Outlet_Location_Type', 'Item_Fat_Content']])"
   ]
  },
  {
   "cell_type": "code",
   "execution_count": 13,
   "metadata": {},
   "outputs": [
    {
     "data": {
      "text/plain": [
       "Index(['Item_Weight', 'Item_Fat_Content', 'Item_Visibility', 'Item_MRP',\n",
       "       'Outlet_Establishment_Year', 'Outlet_Size', 'Outlet_Location_Type',\n",
       "       'Outlet_Type', 'Item_Type_Breads', 'Item_Type_Breakfast',\n",
       "       'Item_Type_Canned', 'Item_Type_Dairy', 'Item_Type_Frozen Foods',\n",
       "       'Item_Type_Fruits and Vegetables', 'Item_Type_Hard Drinks',\n",
       "       'Item_Type_Health and Hygiene', 'Item_Type_Household', 'Item_Type_Meat',\n",
       "       'Item_Type_Others', 'Item_Type_Seafood', 'Item_Type_Snack Foods',\n",
       "       'Item_Type_Soft Drinks', 'Item_Type_Starchy Foods'],\n",
       "      dtype='object')"
      ]
     },
     "execution_count": 13,
     "metadata": {},
     "output_type": "execute_result"
    }
   ],
   "source": [
    "X_train.columns"
   ]
  },
  {
   "cell_type": "code",
   "execution_count": 14,
   "metadata": {},
   "outputs": [
    {
     "name": "stdout",
     "output_type": "stream",
     "text": [
      "[ 9.3    5.92  17.5   19.2    8.93  10.395 13.65     nan 16.2   11.8\n",
      " 18.5   15.1   17.6   16.35   9.    13.35  18.85  14.6   13.85  13.\n",
      "  7.645 11.65   5.925 19.25  18.6   18.7   17.85  10.     8.85   9.8\n",
      " 13.6   21.35  12.15   6.42  19.6   15.85   7.39  10.195  9.895 10.895\n",
      "  7.905  9.195  8.365  7.97  17.7   19.35   8.645 15.6   18.25   7.855\n",
      "  7.825  8.39  12.85  19.     5.905  7.76  16.75  15.5    6.055  6.305\n",
      " 20.85  20.75   8.895 19.7    8.75  13.3    8.31  19.75  17.1   10.5\n",
      "  6.635 14.15   8.89   9.1    7.5   16.85   7.485 11.6   12.65  20.25\n",
      "  8.6   12.6    8.88  20.5   13.5    7.235  6.92   8.02  12.8   16.6\n",
      " 14.    16.    21.25   7.365 18.35   5.465  7.27   6.155 19.5   15.2\n",
      " 14.5   13.1   12.3   11.1   11.3    5.75  11.35   6.525 10.3    5.78\n",
      " 11.85  18.75   5.26  16.1    9.5   13.8   14.65   6.67   6.11  17.2\n",
      "  6.32   4.88   5.425 14.1    7.55  17.25  12.    10.1    7.785 13.15\n",
      "  8.5    7.63   9.285  7.975 15.7    8.985 20.35   6.59  19.85   6.26\n",
      " 18.2    8.695  7.075  8.195  7.09   6.095  6.15   9.395 15.75   7.475\n",
      "  6.445 19.1   15.    16.7    7.07   6.48   9.695 11.15   9.6   20.7\n",
      "  5.5    7.895 17.35   7.285  6.17  11.395  7.71  12.1   14.35   8.1\n",
      "  8.05  16.5    6.785  7.575  7.47  15.25   7.605 18.    21.2    8.97\n",
      " 10.6    6.865 10.8   15.15  18.1    6.655 20.1    7.935 15.35  12.35\n",
      "  6.85   8.775 14.85   7.84  12.5    8.325  5.765  5.985 14.3    6.135\n",
      "  8.51   6.65   5.695  6.36   8.3    7.56   8.71   6.695 14.8   17.75\n",
      "  8.575  6.57   8.68   5.63   9.13   6.715  5.82   7.93   5.     7.445\n",
      "  6.675  8.18   6.98   7.435 20.6    8.355  8.975 20.2    5.655  5.175\n",
      " 20.     7.67   4.785  8.395  6.175  8.21   5.845  7.17   8.785  7.89\n",
      "  5.32   5.03   8.945  6.28   7.565  9.31   7.02   5.46   6.13   6.55\n",
      " 17.    16.25   5.15   7.865  6.575  7.06   5.785  7.42   6.235  6.75\n",
      "  5.86   5.035  6.38   5.675 11.5   21.    21.1    4.61   7.     6.405\n",
      " 14.7    7.68   8.185  8.655 10.85   8.42   7.85   4.59   7.51  11.\n",
      "  6.71  14.75   7.59   5.155  6.365  8.235  5.365  8.485  7.535  4.92\n",
      "  6.385  8.26   7.945  8.63   9.21   6.965  8.905  7.21   7.3    9.27\n",
      " 10.695  6.215  7.405  7.72   6.115  6.035  6.78  15.3    7.105  7.52\n",
      "  4.805  6.425  7.6    6.61   7.325  8.115  5.94   5.635  7.35   5.825\n",
      "  6.63   7.05   8.315  6.8    7.035  8.96   5.51   8.43   8.27   7.81\n",
      "  6.885  5.44   5.405  4.635 10.65   5.735  6.465  8.84   7.75   6.765\n",
      "  9.065  7.655  4.615  8.76   7.1    6.195  5.615  8.52   7.26   6.825\n",
      "  5.325  5.59   5.88   5.19   6.985  9.06   6.69   8.615  7.275  6.96\n",
      "  9.17   8.155  5.73   8.935  8.92   7.36   7.64   5.34   7.22   6.615\n",
      "  6.76   6.3    5.98   8.06   6.44   5.095  8.8    6.325  7.31   9.035\n",
      "  9.105  7.145  4.905  4.555  8.     7.315  6.89   5.945  6.86   6.935\n",
      "  6.03   7.725  5.885  7.155  6.46   5.48   8.01   5.8    5.305  6.905\n",
      "  7.96   5.11   8.77   7.685  8.275  8.38   8.35   9.42   6.775  6.4\n",
      "  6.895  5.485  6.52   8.67   5.21   5.4  ]\n",
      "[0.0160473  0.01927822 0.01676007 ... 0.03518627 0.14522065 0.04487828]\n",
      "[249.8092  48.2692 141.618  ...  57.5904 214.5218  75.467 ]\n",
      "[1999 2009 1998 1987 1985 2002 2007 1997 2004]\n",
      "[ 1. nan  2.  0.]\n",
      "[1 2 0 3]\n"
     ]
    }
   ],
   "source": [
    "for i in num_cols:\n",
    "    print(X_train[i].unique())"
   ]
  },
  {
   "cell_type": "code",
   "execution_count": 15,
   "metadata": {},
   "outputs": [],
   "source": [
    "# DataScience.test_imputations(X_train, y_train, num_cols)"
   ]
  },
  {
   "cell_type": "markdown",
   "metadata": {},
   "source": [
    "We can see that KNN yields the best Adjusted R Squared score"
   ]
  },
  {
   "cell_type": "code",
   "execution_count": 16,
   "metadata": {},
   "outputs": [
    {
     "ename": "NameError",
     "evalue": "name 'X_train' is not defined",
     "output_type": "error",
     "traceback": [
      "\u001b[1;31m---------------------------------------------------------------------------\u001b[0m",
      "\u001b[1;31mNameError\u001b[0m                                 Traceback (most recent call last)",
      "\u001b[1;32m<ipython-input-16-7d244163c64a>\u001b[0m in \u001b[0;36m<module>\u001b[1;34m\u001b[0m\n\u001b[1;32m----> 1\u001b[1;33m \u001b[0mDataScience\u001b[0m\u001b[1;33m.\u001b[0m\u001b[0mtest_KNN_imputation\u001b[0m\u001b[1;33m(\u001b[0m\u001b[0mrange\u001b[0m\u001b[1;33m(\u001b[0m\u001b[1;36m2\u001b[0m\u001b[1;33m,\u001b[0m \u001b[1;36m15\u001b[0m\u001b[1;33m)\u001b[0m\u001b[1;33m)\u001b[0m\u001b[1;33m\u001b[0m\u001b[1;33m\u001b[0m\u001b[0m\n\u001b[0m",
      "\u001b[1;32mD:\\GitHub\\Practice-Data-Science\\Package\\DataScience.py\u001b[0m in \u001b[0;36mtest_KNN_imputation\u001b[1;34m(neighbors)\u001b[0m\n\u001b[0;32m    179\u001b[0m     \u001b[1;32mfor\u001b[0m \u001b[0mk\u001b[0m \u001b[1;32min\u001b[0m \u001b[0mneighbors\u001b[0m\u001b[1;33m:\u001b[0m\u001b[1;33m\u001b[0m\u001b[1;33m\u001b[0m\u001b[0m\n\u001b[0;32m    180\u001b[0m         \u001b[0mknn_imputer\u001b[0m \u001b[1;33m=\u001b[0m \u001b[0mKNN\u001b[0m\u001b[1;33m(\u001b[0m\u001b[0mk\u001b[0m\u001b[1;33m)\u001b[0m\u001b[1;33m\u001b[0m\u001b[1;33m\u001b[0m\u001b[0m\n\u001b[1;32m--> 181\u001b[1;33m         \u001b[0mX_knn_imputed\u001b[0m \u001b[1;33m=\u001b[0m \u001b[0msm\u001b[0m\u001b[1;33m.\u001b[0m\u001b[0madd_constant\u001b[0m\u001b[1;33m(\u001b[0m\u001b[0mknn_imputer\u001b[0m\u001b[1;33m.\u001b[0m\u001b[0mfit_transform\u001b[0m\u001b[1;33m(\u001b[0m\u001b[0mX_train\u001b[0m\u001b[1;33m[\u001b[0m\u001b[0mnum_cols\u001b[0m\u001b[1;33m]\u001b[0m\u001b[1;33m)\u001b[0m\u001b[1;33m)\u001b[0m\u001b[1;33m\u001b[0m\u001b[1;33m\u001b[0m\u001b[0m\n\u001b[0m\u001b[0;32m    182\u001b[0m         \u001b[0mlm_knn\u001b[0m \u001b[1;33m=\u001b[0m \u001b[0msm\u001b[0m\u001b[1;33m.\u001b[0m\u001b[0mOLS\u001b[0m\u001b[1;33m(\u001b[0m\u001b[0my_train\u001b[0m\u001b[1;33m,\u001b[0m \u001b[0mX_knn_imputed\u001b[0m\u001b[1;33m)\u001b[0m\u001b[1;33m.\u001b[0m\u001b[0mfit\u001b[0m\u001b[1;33m(\u001b[0m\u001b[1;33m)\u001b[0m\u001b[1;33m\u001b[0m\u001b[1;33m\u001b[0m\u001b[0m\n\u001b[0;32m    183\u001b[0m         \u001b[0mscores\u001b[0m\u001b[1;33m.\u001b[0m\u001b[0mappend\u001b[0m\u001b[1;33m(\u001b[0m\u001b[1;33m[\u001b[0m\u001b[0mlm_knn\u001b[0m\u001b[1;33m.\u001b[0m\u001b[0mrsquared_adj\u001b[0m\u001b[1;33m,\u001b[0m \u001b[1;34m'k == '\u001b[0m \u001b[1;33m+\u001b[0m \u001b[0mk\u001b[0m\u001b[1;33m]\u001b[0m\u001b[1;33m)\u001b[0m\u001b[1;33m\u001b[0m\u001b[1;33m\u001b[0m\u001b[0m\n",
      "\u001b[1;31mNameError\u001b[0m: name 'X_train' is not defined"
     ]
    }
   ],
   "source": [
    "DataScience.test_KNN_imputation(X_train, y_train, num_cols, range(2, 15))"
   ]
  },
  {
   "cell_type": "code",
   "execution_count": null,
   "metadata": {},
   "outputs": [],
   "source": [
    "# Impute num_cols\n",
    "from fancyimpute import IterativeImputer\n",
    "ii = IterativeImputer(random_state=1)\n",
    "X_train[num_cols] = ii.fit_transform(X_train[num_cols])\n",
    "X_test[num_cols] = ii.fit_transform(X_test[num_cols])"
   ]
  },
  {
   "cell_type": "code",
   "execution_count": null,
   "metadata": {},
   "outputs": [],
   "source": [
    "# Scale num_cols\n",
    "from sklearn.preprocessing import StandardScaler\n",
    "sc = StandardScaler()\n",
    "num_scaled = sc.fit_transform(X_train[num_cols])\n",
    "X_train[num_cols] = pd.DataFrame(num_scaled, index=X_train.index, columns=num_cols)\n",
    "num_scaled = sc.fit_transform(X_test[num_cols])\n",
    "X_test[num_cols] = pd.DataFrame(num_scaled, index=X_test.index, columns=num_cols)"
   ]
  },
  {
   "cell_type": "code",
   "execution_count": null,
   "metadata": {},
   "outputs": [],
   "source": [
    "# Verify X_train\n",
    "X_train.head()"
   ]
  },
  {
   "cell_type": "code",
   "execution_count": null,
   "metadata": {},
   "outputs": [],
   "source": [
    "# Import XGBGeressor and GridSearchCV libraries\n",
    "from sklearn.model_selection import GridSearchCV\n",
    "from sklearn.ensemble import RandomForestRegressor\n",
    "from sklearn.model_selection import KFold\n",
    "\n",
    "parameters = {\n",
    "        'n_estimators': [200, 500],\n",
    "        'max_features': ['auto', 'sqrt', 'log2'],\n",
    "        'max_depth' : [4,5,6,7,8],\n",
    "        'criterion' :['mse', 'mae']\n",
    "             }\n",
    "rfr = RandomForestRegressor()\n",
    "xgb_grid = GridSearchCV(estimator=rfr,\n",
    "                        param_grid=parameters,\n",
    "                        cv = KFold(5),\n",
    "                        verbose=True,\n",
    "                        n_jobs = -1)\n",
    "# Try fitting training data sets with all parameters\n",
    "xgb_grid.fit(X_train,y_train)\n",
    "\n",
    "# Print the best parameters\n",
    "print(xgb_grid.best_params_)"
   ]
  },
  {
   "cell_type": "code",
   "execution_count": null,
   "metadata": {},
   "outputs": [],
   "source": [
    "# Fit the training tests using the best parameters\n",
    "gbm = RandomForestRegressor(**xgb_grid.best_params_)\n",
    "gbm.fit(X_train,y_train)\n",
    "\n",
    "# Get the predicted values\n",
    "predictions = gbm.predict(X_test)"
   ]
  },
  {
   "cell_type": "code",
   "execution_count": null,
   "metadata": {},
   "outputs": [],
   "source": [
    "# Get the index of the predicted table\n",
    "index = X_test.index\n",
    "predictions = pd.DataFrame(predictions, columns=['Item_Outlet_Sales'], index=index)\n",
    "\n",
    "# saving the DataFrame as a CSV file \n",
    "csv_data = predictions.to_csv('Predictions.csv', index = True) "
   ]
  },
  {
   "cell_type": "code",
   "execution_count": null,
   "metadata": {},
   "outputs": [],
   "source": [
    "# Verify the prediction's format\n",
    "print(predictions.head())"
   ]
  },
  {
   "cell_type": "code",
   "execution_count": null,
   "metadata": {},
   "outputs": [],
   "source": [
    "# from sklearn.pipeline import make_pipeline, Pipeline\n",
    "# from sklearn.impute import SimpleImputer\n",
    "# from sklearn.preprocessing import StandardScaler, OneHotEncoder, OrdinalEncoder\n",
    "# from sklearn.compose import make_column_transformer, ColumnTransformer, make_column_selector\n",
    "# from sklearn.model_selection import KFold\n",
    "# from fancyimpute import IterativeImputer\n",
    "# from xgboost import XGBRegressor\n",
    "# from sklearn.ensemble import RandomForestRegressor\n",
    "\n",
    "# # define the data preparation for the columns\n",
    "# t = [('cat_impute', SimpleImputer(strategy='most_frequent', missing_values=np.nan), cat_cols),\n",
    "#      ('cat_ordinal_encode', OrdinalEncoder(), ['Outlet_Location_Type', 'Item_Fat_Content']),\n",
    "#      ('cat_encode', OneHotEncoder(handle_unknown='ignore'), ['Item_Type']),\n",
    "#      ('num_impute', IterativeImputer(missing_values=np.nan), num_cols), \n",
    "#      ('num_scale', StandardScaler(), num_cols)]\n",
    "# col_transform = ColumnTransformer(transformers=t)\n",
    "\n",
    "# # Create an object of XGBRegressor\n",
    "# xgbr = XGBRegressor(random_state=1)\n",
    "\n",
    "# # define the data preparation and modeling pipeline\n",
    "# pipeline = Pipeline(steps=[('prep',col_transform), ('model', xgbr)])"
   ]
  }
 ],
 "metadata": {
  "kernelspec": {
   "display_name": "Python 3",
   "language": "python",
   "name": "python3"
  },
  "language_info": {
   "codemirror_mode": {
    "name": "ipython",
    "version": 3
   },
   "file_extension": ".py",
   "mimetype": "text/x-python",
   "name": "python",
   "nbconvert_exporter": "python",
   "pygments_lexer": "ipython3",
   "version": "3.7.9"
  }
 },
 "nbformat": 4,
 "nbformat_minor": 4
}
