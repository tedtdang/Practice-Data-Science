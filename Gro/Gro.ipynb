{
 "cells": [
  {
   "cell_type": "code",
   "execution_count": 203,
   "metadata": {},
   "outputs": [],
   "source": [
    "import pandas as pd\n",
    "import datetime\n",
    "\n",
    "prec = pd.read_csv(\"Daily Precipitation.csv\")\n",
    "soil = pd.read_csv(\"Daily Soil Moisture.csv\")\n",
    "ed = pd.read_csv(\"Eight Day NDVI.csv\")\n",
    "prodq = pd.read_csv(\"Production Quantity.csv\")\n",
    "preds = pd.read_csv(\"predicted_production_qty.csv\")\n",
    "dates = preds.iloc[:2].copy()\n"
   ]
  },
  {
   "cell_type": "code",
   "execution_count": 204,
   "metadata": {},
   "outputs": [],
   "source": [
    "def clean_date(data, date_col=[\"start_date\"]):\n",
    "    \"\"\"This function cleans and parses date columns to the datetime type\"\"\"\n",
    "    for datum in data:\n",
    "        # Drop column \"end_date\" since it does not match with production quantity dataset\n",
    "        datum.drop(columns=\"end_date\", inplace=True)\n",
    "        for col in date_col:\n",
    "            # Keep the first 8 charcters of col value\n",
    "            datum[col] = datum[col].str.replace(\"-\", \"\").str[:8]\n",
    "            # Parse col to datetime type\n",
    "            datum[col] = pd.to_datetime(datum[col], format=\"%Y%m%d\")\n",
    "\n",
    "\n",
    "clean_date([prec, soil, ed])\n"
   ]
  },
  {
   "cell_type": "markdown",
   "metadata": {},
   "source": [
    "In ed, the ndvi score is measured every 8 days. Thus, I will add more dates to fill in the gap between the start_date and end_date (7 more dates) and adjust the score in the dates by a linear difference between the previous and the current date by the formula \n",
    "$$\n",
    "ndvi_{t+1} = ndvi_{t} + \\frac{ndvi_{t+8} - ndvi_{t}} {t + 8 - t} * (t + 1 - t)\n",
    "$$\n",
    "<br>\n",
    "For example, the ndvi on start_date of 2014-01-01 and 2014-01-09 are 0.701431 and 0.745149. Then, the ndvi on the start_date of 2014-01-04 is<br>\n",
    "0.701431 + (0.745149 - 0.701431) / 8 * 3<br>\n",
    "This method is inspired by back propagation in Deep Learning\n",
    "\n"
   ]
  },
  {
   "cell_type": "code",
   "execution_count": 205,
   "metadata": {},
   "outputs": [
    {
     "name": "stderr",
     "output_type": "stream",
     "text": [
      "C:\\Users\\dtngh\\AppData\\Local\\Temp\\ipykernel_2816\\1056227833.py:33: FutureWarning: The frame.append method is deprecated and will be removed from pandas in a future version. Use pandas.concat instead.\n",
      "  ed = new.append(\n"
     ]
    },
    {
     "ename": "IndexError",
     "evalue": "index 1 is out of bounds for axis 0 with size 1",
     "output_type": "error",
     "traceback": [
      "\u001b[1;31m---------------------------------------------------------------------------\u001b[0m",
      "\u001b[1;31mIndexError\u001b[0m                                Traceback (most recent call last)",
      "\u001b[1;32md:\\GitHub\\Practice-Data-Science\\Gro\\Gro.ipynb Cell 4'\u001b[0m in \u001b[0;36m<cell line: 31>\u001b[1;34m()\u001b[0m\n\u001b[0;32m     <a href='vscode-notebook-cell:/d%3A/GitHub/Practice-Data-Science/Gro/Gro.ipynb#ch0000032?line=30'>31</a>\u001b[0m \u001b[39mfor\u001b[39;00m date \u001b[39min\u001b[39;00m ed_dates:\n\u001b[0;32m     <a href='vscode-notebook-cell:/d%3A/GitHub/Practice-Data-Science/Gro/Gro.ipynb#ch0000032?line=31'>32</a>\u001b[0m     index \u001b[39m=\u001b[39m closest_date(date, ed, \u001b[39m\"\u001b[39m\u001b[39mstart_date\u001b[39m\u001b[39m\"\u001b[39m)\n\u001b[0;32m     <a href='vscode-notebook-cell:/d%3A/GitHub/Practice-Data-Science/Gro/Gro.ipynb#ch0000032?line=32'>33</a>\u001b[0m     ed \u001b[39m=\u001b[39m new\u001b[39m.\u001b[39mappend(\n\u001b[0;32m     <a href='vscode-notebook-cell:/d%3A/GitHub/Practice-Data-Science/Gro/Gro.ipynb#ch0000032?line=33'>34</a>\u001b[0m         {\n\u001b[0;32m     <a href='vscode-notebook-cell:/d%3A/GitHub/Practice-Data-Science/Gro/Gro.ipynb#ch0000032?line=34'>35</a>\u001b[0m             \u001b[39m\"\u001b[39m\u001b[39mstart_date\u001b[39m\u001b[39m\"\u001b[39m: date,\n\u001b[1;32m---> <a href='vscode-notebook-cell:/d%3A/GitHub/Practice-Data-Science/Gro/Gro.ipynb#ch0000032?line=35'>36</a>\u001b[0m             \u001b[39m\"\u001b[39m\u001b[39mndvi\u001b[39m\u001b[39m\"\u001b[39m: impute_ndvi(date, ed, index, \u001b[39m\"\u001b[39;49m\u001b[39mstart_date\u001b[39;49m\u001b[39m\"\u001b[39;49m)[\u001b[39m0\u001b[39m],\n\u001b[0;32m     <a href='vscode-notebook-cell:/d%3A/GitHub/Practice-Data-Science/Gro/Gro.ipynb#ch0000032?line=36'>37</a>\u001b[0m             \u001b[39m\"\u001b[39m\u001b[39mregion_id\u001b[39m\u001b[39m\"\u001b[39m: impute_ndvi(date, ed, index, \u001b[39m\"\u001b[39m\u001b[39mstart_date\u001b[39m\u001b[39m\"\u001b[39m)[\u001b[39m1\u001b[39m],\n\u001b[0;32m     <a href='vscode-notebook-cell:/d%3A/GitHub/Practice-Data-Science/Gro/Gro.ipynb#ch0000032?line=37'>38</a>\u001b[0m         },\n\u001b[0;32m     <a href='vscode-notebook-cell:/d%3A/GitHub/Practice-Data-Science/Gro/Gro.ipynb#ch0000032?line=38'>39</a>\u001b[0m         ignore_index\u001b[39m=\u001b[39m\u001b[39mTrue\u001b[39;00m,\n\u001b[0;32m     <a href='vscode-notebook-cell:/d%3A/GitHub/Practice-Data-Science/Gro/Gro.ipynb#ch0000032?line=39'>40</a>\u001b[0m     )\n\u001b[0;32m     <a href='vscode-notebook-cell:/d%3A/GitHub/Practice-Data-Science/Gro/Gro.ipynb#ch0000032?line=40'>41</a>\u001b[0m ed \u001b[39m=\u001b[39m pd\u001b[39m.\u001b[39mconcat([ed, new], join\u001b[39m=\u001b[39m\u001b[39m\"\u001b[39m\u001b[39minner\u001b[39m\u001b[39m\"\u001b[39m)\n",
      "\u001b[1;32md:\\GitHub\\Practice-Data-Science\\Gro\\Gro.ipynb Cell 4'\u001b[0m in \u001b[0;36mimpute_ndvi\u001b[1;34m(date, df, index, date_col)\u001b[0m\n\u001b[0;32m     <a href='vscode-notebook-cell:/d%3A/GitHub/Practice-Data-Science/Gro/Gro.ipynb#ch0000032?line=15'>16</a>\u001b[0m \u001b[39mdef\u001b[39;00m \u001b[39mimpute_ndvi\u001b[39m(date, df, index, date_col):\n\u001b[0;32m     <a href='vscode-notebook-cell:/d%3A/GitHub/Practice-Data-Science/Gro/Gro.ipynb#ch0000032?line=16'>17</a>\u001b[0m     \u001b[39m\"\"\"This function applies the formula above. Also, it returns the value of region_id\"\"\"\u001b[39;00m\n\u001b[1;32m---> <a href='vscode-notebook-cell:/d%3A/GitHub/Practice-Data-Science/Gro/Gro.ipynb#ch0000032?line=17'>18</a>\u001b[0m     pre_nvdi_value \u001b[39m=\u001b[39m df\u001b[39m.\u001b[39;49miloc[index, \u001b[39m-\u001b[39;49m\u001b[39m2\u001b[39;49m]\n\u001b[0;32m     <a href='vscode-notebook-cell:/d%3A/GitHub/Practice-Data-Science/Gro/Gro.ipynb#ch0000032?line=18'>19</a>\u001b[0m     \u001b[39mif\u001b[39;00m index \u001b[39m+\u001b[39m \u001b[39m1\u001b[39m \u001b[39m<\u001b[39m \u001b[39mlen\u001b[39m(df):\n\u001b[0;32m     <a href='vscode-notebook-cell:/d%3A/GitHub/Practice-Data-Science/Gro/Gro.ipynb#ch0000032?line=19'>20</a>\u001b[0m         post_nvdi_value \u001b[39m=\u001b[39m df\u001b[39m.\u001b[39miloc[index \u001b[39m+\u001b[39m \u001b[39m1\u001b[39m, \u001b[39m-\u001b[39m\u001b[39m2\u001b[39m]\n",
      "File \u001b[1;32m~\\miniconda3\\lib\\site-packages\\pandas\\core\\indexing.py:960\u001b[0m, in \u001b[0;36m_LocationIndexer.__getitem__\u001b[1;34m(self, key)\u001b[0m\n\u001b[0;32m    <a href='file:///c%3A/Users/dtngh/miniconda3/lib/site-packages/pandas/core/indexing.py?line=957'>958</a>\u001b[0m     key \u001b[39m=\u001b[39m \u001b[39mtuple\u001b[39m(com\u001b[39m.\u001b[39mapply_if_callable(x, \u001b[39mself\u001b[39m\u001b[39m.\u001b[39mobj) \u001b[39mfor\u001b[39;00m x \u001b[39min\u001b[39;00m key)\n\u001b[0;32m    <a href='file:///c%3A/Users/dtngh/miniconda3/lib/site-packages/pandas/core/indexing.py?line=958'>959</a>\u001b[0m     \u001b[39mif\u001b[39;00m \u001b[39mself\u001b[39m\u001b[39m.\u001b[39m_is_scalar_access(key):\n\u001b[1;32m--> <a href='file:///c%3A/Users/dtngh/miniconda3/lib/site-packages/pandas/core/indexing.py?line=959'>960</a>\u001b[0m         \u001b[39mreturn\u001b[39;00m \u001b[39mself\u001b[39;49m\u001b[39m.\u001b[39;49mobj\u001b[39m.\u001b[39;49m_get_value(\u001b[39m*\u001b[39;49mkey, takeable\u001b[39m=\u001b[39;49m\u001b[39mself\u001b[39;49m\u001b[39m.\u001b[39;49m_takeable)\n\u001b[0;32m    <a href='file:///c%3A/Users/dtngh/miniconda3/lib/site-packages/pandas/core/indexing.py?line=960'>961</a>\u001b[0m     \u001b[39mreturn\u001b[39;00m \u001b[39mself\u001b[39m\u001b[39m.\u001b[39m_getitem_tuple(key)\n\u001b[0;32m    <a href='file:///c%3A/Users/dtngh/miniconda3/lib/site-packages/pandas/core/indexing.py?line=961'>962</a>\u001b[0m \u001b[39melse\u001b[39;00m:\n\u001b[0;32m    <a href='file:///c%3A/Users/dtngh/miniconda3/lib/site-packages/pandas/core/indexing.py?line=962'>963</a>\u001b[0m     \u001b[39m# we by definition only have the 0th axis\u001b[39;00m\n",
      "File \u001b[1;32m~\\miniconda3\\lib\\site-packages\\pandas\\core\\frame.py:3613\u001b[0m, in \u001b[0;36mDataFrame._get_value\u001b[1;34m(self, index, col, takeable)\u001b[0m\n\u001b[0;32m   <a href='file:///c%3A/Users/dtngh/miniconda3/lib/site-packages/pandas/core/frame.py?line=3610'>3611</a>\u001b[0m \u001b[39mif\u001b[39;00m takeable:\n\u001b[0;32m   <a href='file:///c%3A/Users/dtngh/miniconda3/lib/site-packages/pandas/core/frame.py?line=3611'>3612</a>\u001b[0m     series \u001b[39m=\u001b[39m \u001b[39mself\u001b[39m\u001b[39m.\u001b[39m_ixs(col, axis\u001b[39m=\u001b[39m\u001b[39m1\u001b[39m)\n\u001b[1;32m-> <a href='file:///c%3A/Users/dtngh/miniconda3/lib/site-packages/pandas/core/frame.py?line=3612'>3613</a>\u001b[0m     \u001b[39mreturn\u001b[39;00m series\u001b[39m.\u001b[39;49m_values[index]\n\u001b[0;32m   <a href='file:///c%3A/Users/dtngh/miniconda3/lib/site-packages/pandas/core/frame.py?line=3614'>3615</a>\u001b[0m series \u001b[39m=\u001b[39m \u001b[39mself\u001b[39m\u001b[39m.\u001b[39m_get_item_cache(col)\n\u001b[0;32m   <a href='file:///c%3A/Users/dtngh/miniconda3/lib/site-packages/pandas/core/frame.py?line=3615'>3616</a>\u001b[0m engine \u001b[39m=\u001b[39m \u001b[39mself\u001b[39m\u001b[39m.\u001b[39mindex\u001b[39m.\u001b[39m_engine\n",
      "\u001b[1;31mIndexError\u001b[0m: index 1 is out of bounds for axis 0 with size 1"
     ]
    }
   ],
   "source": [
    "def unique_date(df, date_col):\n",
    "    \"\"\"This function returns a list of dates that were between newest and oldest dates in date_col values\"\"\"\n",
    "    dates = pd.date_range(start=min(df[date_col]), end=max(df[date_col])).to_list()\n",
    "    for date in dates:\n",
    "        if date in df[date_col].values:\n",
    "            dates.remove(date)\n",
    "    return dates\n",
    "\n",
    "\n",
    "def closest_date(date, df, date_col):\n",
    "    \"\"\"This function returns the index of the closest date in df[date_col] that was before the date\"\"\"\n",
    "    index = df[date_col].searchsorted(date)\n",
    "    return index\n",
    "\n",
    "\n",
    "def impute_ndvi(date, df, index, date_col):\n",
    "    \"\"\"This function applies the formula above. Also, it returns the value of region_id\"\"\"\n",
    "    pre_nvdi_value = df.iloc[index, -2]\n",
    "    if index + 1 < len(df):\n",
    "        post_nvdi_value = df.iloc[index + 1, -2]\n",
    "    else:\n",
    "        post_nvdi_value = pre_nvdi_value\n",
    "    # Time difference between t and t-1 in terms of days\n",
    "    time_delta = (df.loc[index, date_col] - date).days\n",
    "    result = pre_nvdi_value + (post_nvdi_value - pre_nvdi_value) * time_delta / 8\n",
    "    return result, df.loc[index, \"region_id\"]\n",
    "\n",
    "\n",
    "ed_dates = unique_date(ed, \"start_date\")\n",
    "new = pd.DataFrame()\n",
    "for date in ed_dates:\n",
    "    index = closest_date(date, ed, \"start_date\")\n",
    "    new = new.append(\n",
    "        {\n",
    "            \"start_date\": date,\n",
    "            \"ndvi\": impute_ndvi(date, ed, index, \"start_date\")[0],\n",
    "            \"region_id\": impute_ndvi(date, ed, index, \"start_date\")[1],\n",
    "        },\n",
    "        ignore_index=True,\n",
    "    )\n",
    "ed = pd.concat([ed, new], join=\"inner\")\n"
   ]
  },
  {
   "cell_type": "code",
   "execution_count": null,
   "metadata": {},
   "outputs": [],
   "source": [
    "# def merging(data, columns=['start_date', 'region_id']):\n",
    "#     '''This function merges all dataframes on columns'''\n",
    "#     merged_data = data[0].copy()\n",
    "#     for datum in data:\n",
    "#         merged_data = pd.merge(merged_data, datum, on=columns)\n",
    "#     return merged_data.drop_duplicates()\n"
   ]
  },
  {
   "cell_type": "code",
   "execution_count": null,
   "metadata": {},
   "outputs": [],
   "source": [
    "# merged_data = merging([prec, soil, ed])\n",
    "# print(len(merged_data))\n"
   ]
  },
  {
   "cell_type": "code",
   "execution_count": null,
   "metadata": {},
   "outputs": [],
   "source": [
    "# merged_data\n"
   ]
  },
  {
   "cell_type": "code",
   "execution_count": null,
   "metadata": {},
   "outputs": [],
   "source": []
  }
 ],
 "metadata": {
  "interpreter": {
   "hash": "2f8d4f4cc8fa12dbb26313d8b3e110534f25fd535deed971b5eaf97b1f1a75b3"
  },
  "kernelspec": {
   "display_name": "Python 3.9.7",
   "language": "python",
   "name": "python3"
  },
  "language_info": {
   "codemirror_mode": {
    "name": "ipython",
    "version": 3
   },
   "file_extension": ".py",
   "mimetype": "text/x-python",
   "name": "python",
   "nbconvert_exporter": "python",
   "pygments_lexer": "ipython3",
   "version": "3.9.7"
  },
  "orig_nbformat": 4
 },
 "nbformat": 4,
 "nbformat_minor": 2
}
