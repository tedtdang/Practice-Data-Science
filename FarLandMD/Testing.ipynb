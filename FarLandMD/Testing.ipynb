{
 "cells": [
  {
   "cell_type": "markdown",
   "metadata": {},
   "source": [
    "This project's main purpose is to extract reviews from patients or their families on doctors. Then, reviews on the same doctor will be processed such that similar opinions are retained and become a brief and general reviews from multiple reviews on a specific doctor. Specifically, a graphical window will show up when our site user hovers on that doctor's info."
   ]
  },
  {
   "cell_type": "markdown",
   "metadata": {
    "id": "JeoHkS0AA_QH"
   },
   "source": [
    "### Import libraries and the review file"
   ]
  },
  {
   "cell_type": "code",
   "execution_count": 1,
   "metadata": {
    "colab": {
     "base_uri": "https://localhost:8080/"
    },
    "executionInfo": {
     "elapsed": 328,
     "status": "ok",
     "timestamp": 1607713039462,
     "user": {
      "displayName": "Ted Dang",
      "photoUrl": "https://lh3.googleusercontent.com/a-/AOh14GhGYvWJ7Ts__5Jym-kLlZFAba3rM4tQRhpABDM6KQ=s64",
      "userId": "07278023630729325471"
     },
     "user_tz": 360
    },
    "id": "SvPulaukGob_",
    "outputId": "f3669e38-79ee-4008-b4d2-aa047a3849db"
   },
   "outputs": [],
   "source": [
    "import pandas as pd\n",
    "df = pd.read_csv('https://raw.githubusercontent.com/teohangxanh/Practice-Data-Science/master/FarLandMD/zocdoc%20reviews.csv', encoding = \"ISO-8859-1\", index_col=None)\n",
    "pd.set_option('max_colwidth', 200)\n",
    "pd.set_option(\"display.max_rows\", 6)"
   ]
  },
  {
   "cell_type": "code",
   "execution_count": 2,
   "metadata": {},
   "outputs": [
    {
     "data": {
      "text/plain": [
       "Index(['Doctor', 'Reviews'], dtype='object')"
      ]
     },
     "execution_count": 2,
     "metadata": {},
     "output_type": "execute_result"
    }
   ],
   "source": [
    "df.columns"
   ]
  },
  {
   "cell_type": "markdown",
   "metadata": {
    "id": "1cAxEivwBG6g"
   },
   "source": [
    "### Clean the dataset"
   ]
  },
  {
   "cell_type": "code",
   "execution_count": 3,
   "metadata": {
    "colab": {
     "base_uri": "https://localhost:8080/",
     "height": 204
    },
    "executionInfo": {
     "elapsed": 489,
     "status": "ok",
     "timestamp": 1607713039633,
     "user": {
      "displayName": "Ted Dang",
      "photoUrl": "https://lh3.googleusercontent.com/a-/AOh14GhGYvWJ7Ts__5Jym-kLlZFAba3rM4tQRhpABDM6KQ=s64",
      "userId": "07278023630729325471"
     },
     "user_tz": 360
    },
    "id": "nmuSf657HEnw",
    "outputId": "67b9cee2-9893-4210-d470-824b197e2cc7"
   },
   "outputs": [
    {
     "data": {
      "text/html": [
       "<div>\n",
       "<style scoped>\n",
       "    .dataframe tbody tr th:only-of-type {\n",
       "        vertical-align: middle;\n",
       "    }\n",
       "\n",
       "    .dataframe tbody tr th {\n",
       "        vertical-align: top;\n",
       "    }\n",
       "\n",
       "    .dataframe thead th {\n",
       "        text-align: right;\n",
       "    }\n",
       "</style>\n",
       "<table border=\"1\" class=\"dataframe\">\n",
       "  <thead>\n",
       "    <tr style=\"text-align: right;\">\n",
       "      <th></th>\n",
       "      <th>Doctor</th>\n",
       "      <th>Reviews</th>\n",
       "    </tr>\n",
       "  </thead>\n",
       "  <tbody>\n",
       "    <tr>\n",
       "      <th>0</th>\n",
       "      <td>Dr. Jon Biorkman, MD</td>\n",
       "      <td>This review is an overdue huge thank you for an extraordinary medical doctor whose care and professionalism helped me even in his absence:  I was Dr. Biorkman\\'s patient while in Irvine until 2006...</td>\n",
       "    </tr>\n",
       "    <tr>\n",
       "      <th>1</th>\n",
       "      <td>NaN</td>\n",
       "      <td>NaN</td>\n",
       "    </tr>\n",
       "    <tr>\n",
       "      <th>2</th>\n",
       "      <td>Richard McConkie, FNP-C</td>\n",
       "      <td>I was so pleased with the kindness and care of the staff at west valley. This was my first visit and it felt like I'd been going there forever. Dr Richard was very empathic and understanding. List...</td>\n",
       "    </tr>\n",
       "    <tr>\n",
       "      <th>3</th>\n",
       "      <td>NaN</td>\n",
       "      <td>NaN</td>\n",
       "    </tr>\n",
       "    <tr>\n",
       "      <th>4</th>\n",
       "      <td>Dr. Crystal Song, NMD</td>\n",
       "      <td>I go monthly to Dr Song to strengthen my abdomen which has a hernia caused by a botched surgery 2 years ago.  I am extremely satisfied by the high expertise and genuine care that Dr Song gives me ...</td>\n",
       "    </tr>\n",
       "  </tbody>\n",
       "</table>\n",
       "</div>"
      ],
      "text/plain": [
       "                    Doctor  \\\n",
       "0     Dr. Jon Biorkman, MD   \n",
       "1                      NaN   \n",
       "2  Richard McConkie, FNP-C   \n",
       "3                      NaN   \n",
       "4    Dr. Crystal Song, NMD   \n",
       "\n",
       "                                                                                                                                                                                                   Reviews  \n",
       "0  This review is an overdue huge thank you for an extraordinary medical doctor whose care and professionalism helped me even in his absence:  I was Dr. Biorkman\\'s patient while in Irvine until 2006...  \n",
       "1                                                                                                                                                                                                      NaN  \n",
       "2  I was so pleased with the kindness and care of the staff at west valley. This was my first visit and it felt like I'd been going there forever. Dr Richard was very empathic and understanding. List...  \n",
       "3                                                                                                                                                                                                      NaN  \n",
       "4  I go monthly to Dr Song to strengthen my abdomen which has a hernia caused by a botched surgery 2 years ago.  I am extremely satisfied by the high expertise and genuine care that Dr Song gives me ...  "
      ]
     },
     "execution_count": 3,
     "metadata": {},
     "output_type": "execute_result"
    }
   ],
   "source": [
    "df.head()"
   ]
  },
  {
   "cell_type": "code",
   "execution_count": 4,
   "metadata": {
    "executionInfo": {
     "elapsed": 483,
     "status": "ok",
     "timestamp": 1607713039635,
     "user": {
      "displayName": "Ted Dang",
      "photoUrl": "https://lh3.googleusercontent.com/a-/AOh14GhGYvWJ7Ts__5Jym-kLlZFAba3rM4tQRhpABDM6KQ=s64",
      "userId": "07278023630729325471"
     },
     "user_tz": 360
    },
    "id": "TNybUuyBAy_e"
   },
   "outputs": [],
   "source": [
    "# Remove rows that have missing data in all columns: Doctor and Reviews\n",
    "df.dropna(how='all', inplace=True)"
   ]
  },
  {
   "cell_type": "code",
   "execution_count": 5,
   "metadata": {
    "colab": {
     "base_uri": "https://localhost:8080/",
     "height": 204
    },
    "executionInfo": {
     "elapsed": 476,
     "status": "ok",
     "timestamp": 1607713039636,
     "user": {
      "displayName": "Ted Dang",
      "photoUrl": "https://lh3.googleusercontent.com/a-/AOh14GhGYvWJ7Ts__5Jym-kLlZFAba3rM4tQRhpABDM6KQ=s64",
      "userId": "07278023630729325471"
     },
     "user_tz": 360
    },
    "id": "w5vqabEdA4Uw",
    "outputId": "f7be96d0-dd88-4492-e8b5-5e08666f579c"
   },
   "outputs": [
    {
     "data": {
      "text/html": [
       "<div>\n",
       "<style scoped>\n",
       "    .dataframe tbody tr th:only-of-type {\n",
       "        vertical-align: middle;\n",
       "    }\n",
       "\n",
       "    .dataframe tbody tr th {\n",
       "        vertical-align: top;\n",
       "    }\n",
       "\n",
       "    .dataframe thead th {\n",
       "        text-align: right;\n",
       "    }\n",
       "</style>\n",
       "<table border=\"1\" class=\"dataframe\">\n",
       "  <thead>\n",
       "    <tr style=\"text-align: right;\">\n",
       "      <th></th>\n",
       "      <th>Doctor</th>\n",
       "      <th>Reviews</th>\n",
       "    </tr>\n",
       "  </thead>\n",
       "  <tbody>\n",
       "    <tr>\n",
       "      <th>0</th>\n",
       "      <td>Dr. Jon Biorkman, MD</td>\n",
       "      <td>This review is an overdue huge thank you for an extraordinary medical doctor whose care and professionalism helped me even in his absence:  I was Dr. Biorkman\\'s patient while in Irvine until 2006...</td>\n",
       "    </tr>\n",
       "    <tr>\n",
       "      <th>2</th>\n",
       "      <td>Richard McConkie, FNP-C</td>\n",
       "      <td>I was so pleased with the kindness and care of the staff at west valley. This was my first visit and it felt like I'd been going there forever. Dr Richard was very empathic and understanding. List...</td>\n",
       "    </tr>\n",
       "    <tr>\n",
       "      <th>4</th>\n",
       "      <td>Dr. Crystal Song, NMD</td>\n",
       "      <td>I go monthly to Dr Song to strengthen my abdomen which has a hernia caused by a botched surgery 2 years ago.  I am extremely satisfied by the high expertise and genuine care that Dr Song gives me ...</td>\n",
       "    </tr>\n",
       "    <tr>\n",
       "      <th>6</th>\n",
       "      <td>Dr. Christopher Ciccone, MD</td>\n",
       "      <td>Excellent service and advice as well as a perscrition  for spider bite infection\\n\\nDr. Ciccone has been my doc for 25 years and is now the family doc for my children and husband too!  His office ...</td>\n",
       "    </tr>\n",
       "    <tr>\n",
       "      <th>8</th>\n",
       "      <td>Dr. Martin Maag, MD</td>\n",
       "      <td>Very positive and encouraging, time well spent.\\n\\nFriendly, professional, and knowledgeable.\\n\\nits not often that the Doctor is the one to greet you and sit you down in the consultation room, gr...</td>\n",
       "    </tr>\n",
       "  </tbody>\n",
       "</table>\n",
       "</div>"
      ],
      "text/plain": [
       "                        Doctor  \\\n",
       "0         Dr. Jon Biorkman, MD   \n",
       "2      Richard McConkie, FNP-C   \n",
       "4        Dr. Crystal Song, NMD   \n",
       "6  Dr. Christopher Ciccone, MD   \n",
       "8          Dr. Martin Maag, MD   \n",
       "\n",
       "                                                                                                                                                                                                   Reviews  \n",
       "0  This review is an overdue huge thank you for an extraordinary medical doctor whose care and professionalism helped me even in his absence:  I was Dr. Biorkman\\'s patient while in Irvine until 2006...  \n",
       "2  I was so pleased with the kindness and care of the staff at west valley. This was my first visit and it felt like I'd been going there forever. Dr Richard was very empathic and understanding. List...  \n",
       "4  I go monthly to Dr Song to strengthen my abdomen which has a hernia caused by a botched surgery 2 years ago.  I am extremely satisfied by the high expertise and genuine care that Dr Song gives me ...  \n",
       "6  Excellent service and advice as well as a perscrition  for spider bite infection\\n\\nDr. Ciccone has been my doc for 25 years and is now the family doc for my children and husband too!  His office ...  \n",
       "8  Very positive and encouraging, time well spent.\\n\\nFriendly, professional, and knowledgeable.\\n\\nits not often that the Doctor is the one to greet you and sit you down in the consultation room, gr...  "
      ]
     },
     "execution_count": 5,
     "metadata": {},
     "output_type": "execute_result"
    }
   ],
   "source": [
    "df.head()"
   ]
  },
  {
   "cell_type": "code",
   "execution_count": 6,
   "metadata": {},
   "outputs": [
    {
     "data": {
      "text/plain": [
       "'This review is an overdue huge thank you for an extraordinary medical doctor whose care and professionalism helped me even in his absence:  I was Dr. Biorkman\\\\\\'s patient while in Irvine until 2006, when I moved to N. Cal.  When I was diagnosed 7 years ago with a mass, and I feared for my life, I looked in the mirror and asked: \"When would you not be afraid?\"  The answer came promptly: \"If I saw MY doctor\" (Dr. Biorkman).   So even if he does not know, he is still MY doctor - the one I always trusted,  had a professional, accurate answer with no drama, got it right every single time, and helped me stay healthy.  Having a doctor one trusts is essential.\\n\\nDr. Biorkman has been our doctor for almost 30 years. He knows our family and cares about our health. He takes his time to listen and provides thoughtful and excellent care to every member of our family. Over the years we have made sure any insurance plan we choose gives us access to Dr. Biorkman.\\', \"Dr. Biorkman has always, and I mean always, listened carefully to my concerns, advised me sagely, and cared about me as a person. It doesn\\'t matter how large or small my health issue might be, he provides the same comfort and care.\", \\'Professionalism, empathy, listening skills, expertise, and realism  are all skills Dr Biorkman has perfected.\\n\\nDr. Biorkman has always provided great feedback to my healthcare-related inquiries and is both knowledgeable and compassionate.  He is and will always be the gold standard for how a family physician should treat patients!\\n\\nAlways friendly.  Listens and takes time to explain his answer in a way that is easy to understand.\\n\\nDr Biorkman is not only a very knowledgeable doctor and offers excellent advice, he is one of the most personable doctors I\\x92ve ever had- ABSOLUTELY FANTASTIC!!\\n\\nI love Dr Biorkman and Yesenia, they are a great team. I drive 40 minutes for my appointments and never feel rushed. He is an active listener. I never feel rushed at my visit. I would highly recommend.\\n\\nDr. B had been my PCP for almost 30 years, he has always been very thorough and will spend the extra time to really understand what your concern is.\\n\\nDr. Biorkman is a gifted physician who cares deeply about his patients. When I became sick a few years back, he lined up all the specialists I needed to put me on the road to recovery, which included hospitalization for several days and follow up appointments on a regular basis. Not only did he take care of me as my primary physician, but he communicated regularly with the other professionals taking care of me. For this, I will always be grateful to Dr. Biorkman.\\n\\nDr. Biorkman is awesome! I\\x92ve been going to him for over 20 years. He is pleasant, funny and caring. His exams are thorough and insightful. He is not the easiest to get in to see, but he\\x92s worth it.\\', \"I have had doctor biorkman for many many years he\\'s very efficient very knowledgeable and always helps me with my issues\", \\'Dr. Biorkman is very thorough and listens to his patients.  I would recommend him to others.\\n\\nHe is A+++! Just the best! I feel very lucky to have found him. He got me to get a stress test based on this I had a triple bypass. He may have saved my life!!\\n\\nI am glad that he is my primary physician again after years didn\\x92t see him, he still the same doctor that I can trust. Thank you dr. Biorkman\\n\\nBest Doctor, very concerned about your wellbeing.\\n\\nI have been with Dr. B for many years.  Excellent level of detail to diagnose any issue, very personable, and gets to root cause and treatment options without feeling rushed to get pushed out his office.  His nurses have the same level of professional and personal care attitude.\\n\\nA+ experience ... Extremely, knowledgeable, thorough and caring. They also set up referral specialist and follow up appointments and medications.\\', \"Dr. Biorkman\\'s thorough exams, careful listening and affability make seeing this doctor an actual treat. We love him!\", \\'Dr Biorkman always spends productive time with me during my appointments. In addition, he is very personable and caring.\\']'"
      ]
     },
     "execution_count": 6,
     "metadata": {},
     "output_type": "execute_result"
    }
   ],
   "source": [
    "# Have a look at one review\n",
    "df.iloc[0, 1]"
   ]
  },
  {
   "cell_type": "code",
   "execution_count": 7,
   "metadata": {},
   "outputs": [],
   "source": [
    "def clean_review(review):\n",
    "    review = review.replace('\\\\', '').replace(\"'\", \"\").replace(']', '')\n",
    "    return review"
   ]
  },
  {
   "cell_type": "code",
   "execution_count": 8,
   "metadata": {
    "executionInfo": {
     "elapsed": 633,
     "status": "ok",
     "timestamp": 1607713039799,
     "user": {
      "displayName": "Ted Dang",
      "photoUrl": "https://lh3.googleusercontent.com/a-/AOh14GhGYvWJ7Ts__5Jym-kLlZFAba3rM4tQRhpABDM6KQ=s64",
      "userId": "07278023630729325471"
     },
     "user_tz": 360
    },
    "id": "ezgkAiukCc7t"
   },
   "outputs": [],
   "source": [
    "# Remove meaningless symbols from reviews\n",
    "df.Reviews = df.Reviews.apply(clean_review)"
   ]
  },
  {
   "cell_type": "code",
   "execution_count": 9,
   "metadata": {},
   "outputs": [
    {
     "data": {
      "text/plain": [
       "'This review is an overdue huge thank you for an extraordinary medical doctor whose care and professionalism helped me even in his absence:  I was Dr. Biorkmans patient while in Irvine until 2006, when I moved to N. Cal.  When I was diagnosed 7 years ago with a mass, and I feared for my life, I looked in the mirror and asked: \"When would you not be afraid?\"  The answer came promptly: \"If I saw MY doctor\" (Dr. Biorkman).   So even if he does not know, he is still MY doctor - the one I always trusted,  had a professional, accurate answer with no drama, got it right every single time, and helped me stay healthy.  Having a doctor one trusts is essential.\\n\\nDr. Biorkman has been our doctor for almost 30 years. He knows our family and cares about our health. He takes his time to listen and provides thoughtful and excellent care to every member of our family. Over the years we have made sure any insurance plan we choose gives us access to Dr. Biorkman., \"Dr. Biorkman has always, and I mean always, listened carefully to my concerns, advised me sagely, and cared about me as a person. It doesnt matter how large or small my health issue might be, he provides the same comfort and care.\", Professionalism, empathy, listening skills, expertise, and realism  are all skills Dr Biorkman has perfected.\\n\\nDr. Biorkman has always provided great feedback to my healthcare-related inquiries and is both knowledgeable and compassionate.  He is and will always be the gold standard for how a family physician should treat patients!\\n\\nAlways friendly.  Listens and takes time to explain his answer in a way that is easy to understand.\\n\\nDr Biorkman is not only a very knowledgeable doctor and offers excellent advice, he is one of the most personable doctors I\\x92ve ever had- ABSOLUTELY FANTASTIC!!\\n\\nI love Dr Biorkman and Yesenia, they are a great team. I drive 40 minutes for my appointments and never feel rushed. He is an active listener. I never feel rushed at my visit. I would highly recommend.\\n\\nDr. B had been my PCP for almost 30 years, he has always been very thorough and will spend the extra time to really understand what your concern is.\\n\\nDr. Biorkman is a gifted physician who cares deeply about his patients. When I became sick a few years back, he lined up all the specialists I needed to put me on the road to recovery, which included hospitalization for several days and follow up appointments on a regular basis. Not only did he take care of me as my primary physician, but he communicated regularly with the other professionals taking care of me. For this, I will always be grateful to Dr. Biorkman.\\n\\nDr. Biorkman is awesome! I\\x92ve been going to him for over 20 years. He is pleasant, funny and caring. His exams are thorough and insightful. He is not the easiest to get in to see, but he\\x92s worth it., \"I have had doctor biorkman for many many years hes very efficient very knowledgeable and always helps me with my issues\", Dr. Biorkman is very thorough and listens to his patients.  I would recommend him to others.\\n\\nHe is A+++! Just the best! I feel very lucky to have found him. He got me to get a stress test based on this I had a triple bypass. He may have saved my life!!\\n\\nI am glad that he is my primary physician again after years didn\\x92t see him, he still the same doctor that I can trust. Thank you dr. Biorkman\\n\\nBest Doctor, very concerned about your wellbeing.\\n\\nI have been with Dr. B for many years.  Excellent level of detail to diagnose any issue, very personable, and gets to root cause and treatment options without feeling rushed to get pushed out his office.  His nurses have the same level of professional and personal care attitude.\\n\\nA+ experience ... Extremely, knowledgeable, thorough and caring. They also set up referral specialist and follow up appointments and medications., \"Dr. Biorkmans thorough exams, careful listening and affability make seeing this doctor an actual treat. We love him!\", Dr Biorkman always spends productive time with me during my appointments. In addition, he is very personable and caring.'"
      ]
     },
     "execution_count": 9,
     "metadata": {},
     "output_type": "execute_result"
    }
   ],
   "source": [
    "# Have a look at one review\n",
    "df.iloc[0, 1]"
   ]
  },
  {
   "cell_type": "markdown",
   "metadata": {},
   "source": [
    "### Make use of spacy matcher to find patterns"
   ]
  },
  {
   "cell_type": "code",
   "execution_count": 10,
   "metadata": {},
   "outputs": [],
   "source": [
    "import spacy\n",
    "from spacy.lang.en import English\n",
    "from spacy.matcher import Matcher\n",
    "\n",
    "nlp = spacy.load('en_core_web_lg')\n",
    "matcher = Matcher(nlp.vocab)\n",
    "p1 = [{'ORTH': 'Dr.', 'OP': '*'},\n",
    "           {'ENT_TYPE': 'PERSON'},\n",
    "           {'POS': 'ADV', 'OP': '*'},\n",
    "           {'LEMMA': 'be'},\n",
    "           {'POS': 'ADV', 'OP': '*'},\n",
    "           {'POS': 'ADJ'}]\n",
    "p2 = [{'LOWER':{'IN': ['he', 'she']}},\n",
    "           {'POS': 'ADV', 'OP': '*'},\n",
    "           {'LEMMA': 'be'},\n",
    "           {'POS': 'ADV', 'OP': '*'},\n",
    "           {'DEP': 'CARDINAL', 'OP': '*'},\n",
    "           {'POS': 'ADJ'},\n",
    "           {'POS': 'NOUN', 'OP': '*'}]\n",
    "p3 = [{'LOWER':{'IN': ['he', 'she']}},\n",
    "           {'POS': 'ADV', 'OP': '*'},\n",
    "           {'POS': 'VERB'},\n",
    "           {'DEP': 'TRUE', 'OP': '*'},\n",
    "           {'POS': 'ADJ', 'OP': '*'},\n",
    "           {'POS': 'NOUN'}]\n",
    "p4 = [{'ORTH': 'Dr.', 'OP': '*'},\n",
    "           {'ENT_TYPE': 'PERSON'},\n",
    "           {'POS': 'ADV', 'OP': '*'},\n",
    "           {'LEMMA': 'be'},\n",
    "           {'POS': 'ADV', 'OP': '*'},\n",
    "           {'POS': 'ADJ', 'OP': '+'},\n",
    "           {'ORTH': 'and', 'OP': '*'},\n",
    "           {}]\n",
    "p5 = [{'POS': 'NOUN'},\n",
    "           {'LEMMA': 'be'},\n",
    "           {'POS': 'ADV', 'OP': '*'},\n",
    "           {'POS': 'ADJ'},\n",
    "           {'ORTH': ',', 'OP': '*'},\n",
    "           {'POS': 'ADV', 'OP': '*'},\n",
    "           {'POS': 'ADJ'},\n",
    "           {'ORTH': ',', 'OP': '*'},\n",
    "           {'POS': 'ADV', 'OP': '*'},\n",
    "           {'POS': 'ADJ'},\n",
    "           {'ORTH': ', and', 'OP': '*'},\n",
    "           {'POS': 'ADV', 'OP': '*'},\n",
    "           {'POS': 'ADJ'}]\n",
    "p6 = [{'LOWER':{'IN': ['he', 'she']}},\n",
    "           {'LEMMA': 'be'},\n",
    "           {'POS': 'ADJ'},\n",
    "           {'ORTH': ',', 'OP': '?'},\n",
    "           {'POS': 'ADJ', 'OP': '?'},\n",
    "           {'ORTH': ',', 'OP': '?'}, \n",
    "           {'ORTH': 'and', 'OP': '?'},\n",
    "           {'POS': 'ADJ', 'OP': '?'}]\n",
    "patterns = [p1, p2, p3, p4, p5, p6]\n",
    "matcher.add(\"review\", None, *patterns)"
   ]
  },
  {
   "cell_type": "code",
   "execution_count": 11,
   "metadata": {},
   "outputs": [],
   "source": [
    "def store_strings(matcher, doc):\n",
    "    '''This function is to store the matched phrases in span_storage'''\n",
    "    span_storage = []\n",
    "    for match_id, start, end in matcher(doc):\n",
    "        string_id = nlp.vocab.strings[match_id]  # Get string representation\n",
    "        span = doc[start:end]  # The matched span\n",
    "        span_storage.append(span.text)\n",
    "    return span_storage"
   ]
  },
  {
   "cell_type": "code",
   "execution_count": 12,
   "metadata": {},
   "outputs": [],
   "source": [
    "def create_sim_table(span_storage):\n",
    "    '''This function is to create a matrix storing the semantic similarity of every two phrases in sim_table'''\n",
    "    import numpy as np\n",
    "    sim_table = []\n",
    "    for doc1 in span_storage:\n",
    "        for doc2 in span_storage:\n",
    "            sim_table.append(nlp(doc1).similarity(nlp(doc2)))\n",
    "    sim_table = np.array(sim_table).astype(float).reshape(len(span_storage), len(span_storage))\n",
    "    return sim_table"
   ]
  },
  {
   "cell_type": "code",
   "execution_count": 13,
   "metadata": {},
   "outputs": [],
   "source": [
    "def similar_phrases(a_list, threshold=.91):\n",
    "    '''This function is to add all float numbers which have values equal or greater than a threshold into a same set'''\n",
    "    group = set()\n",
    "    for i in range(len(a_list)):\n",
    "        if a_list[i] >= threshold:\n",
    "            group.add(i)\n",
    "    return group"
   ]
  },
  {
   "cell_type": "code",
   "execution_count": 14,
   "metadata": {},
   "outputs": [],
   "source": [
    "def group_strings(sim_table):\n",
    "    '''This function is to create a list storing sets of indices of strings in span_storage that are likely from a same sentence. '''\n",
    "    indices = []\n",
    "    for row in sim_table:\n",
    "        similar_phrase = similar_phrases(row)\n",
    "        if similar_phrase not in indices:\n",
    "            indices.append(similar_phrase)\n",
    "    return indices"
   ]
  },
  {
   "cell_type": "code",
   "execution_count": 15,
   "metadata": {},
   "outputs": [],
   "source": [
    "def subsets_to_be_removed(my_list):\n",
    "    '''This function is to create a list of sets that are subsets of other sets from a list'''\n",
    "    remove_list = []\n",
    "    for i in range(len(my_list)-1):\n",
    "        if i < len(my_list) and my_list[i].issubset(my_list[i+1]):\n",
    "            remove_list.append(my_list[i])\n",
    "    for i in range(len(my_list)-1, -1, -1):\n",
    "        if i > 0 and my_list[i].issubset(my_list[i-1]):\n",
    "            remove_list.append(my_list[i])  \n",
    "    return remove_list"
   ]
  },
  {
   "cell_type": "code",
   "execution_count": 16,
   "metadata": {},
   "outputs": [],
   "source": [
    "def remove_subsets(origin, to_be_removed):\n",
    "    '''Remove indices of redundant subsets in a list of sets'''\n",
    "    for i in to_be_removed:\n",
    "        origin.remove(i)\n",
    "    return origin"
   ]
  },
  {
   "cell_type": "code",
   "execution_count": 17,
   "metadata": {},
   "outputs": [],
   "source": [
    "def get_meaningful_phrases(span_storage, indices):\n",
    "    '''Retain the longest phrase from a set of phrases that are likely from a same sentence'''\n",
    "    meaningful_phrases = []\n",
    "    for sublist in indices:\n",
    "        max_length = 0\n",
    "        max_str = ''\n",
    "        for phrase_index in sublist:\n",
    "            if max_length < len(span_storage[phrase_index]):\n",
    "                max_length = len(span_storage[phrase_index])\n",
    "                max_str = span_storage[phrase_index]\n",
    "        meaningful_phrases.append(max_str)\n",
    "    return meaningful_phrases"
   ]
  },
  {
   "cell_type": "code",
   "execution_count": 18,
   "metadata": {},
   "outputs": [],
   "source": [
    "doctors = [i for i in df.Doctor]\n",
    "reviews = []"
   ]
  },
  {
   "cell_type": "code",
   "execution_count": 21,
   "metadata": {},
   "outputs": [
    {
     "ename": "TypeError",
     "evalue": "'list' object is not callable",
     "output_type": "error",
     "traceback": [
      "\u001b[1;31m---------------------------------------------------------------------------\u001b[0m",
      "\u001b[1;31mTypeError\u001b[0m                                 Traceback (most recent call last)",
      "\u001b[1;32m<ipython-input-21-cabd45dc1738>\u001b[0m in \u001b[0;36m<module>\u001b[1;34m\u001b[0m\n\u001b[0;32m      4\u001b[0m     \u001b[0msim_table\u001b[0m \u001b[1;33m=\u001b[0m \u001b[0mcreate_sim_table\u001b[0m\u001b[1;33m(\u001b[0m\u001b[0mspan_storage\u001b[0m\u001b[1;33m)\u001b[0m\u001b[1;33m\u001b[0m\u001b[1;33m\u001b[0m\u001b[0m\n\u001b[0;32m      5\u001b[0m     \u001b[0mgroup_string\u001b[0m \u001b[1;33m=\u001b[0m \u001b[0mgroup_strings\u001b[0m\u001b[1;33m(\u001b[0m\u001b[0msim_table\u001b[0m\u001b[1;33m)\u001b[0m\u001b[1;33m\u001b[0m\u001b[1;33m\u001b[0m\u001b[0m\n\u001b[1;32m----> 6\u001b[1;33m     \u001b[0msubset_to_be_removed\u001b[0m \u001b[1;33m=\u001b[0m \u001b[0msubsets_to_be_removed\u001b[0m\u001b[1;33m(\u001b[0m\u001b[0mgroup_string\u001b[0m\u001b[1;33m)\u001b[0m\u001b[1;33m\u001b[0m\u001b[1;33m\u001b[0m\u001b[0m\n\u001b[0m\u001b[0;32m      7\u001b[0m     \u001b[0mfiltered_indices\u001b[0m \u001b[1;33m=\u001b[0m \u001b[0mremove_subsets\u001b[0m\u001b[1;33m(\u001b[0m\u001b[0mgroup_strings\u001b[0m\u001b[1;33m,\u001b[0m \u001b[0msubset_to_be_removed\u001b[0m\u001b[1;33m)\u001b[0m\u001b[1;33m\u001b[0m\u001b[1;33m\u001b[0m\u001b[0m\n\u001b[0;32m      8\u001b[0m     \u001b[0mmeaningful_phrases\u001b[0m \u001b[1;33m=\u001b[0m \u001b[0mget_meaningful_phrases\u001b[0m\u001b[1;33m(\u001b[0m\u001b[0mspan_storage\u001b[0m\u001b[1;33m,\u001b[0m \u001b[0mfiltered_indices\u001b[0m\u001b[1;33m)\u001b[0m\u001b[1;33m\u001b[0m\u001b[1;33m\u001b[0m\u001b[0m\n",
      "\u001b[1;31mTypeError\u001b[0m: 'list' object is not callable"
     ]
    }
   ],
   "source": [
    "for i in df.Reviews:\n",
    "    doc = nlp(i)\n",
    "    span_storage = store_strings(matcher, doc)\n",
    "    sim_table = create_sim_table(span_storage)\n",
    "    group_string = group_strings(sim_table)\n",
    "    subset_to_be_removed = subsets_to_be_removed(group_string)\n",
    "    filtered_indices = remove_subsets(group_strings, subset_to_be_removed)\n",
    "    meaningful_phrases = get_meaningful_phrases(span_storage, filtered_indices)\n",
    "    reviews.append(meaningful_phrases)"
   ]
  },
  {
   "cell_type": "code",
   "execution_count": null,
   "metadata": {},
   "outputs": [],
   "source": [
    "# We have a tuple of each doctor with essential reviews from his / her patients.\n",
    "doctor_and_reviews = zip(doctors, reviews)\n",
    "print(doctor_and_reviews)"
   ]
  },
  {
   "cell_type": "markdown",
   "metadata": {},
   "source": [
    "## Strength:\n",
    "* Significant steps are written in functions -> Highly reusable"
   ]
  },
  {
   "cell_type": "markdown",
   "metadata": {},
   "source": [
    "## Limitation:\n",
    "#### Internally\n",
    "* The patterns are not well structured -> Multiple patterns from a same sentence -> Additional steps to clean\n",
    "* The second to last step needs to be debugged"
   ]
  },
  {
   "cell_type": "markdown",
   "metadata": {},
   "source": [
    "## Future extension:\n",
    "* Classify one review as positive or negative\n",
    "* Create a rating system based on the number of positive / negative words / phrases from the review given a training set with label (+ / -) (We haven't had yet)"
   ]
  }
 ],
 "metadata": {
  "colab": {
   "authorship_tag": "ABX9TyMbEnKYRaahqst5xJ2q5/Ms",
   "collapsed_sections": [],
   "name": "Extract from zocdoc.ipynb",
   "provenance": []
  },
  "kernelspec": {
   "display_name": "Python 3",
   "language": "python",
   "name": "python3"
  },
  "language_info": {
   "codemirror_mode": {
    "name": "ipython",
    "version": 3
   },
   "file_extension": ".py",
   "mimetype": "text/x-python",
   "name": "python",
   "nbconvert_exporter": "python",
   "pygments_lexer": "ipython3",
   "version": "3.7.9"
  }
 },
 "nbformat": 4,
 "nbformat_minor": 4
}
