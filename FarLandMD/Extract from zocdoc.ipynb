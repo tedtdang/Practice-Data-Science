{
 "cells": [
  {
   "cell_type": "markdown",
   "metadata": {
    "id": "JeoHkS0AA_QH"
   },
   "source": [
    "### Import libraries and the review file"
   ]
  },
  {
   "cell_type": "code",
   "execution_count": 1,
   "metadata": {
    "colab": {
     "base_uri": "https://localhost:8080/"
    },
    "executionInfo": {
     "elapsed": 328,
     "status": "ok",
     "timestamp": 1607713039462,
     "user": {
      "displayName": "Ted Dang",
      "photoUrl": "https://lh3.googleusercontent.com/a-/AOh14GhGYvWJ7Ts__5Jym-kLlZFAba3rM4tQRhpABDM6KQ=s64",
      "userId": "07278023630729325471"
     },
     "user_tz": 360
    },
    "id": "SvPulaukGob_",
    "outputId": "f3669e38-79ee-4008-b4d2-aa047a3849db"
   },
   "outputs": [
    {
     "name": "stdout",
     "output_type": "stream",
     "text": [
      "(71, 2)\n"
     ]
    }
   ],
   "source": [
    "import pandas as pd\n",
    "df = pd.read_csv('https://raw.githubusercontent.com/teohangxanh/Practice-Data-Science/master/FarLandMD/zocdoc%20reviews.csv', encoding = \"ISO-8859-1\")\n",
    "pd.set_option('max_colwidth', 200)\n",
    "print(df.shape)"
   ]
  },
  {
   "cell_type": "markdown",
   "metadata": {
    "id": "1cAxEivwBG6g"
   },
   "source": [
    "### Clean the dataset"
   ]
  },
  {
   "cell_type": "code",
   "execution_count": 2,
   "metadata": {
    "colab": {
     "base_uri": "https://localhost:8080/",
     "height": 204
    },
    "executionInfo": {
     "elapsed": 489,
     "status": "ok",
     "timestamp": 1607713039633,
     "user": {
      "displayName": "Ted Dang",
      "photoUrl": "https://lh3.googleusercontent.com/a-/AOh14GhGYvWJ7Ts__5Jym-kLlZFAba3rM4tQRhpABDM6KQ=s64",
      "userId": "07278023630729325471"
     },
     "user_tz": 360
    },
    "id": "nmuSf657HEnw",
    "outputId": "67b9cee2-9893-4210-d470-824b197e2cc7"
   },
   "outputs": [
    {
     "data": {
      "text/html": [
       "<div>\n",
       "<style scoped>\n",
       "    .dataframe tbody tr th:only-of-type {\n",
       "        vertical-align: middle;\n",
       "    }\n",
       "\n",
       "    .dataframe tbody tr th {\n",
       "        vertical-align: top;\n",
       "    }\n",
       "\n",
       "    .dataframe thead th {\n",
       "        text-align: right;\n",
       "    }\n",
       "</style>\n",
       "<table border=\"1\" class=\"dataframe\">\n",
       "  <thead>\n",
       "    <tr style=\"text-align: right;\">\n",
       "      <th></th>\n",
       "      <th>Doctor</th>\n",
       "      <th>Reviews</th>\n",
       "    </tr>\n",
       "  </thead>\n",
       "  <tbody>\n",
       "    <tr>\n",
       "      <th>0</th>\n",
       "      <td>Dr. Jon Biorkman, MD</td>\n",
       "      <td>['This review is an overdue huge thank you for an extraordinary medical doctor whose care and professionalism helped me even in his absence:  I was Dr. Biorkman\\'s patient while in Irvine until 20...</td>\n",
       "    </tr>\n",
       "    <tr>\n",
       "      <th>1</th>\n",
       "      <td>NaN</td>\n",
       "      <td>NaN</td>\n",
       "    </tr>\n",
       "    <tr>\n",
       "      <th>2</th>\n",
       "      <td>Richard McConkie, FNP-C</td>\n",
       "      <td>[\"I was so pleased with the kindness and care of the staff at west valley. This was my first visit and it felt like I'd been going there forever. Dr Richard was very empathic and understanding. Li...</td>\n",
       "    </tr>\n",
       "    <tr>\n",
       "      <th>3</th>\n",
       "      <td>NaN</td>\n",
       "      <td>NaN</td>\n",
       "    </tr>\n",
       "    <tr>\n",
       "      <th>4</th>\n",
       "      <td>Dr. Crystal Song, NMD</td>\n",
       "      <td>[\"I go monthly to Dr Song to strengthen my abdomen which has a hernia caused by a botched surgery 2 years ago.  I am extremely satisfied by the high expertise and genuine care that Dr Song gives m...</td>\n",
       "    </tr>\n",
       "  </tbody>\n",
       "</table>\n",
       "</div>"
      ],
      "text/plain": [
       "                    Doctor  \\\n",
       "0     Dr. Jon Biorkman, MD   \n",
       "1                      NaN   \n",
       "2  Richard McConkie, FNP-C   \n",
       "3                      NaN   \n",
       "4    Dr. Crystal Song, NMD   \n",
       "\n",
       "                                                                                                                                                                                                   Reviews  \n",
       "0  ['This review is an overdue huge thank you for an extraordinary medical doctor whose care and professionalism helped me even in his absence:  I was Dr. Biorkman\\'s patient while in Irvine until 20...  \n",
       "1                                                                                                                                                                                                      NaN  \n",
       "2  [\"I was so pleased with the kindness and care of the staff at west valley. This was my first visit and it felt like I'd been going there forever. Dr Richard was very empathic and understanding. Li...  \n",
       "3                                                                                                                                                                                                      NaN  \n",
       "4  [\"I go monthly to Dr Song to strengthen my abdomen which has a hernia caused by a botched surgery 2 years ago.  I am extremely satisfied by the high expertise and genuine care that Dr Song gives m...  "
      ]
     },
     "execution_count": 2,
     "metadata": {},
     "output_type": "execute_result"
    }
   ],
   "source": [
    "df.head()"
   ]
  },
  {
   "cell_type": "code",
   "execution_count": 3,
   "metadata": {
    "executionInfo": {
     "elapsed": 483,
     "status": "ok",
     "timestamp": 1607713039635,
     "user": {
      "displayName": "Ted Dang",
      "photoUrl": "https://lh3.googleusercontent.com/a-/AOh14GhGYvWJ7Ts__5Jym-kLlZFAba3rM4tQRhpABDM6KQ=s64",
      "userId": "07278023630729325471"
     },
     "user_tz": 360
    },
    "id": "TNybUuyBAy_e"
   },
   "outputs": [],
   "source": [
    "# Remove rows that have missing data in all columns: Doctor and Reviews\n",
    "df.dropna(how='all', inplace=True)"
   ]
  },
  {
   "cell_type": "code",
   "execution_count": 4,
   "metadata": {
    "colab": {
     "base_uri": "https://localhost:8080/",
     "height": 204
    },
    "executionInfo": {
     "elapsed": 476,
     "status": "ok",
     "timestamp": 1607713039636,
     "user": {
      "displayName": "Ted Dang",
      "photoUrl": "https://lh3.googleusercontent.com/a-/AOh14GhGYvWJ7Ts__5Jym-kLlZFAba3rM4tQRhpABDM6KQ=s64",
      "userId": "07278023630729325471"
     },
     "user_tz": 360
    },
    "id": "w5vqabEdA4Uw",
    "outputId": "f7be96d0-dd88-4492-e8b5-5e08666f579c"
   },
   "outputs": [
    {
     "data": {
      "text/html": [
       "<div>\n",
       "<style scoped>\n",
       "    .dataframe tbody tr th:only-of-type {\n",
       "        vertical-align: middle;\n",
       "    }\n",
       "\n",
       "    .dataframe tbody tr th {\n",
       "        vertical-align: top;\n",
       "    }\n",
       "\n",
       "    .dataframe thead th {\n",
       "        text-align: right;\n",
       "    }\n",
       "</style>\n",
       "<table border=\"1\" class=\"dataframe\">\n",
       "  <thead>\n",
       "    <tr style=\"text-align: right;\">\n",
       "      <th></th>\n",
       "      <th>Doctor</th>\n",
       "      <th>Reviews</th>\n",
       "    </tr>\n",
       "  </thead>\n",
       "  <tbody>\n",
       "    <tr>\n",
       "      <th>0</th>\n",
       "      <td>Dr. Jon Biorkman, MD</td>\n",
       "      <td>['This review is an overdue huge thank you for an extraordinary medical doctor whose care and professionalism helped me even in his absence:  I was Dr. Biorkman\\'s patient while in Irvine until 20...</td>\n",
       "    </tr>\n",
       "    <tr>\n",
       "      <th>2</th>\n",
       "      <td>Richard McConkie, FNP-C</td>\n",
       "      <td>[\"I was so pleased with the kindness and care of the staff at west valley. This was my first visit and it felt like I'd been going there forever. Dr Richard was very empathic and understanding. Li...</td>\n",
       "    </tr>\n",
       "    <tr>\n",
       "      <th>4</th>\n",
       "      <td>Dr. Crystal Song, NMD</td>\n",
       "      <td>[\"I go monthly to Dr Song to strengthen my abdomen which has a hernia caused by a botched surgery 2 years ago.  I am extremely satisfied by the high expertise and genuine care that Dr Song gives m...</td>\n",
       "    </tr>\n",
       "    <tr>\n",
       "      <th>6</th>\n",
       "      <td>Dr. Christopher Ciccone, MD</td>\n",
       "      <td>['Excellent service and advice as well as a perscrition  for spider bite infection\\n\\nDr. Ciccone has been my doc for 25 years and is now the family doc for my children and husband too!  His offic...</td>\n",
       "    </tr>\n",
       "    <tr>\n",
       "      <th>8</th>\n",
       "      <td>Dr. Martin Maag, MD</td>\n",
       "      <td>['Very positive and encouraging, time well spent.\\n\\nFriendly, professional, and knowledgeable.\\n\\nits not often that the Doctor is the one to greet you and sit you down in the consultation room, ...</td>\n",
       "    </tr>\n",
       "  </tbody>\n",
       "</table>\n",
       "</div>"
      ],
      "text/plain": [
       "                        Doctor  \\\n",
       "0         Dr. Jon Biorkman, MD   \n",
       "2      Richard McConkie, FNP-C   \n",
       "4        Dr. Crystal Song, NMD   \n",
       "6  Dr. Christopher Ciccone, MD   \n",
       "8          Dr. Martin Maag, MD   \n",
       "\n",
       "                                                                                                                                                                                                   Reviews  \n",
       "0  ['This review is an overdue huge thank you for an extraordinary medical doctor whose care and professionalism helped me even in his absence:  I was Dr. Biorkman\\'s patient while in Irvine until 20...  \n",
       "2  [\"I was so pleased with the kindness and care of the staff at west valley. This was my first visit and it felt like I'd been going there forever. Dr Richard was very empathic and understanding. Li...  \n",
       "4  [\"I go monthly to Dr Song to strengthen my abdomen which has a hernia caused by a botched surgery 2 years ago.  I am extremely satisfied by the high expertise and genuine care that Dr Song gives m...  \n",
       "6  ['Excellent service and advice as well as a perscrition  for spider bite infection\\n\\nDr. Ciccone has been my doc for 25 years and is now the family doc for my children and husband too!  His offic...  \n",
       "8  ['Very positive and encouraging, time well spent.\\n\\nFriendly, professional, and knowledgeable.\\n\\nits not often that the Doctor is the one to greet you and sit you down in the consultation room, ...  "
      ]
     },
     "execution_count": 4,
     "metadata": {},
     "output_type": "execute_result"
    }
   ],
   "source": [
    "df.head()"
   ]
  },
  {
   "cell_type": "code",
   "execution_count": 5,
   "metadata": {
    "executionInfo": {
     "elapsed": 633,
     "status": "ok",
     "timestamp": 1607713039799,
     "user": {
      "displayName": "Ted Dang",
      "photoUrl": "https://lh3.googleusercontent.com/a-/AOh14GhGYvWJ7Ts__5Jym-kLlZFAba3rM4tQRhpABDM6KQ=s64",
      "userId": "07278023630729325471"
     },
     "user_tz": 360
    },
    "id": "ezgkAiukCc7t"
   },
   "outputs": [],
   "source": [
    "pattern = '|'.join(['\\[', '\\]', '\\\\\\\\\\\\', '\\'', \"\\'\", '\\\\n', '\\\\\\\\', '  '])\n",
    "df.Reviews = df.Reviews.str.replace(pattern, '')"
   ]
  },
  {
   "cell_type": "code",
   "execution_count": 6,
   "metadata": {},
   "outputs": [
    {
     "data": {
      "text/plain": [
       "'\"I was so pleased with the kindness and care of the staff at west valley. This was my first visit and it felt like Id been going there forever. Dr Richard was very empathic and understanding. Listened to my issues and was a wonderful breath of fresh air in this crazy world we find ourselves in. Thank you again.\", Excellent! Staff was helpful and considerate. Richard was amazingly kind and patient with my handicapped daughter! Would definitely recommend their office!Office was super clean and staff was very friendly! The provider was great! I would recommend to all my friends and family.My son and I are new patients of Dr. McConkie, at our hometown West Valley Med. Clinic in Middleton. From the moment you walk in the door they made us both feel like we were right at home, and Dr. McConkie was very thorough with addressing all of our concerns, nThank you Dr. McConkie!Always pleasant.Richard does a great job and as long as he is in the Middleton Clinic, I will travel there for my appointments.Had chronic cough for months- saw two other providers- who did nothing.The provider was attentive, knowledgeable, and ordered treatment for me instead of just the usual-\"lets wait and see- and order more tests.\" This is the type of provider the medical field need more of! Absolutely would recommend to family and friends.Office staff was very friendly and outgoing- Made going to the doctor a joy - not a chore.My appointment was on time.The front office staff is very nice and helpful.Richard McConkie was exceptional.He took the time to really listen to his patient.He is compassionate, professional and knowledgeable.I would not hesitate to recommend this office and staff to my family and friends.Thanks so much for taking good care of us.Painful procedure but helped me to feel at ease.Always a great visit at the Middleton clinic!Richard is amazing!!!!He takes the time you need, listens and is compassionate.Great \"bedside manner \" is an understatement.He and Becky are truly an asset to Middletons West Valley clinic. FIVE STARS*****I had a UTI and I was given medication and now I feel so much better. I was very happy that it was treated immediately. Richard listened to all my concerns and also renewed my medication at the same so I did not have to come back for another appointment. I was very satisfied with the visit.I have great confidence in Richard and would recommend him to others., \"Love love love this doctor. He listens. He advises without being pushy. Hes real. Hes down to earth. He saved my husbands life literally. I wouldnt go any where else. He treats most all of our family. \", Totally satisfied with his care and expertise. Highly recommended. Great office visit. Richard is really good at listening to patient concerns first.Never felt like he was in a hurry to get thru the visit. He made sure that if I had any questions they were answered before I left.I would highly recommend Richard. He seems very knowledgeable and easy to talk to. , \"Dr Richard McConkie is hands-down one of the best medical doctors I have seen in my 65 years of life! his demeanor and bed-side manner is calm, positive, thorough, attentive, flexible, and personal. Ive seen him for physical check ups, a chronic lifelong condition, and other minor conditions. Richard McConkie made me feel comfortable and relaxed and asked me questions about my life (which no doctor has ever done before!). We also discussed other aging issues to address some life phase events.\", Every time we go to the clinic we have found it a pleasant experience. From the staff up front to the nurses. Sheri lien is the greatest. Great place to go when your not feeling wellI feel that Richard listens to his patients. Is very concerned with thier healthcare. My whole family comes to this clinic to see Richard. A lot of times the same day. I would and have recommended him to other family and friends.Been seeing him awhile. Great one on one attitude. Explains everythingyou have concerns about. '"
      ]
     },
     "execution_count": 6,
     "metadata": {},
     "output_type": "execute_result"
    }
   ],
   "source": [
    "df.iloc[1, 1]"
   ]
  },
  {
   "cell_type": "code",
   "execution_count": 7,
   "metadata": {},
   "outputs": [],
   "source": [
    "import spacy\n",
    "from spacy.lang.en import English\n",
    "\n",
    "nlp = spacy.load('en_core_web_lg')\n",
    "doc = nlp(df.iloc[0, 1])"
   ]
  },
  {
   "cell_type": "code",
   "execution_count": 8,
   "metadata": {},
   "outputs": [
    {
     "name": "stdout",
     "output_type": "stream",
     "text": [
      "['review', 'overdue', 'huge', 'thank', 'extraordinary', 'medical', 'doctor', 'care', 'professionalism', 'helped', 'absence', 'Dr.', 'Biorkmans', 'patient', 'Irvine', '2006', 'moved', 'N.', 'Cal', 'diagnosed', '7', 'years', 'ago', 'mass', 'feared', 'life', 'looked', 'mirror', 'asked', 'afraid?\"The', 'answer', 'came', 'promptly', 'saw', 'doctor', 'Dr.', 'Biorkman', 'know', 'doctor', 'trusted', 'professional', 'accurate', 'answer', 'drama', 'got', 'right', 'single', 'time', 'helped', 'stay', 'healthy', 'Having', 'doctor', 'trusts', 'essential', 'Dr', 'Biorkman', 'doctor', '30', 'years', 'knows', 'family', 'cares', 'health', 'takes', 'time', 'listen', 'provides', 'thoughtful', 'excellent', 'care', 'member', 'family', 'years', 'sure', 'insurance', 'plan', 'choose', 'gives', 'access', 'Dr.', 'Biorkman', 'Dr.', 'Biorkman', 'mean', 'listened', 'carefully', 'concerns', 'advised', 'sagely', 'cared', 'person', 'nt', 'matter', 'large', 'small', 'health', 'issue', 'provides', 'comfort', 'care', 'Professionalism', 'empathy', 'listening', 'skills', 'expertise', 'realismare', 'skills', 'Dr', 'Biorkman', 'perfected', 'Dr', 'Biorkman', 'provided', 'great', 'feedback', 'healthcare', 'related', 'inquiries', 'knowledgeable', 'compassionate', 'gold', 'standard', 'family', 'physician', 'treat', 'patients!Always', 'friendly', 'Listens', 'takes', 'time', 'explain', 'answer', 'way', 'easy', 'understand', 'Dr', 'Biorkman', 'knowledgeable', 'doctor', 'offers', 'excellent', 'advice', 'personable', 'doctors', 'I\\x92ve', 'had-', 'ABSOLUTELY', 'FANTASTIC!!I', 'love', 'Dr', 'Biorkman', 'Yesenia', 'great', 'team', 'drive', '40', 'minutes', 'appointments', 'feel', 'rushed', 'active', 'listener', 'feel', 'rushed', 'visit', 'highly', 'recommend', 'Dr', 'B', 'PCP', '30', 'years', 'thorough', 'spend', 'extra', 'time', 'understand', 'concern', 'Dr', 'Biorkman', 'gifted', 'physician', 'cares', 'deeply', 'patients', 'sick', 'years', 'lined', 'specialists', 'needed', 'road', 'recovery', 'included', 'hospitalization', 'days', 'follow', 'appointments', 'regular', 'basis', 'care', 'primary', 'physician', 'communicated', 'regularly', 'professionals', 'taking', 'care', 'grateful', 'Dr.', 'Biorkman', 'Dr', 'Biorkman', 'awesome', 'I\\x92ve', 'going', '20', 'years', 'pleasant', 'funny', 'caring', 'exams', 'thorough', 'insightful', 'easiest', 'he\\x92s', 'worth', 'doctor', 'biorkman', 'years', 's', 'efficient', 'knowledgeable', 'helps', 'issues', 'Dr.', 'Biorkman', 'thorough', 'listens', 'patients', 'recommend', 'A+++', 'best', 'feel', 'lucky', 'found', 'got', 'stress', 'test', 'based', 'triple', 'bypass', 'saved', 'life!!I', 'glad', 'primary', 'physician', 'years', 'didn\\x92t', 'doctor', 'trust', 'Thank', 'dr', 'BiorkmanBest', 'Doctor', 'concerned', 'wellbeing', 'Dr.', 'B', 'years', 'Excellent', 'level', 'detail', 'diagnose', 'issue', 'personable', 'gets', 'root', 'cause', 'treatment', 'options', 'feeling', 'rushed', 'pushed', 'office', 'nurses', 'level', 'professional', 'personal', 'care', 'attitude', 'A+', 'experience', 'Extremely', 'knowledgeable', 'thorough', 'caring', 'set', 'referral', 'specialist', 'follow', 'appointments', 'medications', 'Dr.', 'Biorkmans', 'thorough', 'exams', 'careful', 'listening', 'affability', 'seeing', 'doctor', 'actual', 'treat', 'love', 'Dr', 'Biorkman', 'spends', 'productive', 'time', 'appointments', 'addition', 'personable', 'caring']\n"
     ]
    }
   ],
   "source": [
    "# Create a list of word tokens\n",
    "filtered_words = []\n",
    "for token in doc:\n",
    "    # Remove stop words\n",
    "    if token.is_stop == False and token.is_punct == False:\n",
    "        filtered_words.append(token.text)\n",
    "print(filtered_words)"
   ]
  },
  {
   "cell_type": "markdown",
   "metadata": {},
   "source": [
    "### Can we create a filtered adjectives which have positive or negative meanings of the doctor, not irrelevant ones?"
   ]
  },
  {
   "cell_type": "code",
   "execution_count": 9,
   "metadata": {},
   "outputs": [
    {
     "name": "stdout",
     "output_type": "stream",
     "text": [
      "['This review is an overdue huge thank you for an extraordinary medical doctor whose care and professionalism helped me even in his absence:I was Dr. Biorkmans patient while in Irvine until 2006, when I moved to N. Cal.', 'When I was diagnosed 7 years ago with a mass, and I feared for my life, I looked in the mirror and asked: \"When would you not be afraid?\"The answer came promptly:', '\"If I saw MY doctor\" (Dr. Biorkman).', 'So even if he does not know, he is still MY doctor - the one I always trusted,had a professional, accurate answer with no drama, got it right every single time, and helped me stay healthy.', 'Having a doctor one trusts is essential.', 'Dr.', 'Biorkman has been our doctor for almost 30 years.', 'He knows our family and cares about our health.', 'He takes his time to listen and provides thoughtful and excellent care to every member of our family.', 'Over the years we have made sure any insurance plan we choose gives us access to Dr. Biorkman., \"Dr. Biorkman has always, and I mean always, listened carefully to my concerns, advised me sagely, and cared about me as a person.', 'It doesnt matter how large or small my health issue might be, he provides the same comfort and care.\"', ', Professionalism, empathy, listening skills, expertise, and realismare all skills Dr Biorkman has perfected.', 'Dr.', 'Biorkman has always provided great feedback to my healthcare-related inquiries and is both knowledgeable and compassionate.', 'He is and will always be the gold standard for how a family physician should treat patients!Always friendly.', 'Listens and takes time to explain his answer in a way that is easy to understand.', 'Dr Biorkman is not only a very knowledgeable doctor and offers excellent advice, he is one of the most personable doctors I\\x92ve ever', 'had-', 'ABSOLUTELY', 'FANTASTIC!!I love Dr Biorkman and Yesenia', ', they are a great team.', 'I drive 40 minutes for my appointments and never feel rushed.', 'He is an active listener.', 'I never feel rushed at my visit.', 'I would highly recommend.', 'Dr.', 'B had been my PCP for almost 30 years, he has always been very thorough and will spend the extra time to really understand what your concern is.', 'Dr.', 'Biorkman is a gifted physician who cares deeply about his patients.', 'When I became sick a few years back, he lined up all the specialists I needed to put me on the road to recovery, which included hospitalization for several days and follow up appointments on a regular basis.', 'Not only did he take care of me as my primary physician, but he communicated regularly with the other professionals taking care of me.', 'For this, I will always be grateful to Dr. Biorkman.', 'Dr.', 'Biorkman is awesome!', 'I\\x92ve been going to him for over 20 years.', 'He is pleasant, funny and caring.', 'His exams are thorough and insightful.', 'He is not the easiest to get in to see, but he\\x92s worth it.', ', \"I have had doctor biorkman for many many years hes very efficient very knowledgeable and always helps me with my issues\", Dr. Biorkman is very thorough and listens to his patients.', 'I would recommend him to others.', 'He is A+++!', 'Just the best!', 'I feel very lucky to have found him.', 'He got me to get a stress test based on this', 'I had a triple bypass.', 'He may have saved my life!!I am glad that he is my primary physician again after years', 'didn\\x92t see him, he still the same doctor that I can trust.', 'Thank you dr.', 'BiorkmanBest Doctor, very concerned about your wellbeing.', 'I have been with Dr. B for many years.', 'Excellent level of detail to diagnose any issue, very personable, and gets to root cause and treatment options without feeling rushed to get pushed out his office.', 'His nurses have the same level of professional and personal care attitude.', 'A+ experience ...', 'Extremely, knowledgeable, thorough and caring.', 'They also set up referral specialist and follow up appointments and medications.', ', \"Dr. Biorkmans thorough exams, careful listening and affability make seeing this doctor an actual treat.', 'We love him!\", Dr Biorkman always spends productive time with me during my appointments.', 'In addition, he is very personable and caring.']\n"
     ]
    }
   ],
   "source": [
    "# Create a list of sentence tokens\n",
    "\n",
    "# Create the pipeline 'sentencizer' component\n",
    "sbd = nlp.create_pipe('sentencizer')\n",
    "\n",
    "# Add the component to the pipeline\n",
    "nlp.add_pipe(sbd)\n",
    "\n",
    "# create list of sentence tokens\n",
    "sents_list = []\n",
    "for sent in doc.sents:\n",
    "    sents_list.append(sent.text)\n",
    "print(sents_list)"
   ]
  },
  {
   "cell_type": "code",
   "execution_count": 10,
   "metadata": {
    "executionInfo": {
     "elapsed": 972,
     "status": "aborted",
     "timestamp": 1607713040183,
     "user": {
      "displayName": "Ted Dang",
      "photoUrl": "https://lh3.googleusercontent.com/a-/AOh14GhGYvWJ7Ts__5Jym-kLlZFAba3rM4tQRhpABDM6KQ=s64",
      "userId": "07278023630729325471"
     },
     "user_tz": 360
    },
    "id": "-eu1WEjcLWuX"
   },
   "outputs": [],
   "source": [
    "# for chunk in doc.noun_chunks:\n",
    "#     print('%40s' % chunk.text, '%10s' % chunk.root.text, '%10s' % chunk.root.dep_, '%10s' % chunk.root.head.text, sep='\\t')"
   ]
  },
  {
   "cell_type": "code",
   "execution_count": 18,
   "metadata": {},
   "outputs": [
    {
     "name": "stdout",
     "output_type": "stream",
     "text": [
      "He knows\n",
      "He takes\n",
      "he provides\n",
      "he lined\n",
      "he take\n",
      "he take care\n",
      "he communicated\n",
      "Biorkman is awesome\n",
      "Biorkman is awesome!\n",
      "He is pleasant\n",
      "He is pleasant,\n",
      "He is pleasant, funny\n",
      "He is pleasant, funny and\n",
      "He is pleasant, funny and caring\n",
      "hes\n",
      "Dr. Biorkman is very thorough\n",
      "Biorkman is very thorough\n",
      "Dr. Biorkman is very thorough and\n",
      "Biorkman is very thorough and\n",
      "Dr. Biorkman is very thorough and listens\n",
      "Biorkman is very thorough and listens\n",
      "He got\n",
      "He may\n",
      "he is very personable\n"
     ]
    }
   ],
   "source": [
    "from spacy.matcher import Matcher\n",
    "doc = nlp(df.iloc[0, 1])\n",
    "matcher = Matcher(nlp.vocab)\n",
    "p1 = [{'ORTH': 'Dr.', 'OP': '*'},\n",
    "           {'ENT_TYPE': 'PERSON'},\n",
    "           {'POS': 'ADV', 'OP': '*'},\n",
    "           {'LEMMA': 'be'},\n",
    "           {'POS': 'ADV', 'OP': '*'},\n",
    "           {'POS': 'ADJ'}]\n",
    "p2 = [{'LOWER':{'IN': ['he', 'she']}},\n",
    "           {'POS': 'ADV', 'OP': '*'},\n",
    "           {'LEMMA': 'be'},\n",
    "           {'POS': 'ADV', 'OP': '*'},\n",
    "           {'DEP': 'CARDINAL', 'OP': '*'},\n",
    "           {'POS': 'ADJ'},\n",
    "           {'POS': 'NOUN', 'OP': '*'}]\n",
    "p3 = [{'LOWER':{'IN': ['he', 'she']}},\n",
    "           {'POS': 'ADV', 'OP': '*'},\n",
    "           {'POS': 'VERB'},\n",
    "           {'DEP': 'TRUE', 'OP': '*'},\n",
    "           {'POS': 'ADJ', 'OP': '*'},\n",
    "           {'POS': 'NOUN'}]\n",
    "p4 = [{'ORTH': 'Dr.', 'OP': '*'},\n",
    "           {'ENT_TYPE': 'PERSON'},\n",
    "           {'POS': 'ADV', 'OP': '*'},\n",
    "           {'LEMMA': 'be'},\n",
    "           {'POS': 'ADV', 'OP': '*'},\n",
    "           {'POS': 'ADJ', 'OP': '+'},\n",
    "           {'ORTH': 'and', 'OP': '*'},\n",
    "           {}]\n",
    "p5 = [{'POS': 'NOUN'},\n",
    "           {'LEMMA': 'be'},\n",
    "           {'POS': 'ADV', 'OP': '*'},\n",
    "           {'POS': 'ADJ'},\n",
    "           {'ORTH': ',', 'OP': '*'},\n",
    "           {'POS': 'ADV', 'OP': '*'},\n",
    "           {'POS': 'ADJ'},\n",
    "           {'ORTH': ',', 'OP': '*'},\n",
    "           {'POS': 'ADV', 'OP': '*'},\n",
    "           {'POS': 'ADJ'},\n",
    "           {'ORTH': ', and', 'OP': '*'},\n",
    "           {'POS': 'ADV', 'OP': '*'},\n",
    "           {'POS': 'ADJ'}]\n",
    "p6 = [{'LOWER':{'IN': ['he', 'she']}},\n",
    "           {'LEMMA': 'be'},\n",
    "           {'POS': 'ADJ'},\n",
    "           {'ORTH': ',', 'OP': '?'},\n",
    "           {'POS': 'ADJ', 'OP': '?'},\n",
    "           {'ORTH': ',', 'OP': '?'}, \n",
    "           {'ORTH': 'and', 'OP': '?'},\n",
    "           {'POS': 'ADJ', 'OP': '?'}]\n",
    "p7 = [{'LOWER':{'IN': ['he', 'she']}},\n",
    "      {'POS': 'VERB'}\n",
    "     ]\n",
    "patterns = [p1, p2, p3, p4, p5, p6, p7]\n",
    "matcher.add(\"review\", None, *patterns)\n",
    "\n",
    "for match_id, start, end in matcher(doc):\n",
    "    string_id = nlp.vocab.strings[match_id]  # Get string representation\n",
    "    span = doc[start:end]  # The matched span\n",
    "    print(span.text)"
   ]
  },
  {
   "cell_type": "code",
   "execution_count": 12,
   "metadata": {
    "executionInfo": {
     "elapsed": 967,
     "status": "aborted",
     "timestamp": 1607713040184,
     "user": {
      "displayName": "Ted Dang",
      "photoUrl": "https://lh3.googleusercontent.com/a-/AOh14GhGYvWJ7Ts__5Jym-kLlZFAba3rM4tQRhpABDM6KQ=s64",
      "userId": "07278023630729325471"
     },
     "user_tz": 360
    },
    "id": "xuAzhD_gsLjE"
   },
   "outputs": [],
   "source": [
    "# text1 = nlp('This cake is very good')\n",
    "# text2 = nlp('This cup cake is really good')\n",
    "# print(text1.similarity(text2))"
   ]
  },
  {
   "cell_type": "code",
   "execution_count": 13,
   "metadata": {
    "executionInfo": {
     "elapsed": 964,
     "status": "aborted",
     "timestamp": 1607713040186,
     "user": {
      "displayName": "Ted Dang",
      "photoUrl": "https://lh3.googleusercontent.com/a-/AOh14GhGYvWJ7Ts__5Jym-kLlZFAba3rM4tQRhpABDM6KQ=s64",
      "userId": "07278023630729325471"
     },
     "user_tz": 360
    },
    "id": "GkUiCfR4fT4W"
   },
   "outputs": [],
   "source": [
    "# text1 = nlp('good')\n",
    "# text2 = nlp('bad')\n",
    "# print(text1.similarity(text2))"
   ]
  },
  {
   "cell_type": "code",
   "execution_count": null,
   "metadata": {},
   "outputs": [],
   "source": []
  }
 ],
 "metadata": {
  "colab": {
   "authorship_tag": "ABX9TyMbEnKYRaahqst5xJ2q5/Ms",
   "collapsed_sections": [],
   "name": "Extract from zocdoc.ipynb",
   "provenance": []
  },
  "kernelspec": {
   "display_name": "Python 3",
   "language": "python",
   "name": "python3"
  },
  "language_info": {
   "codemirror_mode": {
    "name": "ipython",
    "version": 3
   },
   "file_extension": ".py",
   "mimetype": "text/x-python",
   "name": "python",
   "nbconvert_exporter": "python",
   "pygments_lexer": "ipython3",
   "version": "3.7.9"
  }
 },
 "nbformat": 4,
 "nbformat_minor": 4
}
