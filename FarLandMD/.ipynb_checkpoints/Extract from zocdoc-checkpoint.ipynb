{
 "cells": [
  {
   "cell_type": "markdown",
   "metadata": {
    "id": "JeoHkS0AA_QH"
   },
   "source": [
    "### Import libraries and the review file"
   ]
  },
  {
   "cell_type": "code",
   "execution_count": 1,
   "metadata": {
    "colab": {
     "base_uri": "https://localhost:8080/"
    },
    "executionInfo": {
     "elapsed": 328,
     "status": "ok",
     "timestamp": 1607713039462,
     "user": {
      "displayName": "Ted Dang",
      "photoUrl": "https://lh3.googleusercontent.com/a-/AOh14GhGYvWJ7Ts__5Jym-kLlZFAba3rM4tQRhpABDM6KQ=s64",
      "userId": "07278023630729325471"
     },
     "user_tz": 360
    },
    "id": "SvPulaukGob_",
    "outputId": "f3669e38-79ee-4008-b4d2-aa047a3849db"
   },
   "outputs": [
    {
     "name": "stdout",
     "output_type": "stream",
     "text": [
      "(71, 2)\n"
     ]
    }
   ],
   "source": [
    "import pandas as pd\n",
    "df = pd.read_csv('https://raw.githubusercontent.com/teohangxanh/Practice-Data-Science/master/FarLandMD/zocdoc%20reviews.csv', encoding = \"ISO-8859-1\")\n",
    "pd.set_option('max_colwidth', 200)\n",
    "print(df.shape)"
   ]
  },
  {
   "cell_type": "markdown",
   "metadata": {
    "id": "1cAxEivwBG6g"
   },
   "source": [
    "### Clean the dataset"
   ]
  },
  {
   "cell_type": "code",
   "execution_count": 2,
   "metadata": {
    "colab": {
     "base_uri": "https://localhost:8080/",
     "height": 204
    },
    "executionInfo": {
     "elapsed": 489,
     "status": "ok",
     "timestamp": 1607713039633,
     "user": {
      "displayName": "Ted Dang",
      "photoUrl": "https://lh3.googleusercontent.com/a-/AOh14GhGYvWJ7Ts__5Jym-kLlZFAba3rM4tQRhpABDM6KQ=s64",
      "userId": "07278023630729325471"
     },
     "user_tz": 360
    },
    "id": "nmuSf657HEnw",
    "outputId": "67b9cee2-9893-4210-d470-824b197e2cc7"
   },
   "outputs": [
    {
     "data": {
      "text/html": [
       "<div>\n",
       "<style scoped>\n",
       "    .dataframe tbody tr th:only-of-type {\n",
       "        vertical-align: middle;\n",
       "    }\n",
       "\n",
       "    .dataframe tbody tr th {\n",
       "        vertical-align: top;\n",
       "    }\n",
       "\n",
       "    .dataframe thead th {\n",
       "        text-align: right;\n",
       "    }\n",
       "</style>\n",
       "<table border=\"1\" class=\"dataframe\">\n",
       "  <thead>\n",
       "    <tr style=\"text-align: right;\">\n",
       "      <th></th>\n",
       "      <th>Doctor</th>\n",
       "      <th>Reviews</th>\n",
       "    </tr>\n",
       "  </thead>\n",
       "  <tbody>\n",
       "    <tr>\n",
       "      <th>0</th>\n",
       "      <td>Dr. Jon Biorkman, MD</td>\n",
       "      <td>['This review is an overdue huge thank you for an extraordinary medical doctor whose care and professionalism helped me even in his absence:  I was Dr. Biorkman\\'s patient while in Irvine until 20...</td>\n",
       "    </tr>\n",
       "    <tr>\n",
       "      <th>1</th>\n",
       "      <td>NaN</td>\n",
       "      <td>NaN</td>\n",
       "    </tr>\n",
       "    <tr>\n",
       "      <th>2</th>\n",
       "      <td>Richard McConkie, FNP-C</td>\n",
       "      <td>[\"I was so pleased with the kindness and care of the staff at west valley. This was my first visit and it felt like I'd been going there forever. Dr Richard was very empathic and understanding. Li...</td>\n",
       "    </tr>\n",
       "    <tr>\n",
       "      <th>3</th>\n",
       "      <td>NaN</td>\n",
       "      <td>NaN</td>\n",
       "    </tr>\n",
       "    <tr>\n",
       "      <th>4</th>\n",
       "      <td>Dr. Crystal Song, NMD</td>\n",
       "      <td>[\"I go monthly to Dr Song to strengthen my abdomen which has a hernia caused by a botched surgery 2 years ago.  I am extremely satisfied by the high expertise and genuine care that Dr Song gives m...</td>\n",
       "    </tr>\n",
       "  </tbody>\n",
       "</table>\n",
       "</div>"
      ],
      "text/plain": [
       "                    Doctor  \\\n",
       "0     Dr. Jon Biorkman, MD   \n",
       "1                      NaN   \n",
       "2  Richard McConkie, FNP-C   \n",
       "3                      NaN   \n",
       "4    Dr. Crystal Song, NMD   \n",
       "\n",
       "                                                                                                                                                                                                   Reviews  \n",
       "0  ['This review is an overdue huge thank you for an extraordinary medical doctor whose care and professionalism helped me even in his absence:  I was Dr. Biorkman\\'s patient while in Irvine until 20...  \n",
       "1                                                                                                                                                                                                      NaN  \n",
       "2  [\"I was so pleased with the kindness and care of the staff at west valley. This was my first visit and it felt like I'd been going there forever. Dr Richard was very empathic and understanding. Li...  \n",
       "3                                                                                                                                                                                                      NaN  \n",
       "4  [\"I go monthly to Dr Song to strengthen my abdomen which has a hernia caused by a botched surgery 2 years ago.  I am extremely satisfied by the high expertise and genuine care that Dr Song gives m...  "
      ]
     },
     "execution_count": 2,
     "metadata": {},
     "output_type": "execute_result"
    }
   ],
   "source": [
    "df.head()"
   ]
  },
  {
   "cell_type": "code",
   "execution_count": 3,
   "metadata": {
    "executionInfo": {
     "elapsed": 483,
     "status": "ok",
     "timestamp": 1607713039635,
     "user": {
      "displayName": "Ted Dang",
      "photoUrl": "https://lh3.googleusercontent.com/a-/AOh14GhGYvWJ7Ts__5Jym-kLlZFAba3rM4tQRhpABDM6KQ=s64",
      "userId": "07278023630729325471"
     },
     "user_tz": 360
    },
    "id": "TNybUuyBAy_e"
   },
   "outputs": [],
   "source": [
    "# Remove rows that have missing data in all columns: Doctor and Reviews\n",
    "df.dropna(how='all', inplace=True)"
   ]
  },
  {
   "cell_type": "code",
   "execution_count": 4,
   "metadata": {
    "colab": {
     "base_uri": "https://localhost:8080/",
     "height": 204
    },
    "executionInfo": {
     "elapsed": 476,
     "status": "ok",
     "timestamp": 1607713039636,
     "user": {
      "displayName": "Ted Dang",
      "photoUrl": "https://lh3.googleusercontent.com/a-/AOh14GhGYvWJ7Ts__5Jym-kLlZFAba3rM4tQRhpABDM6KQ=s64",
      "userId": "07278023630729325471"
     },
     "user_tz": 360
    },
    "id": "w5vqabEdA4Uw",
    "outputId": "f7be96d0-dd88-4492-e8b5-5e08666f579c"
   },
   "outputs": [
    {
     "data": {
      "text/html": [
       "<div>\n",
       "<style scoped>\n",
       "    .dataframe tbody tr th:only-of-type {\n",
       "        vertical-align: middle;\n",
       "    }\n",
       "\n",
       "    .dataframe tbody tr th {\n",
       "        vertical-align: top;\n",
       "    }\n",
       "\n",
       "    .dataframe thead th {\n",
       "        text-align: right;\n",
       "    }\n",
       "</style>\n",
       "<table border=\"1\" class=\"dataframe\">\n",
       "  <thead>\n",
       "    <tr style=\"text-align: right;\">\n",
       "      <th></th>\n",
       "      <th>Doctor</th>\n",
       "      <th>Reviews</th>\n",
       "    </tr>\n",
       "  </thead>\n",
       "  <tbody>\n",
       "    <tr>\n",
       "      <th>0</th>\n",
       "      <td>Dr. Jon Biorkman, MD</td>\n",
       "      <td>['This review is an overdue huge thank you for an extraordinary medical doctor whose care and professionalism helped me even in his absence:  I was Dr. Biorkman\\'s patient while in Irvine until 20...</td>\n",
       "    </tr>\n",
       "    <tr>\n",
       "      <th>2</th>\n",
       "      <td>Richard McConkie, FNP-C</td>\n",
       "      <td>[\"I was so pleased with the kindness and care of the staff at west valley. This was my first visit and it felt like I'd been going there forever. Dr Richard was very empathic and understanding. Li...</td>\n",
       "    </tr>\n",
       "    <tr>\n",
       "      <th>4</th>\n",
       "      <td>Dr. Crystal Song, NMD</td>\n",
       "      <td>[\"I go monthly to Dr Song to strengthen my abdomen which has a hernia caused by a botched surgery 2 years ago.  I am extremely satisfied by the high expertise and genuine care that Dr Song gives m...</td>\n",
       "    </tr>\n",
       "    <tr>\n",
       "      <th>6</th>\n",
       "      <td>Dr. Christopher Ciccone, MD</td>\n",
       "      <td>['Excellent service and advice as well as a perscrition  for spider bite infection\\n\\nDr. Ciccone has been my doc for 25 years and is now the family doc for my children and husband too!  His offic...</td>\n",
       "    </tr>\n",
       "    <tr>\n",
       "      <th>8</th>\n",
       "      <td>Dr. Martin Maag, MD</td>\n",
       "      <td>['Very positive and encouraging, time well spent.\\n\\nFriendly, professional, and knowledgeable.\\n\\nits not often that the Doctor is the one to greet you and sit you down in the consultation room, ...</td>\n",
       "    </tr>\n",
       "  </tbody>\n",
       "</table>\n",
       "</div>"
      ],
      "text/plain": [
       "                        Doctor  \\\n",
       "0         Dr. Jon Biorkman, MD   \n",
       "2      Richard McConkie, FNP-C   \n",
       "4        Dr. Crystal Song, NMD   \n",
       "6  Dr. Christopher Ciccone, MD   \n",
       "8          Dr. Martin Maag, MD   \n",
       "\n",
       "                                                                                                                                                                                                   Reviews  \n",
       "0  ['This review is an overdue huge thank you for an extraordinary medical doctor whose care and professionalism helped me even in his absence:  I was Dr. Biorkman\\'s patient while in Irvine until 20...  \n",
       "2  [\"I was so pleased with the kindness and care of the staff at west valley. This was my first visit and it felt like I'd been going there forever. Dr Richard was very empathic and understanding. Li...  \n",
       "4  [\"I go monthly to Dr Song to strengthen my abdomen which has a hernia caused by a botched surgery 2 years ago.  I am extremely satisfied by the high expertise and genuine care that Dr Song gives m...  \n",
       "6  ['Excellent service and advice as well as a perscrition  for spider bite infection\\n\\nDr. Ciccone has been my doc for 25 years and is now the family doc for my children and husband too!  His offic...  \n",
       "8  ['Very positive and encouraging, time well spent.\\n\\nFriendly, professional, and knowledgeable.\\n\\nits not often that the Doctor is the one to greet you and sit you down in the consultation room, ...  "
      ]
     },
     "execution_count": 4,
     "metadata": {},
     "output_type": "execute_result"
    }
   ],
   "source": [
    "df.head()"
   ]
  },
  {
   "cell_type": "code",
   "execution_count": 5,
   "metadata": {
    "executionInfo": {
     "elapsed": 633,
     "status": "ok",
     "timestamp": 1607713039799,
     "user": {
      "displayName": "Ted Dang",
      "photoUrl": "https://lh3.googleusercontent.com/a-/AOh14GhGYvWJ7Ts__5Jym-kLlZFAba3rM4tQRhpABDM6KQ=s64",
      "userId": "07278023630729325471"
     },
     "user_tz": 360
    },
    "id": "ezgkAiukCc7t"
   },
   "outputs": [],
   "source": [
    "pattern = '|'.join(['\\[', '\\]', '\\\\\\\\\\\\', '\\'', \"\\'\", '\\\\n', '\\\\\\\\', '  '])\n",
    "df.Reviews = df.Reviews.str.replace(pattern, '')"
   ]
  },
  {
   "cell_type": "code",
   "execution_count": 6,
   "metadata": {},
   "outputs": [
    {
     "data": {
      "text/plain": [
       "'\"I was so pleased with the kindness and care of the staff at west valley. This was my first visit and it felt like Id been going there forever. Dr Richard was very empathic and understanding. Listened to my issues and was a wonderful breath of fresh air in this crazy world we find ourselves in. Thank you again.\", Excellent! Staff was helpful and considerate. Richard was amazingly kind and patient with my handicapped daughter! Would definitely recommend their office!Office was super clean and staff was very friendly! The provider was great! I would recommend to all my friends and family.My son and I are new patients of Dr. McConkie, at our hometown West Valley Med. Clinic in Middleton. From the moment you walk in the door they made us both feel like we were right at home, and Dr. McConkie was very thorough with addressing all of our concerns, nThank you Dr. McConkie!Always pleasant.Richard does a great job and as long as he is in the Middleton Clinic, I will travel there for my appointments.Had chronic cough for months- saw two other providers- who did nothing.The provider was attentive, knowledgeable, and ordered treatment for me instead of just the usual-\"lets wait and see- and order more tests.\" This is the type of provider the medical field need more of! Absolutely would recommend to family and friends.Office staff was very friendly and outgoing- Made going to the doctor a joy - not a chore.My appointment was on time.The front office staff is very nice and helpful.Richard McConkie was exceptional.He took the time to really listen to his patient.He is compassionate, professional and knowledgeable.I would not hesitate to recommend this office and staff to my family and friends.Thanks so much for taking good care of us.Painful procedure but helped me to feel at ease.Always a great visit at the Middleton clinic!Richard is amazing!!!!He takes the time you need, listens and is compassionate.Great \"bedside manner \" is an understatement.He and Becky are truly an asset to Middletons West Valley clinic. FIVE STARS*****I had a UTI and I was given medication and now I feel so much better. I was very happy that it was treated immediately. Richard listened to all my concerns and also renewed my medication at the same so I did not have to come back for another appointment. I was very satisfied with the visit.I have great confidence in Richard and would recommend him to others., \"Love love love this doctor. He listens. He advises without being pushy. Hes real. Hes down to earth. He saved my husbands life literally. I wouldnt go any where else. He treats most all of our family. \", Totally satisfied with his care and expertise. Highly recommended. Great office visit. Richard is really good at listening to patient concerns first.Never felt like he was in a hurry to get thru the visit. He made sure that if I had any questions they were answered before I left.I would highly recommend Richard. He seems very knowledgeable and easy to talk to. , \"Dr Richard McConkie is hands-down one of the best medical doctors I have seen in my 65 years of life! his demeanor and bed-side manner is calm, positive, thorough, attentive, flexible, and personal. Ive seen him for physical check ups, a chronic lifelong condition, and other minor conditions. Richard McConkie made me feel comfortable and relaxed and asked me questions about my life (which no doctor has ever done before!). We also discussed other aging issues to address some life phase events.\", Every time we go to the clinic we have found it a pleasant experience. From the staff up front to the nurses. Sheri lien is the greatest. Great place to go when your not feeling wellI feel that Richard listens to his patients. Is very concerned with thier healthcare. My whole family comes to this clinic to see Richard. A lot of times the same day. I would and have recommended him to other family and friends.Been seeing him awhile. Great one on one attitude. Explains everythingyou have concerns about. '"
      ]
     },
     "execution_count": 6,
     "metadata": {},
     "output_type": "execute_result"
    }
   ],
   "source": [
    "df.iloc[1, 1]"
   ]
  },
  {
   "cell_type": "code",
   "execution_count": 7,
   "metadata": {},
   "outputs": [],
   "source": [
    "import spacy\n",
    "from spacy.lang.en import English\n",
    "\n",
    "nlp = spacy.load('en_core_web_lg')\n",
    "doc = nlp(df.iloc[0, 1])"
   ]
  },
  {
   "cell_type": "code",
   "execution_count": 8,
   "metadata": {},
   "outputs": [
    {
     "name": "stdout",
     "output_type": "stream",
     "text": [
      "['pleased', 'kindness', 'care', 'staff', 'west', 'valley', 'visit', 'felt', 'like', 'd', 'going', 'forever', 'Dr', 'Richard', 'empathic', 'understanding', 'Listened', 'issues', 'wonderful', 'breath', 'fresh', 'air', 'crazy', 'world', 'find', 'Thank', 'Excellent', 'Staff', 'helpful', 'considerate', 'Richard', 'amazingly', 'kind', 'patient', 'handicapped', 'daughter', 'definitely', 'recommend', 'office!Office', 'super', 'clean', 'staff', 'friendly', 'provider', 'great', 'recommend', 'friends', 'family', 'son', 'new', 'patients', 'Dr.', 'McConkie', 'hometown', 'West', 'Valley', 'Med', 'Clinic', 'Middleton', 'moment', 'walk', 'door', 'feel', 'like', 'right', 'home', 'Dr.', 'McConkie', 'thorough', 'addressing', 'concerns', 'nThank', 'Dr.', 'McConkie!Always', 'pleasant', 'Richard', 'great', 'job', 'long', 'Middleton', 'Clinic', 'travel', 'appointments', 'chronic', 'cough', 'months-', 'saw', 'providers-', 'provider', 'attentive', 'knowledgeable', 'ordered', 'treatment', 'instead', 'usual-\"lets', 'wait', 'see-', 'order', 'tests', 'type', 'provider', 'medical', 'field', 'need', 'Absolutely', 'recommend', 'family', 'friends', 'Office', 'staff', 'friendly', 'outgoing-', 'going', 'doctor', 'joy', 'chore', 'appointment', 'time', 'office', 'staff', 'nice', 'helpful', 'Richard', 'McConkie', 'exceptional', 'took', 'time', 'listen', 'patient', 'compassionate', 'professional', 'knowledgeable', 'hesitate', 'recommend', 'office', 'staff', 'family', 'friends', 'Thanks', 'taking', 'good', 'care', 'Painful', 'procedure', 'helped', 'feel', 'ease', 'great', 'visit', 'Middleton', 'clinic!Richard', 'amazing!!!!He', 'takes', 'time', 'need', 'listens', 'compassionate', 'Great', 'bedside', 'manner', 'understatement', 'Becky', 'truly', 'asset', 'Middletons', 'West', 'Valley', 'clinic', 'STARS*****I', 'UTI', 'given', 'medication', 'feel', 'better', 'happy', 'treated', 'immediately', 'Richard', 'listened', 'concerns', 'renewed', 'medication', 'come', 'appointment', 'satisfied', 'visit', 'great', 'confidence', 'Richard', 'recommend', 'Love', 'love', 'love', 'doctor', 'listens', 'advises', 'pushy', 's', 'real', 's', 'earth', 'saved', 'husbands', 'life', 'literally', 'nt', 'treats', 'family', 'Totally', 'satisfied', 'care', 'expertise', 'Highly', 'recommended', 'Great', 'office', 'visit', 'Richard', 'good', 'listening', 'patient', 'concerns', 'felt', 'like', 'hurry', 'visit', 'sure', 'questions', 'answered', 'left', 'highly', 'recommend', 'Richard', 'knowledgeable', 'easy', 'talk', 'Dr', 'Richard', 'McConkie', 'hands', 'best', 'medical', 'doctors', 'seen', '65', 'years', 'life', 'demeanor', 'bed', 'manner', 'calm', 'positive', 'thorough', 'attentive', 'flexible', 'personal', 've', 'seen', 'physical', 'check', 'ups', 'chronic', 'lifelong', 'condition', 'minor', 'conditions', 'Richard', 'McConkie', 'feel', 'comfortable', 'relaxed', 'asked', 'questions', 'life', 'doctor', 'discussed', 'aging', 'issues', 'address', 'life', 'phase', 'events', 'time', 'clinic', 'found', 'pleasant', 'experience', 'staff', 'nurses', 'Sheri', 'lien', 'greatest', 'Great', 'place', 'feeling', 'wellI', 'feel', 'Richard', 'listens', 'patients', 'concerned', 'thier', 'healthcare', 'family', 'comes', 'clinic', 'Richard', 'lot', 'times', 'day', 'recommended', 'family', 'friends', 'seeing', 'awhile', 'Great', 'attitude', 'Explains', 'everythingyou', 'concerns']\n"
     ]
    }
   ],
   "source": [
    "# Create a list of word tokens\n",
    "filtered_words = []\n",
    "for token in doc:\n",
    "    # Remove stop words\n",
    "    if token.is_stop == False and token.is_punct == False:\n",
    "        filtered_words.append(token.text)\n",
    "print(filtered_words)"
   ]
  },
  {
   "cell_type": "markdown",
   "metadata": {},
   "source": [
    "### Can we create a filtered adjectives which have positive or negative meanings of the doctor, not irrelevant ones?"
   ]
  },
  {
   "cell_type": "code",
   "execution_count": 9,
   "metadata": {},
   "outputs": [
    {
     "name": "stdout",
     "output_type": "stream",
     "text": [
      "['\"I was so pleased with the kindness and care of the staff at west valley.', 'This was my first visit and it felt like', 'Id been going there forever.', 'Dr Richard was very empathic and understanding.', 'Listened to my issues and was a wonderful breath of fresh air in this crazy world we find ourselves in.', 'Thank you again.\",', 'Excellent!', 'Staff was helpful and considerate.', 'Richard was amazingly kind and patient with my handicapped daughter!', 'Would definitely recommend their office!Office was super clean and staff was very friendly!', 'The provider was great!', 'I would recommend to all my friends and family.', 'My son and I are new patients of Dr. McConkie, at our hometown West Valley Med.', 'Clinic in Middleton.', 'From the moment you walk in the door', 'they made us both feel like we were right at home, and Dr. McConkie was very thorough with addressing all of our concerns, nThank you Dr. McConkie!Always pleasant.', 'Richard does a great job and as long as he is in the Middleton Clinic, I will travel there for my appointments.', 'Had chronic cough for months- saw two other providers- who did nothing.', 'The provider was attentive, knowledgeable, and ordered treatment for me instead of just the usual-\"lets', 'wait and see-', 'and order more tests.', '\"', 'This is the type of provider the medical field need more of!', 'Absolutely would recommend to family and friends.', 'Office staff was very friendly and outgoing- Made going to the doctor a joy - not a chore.', 'My appointment was on time.', 'The front office staff is very nice and helpful.', 'Richard McConkie was exceptional.', 'He took the time to really listen to his patient.', 'He is compassionate, professional and knowledgeable.', 'I would not hesitate to recommend this office and staff to my family and friends.', 'Thanks so much for taking good care of us.', 'Painful procedure but helped me to feel at ease.', 'Always a great visit at the Middleton clinic!Richard is amazing!!!!He takes the time you need, listens and is compassionate.', 'Great \"bedside manner \" is an understatement.', 'He and Becky are truly an asset to Middletons West Valley clinic.', 'FIVE STARS*****I had a UTI', 'and I was given medication', 'and now I feel so much better.', 'I was very happy that it was treated immediately.', 'Richard listened to all my concerns and also renewed my medication at the same', 'so I did not have to come back for another appointment.', 'I was very satisfied with the visit.', 'I have great confidence in Richard and would recommend him to others.', ', \"', 'Love love love this doctor.', 'He listens.', 'He advises without being pushy.', 'Hes real.', 'Hes down to earth.', 'He saved my husbands life literally.', 'I wouldnt go any where else.', 'He treats most all of our family. \",', 'Totally satisfied with his care and expertise.', 'Highly recommended.', 'Great office visit.', 'Richard is really good at listening to patient concerns first.', 'Never felt like he was in a hurry to get thru the visit.', 'He made sure that if I had any questions they were answered before I left.', 'I would highly recommend Richard.', 'He seems very knowledgeable and easy to talk to. , \"', 'Dr Richard McConkie is hands-down one of the best medical doctors I have seen in my 65 years of life!', 'his demeanor and bed-side manner is calm, positive, thorough, attentive, flexible, and personal.', 'Ive seen him for physical check ups, a chronic lifelong condition, and other minor conditions.', 'Richard McConkie made me feel comfortable and relaxed and asked me questions about my life (which no doctor has ever done before!).', 'We also discussed other aging issues to address some life phase events.\",', 'Every time we go to the clinic we have found it a pleasant experience.', 'From the staff up front to the nurses.', 'Sheri lien is the greatest.', 'Great place to go when your not feeling wellI feel that Richard listens to his patients.', 'Is very concerned with thier healthcare.', 'My whole family comes to this clinic to see Richard.', 'A lot of times the same day.', 'I would and have recommended him to other family and friends.', 'Been seeing him awhile.', 'Great one on one attitude.', 'Explains everythingyou have concerns about.']\n"
     ]
    }
   ],
   "source": [
    "# Create a list of sentence tokens\n",
    "\n",
    "# Create the pipeline 'sentencizer' component\n",
    "sbd = nlp.create_pipe('sentencizer')\n",
    "\n",
    "# Add the component to the pipeline\n",
    "nlp.add_pipe(sbd)\n",
    "\n",
    "# create list of sentence tokens\n",
    "sents_list = []\n",
    "for sent in doc.sents:\n",
    "    sents_list.append(sent.text)\n",
    "print(sents_list)"
   ]
  },
  {
   "cell_type": "code",
   "execution_count": 10,
   "metadata": {
    "executionInfo": {
     "elapsed": 972,
     "status": "aborted",
     "timestamp": 1607713040183,
     "user": {
      "displayName": "Ted Dang",
      "photoUrl": "https://lh3.googleusercontent.com/a-/AOh14GhGYvWJ7Ts__5Jym-kLlZFAba3rM4tQRhpABDM6KQ=s64",
      "userId": "07278023630729325471"
     },
     "user_tz": 360
    },
    "id": "-eu1WEjcLWuX"
   },
   "outputs": [],
   "source": [
    "# for chunk in doc.noun_chunks:\n",
    "#     print('%40s' % chunk.text, '%10s' % chunk.root.text, '%10s' % chunk.root.dep_, '%10s' % chunk.root.head.text, sep='\\t')"
   ]
  },
  {
   "cell_type": "code",
   "execution_count": 11,
   "metadata": {},
   "outputs": [
    {
     "name": "stdout",
     "output_type": "stream",
     "text": [
      "Richard was very empathic\n",
      "Richard was very empathic and\n",
      "Richard was very empathic and understanding\n",
      "Richard was amazingly kind\n",
      "Richard was amazingly kind and\n",
      "Richard was amazingly kind and patient\n",
      "Dr. McConkie was very thorough\n",
      "McConkie was very thorough\n",
      "Dr. McConkie was very thorough with\n",
      "McConkie was very thorough with\n",
      "McConkie was exceptional\n",
      "McConkie was exceptional.\n",
      "He took\n",
      "He is compassionate\n",
      "He is compassionate,\n",
      "He is compassionate, professional\n",
      "He is compassionate, professional and\n",
      "He is compassionate, professional and knowledgeable\n",
      "He listens\n",
      "He advises\n",
      "Hes\n",
      "Hes\n",
      "He saved\n",
      "He treats\n",
      "Richard is really good\n",
      "Richard is really good at\n",
      "He made\n",
      "He seems\n"
     ]
    }
   ],
   "source": [
    "from spacy.matcher import Matcher\n",
    "\n",
    "matcher = Matcher(nlp.vocab)\n",
    "p1 = [{'ORTH': 'Dr.', 'OP': '*'},\n",
    "           {'ENT_TYPE': 'PERSON'},\n",
    "           {'POS': 'ADV', 'OP': '*'},\n",
    "           {'LEMMA': 'be'},\n",
    "           {'POS': 'ADV', 'OP': '*'},\n",
    "           {'POS': 'ADJ'}]\n",
    "p2 = [{'LOWER':{'IN': ['he', 'she']}},\n",
    "           {'POS': 'ADV', 'OP': '*'},\n",
    "           {'LEMMA': 'be'},\n",
    "           {'POS': 'ADV', 'OP': '*'},\n",
    "           {'DEP': 'CARDINAL', 'OP': '*'},\n",
    "           {'POS': 'ADJ'},\n",
    "           {'POS': 'NOUN', 'OP': '*'}]\n",
    "p3 = [{'LOWER':{'IN': ['he', 'she']}},\n",
    "           {'POS': 'ADV', 'OP': '*'},\n",
    "           {'POS': 'VERB'},\n",
    "           {'DEP': 'TRUE', 'OP': '*'},\n",
    "           {'POS': 'ADJ', 'OP': '*'},\n",
    "           {'POS': 'NOUN'}]\n",
    "p4 = [{'ORTH': 'Dr.', 'OP': '*'},\n",
    "           {'ENT_TYPE': 'PERSON'},\n",
    "           {'POS': 'ADV', 'OP': '*'},\n",
    "           {'LEMMA': 'be'},\n",
    "           {'POS': 'ADV', 'OP': '*'},\n",
    "           {'POS': 'ADJ', 'OP': '+'},\n",
    "           {'ORTH': 'and', 'OP': '*'},\n",
    "           {}]\n",
    "p5 = [{'POS': 'NOUN'},\n",
    "           {'LEMMA': 'be'},\n",
    "           {'POS': 'ADV', 'OP': '*'},\n",
    "           {'POS': 'ADJ'},\n",
    "           {'ORTH': ',', 'OP': '*'},\n",
    "           {'POS': 'ADV', 'OP': '*'},\n",
    "           {'POS': 'ADJ'},\n",
    "           {'ORTH': ',', 'OP': '*'},\n",
    "           {'POS': 'ADV', 'OP': '*'},\n",
    "           {'POS': 'ADJ'},\n",
    "           {'ORTH': ', and', 'OP': '*'},\n",
    "           {'POS': 'ADV', 'OP': '*'},\n",
    "           {'POS': 'ADJ'}]\n",
    "p6 = [{'LOWER':{'IN': ['he', 'she']}},\n",
    "           {'LEMMA': 'be'},\n",
    "           {'POS': 'ADJ'},\n",
    "           {'ORTH': ',', 'OP': '?'},\n",
    "           {'POS': 'ADJ', 'OP': '?'},\n",
    "           {'ORTH': ',', 'OP': '?'}, \n",
    "           {'ORTH': 'and', 'OP': '?'},\n",
    "           {'POS': 'ADJ', 'OP': '?'}]\n",
    "p7 = [{'LOWER':{'IN': ['he', 'she']}},\n",
    "      {'POS': 'VERB'}\n",
    "     ]\n",
    "patterns = [p1, p2, p3, p4, p5, p6, p7]\n",
    "matcher.add(\"review\", None, *patterns)\n",
    "\n",
    "for match_id, start, end in matcher(doc):\n",
    "    string_id = nlp.vocab.strings[match_id]  # Get string representation\n",
    "    span = doc[start:end]  # The matched span\n",
    "    print(span.text)"
   ]
  },
  {
   "cell_type": "code",
   "execution_count": 12,
   "metadata": {
    "executionInfo": {
     "elapsed": 967,
     "status": "aborted",
     "timestamp": 1607713040184,
     "user": {
      "displayName": "Ted Dang",
      "photoUrl": "https://lh3.googleusercontent.com/a-/AOh14GhGYvWJ7Ts__5Jym-kLlZFAba3rM4tQRhpABDM6KQ=s64",
      "userId": "07278023630729325471"
     },
     "user_tz": 360
    },
    "id": "xuAzhD_gsLjE"
   },
   "outputs": [],
   "source": [
    "# text1 = nlp('This cake is very good')\n",
    "# text2 = nlp('This cup cake is really good')\n",
    "# print(text1.similarity(text2))"
   ]
  },
  {
   "cell_type": "code",
   "execution_count": 13,
   "metadata": {
    "executionInfo": {
     "elapsed": 964,
     "status": "aborted",
     "timestamp": 1607713040186,
     "user": {
      "displayName": "Ted Dang",
      "photoUrl": "https://lh3.googleusercontent.com/a-/AOh14GhGYvWJ7Ts__5Jym-kLlZFAba3rM4tQRhpABDM6KQ=s64",
      "userId": "07278023630729325471"
     },
     "user_tz": 360
    },
    "id": "GkUiCfR4fT4W"
   },
   "outputs": [],
   "source": [
    "# text1 = nlp('good')\n",
    "# text2 = nlp('bad')\n",
    "# print(text1.similarity(text2))"
   ]
  },
  {
   "cell_type": "code",
   "execution_count": null,
   "metadata": {},
   "outputs": [],
   "source": []
  }
 ],
 "metadata": {
  "colab": {
   "authorship_tag": "ABX9TyMbEnKYRaahqst5xJ2q5/Ms",
   "collapsed_sections": [],
   "name": "Extract from zocdoc.ipynb",
   "provenance": []
  },
  "kernelspec": {
   "display_name": "Python 3",
   "language": "python",
   "name": "python3"
  },
  "language_info": {
   "codemirror_mode": {
    "name": "ipython",
    "version": 3
   },
   "file_extension": ".py",
   "mimetype": "text/x-python",
   "name": "python",
   "nbconvert_exporter": "python",
   "pygments_lexer": "ipython3",
   "version": "3.7.9"
  }
 },
 "nbformat": 4,
 "nbformat_minor": 4
}
