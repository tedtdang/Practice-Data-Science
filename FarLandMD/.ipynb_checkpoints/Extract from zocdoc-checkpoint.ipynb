{
 "cells": [
  {
   "cell_type": "markdown",
   "metadata": {},
   "source": [
    "## This project's main purpose is to extract reviews from patients or their families on doctors. Then, reviews on the same doctor will be processed such that similar opinions are retained and become a brief and general reviews from multiple reviews on a specific doctor. Specifically, a graphical window will show up when our site user hovers on that doctor's info."
   ]
  },
  {
   "cell_type": "markdown",
   "metadata": {
    "id": "JeoHkS0AA_QH"
   },
   "source": [
    "### Import libraries and the review file"
   ]
  },
  {
   "cell_type": "code",
   "execution_count": 1,
   "metadata": {
    "colab": {
     "base_uri": "https://localhost:8080/"
    },
    "executionInfo": {
     "elapsed": 328,
     "status": "ok",
     "timestamp": 1607713039462,
     "user": {
      "displayName": "Ted Dang",
      "photoUrl": "https://lh3.googleusercontent.com/a-/AOh14GhGYvWJ7Ts__5Jym-kLlZFAba3rM4tQRhpABDM6KQ=s64",
      "userId": "07278023630729325471"
     },
     "user_tz": 360
    },
    "id": "SvPulaukGob_",
    "outputId": "f3669e38-79ee-4008-b4d2-aa047a3849db"
   },
   "outputs": [
    {
     "name": "stdout",
     "output_type": "stream",
     "text": [
      "(71, 2)\n"
     ]
    }
   ],
   "source": [
    "import pandas as pd\n",
    "df = pd.read_csv('https://raw.githubusercontent.com/teohangxanh/Practice-Data-Science/master/FarLandMD/zocdoc%20reviews.csv', encoding = \"ISO-8859-1\")\n",
    "pd.set_option('max_colwidth', 200)\n",
    "pd.set_option(\"display.max_rows\", 6)\n",
    "print(df.shape)"
   ]
  },
  {
   "cell_type": "markdown",
   "metadata": {
    "id": "1cAxEivwBG6g"
   },
   "source": [
    "### Clean the dataset"
   ]
  },
  {
   "cell_type": "code",
   "execution_count": 2,
   "metadata": {
    "colab": {
     "base_uri": "https://localhost:8080/",
     "height": 204
    },
    "executionInfo": {
     "elapsed": 489,
     "status": "ok",
     "timestamp": 1607713039633,
     "user": {
      "displayName": "Ted Dang",
      "photoUrl": "https://lh3.googleusercontent.com/a-/AOh14GhGYvWJ7Ts__5Jym-kLlZFAba3rM4tQRhpABDM6KQ=s64",
      "userId": "07278023630729325471"
     },
     "user_tz": 360
    },
    "id": "nmuSf657HEnw",
    "outputId": "67b9cee2-9893-4210-d470-824b197e2cc7"
   },
   "outputs": [
    {
     "data": {
      "text/html": [
       "<div>\n",
       "<style scoped>\n",
       "    .dataframe tbody tr th:only-of-type {\n",
       "        vertical-align: middle;\n",
       "    }\n",
       "\n",
       "    .dataframe tbody tr th {\n",
       "        vertical-align: top;\n",
       "    }\n",
       "\n",
       "    .dataframe thead th {\n",
       "        text-align: right;\n",
       "    }\n",
       "</style>\n",
       "<table border=\"1\" class=\"dataframe\">\n",
       "  <thead>\n",
       "    <tr style=\"text-align: right;\">\n",
       "      <th></th>\n",
       "      <th>Doctor</th>\n",
       "      <th>Reviews</th>\n",
       "    </tr>\n",
       "  </thead>\n",
       "  <tbody>\n",
       "    <tr>\n",
       "      <th>0</th>\n",
       "      <td>Dr. Jon Biorkman, MD</td>\n",
       "      <td>['This review is an overdue huge thank you for an extraordinary medical doctor whose care and professionalism helped me even in his absence:  I was Dr. Biorkman\\'s patient while in Irvine until 20...</td>\n",
       "    </tr>\n",
       "    <tr>\n",
       "      <th>1</th>\n",
       "      <td>NaN</td>\n",
       "      <td>NaN</td>\n",
       "    </tr>\n",
       "    <tr>\n",
       "      <th>2</th>\n",
       "      <td>Richard McConkie, FNP-C</td>\n",
       "      <td>[\"I was so pleased with the kindness and care of the staff at west valley. This was my first visit and it felt like I'd been going there forever. Dr Richard was very empathic and understanding. Li...</td>\n",
       "    </tr>\n",
       "    <tr>\n",
       "      <th>3</th>\n",
       "      <td>NaN</td>\n",
       "      <td>NaN</td>\n",
       "    </tr>\n",
       "    <tr>\n",
       "      <th>4</th>\n",
       "      <td>Dr. Crystal Song, NMD</td>\n",
       "      <td>[\"I go monthly to Dr Song to strengthen my abdomen which has a hernia caused by a botched surgery 2 years ago.  I am extremely satisfied by the high expertise and genuine care that Dr Song gives m...</td>\n",
       "    </tr>\n",
       "  </tbody>\n",
       "</table>\n",
       "</div>"
      ],
      "text/plain": [
       "                    Doctor  \\\n",
       "0     Dr. Jon Biorkman, MD   \n",
       "1                      NaN   \n",
       "2  Richard McConkie, FNP-C   \n",
       "3                      NaN   \n",
       "4    Dr. Crystal Song, NMD   \n",
       "\n",
       "                                                                                                                                                                                                   Reviews  \n",
       "0  ['This review is an overdue huge thank you for an extraordinary medical doctor whose care and professionalism helped me even in his absence:  I was Dr. Biorkman\\'s patient while in Irvine until 20...  \n",
       "1                                                                                                                                                                                                      NaN  \n",
       "2  [\"I was so pleased with the kindness and care of the staff at west valley. This was my first visit and it felt like I'd been going there forever. Dr Richard was very empathic and understanding. Li...  \n",
       "3                                                                                                                                                                                                      NaN  \n",
       "4  [\"I go monthly to Dr Song to strengthen my abdomen which has a hernia caused by a botched surgery 2 years ago.  I am extremely satisfied by the high expertise and genuine care that Dr Song gives m...  "
      ]
     },
     "execution_count": 2,
     "metadata": {},
     "output_type": "execute_result"
    }
   ],
   "source": [
    "df.head()"
   ]
  },
  {
   "cell_type": "code",
   "execution_count": 3,
   "metadata": {
    "executionInfo": {
     "elapsed": 483,
     "status": "ok",
     "timestamp": 1607713039635,
     "user": {
      "displayName": "Ted Dang",
      "photoUrl": "https://lh3.googleusercontent.com/a-/AOh14GhGYvWJ7Ts__5Jym-kLlZFAba3rM4tQRhpABDM6KQ=s64",
      "userId": "07278023630729325471"
     },
     "user_tz": 360
    },
    "id": "TNybUuyBAy_e"
   },
   "outputs": [],
   "source": [
    "# Remove rows that have missing data in all columns: Doctor and Reviews\n",
    "df.dropna(how='all', inplace=True)\n",
    "df.reset_index(inplace=True)"
   ]
  },
  {
   "cell_type": "code",
   "execution_count": 4,
   "metadata": {
    "colab": {
     "base_uri": "https://localhost:8080/",
     "height": 204
    },
    "executionInfo": {
     "elapsed": 476,
     "status": "ok",
     "timestamp": 1607713039636,
     "user": {
      "displayName": "Ted Dang",
      "photoUrl": "https://lh3.googleusercontent.com/a-/AOh14GhGYvWJ7Ts__5Jym-kLlZFAba3rM4tQRhpABDM6KQ=s64",
      "userId": "07278023630729325471"
     },
     "user_tz": 360
    },
    "id": "w5vqabEdA4Uw",
    "outputId": "f7be96d0-dd88-4492-e8b5-5e08666f579c"
   },
   "outputs": [
    {
     "data": {
      "text/html": [
       "<div>\n",
       "<style scoped>\n",
       "    .dataframe tbody tr th:only-of-type {\n",
       "        vertical-align: middle;\n",
       "    }\n",
       "\n",
       "    .dataframe tbody tr th {\n",
       "        vertical-align: top;\n",
       "    }\n",
       "\n",
       "    .dataframe thead th {\n",
       "        text-align: right;\n",
       "    }\n",
       "</style>\n",
       "<table border=\"1\" class=\"dataframe\">\n",
       "  <thead>\n",
       "    <tr style=\"text-align: right;\">\n",
       "      <th></th>\n",
       "      <th>index</th>\n",
       "      <th>Doctor</th>\n",
       "      <th>Reviews</th>\n",
       "    </tr>\n",
       "  </thead>\n",
       "  <tbody>\n",
       "    <tr>\n",
       "      <th>0</th>\n",
       "      <td>0</td>\n",
       "      <td>Dr. Jon Biorkman, MD</td>\n",
       "      <td>['This review is an overdue huge thank you for an extraordinary medical doctor whose care and professionalism helped me even in his absence:  I was Dr. Biorkman\\'s patient while in Irvine until 20...</td>\n",
       "    </tr>\n",
       "    <tr>\n",
       "      <th>1</th>\n",
       "      <td>2</td>\n",
       "      <td>Richard McConkie, FNP-C</td>\n",
       "      <td>[\"I was so pleased with the kindness and care of the staff at west valley. This was my first visit and it felt like I'd been going there forever. Dr Richard was very empathic and understanding. Li...</td>\n",
       "    </tr>\n",
       "    <tr>\n",
       "      <th>2</th>\n",
       "      <td>4</td>\n",
       "      <td>Dr. Crystal Song, NMD</td>\n",
       "      <td>[\"I go monthly to Dr Song to strengthen my abdomen which has a hernia caused by a botched surgery 2 years ago.  I am extremely satisfied by the high expertise and genuine care that Dr Song gives m...</td>\n",
       "    </tr>\n",
       "    <tr>\n",
       "      <th>3</th>\n",
       "      <td>6</td>\n",
       "      <td>Dr. Christopher Ciccone, MD</td>\n",
       "      <td>['Excellent service and advice as well as a perscrition  for spider bite infection\\n\\nDr. Ciccone has been my doc for 25 years and is now the family doc for my children and husband too!  His offic...</td>\n",
       "    </tr>\n",
       "    <tr>\n",
       "      <th>4</th>\n",
       "      <td>8</td>\n",
       "      <td>Dr. Martin Maag, MD</td>\n",
       "      <td>['Very positive and encouraging, time well spent.\\n\\nFriendly, professional, and knowledgeable.\\n\\nits not often that the Doctor is the one to greet you and sit you down in the consultation room, ...</td>\n",
       "    </tr>\n",
       "  </tbody>\n",
       "</table>\n",
       "</div>"
      ],
      "text/plain": [
       "   index                       Doctor  \\\n",
       "0      0         Dr. Jon Biorkman, MD   \n",
       "1      2      Richard McConkie, FNP-C   \n",
       "2      4        Dr. Crystal Song, NMD   \n",
       "3      6  Dr. Christopher Ciccone, MD   \n",
       "4      8          Dr. Martin Maag, MD   \n",
       "\n",
       "                                                                                                                                                                                                   Reviews  \n",
       "0  ['This review is an overdue huge thank you for an extraordinary medical doctor whose care and professionalism helped me even in his absence:  I was Dr. Biorkman\\'s patient while in Irvine until 20...  \n",
       "1  [\"I was so pleased with the kindness and care of the staff at west valley. This was my first visit and it felt like I'd been going there forever. Dr Richard was very empathic and understanding. Li...  \n",
       "2  [\"I go monthly to Dr Song to strengthen my abdomen which has a hernia caused by a botched surgery 2 years ago.  I am extremely satisfied by the high expertise and genuine care that Dr Song gives m...  \n",
       "3  ['Excellent service and advice as well as a perscrition  for spider bite infection\\n\\nDr. Ciccone has been my doc for 25 years and is now the family doc for my children and husband too!  His offic...  \n",
       "4  ['Very positive and encouraging, time well spent.\\n\\nFriendly, professional, and knowledgeable.\\n\\nits not often that the Doctor is the one to greet you and sit you down in the consultation room, ...  "
      ]
     },
     "execution_count": 4,
     "metadata": {},
     "output_type": "execute_result"
    }
   ],
   "source": [
    "df.head()"
   ]
  },
  {
   "cell_type": "code",
   "execution_count": 5,
   "metadata": {
    "executionInfo": {
     "elapsed": 633,
     "status": "ok",
     "timestamp": 1607713039799,
     "user": {
      "displayName": "Ted Dang",
      "photoUrl": "https://lh3.googleusercontent.com/a-/AOh14GhGYvWJ7Ts__5Jym-kLlZFAba3rM4tQRhpABDM6KQ=s64",
      "userId": "07278023630729325471"
     },
     "user_tz": 360
    },
    "id": "ezgkAiukCc7t"
   },
   "outputs": [],
   "source": [
    "pattern = '|'.join(['\\[', '\\]', '\\\\\\\\\\\\', '\\'', \"\\'\", '\\\\n', '\\\\\\\\', '  '])\n",
    "df.Reviews = df.Reviews.str.replace(pattern, '')"
   ]
  },
  {
   "cell_type": "code",
   "execution_count": 6,
   "metadata": {},
   "outputs": [
    {
     "data": {
      "text/plain": [
       "'Richard McConkie, FNP-C'"
      ]
     },
     "execution_count": 6,
     "metadata": {},
     "output_type": "execute_result"
    }
   ],
   "source": [
    "df.iloc[1, 1]"
   ]
  },
  {
   "cell_type": "code",
   "execution_count": 7,
   "metadata": {},
   "outputs": [],
   "source": [
    "import spacy\n",
    "from spacy.lang.en import English\n",
    "\n",
    "nlp = spacy.load('en_core_web_lg')\n",
    "doc = nlp(df.iloc[1, 1])"
   ]
  },
  {
   "cell_type": "code",
   "execution_count": 8,
   "metadata": {},
   "outputs": [
    {
     "name": "stdout",
     "output_type": "stream",
     "text": [
      "['Richard', 'McConkie', 'FNP', 'C']\n"
     ]
    }
   ],
   "source": [
    "# Create a list of word tokens\n",
    "filtered_words = []\n",
    "for token in doc:\n",
    "    # Remove stop words\n",
    "    if token.is_stop == False and token.is_punct == False:\n",
    "        filtered_words.append(token.text)\n",
    "print(filtered_words)"
   ]
  },
  {
   "cell_type": "markdown",
   "metadata": {},
   "source": [
    "### Can we create a filtered adjectives which have positive or negative meanings of the doctor, not irrelevant ones?"
   ]
  },
  {
   "cell_type": "code",
   "execution_count": 9,
   "metadata": {},
   "outputs": [
    {
     "name": "stdout",
     "output_type": "stream",
     "text": [
      "['Richard McConkie, FNP-C']\n"
     ]
    }
   ],
   "source": [
    "# Create a list of sentence tokens\n",
    "\n",
    "# Create the pipeline 'sentencizer' component\n",
    "sbd = nlp.create_pipe('sentencizer')\n",
    "\n",
    "# Add the component to the pipeline\n",
    "nlp.add_pipe(sbd)\n",
    "\n",
    "# create list of sentence tokens\n",
    "sents_list = []\n",
    "for sent in doc.sents:\n",
    "    sents_list.append(sent.text)\n",
    "print(sents_list)"
   ]
  },
  {
   "cell_type": "code",
   "execution_count": 10,
   "metadata": {
    "executionInfo": {
     "elapsed": 972,
     "status": "aborted",
     "timestamp": 1607713040183,
     "user": {
      "displayName": "Ted Dang",
      "photoUrl": "https://lh3.googleusercontent.com/a-/AOh14GhGYvWJ7Ts__5Jym-kLlZFAba3rM4tQRhpABDM6KQ=s64",
      "userId": "07278023630729325471"
     },
     "user_tz": 360
    },
    "id": "-eu1WEjcLWuX"
   },
   "outputs": [],
   "source": [
    "# for chunk in doc.noun_chunks:\n",
    "#     print('%40s' % chunk.text, '%10s' % chunk.root.text, '%10s' % chunk.root.dep_, '%10s' % chunk.root.head.text, sep='\\t')"
   ]
  },
  {
   "cell_type": "code",
   "execution_count": 11,
   "metadata": {},
   "outputs": [],
   "source": [
    "from spacy.matcher import Matcher\n",
    "doc = nlp(df.iloc[1, 1])\n",
    "matcher = Matcher(nlp.vocab)\n",
    "p1 = [{'ORTH': 'Dr.', 'OP': '*'},\n",
    "           {'ENT_TYPE': 'PERSON'},\n",
    "           {'POS': 'ADV', 'OP': '*'},\n",
    "           {'LEMMA': 'be'},\n",
    "           {'POS': 'ADV', 'OP': '*'},\n",
    "           {'POS': 'ADJ'}]\n",
    "p2 = [{'LOWER':{'IN': ['he', 'she']}},\n",
    "           {'POS': 'ADV', 'OP': '*'},\n",
    "           {'LEMMA': 'be'},\n",
    "           {'POS': 'ADV', 'OP': '*'},\n",
    "           {'DEP': 'CARDINAL', 'OP': '*'},\n",
    "           {'POS': 'ADJ'},\n",
    "           {'POS': 'NOUN', 'OP': '*'}]\n",
    "p3 = [{'LOWER':{'IN': ['he', 'she']}},\n",
    "           {'POS': 'ADV', 'OP': '*'},\n",
    "           {'POS': 'VERB'},\n",
    "           {'DEP': 'TRUE', 'OP': '*'},\n",
    "           {'POS': 'ADJ', 'OP': '*'},\n",
    "           {'POS': 'NOUN'}]\n",
    "p4 = [{'ORTH': 'Dr.', 'OP': '*'},\n",
    "           {'ENT_TYPE': 'PERSON'},\n",
    "           {'POS': 'ADV', 'OP': '*'},\n",
    "           {'LEMMA': 'be'},\n",
    "           {'POS': 'ADV', 'OP': '*'},\n",
    "           {'POS': 'ADJ', 'OP': '+'},\n",
    "           {'ORTH': 'and', 'OP': '*'},\n",
    "           {}]\n",
    "p5 = [{'POS': 'NOUN'},\n",
    "           {'LEMMA': 'be'},\n",
    "           {'POS': 'ADV', 'OP': '*'},\n",
    "           {'POS': 'ADJ'},\n",
    "           {'ORTH': ',', 'OP': '*'},\n",
    "           {'POS': 'ADV', 'OP': '*'},\n",
    "           {'POS': 'ADJ'},\n",
    "           {'ORTH': ',', 'OP': '*'},\n",
    "           {'POS': 'ADV', 'OP': '*'},\n",
    "           {'POS': 'ADJ'},\n",
    "           {'ORTH': ', and', 'OP': '*'},\n",
    "           {'POS': 'ADV', 'OP': '*'},\n",
    "           {'POS': 'ADJ'}]\n",
    "p6 = [{'LOWER':{'IN': ['he', 'she']}},\n",
    "           {'LEMMA': 'be'},\n",
    "           {'POS': 'ADJ'},\n",
    "           {'ORTH': ',', 'OP': '?'},\n",
    "           {'POS': 'ADJ', 'OP': '?'},\n",
    "           {'ORTH': ',', 'OP': '?'}, \n",
    "           {'ORTH': 'and', 'OP': '?'},\n",
    "           {'POS': 'ADJ', 'OP': '?'}]\n",
    "patterns = [p1, p2, p3, p4, p5, p6]\n",
    "matcher.add(\"review\", None, *patterns)\n",
    "span_storage = []\n",
    "for match_id, start, end in matcher(doc):\n",
    "    string_id = nlp.vocab.strings[match_id]  # Get string representation\n",
    "    span = doc[start:end]  # The matched span\n",
    "    span_storage.append(span.text)"
   ]
  },
  {
   "cell_type": "code",
   "execution_count": 12,
   "metadata": {},
   "outputs": [],
   "source": [
    "import numpy as np\n",
    "sim_table = []\n",
    "for doc1 in span_storage:\n",
    "    for doc2 in span_storage:\n",
    "        sim_table.append(nlp(doc1).similarity(nlp(doc2)))\n",
    "sim_table = np.array(sim_table).astype(float).reshape(len(span_storage), len(span_storage))       "
   ]
  },
  {
   "cell_type": "code",
   "execution_count": 13,
   "metadata": {},
   "outputs": [],
   "source": [
    "import pandas as pd\n",
    "sim_table = pd.DataFrame(data=sim_table, columns=span_storage, index=span_storage)"
   ]
  },
  {
   "cell_type": "code",
   "execution_count": 14,
   "metadata": {},
   "outputs": [
    {
     "data": {
      "text/html": [
       "<div>\n",
       "<style scoped>\n",
       "    .dataframe tbody tr th:only-of-type {\n",
       "        vertical-align: middle;\n",
       "    }\n",
       "\n",
       "    .dataframe tbody tr th {\n",
       "        vertical-align: top;\n",
       "    }\n",
       "\n",
       "    .dataframe thead th {\n",
       "        text-align: right;\n",
       "    }\n",
       "</style>\n",
       "<table border=\"1\" class=\"dataframe\">\n",
       "  <thead>\n",
       "    <tr style=\"text-align: right;\">\n",
       "      <th></th>\n",
       "    </tr>\n",
       "  </thead>\n",
       "  <tbody>\n",
       "  </tbody>\n",
       "</table>\n",
       "</div>"
      ],
      "text/plain": [
       "Empty DataFrame\n",
       "Columns: []\n",
       "Index: []"
      ]
     },
     "execution_count": 14,
     "metadata": {},
     "output_type": "execute_result"
    }
   ],
   "source": [
    "sim_table"
   ]
  },
  {
   "cell_type": "markdown",
   "metadata": {},
   "source": [
    "### From my observation, all extracted reviews that are from a same sentence (for example: 'Richard was amazingly kind', 'Richard was amazingly kind and', and 'Richard was amazingly kind and patient' have at least 90% semantic similarity. Thus, I will group those with at least 90% semantic similarity together and only keep the longest one among them."
   ]
  },
  {
   "cell_type": "code",
   "execution_count": 15,
   "metadata": {},
   "outputs": [
    {
     "data": {
      "text/plain": [
       "[]"
      ]
     },
     "execution_count": 15,
     "metadata": {},
     "output_type": "execute_result"
    }
   ],
   "source": [
    "span_storage"
   ]
  },
  {
   "cell_type": "code",
   "execution_count": 16,
   "metadata": {},
   "outputs": [],
   "source": [
    "sim_table = []\n",
    "for doc1 in span_storage:\n",
    "    sub = []\n",
    "    for doc2 in span_storage:\n",
    "        sub.append(nlp(doc1).similarity(nlp(doc2)))\n",
    "    sim_table.append(sub)"
   ]
  },
  {
   "cell_type": "code",
   "execution_count": 17,
   "metadata": {},
   "outputs": [],
   "source": [
    "def similar_phrases(j, a_list, threshold=.91):\n",
    "    group = set()\n",
    "    for i in range(len(a_list)):\n",
    "        if a_list[i] >= threshold:\n",
    "            group.add(i)\n",
    "    return group\n",
    "j = 0\n",
    "my_list = []\n",
    "for i in sim_table:\n",
    "    if similar_phrases(j, i) not in my_list:\n",
    "        my_list.append(similar_phrases(j, i))\n",
    "        j += 1"
   ]
  },
  {
   "cell_type": "code",
   "execution_count": 18,
   "metadata": {},
   "outputs": [
    {
     "data": {
      "text/plain": [
       "[]"
      ]
     },
     "execution_count": 18,
     "metadata": {},
     "output_type": "execute_result"
    }
   ],
   "source": [
    "my_list"
   ]
  },
  {
   "cell_type": "code",
   "execution_count": 19,
   "metadata": {},
   "outputs": [],
   "source": [
    "remove_list = []\n",
    "for i in range(len(my_list)-1):\n",
    "    if i < len(my_list) and my_list[i].issubset(my_list[i+1]):\n",
    "        remove_list.append(my_list[i])\n",
    "for i in range(len(my_list)-1, -1, -1):\n",
    "    if i > 0 and my_list[i].issubset(my_list[i-1]):\n",
    "        remove_list.append(my_list[i])       "
   ]
  },
  {
   "cell_type": "code",
   "execution_count": 20,
   "metadata": {},
   "outputs": [
    {
     "data": {
      "text/plain": [
       "[]"
      ]
     },
     "execution_count": 20,
     "metadata": {},
     "output_type": "execute_result"
    }
   ],
   "source": [
    "remove_list"
   ]
  },
  {
   "cell_type": "code",
   "execution_count": 21,
   "metadata": {},
   "outputs": [],
   "source": [
    "for i in remove_list:\n",
    "    my_list.remove(i)"
   ]
  },
  {
   "cell_type": "code",
   "execution_count": 22,
   "metadata": {},
   "outputs": [
    {
     "data": {
      "text/plain": [
       "[]"
      ]
     },
     "execution_count": 22,
     "metadata": {},
     "output_type": "execute_result"
    }
   ],
   "source": [
    "my_list"
   ]
  },
  {
   "cell_type": "code",
   "execution_count": 23,
   "metadata": {},
   "outputs": [],
   "source": [
    "meaningful_phrases = []\n",
    "for sublist in my_list:\n",
    "    max_length = 0\n",
    "    max_str = ''\n",
    "    for phrase_index in sublist:\n",
    "        if max_length < len(span_storage[phrase_index]):\n",
    "            max_length = len(span_storage[phrase_index])\n",
    "            max_str = span_storage[phrase_index]\n",
    "    meaningful_phrases.append(max_str)"
   ]
  },
  {
   "cell_type": "code",
   "execution_count": 24,
   "metadata": {},
   "outputs": [
    {
     "data": {
      "text/plain": [
       "[]"
      ]
     },
     "execution_count": 24,
     "metadata": {},
     "output_type": "execute_result"
    }
   ],
   "source": [
    "meaningful_phrases"
   ]
  }
 ],
 "metadata": {
  "colab": {
   "authorship_tag": "ABX9TyMbEnKYRaahqst5xJ2q5/Ms",
   "collapsed_sections": [],
   "name": "Extract from zocdoc.ipynb",
   "provenance": []
  },
  "kernelspec": {
   "display_name": "Python 3",
   "language": "python",
   "name": "python3"
  },
  "language_info": {
   "codemirror_mode": {
    "name": "ipython",
    "version": 3
   },
   "file_extension": ".py",
   "mimetype": "text/x-python",
   "name": "python",
   "nbconvert_exporter": "python",
   "pygments_lexer": "ipython3",
   "version": "3.7.9"
  }
 },
 "nbformat": 4,
 "nbformat_minor": 4
}
