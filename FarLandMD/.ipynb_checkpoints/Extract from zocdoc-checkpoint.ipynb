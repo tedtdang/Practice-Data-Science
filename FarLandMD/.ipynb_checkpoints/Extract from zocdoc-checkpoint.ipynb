{
 "cells": [
  {
   "cell_type": "markdown",
   "metadata": {},
   "source": [
    "This project's main purpose is to extract reviews from patients or their families on doctors. Then, reviews on the same doctor will be processed such that similar opinions are retained and become a brief and general reviews from multiple reviews on a specific doctor. Specifically, a graphical window will show up when our site user hovers on that doctor's info."
   ]
  },
  {
   "cell_type": "markdown",
   "metadata": {
    "id": "JeoHkS0AA_QH"
   },
   "source": [
    "### Import libraries and the review file"
   ]
  },
  {
   "cell_type": "code",
   "execution_count": 1,
   "metadata": {
    "colab": {
     "base_uri": "https://localhost:8080/"
    },
    "executionInfo": {
     "elapsed": 328,
     "status": "ok",
     "timestamp": 1607713039462,
     "user": {
      "displayName": "Ted Dang",
      "photoUrl": "https://lh3.googleusercontent.com/a-/AOh14GhGYvWJ7Ts__5Jym-kLlZFAba3rM4tQRhpABDM6KQ=s64",
      "userId": "07278023630729325471"
     },
     "user_tz": 360
    },
    "id": "SvPulaukGob_",
    "outputId": "f3669e38-79ee-4008-b4d2-aa047a3849db"
   },
   "outputs": [],
   "source": [
    "import pandas as pd\n",
    "df = pd.read_csv('https://raw.githubusercontent.com/teohangxanh/Practice-Data-Science/master/FarLandMD/zocdoc%20reviews.csv', encoding = \"ISO-8859-1\", index_col=None)\n",
    "pd.set_option('max_colwidth', 200)\n",
    "pd.set_option(\"display.max_rows\", 6)"
   ]
  },
  {
   "cell_type": "code",
   "execution_count": 2,
   "metadata": {},
   "outputs": [
    {
     "data": {
      "text/plain": [
       "Index(['Doctor', 'Reviews'], dtype='object')"
      ]
     },
     "execution_count": 2,
     "metadata": {},
     "output_type": "execute_result"
    }
   ],
   "source": [
    "df.columns"
   ]
  },
  {
   "cell_type": "markdown",
   "metadata": {
    "id": "1cAxEivwBG6g"
   },
   "source": [
    "### Clean the dataset"
   ]
  },
  {
   "cell_type": "code",
   "execution_count": 3,
   "metadata": {
    "colab": {
     "base_uri": "https://localhost:8080/",
     "height": 204
    },
    "executionInfo": {
     "elapsed": 489,
     "status": "ok",
     "timestamp": 1607713039633,
     "user": {
      "displayName": "Ted Dang",
      "photoUrl": "https://lh3.googleusercontent.com/a-/AOh14GhGYvWJ7Ts__5Jym-kLlZFAba3rM4tQRhpABDM6KQ=s64",
      "userId": "07278023630729325471"
     },
     "user_tz": 360
    },
    "id": "nmuSf657HEnw",
    "outputId": "67b9cee2-9893-4210-d470-824b197e2cc7"
   },
   "outputs": [
    {
     "data": {
      "text/html": [
       "<div>\n",
       "<style scoped>\n",
       "    .dataframe tbody tr th:only-of-type {\n",
       "        vertical-align: middle;\n",
       "    }\n",
       "\n",
       "    .dataframe tbody tr th {\n",
       "        vertical-align: top;\n",
       "    }\n",
       "\n",
       "    .dataframe thead th {\n",
       "        text-align: right;\n",
       "    }\n",
       "</style>\n",
       "<table border=\"1\" class=\"dataframe\">\n",
       "  <thead>\n",
       "    <tr style=\"text-align: right;\">\n",
       "      <th></th>\n",
       "      <th>Doctor</th>\n",
       "      <th>Reviews</th>\n",
       "    </tr>\n",
       "  </thead>\n",
       "  <tbody>\n",
       "    <tr>\n",
       "      <th>0</th>\n",
       "      <td>Dr. Jon Biorkman, MD</td>\n",
       "      <td>['This review is an overdue huge thank you for an extraordinary medical doctor whose care and professionalism helped me even in his absence:  I was Dr. Biorkman\\'s patient while in Irvine until 20...</td>\n",
       "    </tr>\n",
       "    <tr>\n",
       "      <th>1</th>\n",
       "      <td>NaN</td>\n",
       "      <td>NaN</td>\n",
       "    </tr>\n",
       "    <tr>\n",
       "      <th>2</th>\n",
       "      <td>Richard McConkie, FNP-C</td>\n",
       "      <td>[\"I was so pleased with the kindness and care of the staff at west valley. This was my first visit and it felt like I'd been going there forever. Dr Richard was very empathic and understanding. Li...</td>\n",
       "    </tr>\n",
       "    <tr>\n",
       "      <th>3</th>\n",
       "      <td>NaN</td>\n",
       "      <td>NaN</td>\n",
       "    </tr>\n",
       "    <tr>\n",
       "      <th>4</th>\n",
       "      <td>Dr. Crystal Song, NMD</td>\n",
       "      <td>[\"I go monthly to Dr Song to strengthen my abdomen which has a hernia caused by a botched surgery 2 years ago.  I am extremely satisfied by the high expertise and genuine care that Dr Song gives m...</td>\n",
       "    </tr>\n",
       "  </tbody>\n",
       "</table>\n",
       "</div>"
      ],
      "text/plain": [
       "                    Doctor  \\\n",
       "0     Dr. Jon Biorkman, MD   \n",
       "1                      NaN   \n",
       "2  Richard McConkie, FNP-C   \n",
       "3                      NaN   \n",
       "4    Dr. Crystal Song, NMD   \n",
       "\n",
       "                                                                                                                                                                                                   Reviews  \n",
       "0  ['This review is an overdue huge thank you for an extraordinary medical doctor whose care and professionalism helped me even in his absence:  I was Dr. Biorkman\\'s patient while in Irvine until 20...  \n",
       "1                                                                                                                                                                                                      NaN  \n",
       "2  [\"I was so pleased with the kindness and care of the staff at west valley. This was my first visit and it felt like I'd been going there forever. Dr Richard was very empathic and understanding. Li...  \n",
       "3                                                                                                                                                                                                      NaN  \n",
       "4  [\"I go monthly to Dr Song to strengthen my abdomen which has a hernia caused by a botched surgery 2 years ago.  I am extremely satisfied by the high expertise and genuine care that Dr Song gives m...  "
      ]
     },
     "execution_count": 3,
     "metadata": {},
     "output_type": "execute_result"
    }
   ],
   "source": [
    "df.head()"
   ]
  },
  {
   "cell_type": "code",
   "execution_count": 4,
   "metadata": {
    "executionInfo": {
     "elapsed": 483,
     "status": "ok",
     "timestamp": 1607713039635,
     "user": {
      "displayName": "Ted Dang",
      "photoUrl": "https://lh3.googleusercontent.com/a-/AOh14GhGYvWJ7Ts__5Jym-kLlZFAba3rM4tQRhpABDM6KQ=s64",
      "userId": "07278023630729325471"
     },
     "user_tz": 360
    },
    "id": "TNybUuyBAy_e"
   },
   "outputs": [],
   "source": [
    "# Remove rows that have missing data in all columns: Doctor and Reviews\n",
    "df.dropna(how='all', inplace=True)"
   ]
  },
  {
   "cell_type": "code",
   "execution_count": 5,
   "metadata": {
    "colab": {
     "base_uri": "https://localhost:8080/",
     "height": 204
    },
    "executionInfo": {
     "elapsed": 476,
     "status": "ok",
     "timestamp": 1607713039636,
     "user": {
      "displayName": "Ted Dang",
      "photoUrl": "https://lh3.googleusercontent.com/a-/AOh14GhGYvWJ7Ts__5Jym-kLlZFAba3rM4tQRhpABDM6KQ=s64",
      "userId": "07278023630729325471"
     },
     "user_tz": 360
    },
    "id": "w5vqabEdA4Uw",
    "outputId": "f7be96d0-dd88-4492-e8b5-5e08666f579c"
   },
   "outputs": [
    {
     "data": {
      "text/html": [
       "<div>\n",
       "<style scoped>\n",
       "    .dataframe tbody tr th:only-of-type {\n",
       "        vertical-align: middle;\n",
       "    }\n",
       "\n",
       "    .dataframe tbody tr th {\n",
       "        vertical-align: top;\n",
       "    }\n",
       "\n",
       "    .dataframe thead th {\n",
       "        text-align: right;\n",
       "    }\n",
       "</style>\n",
       "<table border=\"1\" class=\"dataframe\">\n",
       "  <thead>\n",
       "    <tr style=\"text-align: right;\">\n",
       "      <th></th>\n",
       "      <th>Doctor</th>\n",
       "      <th>Reviews</th>\n",
       "    </tr>\n",
       "  </thead>\n",
       "  <tbody>\n",
       "    <tr>\n",
       "      <th>0</th>\n",
       "      <td>Dr. Jon Biorkman, MD</td>\n",
       "      <td>['This review is an overdue huge thank you for an extraordinary medical doctor whose care and professionalism helped me even in his absence:  I was Dr. Biorkman\\'s patient while in Irvine until 20...</td>\n",
       "    </tr>\n",
       "    <tr>\n",
       "      <th>2</th>\n",
       "      <td>Richard McConkie, FNP-C</td>\n",
       "      <td>[\"I was so pleased with the kindness and care of the staff at west valley. This was my first visit and it felt like I'd been going there forever. Dr Richard was very empathic and understanding. Li...</td>\n",
       "    </tr>\n",
       "    <tr>\n",
       "      <th>4</th>\n",
       "      <td>Dr. Crystal Song, NMD</td>\n",
       "      <td>[\"I go monthly to Dr Song to strengthen my abdomen which has a hernia caused by a botched surgery 2 years ago.  I am extremely satisfied by the high expertise and genuine care that Dr Song gives m...</td>\n",
       "    </tr>\n",
       "    <tr>\n",
       "      <th>6</th>\n",
       "      <td>Dr. Christopher Ciccone, MD</td>\n",
       "      <td>['Excellent service and advice as well as a perscrition  for spider bite infection\\n\\nDr. Ciccone has been my doc for 25 years and is now the family doc for my children and husband too!  His offic...</td>\n",
       "    </tr>\n",
       "    <tr>\n",
       "      <th>8</th>\n",
       "      <td>Dr. Martin Maag, MD</td>\n",
       "      <td>['Very positive and encouraging, time well spent.\\n\\nFriendly, professional, and knowledgeable.\\n\\nits not often that the Doctor is the one to greet you and sit you down in the consultation room, ...</td>\n",
       "    </tr>\n",
       "  </tbody>\n",
       "</table>\n",
       "</div>"
      ],
      "text/plain": [
       "                        Doctor  \\\n",
       "0         Dr. Jon Biorkman, MD   \n",
       "2      Richard McConkie, FNP-C   \n",
       "4        Dr. Crystal Song, NMD   \n",
       "6  Dr. Christopher Ciccone, MD   \n",
       "8          Dr. Martin Maag, MD   \n",
       "\n",
       "                                                                                                                                                                                                   Reviews  \n",
       "0  ['This review is an overdue huge thank you for an extraordinary medical doctor whose care and professionalism helped me even in his absence:  I was Dr. Biorkman\\'s patient while in Irvine until 20...  \n",
       "2  [\"I was so pleased with the kindness and care of the staff at west valley. This was my first visit and it felt like I'd been going there forever. Dr Richard was very empathic and understanding. Li...  \n",
       "4  [\"I go monthly to Dr Song to strengthen my abdomen which has a hernia caused by a botched surgery 2 years ago.  I am extremely satisfied by the high expertise and genuine care that Dr Song gives m...  \n",
       "6  ['Excellent service and advice as well as a perscrition  for spider bite infection\\n\\nDr. Ciccone has been my doc for 25 years and is now the family doc for my children and husband too!  His offic...  \n",
       "8  ['Very positive and encouraging, time well spent.\\n\\nFriendly, professional, and knowledgeable.\\n\\nits not often that the Doctor is the one to greet you and sit you down in the consultation room, ...  "
      ]
     },
     "execution_count": 5,
     "metadata": {},
     "output_type": "execute_result"
    }
   ],
   "source": [
    "df.head()"
   ]
  },
  {
   "cell_type": "code",
   "execution_count": 6,
   "metadata": {},
   "outputs": [
    {
     "name": "stdout",
     "output_type": "stream",
     "text": [
      "True\n",
      "36\n"
     ]
    }
   ],
   "source": [
    "print(len(df.Doctor.unique()) == df.shape[0])\n",
    "print(len(df.Doctor.unique()))"
   ]
  },
  {
   "cell_type": "markdown",
   "metadata": {},
   "source": [
    "Clearly, there are no two reviews (from different patients / families) for the same doctor in the data set"
   ]
  },
  {
   "cell_type": "code",
   "execution_count": 7,
   "metadata": {
    "executionInfo": {
     "elapsed": 633,
     "status": "ok",
     "timestamp": 1607713039799,
     "user": {
      "displayName": "Ted Dang",
      "photoUrl": "https://lh3.googleusercontent.com/a-/AOh14GhGYvWJ7Ts__5Jym-kLlZFAba3rM4tQRhpABDM6KQ=s64",
      "userId": "07278023630729325471"
     },
     "user_tz": 360
    },
    "id": "ezgkAiukCc7t"
   },
   "outputs": [],
   "source": [
    "# Remove meaningless symbols from reviews\n",
    "pattern = '|'.join(['\\[', '\\]', '\\\\\\\\\\\\', '\\'', \"\\'\", '\\\\n', '\\\\\\\\', '  '])\n",
    "df.Reviews = df.Reviews.str.replace(pattern, '')"
   ]
  },
  {
   "cell_type": "code",
   "execution_count": 8,
   "metadata": {},
   "outputs": [
    {
     "data": {
      "text/plain": [
       "'This review is an overdue huge thank you for an extraordinary medical doctor whose care and professionalism helped me even in his absence:I was Dr. Biorkmans patient while in Irvine until 2006, when I moved to N. Cal.When I was diagnosed 7 years ago with a mass, and I feared for my life, I looked in the mirror and asked: \"When would you not be afraid?\"The answer came promptly: \"If I saw MY doctor\" (Dr. Biorkman). So even if he does not know, he is still MY doctor - the one I always trusted,had a professional, accurate answer with no drama, got it right every single time, and helped me stay healthy.Having a doctor one trusts is essential.Dr. Biorkman has been our doctor for almost 30 years. He knows our family and cares about our health. He takes his time to listen and provides thoughtful and excellent care to every member of our family. Over the years we have made sure any insurance plan we choose gives us access to Dr. Biorkman., \"Dr. Biorkman has always, and I mean always, listened carefully to my concerns, advised me sagely, and cared about me as a person. It doesnt matter how large or small my health issue might be, he provides the same comfort and care.\", Professionalism, empathy, listening skills, expertise, and realismare all skills Dr Biorkman has perfected.Dr. Biorkman has always provided great feedback to my healthcare-related inquiries and is both knowledgeable and compassionate.He is and will always be the gold standard for how a family physician should treat patients!Always friendly.Listens and takes time to explain his answer in a way that is easy to understand.Dr Biorkman is not only a very knowledgeable doctor and offers excellent advice, he is one of the most personable doctors I\\x92ve ever had- ABSOLUTELY FANTASTIC!!I love Dr Biorkman and Yesenia, they are a great team. I drive 40 minutes for my appointments and never feel rushed. He is an active listener. I never feel rushed at my visit. I would highly recommend.Dr. B had been my PCP for almost 30 years, he has always been very thorough and will spend the extra time to really understand what your concern is.Dr. Biorkman is a gifted physician who cares deeply about his patients. When I became sick a few years back, he lined up all the specialists I needed to put me on the road to recovery, which included hospitalization for several days and follow up appointments on a regular basis. Not only did he take care of me as my primary physician, but he communicated regularly with the other professionals taking care of me. For this, I will always be grateful to Dr. Biorkman.Dr. Biorkman is awesome! I\\x92ve been going to him for over 20 years. He is pleasant, funny and caring. His exams are thorough and insightful. He is not the easiest to get in to see, but he\\x92s worth it., \"I have had doctor biorkman for many many years hes very efficient very knowledgeable and always helps me with my issues\", Dr. Biorkman is very thorough and listens to his patients.I would recommend him to others.He is A+++! Just the best! I feel very lucky to have found him. He got me to get a stress test based on this I had a triple bypass. He may have saved my life!!I am glad that he is my primary physician again after years didn\\x92t see him, he still the same doctor that I can trust. Thank you dr. BiorkmanBest Doctor, very concerned about your wellbeing.I have been with Dr. B for many years.Excellent level of detail to diagnose any issue, very personable, and gets to root cause and treatment options without feeling rushed to get pushed out his office.His nurses have the same level of professional and personal care attitude.A+ experience ... Extremely, knowledgeable, thorough and caring. They also set up referral specialist and follow up appointments and medications., \"Dr. Biorkmans thorough exams, careful listening and affability make seeing this doctor an actual treat. We love him!\", Dr Biorkman always spends productive time with me during my appointments. In addition, he is very personable and caring.'"
      ]
     },
     "execution_count": 8,
     "metadata": {},
     "output_type": "execute_result"
    }
   ],
   "source": [
    "# Have a look at one review\n",
    "df.iloc[0, 1]"
   ]
  },
  {
   "cell_type": "code",
   "execution_count": 9,
   "metadata": {},
   "outputs": [],
   "source": [
    "import spacy\n",
    "from spacy.lang.en import English\n",
    "\n",
    "nlp = spacy.load('en_core_web_lg')\n",
    "# The first review is used to test\n",
    "doc = nlp(df.iloc[0, 1])"
   ]
  },
  {
   "cell_type": "code",
   "execution_count": 10,
   "metadata": {},
   "outputs": [
    {
     "name": "stdout",
     "output_type": "stream",
     "text": [
      "['review', 'overdue', 'huge', 'thank', 'extraordinary', 'medical', 'doctor', 'care', 'professionalism', 'helped', 'absence', 'Dr.', 'Biorkmans', 'patient', 'Irvine', '2006', 'moved', 'N.', 'Cal', 'diagnosed', '7', 'years', 'ago', 'mass', 'feared', 'life', 'looked', 'mirror', 'asked', 'afraid?\"The', 'answer', 'came', 'promptly', 'saw', 'doctor', 'Dr.', 'Biorkman', 'know', 'doctor', 'trusted', 'professional', 'accurate', 'answer', 'drama', 'got', 'right', 'single', 'time', 'helped', 'stay', 'healthy', 'Having', 'doctor', 'trusts', 'essential', 'Dr', 'Biorkman', 'doctor', '30', 'years', 'knows', 'family', 'cares', 'health', 'takes', 'time', 'listen', 'provides', 'thoughtful', 'excellent', 'care', 'member', 'family', 'years', 'sure', 'insurance', 'plan', 'choose', 'gives', 'access', 'Dr.', 'Biorkman', 'Dr.', 'Biorkman', 'mean', 'listened', 'carefully', 'concerns', 'advised', 'sagely', 'cared', 'person', 'nt', 'matter', 'large', 'small', 'health', 'issue', 'provides', 'comfort', 'care', 'Professionalism', 'empathy', 'listening', 'skills', 'expertise', 'realismare', 'skills', 'Dr', 'Biorkman', 'perfected', 'Dr', 'Biorkman', 'provided', 'great', 'feedback', 'healthcare', 'related', 'inquiries', 'knowledgeable', 'compassionate', 'gold', 'standard', 'family', 'physician', 'treat', 'patients!Always', 'friendly', 'Listens', 'takes', 'time', 'explain', 'answer', 'way', 'easy', 'understand', 'Dr', 'Biorkman', 'knowledgeable', 'doctor', 'offers', 'excellent', 'advice', 'personable', 'doctors', 'I\\x92ve', 'had-', 'ABSOLUTELY', 'FANTASTIC!!I', 'love', 'Dr', 'Biorkman', 'Yesenia', 'great', 'team', 'drive', '40', 'minutes', 'appointments', 'feel', 'rushed', 'active', 'listener', 'feel', 'rushed', 'visit', 'highly', 'recommend', 'Dr', 'B', 'PCP', '30', 'years', 'thorough', 'spend', 'extra', 'time', 'understand', 'concern', 'Dr', 'Biorkman', 'gifted', 'physician', 'cares', 'deeply', 'patients', 'sick', 'years', 'lined', 'specialists', 'needed', 'road', 'recovery', 'included', 'hospitalization', 'days', 'follow', 'appointments', 'regular', 'basis', 'care', 'primary', 'physician', 'communicated', 'regularly', 'professionals', 'taking', 'care', 'grateful', 'Dr.', 'Biorkman', 'Dr', 'Biorkman', 'awesome', 'I\\x92ve', 'going', '20', 'years', 'pleasant', 'funny', 'caring', 'exams', 'thorough', 'insightful', 'easiest', 'he\\x92s', 'worth', 'doctor', 'biorkman', 'years', 's', 'efficient', 'knowledgeable', 'helps', 'issues', 'Dr.', 'Biorkman', 'thorough', 'listens', 'patients', 'recommend', 'A+++', 'best', 'feel', 'lucky', 'found', 'got', 'stress', 'test', 'based', 'triple', 'bypass', 'saved', 'life!!I', 'glad', 'primary', 'physician', 'years', 'didn\\x92t', 'doctor', 'trust', 'Thank', 'dr', 'BiorkmanBest', 'Doctor', 'concerned', 'wellbeing', 'Dr.', 'B', 'years', 'Excellent', 'level', 'detail', 'diagnose', 'issue', 'personable', 'gets', 'root', 'cause', 'treatment', 'options', 'feeling', 'rushed', 'pushed', 'office', 'nurses', 'level', 'professional', 'personal', 'care', 'attitude', 'A+', 'experience', 'Extremely', 'knowledgeable', 'thorough', 'caring', 'set', 'referral', 'specialist', 'follow', 'appointments', 'medications', 'Dr.', 'Biorkmans', 'thorough', 'exams', 'careful', 'listening', 'affability', 'seeing', 'doctor', 'actual', 'treat', 'love', 'Dr', 'Biorkman', 'spends', 'productive', 'time', 'appointments', 'addition', 'personable', 'caring']\n"
     ]
    }
   ],
   "source": [
    "# Create a list of word tokens and remove stop words\n",
    "filtered_words = []\n",
    "for token in doc:\n",
    "    # Remove stop words\n",
    "    if token.is_stop == False and token.is_punct == False:\n",
    "        filtered_words.append(token.text)\n",
    "print(filtered_words)"
   ]
  },
  {
   "cell_type": "code",
   "execution_count": 11,
   "metadata": {},
   "outputs": [
    {
     "name": "stdout",
     "output_type": "stream",
     "text": [
      "['This review is an overdue huge thank you for an extraordinary medical doctor whose care and professionalism helped me even in his absence:I was Dr. Biorkmans patient while in Irvine until 2006, when I moved to N. Cal.', 'When I was diagnosed 7 years ago with a mass, and I feared for my life, I looked in the mirror and asked: \"When would you not be afraid?\"The answer came promptly:', '\"If I saw MY doctor\" (Dr. Biorkman).', 'So even if he does not know, he is still MY doctor - the one I always trusted,had a professional, accurate answer with no drama, got it right every single time, and helped me stay healthy.', 'Having a doctor one trusts is essential.', 'Dr.', 'Biorkman has been our doctor for almost 30 years.', 'He knows our family and cares about our health.', 'He takes his time to listen and provides thoughtful and excellent care to every member of our family.', 'Over the years we have made sure any insurance plan we choose gives us access to Dr. Biorkman., \"Dr. Biorkman has always, and I mean always, listened carefully to my concerns, advised me sagely, and cared about me as a person.', 'It doesnt matter how large or small my health issue might be, he provides the same comfort and care.\"', ', Professionalism, empathy, listening skills, expertise, and realismare all skills Dr Biorkman has perfected.', 'Dr.', 'Biorkman has always provided great feedback to my healthcare-related inquiries and is both knowledgeable and compassionate.', 'He is and will always be the gold standard for how a family physician should treat patients!Always friendly.', 'Listens and takes time to explain his answer in a way that is easy to understand.', 'Dr Biorkman is not only a very knowledgeable doctor and offers excellent advice, he is one of the most personable doctors I\\x92ve ever', 'had-', 'ABSOLUTELY', 'FANTASTIC!!I love Dr Biorkman and Yesenia', ', they are a great team.', 'I drive 40 minutes for my appointments and never feel rushed.', 'He is an active listener.', 'I never feel rushed at my visit.', 'I would highly recommend.', 'Dr.', 'B had been my PCP for almost 30 years, he has always been very thorough and will spend the extra time to really understand what your concern is.', 'Dr.', 'Biorkman is a gifted physician who cares deeply about his patients.', 'When I became sick a few years back, he lined up all the specialists I needed to put me on the road to recovery, which included hospitalization for several days and follow up appointments on a regular basis.', 'Not only did he take care of me as my primary physician, but he communicated regularly with the other professionals taking care of me.', 'For this, I will always be grateful to Dr. Biorkman.', 'Dr.', 'Biorkman is awesome!', 'I\\x92ve been going to him for over 20 years.', 'He is pleasant, funny and caring.', 'His exams are thorough and insightful.', 'He is not the easiest to get in to see, but he\\x92s worth it.', ', \"I have had doctor biorkman for many many years hes very efficient very knowledgeable and always helps me with my issues\", Dr. Biorkman is very thorough and listens to his patients.', 'I would recommend him to others.', 'He is A+++!', 'Just the best!', 'I feel very lucky to have found him.', 'He got me to get a stress test based on this', 'I had a triple bypass.', 'He may have saved my life!!I am glad that he is my primary physician again after years', 'didn\\x92t see him, he still the same doctor that I can trust.', 'Thank you dr.', 'BiorkmanBest Doctor, very concerned about your wellbeing.', 'I have been with Dr. B for many years.', 'Excellent level of detail to diagnose any issue, very personable, and gets to root cause and treatment options without feeling rushed to get pushed out his office.', 'His nurses have the same level of professional and personal care attitude.', 'A+ experience ...', 'Extremely, knowledgeable, thorough and caring.', 'They also set up referral specialist and follow up appointments and medications.', ', \"Dr. Biorkmans thorough exams, careful listening and affability make seeing this doctor an actual treat.', 'We love him!\", Dr Biorkman always spends productive time with me during my appointments.', 'In addition, he is very personable and caring.']\n"
     ]
    }
   ],
   "source": [
    "# Create the pipeline 'sentencizer' component\n",
    "sbd = nlp.create_pipe('sentencizer')\n",
    "\n",
    "# Add the component to the pipeline\n",
    "nlp.add_pipe(sbd)\n",
    "\n",
    "# create list of sentence tokens\n",
    "sents_list = []\n",
    "for sent in doc.sents:\n",
    "    sents_list.append(sent.text)\n",
    "print(sents_list)"
   ]
  },
  {
   "cell_type": "markdown",
   "metadata": {},
   "source": [
    "### Make use of spacy matcher to find patterns"
   ]
  },
  {
   "cell_type": "code",
   "execution_count": 12,
   "metadata": {},
   "outputs": [],
   "source": [
    "from spacy.matcher import Matcher\n",
    "doc = nlp(df.iloc[1, 1])\n",
    "matcher = Matcher(nlp.vocab)\n",
    "p1 = [{'ORTH': 'Dr.', 'OP': '*'},\n",
    "           {'ENT_TYPE': 'PERSON'},\n",
    "           {'POS': 'ADV', 'OP': '*'},\n",
    "           {'LEMMA': 'be'},\n",
    "           {'POS': 'ADV', 'OP': '*'},\n",
    "           {'POS': 'ADJ'}]\n",
    "p2 = [{'LOWER':{'IN': ['he', 'she']}},\n",
    "           {'POS': 'ADV', 'OP': '*'},\n",
    "           {'LEMMA': 'be'},\n",
    "           {'POS': 'ADV', 'OP': '*'},\n",
    "           {'DEP': 'CARDINAL', 'OP': '*'},\n",
    "           {'POS': 'ADJ'},\n",
    "           {'POS': 'NOUN', 'OP': '*'}]\n",
    "p3 = [{'LOWER':{'IN': ['he', 'she']}},\n",
    "           {'POS': 'ADV', 'OP': '*'},\n",
    "           {'POS': 'VERB'},\n",
    "           {'DEP': 'TRUE', 'OP': '*'},\n",
    "           {'POS': 'ADJ', 'OP': '*'},\n",
    "           {'POS': 'NOUN'}]\n",
    "p4 = [{'ORTH': 'Dr.', 'OP': '*'},\n",
    "           {'ENT_TYPE': 'PERSON'},\n",
    "           {'POS': 'ADV', 'OP': '*'},\n",
    "           {'LEMMA': 'be'},\n",
    "           {'POS': 'ADV', 'OP': '*'},\n",
    "           {'POS': 'ADJ', 'OP': '+'},\n",
    "           {'ORTH': 'and', 'OP': '*'},\n",
    "           {}]\n",
    "p5 = [{'POS': 'NOUN'},\n",
    "           {'LEMMA': 'be'},\n",
    "           {'POS': 'ADV', 'OP': '*'},\n",
    "           {'POS': 'ADJ'},\n",
    "           {'ORTH': ',', 'OP': '*'},\n",
    "           {'POS': 'ADV', 'OP': '*'},\n",
    "           {'POS': 'ADJ'},\n",
    "           {'ORTH': ',', 'OP': '*'},\n",
    "           {'POS': 'ADV', 'OP': '*'},\n",
    "           {'POS': 'ADJ'},\n",
    "           {'ORTH': ', and', 'OP': '*'},\n",
    "           {'POS': 'ADV', 'OP': '*'},\n",
    "           {'POS': 'ADJ'}]\n",
    "p6 = [{'LOWER':{'IN': ['he', 'she']}},\n",
    "           {'LEMMA': 'be'},\n",
    "           {'POS': 'ADJ'},\n",
    "           {'ORTH': ',', 'OP': '?'},\n",
    "           {'POS': 'ADJ', 'OP': '?'},\n",
    "           {'ORTH': ',', 'OP': '?'}, \n",
    "           {'ORTH': 'and', 'OP': '?'},\n",
    "           {'POS': 'ADJ', 'OP': '?'}]\n",
    "patterns = [p1, p2, p3, p4, p5, p6]\n",
    "matcher.add(\"review\", None, *patterns)\n",
    "\n",
    "# Store the matched phrases in span_storage\n",
    "span_storage = []\n",
    "for match_id, start, end in matcher(doc):\n",
    "    string_id = nlp.vocab.strings[match_id]  # Get string representation\n",
    "    span = doc[start:end]  # The matched span\n",
    "    span_storage.append(span.text)"
   ]
  },
  {
   "cell_type": "code",
   "execution_count": 13,
   "metadata": {},
   "outputs": [
    {
     "data": {
      "text/plain": [
       "['Richard was very empathic',\n",
       " 'Richard was very empathic and',\n",
       " 'Richard was very empathic and understanding',\n",
       " 'Richard was amazingly kind',\n",
       " 'Richard was amazingly kind and',\n",
       " 'Richard was amazingly kind and patient',\n",
       " 'Dr. McConkie was very thorough',\n",
       " 'McConkie was very thorough',\n",
       " 'Dr. McConkie was very thorough with',\n",
       " 'McConkie was very thorough with',\n",
       " 'McConkie was exceptional',\n",
       " 'McConkie was exceptional.',\n",
       " 'He is compassionate',\n",
       " 'He is compassionate,',\n",
       " 'He is compassionate, professional',\n",
       " 'He is compassionate, professional and',\n",
       " 'He is compassionate, professional and knowledgeable',\n",
       " 'Richard is really good',\n",
       " 'Richard is really good at']"
      ]
     },
     "execution_count": 13,
     "metadata": {},
     "output_type": "execute_result"
    }
   ],
   "source": [
    "span_storage"
   ]
  },
  {
   "cell_type": "code",
   "execution_count": 14,
   "metadata": {},
   "outputs": [],
   "source": [
    "# Create a matrix storing the semantic similarity of every two phrases in sim_table\n",
    "import numpy as np\n",
    "sim_table = []\n",
    "for doc1 in span_storage:\n",
    "    for doc2 in span_storage:\n",
    "        sim_table.append(nlp(doc1).similarity(nlp(doc2)))\n",
    "sim_table = np.array(sim_table).astype(float).reshape(len(span_storage), len(span_storage))       "
   ]
  },
  {
   "cell_type": "code",
   "execution_count": 15,
   "metadata": {},
   "outputs": [],
   "source": [
    "# Convert the matrix to DataFrame for a better visualization\n",
    "import pandas as pd\n",
    "sim_table = pd.DataFrame(data=sim_table, columns=span_storage, index=span_storage)"
   ]
  },
  {
   "cell_type": "code",
   "execution_count": 16,
   "metadata": {},
   "outputs": [
    {
     "data": {
      "text/html": [
       "<div>\n",
       "<style scoped>\n",
       "    .dataframe tbody tr th:only-of-type {\n",
       "        vertical-align: middle;\n",
       "    }\n",
       "\n",
       "    .dataframe tbody tr th {\n",
       "        vertical-align: top;\n",
       "    }\n",
       "\n",
       "    .dataframe thead th {\n",
       "        text-align: right;\n",
       "    }\n",
       "</style>\n",
       "<table border=\"1\" class=\"dataframe\">\n",
       "  <thead>\n",
       "    <tr style=\"text-align: right;\">\n",
       "      <th></th>\n",
       "      <th>Richard was very empathic</th>\n",
       "      <th>Richard was very empathic and</th>\n",
       "      <th>Richard was very empathic and understanding</th>\n",
       "      <th>Richard was amazingly kind</th>\n",
       "      <th>Richard was amazingly kind and</th>\n",
       "      <th>Richard was amazingly kind and patient</th>\n",
       "      <th>Dr. McConkie was very thorough</th>\n",
       "      <th>McConkie was very thorough</th>\n",
       "      <th>Dr. McConkie was very thorough with</th>\n",
       "      <th>McConkie was very thorough with</th>\n",
       "      <th>McConkie was exceptional</th>\n",
       "      <th>McConkie was exceptional.</th>\n",
       "      <th>He is compassionate</th>\n",
       "      <th>He is compassionate,</th>\n",
       "      <th>He is compassionate, professional</th>\n",
       "      <th>He is compassionate, professional and</th>\n",
       "      <th>He is compassionate, professional and knowledgeable</th>\n",
       "      <th>Richard is really good</th>\n",
       "      <th>Richard is really good at</th>\n",
       "    </tr>\n",
       "  </thead>\n",
       "  <tbody>\n",
       "    <tr>\n",
       "      <th>Richard was very empathic</th>\n",
       "      <td>1.000000</td>\n",
       "      <td>0.968968</td>\n",
       "      <td>0.934621</td>\n",
       "      <td>0.862182</td>\n",
       "      <td>0.838039</td>\n",
       "      <td>0.830251</td>\n",
       "      <td>0.768914</td>\n",
       "      <td>0.728817</td>\n",
       "      <td>0.755126</td>\n",
       "      <td>0.711325</td>\n",
       "      <td>0.642493</td>\n",
       "      <td>0.636033</td>\n",
       "      <td>0.687397</td>\n",
       "      <td>0.665980</td>\n",
       "      <td>0.654049</td>\n",
       "      <td>0.651136</td>\n",
       "      <td>0.651739</td>\n",
       "      <td>0.793777</td>\n",
       "      <td>0.762364</td>\n",
       "    </tr>\n",
       "    <tr>\n",
       "      <th>Richard was very empathic and</th>\n",
       "      <td>0.968968</td>\n",
       "      <td>1.000000</td>\n",
       "      <td>0.971865</td>\n",
       "      <td>0.870100</td>\n",
       "      <td>0.900403</td>\n",
       "      <td>0.891078</td>\n",
       "      <td>0.793269</td>\n",
       "      <td>0.771259</td>\n",
       "      <td>0.808346</td>\n",
       "      <td>0.783203</td>\n",
       "      <td>0.693878</td>\n",
       "      <td>0.703229</td>\n",
       "      <td>0.727726</td>\n",
       "      <td>0.727142</td>\n",
       "      <td>0.719464</td>\n",
       "      <td>0.750835</td>\n",
       "      <td>0.739513</td>\n",
       "      <td>0.818753</td>\n",
       "      <td>0.795180</td>\n",
       "    </tr>\n",
       "    <tr>\n",
       "      <th>Richard was very empathic and understanding</th>\n",
       "      <td>0.934621</td>\n",
       "      <td>0.971865</td>\n",
       "      <td>1.000000</td>\n",
       "      <td>0.829036</td>\n",
       "      <td>0.866894</td>\n",
       "      <td>0.877677</td>\n",
       "      <td>0.794047</td>\n",
       "      <td>0.788057</td>\n",
       "      <td>0.814128</td>\n",
       "      <td>0.802807</td>\n",
       "      <td>0.692426</td>\n",
       "      <td>0.706004</td>\n",
       "      <td>0.755704</td>\n",
       "      <td>0.749318</td>\n",
       "      <td>0.752639</td>\n",
       "      <td>0.780610</td>\n",
       "      <td>0.779111</td>\n",
       "      <td>0.803617</td>\n",
       "      <td>0.782999</td>\n",
       "    </tr>\n",
       "    <tr>\n",
       "      <th>Richard was amazingly kind</th>\n",
       "      <td>0.862182</td>\n",
       "      <td>0.870100</td>\n",
       "      <td>0.829036</td>\n",
       "      <td>1.000000</td>\n",
       "      <td>0.973329</td>\n",
       "      <td>0.920910</td>\n",
       "      <td>0.803244</td>\n",
       "      <td>0.781206</td>\n",
       "      <td>0.799558</td>\n",
       "      <td>0.771587</td>\n",
       "      <td>0.732172</td>\n",
       "      <td>0.728514</td>\n",
       "      <td>0.690763</td>\n",
       "      <td>0.692774</td>\n",
       "      <td>0.679183</td>\n",
       "      <td>0.687295</td>\n",
       "      <td>0.671169</td>\n",
       "      <td>0.887896</td>\n",
       "      <td>0.853151</td>\n",
       "    </tr>\n",
       "    <tr>\n",
       "      <th>Richard was amazingly kind and</th>\n",
       "      <td>0.838039</td>\n",
       "      <td>0.900403</td>\n",
       "      <td>0.866894</td>\n",
       "      <td>0.973329</td>\n",
       "      <td>1.000000</td>\n",
       "      <td>0.953058</td>\n",
       "      <td>0.809739</td>\n",
       "      <td>0.803016</td>\n",
       "      <td>0.832595</td>\n",
       "      <td>0.820888</td>\n",
       "      <td>0.758224</td>\n",
       "      <td>0.769506</td>\n",
       "      <td>0.718681</td>\n",
       "      <td>0.737549</td>\n",
       "      <td>0.728503</td>\n",
       "      <td>0.768081</td>\n",
       "      <td>0.742994</td>\n",
       "      <td>0.885445</td>\n",
       "      <td>0.859264</td>\n",
       "    </tr>\n",
       "  </tbody>\n",
       "</table>\n",
       "</div>"
      ],
      "text/plain": [
       "                                             Richard was very empathic  \\\n",
       "Richard was very empathic                                     1.000000   \n",
       "Richard was very empathic and                                 0.968968   \n",
       "Richard was very empathic and understanding                   0.934621   \n",
       "Richard was amazingly kind                                    0.862182   \n",
       "Richard was amazingly kind and                                0.838039   \n",
       "\n",
       "                                             Richard was very empathic and  \\\n",
       "Richard was very empathic                                         0.968968   \n",
       "Richard was very empathic and                                     1.000000   \n",
       "Richard was very empathic and understanding                       0.971865   \n",
       "Richard was amazingly kind                                        0.870100   \n",
       "Richard was amazingly kind and                                    0.900403   \n",
       "\n",
       "                                             Richard was very empathic and understanding  \\\n",
       "Richard was very empathic                                                       0.934621   \n",
       "Richard was very empathic and                                                   0.971865   \n",
       "Richard was very empathic and understanding                                     1.000000   \n",
       "Richard was amazingly kind                                                      0.829036   \n",
       "Richard was amazingly kind and                                                  0.866894   \n",
       "\n",
       "                                             Richard was amazingly kind  \\\n",
       "Richard was very empathic                                      0.862182   \n",
       "Richard was very empathic and                                  0.870100   \n",
       "Richard was very empathic and understanding                    0.829036   \n",
       "Richard was amazingly kind                                     1.000000   \n",
       "Richard was amazingly kind and                                 0.973329   \n",
       "\n",
       "                                             Richard was amazingly kind and  \\\n",
       "Richard was very empathic                                          0.838039   \n",
       "Richard was very empathic and                                      0.900403   \n",
       "Richard was very empathic and understanding                        0.866894   \n",
       "Richard was amazingly kind                                         0.973329   \n",
       "Richard was amazingly kind and                                     1.000000   \n",
       "\n",
       "                                             Richard was amazingly kind and patient  \\\n",
       "Richard was very empathic                                                  0.830251   \n",
       "Richard was very empathic and                                              0.891078   \n",
       "Richard was very empathic and understanding                                0.877677   \n",
       "Richard was amazingly kind                                                 0.920910   \n",
       "Richard was amazingly kind and                                             0.953058   \n",
       "\n",
       "                                             Dr. McConkie was very thorough  \\\n",
       "Richard was very empathic                                          0.768914   \n",
       "Richard was very empathic and                                      0.793269   \n",
       "Richard was very empathic and understanding                        0.794047   \n",
       "Richard was amazingly kind                                         0.803244   \n",
       "Richard was amazingly kind and                                     0.809739   \n",
       "\n",
       "                                             McConkie was very thorough  \\\n",
       "Richard was very empathic                                      0.728817   \n",
       "Richard was very empathic and                                  0.771259   \n",
       "Richard was very empathic and understanding                    0.788057   \n",
       "Richard was amazingly kind                                     0.781206   \n",
       "Richard was amazingly kind and                                 0.803016   \n",
       "\n",
       "                                             Dr. McConkie was very thorough with  \\\n",
       "Richard was very empathic                                               0.755126   \n",
       "Richard was very empathic and                                           0.808346   \n",
       "Richard was very empathic and understanding                             0.814128   \n",
       "Richard was amazingly kind                                              0.799558   \n",
       "Richard was amazingly kind and                                          0.832595   \n",
       "\n",
       "                                             McConkie was very thorough with  \\\n",
       "Richard was very empathic                                           0.711325   \n",
       "Richard was very empathic and                                       0.783203   \n",
       "Richard was very empathic and understanding                         0.802807   \n",
       "Richard was amazingly kind                                          0.771587   \n",
       "Richard was amazingly kind and                                      0.820888   \n",
       "\n",
       "                                             McConkie was exceptional  \\\n",
       "Richard was very empathic                                    0.642493   \n",
       "Richard was very empathic and                                0.693878   \n",
       "Richard was very empathic and understanding                  0.692426   \n",
       "Richard was amazingly kind                                   0.732172   \n",
       "Richard was amazingly kind and                               0.758224   \n",
       "\n",
       "                                             McConkie was exceptional.  \\\n",
       "Richard was very empathic                                     0.636033   \n",
       "Richard was very empathic and                                 0.703229   \n",
       "Richard was very empathic and understanding                   0.706004   \n",
       "Richard was amazingly kind                                    0.728514   \n",
       "Richard was amazingly kind and                                0.769506   \n",
       "\n",
       "                                             He is compassionate  \\\n",
       "Richard was very empathic                               0.687397   \n",
       "Richard was very empathic and                           0.727726   \n",
       "Richard was very empathic and understanding             0.755704   \n",
       "Richard was amazingly kind                              0.690763   \n",
       "Richard was amazingly kind and                          0.718681   \n",
       "\n",
       "                                             He is compassionate,  \\\n",
       "Richard was very empathic                                0.665980   \n",
       "Richard was very empathic and                            0.727142   \n",
       "Richard was very empathic and understanding              0.749318   \n",
       "Richard was amazingly kind                               0.692774   \n",
       "Richard was amazingly kind and                           0.737549   \n",
       "\n",
       "                                             He is compassionate, professional  \\\n",
       "Richard was very empathic                                             0.654049   \n",
       "Richard was very empathic and                                         0.719464   \n",
       "Richard was very empathic and understanding                           0.752639   \n",
       "Richard was amazingly kind                                            0.679183   \n",
       "Richard was amazingly kind and                                        0.728503   \n",
       "\n",
       "                                             He is compassionate, professional and  \\\n",
       "Richard was very empathic                                                 0.651136   \n",
       "Richard was very empathic and                                             0.750835   \n",
       "Richard was very empathic and understanding                               0.780610   \n",
       "Richard was amazingly kind                                                0.687295   \n",
       "Richard was amazingly kind and                                            0.768081   \n",
       "\n",
       "                                             He is compassionate, professional and knowledgeable  \\\n",
       "Richard was very empathic                                                               0.651739   \n",
       "Richard was very empathic and                                                           0.739513   \n",
       "Richard was very empathic and understanding                                             0.779111   \n",
       "Richard was amazingly kind                                                              0.671169   \n",
       "Richard was amazingly kind and                                                          0.742994   \n",
       "\n",
       "                                             Richard is really good  \\\n",
       "Richard was very empathic                                  0.793777   \n",
       "Richard was very empathic and                              0.818753   \n",
       "Richard was very empathic and understanding                0.803617   \n",
       "Richard was amazingly kind                                 0.887896   \n",
       "Richard was amazingly kind and                             0.885445   \n",
       "\n",
       "                                             Richard is really good at  \n",
       "Richard was very empathic                                     0.762364  \n",
       "Richard was very empathic and                                 0.795180  \n",
       "Richard was very empathic and understanding                   0.782999  \n",
       "Richard was amazingly kind                                    0.853151  \n",
       "Richard was amazingly kind and                                0.859264  "
      ]
     },
     "execution_count": 16,
     "metadata": {},
     "output_type": "execute_result"
    }
   ],
   "source": [
    "sim_table.head()"
   ]
  },
  {
   "cell_type": "markdown",
   "metadata": {},
   "source": [
    "### From my observation, all extracted reviews that are from a same sentence (for example: 'Richard was amazingly kind', 'Richard was amazingly kind and', and 'Richard was amazingly kind and patient' have at least 90% semantic similarity. Thus, I will group those with at least 91% semantic similarity together and only keep the longest one among them."
   ]
  },
  {
   "cell_type": "code",
   "execution_count": 17,
   "metadata": {},
   "outputs": [],
   "source": [
    "# Convert sim_table back to numpy format\n",
    "sim_table = sim_table.to_numpy()"
   ]
  },
  {
   "cell_type": "code",
   "execution_count": 18,
   "metadata": {},
   "outputs": [],
   "source": [
    "'''This function is to add all float numbers which have values equal or greater than a threshold into a same set'''\n",
    "def similar_phrases(j, a_list, threshold=.91):\n",
    "    group = set()\n",
    "    for i in range(len(a_list)):\n",
    "        if a_list[i] >= threshold:\n",
    "            group.add(i)\n",
    "    return group"
   ]
  },
  {
   "cell_type": "code",
   "execution_count": 19,
   "metadata": {},
   "outputs": [
    {
     "name": "stdout",
     "output_type": "stream",
     "text": [
      "[[1.         0.96896847 0.93462086 0.86218214 0.83803926 0.83025121\n",
      "  0.76891442 0.72881661 0.75512585 0.71132539 0.6424933  0.63603267\n",
      "  0.68739728 0.66598042 0.6540486  0.65113646 0.65173863 0.79377731\n",
      "  0.7623641 ]\n",
      " [0.96896847 1.         0.97186464 0.87009984 0.90040294 0.89107801\n",
      "  0.79326887 0.77125891 0.80834557 0.78320344 0.69387805 0.70322945\n",
      "  0.72772649 0.72714238 0.719464   0.75083476 0.73951341 0.81875262\n",
      "  0.79518046]\n",
      " [0.93462086 0.97186464 1.         0.82903617 0.86689408 0.87767714\n",
      "  0.79404704 0.78805688 0.81412771 0.80280706 0.69242626 0.70600368\n",
      "  0.75570364 0.74931773 0.75263932 0.78060981 0.77911148 0.80361706\n",
      "  0.78299883]\n",
      " [0.86218214 0.87009984 0.82903617 1.         0.97332895 0.92091002\n",
      "  0.80324364 0.78120552 0.79955808 0.77158698 0.73217249 0.72851399\n",
      "  0.69076317 0.69277411 0.67918256 0.68729487 0.67116855 0.88789601\n",
      "  0.85315085]\n",
      " [0.83803926 0.90040294 0.86689408 0.97332895 1.         0.95305769\n",
      "  0.80973908 0.80301555 0.83259464 0.82088773 0.75822376 0.76950617\n",
      "  0.71868141 0.73754931 0.72850287 0.76808086 0.74299396 0.88544507\n",
      "  0.85926445]\n",
      " [0.83025121 0.89107801 0.87767714 0.92091002 0.95305769 1.\n",
      "  0.83342567 0.81540014 0.85963946 0.83888522 0.75036395 0.76313298\n",
      "  0.76121279 0.76757595 0.76622111 0.79885654 0.78345094 0.84105109\n",
      "  0.82282064]\n",
      " [0.76891442 0.79326887 0.79404704 0.80324364 0.80973908 0.83342567\n",
      "  1.         0.9256048  0.97426485 0.89797226 0.72303257 0.72533845\n",
      "  0.6957703  0.69831179 0.71131994 0.71751301 0.73088852 0.75375924\n",
      "  0.73701278]\n",
      " [0.72881661 0.77125891 0.78805688 0.78120552 0.80301555 0.81540014\n",
      "  0.9256048  1.         0.91847411 0.96751408 0.79546671 0.78328464\n",
      "  0.7157073  0.71494872 0.73827142 0.75011375 0.76456189 0.7317241\n",
      "  0.727157  ]\n",
      " [0.75512585 0.80834557 0.81412771 0.79955808 0.83259464 0.85963946\n",
      "  0.97426485 0.91847411 1.         0.94661519 0.74800994 0.7573156\n",
      "  0.71071106 0.71890632 0.73773557 0.7604701  0.76511263 0.76207082\n",
      "  0.75385615]\n",
      " [0.71132539 0.78320344 0.80280706 0.77158698 0.82088773 0.83888522\n",
      "  0.89797226 0.96751408 0.94661519 1.         0.80241829 0.80084073\n",
      "  0.72102738 0.72730186 0.7552565  0.78491369 0.78902579 0.73640102\n",
      "  0.73957485]\n",
      " [0.6424933  0.69387805 0.69242626 0.73217249 0.75822376 0.75036395\n",
      "  0.72303257 0.79546671 0.74800994 0.80241829 1.         0.91992263\n",
      "  0.68082286 0.68285133 0.72005755 0.73177454 0.72606915 0.65884817\n",
      "  0.667691  ]\n",
      " [0.63603267 0.70322945 0.70600368 0.72851399 0.76950617 0.76313298\n",
      "  0.72533845 0.78328464 0.7573156  0.80084073 0.91992263 1.\n",
      "  0.69013663 0.72012877 0.74809188 0.76719922 0.746861   0.68796315\n",
      "  0.71031171]\n",
      " [0.68739728 0.72772649 0.75570364 0.69076317 0.71868141 0.76121279\n",
      "  0.6957703  0.7157073  0.71071106 0.72102738 0.68082286 0.69013663\n",
      "  1.         0.95614763 0.91791033 0.9001034  0.88129934 0.6976901\n",
      "  0.6816748 ]\n",
      " [0.66598042 0.72714238 0.74931773 0.69277411 0.73754931 0.76757595\n",
      "  0.69831179 0.71494872 0.71890632 0.72730186 0.68285133 0.72012877\n",
      "  0.95614763 1.         0.95474952 0.94531949 0.91342995 0.70021185\n",
      "  0.70125082]\n",
      " [0.6540486  0.719464   0.75263932 0.67918256 0.72850287 0.76622111\n",
      "  0.71131994 0.73827142 0.73773557 0.7552565  0.72005755 0.74809188\n",
      "  0.91791033 0.95474952 1.         0.98650479 0.97450035 0.69385026\n",
      "  0.69204712]\n",
      " [0.65113646 0.75083476 0.78060981 0.68729487 0.76808086 0.79885654\n",
      "  0.71751301 0.75011375 0.7604701  0.78491369 0.73177454 0.76719922\n",
      "  0.9001034  0.94531949 0.98650479 1.         0.98076496 0.70545231\n",
      "  0.70638252]\n",
      " [0.65173863 0.73951341 0.77911148 0.67116855 0.74299396 0.78345094\n",
      "  0.73088852 0.76456189 0.76511263 0.78902579 0.72606915 0.746861\n",
      "  0.88129934 0.91342995 0.97450035 0.98076496 1.         0.68344924\n",
      "  0.68354086]\n",
      " [0.79377731 0.81875262 0.80361706 0.88789601 0.88544507 0.84105109\n",
      "  0.75375924 0.7317241  0.76207082 0.73640102 0.65884817 0.68796315\n",
      "  0.6976901  0.70021185 0.69385026 0.70545231 0.68344924 1.\n",
      "  0.95279149]\n",
      " [0.7623641  0.79518046 0.78299883 0.85315085 0.85926445 0.82282064\n",
      "  0.73701278 0.727157   0.75385615 0.73957485 0.667691   0.71031171\n",
      "  0.6816748  0.70125082 0.69204712 0.70638252 0.68354086 0.95279149\n",
      "  1.        ]]\n"
     ]
    }
   ],
   "source": [
    "print(sim_table)"
   ]
  },
  {
   "cell_type": "code",
   "execution_count": 20,
   "metadata": {},
   "outputs": [
    {
     "name": "stdout",
     "output_type": "stream",
     "text": [
      "[{0, 1, 2}, {3, 4, 5}, {8, 6, 7}, {8, 9, 6, 7}, {8, 9, 7}, {10, 11}, {12, 13, 14}, {12, 13, 14, 15, 16}, {16, 13, 14, 15}, {17, 18}]\n"
     ]
    }
   ],
   "source": [
    "# Create a list storing sets of indices of strings in span_storage that are likely from a same sentence. \n",
    "j = 0\n",
    "indices = []\n",
    "for i in sim_table:\n",
    "    if similar_phrases(j, i) not in indices:\n",
    "        indices.append(similar_phrases(j, i))\n",
    "        j += 1\n",
    "print(indices)"
   ]
  },
  {
   "cell_type": "code",
   "execution_count": 21,
   "metadata": {},
   "outputs": [
    {
     "data": {
      "text/plain": [
       "['Richard was very empathic',\n",
       " 'Richard was very empathic and',\n",
       " 'Richard was very empathic and understanding',\n",
       " 'Richard was amazingly kind',\n",
       " 'Richard was amazingly kind and',\n",
       " 'Richard was amazingly kind and patient',\n",
       " 'Dr. McConkie was very thorough',\n",
       " 'McConkie was very thorough',\n",
       " 'Dr. McConkie was very thorough with',\n",
       " 'McConkie was very thorough with',\n",
       " 'McConkie was exceptional',\n",
       " 'McConkie was exceptional.',\n",
       " 'He is compassionate',\n",
       " 'He is compassionate,',\n",
       " 'He is compassionate, professional',\n",
       " 'He is compassionate, professional and',\n",
       " 'He is compassionate, professional and knowledgeable',\n",
       " 'Richard is really good',\n",
       " 'Richard is really good at']"
      ]
     },
     "execution_count": 21,
     "metadata": {},
     "output_type": "execute_result"
    }
   ],
   "source": [
    "span_storage"
   ]
  },
  {
   "cell_type": "code",
   "execution_count": 22,
   "metadata": {},
   "outputs": [],
   "source": [
    "'''This function is to create a list of sets that are subsets of other sets from a list'''\n",
    "def clean_subsets(my_list):\n",
    "    remove_list = []\n",
    "    for i in range(len(my_list)-1):\n",
    "        if i < len(my_list) and my_list[i].issubset(my_list[i+1]):\n",
    "            remove_list.append(my_list[i])\n",
    "    for i in range(len(my_list)-1, -1, -1):\n",
    "        if i > 0 and my_list[i].issubset(my_list[i-1]):\n",
    "            remove_list.append(my_list[i])  \n",
    "    return remove_list"
   ]
  },
  {
   "cell_type": "code",
   "execution_count": 23,
   "metadata": {},
   "outputs": [],
   "source": [
    "# Create a list to remove sets that are subsets of some sets  \n",
    "remove_list = clean_subsets(indices)\n",
    "# Clean the         \n",
    "for i in remove_list:\n",
    "    indices.remove(i)"
   ]
  },
  {
   "cell_type": "code",
   "execution_count": 24,
   "metadata": {},
   "outputs": [
    {
     "data": {
      "text/plain": [
       "[{0, 1, 2}, {3, 4, 5}, {6, 7, 8, 9}, {10, 11}, {12, 13, 14, 15, 16}, {17, 18}]"
      ]
     },
     "execution_count": 24,
     "metadata": {},
     "output_type": "execute_result"
    }
   ],
   "source": [
    "# Have a look at updated indices from span_storage\n",
    "indices"
   ]
  },
  {
   "cell_type": "code",
   "execution_count": 25,
   "metadata": {},
   "outputs": [],
   "source": [
    "# Retain the longest phrase from a set of phrases that are likely from a same sentence\n",
    "meaningful_phrases = []\n",
    "for sublist in indices:\n",
    "    max_length = 0\n",
    "    max_str = ''\n",
    "    for phrase_index in sublist:\n",
    "        if max_length < len(span_storage[phrase_index]):\n",
    "            max_length = len(span_storage[phrase_index])\n",
    "            max_str = span_storage[phrase_index]\n",
    "    meaningful_phrases.append(max_str)"
   ]
  },
  {
   "cell_type": "code",
   "execution_count": 26,
   "metadata": {},
   "outputs": [
    {
     "data": {
      "text/plain": [
       "['Richard was very empathic and understanding',\n",
       " 'Richard was amazingly kind and patient',\n",
       " 'Dr. McConkie was very thorough with',\n",
       " 'McConkie was exceptional.',\n",
       " 'He is compassionate, professional and knowledgeable',\n",
       " 'Richard is really good at']"
      ]
     },
     "execution_count": 26,
     "metadata": {},
     "output_type": "execute_result"
    }
   ],
   "source": [
    "meaningful_phrases"
   ]
  },
  {
   "cell_type": "markdown",
   "metadata": {},
   "source": [
    "## Limitation:\n",
    "The data set is not huge enough to have multiple reviews for a same doctor. Thus,\n",
    "we cannot create a list of reviews from so many patients for a specific doctors and extract meaningful phrases aboout him / her."
   ]
  },
  {
   "cell_type": "markdown",
   "metadata": {},
   "source": [
    "## Future extension:\n",
    "When we have collected a huge amount of data, we can\n",
    "* Create a list of reviews from so many patients for a specific doctors and extract meaningful phrases about him / her.\n",
    "* Classify one review as positive or negative\n",
    "* Create a rating system based on the number of positive / negative words / phrases from the review (a little different from Amazon's)."
   ]
  }
 ],
 "metadata": {
  "colab": {
   "authorship_tag": "ABX9TyMbEnKYRaahqst5xJ2q5/Ms",
   "collapsed_sections": [],
   "name": "Extract from zocdoc.ipynb",
   "provenance": []
  },
  "kernelspec": {
   "display_name": "Python 3",
   "language": "python",
   "name": "python3"
  },
  "language_info": {
   "codemirror_mode": {
    "name": "ipython",
    "version": 3
   },
   "file_extension": ".py",
   "mimetype": "text/x-python",
   "name": "python",
   "nbconvert_exporter": "python",
   "pygments_lexer": "ipython3",
   "version": "3.7.9"
  }
 },
 "nbformat": 4,
 "nbformat_minor": 4
}
