{
 "cells": [
  {
   "cell_type": "code",
   "execution_count": 1,
   "id": "77796dba-23a1-49df-9973-370a08e56bad",
   "metadata": {},
   "outputs": [],
   "source": [
    "%load_ext lab_black"
   ]
  },
  {
   "cell_type": "code",
   "execution_count": 2,
   "id": "pleasant-manchester",
   "metadata": {},
   "outputs": [],
   "source": [
    "from dataclasses import dataclass\n",
    "import re\n",
    "\n",
    "\n",
    "@dataclass  # This decorator helps save time from initializing constructor\n",
    "class Flash_card:\n",
    "    \"\"\"This contains a question, its demonstration, possible choices, and correct answers out of the choices\"\"\"\n",
    "\n",
    "    question: str\n",
    "    demo: str\n",
    "    choices: list\n",
    "    correct_choices: list\n",
    "\n",
    "    # Shuffle all choices\n",
    "    def shuffle_choices(self):\n",
    "        np.random.shuffle(self.choices)"
   ]
  },
  {
   "cell_type": "code",
   "execution_count": 3,
   "id": "abroad-timing",
   "metadata": {},
   "outputs": [],
   "source": [
    "from termcolor import colored\n",
    "import numpy as np\n",
    "\n",
    "\n",
    "class Folder:\n",
    "    \"\"\"This contains multiple flash cards\"\"\"\n",
    "\n",
    "    my_flash = list()\n",
    "    correct: int = 0\n",
    "\n",
    "    def total_score(self):\n",
    "        \"\"\"This prints the percentage of correct answers\"\"\"\n",
    "        try:\n",
    "            print(f\"You get {self.correct * 100 / len(self.my_flash):.2f}%\")\n",
    "        except:\n",
    "            print(\"You have to have at least one question\")\n",
    "\n",
    "    def learn(self):\n",
    "        \"\"\"The user chooses correct answer(s) by typing a, b, c, etc. (lower case) and hit enter\"\"\"\n",
    "        # Shuffle order of questions\n",
    "        np.random.shuffle(self.my_flash)\n",
    "        for i, flash in enumerate(self.my_flash, 1):\n",
    "            print(colored(f\"Q{i}. {flash.question}\", \"blue\"))  # Print question\n",
    "            if flash.demo:\n",
    "                print(flash.demo.strip())  # Print question demonstration\n",
    "            # Shuffle choices\n",
    "            flash.shuffle_choices()\n",
    "            for index, c in enumerate(flash.choices):\n",
    "                print(\n",
    "                    colored(f\"{chr(index+97)}. {c}\", \"magenta\")\n",
    "                )  # Print possible choices\n",
    "            answers = []\n",
    "            for j, _ in enumerate(flash.correct_choices, 1):\n",
    "                answer = input(\n",
    "                    f\"Choose answer {j} of {len(flash.correct_choices)}\"\n",
    "                )  # Prompt the user to choose correct answer(s)\n",
    "                while (\n",
    "                    len(answer) != 1\n",
    "                    or ord(answer) - 97 < 0\n",
    "                    or ord(answer) - 97 >= len(flash.choices)\n",
    "                ):  # Make sure they choose a, b, c, etc. only\n",
    "                    answer = input(\n",
    "                        f\"Choose your answer between {chr(97)} and {chr(96 + len(flash.choices))}\"\n",
    "                    )\n",
    "                answers.append(flash.choices[ord(answer) - 97])\n",
    "            if sorted(answers) == sorted(flash.correct_choices):  # Correct answer(s)\n",
    "                print(\"Correct!\")\n",
    "                self.correct += 1\n",
    "            else:  # Incorrect answer(s)\n",
    "                print(colored(f\"Wrong! Correct choice should be: \", \"yellow\"), end=\"\")\n",
    "                print(colored(\"\\n\".join(flash.correct_choices), \"red\"))\n",
    "            print()\n",
    "        self.total_score()"
   ]
  },
  {
   "cell_type": "code",
   "execution_count": 4,
   "id": "sticky-honolulu",
   "metadata": {},
   "outputs": [],
   "source": [
    "def read_a_file(file_path: str, choice_pattern: str, correct_pattern: str) -> Folder:\n",
    "    \"\"\"This reads a text file and returns a Folder instance\"\"\"\n",
    "    doc = Folder()\n",
    "    q_stage, d_stage = False, False\n",
    "    with open(file_path, \"r\") as f:\n",
    "        q, demo, correct_choices, choices = \"\", \"\", [], []\n",
    "        for l in f:\n",
    "            if not q_stage:  # Add question\n",
    "                q = re.split(\"\\.\", l)[1].strip()\n",
    "                q_stage = True\n",
    "            elif (\n",
    "                q_stage and not d_stage and not l.strip().startswith(choice_pattern)\n",
    "            ):  # Add question demonstration\n",
    "                if l.strip() != \"\":\n",
    "                    demo += l\n",
    "            elif q_stage and l.strip().startswith(choice_pattern):\n",
    "                d_stage = True\n",
    "                if l.strip().startswith(correct_pattern):\n",
    "                    correct_choices.append(\n",
    "                        l.split(\"]\", 1)[1].strip()\n",
    "                    )  # Add correct answers\n",
    "                choices.append(l.split(\"]\", 1)[1].strip())  # Add pssobile choices\n",
    "            elif l in [\"\\n\", \"\\r\\n\"]:  # Initialize a flash card\n",
    "                a_flash_card = Flash_card(\n",
    "                    question=q,\n",
    "                    demo=demo,\n",
    "                    choices=choices,\n",
    "                    correct_choices=correct_choices,\n",
    "                )\n",
    "                doc.my_flash.append(a_flash_card)\n",
    "                q, demo, correct_choices, choices = \"\", \"\", [], []\n",
    "                q_stage, d_stage = False, False\n",
    "    return doc"
   ]
  },
  {
   "cell_type": "code",
   "execution_count": 5,
   "id": "suspended-philip",
   "metadata": {},
   "outputs": [],
   "source": [
    "def create_a_nicer_file(doc: Folder, filename: str):\n",
    "    \"\"\"\n",
    "    This is to create a nicer Q&A file name from doc a Folder instance\n",
    "    \"\"\"\n",
    "    with open(str(filename), \"w\") as f:\n",
    "        for i, flash in enumerate(doc.my_flash, 1):\n",
    "            f.write(f\"####Q{i}. {flash.question}\\n\")  # Write question\n",
    "            if flash.demo != \"\":  # Write demo if it exists\n",
    "                f.write(flash.demo)\n",
    "            for choice in flash.choices:\n",
    "                if choice in flash.correct_choices:\n",
    "                    f.write(f\"- [x] {choice}\\n\")\n",
    "                else:\n",
    "                    f.write(f\"- [ ] {choice}\\n\")\n",
    "            f.write(\"\\n\")"
   ]
  },
  {
   "cell_type": "code",
   "execution_count": null,
   "id": "impossible-travel",
   "metadata": {
    "tags": []
   },
   "outputs": [
    {
     "name": "stdout",
     "output_type": "stream",
     "text": [
      "K-means is a supervised learning technique that can be used for classification while K-nearest neighbors is an unsupervised learning technique which returns classes of the samples based solely on similarity between samples\n",
      "Given the same data set, K-means always converges to the same solution, regardless of the starting point\n",
      "Check all the ways of initializing K-means\n",
      "Although metrics are available to measure the quality of clustering when we know the true classes, there are no metrics to measure the quality of unsupervised clustering when true classes are not known\n",
      "Pick the two data formats for use in clustering\n",
      "Check the scenario where density-based clustering algorithms like DBSCAN are expected to outperform K-means\n",
      "Check all the components of a basic reinforcement learning model\n",
      "Check all of the following that are associated with\"model-free\" reinforcement learning as opposed to model-based learning?\n",
      "An important aspect in formulating a problem as a Markov process is that the future is conditionally independent of the past giving the current state\n",
      "When you are not sure if your state-action value function is correct, you should always pick the state-action pair of maximum value\n",
      "Reward prediction error is\n",
      "In Q learning, you are updating the action value function, but there are two parameters which control the manner in which this updating occurs\n",
      "Q-learning is primarily used for highly repeatable scenarios\n",
      "\u001b[34mQ1. K-means is a supervised learning technique that can be used for classification while K-nearest neighbors is an unsupervised learning technique which returns classes of the samples based solely on similarity between samples\u001b[0m\n",
      "\u001b[35ma. False\u001b[0m\n",
      "\u001b[35mb. True\u001b[0m\n"
     ]
    }
   ],
   "source": [
    "file_name = \"5215.txt\"\n",
    "doc = read_a_file(file_name, choice_pattern=\"- [\", correct_pattern=\"- [x]\")\n",
    "create_a_nicer_file(doc, file_name.split(\".\", 1)[0] + \"_updated.txt\")\n",
    "doc.learn()"
   ]
  },
  {
   "cell_type": "code",
   "execution_count": null,
   "id": "0ecc8500-ed1c-494e-8d6f-ada986069d54",
   "metadata": {},
   "outputs": [],
   "source": []
  }
 ],
 "metadata": {
  "kernelspec": {
   "display_name": "Python 3 (ipykernel)",
   "language": "python",
   "name": "python3"
  },
  "language_info": {
   "codemirror_mode": {
    "name": "ipython",
    "version": 3
   },
   "file_extension": ".py",
   "mimetype": "text/x-python",
   "name": "python",
   "nbconvert_exporter": "python",
   "pygments_lexer": "ipython3",
   "version": "3.8.12"
  }
 },
 "nbformat": 4,
 "nbformat_minor": 5
}
