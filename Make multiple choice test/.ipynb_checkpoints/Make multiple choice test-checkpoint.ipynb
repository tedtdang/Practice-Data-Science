{
 "cells": [
  {
   "cell_type": "code",
   "execution_count": 1,
   "id": "immune-closer",
   "metadata": {
    "execution": {
     "iopub.execute_input": "2021-04-16T15:08:25.321385Z",
     "iopub.status.busy": "2021-04-16T15:08:25.321385Z",
     "iopub.status.idle": "2021-04-16T15:08:25.339402Z",
     "shell.execute_reply": "2021-04-16T15:08:25.338400Z",
     "shell.execute_reply.started": "2021-04-16T15:08:25.321385Z"
    }
   },
   "outputs": [],
   "source": [
    "from dataclasses import dataclass\n",
    "\n",
    "@dataclass # This decorator helps save time from initializing constructor\n",
    "class Flash_card:\n",
    "    question: str\n",
    "    demo: str\n",
    "    choices: list\n",
    "    correct_choices: list\n",
    "        \n",
    "    # Shuffle all choices\n",
    "    def shuffle_choices(self):\n",
    "        np.random.shuffle(self.choices)   "
   ]
  },
  {
   "cell_type": "code",
   "execution_count": 2,
   "id": "intermediate-founder",
   "metadata": {
    "execution": {
     "iopub.execute_input": "2021-04-16T15:08:25.340402Z",
     "iopub.status.busy": "2021-04-16T15:08:25.340402Z",
     "iopub.status.idle": "2021-04-16T15:08:25.355415Z",
     "shell.execute_reply": "2021-04-16T15:08:25.354414Z",
     "shell.execute_reply.started": "2021-04-16T15:08:25.340402Z"
    }
   },
   "outputs": [
    {
     "ename": "SyntaxError",
     "evalue": "invalid syntax (<ipython-input-2-70365d134b87>, line 23)",
     "output_type": "error",
     "traceback": [
      "\u001b[1;36m  File \u001b[1;32m\"<ipython-input-2-70365d134b87>\"\u001b[1;36m, line \u001b[1;32m23\u001b[0m\n\u001b[1;33m    while len(answer) != 1 orord(answer) - 97 < 0 or ord(answer) - 97 >= len(flash.choices):\u001b[0m\n\u001b[1;37m                               ^\u001b[0m\n\u001b[1;31mSyntaxError\u001b[0m\u001b[1;31m:\u001b[0m invalid syntax\n"
     ]
    }
   ],
   "source": [
    "from termcolor import colored\n",
    "import numpy as np\n",
    "\n",
    "class Folder:\n",
    "    my_flash = list()\n",
    "    correct: int = 0\n",
    "        \n",
    "    def learn(self):\n",
    "        # Shuffle order of questions\n",
    "        np.random.shuffle(self.my_flash)\n",
    "        for i, flash in enumerate(self.my_flash, 1):\n",
    "            print(colored(f'Q{i}. {flash.question}', 'blue'))\n",
    "            if flash.demo:\n",
    "                print(flash.demo.strip())\n",
    "            # Shuffle choices\n",
    "            flash.shuffle_choices()\n",
    "            for index, c in enumerate(flash.choices):\n",
    "                print(colored(f'{chr(index+97)}. {c}', 'magenta'))\n",
    "            answers = []\n",
    "            for j, _ in enumerate(flash.correct_choices, 1):\n",
    "                answer = input(f'Choose answer {j} of {len(flash.correct_choices)}')\n",
    "                # User chooses a, b, c, etc. instead of number\n",
    "                while len(answer) != 1 or ord(answer) - 97 < 0 or ord(answer) - 97 >= len(flash.choices):\n",
    "                    answer = input(f'Choose your answer between {chr(97)} and {chr(96 + len(flash.choices))}')\n",
    "                answers.append(flash.choices[ord(answer) - 97])\n",
    "            if sorted(answers) == sorted(flash.correct_choices):\n",
    "                print('Correct!')\n",
    "                self.correct += 1\n",
    "            else:\n",
    "                print(colored(f'Wrong! Correct choice should be: ', 'yellow'), end='')\n",
    "                print(colored('\\n'.join(flash.correct_choices), 'red'))\n",
    "            print()\n",
    "        print(f'You get {self.correct * 100 / len(self.my_flash):.2f}%')"
   ]
  },
  {
   "cell_type": "code",
   "execution_count": null,
   "id": "operational-berlin",
   "metadata": {
    "execution": {
     "iopub.status.busy": "2021-04-16T15:08:25.356417Z",
     "iopub.status.idle": "2021-04-16T15:08:25.356417Z",
     "shell.execute_reply": "2021-04-16T15:08:25.356417Z"
    }
   },
   "outputs": [],
   "source": [
    "def read_a_file(file_path: str) -> Folder:\n",
    "    doc = Folder()\n",
    "    with open(file_path, 'r') as f:\n",
    "        q, demo, correct_choices, choices = '', '', [], []\n",
    "        for l in f:\n",
    "            if l.startswith('####'):\n",
    "                # Add question\n",
    "                q = l[l.find('.')+1:].strip()\n",
    "            elif l[:3] not in ['###', '- [', '\\n', '\\r\\n']:\n",
    "                demo += l.strip() + '\\n'\n",
    "            elif l.startswith('- ['):\n",
    "                if l.startswith('- [x'):\n",
    "                    correct_choices.append(l[6:].strip())\n",
    "                choices.append(l[5:].strip())\n",
    "            # Detect a blank line\n",
    "            elif l in ['\\n', '\\r\\n']:\n",
    "                a_flash_card = Flash_card(question=q, demo=demo, choices=choices, correct_choices=correct_choices)\n",
    "                doc.my_flash.append(a_flash_card)\n",
    "                q, demo, correct_choices, choices = '', '', [], []\n",
    "    return doc"
   ]
  },
  {
   "cell_type": "code",
   "execution_count": null,
   "id": "weighted-speech",
   "metadata": {
    "execution": {
     "iopub.status.busy": "2021-04-16T15:08:25.358419Z",
     "iopub.status.idle": "2021-04-16T15:08:25.359420Z",
     "shell.execute_reply": "2021-04-16T15:08:25.359420Z"
    }
   },
   "outputs": [],
   "source": [
    "def create_a_nicer_file(doc: Folder, filename: str):\n",
    "    '''\n",
    "    This is to create a nicer Q&A file name from doc a Folder instance\n",
    "    '''\n",
    "    with open(str(filename), 'w') as f:\n",
    "        for i, flash in enumerate(doc.my_flash, 1):\n",
    "            f.write(f'####Q{i}. {flash.question}\\n') # Write question\n",
    "            if flash.demo != '': # Write demo if it exists\n",
    "                f.write(flash.demo)\n",
    "            flash.shuffle_choices() # Shuffle choices\n",
    "            for choice in flash.choices:\n",
    "                if choice in flash.correct_choices:\n",
    "                    f.write(f'- [x] {choice}')\n",
    "                else:\n",
    "                    f.write(f'- [ ] {choice}')\n",
    "            f.write('\\n')"
   ]
  },
  {
   "cell_type": "code",
   "execution_count": null,
   "id": "absolute-stretch",
   "metadata": {
    "execution": {
     "iopub.status.busy": "2021-04-16T15:08:25.360420Z",
     "iopub.status.idle": "2021-04-16T15:08:25.361421Z",
     "shell.execute_reply": "2021-04-16T15:08:25.360420Z"
    }
   },
   "outputs": [],
   "source": [
    "doc = read_a_file('Git.txt')\n",
    "# create_a_nicer_file(doc, 'NoSQL1.txt')\n",
    "doc.learn()"
   ]
  }
 ],
 "metadata": {
  "kernelspec": {
   "display_name": "Python [conda env:gputest] *",
   "language": "python",
   "name": "conda-env-gputest-py"
  },
  "language_info": {
   "codemirror_mode": {
    "name": "ipython",
    "version": 3
   },
   "file_extension": ".py",
   "mimetype": "text/x-python",
   "name": "python",
   "nbconvert_exporter": "python",
   "pygments_lexer": "ipython3",
   "version": "3.7.9"
  }
 },
 "nbformat": 4,
 "nbformat_minor": 5
}
