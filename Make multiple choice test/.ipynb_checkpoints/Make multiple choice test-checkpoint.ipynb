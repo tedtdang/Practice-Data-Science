{
 "cells": [
  {
   "cell_type": "code",
   "execution_count": 1,
   "id": "civic-tonight",
   "metadata": {
    "execution": {
     "iopub.execute_input": "2021-04-25T05:09:01.861576Z",
     "iopub.status.busy": "2021-04-25T05:09:01.861576Z",
     "iopub.status.idle": "2021-04-25T05:09:01.880593Z",
     "shell.execute_reply": "2021-04-25T05:09:01.879592Z",
     "shell.execute_reply.started": "2021-04-25T05:09:01.861576Z"
    }
   },
   "outputs": [],
   "source": [
    "from dataclasses import dataclass\n",
    "\n",
    "@dataclass # This decorator helps save time from initializing constructor\n",
    "class Flash_card:\n",
    "    question: str\n",
    "    demo: str\n",
    "    choices: list\n",
    "    correct_choices: list\n",
    "        \n",
    "    # Shuffle all choices\n",
    "    def shuffle_choices(self):\n",
    "        np.random.shuffle(self.choices)   "
   ]
  },
  {
   "cell_type": "code",
   "execution_count": 2,
   "id": "pleased-yield",
   "metadata": {
    "execution": {
     "iopub.execute_input": "2021-04-25T05:09:01.881594Z",
     "iopub.status.busy": "2021-04-25T05:09:01.881594Z",
     "iopub.status.idle": "2021-04-25T05:09:02.083778Z",
     "shell.execute_reply": "2021-04-25T05:09:02.082774Z",
     "shell.execute_reply.started": "2021-04-25T05:09:01.881594Z"
    }
   },
   "outputs": [],
   "source": [
    "from termcolor import colored\n",
    "import numpy as np\n",
    "\n",
    "class Folder:\n",
    "    my_flash = list()\n",
    "    correct: int = 0\n",
    "        \n",
    "    def learn(self):\n",
    "        # Shuffle order of questions\n",
    "        np.random.shuffle(self.my_flash)\n",
    "        for i, flash in enumerate(self.my_flash, 1):\n",
    "            print(colored(f'Q{i}. {flash.question}', 'blue'))\n",
    "            if flash.demo:\n",
    "                print(flash.demo.strip())\n",
    "            # Shuffle choices\n",
    "            flash.shuffle_choices()\n",
    "            for index, c in enumerate(flash.choices):\n",
    "                print(colored(f'{chr(index+97)}. {c}', 'magenta'))\n",
    "            answers = []\n",
    "            for j, _ in enumerate(flash.correct_choices, 1):\n",
    "                answer = input(f'Choose answer {j} of {len(flash.correct_choices)}')\n",
    "                # User chooses a, b, c, etc. instead of number\n",
    "                while len(answer) != 1 or ord(answer) - 97 < 0 or ord(answer) - 97 >= len(flash.choices):\n",
    "                    answer = input(f'Choose your answer between {chr(97)} and {chr(96 + len(flash.choices))}')\n",
    "                answers.append(flash.choices[ord(answer) - 97])\n",
    "            if sorted(answers) == sorted(flash.correct_choices):\n",
    "                print('Correct!')\n",
    "                self.correct += 1\n",
    "            else:\n",
    "                print(colored(f'Wrong! Correct choice should be: ', 'yellow'), end='')\n",
    "                print(colored('\\n'.join(flash.correct_choices), 'red'))\n",
    "            print()\n",
    "        print(f'You get {self.correct * 100 / len(self.my_flash):.2f}%')"
   ]
  },
  {
   "cell_type": "code",
   "execution_count": 3,
   "id": "helpful-spanish",
   "metadata": {
    "execution": {
     "iopub.execute_input": "2021-04-25T05:09:02.084779Z",
     "iopub.status.busy": "2021-04-25T05:09:02.083778Z",
     "iopub.status.idle": "2021-04-25T05:09:02.100793Z",
     "shell.execute_reply": "2021-04-25T05:09:02.098790Z",
     "shell.execute_reply.started": "2021-04-25T05:09:02.084779Z"
    }
   },
   "outputs": [],
   "source": [
    "def read_a_file(file_path: str, choice_pattern: str, correct_pattern: str) -> Folder:\n",
    "    doc = Folder()\n",
    "    q_stage, d_stage = False, False\n",
    "    with open(file_path, 'r') as f:\n",
    "        q, demo, correct_choices, choices = '', '', [], []\n",
    "        for l in f:\n",
    "            if not q_stage:\n",
    "                # Add question\n",
    "                q = l.split('.', 1)[1].strip()\n",
    "                q_stage = True\n",
    "            elif q_stage and not d_stage and not l.strip().startswith(choice_pattern):\n",
    "                if l.strip() != '':\n",
    "                    demo += l\n",
    "#                 print(f'Demo = {demo}')\n",
    "            elif q_stage and l.strip().startswith(choice_pattern):\n",
    "                d_stage = True\n",
    "                if l.strip().startswith(correct_pattern):\n",
    "                    # Find the position of ']' and append the substring after it\n",
    "                    correct_choices.append(l.split(']', 1)[1].strip())\n",
    "                choices.append(l.split(']', 1)[1].strip())\n",
    "            elif l in ['\\n', '\\r\\n']:\n",
    "                a_flash_card = Flash_card(question=q, demo=demo, choices=choices, correct_choices=correct_choices)\n",
    "                doc.my_flash.append(a_flash_card)\n",
    "                q, demo, correct_choices, choices = '', '', [], []\n",
    "                q_stage, d_stage = False, False\n",
    "    return doc"
   ]
  },
  {
   "cell_type": "code",
   "execution_count": 4,
   "id": "structural-wages",
   "metadata": {
    "execution": {
     "iopub.execute_input": "2021-04-25T05:09:02.103796Z",
     "iopub.status.busy": "2021-04-25T05:09:02.103796Z",
     "iopub.status.idle": "2021-04-25T05:09:02.131821Z",
     "shell.execute_reply": "2021-04-25T05:09:02.130821Z",
     "shell.execute_reply.started": "2021-04-25T05:09:02.103796Z"
    }
   },
   "outputs": [],
   "source": [
    "def create_a_nicer_file(doc: Folder, filename: str):\n",
    "    '''\n",
    "    This is to create a nicer Q&A file name from doc a Folder instance\n",
    "    '''\n",
    "    with open(str(filename), 'w') as f:\n",
    "        for i, flash in enumerate(doc.my_flash, 1):\n",
    "            f.write(f'####Q{i}. {flash.question}\\n') # Write question\n",
    "            if flash.demo != '': # Write demo if it exists\n",
    "                f.write(flash.demo)\n",
    "#             flash.shuffle_choices() # Shuffle choices\n",
    "            for choice in flash.choices:\n",
    "                if choice in flash.correct_choices:\n",
    "                    f.write(f'- [x] {choice}\\n')\n",
    "                else:\n",
    "                    f.write(f'- [ ] {choice}\\n')\n",
    "            f.write('\\n')"
   ]
  },
  {
   "cell_type": "code",
   "execution_count": null,
   "id": "resistant-basement",
   "metadata": {
    "execution": {
     "iopub.execute_input": "2021-04-25T05:09:02.132822Z",
     "iopub.status.busy": "2021-04-25T05:09:02.132822Z"
    }
   },
   "outputs": [
    {
     "name": "stdout",
     "output_type": "stream",
     "text": [
      "\u001b[34mQ1. In the function below, what are **this** and **toThat** examples of?\u001b[0m\n",
      "```swift\n",
      "func add(this x: Int, toThat y: Int)->{}\n",
      "```\n",
      "\u001b[35ma. local terms\u001b[0m\n",
      "\u001b[35mb. none of these answers\u001b[0m\n",
      "\u001b[35mc. argument labels\u001b[0m\n",
      "\u001b[35md. parameters names\u001b[0m\n"
     ]
    },
    {
     "name": "stdin",
     "output_type": "stream",
     "text": [
      "Choose answer 1 of 1 a\n"
     ]
    },
    {
     "name": "stdout",
     "output_type": "stream",
     "text": [
      "\u001b[33mWrong! Correct choice should be: \u001b[0m\u001b[31margument labels\u001b[0m\n",
      "\n",
      "\u001b[34mQ2. What is wrong with this code?\u001b[0m\n",
      "```swift\n",
      "let val = 5.0 + 10\n",
      "```\n",
      "\u001b[35ma. 5.0 and 10 are different types\u001b[0m\n",
      "\u001b[35mb. There is no semicolon\u001b[0m\n",
      "\u001b[35mc. There is nothing wrong with this code\u001b[0m\n",
      "\u001b[35md. val is a constant and cannot be changed\u001b[0m\n"
     ]
    }
   ],
   "source": [
    "file_name = 'Swift.txt'\n",
    "doc = read_a_file(file_name, '- [', '- [x]')\n",
    "# create_a_nicer_file(doc, file_name.split('.', 1)[0] + '_updated.txt')\n",
    "doc.learn()"
   ]
  }
 ],
 "metadata": {
  "kernelspec": {
   "display_name": "Python [conda env:gputest] *",
   "language": "python",
   "name": "conda-env-gputest-py"
  },
  "language_info": {
   "codemirror_mode": {
    "name": "ipython",
    "version": 3
   },
   "file_extension": ".py",
   "mimetype": "text/x-python",
   "name": "python",
   "nbconvert_exporter": "python",
   "pygments_lexer": "ipython3",
   "version": "3.7.9"
  }
 },
 "nbformat": 4,
 "nbformat_minor": 5
}
