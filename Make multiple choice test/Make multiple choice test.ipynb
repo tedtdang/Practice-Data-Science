{
 "cells": [
  {
   "cell_type": "code",
   "execution_count": 1,
   "id": "regional-bouquet",
   "metadata": {
    "execution": {
     "iopub.execute_input": "2021-05-12T17:16:01.625617Z",
     "iopub.status.busy": "2021-05-12T17:16:01.625617Z",
     "iopub.status.idle": "2021-05-12T17:16:01.634625Z",
     "shell.execute_reply": "2021-05-12T17:16:01.634625Z",
     "shell.execute_reply.started": "2021-05-12T17:16:01.625617Z"
    }
   },
   "outputs": [],
   "source": [
    "from dataclasses import dataclass\n",
    "\n",
    "@dataclass # This decorator helps save time from initializing constructor\n",
    "class Flash_card:\n",
    "    '''This contains a question, its demonstration, possible choices, and correct answers out of the choices'''\n",
    "    question: str\n",
    "    demo: str\n",
    "    choices: list\n",
    "    correct_choices: list\n",
    "        \n",
    "    # Shuffle all choices\n",
    "    def shuffle_choices(self):\n",
    "        np.random.shuffle(self.choices)   "
   ]
  },
  {
   "cell_type": "code",
   "execution_count": 2,
   "id": "established-premium",
   "metadata": {
    "execution": {
     "iopub.execute_input": "2021-05-12T17:16:01.636627Z",
     "iopub.status.busy": "2021-05-12T17:16:01.636627Z",
     "iopub.status.idle": "2021-05-12T17:16:01.822949Z",
     "shell.execute_reply": "2021-05-12T17:16:01.822949Z",
     "shell.execute_reply.started": "2021-05-12T17:16:01.636627Z"
    }
   },
   "outputs": [],
   "source": [
    "from termcolor import colored\n",
    "import numpy as np\n",
    "\n",
    "class Folder:\n",
    "    '''This contains multiple flash cards'''\n",
    "    my_flash = list()\n",
    "    correct: int = 0\n",
    "        \n",
    "    def total_score(self):\n",
    "        '''This prints the percentage of correct answers'''\n",
    "        try:\n",
    "            print(f'You get {self.correct * 100 / len(self.my_flash):.2f}%')\n",
    "        except:\n",
    "            print('You have to have at least one question')\n",
    "            \n",
    "    def learn(self):\n",
    "        '''The user chooses correct answer(s) by typing a, b, c, etc. (lower case) and hit enter'''\n",
    "        # Shuffle order of questions\n",
    "        np.random.shuffle(self.my_flash)\n",
    "        for i, flash in enumerate(self.my_flash, 1):\n",
    "            print(colored(f'Q{i}. {flash.question}', 'blue')) # Print question\n",
    "            if flash.demo:\n",
    "                print(flash.demo.strip()) # Print question demonstration\n",
    "            # Shuffle choices\n",
    "            flash.shuffle_choices()\n",
    "            for index, c in enumerate(flash.choices):\n",
    "                print(colored(f'{chr(index+97)}. {c}', 'magenta')) # Print possible choices\n",
    "            answers = []\n",
    "            for j, _ in enumerate(flash.correct_choices, 1):\n",
    "                answer = input(f'Choose answer {j} of {len(flash.correct_choices)}') # Prompt the user to choose correct answer(s)\n",
    "                while len(answer) != 1 or ord(answer) - 97 < 0 or ord(answer) - 97 >= len(flash.choices): # Make sure they choose a, b, c, etc. only\n",
    "                    answer = input(f'Choose your answer between {chr(97)} and {chr(96 + len(flash.choices))}')\n",
    "                answers.append(flash.choices[ord(answer) - 97])\n",
    "            if sorted(answers) == sorted(flash.correct_choices): # Correct answer(s)\n",
    "                print('Correct!')\n",
    "                self.correct += 1\n",
    "            else: # Incorrect answer(s)\n",
    "                print(colored(f'Wrong! Correct choice should be: ', 'yellow'), end='')\n",
    "                print(colored('\\n'.join(flash.correct_choices), 'red'))\n",
    "            print()\n",
    "        self.total_score()"
   ]
  },
  {
   "cell_type": "code",
   "execution_count": 3,
   "id": "initial-approval",
   "metadata": {
    "execution": {
     "iopub.execute_input": "2021-05-12T17:16:01.823942Z",
     "iopub.status.busy": "2021-05-12T17:16:01.823942Z",
     "iopub.status.idle": "2021-05-12T17:16:01.841960Z",
     "shell.execute_reply": "2021-05-12T17:16:01.839957Z",
     "shell.execute_reply.started": "2021-05-12T17:16:01.823942Z"
    }
   },
   "outputs": [],
   "source": [
    "def read_a_file(file_path: str, choice_pattern: str, correct_pattern: str) -> Folder:\n",
    "    '''This reads a text file and returns a Folder instance'''\n",
    "    doc = Folder()\n",
    "    q_stage, d_stage = False, False\n",
    "    with open(file_path, 'r') as f:\n",
    "        q, demo, correct_choices, choices = '', '', [], []\n",
    "        for l in f:\n",
    "            if not q_stage: # Add question\n",
    "                q = l.split('.', 1)[1].strip()\n",
    "                q_stage = True\n",
    "            elif q_stage and not d_stage and not l.strip().startswith(choice_pattern): # Add question demonstration\n",
    "                if l.strip() != '':\n",
    "                    demo += l\n",
    "            elif q_stage and l.strip().startswith(choice_pattern):\n",
    "                d_stage = True\n",
    "                if l.strip().startswith(correct_pattern):\n",
    "                    correct_choices.append(l.split(']', 1)[1].strip()) # Add correct answers\n",
    "                choices.append(l.split(']', 1)[1].strip()) # Add pssobile choices\n",
    "            elif l in ['\\n', '\\r\\n']: # Initialize a flash card\n",
    "                a_flash_card = Flash_card(question=q, demo=demo, choices=choices, correct_choices=correct_choices)\n",
    "                doc.my_flash.append(a_flash_card)\n",
    "                q, demo, correct_choices, choices = '', '', [], []\n",
    "                q_stage, d_stage = False, False\n",
    "    return doc"
   ]
  },
  {
   "cell_type": "code",
   "execution_count": 4,
   "id": "necessary-hierarchy",
   "metadata": {
    "execution": {
     "iopub.execute_input": "2021-05-12T17:16:01.843962Z",
     "iopub.status.busy": "2021-05-12T17:16:01.843962Z",
     "iopub.status.idle": "2021-05-12T17:16:01.855971Z",
     "shell.execute_reply": "2021-05-12T17:16:01.854971Z",
     "shell.execute_reply.started": "2021-05-12T17:16:01.843962Z"
    }
   },
   "outputs": [],
   "source": [
    "def create_a_nicer_file(doc: Folder, filename: str):\n",
    "    '''\n",
    "    This is to create a nicer Q&A file name from doc a Folder instance\n",
    "    '''\n",
    "    with open(str(filename), 'w') as f:\n",
    "        for i, flash in enumerate(doc.my_flash, 1):\n",
    "            f.write(f'####Q{i}. {flash.question}\\n') # Write question\n",
    "            if flash.demo != '': # Write demo if it exists\n",
    "                f.write(flash.demo)\n",
    "            for choice in flash.choices:\n",
    "                if choice in flash.correct_choices:\n",
    "                    f.write(f'- [x] {choice}\\n')\n",
    "                else:\n",
    "                    f.write(f'- [ ] {choice}\\n')\n",
    "            f.write('\\n')"
   ]
  },
  {
   "cell_type": "code",
   "execution_count": null,
   "id": "suspended-mother",
   "metadata": {
    "execution": {
     "iopub.execute_input": "2021-05-12T17:16:01.856973Z",
     "iopub.status.busy": "2021-05-12T17:16:01.856973Z"
    }
   },
   "outputs": [
    {
     "name": "stdout",
     "output_type": "stream",
     "text": [
      "\u001b[34mQ1. All value types in Swift are \\***\\*\\_\\*\\*** under the hood?\u001b[0m\n",
      "\u001b[35ma. optionals\u001b[0m\n",
      "\u001b[35mb. classes\u001b[0m\n",
      "\u001b[35mc. generics\u001b[0m\n",
      "\u001b[35md. structs\u001b[0m\n"
     ]
    }
   ],
   "source": [
    "file_name = 'Swift.txt'\n",
    "doc = read_a_file(file_name, '- [', '- [x]')\n",
    "# create_a_nicer_file(doc, file_name.split('.', 1)[0] + '_updated.txt')\n",
    "doc.learn()"
   ]
  }
 ],
 "metadata": {
  "kernelspec": {
   "display_name": "Python [conda env:gputest] *",
   "language": "python",
   "name": "conda-env-gputest-py"
  },
  "language_info": {
   "codemirror_mode": {
    "name": "ipython",
    "version": 3
   },
   "file_extension": ".py",
   "mimetype": "text/x-python",
   "name": "python",
   "nbconvert_exporter": "python",
   "pygments_lexer": "ipython3",
   "version": "3.7.9"
  }
 },
 "nbformat": 4,
 "nbformat_minor": 5
}
