{
 "cells": [
  {
   "cell_type": "code",
   "execution_count": 1,
   "id": "77796dba-23a1-49df-9973-370a08e56bad",
   "metadata": {},
   "outputs": [],
   "source": [
    "%load_ext lab_black"
   ]
  },
  {
   "cell_type": "code",
   "execution_count": 2,
   "id": "pleasant-manchester",
   "metadata": {},
   "outputs": [],
   "source": [
    "from dataclasses import dataclass\n",
    "\n",
    "\n",
    "@dataclass  # This decorator helps save time from initializing constructor\n",
    "class Flash_card:\n",
    "    \"\"\"This contains a question, its demonstration, possible choices, and correct answers out of the choices\"\"\"\n",
    "\n",
    "    question: str\n",
    "    demo: str\n",
    "    choices: list\n",
    "    correct_choices: list\n",
    "\n",
    "    # Shuffle all choices\n",
    "    def shuffle_choices(self):\n",
    "        np.random.shuffle(self.choices)"
   ]
  },
  {
   "cell_type": "code",
   "execution_count": 3,
   "id": "abroad-timing",
   "metadata": {},
   "outputs": [],
   "source": [
    "from termcolor import colored\n",
    "import numpy as np\n",
    "\n",
    "\n",
    "class Folder:\n",
    "    \"\"\"This contains multiple flash cards\"\"\"\n",
    "\n",
    "    my_flash = list()\n",
    "    correct: int = 0\n",
    "\n",
    "    def total_score(self):\n",
    "        \"\"\"This prints the percentage of correct answers\"\"\"\n",
    "        try:\n",
    "            print(f\"You get {self.correct * 100 / len(self.my_flash):.2f}%\")\n",
    "        except:\n",
    "            print(\"You have to have at least one question\")\n",
    "\n",
    "    def learn(self):\n",
    "        \"\"\"The user chooses correct answer(s) by typing a, b, c, etc. (lower case) and hit enter\"\"\"\n",
    "        # Shuffle order of questions\n",
    "        np.random.shuffle(self.my_flash)\n",
    "        for i, flash in enumerate(self.my_flash, 1):\n",
    "            print(colored(f\"Q{i}. {flash.question}\", \"blue\"))  # Print question\n",
    "            if flash.demo:\n",
    "                print(flash.demo.strip())  # Print question demonstration\n",
    "            # Shuffle choices\n",
    "            flash.shuffle_choices()\n",
    "            for index, c in enumerate(flash.choices):\n",
    "                print(\n",
    "                    colored(f\"{chr(index+97)}. {c}\", \"magenta\")\n",
    "                )  # Print possible choices\n",
    "            answers = []\n",
    "            for j, _ in enumerate(flash.correct_choices, 1):\n",
    "                answer = input(\n",
    "                    f\"Choose answer {j} of {len(flash.correct_choices)}\"\n",
    "                )  # Prompt the user to choose correct answer(s)\n",
    "                while (\n",
    "                    len(answer) != 1\n",
    "                    or ord(answer) - 97 < 0\n",
    "                    or ord(answer) - 97 >= len(flash.choices)\n",
    "                ):  # Make sure they choose a, b, c, etc. only\n",
    "                    answer = input(\n",
    "                        f\"Choose your answer between {chr(97)} and {chr(96 + len(flash.choices))}\"\n",
    "                    )\n",
    "                answers.append(flash.choices[ord(answer) - 97])\n",
    "            if sorted(answers) == sorted(flash.correct_choices):  # Correct answer(s)\n",
    "                print(\"Correct!\")\n",
    "                self.correct += 1\n",
    "            else:  # Incorrect answer(s)\n",
    "                print(colored(f\"Wrong! Correct choice should be: \", \"yellow\"), end=\"\")\n",
    "                print(colored(\"\\n\".join(flash.correct_choices), \"red\"))\n",
    "            print()\n",
    "        self.total_score()"
   ]
  },
  {
   "cell_type": "code",
   "execution_count": 4,
   "id": "sticky-honolulu",
   "metadata": {},
   "outputs": [],
   "source": [
    "def read_a_file(file_path: str, choice_pattern: str, correct_pattern: str) -> Folder:\n",
    "    \"\"\"This reads a text file and returns a Folder instance\"\"\"\n",
    "    doc = Folder()\n",
    "    q_stage, d_stage = False, False\n",
    "    with open(file_path, \"r\") as f:\n",
    "        q, demo, correct_choices, choices = \"\", \"\", [], []\n",
    "        for l in f:\n",
    "            if not q_stage:  # Add question\n",
    "                q = l.split(\".\", 1)[1].strip()\n",
    "                q_stage = True\n",
    "            elif (\n",
    "                q_stage and not d_stage and not l.strip().startswith(choice_pattern)\n",
    "            ):  # Add question demonstration\n",
    "                if l.strip() != \"\":\n",
    "                    demo += l\n",
    "            elif q_stage and l.strip().startswith(choice_pattern):\n",
    "                d_stage = True\n",
    "                if l.strip().startswith(correct_pattern):\n",
    "                    correct_choices.append(\n",
    "                        l.split(\"]\", 1)[1].strip()\n",
    "                    )  # Add correct answers\n",
    "                choices.append(l.split(\"]\", 1)[1].strip())  # Add pssobile choices\n",
    "            elif l in [\"\\n\", \"\\r\\n\"]:  # Initialize a flash card\n",
    "                a_flash_card = Flash_card(\n",
    "                    question=q,\n",
    "                    demo=demo,\n",
    "                    choices=choices,\n",
    "                    correct_choices=correct_choices,\n",
    "                )\n",
    "                doc.my_flash.append(a_flash_card)\n",
    "                q, demo, correct_choices, choices = \"\", \"\", [], []\n",
    "                q_stage, d_stage = False, False\n",
    "    return doc"
   ]
  },
  {
   "cell_type": "code",
   "execution_count": 5,
   "id": "suspended-philip",
   "metadata": {},
   "outputs": [],
   "source": [
    "def create_a_nicer_file(doc: Folder, filename: str):\n",
    "    \"\"\"\n",
    "    This is to create a nicer Q&A file name from doc a Folder instance\n",
    "    \"\"\"\n",
    "    with open(str(filename), \"w\") as f:\n",
    "        for i, flash in enumerate(doc.my_flash, 1):\n",
    "            f.write(f\"####Q{i}. {flash.question}\\n\")  # Write question\n",
    "            if flash.demo != \"\":  # Write demo if it exists\n",
    "                f.write(flash.demo)\n",
    "            for choice in flash.choices:\n",
    "                if choice in flash.correct_choices:\n",
    "                    f.write(f\"- [x] {choice}\\n\")\n",
    "                else:\n",
    "                    f.write(f\"- [ ] {choice}\\n\")\n",
    "            f.write(\"\\n\")"
   ]
  },
  {
   "cell_type": "code",
   "execution_count": 6,
   "id": "impossible-travel",
   "metadata": {
    "tags": []
   },
   "outputs": [
    {
     "name": "stdout",
     "output_type": "stream",
     "text": [
      "\u001b[34mQ1. How can you avoid a strong reference cycle in a closure?\u001b[0m\n",
      "\u001b[35ma. Use a capture list to set class instances of weak or unowned.\u001b[0m\n",
      "\u001b[35mb. Declare the closure variable as lazy.\u001b[0m\n",
      "\u001b[35mc. You can't, there will always be a danger of strong reference cycles inside a closure.\u001b[0m\n",
      "\u001b[35md. Initialize the closure as read-only.\u001b[0m\n"
     ]
    },
    {
     "ename": "KeyboardInterrupt",
     "evalue": "Interrupted by user",
     "output_type": "error",
     "traceback": [
      "\u001b[1;31m---------------------------------------------------------------------------\u001b[0m",
      "\u001b[1;31mKeyboardInterrupt\u001b[0m                         Traceback (most recent call last)",
      "\u001b[1;32m<ipython-input-6-2ca5129651c9>\u001b[0m in \u001b[0;36m<module>\u001b[1;34m\u001b[0m\n\u001b[0;32m      2\u001b[0m \u001b[0mdoc\u001b[0m \u001b[1;33m=\u001b[0m \u001b[0mread_a_file\u001b[0m\u001b[1;33m(\u001b[0m\u001b[0mfile_name\u001b[0m\u001b[1;33m,\u001b[0m \u001b[1;34m'- ['\u001b[0m\u001b[1;33m,\u001b[0m \u001b[1;34m'- [x]'\u001b[0m\u001b[1;33m)\u001b[0m\u001b[1;33m\u001b[0m\u001b[1;33m\u001b[0m\u001b[0m\n\u001b[0;32m      3\u001b[0m \u001b[1;31m# create_a_nicer_file(doc, file_name.split('.', 1)[0] + '_updated.txt')\u001b[0m\u001b[1;33m\u001b[0m\u001b[1;33m\u001b[0m\u001b[1;33m\u001b[0m\u001b[0m\n\u001b[1;32m----> 4\u001b[1;33m \u001b[0mdoc\u001b[0m\u001b[1;33m.\u001b[0m\u001b[0mlearn\u001b[0m\u001b[1;33m(\u001b[0m\u001b[1;33m)\u001b[0m\u001b[1;33m\u001b[0m\u001b[1;33m\u001b[0m\u001b[0m\n\u001b[0m",
      "\u001b[1;32m<ipython-input-3-817f69b42806>\u001b[0m in \u001b[0;36mlearn\u001b[1;34m(self)\u001b[0m\n\u001b[0;32m     28\u001b[0m             \u001b[0manswers\u001b[0m \u001b[1;33m=\u001b[0m \u001b[1;33m[\u001b[0m\u001b[1;33m]\u001b[0m\u001b[1;33m\u001b[0m\u001b[1;33m\u001b[0m\u001b[0m\n\u001b[0;32m     29\u001b[0m             \u001b[1;32mfor\u001b[0m \u001b[0mj\u001b[0m\u001b[1;33m,\u001b[0m \u001b[0m_\u001b[0m \u001b[1;32min\u001b[0m \u001b[0menumerate\u001b[0m\u001b[1;33m(\u001b[0m\u001b[0mflash\u001b[0m\u001b[1;33m.\u001b[0m\u001b[0mcorrect_choices\u001b[0m\u001b[1;33m,\u001b[0m \u001b[1;36m1\u001b[0m\u001b[1;33m)\u001b[0m\u001b[1;33m:\u001b[0m\u001b[1;33m\u001b[0m\u001b[1;33m\u001b[0m\u001b[0m\n\u001b[1;32m---> 30\u001b[1;33m                 \u001b[0manswer\u001b[0m \u001b[1;33m=\u001b[0m \u001b[0minput\u001b[0m\u001b[1;33m(\u001b[0m\u001b[1;34mf'Choose answer {j} of {len(flash.correct_choices)}'\u001b[0m\u001b[1;33m)\u001b[0m \u001b[1;31m# Prompt the user to choose correct answer(s)\u001b[0m\u001b[1;33m\u001b[0m\u001b[1;33m\u001b[0m\u001b[0m\n\u001b[0m\u001b[0;32m     31\u001b[0m                 \u001b[1;32mwhile\u001b[0m \u001b[0mlen\u001b[0m\u001b[1;33m(\u001b[0m\u001b[0manswer\u001b[0m\u001b[1;33m)\u001b[0m \u001b[1;33m!=\u001b[0m \u001b[1;36m1\u001b[0m \u001b[1;32mor\u001b[0m \u001b[0mord\u001b[0m\u001b[1;33m(\u001b[0m\u001b[0manswer\u001b[0m\u001b[1;33m)\u001b[0m \u001b[1;33m-\u001b[0m \u001b[1;36m97\u001b[0m \u001b[1;33m<\u001b[0m \u001b[1;36m0\u001b[0m \u001b[1;32mor\u001b[0m \u001b[0mord\u001b[0m\u001b[1;33m(\u001b[0m\u001b[0manswer\u001b[0m\u001b[1;33m)\u001b[0m \u001b[1;33m-\u001b[0m \u001b[1;36m97\u001b[0m \u001b[1;33m>=\u001b[0m \u001b[0mlen\u001b[0m\u001b[1;33m(\u001b[0m\u001b[0mflash\u001b[0m\u001b[1;33m.\u001b[0m\u001b[0mchoices\u001b[0m\u001b[1;33m)\u001b[0m\u001b[1;33m:\u001b[0m \u001b[1;31m# Make sure they choose a, b, c, etc. only\u001b[0m\u001b[1;33m\u001b[0m\u001b[1;33m\u001b[0m\u001b[0m\n\u001b[0;32m     32\u001b[0m                     \u001b[0manswer\u001b[0m \u001b[1;33m=\u001b[0m \u001b[0minput\u001b[0m\u001b[1;33m(\u001b[0m\u001b[1;34mf'Choose your answer between {chr(97)} and {chr(96 + len(flash.choices))}'\u001b[0m\u001b[1;33m)\u001b[0m\u001b[1;33m\u001b[0m\u001b[1;33m\u001b[0m\u001b[0m\n",
      "\u001b[1;32m~\\anaconda3\\envs\\myenv\\lib\\site-packages\\ipykernel\\kernelbase.py\u001b[0m in \u001b[0;36mraw_input\u001b[1;34m(self, prompt)\u001b[0m\n\u001b[0;32m    858\u001b[0m                 \u001b[1;34m\"raw_input was called, but this frontend does not support input requests.\"\u001b[0m\u001b[1;33m\u001b[0m\u001b[1;33m\u001b[0m\u001b[0m\n\u001b[0;32m    859\u001b[0m             )\n\u001b[1;32m--> 860\u001b[1;33m         return self._input_request(str(prompt),\n\u001b[0m\u001b[0;32m    861\u001b[0m             \u001b[0mself\u001b[0m\u001b[1;33m.\u001b[0m\u001b[0m_parent_ident\u001b[0m\u001b[1;33m,\u001b[0m\u001b[1;33m\u001b[0m\u001b[1;33m\u001b[0m\u001b[0m\n\u001b[0;32m    862\u001b[0m             \u001b[0mself\u001b[0m\u001b[1;33m.\u001b[0m\u001b[0m_parent_header\u001b[0m\u001b[1;33m,\u001b[0m\u001b[1;33m\u001b[0m\u001b[1;33m\u001b[0m\u001b[0m\n",
      "\u001b[1;32m~\\anaconda3\\envs\\myenv\\lib\\site-packages\\ipykernel\\kernelbase.py\u001b[0m in \u001b[0;36m_input_request\u001b[1;34m(self, prompt, ident, parent, password)\u001b[0m\n\u001b[0;32m    902\u001b[0m             \u001b[1;32mexcept\u001b[0m \u001b[0mKeyboardInterrupt\u001b[0m\u001b[1;33m:\u001b[0m\u001b[1;33m\u001b[0m\u001b[1;33m\u001b[0m\u001b[0m\n\u001b[0;32m    903\u001b[0m                 \u001b[1;31m# re-raise KeyboardInterrupt, to truncate traceback\u001b[0m\u001b[1;33m\u001b[0m\u001b[1;33m\u001b[0m\u001b[1;33m\u001b[0m\u001b[0m\n\u001b[1;32m--> 904\u001b[1;33m                 \u001b[1;32mraise\u001b[0m \u001b[0mKeyboardInterrupt\u001b[0m\u001b[1;33m(\u001b[0m\u001b[1;34m\"Interrupted by user\"\u001b[0m\u001b[1;33m)\u001b[0m \u001b[1;32mfrom\u001b[0m \u001b[1;32mNone\u001b[0m\u001b[1;33m\u001b[0m\u001b[1;33m\u001b[0m\u001b[0m\n\u001b[0m\u001b[0;32m    905\u001b[0m             \u001b[1;32mexcept\u001b[0m \u001b[0mException\u001b[0m \u001b[1;32mas\u001b[0m \u001b[0me\u001b[0m\u001b[1;33m:\u001b[0m\u001b[1;33m\u001b[0m\u001b[1;33m\u001b[0m\u001b[0m\n\u001b[0;32m    906\u001b[0m                 \u001b[0mself\u001b[0m\u001b[1;33m.\u001b[0m\u001b[0mlog\u001b[0m\u001b[1;33m.\u001b[0m\u001b[0mwarning\u001b[0m\u001b[1;33m(\u001b[0m\u001b[1;34m\"Invalid Message:\"\u001b[0m\u001b[1;33m,\u001b[0m \u001b[0mexc_info\u001b[0m\u001b[1;33m=\u001b[0m\u001b[1;32mTrue\u001b[0m\u001b[1;33m)\u001b[0m\u001b[1;33m\u001b[0m\u001b[1;33m\u001b[0m\u001b[0m\n",
      "\u001b[1;31mKeyboardInterrupt\u001b[0m: Interrupted by user"
     ]
    }
   ],
   "source": [
    "file_name = 'Swift.txt'\n",
    "doc = read_a_file(file_name, '- [', '- [x]')\n",
    "# create_a_nicer_file(doc, file_name.split('.', 1)[0] + '_updated.txt')\n",
    "doc.learn()"
   ]
  }
 ],
 "metadata": {
  "kernelspec": {
   "display_name": "Python 3",
   "language": "python",
   "name": "python3"
  },
  "language_info": {
   "codemirror_mode": {
    "name": "ipython",
    "version": 3
   },
   "file_extension": ".py",
   "mimetype": "text/x-python",
   "name": "python",
   "nbconvert_exporter": "python",
   "pygments_lexer": "ipython3",
   "version": "3.9.5"
  }
 },
 "nbformat": 4,
 "nbformat_minor": 5
}
