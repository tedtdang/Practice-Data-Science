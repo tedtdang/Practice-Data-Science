{
 "cells": [
  {
   "cell_type": "code",
   "execution_count": 1,
   "id": "focused-jefferson",
   "metadata": {
    "execution": {
     "iopub.execute_input": "2021-04-21T06:35:15.702698Z",
     "iopub.status.busy": "2021-04-21T06:35:15.702698Z",
     "iopub.status.idle": "2021-04-21T06:35:15.715710Z",
     "shell.execute_reply": "2021-04-21T06:35:15.714709Z",
     "shell.execute_reply.started": "2021-04-21T06:35:15.702698Z"
    }
   },
   "outputs": [],
   "source": [
    "from dataclasses import dataclass\n",
    "\n",
    "@dataclass # This decorator helps save time from initializing constructor\n",
    "class Flash_card:\n",
    "    question: str\n",
    "    demo: str\n",
    "    choices: list\n",
    "    correct_choices: list\n",
    "        \n",
    "    # Shuffle all choices\n",
    "    def shuffle_choices(self):\n",
    "        np.random.shuffle(self.choices)   "
   ]
  },
  {
   "cell_type": "code",
   "execution_count": 2,
   "id": "thrown-championship",
   "metadata": {
    "execution": {
     "iopub.execute_input": "2021-04-21T06:35:15.716711Z",
     "iopub.status.busy": "2021-04-21T06:35:15.716711Z",
     "iopub.status.idle": "2021-04-21T06:35:15.874031Z",
     "shell.execute_reply": "2021-04-21T06:35:15.874031Z",
     "shell.execute_reply.started": "2021-04-21T06:35:15.716711Z"
    }
   },
   "outputs": [],
   "source": [
    "from termcolor import colored\n",
    "import numpy as np\n",
    "\n",
    "class Folder:\n",
    "    my_flash = list()\n",
    "    correct: int = 0\n",
    "        \n",
    "    def learn(self):\n",
    "        # Shuffle order of questions\n",
    "        np.random.shuffle(self.my_flash)\n",
    "        for i, flash in enumerate(self.my_flash, 1):\n",
    "            print(colored(f'Q{i}. {flash.question}', 'blue'))\n",
    "            if flash.demo:\n",
    "                print(flash.demo.strip())\n",
    "            # Shuffle choices\n",
    "            flash.shuffle_choices()\n",
    "            for index, c in enumerate(flash.choices):\n",
    "                print(colored(f'{chr(index+97)}. {c}', 'magenta'))\n",
    "            answers = []\n",
    "            for j, _ in enumerate(flash.correct_choices, 1):\n",
    "                answer = input(f'Choose answer {j} of {len(flash.correct_choices)}')\n",
    "                # User chooses a, b, c, etc. instead of number\n",
    "                while len(answer) != 1 or ord(answer) - 97 < 0 or ord(answer) - 97 >= len(flash.choices):\n",
    "                    answer = input(f'Choose your answer between {chr(97)} and {chr(96 + len(flash.choices))}')\n",
    "                answers.append(flash.choices[ord(answer) - 97])\n",
    "            if sorted(answers) == sorted(flash.correct_choices):\n",
    "                print('Correct!')\n",
    "                self.correct += 1\n",
    "            else:\n",
    "                print(colored(f'Wrong! Correct choice should be: ', 'yellow'), end='')\n",
    "                print(colored('\\n'.join(flash.correct_choices), 'red'))\n",
    "            print()\n",
    "        print(f'You get {self.correct * 100 / len(self.my_flash):.2f}%')"
   ]
  },
  {
   "cell_type": "code",
   "execution_count": 3,
   "id": "impressive-america",
   "metadata": {
    "execution": {
     "iopub.execute_input": "2021-04-21T06:35:15.875033Z",
     "iopub.status.busy": "2021-04-21T06:35:15.875033Z",
     "iopub.status.idle": "2021-04-21T06:35:15.892051Z",
     "shell.execute_reply": "2021-04-21T06:35:15.890048Z",
     "shell.execute_reply.started": "2021-04-21T06:35:15.875033Z"
    }
   },
   "outputs": [],
   "source": [
    "def read_a_file(file_path: str) -> Folder:\n",
    "    doc = Folder()\n",
    "    with open(file_path, 'r') as f:\n",
    "        q, demo, correct_choices, choices = '', '', [], []\n",
    "        for l in f:\n",
    "            if l.startswith('####'):\n",
    "                # Add question\n",
    "                q = l[l.find('.')+1:].strip()\n",
    "            elif l[:3] not in ['###', '- [', '\\n', '\\r\\n']:\n",
    "                demo += l.strip() + '\\n'\n",
    "            elif l.startswith('- ['):\n",
    "                if l.startswith('- [x'):\n",
    "                    correct_choices.append(l[6:].strip())\n",
    "                choices.append(l[5:].strip())\n",
    "            # Detect a blank line\n",
    "            elif l in ['\\n', '\\r\\n']:\n",
    "                a_flash_card = Flash_card(question=q, demo=demo, choices=choices, correct_choices=correct_choices)\n",
    "                doc.my_flash.append(a_flash_card)\n",
    "                q, demo, correct_choices, choices = '', '', [], []\n",
    "    return doc"
   ]
  },
  {
   "cell_type": "code",
   "execution_count": 4,
   "id": "electronic-administrator",
   "metadata": {
    "execution": {
     "iopub.execute_input": "2021-04-21T06:35:15.893051Z",
     "iopub.status.busy": "2021-04-21T06:35:15.893051Z",
     "iopub.status.idle": "2021-04-21T06:35:15.906368Z",
     "shell.execute_reply": "2021-04-21T06:35:15.905368Z",
     "shell.execute_reply.started": "2021-04-21T06:35:15.893051Z"
    }
   },
   "outputs": [],
   "source": [
    "def create_a_nicer_file(doc: Folder, filename: str):\n",
    "    '''\n",
    "    This is to create a nicer Q&A file name from doc a Folder instance\n",
    "    '''\n",
    "    with open(str(filename), 'w') as f:\n",
    "        for i, flash in enumerate(doc.my_flash, 1):\n",
    "            f.write(f'####Q{i}. {flash.question}\\n') # Write question\n",
    "            if flash.demo != '': # Write demo if it exists\n",
    "                f.write(flash.demo)\n",
    "            flash.shuffle_choices() # Shuffle choices\n",
    "            for choice in flash.choices:\n",
    "                if choice in flash.correct_choices:\n",
    "                    f.write(f'- [x] {choice}')\n",
    "                else:\n",
    "                    f.write(f'- [ ] {choice}')\n",
    "            f.write('\\n')"
   ]
  },
  {
   "cell_type": "code",
   "execution_count": 5,
   "id": "sitting-maldives",
   "metadata": {
    "execution": {
     "iopub.execute_input": "2021-04-21T06:35:15.908372Z",
     "iopub.status.busy": "2021-04-21T06:35:15.908372Z",
     "iopub.status.idle": "2021-04-21T06:37:00.644969Z",
     "shell.execute_reply": "2021-04-21T06:37:00.644969Z",
     "shell.execute_reply.started": "2021-04-21T06:35:15.908372Z"
    }
   },
   "outputs": [
    {
     "name": "stdout",
     "output_type": "stream",
     "text": [
      "\u001b[34mQ1. What is the value of z after executing this code?\u001b[0m\n",
      "```\n",
      "val y = List('a','b')\n",
      "val z = y::List('c')\n",
      "```\n",
      "\u001b[35ma. List(List(a, b), c)\u001b[0m\n",
      "\u001b[35mb. List(c,a,b)\u001b[0m\n",
      "\u001b[35mc. List(c,List(a,b))\u001b[0m\n",
      "\u001b[35md. List(a,b,c)\u001b[0m\n"
     ]
    },
    {
     "name": "stdin",
     "output_type": "stream",
     "text": [
      "Choose answer 1 of 1 a\n"
     ]
    },
    {
     "name": "stdout",
     "output_type": "stream",
     "text": [
      "Correct!\n",
      "\n",
      "\u001b[34mQ2. Scala bytecode can run on top of Java VM. What is the fundamental difference between Java object.clone() and Scala object.copy()?\u001b[0m\n",
      "\u001b[35ma. copy() allows you to change values during the copying process; clone() does not.\u001b[0m\n",
      "\u001b[35mb. One is a Java object, the other is a Scala object.\u001b[0m\n",
      "\u001b[35mc. There is no difference.\u001b[0m\n",
      "\u001b[35md. clone() will copy class structures but not the data, while copy() will also copy data into new objects.\u001b[0m\n"
     ]
    },
    {
     "name": "stdin",
     "output_type": "stream",
     "text": [
      "Choose answer 1 of 1 a\n"
     ]
    },
    {
     "name": "stdout",
     "output_type": "stream",
     "text": [
      "Correct!\n",
      "\n",
      "\u001b[34mQ3. What data type would you use to store an immutable collection of objects that contain a fixed number of varying types?\u001b[0m\n",
      "\u001b[35ma. ImmutableCollection\u001b[0m\n",
      "\u001b[35mb. List\u001b[0m\n",
      "\u001b[35mc. Array\u001b[0m\n",
      "\u001b[35md. Tuple\u001b[0m\n"
     ]
    },
    {
     "name": "stdin",
     "output_type": "stream",
     "text": [
      "Choose answer 1 of 1 d\n"
     ]
    },
    {
     "name": "stdout",
     "output_type": "stream",
     "text": [
      "Correct!\n",
      "\n",
      "\u001b[34mQ4. What value does this code return?\u001b[0m\n",
      "```\n",
      "val m1 = Map(\"a\"->1,\"b\"->2,\"c\"->3)\n",
      "m1(\"a\")\n",
      "```\n",
      "\u001b[35ma. b\u001b[0m\n",
      "\u001b[35mb. a\u001b[0m\n",
      "\u001b[35mc. 1\u001b[0m\n",
      "\u001b[35md. 2\u001b[0m\n"
     ]
    },
    {
     "name": "stdin",
     "output_type": "stream",
     "text": [
      "Choose answer 1 of 1 c\n"
     ]
    },
    {
     "name": "stdout",
     "output_type": "stream",
     "text": [
      "Correct!\n",
      "\n",
      "\u001b[34mQ5. After defining a function in the interpreter, Scala returns the following. What does the\u001b[0m\n",
      "```\n",
      "myfnc: ()Unit\n",
      "```\n",
      "\u001b[35ma. The function returns no value.\u001b[0m\n",
      "\u001b[35mb. The function has no side effects.\u001b[0m\n",
      "\u001b[35mc. Returning unit types to the function is a closures.\u001b[0m\n",
      "\u001b[35md. The function takes no parameters.\u001b[0m\n"
     ]
    },
    {
     "name": "stdin",
     "output_type": "stream",
     "text": [
      "Choose answer 1 of 1 a\n"
     ]
    },
    {
     "name": "stdout",
     "output_type": "stream",
     "text": [
      "Correct!\n",
      "\n",
      "\u001b[34mQ6. What is the data type of y after this code is executed?\u001b[0m\n",
      "```\n",
      "val y = (math floor 3.1415 * 2)\n",
      "```\n",
      "\u001b[35ma. bigInt\u001b[0m\n",
      "\u001b[35mb. int\u001b[0m\n",
      "\u001b[35mc. short\u001b[0m\n",
      "\u001b[35md. double\u001b[0m\n"
     ]
    },
    {
     "name": "stdin",
     "output_type": "stream",
     "text": [
      "Choose answer 1 of 1 d\n"
     ]
    },
    {
     "name": "stdout",
     "output_type": "stream",
     "text": [
      "Correct!\n",
      "\n",
      "\u001b[34mQ7. What is one way to avoid low-level parallelization details?\u001b[0m\n",
      "\u001b[35ma. parallel collections\u001b[0m\n",
      "\u001b[35mb. literal functions\u001b[0m\n",
      "\u001b[35mc. partially applied functions\u001b[0m\n",
      "\u001b[35md. monads\u001b[0m\n"
     ]
    },
    {
     "name": "stdin",
     "output_type": "stream",
     "text": [
      "Choose answer 1 of 1 a\n"
     ]
    },
    {
     "name": "stdout",
     "output_type": "stream",
     "text": [
      "Correct!\n",
      "\n",
      "\u001b[34mQ8. Which is a subclass of all classes?\u001b[0m\n",
      "\u001b[35ma. Method\u001b[0m\n",
      "\u001b[35mb. Null\u001b[0m\n",
      "\u001b[35mc. AnyVal\u001b[0m\n",
      "\u001b[35md. AnyRef\u001b[0m\n"
     ]
    },
    {
     "name": "stdin",
     "output_type": "stream",
     "text": [
      "Choose answer 1 of 1 b\n"
     ]
    },
    {
     "name": "stdout",
     "output_type": "stream",
     "text": [
      "Correct!\n",
      "\n",
      "\u001b[34mQ9. For the for-yield construct, is the scope separate between for-body and yield-body?\u001b[0m\n",
      "\u001b[35ma. No, because for-yield shares the same scope, even though they are within separate curly braces.\u001b[0m\n",
      "\u001b[35mb. Yes and no. It is different depending on the for construct and what it does.\u001b[0m\n",
      "\u001b[35mc. Yes, because the for section does not expose its scope.\u001b[0m\n",
      "\u001b[35md. Yes, because they are within different curly braces.\u001b[0m\n"
     ]
    },
    {
     "name": "stdin",
     "output_type": "stream",
     "text": [
      "Choose answer 1 of 1 b\n"
     ]
    },
    {
     "name": "stdout",
     "output_type": "stream",
     "text": [
      "Correct!\n",
      "\n",
      "\u001b[34mQ10. What is one way to implement pattern matching on methods?\u001b[0m\n",
      "\u001b[35ma. using case classes\u001b[0m\n",
      "\u001b[35mb. using string matching\u001b[0m\n",
      "\u001b[35mc. using monads\u001b[0m\n",
      "\u001b[35md. using regex\u001b[0m\n"
     ]
    },
    {
     "name": "stdin",
     "output_type": "stream",
     "text": [
      "Choose answer 1 of 1 b\n"
     ]
    },
    {
     "name": "stdout",
     "output_type": "stream",
     "text": [
      "Correct!\n",
      "\n",
      "\u001b[34mQ11. What is the output of this function?\u001b[0m\n",
      "```\n",
      "def main () {\n",
      "var a = 0\n",
      "for (a<-1 until 5){println(a)}\n",
      "```\n",
      "\u001b[35ma. 2,3,4,5\u001b[0m\n",
      "\u001b[35mb. 1,2,3,4\u001b[0m\n",
      "\u001b[35mc. 1,2,3,4,5\u001b[0m\n",
      "\u001b[35md. 0,1,2,3,4\u001b[0m\n"
     ]
    },
    {
     "name": "stdin",
     "output_type": "stream",
     "text": [
      "Choose answer 1 of 1 b\n"
     ]
    },
    {
     "name": "stdout",
     "output_type": "stream",
     "text": [
      "Correct!\n",
      "\n",
      "\u001b[34mQ12. What term is used to specify a precondition?\u001b[0m\n",
      "\u001b[35ma. require\u001b[0m\n",
      "\u001b[35mb. assert\u001b[0m\n",
      "\u001b[35mc. precondition\u001b[0m\n",
      "\u001b[35md. mustHave\u001b[0m\n"
     ]
    },
    {
     "name": "stdin",
     "output_type": "stream",
     "text": [
      "Choose answer 1 of 1 b\n"
     ]
    },
    {
     "name": "stdout",
     "output_type": "stream",
     "text": [
      "Correct!\n",
      "\n",
      "\u001b[34mQ13. What do you use in ScalaTest to see a detailed diagram of error messages when a test fails?\u001b[0m\n",
      "\u001b[35ma. JUnit\u001b[0m\n",
      "\u001b[35mb. DiagrammedAssertions\u001b[0m\n",
      "\u001b[35mc. ArgumentExceptions\u001b[0m\n",
      "\u001b[35md. AssertionException\u001b[0m\n"
     ]
    },
    {
     "name": "stdin",
     "output_type": "stream",
     "text": [
      "Choose answer 1 of 1 b\n"
     ]
    },
    {
     "name": "stdout",
     "output_type": "stream",
     "text": [
      "Correct!\n",
      "\n",
      "\u001b[34mQ14. You have created an array using val. Can you change the value of any element of the arrayâ€”and why or why not?\u001b[0m\n",
      "\u001b[35ma. Yes, the reference to the array is immutable, so the location that the array points to is immutable. The values in the array are mutable.\u001b[0m\n",
      "\u001b[35mb. Yes, val does not make arrays immutable.\u001b[0m\n",
      "\u001b[35mc. The 0th element is immutable and cannot be modified. All other elements can be modified.\u001b[0m\n",
      "\u001b[35md. No, val makes the array and values of the array immutable.\u001b[0m\n"
     ]
    },
    {
     "name": "stdin",
     "output_type": "stream",
     "text": [
      "Choose answer 1 of 1 b\n"
     ]
    },
    {
     "name": "stdout",
     "output_type": "stream",
     "text": [
      "Correct!\n",
      "\n",
      "\u001b[34mQ15. What type of number is 1234.e5?\u001b[0m\n",
      "\u001b[35ma. hexadecimal\u001b[0m\n",
      "\u001b[35mb. floating point\u001b[0m\n",
      "\u001b[35mc. long\u001b[0m\n",
      "\u001b[35md. short\u001b[0m\n"
     ]
    },
    {
     "name": "stdin",
     "output_type": "stream",
     "text": [
      "Choose answer 1 of 1 b\n"
     ]
    },
    {
     "name": "stdout",
     "output_type": "stream",
     "text": [
      "Correct!\n",
      "\n",
      "\u001b[34mQ16. Which statement returns a success or a failure indicator when you execute this code?\u001b[0m\n",
      "`val MyFuture = Future {runBackgroundFunction() }`\n",
      "\u001b[35ma. complete(myFuture)\u001b[0m\n",
      "\u001b[35mb. myFuture.Finished\u001b[0m\n",
      "\u001b[35mc. myFuture.onComplete\u001b[0m\n",
      "\u001b[35md. myFuture(status)\u001b[0m\n"
     ]
    },
    {
     "name": "stdin",
     "output_type": "stream",
     "text": [
      "Choose answer 1 of 1 c\n"
     ]
    },
    {
     "name": "stdout",
     "output_type": "stream",
     "text": [
      "Correct!\n",
      "\n",
      "\u001b[34mQ17. When using pattern matching, which character matches on any object?\u001b[0m\n",
      "\u001b[35ma. `-`\u001b[0m\n",
      "\u001b[35mb. `^`\u001b[0m\n",
      "\u001b[35mc. `\\_`\u001b[0m\n",
      "\u001b[35md. `%`\u001b[0m\n"
     ]
    },
    {
     "name": "stdin",
     "output_type": "stream",
     "text": [
      "Choose answer 1 of 1 a\n"
     ]
    },
    {
     "name": "stdout",
     "output_type": "stream",
     "text": [
      "Correct!\n",
      "\n",
      "\u001b[34mQ18. What type of object does this code create?\u001b[0m\n",
      "```\n",
      "val x = (1234, \"Active\")\n",
      "```\n",
      "\u001b[35ma. Map\u001b[0m\n",
      "\u001b[35mb. List\u001b[0m\n",
      "\u001b[35mc. Tuple\u001b[0m\n",
      "\u001b[35md. Array\u001b[0m\n"
     ]
    },
    {
     "name": "stdin",
     "output_type": "stream",
     "text": [
      "Choose answer 1 of 1 c\n"
     ]
    },
    {
     "name": "stdout",
     "output_type": "stream",
     "text": [
      "Correct!\n",
      "\n",
      "\u001b[34mQ19. What does this code return? val x = 3; if (x >2) x = 4 else x = x\\*2\u001b[0m\n",
      "\u001b[35ma. 4\u001b[0m\n",
      "\u001b[35mb. an error\u001b[0m\n",
      "\u001b[35mc. 6\u001b[0m\n",
      "\u001b[35md. 3\u001b[0m\n"
     ]
    },
    {
     "name": "stdin",
     "output_type": "stream",
     "text": [
      "Choose answer 1 of 1 b\n"
     ]
    },
    {
     "name": "stdout",
     "output_type": "stream",
     "text": [
      "Correct!\n",
      "\n",
      "\u001b[34mQ20. Which Scala type may throw an exception or a successfully computed value, and is commonly used to trap and propagate errors?\u001b[0m\n",
      "Answer should be Option: Some or None\n",
      "Correct!\n",
      "\n",
      "\u001b[34mQ21. To denote a parameter that may be repeated, what should you place after type?\u001b[0m\n",
      "\u001b[35ma. `&`\u001b[0m\n",
      "\u001b[35mb. `\\_`\u001b[0m\n",
      "\u001b[35mc. `%`\u001b[0m\n",
      "\u001b[35md. `-`\u001b[0m\n"
     ]
    },
    {
     "name": "stdin",
     "output_type": "stream",
     "text": [
      "Choose answer 1 of 1 d\n"
     ]
    },
    {
     "name": "stdout",
     "output_type": "stream",
     "text": [
      "Correct!\n",
      "\n",
      "\u001b[34mQ22. You have written a Scala script. How would you access command-line arguments in the script?\u001b[0m\n",
      "\u001b[35ma. use numbered variables with a _ prefix for example _ 1, _ 2, _ 3\u001b[0m\n",
      "\u001b[35mb. use tuple named args\u001b[0m\n",
      "\u001b[35mc. use array named args\u001b[0m\n",
      "\u001b[35md. use numbered variables with a $ prefix - for example $1, $2, $3\u001b[0m\n"
     ]
    },
    {
     "name": "stdin",
     "output_type": "stream",
     "text": [
      "Choose answer 1 of 1 c\n"
     ]
    },
    {
     "name": "stdout",
     "output_type": "stream",
     "text": [
      "Correct!\n",
      "\n",
      "\u001b[34mQ23. What do you call objects with immutable state?\u001b[0m\n",
      "\u001b[35ma. singletons\u001b[0m\n",
      "\u001b[35mb. stationary objects\u001b[0m\n",
      "\u001b[35mc. functional objects\u001b[0m\n",
      "\u001b[35md. fixed objects\u001b[0m\n"
     ]
    },
    {
     "name": "stdin",
     "output_type": "stream",
     "text": [
      "Choose answer 1 of 1 a\n"
     ]
    },
    {
     "name": "stdout",
     "output_type": "stream",
     "text": [
      "Correct!\n",
      "\n",
      "\u001b[34mQ24. When you convert a map to a list using the toList method of the map, the result will be of which type?\u001b[0m\n",
      "\u001b[35ma. `List[(Array, Array)]`\u001b[0m\n",
      "\u001b[35mb. `List[(Array, Array)]`\u001b[0m\n",
      "\u001b[35mc. `List`\u001b[0m\n",
      "\u001b[35md. `List[(String, String)]`\u001b[0m\n"
     ]
    },
    {
     "name": "stdin",
     "output_type": "stream",
     "text": [
      "Choose answer 1 of 1 c\n"
     ]
    },
    {
     "name": "stdout",
     "output_type": "stream",
     "text": [
      "Correct!\n",
      "\n",
      "You get 100.00%\n"
     ]
    }
   ],
   "source": [
    "doc = read_a_file('Scala.txt')\n",
    "# create_a_nicer_file(doc, 'NoSQL1.txt')\n",
    "doc.learn()"
   ]
  }
 ],
 "metadata": {
  "kernelspec": {
   "display_name": "Python [conda env:gputest] *",
   "language": "python",
   "name": "conda-env-gputest-py"
  },
  "language_info": {
   "codemirror_mode": {
    "name": "ipython",
    "version": 3
   },
   "file_extension": ".py",
   "mimetype": "text/x-python",
   "name": "python",
   "nbconvert_exporter": "python",
   "pygments_lexer": "ipython3",
   "version": "3.7.9"
  }
 },
 "nbformat": 4,
 "nbformat_minor": 5
}
