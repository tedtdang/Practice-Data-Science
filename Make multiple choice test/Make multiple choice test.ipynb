{
 "cells": [
  {
   "cell_type": "code",
   "execution_count": 1,
   "id": "chicken-discharge",
   "metadata": {
    "execution": {
     "iopub.execute_input": "2021-04-16T06:25:59.121556Z",
     "iopub.status.busy": "2021-04-16T06:25:59.121556Z",
     "iopub.status.idle": "2021-04-16T06:25:59.136571Z",
     "shell.execute_reply": "2021-04-16T06:25:59.135571Z",
     "shell.execute_reply.started": "2021-04-16T06:25:59.121556Z"
    }
   },
   "outputs": [],
   "source": [
    "from dataclasses import dataclass\n",
    "\n",
    "@dataclass # This decorator helps save time from initializing constructor\n",
    "class Flash_card:\n",
    "    question: str\n",
    "    demo: str\n",
    "    choices: list\n",
    "    correct_choice: list\n",
    "        \n",
    "    # Shuffle all choices\n",
    "    def shuffle_choices(self):\n",
    "        np.random.shuffle(self.choices)   "
   ]
  },
  {
   "cell_type": "code",
   "execution_count": 2,
   "id": "norman-occupation",
   "metadata": {
    "execution": {
     "iopub.execute_input": "2021-04-16T06:25:59.138572Z",
     "iopub.status.busy": "2021-04-16T06:25:59.138572Z",
     "iopub.status.idle": "2021-04-16T06:25:59.390802Z",
     "shell.execute_reply": "2021-04-16T06:25:59.389801Z",
     "shell.execute_reply.started": "2021-04-16T06:25:59.138572Z"
    }
   },
   "outputs": [],
   "source": [
    "from termcolor import colored\n",
    "import numpy as np\n",
    "\n",
    "class Folder:\n",
    "    my_flash = list()\n",
    "    correct = 0\n",
    "        \n",
    "    def learn(self):\n",
    "        # Shuffle order of questions\n",
    "        np.random.shuffle(self.my_flash)\n",
    "        for i, flash in enumerate(self.my_flash, 1):\n",
    "            print(colored(f'Q{i}. {flash.question}', 'blue'))\n",
    "            if flash.demo:\n",
    "                print(flash.demo.strip())\n",
    "            # Shuffle choices\n",
    "            flash.shuffle_choices()\n",
    "            for index, c in enumerate(flash.choices):\n",
    "                print(colored(f'{chr(index+97)}. {c}', 'magenta'))\n",
    "            answers = []\n",
    "            for j, _ in enumerate(flash.correct_choice, 1):\n",
    "                answer = input(f'Choose answer {j} of {len(flash.correct_choice)}')\n",
    "                # User chooses a, b, c, etc. instead of number\n",
    "                while ord(answer) - 97 < 0 or ord(answer) - 97 >= len(flash.choices):\n",
    "                    answer = input(f'Choose your answer between {chr(97)} and {chr(96 + len(flash.choices))}')\n",
    "                answers.append(flash.choices[ord(answer) - 97])\n",
    "            if sorted(answers) == sorted(flash.correct_choice):\n",
    "                print('Correct!')\n",
    "                self.correct += 1\n",
    "            else:\n",
    "                print(colored(f'Wrong! Correct choice should be: ', 'yellow'), end='')\n",
    "                print(colored('\\n'.join(flash.correct_choice), 'red'))\n",
    "            print()\n",
    "        print(f'You get {self.correct * 100 / len(self.my_flash):.2f}%')"
   ]
  },
  {
   "cell_type": "code",
   "execution_count": 3,
   "id": "educational-singing",
   "metadata": {
    "execution": {
     "iopub.execute_input": "2021-04-16T06:25:59.391802Z",
     "iopub.status.busy": "2021-04-16T06:25:59.391802Z",
     "iopub.status.idle": "2021-04-16T06:25:59.406816Z",
     "shell.execute_reply": "2021-04-16T06:25:59.405815Z",
     "shell.execute_reply.started": "2021-04-16T06:25:59.391802Z"
    }
   },
   "outputs": [],
   "source": [
    "def read_a_file(file_path: str) -> Folder:\n",
    "    doc = Folder()\n",
    "    with open(file_path, 'r') as f:\n",
    "        q, demo, correct_choice, choices = '', '', [], []\n",
    "        for l in f:\n",
    "            if l.startswith('####'):\n",
    "                # Add question\n",
    "                q = l[l.find('.')+1:].strip()\n",
    "            elif l[:3] not in ['###', '- [', '\\n', '\\r\\n']:\n",
    "                demo += l.strip() + '\\n'\n",
    "            elif l.startswith('- ['):\n",
    "                if l.startswith('- [x'):\n",
    "                    correct_choice.append(l[6:].strip())\n",
    "                choices.append(l[5:].strip())\n",
    "            # Detect a blank line\n",
    "            elif l in ['\\n', '\\r\\n']:\n",
    "                a_flash_card = Flash_card(question=q, demo=demo, choices=choices, correct_choice=correct_choice)\n",
    "                doc.my_flash.append(a_flash_card)\n",
    "                q, demo, correct_choice, choices = '', '', [], []\n",
    "    return doc"
   ]
  },
  {
   "cell_type": "code",
   "execution_count": 4,
   "id": "regional-gibraltar",
   "metadata": {
    "execution": {
     "iopub.execute_input": "2021-04-16T06:25:59.410823Z",
     "iopub.status.busy": "2021-04-16T06:25:59.409819Z",
     "iopub.status.idle": "2021-04-16T06:25:59.441850Z",
     "shell.execute_reply": "2021-04-16T06:25:59.439846Z",
     "shell.execute_reply.started": "2021-04-16T06:25:59.410823Z"
    }
   },
   "outputs": [],
   "source": [
    "def create_a_nicer_file(doc: Folder, filename: str):\n",
    "    '''\n",
    "    This is to create a nicer Q&A file name from doc a Folder instance\n",
    "    '''\n",
    "    with open(str(filename), 'w') as f:\n",
    "        for i, flash in enumerate(doc.my_flash, 1):\n",
    "            f.write(f'####Q{i}. {flash.question}\\n') # Write question\n",
    "            if flash.demo != '': # Write demo if it exists\n",
    "                f.write(flash.demo)\n",
    "            flash.shuffle_choices() # Shuffle choices\n",
    "            for choice in flash.choices:\n",
    "                if choice in flash.correct_choice:\n",
    "                    f.write(f'- [x] {choice}')\n",
    "                else:\n",
    "                    f.write(f'- [ ] {choice}')\n",
    "            f.write('\\n')"
   ]
  },
  {
   "cell_type": "code",
   "execution_count": null,
   "id": "pressing-anthony",
   "metadata": {
    "execution": {
     "iopub.execute_input": "2021-04-16T06:25:59.444890Z",
     "iopub.status.busy": "2021-04-16T06:25:59.443850Z"
    }
   },
   "outputs": [
    {
     "name": "stdout",
     "output_type": "stream",
     "text": [
      "\u001b[34mQ1. Which option enables inclusion of author name in custom log format?\u001b[0m\n",
      "\u001b[35ma. %am\u001b[0m\n",
      "\u001b[35mb. %ae\u001b[0m\n",
      "\u001b[35mc. %ad\u001b[0m\n",
      "\u001b[35md. %an\u001b[0m\n"
     ]
    },
    {
     "name": "stdin",
     "output_type": "stream",
     "text": [
      "Choose answer 1 of 1 a\n"
     ]
    },
    {
     "name": "stdout",
     "output_type": "stream",
     "text": [
      "\u001b[33mWrong! Correct choice should be: \u001b[0m\u001b[31m%an\u001b[0m\n",
      "\n",
      "\u001b[34mQ2. Why would the following command be used?\u001b[0m\n",
      "`git rebase -i HEAD~10`\n",
      "\u001b[35ma. In order to locally cache the last 10 commits\u001b[0m\n",
      "\u001b[35mb. To run a comparative search of the last 10 commits for differences\u001b[0m\n",
      "\u001b[35mc. To list the last 10 commits and modify them with either the squash or fixup command\u001b[0m\n",
      "\u001b[35md. To delete the last 10 commits and reset the HEAD\u001b[0m\n"
     ]
    },
    {
     "name": "stdin",
     "output_type": "stream",
     "text": [
      "Choose answer 1 of 1 b\n"
     ]
    },
    {
     "name": "stdout",
     "output_type": "stream",
     "text": [
      "\u001b[33mWrong! Correct choice should be: \u001b[0m\u001b[31mTo list the last 10 commits and modify them with either the squash or fixup command\u001b[0m\n",
      "\n",
      "\u001b[34mQ3. Which of the following is called dumb protocol?\u001b[0m\n",
      "\u001b[35ma. Git\u001b[0m\n",
      "\u001b[35mb. SSH\u001b[0m\n",
      "\u001b[35mc. HTTP\u001b[0m\n",
      "\u001b[35md. All of these\u001b[0m\n"
     ]
    },
    {
     "name": "stdin",
     "output_type": "stream",
     "text": [
      "Choose answer 1 of 1 c\n"
     ]
    },
    {
     "name": "stdout",
     "output_type": "stream",
     "text": [
      "Correct!\n",
      "\n",
      "\u001b[34mQ4. What conflicts can occur when forcing a push after rebasing?\u001b[0m\n",
      "\u001b[35ma. The current HEAD will be deleted and can't be reinstated.\u001b[0m\n",
      "\u001b[35mb. The origin URL will be reset to its default value.\u001b[0m\n",
      "\u001b[35mc. Nothing, it's common practice to force a push after rebasing.\u001b[0m\n",
      "\u001b[35md. The remote master branch could have existing changes overwritten.\u001b[0m\n"
     ]
    },
    {
     "name": "stdin",
     "output_type": "stream",
     "text": [
      "Choose answer 1 of 1 d\n"
     ]
    },
    {
     "name": "stdout",
     "output_type": "stream",
     "text": [
      "Correct!\n",
      "\n",
      "\u001b[34mQ5. After starting to merge a feature branch into your master branch, you encounter a merge conflict and decide you do not want to perform the merge. How can you stop the merge and restore to the pre-merge state?\u001b[0m\n",
      "\u001b[35ma. Use git restore -p.\u001b[0m\n",
      "\u001b[35mb. Use git merge -u.\u001b[0m\n",
      "\u001b[35mc. Use git merge --undo.\u001b[0m\n",
      "\u001b[35md. Use git merge --abort.\u001b[0m\n"
     ]
    }
   ],
   "source": [
    "doc = read_a_file('Git.txt')\n",
    "# create_a_nicer_file(doc, 'NoSQL1.txt')\n",
    "doc.learn()"
   ]
  }
 ],
 "metadata": {
  "kernelspec": {
   "display_name": "Python [conda env:gputest] *",
   "language": "python",
   "name": "conda-env-gputest-py"
  },
  "language_info": {
   "codemirror_mode": {
    "name": "ipython",
    "version": 3
   },
   "file_extension": ".py",
   "mimetype": "text/x-python",
   "name": "python",
   "nbconvert_exporter": "python",
   "pygments_lexer": "ipython3",
   "version": "3.7.9"
  }
 },
 "nbformat": 4,
 "nbformat_minor": 5
}
