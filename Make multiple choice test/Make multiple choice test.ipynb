{
 "cells": [
  {
   "cell_type": "code",
   "execution_count": 1,
   "id": "global-rebate",
   "metadata": {
    "execution": {
     "iopub.execute_input": "2021-04-24T22:44:05.451545Z",
     "iopub.status.busy": "2021-04-24T22:44:05.451545Z",
     "iopub.status.idle": "2021-04-24T22:44:05.461553Z",
     "shell.execute_reply": "2021-04-24T22:44:05.461553Z",
     "shell.execute_reply.started": "2021-04-24T22:44:05.451545Z"
    }
   },
   "outputs": [],
   "source": [
    "from dataclasses import dataclass\n",
    "\n",
    "@dataclass # This decorator helps save time from initializing constructor\n",
    "class Flash_card:\n",
    "    question: str\n",
    "    demo: str\n",
    "    choices: list\n",
    "    correct_choices: list\n",
    "        \n",
    "    # Shuffle all choices\n",
    "    def shuffle_choices(self):\n",
    "        np.random.shuffle(self.choices)   "
   ]
  },
  {
   "cell_type": "code",
   "execution_count": 2,
   "id": "apart-niger",
   "metadata": {
    "execution": {
     "iopub.execute_input": "2021-04-24T22:44:05.464556Z",
     "iopub.status.busy": "2021-04-24T22:44:05.463555Z",
     "iopub.status.idle": "2021-04-24T22:44:05.733335Z",
     "shell.execute_reply": "2021-04-24T22:44:05.733335Z",
     "shell.execute_reply.started": "2021-04-24T22:44:05.464556Z"
    }
   },
   "outputs": [],
   "source": [
    "from termcolor import colored\n",
    "import numpy as np\n",
    "\n",
    "class Folder:\n",
    "    my_flash = list()\n",
    "    correct: int = 0\n",
    "        \n",
    "    def learn(self):\n",
    "        # Shuffle order of questions\n",
    "        np.random.shuffle(self.my_flash)\n",
    "        for i, flash in enumerate(self.my_flash, 1):\n",
    "            print(colored(f'Q{i}. {flash.question}', 'blue'))\n",
    "            if flash.demo:\n",
    "                print(flash.demo.strip())\n",
    "            # Shuffle choices\n",
    "            flash.shuffle_choices()\n",
    "            for index, c in enumerate(flash.choices):\n",
    "                print(colored(f'{chr(index+97)}. {c}', 'magenta'))\n",
    "            answers = []\n",
    "            for j, _ in enumerate(flash.correct_choices, 1):\n",
    "                answer = input(f'Choose answer {j} of {len(flash.correct_choices)}')\n",
    "                # User chooses a, b, c, etc. instead of number\n",
    "                while len(answer) != 1 or ord(answer) - 97 < 0 or ord(answer) - 97 >= len(flash.choices):\n",
    "                    answer = input(f'Choose your answer between {chr(97)} and {chr(96 + len(flash.choices))}')\n",
    "                answers.append(flash.choices[ord(answer) - 97])\n",
    "            if sorted(answers) == sorted(flash.correct_choices):\n",
    "                print('Correct!')\n",
    "                self.correct += 1\n",
    "            else:\n",
    "                print(colored(f'Wrong! Correct choice should be: ', 'yellow'), end='')\n",
    "                print(colored('\\n'.join(flash.correct_choices), 'red'))\n",
    "            print()\n",
    "        print(f'You get {self.correct * 100 / len(self.my_flash):.2f}%')"
   ]
  },
  {
   "cell_type": "code",
   "execution_count": 3,
   "id": "parallel-portal",
   "metadata": {
    "execution": {
     "iopub.execute_input": "2021-04-24T22:44:05.735336Z",
     "iopub.status.busy": "2021-04-24T22:44:05.734335Z",
     "iopub.status.idle": "2021-04-24T22:44:05.751352Z",
     "shell.execute_reply": "2021-04-24T22:44:05.750350Z",
     "shell.execute_reply.started": "2021-04-24T22:44:05.735336Z"
    }
   },
   "outputs": [],
   "source": [
    "def read_a_file(file_path: str) -> Folder:\n",
    "    doc = Folder()\n",
    "    q_stage, d_stage = False, False\n",
    "    with open(file_path, 'r') as f:\n",
    "        q, demo, correct_choices, choices = '', '', [], []\n",
    "        for l in f:\n",
    "            if not q_stage:\n",
    "                # Add question\n",
    "                q = l.split('.', 1)[1].strip()\n",
    "                q_stage = True\n",
    "            elif q_stage and not d_stage and not l.strip().startswith('- ['):\n",
    "                if l.strip() != '':\n",
    "                    demo += l\n",
    "#                 print(f'Demo = {demo}')\n",
    "            elif q_stage and l.strip().startswith('- ['):\n",
    "                d_stage = True\n",
    "                if l.strip().startswith('- [x'):\n",
    "                    # Find the position of ']' and append the substring after it\n",
    "                    correct_choices.append(l.split(']', 1)[1].strip())\n",
    "                choices.append(l.split(']', 1)[1].strip())\n",
    "#                 print(f'Correct choices = {correct_choices}')\n",
    "            elif l in ['\\n', '\\r\\n']:\n",
    "                a_flash_card = Flash_card(question=q, demo=demo, choices=choices, correct_choices=correct_choices)\n",
    "                doc.my_flash.append(a_flash_card)\n",
    "                q, demo, correct_choices, choices = '', '', [], []\n",
    "                q_stage, d_stage = False, False\n",
    "    return doc"
   ]
  },
  {
   "cell_type": "code",
   "execution_count": 4,
   "id": "conceptual-printing",
   "metadata": {
    "execution": {
     "iopub.execute_input": "2021-04-24T22:44:05.753354Z",
     "iopub.status.busy": "2021-04-24T22:44:05.752352Z",
     "iopub.status.idle": "2021-04-24T22:44:05.766365Z",
     "shell.execute_reply": "2021-04-24T22:44:05.765365Z",
     "shell.execute_reply.started": "2021-04-24T22:44:05.753354Z"
    }
   },
   "outputs": [],
   "source": [
    "def create_a_nicer_file(doc: Folder, filename: str):\n",
    "    '''\n",
    "    This is to create a nicer Q&A file name from doc a Folder instance\n",
    "    '''\n",
    "    with open(str(filename), 'w') as f:\n",
    "        for i, flash in enumerate(doc.my_flash, 1):\n",
    "            f.write(f'####Q{i}. {flash.question}\\n') # Write question\n",
    "            if flash.demo != '': # Write demo if it exists\n",
    "                f.write(flash.demo)\n",
    "#             flash.shuffle_choices() # Shuffle choices\n",
    "            for choice in flash.choices:\n",
    "                if choice in flash.correct_choices:\n",
    "                    f.write(f'- [x] {choice}\\n')\n",
    "                else:\n",
    "                    f.write(f'- [ ] {choice}\\n')\n",
    "            f.write('\\n')"
   ]
  },
  {
   "cell_type": "code",
   "execution_count": 5,
   "id": "returning-implementation",
   "metadata": {
    "execution": {
     "iopub.execute_input": "2021-04-24T22:44:05.768366Z",
     "iopub.status.busy": "2021-04-24T22:44:05.768366Z",
     "iopub.status.idle": "2021-04-24T22:44:05.782379Z",
     "shell.execute_reply": "2021-04-24T22:44:05.781378Z",
     "shell.execute_reply.started": "2021-04-24T22:44:05.768366Z"
    }
   },
   "outputs": [],
   "source": [
    "file_name = 'Swift.txt'\n",
    "doc = read_a_file(file_name)\n",
    "# create_a_nicer_file(doc, file_name.split('.', 1)[0] + '_updated.txt')\n",
    "# doc.learn()"
   ]
  }
 ],
 "metadata": {
  "kernelspec": {
   "display_name": "Python [conda env:gputest] *",
   "language": "python",
   "name": "conda-env-gputest-py"
  },
  "language_info": {
   "codemirror_mode": {
    "name": "ipython",
    "version": 3
   },
   "file_extension": ".py",
   "mimetype": "text/x-python",
   "name": "python",
   "nbconvert_exporter": "python",
   "pygments_lexer": "ipython3",
   "version": "3.7.9"
  }
 },
 "nbformat": 4,
 "nbformat_minor": 5
}
