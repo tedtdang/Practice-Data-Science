{
 "cells": [
  {
   "cell_type": "code",
   "execution_count": 1,
   "id": "e9de842f-5ed4-4933-9b86-5f7f0105c121",
   "metadata": {},
   "outputs": [
    {
     "name": "stdout",
     "output_type": "stream",
     "text": [
      "I\n"
     ]
    }
   ],
   "source": [
    "import roman;\n",
    "print(roman.toRoman(1))"
   ]
  },
  {
   "cell_type": "code",
   "execution_count": 2,
   "id": "pleasant-manchester",
   "metadata": {},
   "outputs": [],
   "source": [
    "from dataclasses import dataclass\n",
    "import re\n",
    "\n",
    "\n",
    "@dataclass  # This decorator helps save time from initializing constructor\n",
    "class Flash_card:\n",
    "    \"\"\"This contains a question, its demonstration, possible choices, and correct answers out of the choices\"\"\"\n",
    "\n",
    "    question: str\n",
    "    choices: list\n",
    "    correct_choices: list\n",
    "    demo: str = None\n",
    "\n",
    "    # Shuffle all choices\n",
    "    def shuffle_choices(self):\n",
    "        np.random.shuffle(self.choices)"
   ]
  },
  {
   "cell_type": "code",
   "execution_count": 3,
   "id": "abroad-timing",
   "metadata": {},
   "outputs": [],
   "source": [
    "from termcolor import colored\n",
    "import numpy as np\n",
    "import roman\n",
    "\n",
    "\n",
    "class Folder:\n",
    "    \"\"\"This contains multiple flash cards\"\"\"\n",
    "\n",
    "    my_flash = list()\n",
    "    correct: int = 0\n",
    "\n",
    "    def total_score(self):\n",
    "        \"\"\"This prints the percentage of correct answers\"\"\"\n",
    "        try:\n",
    "            print(f\"You get {self.correct * 100 / len(self.my_flash):.2f}%\")\n",
    "        except:\n",
    "            print(\"You have to have at least one question\")\n",
    "\n",
    "    def learn(self):\n",
    "        \"\"\"The user chooses correct answer(s) by typing a, b, c, etc. (lower case) and hit enter\"\"\"\n",
    "        # Shuffle order of questions\n",
    "        np.random.shuffle(self.my_flash)\n",
    "        for i, flash in enumerate(self.my_flash, 1):\n",
    "            print(colored(f\"Q{roman.toRoman(i)}. {flash.question}\", \"blue\"))  # Print question\n",
    "            if flash.demo:\n",
    "                print(flash.demo.strip())  # Print question demonstration\n",
    "            # Shuffle choices\n",
    "            flash.shuffle_choices()\n",
    "            for index, c in enumerate(flash.choices):\n",
    "                print(\n",
    "                    colored(f\"{index + 1}. {c.capitalize()}\", \"magenta\")\n",
    "                )  # Print possible choices\n",
    "            answers = []\n",
    "            if len(flash.correct_choices) > 1:\n",
    "                answer = input(\n",
    "                    \"Choose multiple answers\"\n",
    "                )\n",
    "                while any(int(a) > len(flash.choices) for a in answer):\n",
    "                    answer = input('You have an invalid answer, please choose again')\n",
    "                for a in list(answer):\n",
    "                    answers.append(flash.choices[int(a) - 1])\n",
    "            else:\n",
    "                ans = int(input(\"Choose one correct answer\"))\n",
    "                while ans > len(flash.choices):\n",
    "                     ans = int(input('You have an invalid answer, please choose again'))\n",
    "                answers.append(flash.choices[ans - 1])\n",
    "            if sorted(answers) == sorted(flash.correct_choices):  # Correct answer(s)\n",
    "                print(\"Correct!\")\n",
    "                self.correct += 1\n",
    "            else:  # Incorrect answer(s)\n",
    "                print(colored(f\"Wrong! Correct choice should be: \", \"yellow\"), end=\"\")\n",
    "                print(colored(\"\\n\".join(flash.correct_choices), \"red\"))\n",
    "            print()\n",
    "        self.total_score()"
   ]
  },
  {
   "cell_type": "code",
   "execution_count": 4,
   "id": "sticky-honolulu",
   "metadata": {},
   "outputs": [],
   "source": [
    "def read_a_file(file_path: str, general_choice_pattern: str, correct_choice_pattern: str) -> Folder:\n",
    "    \"\"\"This reads a text file and returns a Folder instance\"\"\"\n",
    "    doc = Folder()\n",
    "    with open(file_path, \"r\", encoding='utf8') as f:\n",
    "        q, demo, correct_choices, choices = \"\", \"\", [], []\n",
    "        for line in f:\n",
    "            correct = re.match(correct_choice_pattern, line)\n",
    "            regular = re.match(general_choice_pattern, line)\n",
    "            # print(f'line: {line}')\n",
    "            # Read multiple-lined questions\n",
    "            if not regular:\n",
    "                q += line\n",
    "                # print(f'not regular, q: {q}')\n",
    "            else:\n",
    "                # print(f'regular, neat q: {q}')\n",
    "                if correct:  # Get correct choices\n",
    "                    correct_choice = line[correct.end():].strip()\n",
    "                    correct_choices.append(correct_choice)\n",
    "                    # Any way, the regular choice is added\n",
    "                    choices.append(correct_choice)\n",
    "                    # print(f'correct_choice: {correct_choice}')\n",
    "                else:  # Get incorrect choices\n",
    "                    regular_choice = line[regular.end():].strip()\n",
    "                    # print(f'incorrect_choice: {regular_choice}')\n",
    "                    choices.append(regular_choice)\n",
    "            if line in ['\\n', '\\r\\n']:\n",
    "                # Extract the question\n",
    "                # print(f'q before split: {q}')\n",
    "                q = q.split(' ', 1)[-1]\n",
    "                # print(f'q after split: {q}')\n",
    "                q = q.replace('\\n', '').strip()\n",
    "                # print(f'q after replace: {q}')\n",
    "                a_flash_card = Flash_card(\n",
    "                    question=q,\n",
    "                    choices=choices,\n",
    "                    correct_choices=correct_choices,\n",
    "                )\n",
    "                doc.my_flash.append(a_flash_card)\n",
    "                # print(f'question: {q}')\n",
    "                # print(f'answers: {choices}')\n",
    "                # print(f'correct answer: {correct_choices}')\n",
    "                # print()\n",
    "                q, demo, correct_choices, choices = \"\", \"\", [], []\n",
    "    return doc"
   ]
  },
  {
   "cell_type": "code",
   "execution_count": 5,
   "id": "suspended-philip",
   "metadata": {},
   "outputs": [],
   "source": [
    "def create_a_nicer_file(doc: Folder, filename: str):\n",
    "    \"\"\"\n",
    "    This is to create a nicer Q&A file name from doc a Folder instance\n",
    "    \"\"\"\n",
    "    with open(str(filename), \"w\", encoding='utf8') as f:\n",
    "        for i, flash in enumerate(doc.my_flash, 1):\n",
    "            f.write(f\"####Q{i}. {flash.question}\\n\")  # Write question\n",
    "            if flash.demo:  # Write demo if it exists\n",
    "                f.write(flash.demo)\n",
    "            for choice in flash.choices:\n",
    "                if choice in flash.correct_choices:\n",
    "                    f.write(f\"- [x] {choice}\\n\")\n",
    "                else:\n",
    "                    f.write(f\"- [ ] {choice}\\n\")\n",
    "            f.write(\"\\n\")"
   ]
  },
  {
   "cell_type": "code",
   "execution_count": 6,
   "id": "impossible-travel",
   "metadata": {
    "tags": []
   },
   "outputs": [
    {
     "name": "stdout",
     "output_type": "stream",
     "text": [
      "\u001b[34mQI. Check which of the following are associated with Bagging instead of Boosting\u001b[0m\n",
      "\u001b[35m1. The features (commonly the columns in a data set) and samples/observations (commonly the rows in a data set) may be resampled. and this can be done with or without replacement.\u001b[0m\n",
      "\u001b[35m2. This technique is one of the reasons that some kaggle competitions don’t allow teams to merge during competitions (e.g. team #2 and #3 join together)\u001b[0m\n",
      "\u001b[35m3. All estimators are weighted equally.\u001b[0m\n"
     ]
    },
    {
     "name": "stdin",
     "output_type": "stream",
     "text": [
      "Choose multiple answers 13\n"
     ]
    },
    {
     "name": "stdout",
     "output_type": "stream",
     "text": [
      "Correct!\n",
      "\n",
      "\u001b[34mQII. Which of the following is not an explicit part of the standard Q-learning equation?\u001b[0m\n",
      "\u001b[35m1. The policy function\u001b[0m\n",
      "\u001b[35m2. Reward prediction error\u001b[0m\n",
      "\u001b[35m3. Temporal discounting\u001b[0m\n",
      "\u001b[35m4. A state-action value function\u001b[0m\n",
      "\u001b[35m5. A learning rate\u001b[0m\n"
     ]
    },
    {
     "name": "stdin",
     "output_type": "stream",
     "text": [
      "Choose one correct answer 1\n"
     ]
    },
    {
     "name": "stdout",
     "output_type": "stream",
     "text": [
      "Correct!\n",
      "\n",
      "\u001b[34mQIII. If 5% of your samples have incorrect labels in your available labelled data, which option is likely best to improve model accuracy?\u001b[0m\n",
      "\u001b[35m1. Get more samples (even if they are 1% in error)\u001b[0m\n",
      "\u001b[35m2. Derive/predict new features from current features in your data set\u001b[0m\n",
      "\u001b[35m3. Add/remove features\u001b[0m\n",
      "\u001b[35m4. Change your hyperparameter to avoid overfitting\u001b[0m\n"
     ]
    },
    {
     "name": "stdin",
     "output_type": "stream",
     "text": [
      "Choose one correct answer 4\n"
     ]
    },
    {
     "name": "stdout",
     "output_type": "stream",
     "text": [
      "Correct!\n",
      "\n",
      "\u001b[34mQIV. Select all scenarios that are examples of supervised learning\u001b[0m\n",
      "\u001b[35m1. An infant, unable to speak, but forming concepts of ‘r’ or ‘l’ sounds based on the grouping of similar sounds over time.\u001b[0m\n",
      "\u001b[35m2. Predicting a buyer's chance of clicking on an online advertisement based on the previous behavior of similar online shoppers.\u001b[0m\n",
      "\u001b[35m3. Netflix using their database of user ratings to predict how you would rate a movie you haven’t seen\u001b[0m\n",
      "\u001b[35m4. Using the nucleotide sequences on a region of non-coding dna shared among species to estimate a phylogenetic tree.\u001b[0m\n"
     ]
    },
    {
     "name": "stdin",
     "output_type": "stream",
     "text": [
      "Choose multiple answers 23\n"
     ]
    },
    {
     "name": "stdout",
     "output_type": "stream",
     "text": [
      "Correct!\n",
      "\n",
      "\u001b[34mQV. In Q learning, you are updating the action value function, but there are two parameters which control the manner in which this updating occurs\u001b[0m\n",
      "\u001b[35m1. Regularization strength (lamda)\u001b[0m\n",
      "\u001b[35m2. Temporal discounting (gamma)\u001b[0m\n",
      "\u001b[35m3. Maximum estimation error (epsilon)\u001b[0m\n",
      "\u001b[35m4. Learning rate (alpha)\u001b[0m\n"
     ]
    },
    {
     "name": "stdin",
     "output_type": "stream",
     "text": [
      "Choose multiple answers 24\n"
     ]
    },
    {
     "name": "stdout",
     "output_type": "stream",
     "text": [
      "Correct!\n",
      "\n",
      "\u001b[34mQVI. cross-validation will lead to lower accuracies than expected with the full training set because only (K-1)/K % of the data is being used for training (e.g. 4/5ths for K=5). The way to improve this is by increasing K. But what is a problem with increasing K?\u001b[0m\n",
      "\u001b[35m1. The separated test set is getting small and may bias results of the cross-validation\u001b[0m\n",
      "\u001b[35m2. K models have to be trained which takes more time as k increases\u001b[0m\n",
      "\u001b[35m3. The number of samples in the data set may not be perfectly divisible by k\u001b[0m\n"
     ]
    },
    {
     "name": "stdin",
     "output_type": "stream",
     "text": [
      "Choose one correct answer 56\n",
      "You have an invalid answer, please choose again 2\n"
     ]
    },
    {
     "ename": "TypeError",
     "evalue": "'>' not supported between instances of 'str' and 'int'",
     "output_type": "error",
     "traceback": [
      "\u001b[1;31m---------------------------------------------------------------------------\u001b[0m",
      "\u001b[1;31mTypeError\u001b[0m                                 Traceback (most recent call last)",
      "\u001b[1;32m~\\AppData\\Local\\Temp/ipykernel_4724/403875924.py\u001b[0m in \u001b[0;36m<module>\u001b[1;34m\u001b[0m\n\u001b[0;32m      2\u001b[0m \u001b[0mdoc\u001b[0m \u001b[1;33m=\u001b[0m \u001b[0mread_a_file\u001b[0m\u001b[1;33m(\u001b[0m\u001b[0mfile_name\u001b[0m\u001b[1;33m,\u001b[0m \u001b[0mgeneral_choice_pattern\u001b[0m\u001b[1;33m=\u001b[0m\u001b[1;34mr'^\\s*-\\s*\\[\\s*\\w*\\s*\\]\\s*'\u001b[0m\u001b[1;33m,\u001b[0m \u001b[0mcorrect_choice_pattern\u001b[0m\u001b[1;33m=\u001b[0m\u001b[1;34mr'^\\s*-\\s*\\[\\s*\\w\\s*\\]\\s*'\u001b[0m\u001b[1;33m)\u001b[0m\u001b[1;33m\u001b[0m\u001b[1;33m\u001b[0m\u001b[0m\n\u001b[0;32m      3\u001b[0m \u001b[0mcreate_a_nicer_file\u001b[0m\u001b[1;33m(\u001b[0m\u001b[0mdoc\u001b[0m\u001b[1;33m,\u001b[0m \u001b[0mfile_name\u001b[0m\u001b[1;33m.\u001b[0m\u001b[0msplit\u001b[0m\u001b[1;33m(\u001b[0m\u001b[1;34m\".\"\u001b[0m\u001b[1;33m,\u001b[0m \u001b[1;36m1\u001b[0m\u001b[1;33m)\u001b[0m\u001b[1;33m[\u001b[0m\u001b[1;36m0\u001b[0m\u001b[1;33m]\u001b[0m \u001b[1;33m+\u001b[0m \u001b[1;34m\".txt\"\u001b[0m\u001b[1;33m)\u001b[0m\u001b[1;33m\u001b[0m\u001b[1;33m\u001b[0m\u001b[0m\n\u001b[1;32m----> 4\u001b[1;33m \u001b[0mdoc\u001b[0m\u001b[1;33m.\u001b[0m\u001b[0mlearn\u001b[0m\u001b[1;33m(\u001b[0m\u001b[1;33m)\u001b[0m\u001b[1;33m\u001b[0m\u001b[1;33m\u001b[0m\u001b[0m\n\u001b[0m",
      "\u001b[1;32m~\\AppData\\Local\\Temp/ipykernel_4724/1287832591.py\u001b[0m in \u001b[0;36mlearn\u001b[1;34m(self)\u001b[0m\n\u001b[0;32m     42\u001b[0m             \u001b[1;32melse\u001b[0m\u001b[1;33m:\u001b[0m\u001b[1;33m\u001b[0m\u001b[1;33m\u001b[0m\u001b[0m\n\u001b[0;32m     43\u001b[0m                 \u001b[0mans\u001b[0m \u001b[1;33m=\u001b[0m \u001b[0mint\u001b[0m\u001b[1;33m(\u001b[0m\u001b[0minput\u001b[0m\u001b[1;33m(\u001b[0m\u001b[1;34m\"Choose one correct answer\"\u001b[0m\u001b[1;33m)\u001b[0m\u001b[1;33m)\u001b[0m\u001b[1;33m\u001b[0m\u001b[1;33m\u001b[0m\u001b[0m\n\u001b[1;32m---> 44\u001b[1;33m                 \u001b[1;32mwhile\u001b[0m \u001b[0mans\u001b[0m \u001b[1;33m>\u001b[0m \u001b[0mlen\u001b[0m\u001b[1;33m(\u001b[0m\u001b[0mflash\u001b[0m\u001b[1;33m.\u001b[0m\u001b[0mchoices\u001b[0m\u001b[1;33m)\u001b[0m\u001b[1;33m:\u001b[0m\u001b[1;33m\u001b[0m\u001b[1;33m\u001b[0m\u001b[0m\n\u001b[0m\u001b[0;32m     45\u001b[0m                      \u001b[0mans\u001b[0m \u001b[1;33m=\u001b[0m \u001b[0minput\u001b[0m\u001b[1;33m(\u001b[0m\u001b[1;34m'You have an invalid answer, please choose again'\u001b[0m\u001b[1;33m)\u001b[0m\u001b[1;33m\u001b[0m\u001b[1;33m\u001b[0m\u001b[0m\n\u001b[0;32m     46\u001b[0m                 \u001b[0manswers\u001b[0m\u001b[1;33m.\u001b[0m\u001b[0mappend\u001b[0m\u001b[1;33m(\u001b[0m\u001b[0mflash\u001b[0m\u001b[1;33m.\u001b[0m\u001b[0mchoices\u001b[0m\u001b[1;33m[\u001b[0m\u001b[0mans\u001b[0m \u001b[1;33m-\u001b[0m \u001b[1;36m1\u001b[0m\u001b[1;33m]\u001b[0m\u001b[1;33m)\u001b[0m\u001b[1;33m\u001b[0m\u001b[1;33m\u001b[0m\u001b[0m\n",
      "\u001b[1;31mTypeError\u001b[0m: '>' not supported between instances of 'str' and 'int'"
     ]
    }
   ],
   "source": [
    "file_name = \"5215.txt\"\n",
    "doc = read_a_file(file_name, general_choice_pattern=r'^\\s*-\\s*\\[\\s*\\w*\\s*\\]\\s*', correct_choice_pattern=r'^\\s*-\\s*\\[\\s*\\w\\s*\\]\\s*')\n",
    "create_a_nicer_file(doc, file_name.split(\".\", 1)[0] + \".txt\")\n",
    "doc.learn()"
   ]
  }
 ],
 "metadata": {
  "kernelspec": {
   "display_name": "Python 3 (ipykernel)",
   "language": "python",
   "name": "python3"
  },
  "language_info": {
   "codemirror_mode": {
    "name": "ipython",
    "version": 3
   },
   "file_extension": ".py",
   "mimetype": "text/x-python",
   "name": "python",
   "nbconvert_exporter": "python",
   "pygments_lexer": "ipython3",
   "version": "3.9.7"
  }
 },
 "nbformat": 4,
 "nbformat_minor": 5
}
