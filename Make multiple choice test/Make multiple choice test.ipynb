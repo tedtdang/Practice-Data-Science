{
 "cells": [
  {
   "cell_type": "code",
   "execution_count": 1,
   "id": "pleasant-manchester",
   "metadata": {},
   "outputs": [],
   "source": [
    "from dataclasses import dataclass\n",
    "import re\n",
    "\n",
    "\n",
    "@dataclass  # This decorator helps save time from initializing constructor\n",
    "class Flash_card:\n",
    "    \"\"\"This contains a question, its demonstration, possible choices, and correct answers out of the choices\"\"\"\n",
    "\n",
    "    question: str\n",
    "    choices: list\n",
    "    correct_choices: list\n",
    "    demo: str = None\n",
    "\n",
    "    # Shuffle all choices\n",
    "    def shuffle_choices(self):\n",
    "        np.random.shuffle(self.choices)"
   ]
  },
  {
   "cell_type": "code",
   "execution_count": 2,
   "id": "abroad-timing",
   "metadata": {},
   "outputs": [],
   "source": [
    "from termcolor import colored\n",
    "import numpy as np\n",
    "\n",
    "\n",
    "class Folder:\n",
    "    \"\"\"This contains multiple flash cards\"\"\"\n",
    "\n",
    "    my_flash = list()\n",
    "    correct: int = 0\n",
    "\n",
    "    def total_score(self):\n",
    "        \"\"\"This prints the percentage of correct answers\"\"\"\n",
    "        try:\n",
    "            print(f\"You get {self.correct * 100 / len(self.my_flash):.2f}%\")\n",
    "        except:\n",
    "            print(\"You have to have at least one question\")\n",
    "\n",
    "    def learn(self):\n",
    "        \"\"\"The user chooses correct answer(s) by typing a, b, c, etc. (lower case) and hit enter\"\"\"\n",
    "        # Shuffle order of questions\n",
    "        np.random.shuffle(self.my_flash)\n",
    "        for i, flash in enumerate(self.my_flash, 1):\n",
    "            print(colored(f\"Q{i}. {flash.question}\", \"blue\"))  # Print question\n",
    "            if flash.demo:\n",
    "                print(flash.demo.strip())  # Print question demonstration\n",
    "            # Shuffle choices\n",
    "            flash.shuffle_choices()\n",
    "            for index, c in enumerate(flash.choices):\n",
    "                print(\n",
    "                    colored(f\"{chr(index + 97)}. {c}\", \"magenta\")\n",
    "                )  # Print possible choices\n",
    "            answers = []\n",
    "            if len(flash.correct_choices) > 1:\n",
    "                answer = input(\n",
    "                    \"Choose muitiple answers as followings: a(space)b(space)c \"\n",
    "                )\n",
    "                for a in answer.split():\n",
    "                    answers.append(flash.choices[ord(a) - 97])\n",
    "            else:\n",
    "                ans = input(\"Choose one correct answer\")\n",
    "                answers.append(flash.choices[ord(ans) - 97])\n",
    "            if sorted(answers) == sorted(flash.correct_choices):  # Correct answer(s)\n",
    "                print(\"Correct!\")\n",
    "                self.correct += 1\n",
    "            else:  # Incorrect answer(s)\n",
    "                print(colored(f\"Wrong! Correct choice should be: \", \"yellow\"), end=\"\")\n",
    "                print(colored(\"\\n\".join(flash.correct_choices), \"red\"))\n",
    "            print()\n",
    "        self.total_score()"
   ]
  },
  {
   "cell_type": "code",
   "execution_count": 3,
   "id": "sticky-honolulu",
   "metadata": {},
   "outputs": [],
   "source": [
    "def read_a_file(file_path: str, general_choice_pattern: str, correct_choice_pattern: str) -> Folder:\n",
    "    \"\"\"This reads a text file and returns a Folder instance\"\"\"\n",
    "    doc = Folder()\n",
    "    with open(file_path, \"r\") as f:\n",
    "        q, demo, correct_choices, choices = \"\", \"\", [], []\n",
    "        for line in f:\n",
    "            correct = re.match(correct_choice_pattern, line)\n",
    "            regular = re.match(general_choice_pattern, line)\n",
    "            # print(f'line: {line}')\n",
    "            # Read multiple-lined questions\n",
    "            if not regular:\n",
    "                q += line\n",
    "                # print(f'not regular, q: {q}')\n",
    "            else:\n",
    "                # print(f'regular, neat q: {q}')\n",
    "                if correct:  # Get correct choices\n",
    "                    correct_choice = line[correct.end():].strip()\n",
    "                    correct_choices.append(correct_choice)\n",
    "                    # Any way, the regular choice is added\n",
    "                    choices.append(correct_choice)\n",
    "                    # print(f'correct_choice: {correct_choice}')\n",
    "                else:  # Get incorrect choices\n",
    "                    regular_choice = line[regular.end():].strip()\n",
    "                    # print(f'incorrect_choice: {regular_choice}')\n",
    "                    choices.append(regular_choice)\n",
    "            if line in ['\\n', '\\r\\n']:\n",
    "                # Extract the question\n",
    "                # print(f'q before split: {q}')\n",
    "                q = q.split(' ', 1)[-1]\n",
    "                # print(f'q after split: {q}')\n",
    "                q = q.replace('\\n', '').strip()\n",
    "                # print(f'q after replace: {q}')\n",
    "                a_flash_card = Flash_card(\n",
    "                    question=q,\n",
    "                    choices=choices,\n",
    "                    correct_choices=correct_choices,\n",
    "                )\n",
    "                doc.my_flash.append(a_flash_card)\n",
    "                # print(f'question: {q}')\n",
    "                # print(f'answers: {choices}')\n",
    "                # print(f'correct answer: {correct_choices}')\n",
    "                # print()\n",
    "                q, demo, correct_choices, choices = \"\", \"\", [], []\n",
    "    return doc"
   ]
  },
  {
   "cell_type": "code",
   "execution_count": 4,
   "id": "suspended-philip",
   "metadata": {},
   "outputs": [],
   "source": [
    "def create_a_nicer_file(doc: Folder, filename: str):\n",
    "    \"\"\"\n",
    "    This is to create a nicer Q&A file name from doc a Folder instance\n",
    "    \"\"\"\n",
    "    with open(str(filename), \"w\") as f:\n",
    "        for i, flash in enumerate(doc.my_flash, 1):\n",
    "            f.write(f\"####Q{i}. {flash.question}\\n\")  # Write question\n",
    "            if flash.demo:  # Write demo if it exists\n",
    "                f.write(flash.demo)\n",
    "            for choice in flash.choices:\n",
    "                if choice in flash.correct_choices:\n",
    "                    f.write(f\"- [x] {choice}\\n\")\n",
    "                else:\n",
    "                    f.write(f\"- [ ] {choice}\\n\")\n",
    "            f.write(\"\\n\")"
   ]
  },
  {
   "cell_type": "code",
   "execution_count": null,
   "id": "impossible-travel",
   "metadata": {
    "tags": []
   },
   "outputs": [
    {
     "name": "stdout",
     "output_type": "stream",
     "text": [
      "\u001b[34mQ1. The Q in Q-learning for reinforcement learning is best described as\u001b[0m\n",
      "\u001b[35ma. The discount factor\u001b[0m\n",
      "\u001b[35mb. The sum of future expected rewards\u001b[0m\n",
      "\u001b[35mc. The reward signal from the environment\u001b[0m\n",
      "\u001b[35md. the reward prediction error quotient\u001b[0m\n"
     ]
    },
    {
     "name": "stdin",
     "output_type": "stream",
     "text": [
      "Choose one correct answer b\n"
     ]
    },
    {
     "name": "stdout",
     "output_type": "stream",
     "text": [
      "Correct!\n",
      "\n",
      "\u001b[34mQ2. Check the scenario where density-based clustering algorithms like DBSCAN are expected to outperform K-means\u001b[0m\n",
      "\u001b[35ma. When the clusters would share the same center-point, such as two concentric circles\u001b[0m\n",
      "\u001b[35mb. When the clusters are well represented by spheres\u001b[0m\n",
      "\u001b[35mc. When we know exactly how many clusters to expect\u001b[0m\n"
     ]
    },
    {
     "name": "stdin",
     "output_type": "stream",
     "text": [
      "Choose one correct answer a\n"
     ]
    },
    {
     "name": "stdout",
     "output_type": "stream",
     "text": [
      "Correct!\n",
      "\n",
      "\u001b[34mQ3. Two child nodes of the same parent are independent until the parent node is observed, which then introduces a dependency.\u001b[0m\n",
      "\u001b[35ma. False\u001b[0m\n",
      "\u001b[35mb. True\u001b[0m\n"
     ]
    },
    {
     "name": "stdin",
     "output_type": "stream",
     "text": [
      "Choose one correct answer b\n"
     ]
    },
    {
     "name": "stdout",
     "output_type": "stream",
     "text": [
      "\u001b[33mWrong! Correct choice should be: \u001b[0m\u001b[31mFalse\u001b[0m\n",
      "\n",
      "\u001b[34mQ4. Assuming the value of B is observed (\"known\"), in which of the graphs would the value of node A now depend upon the value of node C.\u001b[0m\n",
      "\u001b[35ma. A <-- B --> C\u001b[0m\n",
      "\u001b[35mb. A --> B <-- C\u001b[0m\n",
      "\u001b[35mc. A --> B --> C\u001b[0m\n",
      "\u001b[35md. A <-- B <-- C\u001b[0m\n"
     ]
    }
   ],
   "source": [
    "file_name = \"5215.txt\"\n",
    "doc = read_a_file(file_name, general_choice_pattern=r'^\\s*-\\s*\\[\\s*\\w*\\s*\\]\\s*', correct_choice_pattern=r'^\\s*-\\s*\\[\\s*\\w\\s*\\]\\s*')\n",
    "create_a_nicer_file(doc, file_name.split(\".\", 1)[0] + \".txt\")\n",
    "doc.learn()"
   ]
  }
 ],
 "metadata": {
  "kernelspec": {
   "display_name": "Python 3 (ipykernel)",
   "language": "python",
   "name": "python3"
  },
  "language_info": {
   "codemirror_mode": {
    "name": "ipython",
    "version": 3
   },
   "file_extension": ".py",
   "mimetype": "text/x-python",
   "name": "python",
   "nbconvert_exporter": "python",
   "pygments_lexer": "ipython3",
   "version": "3.9.7"
  }
 },
 "nbformat": 4,
 "nbformat_minor": 5
}
